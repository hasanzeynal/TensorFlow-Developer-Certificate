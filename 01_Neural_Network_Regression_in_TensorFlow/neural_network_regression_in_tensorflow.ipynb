{
  "nbformat": 4,
  "nbformat_minor": 0,
  "metadata": {
    "colab": {
      "provenance": [],
      "gpuType": "T4",
      "toc_visible": true,
      "mount_file_id": "1qPU8ANIGYREss0ERQkjPgZkYngjuEOaX",
      "authorship_tag": "ABX9TyPj0fMQOp8ZnkJRoOQkHcp5",
      "include_colab_link": true
    },
    "kernelspec": {
      "name": "python3",
      "display_name": "Python 3"
    },
    "language_info": {
      "name": "python"
    },
    "accelerator": "GPU"
  },
  "cells": [
    {
      "cell_type": "markdown",
      "metadata": {
        "id": "view-in-github",
        "colab_type": "text"
      },
      "source": [
        "<a href=\"https://colab.research.google.com/github/hasanzeynal/Tensorflow-Developer-Certificate/blob/main/01_Neural_Network_Regression_in_TensorFlow/neural_network_regression_in_tensorflow.ipynb\" target=\"_parent\"><img src=\"https://colab.research.google.com/assets/colab-badge.svg\" alt=\"Open In Colab\"/></a>"
      ]
    },
    {
      "cell_type": "markdown",
      "source": [
        "# Introduction to Regression with Neural Network in TensorFlow"
      ],
      "metadata": {
        "id": "HcBnwSMj9dLo"
      }
    },
    {
      "cell_type": "code",
      "execution_count": 1,
      "metadata": {
        "id": "lgeqBHLV89Tw",
        "colab": {
          "base_uri": "https://localhost:8080/"
        },
        "outputId": "7d273da2-8ab6-45bb-9c87-c9f9070d7589"
      },
      "outputs": [
        {
          "output_type": "stream",
          "name": "stdout",
          "text": [
            "2.12.0\n"
          ]
        }
      ],
      "source": [
        "#import tensorflow\n",
        "import tensorflow as tf\n",
        "print(tf.__version__)"
      ]
    },
    {
      "cell_type": "markdown",
      "source": [
        "# Basic Neural Network Model for Regression Problem\n",
        "Then, After building our basic NN model, we are gonna try:\n",
        "* improving our model\n",
        "* evaluating\n",
        "* setting\n",
        "* saving\n",
        "* loading\n",
        "* processing with feature scalling(normalising, fitting model on a scaled data)"
      ],
      "metadata": {
        "id": "YADf_H9WbrcT"
      }
    },
    {
      "cell_type": "markdown",
      "source": [
        "## Building Basic Model in TensorFlow"
      ],
      "metadata": {
        "id": "0V3OkMVlZojC"
      }
    },
    {
      "cell_type": "markdown",
      "source": [
        "## Creating Data, So we can model it"
      ],
      "metadata": {
        "id": "GmaElyhN5BfG"
      }
    },
    {
      "cell_type": "code",
      "source": [
        "X = tf.constant([-1,1,3,5,7,9,11,13,15,17,19,21,23])\n",
        "y = tf.constant([9,11,13,15,17,19,21,23,25,27,29,31,33])  #the difference between X and y is 10"
      ],
      "metadata": {
        "id": "KO1nCYkc5Bh7"
      },
      "execution_count": 81,
      "outputs": []
    },
    {
      "cell_type": "code",
      "source": [
        "#looking for the input and output shape\n",
        "X.shape,y.shape  #just we are gonna need comma in the tensoor shape after 14 so shape is (14,)"
      ],
      "metadata": {
        "colab": {
          "base_uri": "https://localhost:8080/"
        },
        "id": "CnqbZ6Ls5Bky",
        "outputId": "94cb6181-897f-488f-b2ce-5fe9d7851ebf"
      },
      "execution_count": 82,
      "outputs": [
        {
          "output_type": "execute_result",
          "data": {
            "text/plain": [
              "(TensorShape([13]), TensorShape([13]))"
            ]
          },
          "metadata": {},
          "execution_count": 82
        }
      ]
    },
    {
      "cell_type": "markdown",
      "source": [
        "### Steps in Modelling in TensorFlow.\n",
        "1. **Creating Model** - define imput, output, hidden layers of our Deep Learning Model.\n",
        "\n",
        "2. **Compiling Model** - define the loss function(the function which tell us how wrong our model is), define optimizer(which tell us our model how improve) and evaluation metrics(we can use to interpret the performance of our model).\n",
        "\n",
        "3. Fitting Model - letting the model try to find patterns between X and y(features and labels)"
      ],
      "metadata": {
        "id": "WhGeFacUH-VR"
      }
    },
    {
      "cell_type": "code",
      "source": [
        "#change 1 rank tensoir to the 2 rank tensor\n",
        "tf.expand_dims(X,-1)"
      ],
      "metadata": {
        "colab": {
          "base_uri": "https://localhost:8080/"
        },
        "id": "Pk4fVlskERYw",
        "outputId": "30be86e8-b7c6-4721-afd1-496ced25a7d6"
      },
      "execution_count": 83,
      "outputs": [
        {
          "output_type": "execute_result",
          "data": {
            "text/plain": [
              "<tf.Tensor: shape=(13, 1), dtype=int32, numpy=\n",
              "array([[-1],\n",
              "       [ 1],\n",
              "       [ 3],\n",
              "       [ 5],\n",
              "       [ 7],\n",
              "       [ 9],\n",
              "       [11],\n",
              "       [13],\n",
              "       [15],\n",
              "       [17],\n",
              "       [19],\n",
              "       [21],\n",
              "       [23]], dtype=int32)>"
            ]
          },
          "metadata": {},
          "execution_count": 83
        }
      ]
    },
    {
      "cell_type": "code",
      "source": [
        "#creating model\n",
        "model = tf.keras.models.Sequential([\n",
        "    tf.keras.layers.Dense(1)\n",
        "])\n",
        "#adding dense layer with the 1 neuron\n",
        "#model.add(tf.keras.layers.Dense(1, input_shape = (14,)))\n",
        "#model.add(tf.keras.layers.Dense(1))\n",
        "\n",
        "#compiling the model\n",
        "model.compile(loss= tf.keras.losses.mae,  #MAE stands for the Mean Absolute Error\n",
        "              optimizer= tf.keras.optimizers.SGD(), #SGD stands for the Stochastic Gradient Error\n",
        "              metrics= ['mae'])\n",
        "\n",
        "#fitting the model\n",
        "model.fit(tf.expand_dims(X,axis = -1), y, epochs= 5)  #axis= -1 makes 2 rank tensor,1 rank tensor is caused an error"
      ],
      "metadata": {
        "id": "yW8er5QyaGOV",
        "colab": {
          "base_uri": "https://localhost:8080/"
        },
        "outputId": "0eacb7cd-5a82-40ad-df3e-d61a0a47b2d9"
      },
      "execution_count": 84,
      "outputs": [
        {
          "output_type": "stream",
          "name": "stdout",
          "text": [
            "Epoch 1/5\n",
            "1/1 [==============================] - 0s 365ms/step - loss: 23.2690 - mae: 23.2690\n",
            "Epoch 2/5\n",
            "1/1 [==============================] - 0s 10ms/step - loss: 22.0490 - mae: 22.0490\n",
            "Epoch 3/5\n",
            "1/1 [==============================] - 0s 9ms/step - loss: 20.8290 - mae: 20.8290\n",
            "Epoch 4/5\n",
            "1/1 [==============================] - 0s 17ms/step - loss: 19.6090 - mae: 19.6090\n",
            "Epoch 5/5\n",
            "1/1 [==============================] - 0s 11ms/step - loss: 18.3890 - mae: 18.3890\n"
          ]
        },
        {
          "output_type": "execute_result",
          "data": {
            "text/plain": [
              "<keras.callbacks.History at 0x7f9353119180>"
            ]
          },
          "metadata": {},
          "execution_count": 84
        }
      ]
    },
    {
      "cell_type": "code",
      "source": [],
      "metadata": {
        "id": "76EkMG_-aGLd",
        "colab": {
          "base_uri": "https://localhost:8080/"
        },
        "outputId": "0a5d33ed-f9af-486a-b9cf-60c14daf62d1"
      },
      "execution_count": 21,
      "outputs": [
        {
          "output_type": "execute_result",
          "data": {
            "text/plain": [
              "tf.int32"
            ]
          },
          "metadata": {},
          "execution_count": 21
        }
      ]
    },
    {
      "cell_type": "code",
      "source": [
        "#trying make prediction based on X for y\n",
        "model.predict([25])     #if our model is good enough, the answer would be around 35"
      ],
      "metadata": {
        "id": "UaCqUj_OaGIE",
        "colab": {
          "base_uri": "https://localhost:8080/"
        },
        "outputId": "15d4647a-9568-4e90-8812-f4b6c9ce34ee"
      },
      "execution_count": 86,
      "outputs": [
        {
          "output_type": "stream",
          "name": "stdout",
          "text": [
            "1/1 [==============================] - 0s 50ms/step\n"
          ]
        },
        {
          "output_type": "execute_result",
          "data": {
            "text/plain": [
              "array([[8.643126]], dtype=float32)"
            ]
          },
          "metadata": {},
          "execution_count": 86
        }
      ]
    },
    {
      "cell_type": "markdown",
      "source": [
        "## Improving our model"
      ],
      "metadata": {
        "id": "I3BISrqHaGFN"
      }
    },
    {
      "cell_type": "markdown",
      "source": [
        "### Creating new model to improve our result"
      ],
      "metadata": {
        "id": "eTG6CxboaGCF"
      }
    },
    {
      "cell_type": "code",
      "source": [
        "from sklearn.model_selection import train_test_split\n",
        "import numpy as np\n",
        "X = np.array(X)\n",
        "y = np.array(y)\n",
        "X_train,X_test,y_train,y_test= train_test_split(X,y,test_size = 0.2,random_state = True)"
      ],
      "metadata": {
        "id": "81JNqwc8NMxl"
      },
      "execution_count": 87,
      "outputs": []
    },
    {
      "cell_type": "code",
      "source": [
        "#create a model(specified to your probelm)\n",
        "improved_model = tf.keras.models.Sequential([\n",
        "    tf.keras.layers.Dense(100,activation = 'relu'),\n",
        "    tf.keras.layers.Dense(100,activation = 'relu'),\n",
        "    tf.keras.layers.Dense(1)\n",
        "])\n",
        "\n",
        "#compile model\n",
        "improved_model.compile(loss = tf.keras.losses.mae,\n",
        "                       optimizer = tf.keras.optimizers.Adam(lr = 0.0001),\n",
        "                       metrics = ['mae'])\n",
        "\n",
        "#fit the model with the subset of X and y and 100 epochs\n",
        "improved_model.fit(tf.expand_dims(X_train,axis= 1),y_train,epochs = 100)"
      ],
      "metadata": {
        "id": "FRHGSeUGaF_O",
        "colab": {
          "base_uri": "https://localhost:8080/"
        },
        "outputId": "ecfef61c-d650-4f91-c9cc-459091f6b08a"
      },
      "execution_count": 88,
      "outputs": [
        {
          "output_type": "stream",
          "name": "stderr",
          "text": [
            "WARNING:absl:`lr` is deprecated in Keras optimizer, please use `learning_rate` or use the legacy optimizer, e.g.,tf.keras.optimizers.legacy.Adam.\n"
          ]
        },
        {
          "output_type": "stream",
          "name": "stdout",
          "text": [
            "Epoch 1/100\n",
            "1/1 [==============================] - 1s 1s/step - loss: 23.7662 - mae: 23.7662\n",
            "Epoch 2/100\n",
            "1/1 [==============================] - 0s 16ms/step - loss: 23.4822 - mae: 23.4822\n",
            "Epoch 3/100\n",
            "1/1 [==============================] - 0s 12ms/step - loss: 23.1962 - mae: 23.1962\n",
            "Epoch 4/100\n",
            "1/1 [==============================] - 0s 10ms/step - loss: 22.9113 - mae: 22.9113\n",
            "Epoch 5/100\n",
            "1/1 [==============================] - 0s 10ms/step - loss: 22.6325 - mae: 22.6325\n",
            "Epoch 6/100\n",
            "1/1 [==============================] - 0s 10ms/step - loss: 22.3642 - mae: 22.3642\n",
            "Epoch 7/100\n",
            "1/1 [==============================] - 0s 10ms/step - loss: 22.0940 - mae: 22.0940\n",
            "Epoch 8/100\n",
            "1/1 [==============================] - 0s 10ms/step - loss: 21.8321 - mae: 21.8321\n",
            "Epoch 9/100\n",
            "1/1 [==============================] - 0s 10ms/step - loss: 21.5730 - mae: 21.5730\n",
            "Epoch 10/100\n",
            "1/1 [==============================] - 0s 10ms/step - loss: 21.3297 - mae: 21.3297\n",
            "Epoch 11/100\n",
            "1/1 [==============================] - 0s 11ms/step - loss: 21.1094 - mae: 21.1094\n",
            "Epoch 12/100\n",
            "1/1 [==============================] - 0s 10ms/step - loss: 20.8760 - mae: 20.8760\n",
            "Epoch 13/100\n",
            "1/1 [==============================] - 0s 15ms/step - loss: 20.6399 - mae: 20.6399\n",
            "Epoch 14/100\n",
            "1/1 [==============================] - 0s 12ms/step - loss: 20.3966 - mae: 20.3966\n",
            "Epoch 15/100\n",
            "1/1 [==============================] - 0s 12ms/step - loss: 20.1522 - mae: 20.1522\n",
            "Epoch 16/100\n",
            "1/1 [==============================] - 0s 13ms/step - loss: 19.9095 - mae: 19.9095\n",
            "Epoch 17/100\n",
            "1/1 [==============================] - 0s 14ms/step - loss: 19.6608 - mae: 19.6608\n",
            "Epoch 18/100\n",
            "1/1 [==============================] - 0s 14ms/step - loss: 19.4058 - mae: 19.4058\n",
            "Epoch 19/100\n",
            "1/1 [==============================] - 0s 14ms/step - loss: 19.1447 - mae: 19.1447\n",
            "Epoch 20/100\n",
            "1/1 [==============================] - 0s 12ms/step - loss: 18.8910 - mae: 18.8910\n",
            "Epoch 21/100\n",
            "1/1 [==============================] - 0s 12ms/step - loss: 18.6382 - mae: 18.6382\n",
            "Epoch 22/100\n",
            "1/1 [==============================] - 0s 12ms/step - loss: 18.3789 - mae: 18.3789\n",
            "Epoch 23/100\n",
            "1/1 [==============================] - 0s 10ms/step - loss: 18.1218 - mae: 18.1218\n",
            "Epoch 24/100\n",
            "1/1 [==============================] - 0s 17ms/step - loss: 17.8641 - mae: 17.8641\n",
            "Epoch 25/100\n",
            "1/1 [==============================] - 0s 13ms/step - loss: 17.5979 - mae: 17.5979\n",
            "Epoch 26/100\n",
            "1/1 [==============================] - 0s 11ms/step - loss: 17.3228 - mae: 17.3228\n",
            "Epoch 27/100\n",
            "1/1 [==============================] - 0s 12ms/step - loss: 17.0387 - mae: 17.0387\n",
            "Epoch 28/100\n",
            "1/1 [==============================] - 0s 13ms/step - loss: 16.7450 - mae: 16.7450\n",
            "Epoch 29/100\n",
            "1/1 [==============================] - 0s 12ms/step - loss: 16.4399 - mae: 16.4399\n",
            "Epoch 30/100\n",
            "1/1 [==============================] - 0s 12ms/step - loss: 16.1242 - mae: 16.1242\n",
            "Epoch 31/100\n",
            "1/1 [==============================] - 0s 11ms/step - loss: 15.7954 - mae: 15.7954\n",
            "Epoch 32/100\n",
            "1/1 [==============================] - 0s 11ms/step - loss: 15.4544 - mae: 15.4544\n",
            "Epoch 33/100\n",
            "1/1 [==============================] - 0s 11ms/step - loss: 15.1007 - mae: 15.1007\n",
            "Epoch 34/100\n",
            "1/1 [==============================] - 0s 11ms/step - loss: 14.7341 - mae: 14.7341\n",
            "Epoch 35/100\n",
            "1/1 [==============================] - 0s 12ms/step - loss: 14.3544 - mae: 14.3544\n",
            "Epoch 36/100\n",
            "1/1 [==============================] - 0s 15ms/step - loss: 13.9611 - mae: 13.9611\n",
            "Epoch 37/100\n",
            "1/1 [==============================] - 0s 12ms/step - loss: 13.5539 - mae: 13.5539\n",
            "Epoch 38/100\n",
            "1/1 [==============================] - 0s 13ms/step - loss: 13.1322 - mae: 13.1322\n",
            "Epoch 39/100\n",
            "1/1 [==============================] - 0s 13ms/step - loss: 12.6957 - mae: 12.6957\n",
            "Epoch 40/100\n",
            "1/1 [==============================] - 0s 13ms/step - loss: 12.2439 - mae: 12.2439\n",
            "Epoch 41/100\n",
            "1/1 [==============================] - 0s 11ms/step - loss: 11.7763 - mae: 11.7763\n",
            "Epoch 42/100\n",
            "1/1 [==============================] - 0s 14ms/step - loss: 11.2923 - mae: 11.2923\n",
            "Epoch 43/100\n",
            "1/1 [==============================] - 0s 12ms/step - loss: 10.7916 - mae: 10.7916\n",
            "Epoch 44/100\n",
            "1/1 [==============================] - 0s 12ms/step - loss: 10.2735 - mae: 10.2735\n",
            "Epoch 45/100\n",
            "1/1 [==============================] - 0s 11ms/step - loss: 9.7376 - mae: 9.7376\n",
            "Epoch 46/100\n",
            "1/1 [==============================] - 0s 13ms/step - loss: 9.1834 - mae: 9.1834\n",
            "Epoch 47/100\n",
            "1/1 [==============================] - 0s 11ms/step - loss: 8.6102 - mae: 8.6102\n",
            "Epoch 48/100\n",
            "1/1 [==============================] - 0s 11ms/step - loss: 8.0110 - mae: 8.0110\n",
            "Epoch 49/100\n",
            "1/1 [==============================] - 0s 11ms/step - loss: 7.3900 - mae: 7.3900\n",
            "Epoch 50/100\n",
            "1/1 [==============================] - 0s 10ms/step - loss: 6.7461 - mae: 6.7461\n",
            "Epoch 51/100\n",
            "1/1 [==============================] - 0s 11ms/step - loss: 6.0792 - mae: 6.0792\n",
            "Epoch 52/100\n",
            "1/1 [==============================] - 0s 12ms/step - loss: 5.3806 - mae: 5.3806\n",
            "Epoch 53/100\n",
            "1/1 [==============================] - 0s 12ms/step - loss: 4.6552 - mae: 4.6552\n",
            "Epoch 54/100\n",
            "1/1 [==============================] - 0s 12ms/step - loss: 3.9016 - mae: 3.9016\n",
            "Epoch 55/100\n",
            "1/1 [==============================] - 0s 11ms/step - loss: 3.3929 - mae: 3.3929\n",
            "Epoch 56/100\n",
            "1/1 [==============================] - 0s 11ms/step - loss: 3.2159 - mae: 3.2159\n",
            "Epoch 57/100\n",
            "1/1 [==============================] - 0s 11ms/step - loss: 3.2360 - mae: 3.2360\n",
            "Epoch 58/100\n",
            "1/1 [==============================] - 0s 12ms/step - loss: 3.3622 - mae: 3.3622\n",
            "Epoch 59/100\n",
            "1/1 [==============================] - 0s 11ms/step - loss: 3.5721 - mae: 3.5721\n",
            "Epoch 60/100\n",
            "1/1 [==============================] - 0s 11ms/step - loss: 3.7571 - mae: 3.7571\n",
            "Epoch 61/100\n",
            "1/1 [==============================] - 0s 12ms/step - loss: 3.8961 - mae: 3.8961\n",
            "Epoch 62/100\n",
            "1/1 [==============================] - 0s 13ms/step - loss: 4.0403 - mae: 4.0403\n",
            "Epoch 63/100\n",
            "1/1 [==============================] - 0s 11ms/step - loss: 4.1118 - mae: 4.1118\n",
            "Epoch 64/100\n",
            "1/1 [==============================] - 0s 12ms/step - loss: 4.1169 - mae: 4.1169\n",
            "Epoch 65/100\n",
            "1/1 [==============================] - 0s 12ms/step - loss: 4.0631 - mae: 4.0631\n",
            "Epoch 66/100\n",
            "1/1 [==============================] - 0s 11ms/step - loss: 3.9579 - mae: 3.9579\n",
            "Epoch 67/100\n",
            "1/1 [==============================] - 0s 12ms/step - loss: 3.8226 - mae: 3.8226\n",
            "Epoch 68/100\n",
            "1/1 [==============================] - 0s 15ms/step - loss: 3.6666 - mae: 3.6666\n",
            "Epoch 69/100\n",
            "1/1 [==============================] - 0s 14ms/step - loss: 3.5209 - mae: 3.5209\n",
            "Epoch 70/100\n",
            "1/1 [==============================] - 0s 12ms/step - loss: 3.3583 - mae: 3.3583\n",
            "Epoch 71/100\n",
            "1/1 [==============================] - 0s 11ms/step - loss: 3.1905 - mae: 3.1905\n",
            "Epoch 72/100\n",
            "1/1 [==============================] - 0s 13ms/step - loss: 3.0865 - mae: 3.0865\n",
            "Epoch 73/100\n",
            "1/1 [==============================] - 0s 12ms/step - loss: 2.9959 - mae: 2.9959\n",
            "Epoch 74/100\n",
            "1/1 [==============================] - 0s 10ms/step - loss: 2.9069 - mae: 2.9069\n",
            "Epoch 75/100\n",
            "1/1 [==============================] - 0s 13ms/step - loss: 2.8863 - mae: 2.8863\n",
            "Epoch 76/100\n",
            "1/1 [==============================] - 0s 11ms/step - loss: 2.8753 - mae: 2.8753\n",
            "Epoch 77/100\n",
            "1/1 [==============================] - 0s 12ms/step - loss: 2.8654 - mae: 2.8654\n",
            "Epoch 78/100\n",
            "1/1 [==============================] - 0s 12ms/step - loss: 2.9015 - mae: 2.9015\n",
            "Epoch 79/100\n",
            "1/1 [==============================] - 0s 12ms/step - loss: 2.9201 - mae: 2.9201\n",
            "Epoch 80/100\n",
            "1/1 [==============================] - 0s 10ms/step - loss: 2.9230 - mae: 2.9230\n",
            "Epoch 81/100\n",
            "1/1 [==============================] - 0s 14ms/step - loss: 2.9118 - mae: 2.9118\n",
            "Epoch 82/100\n",
            "1/1 [==============================] - 0s 14ms/step - loss: 2.8878 - mae: 2.8878\n",
            "Epoch 83/100\n",
            "1/1 [==============================] - 0s 13ms/step - loss: 2.8521 - mae: 2.8521\n",
            "Epoch 84/100\n",
            "1/1 [==============================] - 0s 12ms/step - loss: 2.8055 - mae: 2.8055\n",
            "Epoch 85/100\n",
            "1/1 [==============================] - 0s 11ms/step - loss: 2.7470 - mae: 2.7470\n",
            "Epoch 86/100\n",
            "1/1 [==============================] - 0s 12ms/step - loss: 2.6789 - mae: 2.6789\n",
            "Epoch 87/100\n",
            "1/1 [==============================] - 0s 13ms/step - loss: 2.6133 - mae: 2.6133\n",
            "Epoch 88/100\n",
            "1/1 [==============================] - 0s 13ms/step - loss: 2.6101 - mae: 2.6101\n",
            "Epoch 89/100\n",
            "1/1 [==============================] - 0s 12ms/step - loss: 2.6239 - mae: 2.6239\n",
            "Epoch 90/100\n",
            "1/1 [==============================] - 0s 12ms/step - loss: 2.6329 - mae: 2.6329\n",
            "Epoch 91/100\n",
            "1/1 [==============================] - 0s 11ms/step - loss: 2.6376 - mae: 2.6376\n",
            "Epoch 92/100\n",
            "1/1 [==============================] - 0s 13ms/step - loss: 2.6383 - mae: 2.6383\n",
            "Epoch 93/100\n",
            "1/1 [==============================] - 0s 13ms/step - loss: 2.6453 - mae: 2.6453\n",
            "Epoch 94/100\n",
            "1/1 [==============================] - 0s 12ms/step - loss: 2.6568 - mae: 2.6568\n",
            "Epoch 95/100\n",
            "1/1 [==============================] - 0s 12ms/step - loss: 2.6571 - mae: 2.6571\n",
            "Epoch 96/100\n",
            "1/1 [==============================] - 0s 11ms/step - loss: 2.6473 - mae: 2.6473\n",
            "Epoch 97/100\n",
            "1/1 [==============================] - 0s 12ms/step - loss: 2.6286 - mae: 2.6286\n",
            "Epoch 98/100\n",
            "1/1 [==============================] - 0s 11ms/step - loss: 2.6022 - mae: 2.6022\n",
            "Epoch 99/100\n",
            "1/1 [==============================] - 0s 12ms/step - loss: 2.5845 - mae: 2.5845\n",
            "Epoch 100/100\n",
            "1/1 [==============================] - 0s 13ms/step - loss: 2.5716 - mae: 2.5716\n"
          ]
        },
        {
          "output_type": "execute_result",
          "data": {
            "text/plain": [
              "<keras.callbacks.History at 0x7f935311a650>"
            ]
          },
          "metadata": {},
          "execution_count": 88
        }
      ]
    },
    {
      "cell_type": "code",
      "source": [
        "#let's see the result by doing prediction in the same way as we did before on 'model'\n",
        "improved_model.predict([21])     #so much closer as you see, better and more usefull"
      ],
      "metadata": {
        "id": "cR0fUdDRaF8W",
        "colab": {
          "base_uri": "https://localhost:8080/"
        },
        "outputId": "08087880-b8fc-4f53-eac8-4e1ac784533a"
      },
      "execution_count": 89,
      "outputs": [
        {
          "output_type": "stream",
          "name": "stdout",
          "text": [
            "1/1 [==============================] - 0s 104ms/step\n"
          ]
        },
        {
          "output_type": "execute_result",
          "data": {
            "text/plain": [
              "array([[32.815945]], dtype=float32)"
            ]
          },
          "metadata": {},
          "execution_count": 89
        }
      ]
    },
    {
      "cell_type": "code",
      "source": [],
      "metadata": {
        "id": "qH7IqXRAaF5z"
      },
      "execution_count": 78,
      "outputs": []
    },
    {
      "cell_type": "code",
      "source": [],
      "metadata": {
        "id": "X8x6hQODaFxO"
      },
      "execution_count": null,
      "outputs": []
    }
  ]
}