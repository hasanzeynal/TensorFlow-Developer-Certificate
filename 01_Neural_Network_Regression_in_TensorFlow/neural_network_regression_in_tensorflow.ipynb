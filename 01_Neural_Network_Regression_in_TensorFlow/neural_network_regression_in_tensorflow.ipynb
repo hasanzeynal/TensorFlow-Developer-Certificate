{
  "nbformat": 4,
  "nbformat_minor": 0,
  "metadata": {
    "colab": {
      "provenance": [],
      "gpuType": "T4",
      "toc_visible": true,
      "mount_file_id": "1qPU8ANIGYREss0ERQkjPgZkYngjuEOaX",
      "authorship_tag": "ABX9TyNw0T/JOn0LYhcPu+/BegP+",
      "include_colab_link": true
    },
    "kernelspec": {
      "name": "python3",
      "display_name": "Python 3"
    },
    "language_info": {
      "name": "python"
    },
    "accelerator": "GPU"
  },
  "cells": [
    {
      "cell_type": "markdown",
      "metadata": {
        "id": "view-in-github",
        "colab_type": "text"
      },
      "source": [
        "<a href=\"https://colab.research.google.com/github/hasanzeynal/Tensorflow-Developer-Certificate/blob/main/01_Neural_Network_Regression_in_TensorFlow/neural_network_regression_in_tensorflow.ipynb\" target=\"_parent\"><img src=\"https://colab.research.google.com/assets/colab-badge.svg\" alt=\"Open In Colab\"/></a>"
      ]
    },
    {
      "cell_type": "markdown",
      "source": [
        "# Introduction to Regression with Neural Network in TensorFlow"
      ],
      "metadata": {
        "id": "HcBnwSMj9dLo"
      }
    },
    {
      "cell_type": "code",
      "execution_count": 1,
      "metadata": {
        "id": "lgeqBHLV89Tw",
        "colab": {
          "base_uri": "https://localhost:8080/"
        },
        "outputId": "7d273da2-8ab6-45bb-9c87-c9f9070d7589"
      },
      "outputs": [
        {
          "output_type": "stream",
          "name": "stdout",
          "text": [
            "2.12.0\n"
          ]
        }
      ],
      "source": [
        "#import tensorflow\n",
        "import tensorflow as tf\n",
        "print(tf.__version__)"
      ]
    },
    {
      "cell_type": "markdown",
      "source": [
        "# Basic Neural Network Model for Regression Problem\n",
        "Then, After building our basic NN model, we are gonna try:\n",
        "* improving our model\n",
        "* evaluating\n",
        "* setting\n",
        "* saving\n",
        "* loading\n",
        "* processing with feature scalling(normalising, fitting model on a scaled data)"
      ],
      "metadata": {
        "id": "YADf_H9WbrcT"
      }
    },
    {
      "cell_type": "markdown",
      "source": [
        "## Building Basic Model in TensorFlow"
      ],
      "metadata": {
        "id": "0V3OkMVlZojC"
      }
    },
    {
      "cell_type": "markdown",
      "source": [
        "### Steps in Modelling in TensorFlow.\n",
        "1. **Creating Model** - define imput, output, hidden layers of our Deep Learning Model.\n",
        "\n",
        "2. **Compiling Model** - define the loss function(the function which tell us how wrong our model is), define optimizer(which tell us our model how improve) and evaluation metrics(we can use to interpret the performance of our model).\n",
        "\n",
        "3. Fitting Model - letting the model try to find patterns between X and y(features and labels)"
      ],
      "metadata": {
        "id": "WhGeFacUH-VR"
      }
    },
    {
      "cell_type": "code",
      "source": [],
      "metadata": {
        "id": "yW8er5QyaGOV"
      },
      "execution_count": null,
      "outputs": []
    },
    {
      "cell_type": "code",
      "source": [],
      "metadata": {
        "id": "76EkMG_-aGLd"
      },
      "execution_count": null,
      "outputs": []
    },
    {
      "cell_type": "code",
      "source": [],
      "metadata": {
        "id": "UaCqUj_OaGIE"
      },
      "execution_count": null,
      "outputs": []
    },
    {
      "cell_type": "code",
      "source": [],
      "metadata": {
        "id": "I3BISrqHaGFN"
      },
      "execution_count": null,
      "outputs": []
    },
    {
      "cell_type": "code",
      "source": [],
      "metadata": {
        "id": "eTG6CxboaGCF"
      },
      "execution_count": null,
      "outputs": []
    },
    {
      "cell_type": "code",
      "source": [],
      "metadata": {
        "id": "FRHGSeUGaF_O"
      },
      "execution_count": null,
      "outputs": []
    },
    {
      "cell_type": "code",
      "source": [],
      "metadata": {
        "id": "cR0fUdDRaF8W"
      },
      "execution_count": null,
      "outputs": []
    },
    {
      "cell_type": "code",
      "source": [],
      "metadata": {
        "id": "qH7IqXRAaF5z"
      },
      "execution_count": null,
      "outputs": []
    },
    {
      "cell_type": "code",
      "source": [],
      "metadata": {
        "id": "X8x6hQODaFxO"
      },
      "execution_count": null,
      "outputs": []
    }
  ]
}