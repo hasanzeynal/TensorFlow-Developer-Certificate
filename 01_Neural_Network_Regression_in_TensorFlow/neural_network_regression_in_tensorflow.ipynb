{
  "nbformat": 4,
  "nbformat_minor": 0,
  "metadata": {
    "colab": {
      "provenance": [],
      "gpuType": "T4",
      "toc_visible": true,
      "mount_file_id": "1qPU8ANIGYREss0ERQkjPgZkYngjuEOaX",
      "authorship_tag": "ABX9TyPBBs62cq0QpJkDZX2G0bdE",
      "include_colab_link": true
    },
    "kernelspec": {
      "name": "python3",
      "display_name": "Python 3"
    },
    "language_info": {
      "name": "python"
    },
    "accelerator": "GPU"
  },
  "cells": [
    {
      "cell_type": "markdown",
      "metadata": {
        "id": "view-in-github",
        "colab_type": "text"
      },
      "source": [
        "<a href=\"https://colab.research.google.com/github/hasanzeynal/Tensorflow-Developer-Certificate/blob/main/01_Neural_Network_Regression_in_TensorFlow/neural_network_regression_in_tensorflow.ipynb\" target=\"_parent\"><img src=\"https://colab.research.google.com/assets/colab-badge.svg\" alt=\"Open In Colab\"/></a>"
      ]
    },
    {
      "cell_type": "markdown",
      "source": [
        "# Introduction to Regression with Neural Network in TensorFlow"
      ],
      "metadata": {
        "id": "HcBnwSMj9dLo"
      }
    },
    {
      "cell_type": "code",
      "execution_count": 90,
      "metadata": {
        "id": "lgeqBHLV89Tw",
        "colab": {
          "base_uri": "https://localhost:8080/"
        },
        "outputId": "64a2e9a7-4c8b-4176-ca05-fe467d8ba83a"
      },
      "outputs": [
        {
          "output_type": "stream",
          "name": "stdout",
          "text": [
            "2.12.0\n"
          ]
        }
      ],
      "source": [
        "#import tensorflow\n",
        "import tensorflow as tf\n",
        "print(tf.__version__)"
      ]
    },
    {
      "cell_type": "code",
      "source": [
        "#ignore all warnings\n",
        "import warnings\n",
        "warnings.filterwarnings('ignore')"
      ],
      "metadata": {
        "id": "kJCDqgHRc765"
      },
      "execution_count": 127,
      "outputs": []
    },
    {
      "cell_type": "markdown",
      "source": [
        "# Basic Neural Network Model for Regression Problem\n",
        "Then, After building our basic NN model, we are gonna try:\n",
        "* improving our model\n",
        "* evaluating\n",
        "* setting\n",
        "* saving\n",
        "* loading\n",
        "* processing with feature scalling(normalising, fitting model on a scaled data)"
      ],
      "metadata": {
        "id": "YADf_H9WbrcT"
      }
    },
    {
      "cell_type": "markdown",
      "source": [
        "## Building Basic Model in TensorFlow"
      ],
      "metadata": {
        "id": "0V3OkMVlZojC"
      }
    },
    {
      "cell_type": "markdown",
      "source": [
        "## Creating Data, So we can model it"
      ],
      "metadata": {
        "id": "GmaElyhN5BfG"
      }
    },
    {
      "cell_type": "code",
      "source": [
        "X = tf.constant([-1,1,3,5,7,9,11,13,15,17,19,21,23])\n",
        "y = tf.constant([9,11,13,15,17,19,21,23,25,27,29,31,33])  #the difference between X and y is 10"
      ],
      "metadata": {
        "id": "KO1nCYkc5Bh7"
      },
      "execution_count": 91,
      "outputs": []
    },
    {
      "cell_type": "code",
      "source": [
        "#looking for the input and output shape\n",
        "X.shape,y.shape  #just we are gonna need comma in the tensoor shape after 14 so shape is (14,)"
      ],
      "metadata": {
        "colab": {
          "base_uri": "https://localhost:8080/"
        },
        "id": "CnqbZ6Ls5Bky",
        "outputId": "5e420d33-c933-4967-ba1f-02cef05d7f2c"
      },
      "execution_count": 92,
      "outputs": [
        {
          "output_type": "execute_result",
          "data": {
            "text/plain": [
              "(TensorShape([13]), TensorShape([13]))"
            ]
          },
          "metadata": {},
          "execution_count": 92
        }
      ]
    },
    {
      "cell_type": "markdown",
      "source": [
        "### Steps in Modelling in TensorFlow.\n",
        "1. **Creating Model** - define imput, output, hidden layers of our Deep Learning Model.\n",
        "\n",
        "2. **Compiling Model** - define the loss function(the function which tell us how wrong our model is), define optimizer(which tell us our model how improve) and evaluation metrics(we can use to interpret the performance of our model).\n",
        "\n",
        "3. Fitting Model - letting the model try to find patterns between X and y(features and labels)"
      ],
      "metadata": {
        "id": "WhGeFacUH-VR"
      }
    },
    {
      "cell_type": "code",
      "source": [
        "#change 1 rank tensoir to the 2 rank tensor\n",
        "tf.expand_dims(X,-1)"
      ],
      "metadata": {
        "colab": {
          "base_uri": "https://localhost:8080/"
        },
        "id": "Pk4fVlskERYw",
        "outputId": "5d4c711d-6298-4ef4-a600-613d4f4d7976"
      },
      "execution_count": 93,
      "outputs": [
        {
          "output_type": "execute_result",
          "data": {
            "text/plain": [
              "<tf.Tensor: shape=(13, 1), dtype=int32, numpy=\n",
              "array([[-1],\n",
              "       [ 1],\n",
              "       [ 3],\n",
              "       [ 5],\n",
              "       [ 7],\n",
              "       [ 9],\n",
              "       [11],\n",
              "       [13],\n",
              "       [15],\n",
              "       [17],\n",
              "       [19],\n",
              "       [21],\n",
              "       [23]], dtype=int32)>"
            ]
          },
          "metadata": {},
          "execution_count": 93
        }
      ]
    },
    {
      "cell_type": "code",
      "source": [
        "#creating model\n",
        "model = tf.keras.models.Sequential([\n",
        "    tf.keras.layers.Dense(1)\n",
        "])\n",
        "#adding dense layer with the 1 neuron\n",
        "#model.add(tf.keras.layers.Dense(1, input_shape = (14,)))\n",
        "#model.add(tf.keras.layers.Dense(1))\n",
        "\n",
        "#compiling the model\n",
        "model.compile(loss= tf.keras.losses.mae,  #MAE stands for the Mean Absolute Error\n",
        "              optimizer= tf.keras.optimizers.SGD(), #SGD stands for the Stochastic Gradient Error\n",
        "              metrics= ['mae'])\n",
        "\n",
        "#fitting the model\n",
        "model.fit(tf.expand_dims(X,axis = -1), y, epochs= 5)  #axis= -1 makes 2 rank tensor,1 rank tensor is caused an error"
      ],
      "metadata": {
        "id": "yW8er5QyaGOV",
        "colab": {
          "base_uri": "https://localhost:8080/"
        },
        "outputId": "c23d9a65-3821-4ce4-94a2-a7866ab59557"
      },
      "execution_count": 94,
      "outputs": [
        {
          "output_type": "stream",
          "name": "stdout",
          "text": [
            "Epoch 1/5\n",
            "1/1 [==============================] - 1s 956ms/step - loss: 13.7874 - mae: 13.7874\n",
            "Epoch 2/5\n",
            "1/1 [==============================] - 0s 12ms/step - loss: 12.5674 - mae: 12.5674\n",
            "Epoch 3/5\n",
            "1/1 [==============================] - 0s 12ms/step - loss: 11.3474 - mae: 11.3474\n",
            "Epoch 4/5\n",
            "1/1 [==============================] - 0s 11ms/step - loss: 10.1274 - mae: 10.1274\n",
            "Epoch 5/5\n",
            "1/1 [==============================] - 0s 10ms/step - loss: 8.9074 - mae: 8.9074\n"
          ]
        },
        {
          "output_type": "execute_result",
          "data": {
            "text/plain": [
              "<keras.callbacks.History at 0x7f9352f42080>"
            ]
          },
          "metadata": {},
          "execution_count": 94
        }
      ]
    },
    {
      "cell_type": "code",
      "source": [],
      "metadata": {
        "id": "76EkMG_-aGLd"
      },
      "execution_count": 94,
      "outputs": []
    },
    {
      "cell_type": "code",
      "source": [
        "#trying make prediction based on X for y\n",
        "model.predict([25])     #if our model is good enough, the answer would be around 35"
      ],
      "metadata": {
        "id": "UaCqUj_OaGIE",
        "colab": {
          "base_uri": "https://localhost:8080/"
        },
        "outputId": "d24fd2d3-d274-469a-e12b-b3141a78cf32"
      },
      "execution_count": 95,
      "outputs": [
        {
          "output_type": "stream",
          "name": "stdout",
          "text": [
            "1/1 [==============================] - 0s 96ms/step\n"
          ]
        },
        {
          "output_type": "execute_result",
          "data": {
            "text/plain": [
              "array([[30.192247]], dtype=float32)"
            ]
          },
          "metadata": {},
          "execution_count": 95
        }
      ]
    },
    {
      "cell_type": "markdown",
      "source": [
        "## Improving our model"
      ],
      "metadata": {
        "id": "I3BISrqHaGFN"
      }
    },
    {
      "cell_type": "markdown",
      "source": [
        "### Creating new model to improve our result"
      ],
      "metadata": {
        "id": "eTG6CxboaGCF"
      }
    },
    {
      "cell_type": "code",
      "source": [
        "from sklearn.model_selection import train_test_split\n",
        "import numpy as np\n",
        "X = np.array(X)\n",
        "y = np.array(y)\n",
        "X_train,X_test,y_train,y_test= train_test_split(X,y,test_size = 0.2,random_state = True)"
      ],
      "metadata": {
        "id": "81JNqwc8NMxl"
      },
      "execution_count": 96,
      "outputs": []
    },
    {
      "cell_type": "code",
      "source": [
        "#create a model(specified to your probelm)\n",
        "improved_model = tf.keras.models.Sequential([\n",
        "    tf.keras.layers.Dense(100,activation = 'relu'),\n",
        "    tf.keras.layers.Dense(100,activation = 'relu'),\n",
        "    tf.keras.layers.Dense(1)\n",
        "])\n",
        "\n",
        "#compile model\n",
        "improved_model.compile(loss = tf.keras.losses.mae,\n",
        "                       optimizer = tf.keras.optimizers.Adam(lr = 0.0001),\n",
        "                       metrics = ['mae'])\n",
        "\n",
        "#fit the model with the subset of X and y and 100 epochs\n",
        "improved_model.fit(tf.expand_dims(X_train,axis= 1),y_train,epochs = 100)"
      ],
      "metadata": {
        "id": "FRHGSeUGaF_O",
        "colab": {
          "base_uri": "https://localhost:8080/"
        },
        "outputId": "2366fd4b-bc63-4b9b-a420-553901d4c1e6"
      },
      "execution_count": 97,
      "outputs": [
        {
          "output_type": "stream",
          "name": "stderr",
          "text": [
            "WARNING:absl:`lr` is deprecated in Keras optimizer, please use `learning_rate` or use the legacy optimizer, e.g.,tf.keras.optimizers.legacy.Adam.\n"
          ]
        },
        {
          "output_type": "stream",
          "name": "stdout",
          "text": [
            "Epoch 1/100\n",
            "1/1 [==============================] - 2s 2s/step - loss: 22.4815 - mae: 22.4815\n",
            "Epoch 2/100\n",
            "1/1 [==============================] - 0s 13ms/step - loss: 21.8554 - mae: 21.8554\n",
            "Epoch 3/100\n",
            "1/1 [==============================] - 0s 12ms/step - loss: 21.2423 - mae: 21.2423\n",
            "Epoch 4/100\n",
            "1/1 [==============================] - 0s 12ms/step - loss: 20.6693 - mae: 20.6693\n",
            "Epoch 5/100\n",
            "1/1 [==============================] - 0s 20ms/step - loss: 20.1105 - mae: 20.1105\n",
            "Epoch 6/100\n",
            "1/1 [==============================] - 0s 14ms/step - loss: 19.5497 - mae: 19.5497\n",
            "Epoch 7/100\n",
            "1/1 [==============================] - 0s 33ms/step - loss: 18.9957 - mae: 18.9957\n",
            "Epoch 8/100\n",
            "1/1 [==============================] - 0s 12ms/step - loss: 18.4356 - mae: 18.4356\n",
            "Epoch 9/100\n",
            "1/1 [==============================] - 0s 12ms/step - loss: 17.8655 - mae: 17.8655\n",
            "Epoch 10/100\n",
            "1/1 [==============================] - 0s 12ms/step - loss: 17.2761 - mae: 17.2761\n",
            "Epoch 11/100\n",
            "1/1 [==============================] - 0s 14ms/step - loss: 16.6748 - mae: 16.6748\n",
            "Epoch 12/100\n",
            "1/1 [==============================] - 0s 12ms/step - loss: 16.0701 - mae: 16.0701\n",
            "Epoch 13/100\n",
            "1/1 [==============================] - 0s 32ms/step - loss: 15.4512 - mae: 15.4512\n",
            "Epoch 14/100\n",
            "1/1 [==============================] - 0s 16ms/step - loss: 14.8221 - mae: 14.8221\n",
            "Epoch 15/100\n",
            "1/1 [==============================] - 0s 15ms/step - loss: 14.1836 - mae: 14.1836\n",
            "Epoch 16/100\n",
            "1/1 [==============================] - 0s 20ms/step - loss: 13.5440 - mae: 13.5440\n",
            "Epoch 17/100\n",
            "1/1 [==============================] - 0s 12ms/step - loss: 12.8952 - mae: 12.8952\n",
            "Epoch 18/100\n",
            "1/1 [==============================] - 0s 11ms/step - loss: 12.2350 - mae: 12.2350\n",
            "Epoch 19/100\n",
            "1/1 [==============================] - 0s 11ms/step - loss: 11.5571 - mae: 11.5571\n",
            "Epoch 20/100\n",
            "1/1 [==============================] - 0s 12ms/step - loss: 10.8627 - mae: 10.8627\n",
            "Epoch 21/100\n",
            "1/1 [==============================] - 0s 16ms/step - loss: 10.1622 - mae: 10.1622\n",
            "Epoch 22/100\n",
            "1/1 [==============================] - 0s 24ms/step - loss: 9.4467 - mae: 9.4467\n",
            "Epoch 23/100\n",
            "1/1 [==============================] - 0s 15ms/step - loss: 8.7328 - mae: 8.7328\n",
            "Epoch 24/100\n",
            "1/1 [==============================] - 0s 13ms/step - loss: 8.0136 - mae: 8.0136\n",
            "Epoch 25/100\n",
            "1/1 [==============================] - 0s 20ms/step - loss: 7.2771 - mae: 7.2771\n",
            "Epoch 26/100\n",
            "1/1 [==============================] - 0s 20ms/step - loss: 6.5182 - mae: 6.5182\n",
            "Epoch 27/100\n",
            "1/1 [==============================] - 0s 13ms/step - loss: 5.7365 - mae: 5.7365\n",
            "Epoch 28/100\n",
            "1/1 [==============================] - 0s 12ms/step - loss: 4.9313 - mae: 4.9313\n",
            "Epoch 29/100\n",
            "1/1 [==============================] - 0s 13ms/step - loss: 4.1018 - mae: 4.1018\n",
            "Epoch 30/100\n",
            "1/1 [==============================] - 0s 22ms/step - loss: 3.5763 - mae: 3.5763\n",
            "Epoch 31/100\n",
            "1/1 [==============================] - 0s 15ms/step - loss: 3.4227 - mae: 3.4227\n",
            "Epoch 32/100\n",
            "1/1 [==============================] - 0s 12ms/step - loss: 3.4985 - mae: 3.4985\n",
            "Epoch 33/100\n",
            "1/1 [==============================] - 0s 12ms/step - loss: 3.6759 - mae: 3.6759\n",
            "Epoch 34/100\n",
            "1/1 [==============================] - 0s 12ms/step - loss: 3.9260 - mae: 3.9260\n",
            "Epoch 35/100\n",
            "1/1 [==============================] - 0s 13ms/step - loss: 4.1246 - mae: 4.1246\n",
            "Epoch 36/100\n",
            "1/1 [==============================] - 0s 13ms/step - loss: 4.3201 - mae: 4.3201\n",
            "Epoch 37/100\n",
            "1/1 [==============================] - 0s 13ms/step - loss: 4.4646 - mae: 4.4646\n",
            "Epoch 38/100\n",
            "1/1 [==============================] - 0s 13ms/step - loss: 4.5196 - mae: 4.5196\n",
            "Epoch 39/100\n",
            "1/1 [==============================] - 0s 13ms/step - loss: 4.5106 - mae: 4.5106\n",
            "Epoch 40/100\n",
            "1/1 [==============================] - 0s 14ms/step - loss: 4.4431 - mae: 4.4431\n",
            "Epoch 41/100\n",
            "1/1 [==============================] - 0s 14ms/step - loss: 4.3225 - mae: 4.3225\n",
            "Epoch 42/100\n",
            "1/1 [==============================] - 0s 25ms/step - loss: 4.1557 - mae: 4.1557\n",
            "Epoch 43/100\n",
            "1/1 [==============================] - 0s 15ms/step - loss: 3.9945 - mae: 3.9945\n",
            "Epoch 44/100\n",
            "1/1 [==============================] - 0s 14ms/step - loss: 3.8342 - mae: 3.8342\n",
            "Epoch 45/100\n",
            "1/1 [==============================] - 0s 16ms/step - loss: 3.6626 - mae: 3.6626\n",
            "Epoch 46/100\n",
            "1/1 [==============================] - 0s 15ms/step - loss: 3.4848 - mae: 3.4848\n",
            "Epoch 47/100\n",
            "1/1 [==============================] - 0s 14ms/step - loss: 3.3909 - mae: 3.3909\n",
            "Epoch 48/100\n",
            "1/1 [==============================] - 0s 13ms/step - loss: 3.2987 - mae: 3.2987\n",
            "Epoch 49/100\n",
            "1/1 [==============================] - 0s 13ms/step - loss: 3.2360 - mae: 3.2360\n",
            "Epoch 50/100\n",
            "1/1 [==============================] - 0s 13ms/step - loss: 3.2336 - mae: 3.2336\n",
            "Epoch 51/100\n",
            "1/1 [==============================] - 0s 12ms/step - loss: 3.2297 - mae: 3.2297\n",
            "Epoch 52/100\n",
            "1/1 [==============================] - 0s 13ms/step - loss: 3.2709 - mae: 3.2709\n",
            "Epoch 53/100\n",
            "1/1 [==============================] - 0s 13ms/step - loss: 3.3072 - mae: 3.3072\n",
            "Epoch 54/100\n",
            "1/1 [==============================] - 0s 12ms/step - loss: 3.3267 - mae: 3.3267\n",
            "Epoch 55/100\n",
            "1/1 [==============================] - 0s 13ms/step - loss: 3.3277 - mae: 3.3277\n",
            "Epoch 56/100\n",
            "1/1 [==============================] - 0s 12ms/step - loss: 3.3122 - mae: 3.3122\n",
            "Epoch 57/100\n",
            "1/1 [==============================] - 0s 12ms/step - loss: 3.2819 - mae: 3.2819\n",
            "Epoch 58/100\n",
            "1/1 [==============================] - 0s 12ms/step - loss: 3.2381 - mae: 3.2381\n",
            "Epoch 59/100\n",
            "1/1 [==============================] - 0s 16ms/step - loss: 3.1820 - mae: 3.1820\n",
            "Epoch 60/100\n",
            "1/1 [==============================] - 0s 17ms/step - loss: 3.1145 - mae: 3.1145\n",
            "Epoch 61/100\n",
            "1/1 [==============================] - 0s 14ms/step - loss: 3.0786 - mae: 3.0786\n",
            "Epoch 62/100\n",
            "1/1 [==============================] - 0s 13ms/step - loss: 3.0560 - mae: 3.0560\n",
            "Epoch 63/100\n",
            "1/1 [==============================] - 0s 16ms/step - loss: 3.0334 - mae: 3.0334\n",
            "Epoch 64/100\n",
            "1/1 [==============================] - 0s 19ms/step - loss: 3.0106 - mae: 3.0106\n",
            "Epoch 65/100\n",
            "1/1 [==============================] - 0s 15ms/step - loss: 3.0014 - mae: 3.0014\n",
            "Epoch 66/100\n",
            "1/1 [==============================] - 0s 13ms/step - loss: 3.0062 - mae: 3.0062\n",
            "Epoch 67/100\n",
            "1/1 [==============================] - 0s 12ms/step - loss: 3.0030 - mae: 3.0030\n",
            "Epoch 68/100\n",
            "1/1 [==============================] - 0s 13ms/step - loss: 2.9848 - mae: 2.9848\n",
            "Epoch 69/100\n",
            "1/1 [==============================] - 0s 16ms/step - loss: 2.9604 - mae: 2.9604\n",
            "Epoch 70/100\n",
            "1/1 [==============================] - 0s 13ms/step - loss: 2.9278 - mae: 2.9278\n",
            "Epoch 71/100\n",
            "1/1 [==============================] - 0s 20ms/step - loss: 2.8881 - mae: 2.8881\n",
            "Epoch 72/100\n",
            "1/1 [==============================] - 0s 13ms/step - loss: 2.8593 - mae: 2.8593\n",
            "Epoch 73/100\n",
            "1/1 [==============================] - 0s 13ms/step - loss: 2.8424 - mae: 2.8424\n",
            "Epoch 74/100\n",
            "1/1 [==============================] - 0s 16ms/step - loss: 2.8245 - mae: 2.8245\n",
            "Epoch 75/100\n",
            "1/1 [==============================] - 0s 15ms/step - loss: 2.8056 - mae: 2.8056\n",
            "Epoch 76/100\n",
            "1/1 [==============================] - 0s 14ms/step - loss: 2.7832 - mae: 2.7832\n",
            "Epoch 77/100\n",
            "1/1 [==============================] - 0s 14ms/step - loss: 2.7622 - mae: 2.7622\n",
            "Epoch 78/100\n",
            "1/1 [==============================] - 0s 12ms/step - loss: 2.7403 - mae: 2.7403\n",
            "Epoch 79/100\n",
            "1/1 [==============================] - 0s 34ms/step - loss: 2.7175 - mae: 2.7175\n",
            "Epoch 80/100\n",
            "1/1 [==============================] - 0s 21ms/step - loss: 2.6939 - mae: 2.6939\n",
            "Epoch 81/100\n",
            "1/1 [==============================] - 0s 33ms/step - loss: 2.6693 - mae: 2.6693\n",
            "Epoch 82/100\n",
            "1/1 [==============================] - 0s 17ms/step - loss: 2.6437 - mae: 2.6437\n",
            "Epoch 83/100\n",
            "1/1 [==============================] - 0s 16ms/step - loss: 2.6174 - mae: 2.6174\n",
            "Epoch 84/100\n",
            "1/1 [==============================] - 0s 15ms/step - loss: 2.5868 - mae: 2.5868\n",
            "Epoch 85/100\n",
            "1/1 [==============================] - 0s 17ms/step - loss: 2.5766 - mae: 2.5766\n",
            "Epoch 86/100\n",
            "1/1 [==============================] - 0s 18ms/step - loss: 2.5879 - mae: 2.5879\n",
            "Epoch 87/100\n",
            "1/1 [==============================] - 0s 15ms/step - loss: 2.6028 - mae: 2.6028\n",
            "Epoch 88/100\n",
            "1/1 [==============================] - 0s 18ms/step - loss: 2.6016 - mae: 2.6016\n",
            "Epoch 89/100\n",
            "1/1 [==============================] - 0s 12ms/step - loss: 2.6046 - mae: 2.6046\n",
            "Epoch 90/100\n",
            "1/1 [==============================] - 0s 28ms/step - loss: 2.6042 - mae: 2.6042\n",
            "Epoch 91/100\n",
            "1/1 [==============================] - 0s 35ms/step - loss: 2.6006 - mae: 2.6006\n",
            "Epoch 92/100\n",
            "1/1 [==============================] - 0s 28ms/step - loss: 2.5943 - mae: 2.5943\n",
            "Epoch 93/100\n",
            "1/1 [==============================] - 0s 21ms/step - loss: 2.5857 - mae: 2.5857\n",
            "Epoch 94/100\n",
            "1/1 [==============================] - 0s 20ms/step - loss: 2.5767 - mae: 2.5767\n",
            "Epoch 95/100\n",
            "1/1 [==============================] - 0s 22ms/step - loss: 2.5649 - mae: 2.5649\n",
            "Epoch 96/100\n",
            "1/1 [==============================] - 0s 20ms/step - loss: 2.5530 - mae: 2.5530\n",
            "Epoch 97/100\n",
            "1/1 [==============================] - 0s 14ms/step - loss: 2.5397 - mae: 2.5397\n",
            "Epoch 98/100\n",
            "1/1 [==============================] - 0s 13ms/step - loss: 2.5252 - mae: 2.5252\n",
            "Epoch 99/100\n",
            "1/1 [==============================] - 0s 12ms/step - loss: 2.5304 - mae: 2.5304\n",
            "Epoch 100/100\n",
            "1/1 [==============================] - 0s 12ms/step - loss: 2.5358 - mae: 2.5358\n"
          ]
        },
        {
          "output_type": "execute_result",
          "data": {
            "text/plain": [
              "<keras.callbacks.History at 0x7f9352dfb1c0>"
            ]
          },
          "metadata": {},
          "execution_count": 97
        }
      ]
    },
    {
      "cell_type": "code",
      "source": [
        "#let's see the result by doing prediction in the same way as we did before on 'model'\n",
        "improved_model.predict([21])     #so much closer as you see, better and more usefull"
      ],
      "metadata": {
        "id": "cR0fUdDRaF8W",
        "colab": {
          "base_uri": "https://localhost:8080/"
        },
        "outputId": "fced94a1-91fb-40e8-bd62-bcb2840d8adf"
      },
      "execution_count": 98,
      "outputs": [
        {
          "output_type": "stream",
          "name": "stdout",
          "text": [
            "1/1 [==============================] - 0s 298ms/step\n"
          ]
        },
        {
          "output_type": "execute_result",
          "data": {
            "text/plain": [
              "array([[32.928986]], dtype=float32)"
            ]
          },
          "metadata": {},
          "execution_count": 98
        }
      ]
    },
    {
      "cell_type": "markdown",
      "source": [
        "### See if we even can do more changes to get more better predictions\n"
      ],
      "metadata": {
        "id": "qH7IqXRAaF5z"
      }
    },
    {
      "cell_type": "code",
      "source": [
        "#create the model with extra hidden layer(100 hidden units)\n",
        "model = tf.keras.models.Sequential([\n",
        "    tf.keras.layers.Dense(100,activation = 'relu'),\n",
        "    tf.keras.layers.Dense(100,activation = 'relu'),\n",
        "    tf.keras.layers.Dense(100,activation = 'relu'),   #1 hidden layer is added with 100 hidden units\n",
        "    tf.keras.layers.Dense(1)\n",
        "])\n",
        "\n",
        "#compile the model\n",
        "model.compile(loss= tf.keras.losses.mae,\n",
        "              optimizer= tf.keras.optimizers.Adam(lr = 0.0001),   #lr is changed\n",
        "              metrics = ['mae'])\n",
        "\n",
        "#fit the model\n",
        "model.fit(tf.expand_dims(X_train,axis=-1),y_train,epochs = 150)  #number of epochs is changed"
      ],
      "metadata": {
        "id": "X8x6hQODaFxO",
        "colab": {
          "base_uri": "https://localhost:8080/"
        },
        "outputId": "5ca9365f-e185-4838-f12a-9b300d5a0636"
      },
      "execution_count": 105,
      "outputs": [
        {
          "output_type": "stream",
          "name": "stderr",
          "text": [
            "WARNING:absl:`lr` is deprecated in Keras optimizer, please use `learning_rate` or use the legacy optimizer, e.g.,tf.keras.optimizers.legacy.Adam.\n"
          ]
        },
        {
          "output_type": "stream",
          "name": "stdout",
          "text": [
            "Epoch 1/150\n",
            "1/1 [==============================] - 2s 2s/step - loss: 22.5704 - mae: 22.5704\n",
            "Epoch 2/150\n",
            "1/1 [==============================] - 0s 12ms/step - loss: 21.9628 - mae: 21.9628\n",
            "Epoch 3/150\n",
            "1/1 [==============================] - 0s 12ms/step - loss: 21.3601 - mae: 21.3601\n",
            "Epoch 4/150\n",
            "1/1 [==============================] - 0s 13ms/step - loss: 20.7978 - mae: 20.7978\n",
            "Epoch 5/150\n",
            "1/1 [==============================] - 0s 10ms/step - loss: 20.2495 - mae: 20.2495\n",
            "Epoch 6/150\n",
            "1/1 [==============================] - 0s 12ms/step - loss: 19.7106 - mae: 19.7106\n",
            "Epoch 7/150\n",
            "1/1 [==============================] - 0s 10ms/step - loss: 19.1826 - mae: 19.1826\n",
            "Epoch 8/150\n",
            "1/1 [==============================] - 0s 11ms/step - loss: 18.6373 - mae: 18.6373\n",
            "Epoch 9/150\n",
            "1/1 [==============================] - 0s 11ms/step - loss: 18.0874 - mae: 18.0874\n",
            "Epoch 10/150\n",
            "1/1 [==============================] - 0s 10ms/step - loss: 17.5181 - mae: 17.5181\n",
            "Epoch 11/150\n",
            "1/1 [==============================] - 0s 12ms/step - loss: 16.9061 - mae: 16.9061\n",
            "Epoch 12/150\n",
            "1/1 [==============================] - 0s 11ms/step - loss: 16.2466 - mae: 16.2466\n",
            "Epoch 13/150\n",
            "1/1 [==============================] - 0s 12ms/step - loss: 15.5371 - mae: 15.5371\n",
            "Epoch 14/150\n",
            "1/1 [==============================] - 0s 10ms/step - loss: 14.7783 - mae: 14.7783\n",
            "Epoch 15/150\n",
            "1/1 [==============================] - 0s 11ms/step - loss: 13.9701 - mae: 13.9701\n",
            "Epoch 16/150\n",
            "1/1 [==============================] - 0s 12ms/step - loss: 13.1052 - mae: 13.1052\n",
            "Epoch 17/150\n",
            "1/1 [==============================] - 0s 12ms/step - loss: 12.1818 - mae: 12.1818\n",
            "Epoch 18/150\n",
            "1/1 [==============================] - 0s 12ms/step - loss: 11.1927 - mae: 11.1927\n",
            "Epoch 19/150\n",
            "1/1 [==============================] - 0s 17ms/step - loss: 10.1266 - mae: 10.1266\n",
            "Epoch 20/150\n",
            "1/1 [==============================] - 0s 12ms/step - loss: 8.9865 - mae: 8.9865\n",
            "Epoch 21/150\n",
            "1/1 [==============================] - 0s 11ms/step - loss: 7.7508 - mae: 7.7508\n",
            "Epoch 22/150\n",
            "1/1 [==============================] - 0s 13ms/step - loss: 6.4154 - mae: 6.4154\n",
            "Epoch 23/150\n",
            "1/1 [==============================] - 0s 12ms/step - loss: 4.9781 - mae: 4.9781\n",
            "Epoch 24/150\n",
            "1/1 [==============================] - 0s 11ms/step - loss: 3.5618 - mae: 3.5618\n",
            "Epoch 25/150\n",
            "1/1 [==============================] - 0s 12ms/step - loss: 3.2474 - mae: 3.2474\n",
            "Epoch 26/150\n",
            "1/1 [==============================] - 0s 12ms/step - loss: 3.6914 - mae: 3.6914\n",
            "Epoch 27/150\n",
            "1/1 [==============================] - 0s 12ms/step - loss: 4.3279 - mae: 4.3279\n",
            "Epoch 28/150\n",
            "1/1 [==============================] - 0s 12ms/step - loss: 4.8631 - mae: 4.8631\n",
            "Epoch 29/150\n",
            "1/1 [==============================] - 0s 13ms/step - loss: 5.2284 - mae: 5.2284\n",
            "Epoch 30/150\n",
            "1/1 [==============================] - 0s 10ms/step - loss: 5.3396 - mae: 5.3396\n",
            "Epoch 31/150\n",
            "1/1 [==============================] - 0s 11ms/step - loss: 5.2084 - mae: 5.2084\n",
            "Epoch 32/150\n",
            "1/1 [==============================] - 0s 12ms/step - loss: 4.8876 - mae: 4.8876\n",
            "Epoch 33/150\n",
            "1/1 [==============================] - 0s 16ms/step - loss: 4.5156 - mae: 4.5156\n",
            "Epoch 34/150\n",
            "1/1 [==============================] - 0s 12ms/step - loss: 4.0672 - mae: 4.0672\n",
            "Epoch 35/150\n",
            "1/1 [==============================] - 0s 14ms/step - loss: 3.6039 - mae: 3.6039\n",
            "Epoch 36/150\n",
            "1/1 [==============================] - 0s 11ms/step - loss: 3.2251 - mae: 3.2251\n",
            "Epoch 37/150\n",
            "1/1 [==============================] - 0s 11ms/step - loss: 2.9844 - mae: 2.9844\n",
            "Epoch 38/150\n",
            "1/1 [==============================] - 0s 11ms/step - loss: 2.9047 - mae: 2.9047\n",
            "Epoch 39/150\n",
            "1/1 [==============================] - 0s 11ms/step - loss: 2.9968 - mae: 2.9968\n",
            "Epoch 40/150\n",
            "1/1 [==============================] - 0s 11ms/step - loss: 3.2002 - mae: 3.2002\n",
            "Epoch 41/150\n",
            "1/1 [==============================] - 0s 11ms/step - loss: 3.3625 - mae: 3.3625\n",
            "Epoch 42/150\n",
            "1/1 [==============================] - 0s 13ms/step - loss: 3.3796 - mae: 3.3796\n",
            "Epoch 43/150\n",
            "1/1 [==============================] - 0s 10ms/step - loss: 3.2147 - mae: 3.2147\n",
            "Epoch 44/150\n",
            "1/1 [==============================] - 0s 11ms/step - loss: 2.9980 - mae: 2.9980\n",
            "Epoch 45/150\n",
            "1/1 [==============================] - 0s 12ms/step - loss: 2.7752 - mae: 2.7752\n",
            "Epoch 46/150\n",
            "1/1 [==============================] - 0s 11ms/step - loss: 2.6385 - mae: 2.6385\n",
            "Epoch 47/150\n",
            "1/1 [==============================] - 0s 12ms/step - loss: 2.6545 - mae: 2.6545\n",
            "Epoch 48/150\n",
            "1/1 [==============================] - 0s 11ms/step - loss: 2.6858 - mae: 2.6858\n",
            "Epoch 49/150\n",
            "1/1 [==============================] - 0s 13ms/step - loss: 2.7639 - mae: 2.7639\n",
            "Epoch 50/150\n",
            "1/1 [==============================] - 0s 12ms/step - loss: 2.8091 - mae: 2.8091\n",
            "Epoch 51/150\n",
            "1/1 [==============================] - 0s 11ms/step - loss: 2.8300 - mae: 2.8300\n",
            "Epoch 52/150\n",
            "1/1 [==============================] - 0s 9ms/step - loss: 2.8331 - mae: 2.8331\n",
            "Epoch 53/150\n",
            "1/1 [==============================] - 0s 11ms/step - loss: 2.8127 - mae: 2.8127\n",
            "Epoch 54/150\n",
            "1/1 [==============================] - 0s 13ms/step - loss: 2.7792 - mae: 2.7792\n",
            "Epoch 55/150\n",
            "1/1 [==============================] - 0s 13ms/step - loss: 2.7281 - mae: 2.7281\n",
            "Epoch 56/150\n",
            "1/1 [==============================] - 0s 11ms/step - loss: 2.6618 - mae: 2.6618\n",
            "Epoch 57/150\n",
            "1/1 [==============================] - 0s 11ms/step - loss: 2.5830 - mae: 2.5830\n",
            "Epoch 58/150\n",
            "1/1 [==============================] - 0s 12ms/step - loss: 2.5560 - mae: 2.5560\n",
            "Epoch 59/150\n",
            "1/1 [==============================] - 0s 12ms/step - loss: 2.5730 - mae: 2.5730\n",
            "Epoch 60/150\n",
            "1/1 [==============================] - 0s 12ms/step - loss: 2.5865 - mae: 2.5865\n",
            "Epoch 61/150\n",
            "1/1 [==============================] - 0s 11ms/step - loss: 2.5931 - mae: 2.5931\n",
            "Epoch 62/150\n",
            "1/1 [==============================] - 0s 12ms/step - loss: 2.6028 - mae: 2.6028\n",
            "Epoch 63/150\n",
            "1/1 [==============================] - 0s 10ms/step - loss: 2.5900 - mae: 2.5900\n",
            "Epoch 64/150\n",
            "1/1 [==============================] - 0s 13ms/step - loss: 2.5683 - mae: 2.5683\n",
            "Epoch 65/150\n",
            "1/1 [==============================] - 0s 11ms/step - loss: 2.5476 - mae: 2.5476\n",
            "Epoch 66/150\n",
            "1/1 [==============================] - 0s 11ms/step - loss: 2.5234 - mae: 2.5234\n",
            "Epoch 67/150\n",
            "1/1 [==============================] - 0s 11ms/step - loss: 2.5147 - mae: 2.5147\n",
            "Epoch 68/150\n",
            "1/1 [==============================] - 0s 11ms/step - loss: 2.5173 - mae: 2.5173\n",
            "Epoch 69/150\n",
            "1/1 [==============================] - 0s 11ms/step - loss: 2.5240 - mae: 2.5240\n",
            "Epoch 70/150\n",
            "1/1 [==============================] - 0s 12ms/step - loss: 2.5274 - mae: 2.5274\n",
            "Epoch 71/150\n",
            "1/1 [==============================] - 0s 13ms/step - loss: 2.5056 - mae: 2.5056\n",
            "Epoch 72/150\n",
            "1/1 [==============================] - 0s 12ms/step - loss: 2.4964 - mae: 2.4964\n",
            "Epoch 73/150\n",
            "1/1 [==============================] - 0s 13ms/step - loss: 2.4851 - mae: 2.4851\n",
            "Epoch 74/150\n",
            "1/1 [==============================] - 0s 13ms/step - loss: 2.4831 - mae: 2.4831\n",
            "Epoch 75/150\n",
            "1/1 [==============================] - 0s 14ms/step - loss: 2.4887 - mae: 2.4887\n",
            "Epoch 76/150\n",
            "1/1 [==============================] - 0s 12ms/step - loss: 2.4884 - mae: 2.4884\n",
            "Epoch 77/150\n",
            "1/1 [==============================] - 0s 17ms/step - loss: 2.4829 - mae: 2.4829\n",
            "Epoch 78/150\n",
            "1/1 [==============================] - 0s 13ms/step - loss: 2.4724 - mae: 2.4724\n",
            "Epoch 79/150\n",
            "1/1 [==============================] - 0s 15ms/step - loss: 2.4562 - mae: 2.4562\n",
            "Epoch 80/150\n",
            "1/1 [==============================] - 0s 13ms/step - loss: 2.4562 - mae: 2.4562\n",
            "Epoch 81/150\n",
            "1/1 [==============================] - 0s 12ms/step - loss: 2.4562 - mae: 2.4562\n",
            "Epoch 82/150\n",
            "1/1 [==============================] - 0s 13ms/step - loss: 2.4518 - mae: 2.4518\n",
            "Epoch 83/150\n",
            "1/1 [==============================] - 0s 14ms/step - loss: 2.4434 - mae: 2.4434\n",
            "Epoch 84/150\n",
            "1/1 [==============================] - 0s 13ms/step - loss: 2.4313 - mae: 2.4313\n",
            "Epoch 85/150\n",
            "1/1 [==============================] - 0s 12ms/step - loss: 2.4157 - mae: 2.4157\n",
            "Epoch 86/150\n",
            "1/1 [==============================] - 0s 13ms/step - loss: 2.3991 - mae: 2.3991\n",
            "Epoch 87/150\n",
            "1/1 [==============================] - 0s 13ms/step - loss: 2.4143 - mae: 2.4143\n",
            "Epoch 88/150\n",
            "1/1 [==============================] - 0s 12ms/step - loss: 2.4098 - mae: 2.4098\n",
            "Epoch 89/150\n",
            "1/1 [==============================] - 0s 10ms/step - loss: 2.3805 - mae: 2.3805\n",
            "Epoch 90/150\n",
            "1/1 [==============================] - 0s 11ms/step - loss: 2.3709 - mae: 2.3709\n",
            "Epoch 91/150\n",
            "1/1 [==============================] - 0s 12ms/step - loss: 2.3741 - mae: 2.3741\n",
            "Epoch 92/150\n",
            "1/1 [==============================] - 0s 13ms/step - loss: 2.3729 - mae: 2.3729\n",
            "Epoch 93/150\n",
            "1/1 [==============================] - 0s 12ms/step - loss: 2.3674 - mae: 2.3674\n",
            "Epoch 94/150\n",
            "1/1 [==============================] - 0s 13ms/step - loss: 2.3582 - mae: 2.3582\n",
            "Epoch 95/150\n",
            "1/1 [==============================] - 0s 10ms/step - loss: 2.3456 - mae: 2.3456\n",
            "Epoch 96/150\n",
            "1/1 [==============================] - 0s 12ms/step - loss: 2.3436 - mae: 2.3436\n",
            "Epoch 97/150\n",
            "1/1 [==============================] - 0s 12ms/step - loss: 2.3331 - mae: 2.3331\n",
            "Epoch 98/150\n",
            "1/1 [==============================] - 0s 13ms/step - loss: 2.3285 - mae: 2.3285\n",
            "Epoch 99/150\n",
            "1/1 [==============================] - 0s 11ms/step - loss: 2.3183 - mae: 2.3183\n",
            "Epoch 100/150\n",
            "1/1 [==============================] - 0s 12ms/step - loss: 2.3170 - mae: 2.3170\n",
            "Epoch 101/150\n",
            "1/1 [==============================] - 0s 12ms/step - loss: 2.3131 - mae: 2.3131\n",
            "Epoch 102/150\n",
            "1/1 [==============================] - 0s 13ms/step - loss: 2.3052 - mae: 2.3052\n",
            "Epoch 103/150\n",
            "1/1 [==============================] - 0s 11ms/step - loss: 2.3063 - mae: 2.3063\n",
            "Epoch 104/150\n",
            "1/1 [==============================] - 0s 14ms/step - loss: 2.2836 - mae: 2.2836\n",
            "Epoch 105/150\n",
            "1/1 [==============================] - 0s 11ms/step - loss: 2.2880 - mae: 2.2880\n",
            "Epoch 106/150\n",
            "1/1 [==============================] - 0s 14ms/step - loss: 2.2872 - mae: 2.2872\n",
            "Epoch 107/150\n",
            "1/1 [==============================] - 0s 15ms/step - loss: 2.2804 - mae: 2.2804\n",
            "Epoch 108/150\n",
            "1/1 [==============================] - 0s 13ms/step - loss: 2.2680 - mae: 2.2680\n",
            "Epoch 109/150\n",
            "1/1 [==============================] - 0s 11ms/step - loss: 2.2507 - mae: 2.2507\n",
            "Epoch 110/150\n",
            "1/1 [==============================] - 0s 11ms/step - loss: 2.2631 - mae: 2.2631\n",
            "Epoch 111/150\n",
            "1/1 [==============================] - 0s 12ms/step - loss: 2.2476 - mae: 2.2476\n",
            "Epoch 112/150\n",
            "1/1 [==============================] - 0s 15ms/step - loss: 2.2437 - mae: 2.2437\n",
            "Epoch 113/150\n",
            "1/1 [==============================] - 0s 18ms/step - loss: 2.2360 - mae: 2.2360\n",
            "Epoch 114/150\n",
            "1/1 [==============================] - 0s 14ms/step - loss: 2.2242 - mae: 2.2242\n",
            "Epoch 115/150\n",
            "1/1 [==============================] - 0s 14ms/step - loss: 2.2095 - mae: 2.2095\n",
            "Epoch 116/150\n",
            "1/1 [==============================] - 0s 14ms/step - loss: 2.2123 - mae: 2.2123\n",
            "Epoch 117/150\n",
            "1/1 [==============================] - 0s 13ms/step - loss: 2.2075 - mae: 2.2075\n",
            "Epoch 118/150\n",
            "1/1 [==============================] - 0s 13ms/step - loss: 2.2034 - mae: 2.2034\n",
            "Epoch 119/150\n",
            "1/1 [==============================] - 0s 11ms/step - loss: 2.1933 - mae: 2.1933\n",
            "Epoch 120/150\n",
            "1/1 [==============================] - 0s 10ms/step - loss: 2.1777 - mae: 2.1777\n",
            "Epoch 121/150\n",
            "1/1 [==============================] - 0s 11ms/step - loss: 2.1710 - mae: 2.1710\n",
            "Epoch 122/150\n",
            "1/1 [==============================] - 0s 11ms/step - loss: 2.1687 - mae: 2.1687\n",
            "Epoch 123/150\n",
            "1/1 [==============================] - 0s 14ms/step - loss: 2.1635 - mae: 2.1635\n",
            "Epoch 124/150\n",
            "1/1 [==============================] - 0s 13ms/step - loss: 2.1563 - mae: 2.1563\n",
            "Epoch 125/150\n",
            "1/1 [==============================] - 0s 13ms/step - loss: 2.1454 - mae: 2.1454\n",
            "Epoch 126/150\n",
            "1/1 [==============================] - 0s 14ms/step - loss: 2.1316 - mae: 2.1316\n",
            "Epoch 127/150\n",
            "1/1 [==============================] - 0s 12ms/step - loss: 2.1252 - mae: 2.1252\n",
            "Epoch 128/150\n",
            "1/1 [==============================] - 0s 10ms/step - loss: 2.1124 - mae: 2.1124\n",
            "Epoch 129/150\n",
            "1/1 [==============================] - 0s 10ms/step - loss: 2.1065 - mae: 2.1065\n",
            "Epoch 130/150\n",
            "1/1 [==============================] - 0s 12ms/step - loss: 2.1197 - mae: 2.1197\n",
            "Epoch 131/150\n",
            "1/1 [==============================] - 0s 10ms/step - loss: 2.0952 - mae: 2.0952\n",
            "Epoch 132/150\n",
            "1/1 [==============================] - 0s 10ms/step - loss: 2.0834 - mae: 2.0834\n",
            "Epoch 133/150\n",
            "1/1 [==============================] - 0s 11ms/step - loss: 2.0919 - mae: 2.0919\n",
            "Epoch 134/150\n",
            "1/1 [==============================] - 0s 10ms/step - loss: 2.0950 - mae: 2.0950\n",
            "Epoch 135/150\n",
            "1/1 [==============================] - 0s 11ms/step - loss: 2.0857 - mae: 2.0857\n",
            "Epoch 136/150\n",
            "1/1 [==============================] - 0s 11ms/step - loss: 2.0722 - mae: 2.0722\n",
            "Epoch 137/150\n",
            "1/1 [==============================] - 0s 11ms/step - loss: 2.0567 - mae: 2.0567\n",
            "Epoch 138/150\n",
            "1/1 [==============================] - 0s 11ms/step - loss: 2.0505 - mae: 2.0505\n",
            "Epoch 139/150\n",
            "1/1 [==============================] - 0s 12ms/step - loss: 2.0402 - mae: 2.0402\n",
            "Epoch 140/150\n",
            "1/1 [==============================] - 0s 11ms/step - loss: 2.0263 - mae: 2.0263\n",
            "Epoch 141/150\n",
            "1/1 [==============================] - 0s 11ms/step - loss: 2.0091 - mae: 2.0091\n",
            "Epoch 142/150\n",
            "1/1 [==============================] - 0s 11ms/step - loss: 1.9979 - mae: 1.9979\n",
            "Epoch 143/150\n",
            "1/1 [==============================] - 0s 11ms/step - loss: 2.0033 - mae: 2.0033\n",
            "Epoch 144/150\n",
            "1/1 [==============================] - 0s 11ms/step - loss: 1.9869 - mae: 1.9869\n",
            "Epoch 145/150\n",
            "1/1 [==============================] - 0s 11ms/step - loss: 1.9649 - mae: 1.9649\n",
            "Epoch 146/150\n",
            "1/1 [==============================] - 0s 12ms/step - loss: 1.9667 - mae: 1.9667\n",
            "Epoch 147/150\n",
            "1/1 [==============================] - 0s 11ms/step - loss: 1.9635 - mae: 1.9635\n",
            "Epoch 148/150\n",
            "1/1 [==============================] - 0s 12ms/step - loss: 1.9557 - mae: 1.9557\n",
            "Epoch 149/150\n",
            "1/1 [==============================] - 0s 11ms/step - loss: 1.9435 - mae: 1.9435\n",
            "Epoch 150/150\n",
            "1/1 [==============================] - 0s 10ms/step - loss: 1.9276 - mae: 1.9276\n"
          ]
        },
        {
          "output_type": "execute_result",
          "data": {
            "text/plain": [
              "<keras.callbacks.History at 0x7f935318f340>"
            ]
          },
          "metadata": {},
          "execution_count": 105
        }
      ]
    },
    {
      "cell_type": "code",
      "source": [
        "#making prediction again\n",
        "model.predict([21])     #a litle bit better rather than our second model and way much better than first model"
      ],
      "metadata": {
        "colab": {
          "base_uri": "https://localhost:8080/"
        },
        "id": "fSXOTPNXUCnA",
        "outputId": "1d75bdbe-f3fe-4f44-d1a5-d68dbc71b9e1"
      },
      "execution_count": 106,
      "outputs": [
        {
          "output_type": "stream",
          "name": "stdout",
          "text": [
            "1/1 [==============================] - 0s 113ms/step\n"
          ]
        },
        {
          "output_type": "execute_result",
          "data": {
            "text/plain": [
              "array([[32.198402]], dtype=float32)"
            ]
          },
          "metadata": {},
          "execution_count": 106
        }
      ]
    },
    {
      "cell_type": "markdown",
      "source": [
        "## Evaluating Model\n",
        "When it comes to the evaluation, there are 3 words you should memorize:\n",
        "\n",
        "> \"Visualize, Visualize, Visualize\""
      ],
      "metadata": {
        "id": "zzNa2QznUqTu"
      }
    },
    {
      "cell_type": "code",
      "source": [
        "#make a bigger dataset\n",
        "X = tf.range(-200,300,10)\n",
        "X"
      ],
      "metadata": {
        "colab": {
          "base_uri": "https://localhost:8080/"
        },
        "id": "CXKiPIj0WG2d",
        "outputId": "004b8fbc-79ea-432d-ec10-bf400b7a9830"
      },
      "execution_count": 107,
      "outputs": [
        {
          "output_type": "execute_result",
          "data": {
            "text/plain": [
              "<tf.Tensor: shape=(50,), dtype=int32, numpy=\n",
              "array([-200, -190, -180, -170, -160, -150, -140, -130, -120, -110, -100,\n",
              "        -90,  -80,  -70,  -60,  -50,  -40,  -30,  -20,  -10,    0,   10,\n",
              "         20,   30,   40,   50,   60,   70,   80,   90,  100,  110,  120,\n",
              "        130,  140,  150,  160,  170,  180,  190,  200,  210,  220,  230,\n",
              "        240,  250,  260,  270,  280,  290], dtype=int32)>"
            ]
          },
          "metadata": {},
          "execution_count": 107
        }
      ]
    },
    {
      "cell_type": "code",
      "source": [
        "y = X + 15\n",
        "y"
      ],
      "metadata": {
        "colab": {
          "base_uri": "https://localhost:8080/"
        },
        "id": "ShA_EqXRWGz3",
        "outputId": "4d34967f-ad33-42be-f456-61ae6972e004"
      },
      "execution_count": 108,
      "outputs": [
        {
          "output_type": "execute_result",
          "data": {
            "text/plain": [
              "<tf.Tensor: shape=(50,), dtype=int32, numpy=\n",
              "array([-185, -175, -165, -155, -145, -135, -125, -115, -105,  -95,  -85,\n",
              "        -75,  -65,  -55,  -45,  -35,  -25,  -15,   -5,    5,   15,   25,\n",
              "         35,   45,   55,   65,   75,   85,   95,  105,  115,  125,  135,\n",
              "        145,  155,  165,  175,  185,  195,  205,  215,  225,  235,  245,\n",
              "        255,  265,  275,  285,  295,  305], dtype=int32)>"
            ]
          },
          "metadata": {},
          "execution_count": 108
        }
      ]
    },
    {
      "cell_type": "code",
      "source": [
        "#visualize data\n",
        "import matplotlib.pyplot as plt\n",
        "plt.scatter(X,y)\n",
        "plt.show()"
      ],
      "metadata": {
        "colab": {
          "base_uri": "https://localhost:8080/",
          "height": 430
        },
        "id": "JR2VLP1zWGxQ",
        "outputId": "476926f6-2bbd-4300-bd6c-f48ff78db610"
      },
      "execution_count": 110,
      "outputs": [
        {
          "output_type": "display_data",
          "data": {
            "text/plain": [
              "<Figure size 640x480 with 1 Axes>"
            ],
            "image/png": "[encoded data removed]"
          },
          "metadata": {}
        }
      ]
    },
    {
      "cell_type": "markdown",
      "source": [
        "### 3 sets....\n",
        "* Train Test\n",
        "* Validation Test\n",
        "* Test Set\n"
      ],
      "metadata": {
        "id": "0mXXuJVsWGup"
      }
    },
    {
      "cell_type": "code",
      "source": [
        "#split X to the train and test set\n",
        "X_train = X[:40]\n",
        "X_test = X[40:]\n",
        "#split y too\n",
        "y_train = y[:40]\n",
        "y_test = y[40:]"
      ],
      "metadata": {
        "id": "phgcdgM0WGsD"
      },
      "execution_count": 115,
      "outputs": []
    },
    {
      "cell_type": "markdown",
      "source": [
        "### Visulising dataset\n",
        "Now we have got our data in the training and test datasets"
      ],
      "metadata": {
        "id": "z3a_VfbFWGpd"
      }
    },
    {
      "cell_type": "code",
      "source": [
        "plt.figure(figsize = (16,9))\n",
        "plt.scatter(X_train,y_train,c='b',label = 'Training Data')\n",
        "plt.scatter(X_test,y_test,c= 'm',label = 'Test Data')\n",
        "plt.legend()\n",
        "plt.show()"
      ],
      "metadata": {
        "colab": {
          "base_uri": "https://localhost:8080/",
          "height": 590
        },
        "id": "SwDMk5R0WGm1",
        "outputId": "2816025c-e2a4-46d4-cce6-798028cdaa57"
      },
      "execution_count": 130,
      "outputs": [
        {
          "output_type": "display_data",
          "data": {
            "text/plain": [
              "<Figure size 1600x900 with 1 Axes>"
            ],
            "image/png": "[encoded data removed]"
          },
          "metadata": {}
        }
      ]
    },
    {
      "cell_type": "markdown",
      "source": [
        "### Let's visualise our model predictions,training and test set"
      ],
      "metadata": {
        "id": "xIA6jEcGWGkQ"
      }
    },
    {
      "cell_type": "code",
      "source": [
        "model = tf.keras.models.Sequential([\n",
        "    tf.keras.layers.Dense(100, activation= 'relu'),\n",
        "    tf.keras.layers.Dense(100, activation= 'relu'),\n",
        "    tf.keras.layers.Dense(100, activation= 'relu'),\n",
        "    tf.keras.layers.Dense(1)\n",
        "])\n",
        "\n",
        "model.compile(loss = tf.keras.losses.mae,\n",
        "              optimizer= tf.keras.optimizers.Adam(lr= 0.0001),\n",
        "              metrics = ['mae'])\n",
        "\n",
        "model.fit(tf.expand_dims(X_train,axis=-1),y_train,epochs = 100,batch_size = 10)"
      ],
      "metadata": {
        "colab": {
          "base_uri": "https://localhost:8080/"
        },
        "id": "RK343qWTWGho",
        "outputId": "de442c3a-9bea-4b8b-bd62-12a3dc20ea25"
      },
      "execution_count": 135,
      "outputs": [
        {
          "output_type": "stream",
          "name": "stderr",
          "text": [
            "WARNING:absl:`lr` is deprecated in Keras optimizer, please use `learning_rate` or use the legacy optimizer, e.g.,tf.keras.optimizers.legacy.Adam.\n"
          ]
        },
        {
          "output_type": "stream",
          "name": "stdout",
          "text": [
            "Epoch 1/100\n",
            "4/4 [==============================] - 2s 5ms/step - loss: 91.8544 - mae: 91.8544\n",
            "Epoch 2/100\n",
            "4/4 [==============================] - 0s 7ms/step - loss: 76.2199 - mae: 76.2199\n",
            "Epoch 3/100\n",
            "4/4 [==============================] - 0s 4ms/step - loss: 59.6623 - mae: 59.6623\n",
            "Epoch 4/100\n",
            "4/4 [==============================] - 0s 4ms/step - loss: 38.8772 - mae: 38.8772\n",
            "Epoch 5/100\n",
            "4/4 [==============================] - 0s 4ms/step - loss: 15.8847 - mae: 15.8847\n",
            "Epoch 6/100\n",
            "4/4 [==============================] - 0s 4ms/step - loss: 12.3368 - mae: 12.3368\n",
            "Epoch 7/100\n",
            "4/4 [==============================] - 0s 6ms/step - loss: 15.0697 - mae: 15.0697\n",
            "Epoch 8/100\n",
            "4/4 [==============================] - 0s 4ms/step - loss: 11.1443 - mae: 11.1443\n",
            "Epoch 9/100\n",
            "4/4 [==============================] - 0s 4ms/step - loss: 11.7263 - mae: 11.7263\n",
            "Epoch 10/100\n",
            "4/4 [==============================] - 0s 4ms/step - loss: 9.5285 - mae: 9.5285\n",
            "Epoch 11/100\n",
            "4/4 [==============================] - 0s 4ms/step - loss: 8.1030 - mae: 8.1030\n",
            "Epoch 12/100\n",
            "4/4 [==============================] - 0s 4ms/step - loss: 8.9895 - mae: 8.9895\n",
            "Epoch 13/100\n",
            "4/4 [==============================] - 0s 4ms/step - loss: 6.9817 - mae: 6.9817\n",
            "Epoch 14/100\n",
            "4/4 [==============================] - 0s 4ms/step - loss: 7.1058 - mae: 7.1058\n",
            "Epoch 15/100\n",
            "4/4 [==============================] - 0s 6ms/step - loss: 6.1127 - mae: 6.1127\n",
            "Epoch 16/100\n",
            "4/4 [==============================] - 0s 4ms/step - loss: 7.5066 - mae: 7.5066\n",
            "Epoch 17/100\n",
            "4/4 [==============================] - 0s 5ms/step - loss: 6.3465 - mae: 6.3465\n",
            "Epoch 18/100\n",
            "4/4 [==============================] - 0s 5ms/step - loss: 7.0877 - mae: 7.0877\n",
            "Epoch 19/100\n",
            "4/4 [==============================] - 0s 4ms/step - loss: 6.7750 - mae: 6.7750\n",
            "Epoch 20/100\n",
            "4/4 [==============================] - 0s 5ms/step - loss: 7.6646 - mae: 7.6646\n",
            "Epoch 21/100\n",
            "4/4 [==============================] - 0s 4ms/step - loss: 6.6451 - mae: 6.6451\n",
            "Epoch 22/100\n",
            "4/4 [==============================] - 0s 4ms/step - loss: 6.9960 - mae: 6.9960\n",
            "Epoch 23/100\n",
            "4/4 [==============================] - 0s 6ms/step - loss: 6.1044 - mae: 6.1044\n",
            "Epoch 24/100\n",
            "4/4 [==============================] - 0s 5ms/step - loss: 6.1711 - mae: 6.1711\n",
            "Epoch 25/100\n",
            "4/4 [==============================] - 0s 5ms/step - loss: 6.2690 - mae: 6.2690\n",
            "Epoch 26/100\n",
            "4/4 [==============================] - 0s 4ms/step - loss: 6.2474 - mae: 6.2474\n",
            "Epoch 27/100\n",
            "4/4 [==============================] - 0s 4ms/step - loss: 6.3977 - mae: 6.3977\n",
            "Epoch 28/100\n",
            "4/4 [==============================] - 0s 4ms/step - loss: 6.2169 - mae: 6.2169\n",
            "Epoch 29/100\n",
            "4/4 [==============================] - 0s 5ms/step - loss: 6.2271 - mae: 6.2271\n",
            "Epoch 30/100\n",
            "4/4 [==============================] - 0s 5ms/step - loss: 5.9921 - mae: 5.9921\n",
            "Epoch 31/100\n",
            "4/4 [==============================] - 0s 4ms/step - loss: 6.4891 - mae: 6.4891\n",
            "Epoch 32/100\n",
            "4/4 [==============================] - 0s 4ms/step - loss: 5.9085 - mae: 5.9085\n",
            "Epoch 33/100\n",
            "4/4 [==============================] - 0s 4ms/step - loss: 6.0829 - mae: 6.0829\n",
            "Epoch 34/100\n",
            "4/4 [==============================] - 0s 7ms/step - loss: 5.9330 - mae: 5.9330\n",
            "Epoch 35/100\n",
            "4/4 [==============================] - 0s 4ms/step - loss: 5.8273 - mae: 5.8273\n",
            "Epoch 36/100\n",
            "4/4 [==============================] - 0s 4ms/step - loss: 5.9462 - mae: 5.9462\n",
            "Epoch 37/100\n",
            "4/4 [==============================] - 0s 4ms/step - loss: 5.8455 - mae: 5.8455\n",
            "Epoch 38/100\n",
            "4/4 [==============================] - 0s 4ms/step - loss: 6.1524 - mae: 6.1524\n",
            "Epoch 39/100\n",
            "4/4 [==============================] - 0s 4ms/step - loss: 5.9842 - mae: 5.9842\n",
            "Epoch 40/100\n",
            "4/4 [==============================] - 0s 4ms/step - loss: 5.7841 - mae: 5.7841\n",
            "Epoch 41/100\n",
            "4/4 [==============================] - 0s 4ms/step - loss: 6.6069 - mae: 6.6069\n",
            "Epoch 42/100\n",
            "4/4 [==============================] - 0s 4ms/step - loss: 5.8301 - mae: 5.8301\n",
            "Epoch 43/100\n",
            "4/4 [==============================] - 0s 4ms/step - loss: 6.0598 - mae: 6.0598\n",
            "Epoch 44/100\n",
            "4/4 [==============================] - 0s 4ms/step - loss: 5.8288 - mae: 5.8288\n",
            "Epoch 45/100\n",
            "4/4 [==============================] - 0s 4ms/step - loss: 5.8690 - mae: 5.8690\n",
            "Epoch 46/100\n",
            "4/4 [==============================] - 0s 4ms/step - loss: 5.8489 - mae: 5.8489\n",
            "Epoch 47/100\n",
            "4/4 [==============================] - 0s 4ms/step - loss: 5.5942 - mae: 5.5942\n",
            "Epoch 48/100\n",
            "4/4 [==============================] - 0s 4ms/step - loss: 5.8878 - mae: 5.8878\n",
            "Epoch 49/100\n",
            "4/4 [==============================] - 0s 4ms/step - loss: 5.9037 - mae: 5.9037\n",
            "Epoch 50/100\n",
            "4/4 [==============================] - 0s 5ms/step - loss: 6.1862 - mae: 6.1862\n",
            "Epoch 51/100\n",
            "4/4 [==============================] - 0s 5ms/step - loss: 5.9989 - mae: 5.9989\n",
            "Epoch 52/100\n",
            "4/4 [==============================] - 0s 4ms/step - loss: 5.5470 - mae: 5.5470\n",
            "Epoch 53/100\n",
            "4/4 [==============================] - 0s 4ms/step - loss: 5.9348 - mae: 5.9348\n",
            "Epoch 54/100\n",
            "4/4 [==============================] - 0s 4ms/step - loss: 5.8093 - mae: 5.8093\n",
            "Epoch 55/100\n",
            "4/4 [==============================] - 0s 4ms/step - loss: 5.6724 - mae: 5.6724\n",
            "Epoch 56/100\n",
            "4/4 [==============================] - 0s 4ms/step - loss: 6.4841 - mae: 6.4841\n",
            "Epoch 57/100\n",
            "4/4 [==============================] - 0s 4ms/step - loss: 5.6176 - mae: 5.6176\n",
            "Epoch 58/100\n",
            "4/4 [==============================] - 0s 5ms/step - loss: 6.0117 - mae: 6.0117\n",
            "Epoch 59/100\n",
            "4/4 [==============================] - 0s 4ms/step - loss: 6.0513 - mae: 6.0513\n",
            "Epoch 60/100\n",
            "4/4 [==============================] - 0s 4ms/step - loss: 5.4741 - mae: 5.4741\n",
            "Epoch 61/100\n",
            "4/4 [==============================] - 0s 4ms/step - loss: 5.8401 - mae: 5.8401\n",
            "Epoch 62/100\n",
            "4/4 [==============================] - 0s 4ms/step - loss: 5.8043 - mae: 5.8043\n",
            "Epoch 63/100\n",
            "4/4 [==============================] - 0s 7ms/step - loss: 5.6695 - mae: 5.6695\n",
            "Epoch 64/100\n",
            "4/4 [==============================] - 0s 4ms/step - loss: 6.5292 - mae: 6.5292\n",
            "Epoch 65/100\n",
            "4/4 [==============================] - 0s 7ms/step - loss: 5.6329 - mae: 5.6329\n",
            "Epoch 66/100\n",
            "4/4 [==============================] - 0s 6ms/step - loss: 5.7188 - mae: 5.7188\n",
            "Epoch 67/100\n",
            "4/4 [==============================] - 0s 7ms/step - loss: 5.7113 - mae: 5.7113\n",
            "Epoch 68/100\n",
            "4/4 [==============================] - 0s 5ms/step - loss: 5.3394 - mae: 5.3394\n",
            "Epoch 69/100\n",
            "4/4 [==============================] - 0s 7ms/step - loss: 5.2818 - mae: 5.2818\n",
            "Epoch 70/100\n",
            "4/4 [==============================] - 0s 8ms/step - loss: 5.2146 - mae: 5.2146\n",
            "Epoch 71/100\n",
            "4/4 [==============================] - 0s 5ms/step - loss: 5.1214 - mae: 5.1214\n",
            "Epoch 72/100\n",
            "4/4 [==============================] - 0s 7ms/step - loss: 5.6308 - mae: 5.6308\n",
            "Epoch 73/100\n",
            "4/4 [==============================] - 0s 6ms/step - loss: 6.1666 - mae: 6.1666\n",
            "Epoch 74/100\n",
            "4/4 [==============================] - 0s 5ms/step - loss: 5.5096 - mae: 5.5096\n",
            "Epoch 75/100\n",
            "4/4 [==============================] - 0s 6ms/step - loss: 6.3106 - mae: 6.3106\n",
            "Epoch 76/100\n",
            "4/4 [==============================] - 0s 7ms/step - loss: 5.8200 - mae: 5.8200\n",
            "Epoch 77/100\n",
            "4/4 [==============================] - 0s 8ms/step - loss: 5.6761 - mae: 5.6761\n",
            "Epoch 78/100\n",
            "4/4 [==============================] - 0s 7ms/step - loss: 5.4748 - mae: 5.4748\n",
            "Epoch 79/100\n",
            "4/4 [==============================] - 0s 6ms/step - loss: 5.3877 - mae: 5.3877\n",
            "Epoch 80/100\n",
            "4/4 [==============================] - 0s 6ms/step - loss: 5.2772 - mae: 5.2772\n",
            "Epoch 81/100\n",
            "4/4 [==============================] - 0s 6ms/step - loss: 5.2951 - mae: 5.2951\n",
            "Epoch 82/100\n",
            "4/4 [==============================] - 0s 6ms/step - loss: 5.8708 - mae: 5.8708\n",
            "Epoch 83/100\n",
            "4/4 [==============================] - 0s 6ms/step - loss: 5.3884 - mae: 5.3884\n",
            "Epoch 84/100\n",
            "4/4 [==============================] - 0s 8ms/step - loss: 6.1219 - mae: 6.1219\n",
            "Epoch 85/100\n",
            "4/4 [==============================] - 0s 7ms/step - loss: 5.1543 - mae: 5.1543\n",
            "Epoch 86/100\n",
            "4/4 [==============================] - 0s 6ms/step - loss: 5.2974 - mae: 5.2974\n",
            "Epoch 87/100\n",
            "4/4 [==============================] - 0s 6ms/step - loss: 4.7622 - mae: 4.7622\n",
            "Epoch 88/100\n",
            "4/4 [==============================] - 0s 6ms/step - loss: 5.0700 - mae: 5.0700\n",
            "Epoch 89/100\n",
            "4/4 [==============================] - 0s 6ms/step - loss: 5.2328 - mae: 5.2328\n",
            "Epoch 90/100\n",
            "4/4 [==============================] - 0s 5ms/step - loss: 4.9013 - mae: 4.9013\n",
            "Epoch 91/100\n",
            "4/4 [==============================] - 0s 5ms/step - loss: 4.7212 - mae: 4.7212\n",
            "Epoch 92/100\n",
            "4/4 [==============================] - 0s 6ms/step - loss: 4.5184 - mae: 4.5184\n",
            "Epoch 93/100\n",
            "4/4 [==============================] - 0s 6ms/step - loss: 4.6544 - mae: 4.6544\n",
            "Epoch 94/100\n",
            "4/4 [==============================] - 0s 5ms/step - loss: 4.7271 - mae: 4.7271\n",
            "Epoch 95/100\n",
            "4/4 [==============================] - 0s 6ms/step - loss: 5.6095 - mae: 5.6095\n",
            "Epoch 96/100\n",
            "4/4 [==============================] - 0s 6ms/step - loss: 5.1983 - mae: 5.1983\n",
            "Epoch 97/100\n",
            "4/4 [==============================] - 0s 6ms/step - loss: 4.4584 - mae: 4.4584\n",
            "Epoch 98/100\n",
            "4/4 [==============================] - 0s 8ms/step - loss: 4.9097 - mae: 4.9097\n",
            "Epoch 99/100\n",
            "4/4 [==============================] - 0s 6ms/step - loss: 4.5623 - mae: 4.5623\n",
            "Epoch 100/100\n",
            "4/4 [==============================] - 0s 5ms/step - loss: 4.6306 - mae: 4.6306\n"
          ]
        },
        {
          "output_type": "execute_result",
          "data": {
            "text/plain": [
              "<keras.callbacks.History at 0x7f9324739e40>"
            ]
          },
          "metadata": {},
          "execution_count": 135
        }
      ]
    },
    {
      "cell_type": "code",
      "source": [
        "predictions = model.predict(X_test)"
      ],
      "metadata": {
        "colab": {
          "base_uri": "https://localhost:8080/"
        },
        "id": "8yOFeffgWGew",
        "outputId": "6da3e995-1b4a-4ac6-ca62-ef200bf84878"
      },
      "execution_count": 136,
      "outputs": [
        {
          "output_type": "stream",
          "name": "stdout",
          "text": [
            "1/1 [==============================] - 0s 56ms/step\n"
          ]
        }
      ]
    },
    {
      "cell_type": "code",
      "source": [
        "predictions"
      ],
      "metadata": {
        "colab": {
          "base_uri": "https://localhost:8080/"
        },
        "id": "BvUvHieaWGcK",
        "outputId": "f9d9fee5-c9cf-4bba-8318-df7862eadbc7"
      },
      "execution_count": 137,
      "outputs": [
        {
          "output_type": "execute_result",
          "data": {
            "text/plain": [
              "array([[223.98941],\n",
              "       [234.95276],\n",
              "       [245.91614],\n",
              "       [256.8795 ],\n",
              "       [267.84286],\n",
              "       [278.80624],\n",
              "       [289.76962],\n",
              "       [300.73297],\n",
              "       [311.69632],\n",
              "       [322.65973]], dtype=float32)"
            ]
          },
          "metadata": {},
          "execution_count": 137
        }
      ]
    },
    {
      "cell_type": "code",
      "source": [
        "plt.figure(figsize = (16,9))\n",
        "plt.scatter(X_train,y_train,c= 'b',label = 'Train Data')\n",
        "plt.scatter(X_test,y_test,c= 'm',label= 'Test Data')\n",
        "plt.scatter(predictions,predictions,c ='g',label= 'Predictions')\n",
        "plt.legend()\n",
        "plt.show()"
      ],
      "metadata": {
        "colab": {
          "base_uri": "https://localhost:8080/",
          "height": 590
        },
        "id": "28bG3ljpWGZT",
        "outputId": "8df3ea7a-636b-4201-caed-b062e181f87e"
      },
      "execution_count": 138,
      "outputs": [
        {
          "output_type": "display_data",
          "data": {
            "text/plain": [
              "<Figure size 1600x900 with 1 Axes>"
            ],
            "image/png": "[encoded data removed]"
          },
          "metadata": {}
        }
      ]
    },
    {
      "cell_type": "code",
      "source": [],
      "metadata": {
        "id": "2FF2svYzWGWc"
      },
      "execution_count": null,
      "outputs": []
    },
    {
      "cell_type": "code",
      "source": [],
      "metadata": {
        "id": "GSjSKOBtWGT2"
      },
      "execution_count": null,
      "outputs": []
    }
  ]
}