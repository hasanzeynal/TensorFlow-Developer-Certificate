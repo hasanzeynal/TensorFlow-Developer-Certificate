{
  "nbformat": 4,
  "nbformat_minor": 0,
  "metadata": {
    "colab": {
      "provenance": [],
      "gpuType": "T4",
      "toc_visible": true,
      "mount_file_id": "1qPU8ANIGYREss0ERQkjPgZkYngjuEOaX",
      "authorship_tag": "ABX9TyN1QLBla0oAKsjU+6W+ml1D",
      "include_colab_link": true
    },
    "kernelspec": {
      "name": "python3",
      "display_name": "Python 3"
    },
    "language_info": {
      "name": "python"
    },
    "accelerator": "GPU"
  },
  "cells": [
    {
      "cell_type": "markdown",
      "metadata": {
        "id": "view-in-github",
        "colab_type": "text"
      },
      "source": [
        "<a href=\"https://colab.research.google.com/github/hasanzeynal/Tensorflow-Developer-Certificate/blob/main/01_Neural_Network_Regression_in_TensorFlow/neural_network_regression_in_tensorflow.ipynb\" target=\"_parent\"><img src=\"https://colab.research.google.com/assets/colab-badge.svg\" alt=\"Open In Colab\"/></a>"
      ]
    },
    {
      "cell_type": "markdown",
      "source": [
        "# Introduction to Regression with Neural Network in TensorFlow"
      ],
      "metadata": {
        "id": "HcBnwSMj9dLo"
      }
    },
    {
      "cell_type": "code",
      "execution_count": 2,
      "metadata": {
        "id": "lgeqBHLV89Tw",
        "colab": {
          "base_uri": "https://localhost:8080/"
        },
        "outputId": "ed695aec-5894-4e68-f93b-d1158a0b8ae5"
      },
      "outputs": [
        {
          "output_type": "stream",
          "name": "stdout",
          "text": [
            "2.12.0\n"
          ]
        }
      ],
      "source": [
        "#import tensorflow\n",
        "import tensorflow as tf\n",
        "print(tf.__version__)"
      ]
    },
    {
      "cell_type": "code",
      "source": [
        "#ignore all warnings\n",
        "import warnings\n",
        "warnings.filterwarnings('ignore')"
      ],
      "metadata": {
        "id": "kJCDqgHRc765"
      },
      "execution_count": 3,
      "outputs": []
    },
    {
      "cell_type": "markdown",
      "source": [
        "# Basic Neural Network Model for Regression Problem\n",
        "Then, After building our basic NN model, we are gonna try:\n",
        "* improving our model\n",
        "* evaluating\n",
        "* setting\n",
        "* saving\n",
        "* loading\n",
        "* processing with feature scalling(normalising, fitting model on a scaled data)"
      ],
      "metadata": {
        "id": "YADf_H9WbrcT"
      }
    },
    {
      "cell_type": "markdown",
      "source": [
        "## Building Basic Model in TensorFlow"
      ],
      "metadata": {
        "id": "0V3OkMVlZojC"
      }
    },
    {
      "cell_type": "markdown",
      "source": [
        "## Creating Data, So we can model it"
      ],
      "metadata": {
        "id": "GmaElyhN5BfG"
      }
    },
    {
      "cell_type": "code",
      "source": [
        "X = tf.constant([-1,1,3,5,7,9,11,13,15,17,19,21,23])\n",
        "y = tf.constant([9,11,13,15,17,19,21,23,25,27,29,31,33])  #the difference between X and y is 10"
      ],
      "metadata": {
        "id": "KO1nCYkc5Bh7"
      },
      "execution_count": 4,
      "outputs": []
    },
    {
      "cell_type": "code",
      "source": [
        "#looking for the input and output shape\n",
        "X.shape,y.shape  #just we are gonna need comma in the tensoor shape after 14 so shape is (14,)"
      ],
      "metadata": {
        "colab": {
          "base_uri": "https://localhost:8080/"
        },
        "id": "CnqbZ6Ls5Bky",
        "outputId": "cab790d7-47a9-437f-d920-95afa8d75e26"
      },
      "execution_count": 5,
      "outputs": [
        {
          "output_type": "execute_result",
          "data": {
            "text/plain": [
              "(TensorShape([13]), TensorShape([13]))"
            ]
          },
          "metadata": {},
          "execution_count": 5
        }
      ]
    },
    {
      "cell_type": "markdown",
      "source": [
        "### Steps in Modelling in TensorFlow.\n",
        "1. **Creating Model** - define imput, output, hidden layers of our Deep Learning Model.\n",
        "\n",
        "2. **Compiling Model** - define the loss function(the function which tell us how wrong our model is), define optimizer(which tell us our model how improve) and evaluation metrics(we can use to interpret the performance of our model).\n",
        "\n",
        "3. Fitting Model - letting the model try to find patterns between X and y(features and labels)"
      ],
      "metadata": {
        "id": "WhGeFacUH-VR"
      }
    },
    {
      "cell_type": "code",
      "source": [
        "#change 1 rank tensoir to the 2 rank tensor\n",
        "tf.expand_dims(X,-1)"
      ],
      "metadata": {
        "colab": {
          "base_uri": "https://localhost:8080/"
        },
        "id": "Pk4fVlskERYw",
        "outputId": "b19ce88b-fde3-48eb-b9ca-2561926ad6c8"
      },
      "execution_count": 6,
      "outputs": [
        {
          "output_type": "execute_result",
          "data": {
            "text/plain": [
              "<tf.Tensor: shape=(13, 1), dtype=int32, numpy=\n",
              "array([[-1],\n",
              "       [ 1],\n",
              "       [ 3],\n",
              "       [ 5],\n",
              "       [ 7],\n",
              "       [ 9],\n",
              "       [11],\n",
              "       [13],\n",
              "       [15],\n",
              "       [17],\n",
              "       [19],\n",
              "       [21],\n",
              "       [23]], dtype=int32)>"
            ]
          },
          "metadata": {},
          "execution_count": 6
        }
      ]
    },
    {
      "cell_type": "code",
      "source": [
        "#creating model\n",
        "model = tf.keras.models.Sequential([\n",
        "    tf.keras.layers.Dense(1)\n",
        "])\n",
        "#adding dense layer with the 1 neuron\n",
        "#model.add(tf.keras.layers.Dense(1, input_shape = (14,)))\n",
        "#model.add(tf.keras.layers.Dense(1))\n",
        "\n",
        "#compiling the model\n",
        "model.compile(loss= tf.keras.losses.mae,  #MAE stands for the Mean Absolute Error\n",
        "              optimizer= tf.keras.optimizers.SGD(), #SGD stands for the Stochastic Gradient Error\n",
        "              metrics= ['mae'])\n",
        "\n",
        "#fitting the model\n",
        "model.fit(tf.expand_dims(X,axis = -1), y, epochs= 5)  #axis= -1 makes 2 rank tensor,1 rank tensor is caused an error"
      ],
      "metadata": {
        "id": "yW8er5QyaGOV",
        "colab": {
          "base_uri": "https://localhost:8080/"
        },
        "outputId": "2c0e40bc-fe06-4062-a7d9-34823b9742e5"
      },
      "execution_count": 7,
      "outputs": [
        {
          "output_type": "stream",
          "name": "stdout",
          "text": [
            "Epoch 1/5\n",
            "1/1 [==============================] - 5s 5s/step - loss: 23.8215 - mae: 23.8215\n",
            "Epoch 2/5\n",
            "1/1 [==============================] - 0s 10ms/step - loss: 22.6015 - mae: 22.6015\n",
            "Epoch 3/5\n",
            "1/1 [==============================] - 0s 10ms/step - loss: 21.3815 - mae: 21.3815\n",
            "Epoch 4/5\n",
            "1/1 [==============================] - 0s 10ms/step - loss: 20.1615 - mae: 20.1615\n",
            "Epoch 5/5\n",
            "1/1 [==============================] - 0s 9ms/step - loss: 18.9415 - mae: 18.9415\n"
          ]
        },
        {
          "output_type": "execute_result",
          "data": {
            "text/plain": [
              "<keras.callbacks.History at 0x7f941c0e1480>"
            ]
          },
          "metadata": {},
          "execution_count": 7
        }
      ]
    },
    {
      "cell_type": "code",
      "source": [],
      "metadata": {
        "id": "76EkMG_-aGLd"
      },
      "execution_count": 7,
      "outputs": []
    },
    {
      "cell_type": "code",
      "source": [
        "#trying make prediction based on X for y\n",
        "model.predict([25])     #if our model is good enough, the answer would be around 35"
      ],
      "metadata": {
        "id": "UaCqUj_OaGIE",
        "colab": {
          "base_uri": "https://localhost:8080/"
        },
        "outputId": "71cdae1b-0a4e-4663-84ab-b4c1f6b96396"
      },
      "execution_count": 8,
      "outputs": [
        {
          "output_type": "stream",
          "name": "stdout",
          "text": [
            "1/1 [==============================] - 0s 75ms/step\n"
          ]
        },
        {
          "output_type": "execute_result",
          "data": {
            "text/plain": [
              "array([[7.3875003]], dtype=float32)"
            ]
          },
          "metadata": {},
          "execution_count": 8
        }
      ]
    },
    {
      "cell_type": "markdown",
      "source": [
        "## Improving our model"
      ],
      "metadata": {
        "id": "I3BISrqHaGFN"
      }
    },
    {
      "cell_type": "markdown",
      "source": [
        "### Creating new model to improve our result"
      ],
      "metadata": {
        "id": "eTG6CxboaGCF"
      }
    },
    {
      "cell_type": "code",
      "source": [
        "from sklearn.model_selection import train_test_split\n",
        "import numpy as np\n",
        "X = np.array(X)\n",
        "y = np.array(y)\n",
        "X_train,X_test,y_train,y_test= train_test_split(X,y,test_size = 0.2,random_state = True)"
      ],
      "metadata": {
        "id": "81JNqwc8NMxl"
      },
      "execution_count": 9,
      "outputs": []
    },
    {
      "cell_type": "code",
      "source": [
        "#create a model(specified to your probelm)\n",
        "improved_model = tf.keras.models.Sequential([\n",
        "    tf.keras.layers.Dense(100,activation = 'relu'),\n",
        "    tf.keras.layers.Dense(100,activation = 'relu'),\n",
        "    tf.keras.layers.Dense(1)\n",
        "])\n",
        "\n",
        "#compile model\n",
        "improved_model.compile(loss = tf.keras.losses.mae,\n",
        "                       optimizer = tf.keras.optimizers.Adam(lr = 0.0001),\n",
        "                       metrics = ['mae'])\n",
        "\n",
        "#fit the model with the subset of X and y and 100 epochs\n",
        "improved_model.fit(tf.expand_dims(X_train,axis= 1),y_train,epochs = 100)"
      ],
      "metadata": {
        "id": "FRHGSeUGaF_O",
        "colab": {
          "base_uri": "https://localhost:8080/"
        },
        "outputId": "e8e7aea9-42a4-456e-a041-3e19a63af543"
      },
      "execution_count": 10,
      "outputs": [
        {
          "output_type": "stream",
          "name": "stderr",
          "text": [
            "WARNING:absl:`lr` is deprecated in Keras optimizer, please use `learning_rate` or use the legacy optimizer, e.g.,tf.keras.optimizers.legacy.Adam.\n"
          ]
        },
        {
          "output_type": "stream",
          "name": "stdout",
          "text": [
            "Epoch 1/100\n",
            "1/1 [==============================] - 2s 2s/step - loss: 24.2121 - mae: 24.2121\n",
            "Epoch 2/100\n",
            "1/1 [==============================] - 0s 19ms/step - loss: 23.4617 - mae: 23.4617\n",
            "Epoch 3/100\n",
            "1/1 [==============================] - 0s 17ms/step - loss: 22.7291 - mae: 22.7291\n",
            "Epoch 4/100\n",
            "1/1 [==============================] - 0s 12ms/step - loss: 22.0328 - mae: 22.0328\n",
            "Epoch 5/100\n",
            "1/1 [==============================] - 0s 12ms/step - loss: 21.3630 - mae: 21.3630\n",
            "Epoch 6/100\n",
            "1/1 [==============================] - 0s 14ms/step - loss: 20.6976 - mae: 20.6976\n",
            "Epoch 7/100\n",
            "1/1 [==============================] - 0s 13ms/step - loss: 20.0334 - mae: 20.0334\n",
            "Epoch 8/100\n",
            "1/1 [==============================] - 0s 15ms/step - loss: 19.3817 - mae: 19.3817\n",
            "Epoch 9/100\n",
            "1/1 [==============================] - 0s 10ms/step - loss: 18.7421 - mae: 18.7421\n",
            "Epoch 10/100\n",
            "1/1 [==============================] - 0s 10ms/step - loss: 18.1108 - mae: 18.1108\n",
            "Epoch 11/100\n",
            "1/1 [==============================] - 0s 11ms/step - loss: 17.4690 - mae: 17.4690\n",
            "Epoch 12/100\n",
            "1/1 [==============================] - 0s 16ms/step - loss: 16.8267 - mae: 16.8267\n",
            "Epoch 13/100\n",
            "1/1 [==============================] - 0s 10ms/step - loss: 16.1946 - mae: 16.1946\n",
            "Epoch 14/100\n",
            "1/1 [==============================] - 0s 10ms/step - loss: 15.6023 - mae: 15.6023\n",
            "Epoch 15/100\n",
            "1/1 [==============================] - 0s 11ms/step - loss: 15.0025 - mae: 15.0025\n",
            "Epoch 16/100\n",
            "1/1 [==============================] - 0s 10ms/step - loss: 14.4041 - mae: 14.4041\n",
            "Epoch 17/100\n",
            "1/1 [==============================] - 0s 9ms/step - loss: 13.7957 - mae: 13.7957\n",
            "Epoch 18/100\n",
            "1/1 [==============================] - 0s 9ms/step - loss: 13.1641 - mae: 13.1641\n",
            "Epoch 19/100\n",
            "1/1 [==============================] - 0s 10ms/step - loss: 12.5101 - mae: 12.5101\n",
            "Epoch 20/100\n",
            "1/1 [==============================] - 0s 12ms/step - loss: 11.8464 - mae: 11.8464\n",
            "Epoch 21/100\n",
            "1/1 [==============================] - 0s 14ms/step - loss: 11.1685 - mae: 11.1685\n",
            "Epoch 22/100\n",
            "1/1 [==============================] - 0s 10ms/step - loss: 10.4897 - mae: 10.4897\n",
            "Epoch 23/100\n",
            "1/1 [==============================] - 0s 10ms/step - loss: 9.8008 - mae: 9.8008\n",
            "Epoch 24/100\n",
            "1/1 [==============================] - 0s 10ms/step - loss: 9.0878 - mae: 9.0878\n",
            "Epoch 25/100\n",
            "1/1 [==============================] - 0s 16ms/step - loss: 8.3685 - mae: 8.3685\n",
            "Epoch 26/100\n",
            "1/1 [==============================] - 0s 10ms/step - loss: 7.6279 - mae: 7.6279\n",
            "Epoch 27/100\n",
            "1/1 [==============================] - 0s 10ms/step - loss: 6.8640 - mae: 6.8640\n",
            "Epoch 28/100\n",
            "1/1 [==============================] - 0s 10ms/step - loss: 6.0767 - mae: 6.0767\n",
            "Epoch 29/100\n",
            "1/1 [==============================] - 0s 11ms/step - loss: 5.2657 - mae: 5.2657\n",
            "Epoch 30/100\n",
            "1/1 [==============================] - 0s 14ms/step - loss: 4.4305 - mae: 4.4305\n",
            "Epoch 31/100\n",
            "1/1 [==============================] - 0s 14ms/step - loss: 3.7333 - mae: 3.7333\n",
            "Epoch 32/100\n",
            "1/1 [==============================] - 0s 14ms/step - loss: 3.4813 - mae: 3.4813\n",
            "Epoch 33/100\n",
            "1/1 [==============================] - 0s 10ms/step - loss: 3.5025 - mae: 3.5025\n",
            "Epoch 34/100\n",
            "1/1 [==============================] - 0s 10ms/step - loss: 3.6595 - mae: 3.6595\n",
            "Epoch 35/100\n",
            "1/1 [==============================] - 0s 10ms/step - loss: 3.9277 - mae: 3.9277\n",
            "Epoch 36/100\n",
            "1/1 [==============================] - 0s 10ms/step - loss: 4.1549 - mae: 4.1549\n",
            "Epoch 37/100\n",
            "1/1 [==============================] - 0s 10ms/step - loss: 4.3757 - mae: 4.3757\n",
            "Epoch 38/100\n",
            "1/1 [==============================] - 0s 10ms/step - loss: 4.5415 - mae: 4.5415\n",
            "Epoch 39/100\n",
            "1/1 [==============================] - 0s 10ms/step - loss: 4.6289 - mae: 4.6289\n",
            "Epoch 40/100\n",
            "1/1 [==============================] - 0s 10ms/step - loss: 4.6444 - mae: 4.6444\n",
            "Epoch 41/100\n",
            "1/1 [==============================] - 0s 10ms/step - loss: 4.5959 - mae: 4.5959\n",
            "Epoch 42/100\n",
            "1/1 [==============================] - 0s 11ms/step - loss: 4.4909 - mae: 4.4909\n",
            "Epoch 43/100\n",
            "1/1 [==============================] - 0s 11ms/step - loss: 4.3367 - mae: 4.3367\n",
            "Epoch 44/100\n",
            "1/1 [==============================] - 0s 10ms/step - loss: 4.1495 - mae: 4.1495\n",
            "Epoch 45/100\n",
            "1/1 [==============================] - 0s 11ms/step - loss: 3.9950 - mae: 3.9950\n",
            "Epoch 46/100\n",
            "1/1 [==============================] - 0s 10ms/step - loss: 3.8280 - mae: 3.8280\n",
            "Epoch 47/100\n",
            "1/1 [==============================] - 0s 10ms/step - loss: 3.6502 - mae: 3.6502\n",
            "Epoch 48/100\n",
            "1/1 [==============================] - 0s 9ms/step - loss: 3.5085 - mae: 3.5085\n",
            "Epoch 49/100\n",
            "1/1 [==============================] - 0s 10ms/step - loss: 3.4127 - mae: 3.4127\n",
            "Epoch 50/100\n",
            "1/1 [==============================] - 0s 10ms/step - loss: 3.3189 - mae: 3.3189\n",
            "Epoch 51/100\n",
            "1/1 [==============================] - 0s 10ms/step - loss: 3.3111 - mae: 3.3111\n",
            "Epoch 52/100\n",
            "1/1 [==============================] - 0s 15ms/step - loss: 3.3103 - mae: 3.3103\n",
            "Epoch 53/100\n",
            "1/1 [==============================] - 0s 13ms/step - loss: 3.3523 - mae: 3.3523\n",
            "Epoch 54/100\n",
            "1/1 [==============================] - 0s 12ms/step - loss: 3.4098 - mae: 3.4098\n",
            "Epoch 55/100\n",
            "1/1 [==============================] - 0s 16ms/step - loss: 3.4477 - mae: 3.4477\n",
            "Epoch 56/100\n",
            "1/1 [==============================] - 0s 15ms/step - loss: 3.4680 - mae: 3.4680\n",
            "Epoch 57/100\n",
            "1/1 [==============================] - 0s 12ms/step - loss: 3.4888 - mae: 3.4888\n",
            "Epoch 58/100\n",
            "1/1 [==============================] - 0s 11ms/step - loss: 3.4573 - mae: 3.4573\n",
            "Epoch 59/100\n",
            "1/1 [==============================] - 0s 14ms/step - loss: 3.4038 - mae: 3.4038\n",
            "Epoch 60/100\n",
            "1/1 [==============================] - 0s 13ms/step - loss: 3.3476 - mae: 3.3476\n",
            "Epoch 61/100\n",
            "1/1 [==============================] - 0s 13ms/step - loss: 3.2823 - mae: 3.2823\n",
            "Epoch 62/100\n",
            "1/1 [==============================] - 0s 12ms/step - loss: 3.2083 - mae: 3.2083\n",
            "Epoch 63/100\n",
            "1/1 [==============================] - 0s 10ms/step - loss: 3.1687 - mae: 3.1687\n",
            "Epoch 64/100\n",
            "1/1 [==============================] - 0s 10ms/step - loss: 3.1475 - mae: 3.1475\n",
            "Epoch 65/100\n",
            "1/1 [==============================] - 0s 10ms/step - loss: 3.1263 - mae: 3.1263\n",
            "Epoch 66/100\n",
            "1/1 [==============================] - 0s 10ms/step - loss: 3.1052 - mae: 3.1052\n",
            "Epoch 67/100\n",
            "1/1 [==============================] - 0s 9ms/step - loss: 3.1090 - mae: 3.1090\n",
            "Epoch 68/100\n",
            "1/1 [==============================] - 0s 10ms/step - loss: 3.1188 - mae: 3.1188\n",
            "Epoch 69/100\n",
            "1/1 [==============================] - 0s 10ms/step - loss: 3.1188 - mae: 3.1188\n",
            "Epoch 70/100\n",
            "1/1 [==============================] - 0s 10ms/step - loss: 3.1097 - mae: 3.1097\n",
            "Epoch 71/100\n",
            "1/1 [==============================] - 0s 10ms/step - loss: 3.0923 - mae: 3.0923\n",
            "Epoch 72/100\n",
            "1/1 [==============================] - 0s 10ms/step - loss: 3.0673 - mae: 3.0673\n",
            "Epoch 73/100\n",
            "1/1 [==============================] - 0s 13ms/step - loss: 3.0381 - mae: 3.0381\n",
            "Epoch 74/100\n",
            "1/1 [==============================] - 0s 10ms/step - loss: 2.9961 - mae: 2.9961\n",
            "Epoch 75/100\n",
            "1/1 [==============================] - 0s 10ms/step - loss: 2.9548 - mae: 2.9548\n",
            "Epoch 76/100\n",
            "1/1 [==============================] - 0s 10ms/step - loss: 2.9328 - mae: 2.9328\n",
            "Epoch 77/100\n",
            "1/1 [==============================] - 0s 12ms/step - loss: 2.9178 - mae: 2.9178\n",
            "Epoch 78/100\n",
            "1/1 [==============================] - 0s 9ms/step - loss: 2.9018 - mae: 2.9018\n",
            "Epoch 79/100\n",
            "1/1 [==============================] - 0s 10ms/step - loss: 2.8849 - mae: 2.8849\n",
            "Epoch 80/100\n",
            "1/1 [==============================] - 0s 10ms/step - loss: 2.8671 - mae: 2.8671\n",
            "Epoch 81/100\n",
            "1/1 [==============================] - 0s 9ms/step - loss: 2.8484 - mae: 2.8484\n",
            "Epoch 82/100\n",
            "1/1 [==============================] - 0s 10ms/step - loss: 2.8288 - mae: 2.8288\n",
            "Epoch 83/100\n",
            "1/1 [==============================] - 0s 9ms/step - loss: 2.8084 - mae: 2.8084\n",
            "Epoch 84/100\n",
            "1/1 [==============================] - 0s 10ms/step - loss: 2.7872 - mae: 2.7872\n",
            "Epoch 85/100\n",
            "1/1 [==============================] - 0s 10ms/step - loss: 2.7652 - mae: 2.7652\n",
            "Epoch 86/100\n",
            "1/1 [==============================] - 0s 10ms/step - loss: 2.7425 - mae: 2.7425\n",
            "Epoch 87/100\n",
            "1/1 [==============================] - 0s 9ms/step - loss: 2.7182 - mae: 2.7182\n",
            "Epoch 88/100\n",
            "1/1 [==============================] - 0s 10ms/step - loss: 2.6909 - mae: 2.6909\n",
            "Epoch 89/100\n",
            "1/1 [==============================] - 0s 10ms/step - loss: 2.6647 - mae: 2.6647\n",
            "Epoch 90/100\n",
            "1/1 [==============================] - 0s 10ms/step - loss: 2.6328 - mae: 2.6328\n",
            "Epoch 91/100\n",
            "1/1 [==============================] - 0s 10ms/step - loss: 2.6040 - mae: 2.6040\n",
            "Epoch 92/100\n",
            "1/1 [==============================] - 0s 12ms/step - loss: 2.5756 - mae: 2.5756\n",
            "Epoch 93/100\n",
            "1/1 [==============================] - 0s 15ms/step - loss: 2.5768 - mae: 2.5768\n",
            "Epoch 94/100\n",
            "1/1 [==============================] - 0s 14ms/step - loss: 2.5890 - mae: 2.5890\n",
            "Epoch 95/100\n",
            "1/1 [==============================] - 0s 15ms/step - loss: 2.5968 - mae: 2.5968\n",
            "Epoch 96/100\n",
            "1/1 [==============================] - 0s 17ms/step - loss: 2.6004 - mae: 2.6004\n",
            "Epoch 97/100\n",
            "1/1 [==============================] - 0s 13ms/step - loss: 2.6004 - mae: 2.6004\n",
            "Epoch 98/100\n",
            "1/1 [==============================] - 0s 13ms/step - loss: 2.6177 - mae: 2.6177\n",
            "Epoch 99/100\n",
            "1/1 [==============================] - 0s 10ms/step - loss: 2.6149 - mae: 2.6149\n",
            "Epoch 100/100\n",
            "1/1 [==============================] - 0s 13ms/step - loss: 2.5948 - mae: 2.5948\n"
          ]
        },
        {
          "output_type": "execute_result",
          "data": {
            "text/plain": [
              "<keras.callbacks.History at 0x7f939620c3a0>"
            ]
          },
          "metadata": {},
          "execution_count": 10
        }
      ]
    },
    {
      "cell_type": "code",
      "source": [
        "#let's see the result by doing prediction in the same way as we did before on 'model'\n",
        "improved_model.predict([21])     #so much closer as you see, better and more usefull"
      ],
      "metadata": {
        "id": "cR0fUdDRaF8W",
        "colab": {
          "base_uri": "https://localhost:8080/"
        },
        "outputId": "1f9805be-5f00-4160-dee5-87c2cd682903"
      },
      "execution_count": 11,
      "outputs": [
        {
          "output_type": "stream",
          "name": "stdout",
          "text": [
            "1/1 [==============================] - 0s 117ms/step\n"
          ]
        },
        {
          "output_type": "execute_result",
          "data": {
            "text/plain": [
              "array([[32.958652]], dtype=float32)"
            ]
          },
          "metadata": {},
          "execution_count": 11
        }
      ]
    },
    {
      "cell_type": "markdown",
      "source": [
        "### See if we even can do more changes to get more better predictions\n"
      ],
      "metadata": {
        "id": "qH7IqXRAaF5z"
      }
    },
    {
      "cell_type": "code",
      "source": [
        "#create the model with extra hidden layer(100 hidden units)\n",
        "model = tf.keras.models.Sequential([\n",
        "    tf.keras.layers.Dense(100,activation = 'relu'),\n",
        "    tf.keras.layers.Dense(100,activation = 'relu'),\n",
        "    tf.keras.layers.Dense(100,activation = 'relu'),   #1 hidden layer is added with 100 hidden units\n",
        "    tf.keras.layers.Dense(1)\n",
        "])\n",
        "\n",
        "#compile the model\n",
        "model.compile(loss= tf.keras.losses.mae,\n",
        "              optimizer= tf.keras.optimizers.Adam(lr = 0.0001),   #lr is changed\n",
        "              metrics = ['mae'])\n",
        "\n",
        "#fit the model\n",
        "model.fit(tf.expand_dims(X_train,axis=-1),y_train,epochs = 150)  #number of epochs is changed"
      ],
      "metadata": {
        "id": "X8x6hQODaFxO",
        "colab": {
          "base_uri": "https://localhost:8080/"
        },
        "outputId": "67ef82d2-290b-4ef2-f096-caf35983e5e6"
      },
      "execution_count": 12,
      "outputs": [
        {
          "output_type": "stream",
          "name": "stderr",
          "text": [
            "WARNING:absl:`lr` is deprecated in Keras optimizer, please use `learning_rate` or use the legacy optimizer, e.g.,tf.keras.optimizers.legacy.Adam.\n"
          ]
        },
        {
          "output_type": "stream",
          "name": "stdout",
          "text": [
            "Epoch 1/150\n",
            "1/1 [==============================] - 2s 2s/step - loss: 23.0036 - mae: 23.0036\n",
            "Epoch 2/150\n",
            "1/1 [==============================] - 0s 12ms/step - loss: 22.4766 - mae: 22.4766\n",
            "Epoch 3/150\n",
            "1/1 [==============================] - 0s 14ms/step - loss: 21.9797 - mae: 21.9797\n",
            "Epoch 4/150\n",
            "1/1 [==============================] - 0s 12ms/step - loss: 21.5087 - mae: 21.5087\n",
            "Epoch 5/150\n",
            "1/1 [==============================] - 0s 11ms/step - loss: 21.0327 - mae: 21.0327\n",
            "Epoch 6/150\n",
            "1/1 [==============================] - 0s 15ms/step - loss: 20.5617 - mae: 20.5617\n",
            "Epoch 7/150\n",
            "1/1 [==============================] - 0s 11ms/step - loss: 20.1365 - mae: 20.1365\n",
            "Epoch 8/150\n",
            "1/1 [==============================] - 0s 13ms/step - loss: 19.7085 - mae: 19.7085\n",
            "Epoch 9/150\n",
            "1/1 [==============================] - 0s 12ms/step - loss: 19.2808 - mae: 19.2808\n",
            "Epoch 10/150\n",
            "1/1 [==============================] - 0s 11ms/step - loss: 18.8362 - mae: 18.8362\n",
            "Epoch 11/150\n",
            "1/1 [==============================] - 0s 12ms/step - loss: 18.3785 - mae: 18.3785\n",
            "Epoch 12/150\n",
            "1/1 [==============================] - 0s 12ms/step - loss: 17.9014 - mae: 17.9014\n",
            "Epoch 13/150\n",
            "1/1 [==============================] - 0s 12ms/step - loss: 17.4005 - mae: 17.4005\n",
            "Epoch 14/150\n",
            "1/1 [==============================] - 0s 14ms/step - loss: 16.8884 - mae: 16.8884\n",
            "Epoch 15/150\n",
            "1/1 [==============================] - 0s 13ms/step - loss: 16.3435 - mae: 16.3435\n",
            "Epoch 16/150\n",
            "1/1 [==============================] - 0s 11ms/step - loss: 15.7681 - mae: 15.7681\n",
            "Epoch 17/150\n",
            "1/1 [==============================] - 0s 11ms/step - loss: 15.1535 - mae: 15.1535\n",
            "Epoch 18/150\n",
            "1/1 [==============================] - 0s 11ms/step - loss: 14.4922 - mae: 14.4922\n",
            "Epoch 19/150\n",
            "1/1 [==============================] - 0s 14ms/step - loss: 13.7905 - mae: 13.7905\n",
            "Epoch 20/150\n",
            "1/1 [==============================] - 0s 12ms/step - loss: 13.0273 - mae: 13.0273\n",
            "Epoch 21/150\n",
            "1/1 [==============================] - 0s 12ms/step - loss: 12.2104 - mae: 12.2104\n",
            "Epoch 22/150\n",
            "1/1 [==============================] - 0s 12ms/step - loss: 11.3306 - mae: 11.3306\n",
            "Epoch 23/150\n",
            "1/1 [==============================] - 0s 11ms/step - loss: 10.3867 - mae: 10.3867\n",
            "Epoch 24/150\n",
            "1/1 [==============================] - 0s 11ms/step - loss: 9.3745 - mae: 9.3745\n",
            "Epoch 25/150\n",
            "1/1 [==============================] - 0s 12ms/step - loss: 8.2894 - mae: 8.2894\n",
            "Epoch 26/150\n",
            "1/1 [==============================] - 0s 11ms/step - loss: 7.1217 - mae: 7.1217\n",
            "Epoch 27/150\n",
            "1/1 [==============================] - 0s 11ms/step - loss: 5.8749 - mae: 5.8749\n",
            "Epoch 28/150\n",
            "1/1 [==============================] - 0s 11ms/step - loss: 4.5395 - mae: 4.5395\n",
            "Epoch 29/150\n",
            "1/1 [==============================] - 0s 13ms/step - loss: 3.3976 - mae: 3.3976\n",
            "Epoch 30/150\n",
            "1/1 [==============================] - 0s 12ms/step - loss: 3.2420 - mae: 3.2420\n",
            "Epoch 31/150\n",
            "1/1 [==============================] - 0s 11ms/step - loss: 3.6318 - mae: 3.6318\n",
            "Epoch 32/150\n",
            "1/1 [==============================] - 0s 12ms/step - loss: 4.1616 - mae: 4.1616\n",
            "Epoch 33/150\n",
            "1/1 [==============================] - 0s 15ms/step - loss: 4.6361 - mae: 4.6361\n",
            "Epoch 34/150\n",
            "1/1 [==============================] - 0s 14ms/step - loss: 4.9291 - mae: 4.9291\n",
            "Epoch 35/150\n",
            "1/1 [==============================] - 0s 13ms/step - loss: 5.0666 - mae: 5.0666\n",
            "Epoch 36/150\n",
            "1/1 [==============================] - 0s 11ms/step - loss: 4.9927 - mae: 4.9927\n",
            "Epoch 37/150\n",
            "1/1 [==============================] - 0s 17ms/step - loss: 4.7593 - mae: 4.7593\n",
            "Epoch 38/150\n",
            "1/1 [==============================] - 0s 12ms/step - loss: 4.4423 - mae: 4.4423\n",
            "Epoch 39/150\n",
            "1/1 [==============================] - 0s 11ms/step - loss: 4.0498 - mae: 4.0498\n",
            "Epoch 40/150\n",
            "1/1 [==============================] - 0s 12ms/step - loss: 3.6158 - mae: 3.6158\n",
            "Epoch 41/150\n",
            "1/1 [==============================] - 0s 13ms/step - loss: 3.2701 - mae: 3.2701\n",
            "Epoch 42/150\n",
            "1/1 [==============================] - 0s 12ms/step - loss: 2.9856 - mae: 2.9856\n",
            "Epoch 43/150\n",
            "1/1 [==============================] - 0s 11ms/step - loss: 2.8083 - mae: 2.8083\n",
            "Epoch 44/150\n",
            "1/1 [==============================] - 0s 10ms/step - loss: 2.7929 - mae: 2.7929\n",
            "Epoch 45/150\n",
            "1/1 [==============================] - 0s 14ms/step - loss: 2.8752 - mae: 2.8752\n",
            "Epoch 46/150\n",
            "1/1 [==============================] - 0s 12ms/step - loss: 2.9843 - mae: 2.9843\n",
            "Epoch 47/150\n",
            "1/1 [==============================] - 0s 12ms/step - loss: 3.0576 - mae: 3.0576\n",
            "Epoch 48/150\n",
            "1/1 [==============================] - 0s 12ms/step - loss: 3.0290 - mae: 3.0290\n",
            "Epoch 49/150\n",
            "1/1 [==============================] - 0s 12ms/step - loss: 2.9867 - mae: 2.9867\n",
            "Epoch 50/150\n",
            "1/1 [==============================] - 0s 12ms/step - loss: 2.8740 - mae: 2.8740\n",
            "Epoch 51/150\n",
            "1/1 [==============================] - 0s 12ms/step - loss: 2.7904 - mae: 2.7904\n",
            "Epoch 52/150\n",
            "1/1 [==============================] - 0s 12ms/step - loss: 2.7101 - mae: 2.7101\n",
            "Epoch 53/150\n",
            "1/1 [==============================] - 0s 12ms/step - loss: 2.7018 - mae: 2.7018\n",
            "Epoch 54/150\n",
            "1/1 [==============================] - 0s 11ms/step - loss: 2.6882 - mae: 2.6882\n",
            "Epoch 55/150\n",
            "1/1 [==============================] - 0s 13ms/step - loss: 2.7389 - mae: 2.7389\n",
            "Epoch 56/150\n",
            "1/1 [==============================] - 0s 12ms/step - loss: 2.7664 - mae: 2.7664\n",
            "Epoch 57/150\n",
            "1/1 [==============================] - 0s 11ms/step - loss: 2.7684 - mae: 2.7684\n",
            "Epoch 58/150\n",
            "1/1 [==============================] - 0s 11ms/step - loss: 2.7479 - mae: 2.7479\n",
            "Epoch 59/150\n",
            "1/1 [==============================] - 0s 11ms/step - loss: 2.7078 - mae: 2.7078\n",
            "Epoch 60/150\n",
            "1/1 [==============================] - 0s 10ms/step - loss: 2.6547 - mae: 2.6547\n",
            "Epoch 61/150\n",
            "1/1 [==============================] - 0s 11ms/step - loss: 2.6300 - mae: 2.6300\n",
            "Epoch 62/150\n",
            "1/1 [==============================] - 0s 13ms/step - loss: 2.6004 - mae: 2.6004\n",
            "Epoch 63/150\n",
            "1/1 [==============================] - 0s 14ms/step - loss: 2.6067 - mae: 2.6067\n",
            "Epoch 64/150\n",
            "1/1 [==============================] - 0s 12ms/step - loss: 2.6091 - mae: 2.6091\n",
            "Epoch 65/150\n",
            "1/1 [==============================] - 0s 10ms/step - loss: 2.6062 - mae: 2.6062\n",
            "Epoch 66/150\n",
            "1/1 [==============================] - 0s 10ms/step - loss: 2.5986 - mae: 2.5986\n",
            "Epoch 67/150\n",
            "1/1 [==============================] - 0s 11ms/step - loss: 2.5867 - mae: 2.5867\n",
            "Epoch 68/150\n",
            "1/1 [==============================] - 0s 11ms/step - loss: 2.5708 - mae: 2.5708\n",
            "Epoch 69/150\n",
            "1/1 [==============================] - 0s 12ms/step - loss: 2.5619 - mae: 2.5619\n",
            "Epoch 70/150\n",
            "1/1 [==============================] - 0s 12ms/step - loss: 2.5686 - mae: 2.5686\n",
            "Epoch 71/150\n",
            "1/1 [==============================] - 0s 11ms/step - loss: 2.5701 - mae: 2.5701\n",
            "Epoch 72/150\n",
            "1/1 [==============================] - 0s 12ms/step - loss: 2.5671 - mae: 2.5671\n",
            "Epoch 73/150\n",
            "1/1 [==============================] - 0s 13ms/step - loss: 2.5600 - mae: 2.5600\n",
            "Epoch 74/150\n",
            "1/1 [==============================] - 0s 13ms/step - loss: 2.5493 - mae: 2.5493\n",
            "Epoch 75/150\n",
            "1/1 [==============================] - 0s 11ms/step - loss: 2.5355 - mae: 2.5355\n",
            "Epoch 76/150\n",
            "1/1 [==============================] - 0s 13ms/step - loss: 2.5344 - mae: 2.5344\n",
            "Epoch 77/150\n",
            "1/1 [==============================] - 0s 12ms/step - loss: 2.5356 - mae: 2.5356\n",
            "Epoch 78/150\n",
            "1/1 [==============================] - 0s 10ms/step - loss: 2.5315 - mae: 2.5315\n",
            "Epoch 79/150\n",
            "1/1 [==============================] - 0s 13ms/step - loss: 2.5227 - mae: 2.5227\n",
            "Epoch 80/150\n",
            "1/1 [==============================] - 0s 19ms/step - loss: 2.5096 - mae: 2.5096\n",
            "Epoch 81/150\n",
            "1/1 [==============================] - 0s 13ms/step - loss: 2.4971 - mae: 2.4971\n",
            "Epoch 82/150\n",
            "1/1 [==============================] - 0s 13ms/step - loss: 2.4949 - mae: 2.4949\n",
            "Epoch 83/150\n",
            "1/1 [==============================] - 0s 12ms/step - loss: 2.4888 - mae: 2.4888\n",
            "Epoch 84/150\n",
            "1/1 [==============================] - 0s 12ms/step - loss: 2.4986 - mae: 2.4986\n",
            "Epoch 85/150\n",
            "1/1 [==============================] - 0s 12ms/step - loss: 2.4875 - mae: 2.4875\n",
            "Epoch 86/150\n",
            "1/1 [==============================] - 0s 12ms/step - loss: 2.4720 - mae: 2.4720\n",
            "Epoch 87/150\n",
            "1/1 [==============================] - 0s 13ms/step - loss: 2.4686 - mae: 2.4686\n",
            "Epoch 88/150\n",
            "1/1 [==============================] - 0s 12ms/step - loss: 2.4634 - mae: 2.4634\n",
            "Epoch 89/150\n",
            "1/1 [==============================] - 0s 12ms/step - loss: 2.4606 - mae: 2.4606\n",
            "Epoch 90/150\n",
            "1/1 [==============================] - 0s 13ms/step - loss: 2.4542 - mae: 2.4542\n",
            "Epoch 91/150\n",
            "1/1 [==============================] - 0s 13ms/step - loss: 2.4504 - mae: 2.4504\n",
            "Epoch 92/150\n",
            "1/1 [==============================] - 0s 15ms/step - loss: 2.4416 - mae: 2.4416\n",
            "Epoch 93/150\n",
            "1/1 [==============================] - 0s 13ms/step - loss: 2.4362 - mae: 2.4362\n",
            "Epoch 94/150\n",
            "1/1 [==============================] - 0s 18ms/step - loss: 2.4285 - mae: 2.4285\n",
            "Epoch 95/150\n",
            "1/1 [==============================] - 0s 12ms/step - loss: 2.4368 - mae: 2.4368\n",
            "Epoch 96/150\n",
            "1/1 [==============================] - 0s 11ms/step - loss: 2.4266 - mae: 2.4266\n",
            "Epoch 97/150\n",
            "1/1 [==============================] - 0s 14ms/step - loss: 2.4187 - mae: 2.4187\n",
            "Epoch 98/150\n",
            "1/1 [==============================] - 0s 11ms/step - loss: 2.4152 - mae: 2.4152\n",
            "Epoch 99/150\n",
            "1/1 [==============================] - 0s 10ms/step - loss: 2.4139 - mae: 2.4139\n",
            "Epoch 100/150\n",
            "1/1 [==============================] - 0s 13ms/step - loss: 2.4089 - mae: 2.4089\n",
            "Epoch 101/150\n",
            "1/1 [==============================] - 0s 12ms/step - loss: 2.4068 - mae: 2.4068\n",
            "Epoch 102/150\n",
            "1/1 [==============================] - 0s 12ms/step - loss: 2.4026 - mae: 2.4026\n",
            "Epoch 103/150\n",
            "1/1 [==============================] - 0s 12ms/step - loss: 2.3935 - mae: 2.3935\n",
            "Epoch 104/150\n",
            "1/1 [==============================] - 0s 13ms/step - loss: 2.3937 - mae: 2.3937\n",
            "Epoch 105/150\n",
            "1/1 [==============================] - 0s 12ms/step - loss: 2.3901 - mae: 2.3901\n",
            "Epoch 106/150\n",
            "1/1 [==============================] - 0s 11ms/step - loss: 2.3830 - mae: 2.3830\n",
            "Epoch 107/150\n",
            "1/1 [==============================] - 0s 13ms/step - loss: 2.3726 - mae: 2.3726\n",
            "Epoch 108/150\n",
            "1/1 [==============================] - 0s 14ms/step - loss: 2.3593 - mae: 2.3593\n",
            "Epoch 109/150\n",
            "1/1 [==============================] - 0s 12ms/step - loss: 2.3728 - mae: 2.3728\n",
            "Epoch 110/150\n",
            "1/1 [==============================] - 0s 13ms/step - loss: 2.3670 - mae: 2.3670\n",
            "Epoch 111/150\n",
            "1/1 [==============================] - 0s 12ms/step - loss: 2.3634 - mae: 2.3634\n",
            "Epoch 112/150\n",
            "1/1 [==============================] - 0s 11ms/step - loss: 2.3594 - mae: 2.3594\n",
            "Epoch 113/150\n",
            "1/1 [==============================] - 0s 12ms/step - loss: 2.3503 - mae: 2.3503\n",
            "Epoch 114/150\n",
            "1/1 [==============================] - 0s 11ms/step - loss: 2.3376 - mae: 2.3376\n",
            "Epoch 115/150\n",
            "1/1 [==============================] - 0s 12ms/step - loss: 2.3374 - mae: 2.3374\n",
            "Epoch 116/150\n",
            "1/1 [==============================] - 0s 11ms/step - loss: 2.3332 - mae: 2.3332\n",
            "Epoch 117/150\n",
            "1/1 [==============================] - 0s 12ms/step - loss: 2.3256 - mae: 2.3256\n",
            "Epoch 118/150\n",
            "1/1 [==============================] - 0s 13ms/step - loss: 2.3148 - mae: 2.3148\n",
            "Epoch 119/150\n",
            "1/1 [==============================] - 0s 12ms/step - loss: 2.3080 - mae: 2.3080\n",
            "Epoch 120/150\n",
            "1/1 [==============================] - 0s 11ms/step - loss: 2.3026 - mae: 2.3026\n",
            "Epoch 121/150\n",
            "1/1 [==============================] - 0s 12ms/step - loss: 2.2945 - mae: 2.2945\n",
            "Epoch 122/150\n",
            "1/1 [==============================] - 0s 19ms/step - loss: 2.2974 - mae: 2.2974\n",
            "Epoch 123/150\n",
            "1/1 [==============================] - 0s 15ms/step - loss: 2.2898 - mae: 2.2898\n",
            "Epoch 124/150\n",
            "1/1 [==============================] - 0s 12ms/step - loss: 2.2871 - mae: 2.2871\n",
            "Epoch 125/150\n",
            "1/1 [==============================] - 0s 14ms/step - loss: 2.2797 - mae: 2.2797\n",
            "Epoch 126/150\n",
            "1/1 [==============================] - 0s 12ms/step - loss: 2.2678 - mae: 2.2678\n",
            "Epoch 127/150\n",
            "1/1 [==============================] - 0s 10ms/step - loss: 2.2580 - mae: 2.2580\n",
            "Epoch 128/150\n",
            "1/1 [==============================] - 0s 13ms/step - loss: 2.2556 - mae: 2.2556\n",
            "Epoch 129/150\n",
            "1/1 [==============================] - 0s 12ms/step - loss: 2.2494 - mae: 2.2494\n",
            "Epoch 130/150\n",
            "1/1 [==============================] - 0s 14ms/step - loss: 2.2399 - mae: 2.2399\n",
            "Epoch 131/150\n",
            "1/1 [==============================] - 0s 13ms/step - loss: 2.2284 - mae: 2.2284\n",
            "Epoch 132/150\n",
            "1/1 [==============================] - 0s 13ms/step - loss: 2.2201 - mae: 2.2201\n",
            "Epoch 133/150\n",
            "1/1 [==============================] - 0s 15ms/step - loss: 2.2362 - mae: 2.2362\n",
            "Epoch 134/150\n",
            "1/1 [==============================] - 0s 14ms/step - loss: 2.2218 - mae: 2.2218\n",
            "Epoch 135/150\n",
            "1/1 [==============================] - 0s 15ms/step - loss: 2.2098 - mae: 2.2098\n",
            "Epoch 136/150\n",
            "1/1 [==============================] - 0s 13ms/step - loss: 2.2095 - mae: 2.2095\n",
            "Epoch 137/150\n",
            "1/1 [==============================] - 0s 16ms/step - loss: 2.2033 - mae: 2.2033\n",
            "Epoch 138/150\n",
            "1/1 [==============================] - 0s 14ms/step - loss: 2.1981 - mae: 2.1981\n",
            "Epoch 139/150\n",
            "1/1 [==============================] - 0s 15ms/step - loss: 2.1953 - mae: 2.1953\n",
            "Epoch 140/150\n",
            "1/1 [==============================] - 0s 11ms/step - loss: 2.1888 - mae: 2.1888\n",
            "Epoch 141/150\n",
            "1/1 [==============================] - 0s 15ms/step - loss: 2.1790 - mae: 2.1790\n",
            "Epoch 142/150\n",
            "1/1 [==============================] - 0s 9ms/step - loss: 2.1716 - mae: 2.1716\n",
            "Epoch 143/150\n",
            "1/1 [==============================] - 0s 11ms/step - loss: 2.1639 - mae: 2.1639\n",
            "Epoch 144/150\n",
            "1/1 [==============================] - 0s 9ms/step - loss: 2.1507 - mae: 2.1507\n",
            "Epoch 145/150\n",
            "1/1 [==============================] - 0s 11ms/step - loss: 2.1446 - mae: 2.1446\n",
            "Epoch 146/150\n",
            "1/1 [==============================] - 0s 12ms/step - loss: 2.1404 - mae: 2.1404\n",
            "Epoch 147/150\n",
            "1/1 [==============================] - 0s 10ms/step - loss: 2.1329 - mae: 2.1329\n",
            "Epoch 148/150\n",
            "1/1 [==============================] - 0s 9ms/step - loss: 2.1222 - mae: 2.1222\n",
            "Epoch 149/150\n",
            "1/1 [==============================] - 0s 11ms/step - loss: 2.1175 - mae: 2.1175\n",
            "Epoch 150/150\n",
            "1/1 [==============================] - 0s 13ms/step - loss: 2.1242 - mae: 2.1242\n"
          ]
        },
        {
          "output_type": "execute_result",
          "data": {
            "text/plain": [
              "<keras.callbacks.History at 0x7f939618e2c0>"
            ]
          },
          "metadata": {},
          "execution_count": 12
        }
      ]
    },
    {
      "cell_type": "code",
      "source": [
        "#making prediction again\n",
        "model.predict([21])     #a litle bit better rather than our second model and way much better than first model"
      ],
      "metadata": {
        "colab": {
          "base_uri": "https://localhost:8080/"
        },
        "id": "fSXOTPNXUCnA",
        "outputId": "888dd9a2-cdd8-4a5c-9595-27bfa38b39ed"
      },
      "execution_count": 13,
      "outputs": [
        {
          "output_type": "stream",
          "name": "stdout",
          "text": [
            "1/1 [==============================] - 0s 80ms/step\n"
          ]
        },
        {
          "output_type": "execute_result",
          "data": {
            "text/plain": [
              "array([[32.730835]], dtype=float32)"
            ]
          },
          "metadata": {},
          "execution_count": 13
        }
      ]
    },
    {
      "cell_type": "markdown",
      "source": [
        "## Evaluating Model\n",
        "When it comes to the evaluation, there are 3 words you should memorize:\n",
        "\n",
        "> \"Visualize, Visualize, Visualize\""
      ],
      "metadata": {
        "id": "zzNa2QznUqTu"
      }
    },
    {
      "cell_type": "code",
      "source": [
        "#make a bigger dataset\n",
        "X = tf.range(-200,300,10)\n",
        "X"
      ],
      "metadata": {
        "colab": {
          "base_uri": "https://localhost:8080/"
        },
        "id": "CXKiPIj0WG2d",
        "outputId": "df6c9b20-9753-4443-d274-7df10aeb76d9"
      },
      "execution_count": 14,
      "outputs": [
        {
          "output_type": "execute_result",
          "data": {
            "text/plain": [
              "<tf.Tensor: shape=(50,), dtype=int32, numpy=\n",
              "array([-200, -190, -180, -170, -160, -150, -140, -130, -120, -110, -100,\n",
              "        -90,  -80,  -70,  -60,  -50,  -40,  -30,  -20,  -10,    0,   10,\n",
              "         20,   30,   40,   50,   60,   70,   80,   90,  100,  110,  120,\n",
              "        130,  140,  150,  160,  170,  180,  190,  200,  210,  220,  230,\n",
              "        240,  250,  260,  270,  280,  290], dtype=int32)>"
            ]
          },
          "metadata": {},
          "execution_count": 14
        }
      ]
    },
    {
      "cell_type": "code",
      "source": [
        "y = X + 15\n",
        "y"
      ],
      "metadata": {
        "colab": {
          "base_uri": "https://localhost:8080/"
        },
        "id": "ShA_EqXRWGz3",
        "outputId": "b1945823-07dd-449e-f8f2-9c58390f7c02"
      },
      "execution_count": 15,
      "outputs": [
        {
          "output_type": "execute_result",
          "data": {
            "text/plain": [
              "<tf.Tensor: shape=(50,), dtype=int32, numpy=\n",
              "array([-185, -175, -165, -155, -145, -135, -125, -115, -105,  -95,  -85,\n",
              "        -75,  -65,  -55,  -45,  -35,  -25,  -15,   -5,    5,   15,   25,\n",
              "         35,   45,   55,   65,   75,   85,   95,  105,  115,  125,  135,\n",
              "        145,  155,  165,  175,  185,  195,  205,  215,  225,  235,  245,\n",
              "        255,  265,  275,  285,  295,  305], dtype=int32)>"
            ]
          },
          "metadata": {},
          "execution_count": 15
        }
      ]
    },
    {
      "cell_type": "code",
      "source": [
        "#visualize data\n",
        "import matplotlib.pyplot as plt\n",
        "plt.scatter(X,y)\n",
        "plt.show()"
      ],
      "metadata": {
        "colab": {
          "base_uri": "https://localhost:8080/",
          "height": 430
        },
        "id": "JR2VLP1zWGxQ",
        "outputId": "5f637bfe-7ba8-4d30-b1ab-2ace8d63b1e8"
      },
      "execution_count": 16,
      "outputs": [
        {
          "output_type": "display_data",
          "data": {
            "text/plain": [
              "<Figure size 640x480 with 1 Axes>"
            ],
            "image/png": "[encoded data removed]"
          },
          "metadata": {}
        }
      ]
    },
    {
      "cell_type": "markdown",
      "source": [
        "### 3 sets....\n",
        "* Train Test\n",
        "* Validation Test\n",
        "* Test Set\n"
      ],
      "metadata": {
        "id": "0mXXuJVsWGup"
      }
    },
    {
      "cell_type": "code",
      "source": [
        "#split X to the train and test set\n",
        "X_train = X[:40]\n",
        "X_test = X[40:]\n",
        "#split y too\n",
        "y_train = y[:40]\n",
        "y_test = y[40:]"
      ],
      "metadata": {
        "id": "phgcdgM0WGsD"
      },
      "execution_count": 17,
      "outputs": []
    },
    {
      "cell_type": "markdown",
      "source": [
        "### Visulising dataset\n",
        "Now we have got our data in the training and test datasets"
      ],
      "metadata": {
        "id": "z3a_VfbFWGpd"
      }
    },
    {
      "cell_type": "code",
      "source": [
        "plt.figure(figsize = (16,9))\n",
        "plt.scatter(X_train,y_train,c='b',label = 'Training Data')\n",
        "plt.scatter(X_test,y_test,c= 'm',label = 'Test Data')\n",
        "plt.legend()\n",
        "plt.show()"
      ],
      "metadata": {
        "colab": {
          "base_uri": "https://localhost:8080/",
          "height": 590
        },
        "id": "SwDMk5R0WGm1",
        "outputId": "6787fd33-7b98-455d-f6e5-dc6fc606a2a1"
      },
      "execution_count": 18,
      "outputs": [
        {
          "output_type": "display_data",
          "data": {
            "text/plain": [
              "<Figure size 1600x900 with 1 Axes>"
            ],
            "image/png": "[encoded data removed]"
          },
          "metadata": {}
        }
      ]
    },
    {
      "cell_type": "markdown",
      "source": [
        "### Visualising the model\n",
        "\n"
      ],
      "metadata": {
        "id": "xIA6jEcGWGkQ"
      }
    },
    {
      "cell_type": "code",
      "source": [
        "model = tf.keras.models.Sequential([\n",
        "    tf.keras.layers.Dense(100, activation= 'relu'),\n",
        "    tf.keras.layers.Dense(100, activation= 'relu'),\n",
        "    tf.keras.layers.Dense(100, activation= 'relu'),\n",
        "    tf.keras.layers.Dense(1)\n",
        "])\n",
        "\n",
        "model.compile(loss = tf.keras.losses.mae,\n",
        "              optimizer= tf.keras.optimizers.Adam(lr= 0.0001),\n",
        "              metrics = ['mae'])\n",
        "\n",
        "model.fit(tf.expand_dims(X_train,axis=-1),y_train,epochs = 100,batch_size = 10)"
      ],
      "metadata": {
        "colab": {
          "base_uri": "https://localhost:8080/"
        },
        "id": "RK343qWTWGho",
        "outputId": "f3ecc56e-af40-4d64-d7eb-ad09ec68e363"
      },
      "execution_count": 19,
      "outputs": [
        {
          "output_type": "stream",
          "name": "stderr",
          "text": [
            "WARNING:absl:`lr` is deprecated in Keras optimizer, please use `learning_rate` or use the legacy optimizer, e.g.,tf.keras.optimizers.legacy.Adam.\n"
          ]
        },
        {
          "output_type": "stream",
          "name": "stdout",
          "text": [
            "Epoch 1/100\n",
            "4/4 [==============================] - 1s 5ms/step - loss: 91.1870 - mae: 91.1870\n",
            "Epoch 2/100\n",
            "4/4 [==============================] - 0s 4ms/step - loss: 75.1277 - mae: 75.1277\n",
            "Epoch 3/100\n",
            "4/4 [==============================] - 0s 4ms/step - loss: 58.6770 - mae: 58.6770\n",
            "Epoch 4/100\n",
            "4/4 [==============================] - 0s 4ms/step - loss: 43.1839 - mae: 43.1839\n",
            "Epoch 5/100\n",
            "4/4 [==============================] - 0s 4ms/step - loss: 28.4854 - mae: 28.4854\n",
            "Epoch 6/100\n",
            "4/4 [==============================] - 0s 4ms/step - loss: 19.4474 - mae: 19.4474\n",
            "Epoch 7/100\n",
            "4/4 [==============================] - 0s 4ms/step - loss: 8.6786 - mae: 8.6786\n",
            "Epoch 8/100\n",
            "4/4 [==============================] - 0s 4ms/step - loss: 14.0403 - mae: 14.0403\n",
            "Epoch 9/100\n",
            "4/4 [==============================] - 0s 4ms/step - loss: 10.7295 - mae: 10.7295\n",
            "Epoch 10/100\n",
            "4/4 [==============================] - 0s 4ms/step - loss: 8.7344 - mae: 8.7344\n",
            "Epoch 11/100\n",
            "4/4 [==============================] - 0s 4ms/step - loss: 8.2657 - mae: 8.2657\n",
            "Epoch 12/100\n",
            "4/4 [==============================] - 0s 4ms/step - loss: 6.7488 - mae: 6.7488\n",
            "Epoch 13/100\n",
            "4/4 [==============================] - 0s 4ms/step - loss: 7.4214 - mae: 7.4214\n",
            "Epoch 14/100\n",
            "4/4 [==============================] - 0s 4ms/step - loss: 7.4167 - mae: 7.4167\n",
            "Epoch 15/100\n",
            "4/4 [==============================] - 0s 5ms/step - loss: 7.1504 - mae: 7.1504\n",
            "Epoch 16/100\n",
            "4/4 [==============================] - 0s 4ms/step - loss: 6.2222 - mae: 6.2222\n",
            "Epoch 17/100\n",
            "4/4 [==============================] - 0s 4ms/step - loss: 6.6841 - mae: 6.6841\n",
            "Epoch 18/100\n",
            "4/4 [==============================] - 0s 4ms/step - loss: 6.2900 - mae: 6.2900\n",
            "Epoch 19/100\n",
            "4/4 [==============================] - 0s 4ms/step - loss: 6.3651 - mae: 6.3651\n",
            "Epoch 20/100\n",
            "4/4 [==============================] - 0s 4ms/step - loss: 6.0260 - mae: 6.0260\n",
            "Epoch 21/100\n",
            "4/4 [==============================] - 0s 4ms/step - loss: 6.2265 - mae: 6.2265\n",
            "Epoch 22/100\n",
            "4/4 [==============================] - 0s 4ms/step - loss: 6.5808 - mae: 6.5808\n",
            "Epoch 23/100\n",
            "4/4 [==============================] - 0s 4ms/step - loss: 6.7134 - mae: 6.7134\n",
            "Epoch 24/100\n",
            "4/4 [==============================] - 0s 7ms/step - loss: 6.9933 - mae: 6.9933\n",
            "Epoch 25/100\n",
            "4/4 [==============================] - 0s 4ms/step - loss: 6.3578 - mae: 6.3578\n",
            "Epoch 26/100\n",
            "4/4 [==============================] - 0s 4ms/step - loss: 6.1430 - mae: 6.1430\n",
            "Epoch 27/100\n",
            "4/4 [==============================] - 0s 5ms/step - loss: 6.1696 - mae: 6.1696\n",
            "Epoch 28/100\n",
            "4/4 [==============================] - 0s 4ms/step - loss: 6.0824 - mae: 6.0824\n",
            "Epoch 29/100\n",
            "4/4 [==============================] - 0s 4ms/step - loss: 6.0423 - mae: 6.0423\n",
            "Epoch 30/100\n",
            "4/4 [==============================] - 0s 4ms/step - loss: 6.2905 - mae: 6.2905\n",
            "Epoch 31/100\n",
            "4/4 [==============================] - 0s 4ms/step - loss: 6.1850 - mae: 6.1850\n",
            "Epoch 32/100\n",
            "4/4 [==============================] - 0s 4ms/step - loss: 6.2598 - mae: 6.2598\n",
            "Epoch 33/100\n",
            "4/4 [==============================] - 0s 5ms/step - loss: 6.1876 - mae: 6.1876\n",
            "Epoch 34/100\n",
            "4/4 [==============================] - 0s 4ms/step - loss: 6.2389 - mae: 6.2389\n",
            "Epoch 35/100\n",
            "4/4 [==============================] - 0s 4ms/step - loss: 6.0050 - mae: 6.0050\n",
            "Epoch 36/100\n",
            "4/4 [==============================] - 0s 4ms/step - loss: 6.1631 - mae: 6.1631\n",
            "Epoch 37/100\n",
            "4/4 [==============================] - 0s 4ms/step - loss: 5.8093 - mae: 5.8093\n",
            "Epoch 38/100\n",
            "4/4 [==============================] - 0s 6ms/step - loss: 5.9995 - mae: 5.9995\n",
            "Epoch 39/100\n",
            "4/4 [==============================] - 0s 4ms/step - loss: 6.0288 - mae: 6.0288\n",
            "Epoch 40/100\n",
            "4/4 [==============================] - 0s 5ms/step - loss: 5.8987 - mae: 5.8987\n",
            "Epoch 41/100\n",
            "4/4 [==============================] - 0s 4ms/step - loss: 6.9246 - mae: 6.9246\n",
            "Epoch 42/100\n",
            "4/4 [==============================] - 0s 4ms/step - loss: 6.2637 - mae: 6.2637\n",
            "Epoch 43/100\n",
            "4/4 [==============================] - 0s 4ms/step - loss: 6.4185 - mae: 6.4185\n",
            "Epoch 44/100\n",
            "4/4 [==============================] - 0s 4ms/step - loss: 6.1948 - mae: 6.1948\n",
            "Epoch 45/100\n",
            "4/4 [==============================] - 0s 5ms/step - loss: 6.3483 - mae: 6.3483\n",
            "Epoch 46/100\n",
            "4/4 [==============================] - 0s 4ms/step - loss: 5.9252 - mae: 5.9252\n",
            "Epoch 47/100\n",
            "4/4 [==============================] - 0s 4ms/step - loss: 6.0193 - mae: 6.0193\n",
            "Epoch 48/100\n",
            "4/4 [==============================] - 0s 4ms/step - loss: 6.1758 - mae: 6.1758\n",
            "Epoch 49/100\n",
            "4/4 [==============================] - 0s 4ms/step - loss: 6.0578 - mae: 6.0578\n",
            "Epoch 50/100\n",
            "4/4 [==============================] - 0s 4ms/step - loss: 6.8668 - mae: 6.8668\n",
            "Epoch 51/100\n",
            "4/4 [==============================] - 0s 4ms/step - loss: 6.7464 - mae: 6.7464\n",
            "Epoch 52/100\n",
            "4/4 [==============================] - 0s 4ms/step - loss: 6.0697 - mae: 6.0697\n",
            "Epoch 53/100\n",
            "4/4 [==============================] - 0s 5ms/step - loss: 5.8069 - mae: 5.8069\n",
            "Epoch 54/100\n",
            "4/4 [==============================] - 0s 4ms/step - loss: 5.7576 - mae: 5.7576\n",
            "Epoch 55/100\n",
            "4/4 [==============================] - 0s 4ms/step - loss: 6.1021 - mae: 6.1021\n",
            "Epoch 56/100\n",
            "4/4 [==============================] - 0s 4ms/step - loss: 5.6768 - mae: 5.6768\n",
            "Epoch 57/100\n",
            "4/4 [==============================] - 0s 4ms/step - loss: 5.5464 - mae: 5.5464\n",
            "Epoch 58/100\n",
            "4/4 [==============================] - 0s 4ms/step - loss: 5.6924 - mae: 5.6924\n",
            "Epoch 59/100\n",
            "4/4 [==============================] - 0s 4ms/step - loss: 5.7180 - mae: 5.7180\n",
            "Epoch 60/100\n",
            "4/4 [==============================] - 0s 4ms/step - loss: 5.4868 - mae: 5.4868\n",
            "Epoch 61/100\n",
            "4/4 [==============================] - 0s 5ms/step - loss: 5.7170 - mae: 5.7170\n",
            "Epoch 62/100\n",
            "4/4 [==============================] - 0s 6ms/step - loss: 5.5199 - mae: 5.5199\n",
            "Epoch 63/100\n",
            "4/4 [==============================] - 0s 5ms/step - loss: 5.7135 - mae: 5.7135\n",
            "Epoch 64/100\n",
            "4/4 [==============================] - 0s 4ms/step - loss: 5.3091 - mae: 5.3091\n",
            "Epoch 65/100\n",
            "4/4 [==============================] - 0s 4ms/step - loss: 5.6319 - mae: 5.6319\n",
            "Epoch 66/100\n",
            "4/4 [==============================] - 0s 4ms/step - loss: 5.6742 - mae: 5.6742\n",
            "Epoch 67/100\n",
            "4/4 [==============================] - 0s 4ms/step - loss: 5.5242 - mae: 5.5242\n",
            "Epoch 68/100\n",
            "4/4 [==============================] - 0s 4ms/step - loss: 5.4348 - mae: 5.4348\n",
            "Epoch 69/100\n",
            "4/4 [==============================] - 0s 5ms/step - loss: 5.3113 - mae: 5.3113\n",
            "Epoch 70/100\n",
            "4/4 [==============================] - 0s 4ms/step - loss: 5.3633 - mae: 5.3633\n",
            "Epoch 71/100\n",
            "4/4 [==============================] - 0s 4ms/step - loss: 5.4382 - mae: 5.4382\n",
            "Epoch 72/100\n",
            "4/4 [==============================] - 0s 4ms/step - loss: 5.4296 - mae: 5.4296\n",
            "Epoch 73/100\n",
            "4/4 [==============================] - 0s 4ms/step - loss: 5.3212 - mae: 5.3212\n",
            "Epoch 74/100\n",
            "4/4 [==============================] - 0s 4ms/step - loss: 5.0607 - mae: 5.0607\n",
            "Epoch 75/100\n",
            "4/4 [==============================] - 0s 4ms/step - loss: 5.9335 - mae: 5.9335\n",
            "Epoch 76/100\n",
            "4/4 [==============================] - 0s 4ms/step - loss: 5.5560 - mae: 5.5560\n",
            "Epoch 77/100\n",
            "4/4 [==============================] - 0s 4ms/step - loss: 5.1384 - mae: 5.1384\n",
            "Epoch 78/100\n",
            "4/4 [==============================] - 0s 4ms/step - loss: 5.0568 - mae: 5.0568\n",
            "Epoch 79/100\n",
            "4/4 [==============================] - 0s 4ms/step - loss: 5.3759 - mae: 5.3759\n",
            "Epoch 80/100\n",
            "4/4 [==============================] - 0s 4ms/step - loss: 5.2716 - mae: 5.2716\n",
            "Epoch 81/100\n",
            "4/4 [==============================] - 0s 8ms/step - loss: 5.8077 - mae: 5.8077\n",
            "Epoch 82/100\n",
            "4/4 [==============================] - 0s 5ms/step - loss: 5.1021 - mae: 5.1021\n",
            "Epoch 83/100\n",
            "4/4 [==============================] - 0s 4ms/step - loss: 5.7414 - mae: 5.7414\n",
            "Epoch 84/100\n",
            "4/4 [==============================] - 0s 4ms/step - loss: 5.0575 - mae: 5.0575\n",
            "Epoch 85/100\n",
            "4/4 [==============================] - 0s 4ms/step - loss: 4.9352 - mae: 4.9352\n",
            "Epoch 86/100\n",
            "4/4 [==============================] - 0s 4ms/step - loss: 4.9925 - mae: 4.9925\n",
            "Epoch 87/100\n",
            "4/4 [==============================] - 0s 4ms/step - loss: 4.7450 - mae: 4.7450\n",
            "Epoch 88/100\n",
            "4/4 [==============================] - 0s 4ms/step - loss: 4.5349 - mae: 4.5349\n",
            "Epoch 89/100\n",
            "4/4 [==============================] - 0s 4ms/step - loss: 4.9547 - mae: 4.9547\n",
            "Epoch 90/100\n",
            "4/4 [==============================] - 0s 4ms/step - loss: 5.2665 - mae: 5.2665\n",
            "Epoch 91/100\n",
            "4/4 [==============================] - 0s 4ms/step - loss: 4.5766 - mae: 4.5766\n",
            "Epoch 92/100\n",
            "4/4 [==============================] - 0s 4ms/step - loss: 4.9173 - mae: 4.9173\n",
            "Epoch 93/100\n",
            "4/4 [==============================] - 0s 4ms/step - loss: 5.0819 - mae: 5.0819\n",
            "Epoch 94/100\n",
            "4/4 [==============================] - 0s 4ms/step - loss: 5.1271 - mae: 5.1271\n",
            "Epoch 95/100\n",
            "4/4 [==============================] - 0s 4ms/step - loss: 4.3631 - mae: 4.3631\n",
            "Epoch 96/100\n",
            "4/4 [==============================] - 0s 5ms/step - loss: 4.6996 - mae: 4.6996\n",
            "Epoch 97/100\n",
            "4/4 [==============================] - 0s 4ms/step - loss: 5.4746 - mae: 5.4746\n",
            "Epoch 98/100\n",
            "4/4 [==============================] - 0s 4ms/step - loss: 5.3646 - mae: 5.3646\n",
            "Epoch 99/100\n",
            "4/4 [==============================] - 0s 4ms/step - loss: 4.6139 - mae: 4.6139\n",
            "Epoch 100/100\n",
            "4/4 [==============================] - 0s 4ms/step - loss: 4.5926 - mae: 4.5926\n"
          ]
        },
        {
          "output_type": "execute_result",
          "data": {
            "text/plain": [
              "<keras.callbacks.History at 0x7f9388034eb0>"
            ]
          },
          "metadata": {},
          "execution_count": 19
        }
      ]
    },
    {
      "cell_type": "code",
      "source": [
        "predictions = model.predict(X_test)"
      ],
      "metadata": {
        "colab": {
          "base_uri": "https://localhost:8080/"
        },
        "id": "8yOFeffgWGew",
        "outputId": "45324f26-b229-42da-b48e-0b9826e27e73"
      },
      "execution_count": 20,
      "outputs": [
        {
          "output_type": "stream",
          "name": "stdout",
          "text": [
            "1/1 [==============================] - 0s 89ms/step\n"
          ]
        }
      ]
    },
    {
      "cell_type": "code",
      "source": [
        "predictions"
      ],
      "metadata": {
        "colab": {
          "base_uri": "https://localhost:8080/"
        },
        "id": "BvUvHieaWGcK",
        "outputId": "a72313b7-fce5-4482-f245-c5efe431aebc"
      },
      "execution_count": 21,
      "outputs": [
        {
          "output_type": "execute_result",
          "data": {
            "text/plain": [
              "array([[217.60599],\n",
              "       [228.2257 ],\n",
              "       [238.84543],\n",
              "       [249.46513],\n",
              "       [260.08484],\n",
              "       [270.70508],\n",
              "       [281.34442],\n",
              "       [291.98373],\n",
              "       [302.6231 ],\n",
              "       [313.26242]], dtype=float32)"
            ]
          },
          "metadata": {},
          "execution_count": 21
        }
      ]
    },
    {
      "cell_type": "code",
      "source": [
        "plt.figure(figsize = (16,9))\n",
        "plt.scatter(X_train,y_train,c= 'b',label = 'Train Data')\n",
        "plt.scatter(X_test,y_test,c= 'm',label= 'Test Data')\n",
        "plt.scatter(predictions,predictions,c ='g',label= 'Predictions')\n",
        "plt.legend()\n",
        "plt.show()"
      ],
      "metadata": {
        "colab": {
          "base_uri": "https://localhost:8080/",
          "height": 590
        },
        "id": "28bG3ljpWGZT",
        "outputId": "dba112f4-0bc8-457f-a182-9d67f07da1e4"
      },
      "execution_count": 22,
      "outputs": [
        {
          "output_type": "display_data",
          "data": {
            "text/plain": [
              "<Figure size 1600x900 with 1 Axes>"
            ],
            "image/png": "[encoded data removed]"
          },
          "metadata": {}
        }
      ]
    },
    {
      "cell_type": "code",
      "source": [
        "model.summary()"
      ],
      "metadata": {
        "id": "2FF2svYzWGWc",
        "colab": {
          "base_uri": "https://localhost:8080/"
        },
        "outputId": "a3443ba9-d17d-4c9e-ad52-78cd3f10650c"
      },
      "execution_count": 23,
      "outputs": [
        {
          "output_type": "stream",
          "name": "stdout",
          "text": [
            "Model: \"sequential_3\"\n",
            "_________________________________________________________________\n",
            " Layer (type)                Output Shape              Param #   \n",
            "=================================================================\n",
            " dense_8 (Dense)             (10, 100)                 200       \n",
            "                                                                 \n",
            " dense_9 (Dense)             (10, 100)                 10100     \n",
            "                                                                 \n",
            " dense_10 (Dense)            (10, 100)                 10100     \n",
            "                                                                 \n",
            " dense_11 (Dense)            (10, 1)                   101       \n",
            "                                                                 \n",
            "=================================================================\n",
            "Total params: 20,501\n",
            "Trainable params: 20,501\n",
            "Non-trainable params: 0\n",
            "_________________________________________________________________\n"
          ]
        }
      ]
    },
    {
      "cell_type": "markdown",
      "source": [
        "### Another way to visualise our model\n"
      ],
      "metadata": {
        "id": "TkB2IrUkRzVk"
      }
    },
    {
      "cell_type": "code",
      "source": [
        "# import plot_model\n",
        "from tensorflow.keras.utils import plot_model\n",
        "#make a plot\n",
        "plot_model(model = improved_model,show_shapes=1,show_dtype=False)"
      ],
      "metadata": {
        "id": "GSjSKOBtWGT2",
        "colab": {
          "base_uri": "https://localhost:8080/",
          "height": 422
        },
        "outputId": "fc3b711c-78ec-402b-dba9-be8dac963e6d"
      },
      "execution_count": 25,
      "outputs": [
        {
          "output_type": "execute_result",
          "data": {
            "image/png": "[encoded data removed]",
            "text/plain": [
              "<IPython.core.display.Image object>"
            ]
          },
          "metadata": {},
          "execution_count": 25
        }
      ]
    },
    {
      "cell_type": "code",
      "source": [
        "  #Let's create a model and get more spesific summary\n",
        "\n",
        "  #create the model\n",
        "  summarized_model = tf.keras.models.Sequential([\n",
        "      tf.keras.layers.Dense(100,activation= 'relu', name='Input_Layer'),\n",
        "      tf.keras.layers.Dense(100,activation= 'relu', name= 'First_Hidden_Layer'),\n",
        "      tf.keras.layers.Dense(100,activation= 'relu', name= 'Second_Hidden_Layer'),\n",
        "      tf.keras.layers.Dense(1,name= 'Output_Layer')],name= 'Just one of our models....')\n",
        "\n",
        "  #compile the model\n",
        "  summarized_model.compile(loss = tf.keras.losses.mae,\n",
        "                optimizer = tf.keras.optimizers.SGD(),\n",
        "                metrics=['mae'])\n",
        "\n",
        "  summarized_model.build((40,1))\n",
        "  #fit the model\n",
        "  #summarized_model.fit(tf.expand_dims(X_train,axis=-1) ,y_train, epochs= 50)  #if you set the verbose yo don't get the training or something"
      ],
      "metadata": {
        "id": "rehOMqDWwz0d"
      },
      "execution_count": 67,
      "outputs": []
    },
    {
      "cell_type": "code",
      "source": [
        "#get the summary\n",
        "summarized_model.summary()"
      ],
      "metadata": {
        "colab": {
          "base_uri": "https://localhost:8080/"
        },
        "id": "qT4dhalW677e",
        "outputId": "abd2926b-f5d1-43de-9468-8e6751014f61"
      },
      "execution_count": 68,
      "outputs": [
        {
          "output_type": "stream",
          "name": "stdout",
          "text": [
            "Model: \"Just one of our models....\"\n",
            "_________________________________________________________________\n",
            " Layer (type)                Output Shape              Param #   \n",
            "=================================================================\n",
            " Input_Layer (Dense)         (40, 100)                 200       \n",
            "                                                                 \n",
            " First_Hidden_Layer (Dense)  (40, 100)                 10100     \n",
            "                                                                 \n",
            " Second_Hidden_Layer (Dense)  (40, 100)                10100     \n",
            "                                                                 \n",
            " Output_Layer (Dense)        (40, 1)                   101       \n",
            "                                                                 \n",
            "=================================================================\n",
            "Total params: 20,501\n",
            "Trainable params: 20,501\n",
            "Non-trainable params: 0\n",
            "_________________________________________________________________\n"
          ]
        }
      ]
    },
    {
      "cell_type": "code",
      "source": [
        "plot_model(summarized_model,show_shapes=True)"
      ],
      "metadata": {
        "id": "4xKmQ15X670g",
        "colab": {
          "base_uri": "https://localhost:8080/",
          "height": 533
        },
        "outputId": "b636e29a-0522-4443-9818-d68d6388592a"
      },
      "execution_count": 70,
      "outputs": [
        {
          "output_type": "execute_result",
          "data": {
            "image/png": "[encoded data removed]",
            "text/plain": [
              "<IPython.core.display.Image object>"
            ]
          },
          "metadata": {},
          "execution_count": 70
        }
      ]
    },
    {
      "cell_type": "markdown",
      "source": [
        "## Visualise our model predictions.\n",
        "Steps that must be taken:\n",
        "* Create tensors\n",
        "* Build a model\n",
        "* Get the predictions\n",
        "* Visualise the model predictions"
      ],
      "metadata": {
        "id": "fO2rTu2Y5AdH"
      }
    },
    {
      "cell_type": "code",
      "source": [
        "##create tensors\n",
        "X = tf.range(57,431,3)\n",
        "y = X + 10\n",
        "\n",
        "#split them to the train and test data\n",
        "X_train = X[:100]\n",
        "X_test = X[100:]\n",
        "y_train = y[:100]\n",
        "y_test = y[100:]\n",
        "#create a Sequential model\n",
        "model = tf.keras.models.Sequential([\n",
        "    tf.keras.layers.Dense(100, activation= 'relu'),\n",
        "    tf.keras.layers.Dense(100, activation= 'relu'),\n",
        "    tf.keras.layers.Dense(1)\n",
        "])\n",
        "\n",
        "#compile the model\n",
        "model.compile(loss= tf.keras.losses.mae,\n",
        "              optimizer= tf.keras.optimizers.Adam(lr= 0.001),\n",
        "              metrics= ['mae'])\n",
        "\n",
        "#fit the model\n",
        "model.fit(tf.expand_dims(X_train,axis=-1), y_train, epochs = 50)"
      ],
      "metadata": {
        "id": "XcovDCUt5AaQ",
        "colab": {
          "base_uri": "https://localhost:8080/"
        },
        "outputId": "b195df2c-84dd-4023-ffe6-08d4fe84d4d4"
      },
      "execution_count": 86,
      "outputs": [
        {
          "output_type": "stream",
          "name": "stderr",
          "text": [
            "WARNING:absl:`lr` is deprecated in Keras optimizer, please use `learning_rate` or use the legacy optimizer, e.g.,tf.keras.optimizers.legacy.Adam.\n"
          ]
        },
        {
          "output_type": "stream",
          "name": "stdout",
          "text": [
            "Epoch 1/50\n",
            "4/4 [==============================] - 1s 5ms/step - loss: 218.1022 - mae: 218.1022\n",
            "Epoch 2/50\n",
            "4/4 [==============================] - 0s 5ms/step - loss: 190.7074 - mae: 190.7074\n",
            "Epoch 3/50\n",
            "4/4 [==============================] - 0s 4ms/step - loss: 164.6992 - mae: 164.6992\n",
            "Epoch 4/50\n",
            "4/4 [==============================] - 0s 6ms/step - loss: 138.4228 - mae: 138.4228\n",
            "Epoch 5/50\n",
            "4/4 [==============================] - 0s 4ms/step - loss: 111.1097 - mae: 111.1097\n",
            "Epoch 6/50\n",
            "4/4 [==============================] - 0s 4ms/step - loss: 81.8101 - mae: 81.8101\n",
            "Epoch 7/50\n",
            "4/4 [==============================] - 0s 4ms/step - loss: 50.7911 - mae: 50.7911\n",
            "Epoch 8/50\n",
            "4/4 [==============================] - 0s 4ms/step - loss: 17.1715 - mae: 17.1715\n",
            "Epoch 9/50\n",
            "4/4 [==============================] - 0s 4ms/step - loss: 14.3586 - mae: 14.3586\n",
            "Epoch 10/50\n",
            "4/4 [==============================] - 0s 5ms/step - loss: 21.7921 - mae: 21.7921\n",
            "Epoch 11/50\n",
            "4/4 [==============================] - 0s 4ms/step - loss: 12.6337 - mae: 12.6337\n",
            "Epoch 12/50\n",
            "4/4 [==============================] - 0s 4ms/step - loss: 5.3537 - mae: 5.3537\n",
            "Epoch 13/50\n",
            "4/4 [==============================] - 0s 4ms/step - loss: 8.5085 - mae: 8.5085\n",
            "Epoch 14/50\n",
            "4/4 [==============================] - 0s 4ms/step - loss: 3.9145 - mae: 3.9145\n",
            "Epoch 15/50\n",
            "4/4 [==============================] - 0s 4ms/step - loss: 6.3444 - mae: 6.3444\n",
            "Epoch 16/50\n",
            "4/4 [==============================] - 0s 4ms/step - loss: 3.9634 - mae: 3.9634\n",
            "Epoch 17/50\n",
            "4/4 [==============================] - 0s 4ms/step - loss: 3.5857 - mae: 3.5857\n",
            "Epoch 18/50\n",
            "4/4 [==============================] - 0s 6ms/step - loss: 3.7134 - mae: 3.7134\n",
            "Epoch 19/50\n",
            "4/4 [==============================] - 0s 5ms/step - loss: 3.1560 - mae: 3.1560\n",
            "Epoch 20/50\n",
            "4/4 [==============================] - 0s 4ms/step - loss: 3.1978 - mae: 3.1978\n",
            "Epoch 21/50\n",
            "4/4 [==============================] - 0s 4ms/step - loss: 3.1429 - mae: 3.1429\n",
            "Epoch 22/50\n",
            "4/4 [==============================] - 0s 5ms/step - loss: 3.1645 - mae: 3.1645\n",
            "Epoch 23/50\n",
            "4/4 [==============================] - 0s 5ms/step - loss: 3.4167 - mae: 3.4167\n",
            "Epoch 24/50\n",
            "4/4 [==============================] - 0s 4ms/step - loss: 3.2169 - mae: 3.2169\n",
            "Epoch 25/50\n",
            "4/4 [==============================] - 0s 4ms/step - loss: 3.2033 - mae: 3.2033\n",
            "Epoch 26/50\n",
            "4/4 [==============================] - 0s 4ms/step - loss: 3.3463 - mae: 3.3463\n",
            "Epoch 27/50\n",
            "4/4 [==============================] - 0s 6ms/step - loss: 3.1025 - mae: 3.1025\n",
            "Epoch 28/50\n",
            "4/4 [==============================] - 0s 4ms/step - loss: 3.2398 - mae: 3.2398\n",
            "Epoch 29/50\n",
            "4/4 [==============================] - 0s 5ms/step - loss: 3.1538 - mae: 3.1538\n",
            "Epoch 30/50\n",
            "4/4 [==============================] - 0s 4ms/step - loss: 3.2105 - mae: 3.2105\n",
            "Epoch 31/50\n",
            "4/4 [==============================] - 0s 5ms/step - loss: 3.0690 - mae: 3.0690\n",
            "Epoch 32/50\n",
            "4/4 [==============================] - 0s 4ms/step - loss: 3.1538 - mae: 3.1538\n",
            "Epoch 33/50\n",
            "4/4 [==============================] - 0s 4ms/step - loss: 3.0917 - mae: 3.0917\n",
            "Epoch 34/50\n",
            "4/4 [==============================] - 0s 4ms/step - loss: 3.1170 - mae: 3.1170\n",
            "Epoch 35/50\n",
            "4/4 [==============================] - 0s 4ms/step - loss: 3.2439 - mae: 3.2439\n",
            "Epoch 36/50\n",
            "4/4 [==============================] - 0s 4ms/step - loss: 3.0095 - mae: 3.0095\n",
            "Epoch 37/50\n",
            "4/4 [==============================] - 0s 4ms/step - loss: 3.1913 - mae: 3.1913\n",
            "Epoch 38/50\n",
            "4/4 [==============================] - 0s 4ms/step - loss: 3.0600 - mae: 3.0600\n",
            "Epoch 39/50\n",
            "4/4 [==============================] - 0s 4ms/step - loss: 3.2933 - mae: 3.2933\n",
            "Epoch 40/50\n",
            "4/4 [==============================] - 0s 4ms/step - loss: 3.0434 - mae: 3.0434\n",
            "Epoch 41/50\n",
            "4/4 [==============================] - 0s 4ms/step - loss: 3.0389 - mae: 3.0389\n",
            "Epoch 42/50\n",
            "4/4 [==============================] - 0s 4ms/step - loss: 3.0113 - mae: 3.0113\n",
            "Epoch 43/50\n",
            "4/4 [==============================] - 0s 5ms/step - loss: 3.4005 - mae: 3.4005\n",
            "Epoch 44/50\n",
            "4/4 [==============================] - 0s 7ms/step - loss: 3.1795 - mae: 3.1795\n",
            "Epoch 45/50\n",
            "4/4 [==============================] - 0s 5ms/step - loss: 3.0133 - mae: 3.0133\n",
            "Epoch 46/50\n",
            "4/4 [==============================] - 0s 4ms/step - loss: 2.9369 - mae: 2.9369\n",
            "Epoch 47/50\n",
            "4/4 [==============================] - 0s 4ms/step - loss: 3.2375 - mae: 3.2375\n",
            "Epoch 48/50\n",
            "4/4 [==============================] - 0s 4ms/step - loss: 3.6675 - mae: 3.6675\n",
            "Epoch 49/50\n",
            "4/4 [==============================] - 0s 6ms/step - loss: 3.0940 - mae: 3.0940\n",
            "Epoch 50/50\n",
            "4/4 [==============================] - 0s 4ms/step - loss: 3.0261 - mae: 3.0261\n"
          ]
        },
        {
          "output_type": "execute_result",
          "data": {
            "text/plain": [
              "<keras.callbacks.History at 0x7f93b244b250>"
            ]
          },
          "metadata": {},
          "execution_count": 86
        }
      ]
    },
    {
      "cell_type": "code",
      "source": [
        "#get the predictions\n",
        "predictions = model.predict(X_test)\n",
        "predictions"
      ],
      "metadata": {
        "id": "odwIjA2z5AXp",
        "colab": {
          "base_uri": "https://localhost:8080/"
        },
        "outputId": "31e82353-fbec-4759-e1cb-edb8e6b0d0ce"
      },
      "execution_count": 88,
      "outputs": [
        {
          "output_type": "stream",
          "name": "stdout",
          "text": [
            "1/1 [==============================] - 0s 19ms/step\n"
          ]
        },
        {
          "output_type": "execute_result",
          "data": {
            "text/plain": [
              "array([[371.6429 ],\n",
              "       [374.75604],\n",
              "       [377.86923],\n",
              "       [380.9824 ],\n",
              "       [384.09555],\n",
              "       [387.20874],\n",
              "       [390.32187],\n",
              "       [393.43503],\n",
              "       [396.54816],\n",
              "       [399.66132],\n",
              "       [402.7745 ],\n",
              "       [405.88766],\n",
              "       [409.00082],\n",
              "       [412.11398],\n",
              "       [415.22714],\n",
              "       [418.34027],\n",
              "       [421.45343],\n",
              "       [424.5666 ],\n",
              "       [427.67972],\n",
              "       [430.79288],\n",
              "       [433.90604],\n",
              "       [437.0192 ],\n",
              "       [440.13235],\n",
              "       [443.2455 ],\n",
              "       [446.35867]], dtype=float32)"
            ]
          },
          "metadata": {},
          "execution_count": 88
        }
      ]
    },
    {
      "cell_type": "code",
      "source": [
        "#creating function to plot the predictions\n",
        "def plot_predictions(train_data= X_train,train_labels= y_train,\n",
        "                     test_data= X_test,test_labels= y_test,\n",
        "                     y_pred= predictions):\n",
        "  plt.figure(figsize=(16,9))\n",
        "  #visualise train data\n",
        "  plt.scatter(X_train,y_train,c= 'b',label='Train Data')\n",
        "  #visualise test data\n",
        "  plt.scatter(X_test,y_test,c= 'g',label='Test Data')\n",
        "  #visualise predictions data\n",
        "  plt.scatter(X_test,predictions,c= 'm',label='Predictions')\n",
        "  #plot legend\n",
        "  plt.legend()\n",
        "  #show the plot\n",
        "  plt.show();"
      ],
      "metadata": {
        "id": "ppUCrnpF5AVC"
      },
      "execution_count": 91,
      "outputs": []
    },
    {
      "cell_type": "code",
      "source": [
        "#plot predictions\n",
        "plot_predictions()"
      ],
      "metadata": {
        "id": "SyhgBoS15AR6",
        "colab": {
          "base_uri": "https://localhost:8080/",
          "height": 595
        },
        "outputId": "fdfb9be2-b731-4213-ded1-41c6492cb1d2"
      },
      "execution_count": 92,
      "outputs": [
        {
          "output_type": "display_data",
          "data": {
            "text/plain": [
              "<Figure size 1600x900 with 1 Axes>"
            ],
            "image/png": "[encoded data removed]"
          },
          "metadata": {}
        }
      ]
    },
    {
      "cell_type": "code",
      "source": [],
      "metadata": {
        "id": "rpKZQts-5APU"
      },
      "execution_count": 40,
      "outputs": []
    },
    {
      "cell_type": "code",
      "source": [],
      "metadata": {
        "id": "9wbhXsGK5AJX"
      },
      "execution_count": 40,
      "outputs": []
    }
  ]
}