{
  "nbformat": 4,
  "nbformat_minor": 0,
  "metadata": {
    "colab": {
      "provenance": [],
      "gpuType": "T4",
      "toc_visible": true,
      "mount_file_id": "1qPU8ANIGYREss0ERQkjPgZkYngjuEOaX",
      "authorship_tag": "ABX9TyMokOHBklp1ey/5AlyRhjFJ",
      "include_colab_link": true
    },
    "kernelspec": {
      "name": "python3",
      "display_name": "Python 3"
    },
    "language_info": {
      "name": "python"
    },
    "accelerator": "GPU"
  },
  "cells": [
    {
      "cell_type": "markdown",
      "metadata": {
        "id": "view-in-github",
        "colab_type": "text"
      },
      "source": [
        "<a href=\"https://colab.research.google.com/github/hasanzeynal/Tensorflow-Developer-Certificate/blob/main/01_Neural_Network_Regression_in_TensorFlow/neural_network_regression_in_tensorflow.ipynb\" target=\"_parent\"><img src=\"https://colab.research.google.com/assets/colab-badge.svg\" alt=\"Open In Colab\"/></a>"
      ]
    },
    {
      "cell_type": "markdown",
      "source": [
        "# Introduction to Regression with Neural Network in TensorFlow"
      ],
      "metadata": {
        "id": "HcBnwSMj9dLo"
      }
    },
    {
      "cell_type": "code",
      "execution_count": 1,
      "metadata": {
        "id": "lgeqBHLV89Tw",
        "colab": {
          "base_uri": "https://localhost:8080/"
        },
        "outputId": "acb35477-6db4-4d72-c289-fc886d7f5b72"
      },
      "outputs": [
        {
          "output_type": "stream",
          "name": "stdout",
          "text": [
            "2.12.0\n"
          ]
        }
      ],
      "source": [
        "#import tensorflow\n",
        "import tensorflow as tf\n",
        "print(tf.__version__)"
      ]
    },
    {
      "cell_type": "code",
      "source": [
        "#ignore all warnings\n",
        "import warnings\n",
        "warnings.filterwarnings('ignore')"
      ],
      "metadata": {
        "id": "kJCDqgHRc765"
      },
      "execution_count": 2,
      "outputs": []
    },
    {
      "cell_type": "markdown",
      "source": [
        "# Basic Neural Network Model for Regression Problem\n",
        "Then, After building our basic NN model, we are gonna try:\n",
        "* improving our model\n",
        "* evaluating\n",
        "* setting\n",
        "* saving\n",
        "* loading\n",
        "* processing with feature scalling(normalising, fitting model on a scaled data)"
      ],
      "metadata": {
        "id": "YADf_H9WbrcT"
      }
    },
    {
      "cell_type": "markdown",
      "source": [
        "## Building Basic Model in TensorFlow"
      ],
      "metadata": {
        "id": "0V3OkMVlZojC"
      }
    },
    {
      "cell_type": "markdown",
      "source": [
        "## Creating Data, So we can model it"
      ],
      "metadata": {
        "id": "GmaElyhN5BfG"
      }
    },
    {
      "cell_type": "code",
      "source": [
        "X = tf.constant([-1,1,3,5,7,9,11,13,15,17,19,21,23])\n",
        "y = tf.constant([9,11,13,15,17,19,21,23,25,27,29,31,33])  #the difference between X and y is 10"
      ],
      "metadata": {
        "id": "KO1nCYkc5Bh7"
      },
      "execution_count": 3,
      "outputs": []
    },
    {
      "cell_type": "code",
      "source": [
        "#looking for the input and output shape\n",
        "X.shape,y.shape  #just we are gonna need comma in the tensoor shape after 14 so shape is (14,)"
      ],
      "metadata": {
        "colab": {
          "base_uri": "https://localhost:8080/"
        },
        "id": "CnqbZ6Ls5Bky",
        "outputId": "2b7302c9-4094-4ce5-f842-762ce619d61b"
      },
      "execution_count": 4,
      "outputs": [
        {
          "output_type": "execute_result",
          "data": {
            "text/plain": [
              "(TensorShape([13]), TensorShape([13]))"
            ]
          },
          "metadata": {},
          "execution_count": 4
        }
      ]
    },
    {
      "cell_type": "markdown",
      "source": [
        "### Steps in Modelling in TensorFlow.\n",
        "1. **Creating Model** - define imput, output, hidden layers of our Deep Learning Model.\n",
        "\n",
        "2. **Compiling Model** - define the loss function(the function which tell us how wrong our model is), define optimizer(which tell us our model how improve) and evaluation metrics(we can use to interpret the performance of our model).\n",
        "\n",
        "3. Fitting Model - letting the model try to find patterns between X and y(features and labels)"
      ],
      "metadata": {
        "id": "WhGeFacUH-VR"
      }
    },
    {
      "cell_type": "code",
      "source": [
        "#change 1 rank tensoir to the 2 rank tensor\n",
        "tf.expand_dims(X,-1)"
      ],
      "metadata": {
        "colab": {
          "base_uri": "https://localhost:8080/"
        },
        "id": "Pk4fVlskERYw",
        "outputId": "fbaf88cd-cde4-4e95-ba40-cd223a038580"
      },
      "execution_count": 5,
      "outputs": [
        {
          "output_type": "execute_result",
          "data": {
            "text/plain": [
              "<tf.Tensor: shape=(13, 1), dtype=int32, numpy=\n",
              "array([[-1],\n",
              "       [ 1],\n",
              "       [ 3],\n",
              "       [ 5],\n",
              "       [ 7],\n",
              "       [ 9],\n",
              "       [11],\n",
              "       [13],\n",
              "       [15],\n",
              "       [17],\n",
              "       [19],\n",
              "       [21],\n",
              "       [23]], dtype=int32)>"
            ]
          },
          "metadata": {},
          "execution_count": 5
        }
      ]
    },
    {
      "cell_type": "code",
      "source": [
        "#creating model\n",
        "model = tf.keras.models.Sequential([\n",
        "    tf.keras.layers.Dense(1)\n",
        "])\n",
        "#adding dense layer with the 1 neuron\n",
        "#model.add(tf.keras.layers.Dense(1, input_shape = (14,)))\n",
        "#model.add(tf.keras.layers.Dense(1))\n",
        "\n",
        "#compiling the model\n",
        "model.compile(loss= tf.keras.losses.mae,  #MAE stands for the Mean Absolute Error\n",
        "              optimizer= tf.keras.optimizers.SGD(), #SGD stands for the Stochastic Gradient Error\n",
        "              metrics= ['mae'])\n",
        "\n",
        "#fitting the model\n",
        "model.fit(tf.expand_dims(X,axis = -1), y, epochs= 5)  #axis= -1 makes 2 rank tensor,1 rank tensor is caused an error"
      ],
      "metadata": {
        "id": "yW8er5QyaGOV",
        "colab": {
          "base_uri": "https://localhost:8080/"
        },
        "outputId": "899b41e3-9c2b-4d60-f61c-685ef7e14550"
      },
      "execution_count": 6,
      "outputs": [
        {
          "output_type": "stream",
          "name": "stdout",
          "text": [
            "Epoch 1/5\n",
            "1/1 [==============================] - 5s 5s/step - loss: 19.0312 - mae: 19.0312\n",
            "Epoch 2/5\n",
            "1/1 [==============================] - 0s 12ms/step - loss: 17.8112 - mae: 17.8112\n",
            "Epoch 3/5\n",
            "1/1 [==============================] - 0s 10ms/step - loss: 16.5912 - mae: 16.5912\n",
            "Epoch 4/5\n",
            "1/1 [==============================] - 0s 9ms/step - loss: 15.3712 - mae: 15.3712\n",
            "Epoch 5/5\n",
            "1/1 [==============================] - 0s 10ms/step - loss: 14.1512 - mae: 14.1512\n"
          ]
        },
        {
          "output_type": "execute_result",
          "data": {
            "text/plain": [
              "<keras.callbacks.History at 0x7f7a59675cf0>"
            ]
          },
          "metadata": {},
          "execution_count": 6
        }
      ]
    },
    {
      "cell_type": "code",
      "source": [],
      "metadata": {
        "id": "76EkMG_-aGLd"
      },
      "execution_count": 6,
      "outputs": []
    },
    {
      "cell_type": "code",
      "source": [
        "#trying make prediction based on X for y\n",
        "model.predict([25])     #if our model is good enough, the answer would be around 35"
      ],
      "metadata": {
        "id": "UaCqUj_OaGIE",
        "colab": {
          "base_uri": "https://localhost:8080/"
        },
        "outputId": "c20d4fb4-7304-4a05-99b7-6df42843053f"
      },
      "execution_count": 7,
      "outputs": [
        {
          "output_type": "stream",
          "name": "stdout",
          "text": [
            "1/1 [==============================] - 0s 76ms/step\n"
          ]
        },
        {
          "output_type": "execute_result",
          "data": {
            "text/plain": [
              "array([[18.274584]], dtype=float32)"
            ]
          },
          "metadata": {},
          "execution_count": 7
        }
      ]
    },
    {
      "cell_type": "markdown",
      "source": [
        "## Improving our model"
      ],
      "metadata": {
        "id": "I3BISrqHaGFN"
      }
    },
    {
      "cell_type": "markdown",
      "source": [
        "### Creating new model to improve our result"
      ],
      "metadata": {
        "id": "eTG6CxboaGCF"
      }
    },
    {
      "cell_type": "code",
      "source": [
        "from sklearn.model_selection import train_test_split\n",
        "import numpy as np\n",
        "X = np.array(X)\n",
        "y = np.array(y)\n",
        "X_train,X_test,y_train,y_test= train_test_split(X,y,test_size = 0.2,random_state = True)"
      ],
      "metadata": {
        "id": "81JNqwc8NMxl"
      },
      "execution_count": 8,
      "outputs": []
    },
    {
      "cell_type": "code",
      "source": [
        "#create a model(specified to your probelm)\n",
        "improved_model = tf.keras.models.Sequential([\n",
        "    tf.keras.layers.Dense(100,activation = 'relu'),\n",
        "    tf.keras.layers.Dense(100,activation = 'relu'),\n",
        "    tf.keras.layers.Dense(1)\n",
        "])\n",
        "\n",
        "#compile model\n",
        "improved_model.compile(loss = tf.keras.losses.mae,\n",
        "                       optimizer = tf.keras.optimizers.Adam(lr = 0.0001),\n",
        "                       metrics = ['mae'])\n",
        "\n",
        "#fit the model with the subset of X and y and 100 epochs\n",
        "improved_model.fit(tf.expand_dims(X_train,axis= 1),y_train,epochs = 100)"
      ],
      "metadata": {
        "id": "FRHGSeUGaF_O",
        "colab": {
          "base_uri": "https://localhost:8080/"
        },
        "outputId": "d6eab55a-ef03-4811-f877-ba2039644e74"
      },
      "execution_count": 9,
      "outputs": [
        {
          "output_type": "stream",
          "name": "stderr",
          "text": [
            "WARNING:absl:`lr` is deprecated in Keras optimizer, please use `learning_rate` or use the legacy optimizer, e.g.,tf.keras.optimizers.legacy.Adam.\n"
          ]
        },
        {
          "output_type": "stream",
          "name": "stdout",
          "text": [
            "Epoch 1/100\n",
            "1/1 [==============================] - 1s 1s/step - loss: 21.7941 - mae: 21.7941\n",
            "Epoch 2/100\n",
            "1/1 [==============================] - 0s 11ms/step - loss: 21.0671 - mae: 21.0671\n",
            "Epoch 3/100\n",
            "1/1 [==============================] - 0s 11ms/step - loss: 20.3471 - mae: 20.3471\n",
            "Epoch 4/100\n",
            "1/1 [==============================] - 0s 11ms/step - loss: 19.6360 - mae: 19.6360\n",
            "Epoch 5/100\n",
            "1/1 [==============================] - 0s 11ms/step - loss: 18.9471 - mae: 18.9471\n",
            "Epoch 6/100\n",
            "1/1 [==============================] - 0s 12ms/step - loss: 18.2710 - mae: 18.2710\n",
            "Epoch 7/100\n",
            "1/1 [==============================] - 0s 13ms/step - loss: 17.5881 - mae: 17.5881\n",
            "Epoch 8/100\n",
            "1/1 [==============================] - 0s 10ms/step - loss: 16.8985 - mae: 16.8985\n",
            "Epoch 9/100\n",
            "1/1 [==============================] - 0s 10ms/step - loss: 16.1983 - mae: 16.1983\n",
            "Epoch 10/100\n",
            "1/1 [==============================] - 0s 11ms/step - loss: 15.4872 - mae: 15.4872\n",
            "Epoch 11/100\n",
            "1/1 [==============================] - 0s 11ms/step - loss: 14.7657 - mae: 14.7657\n",
            "Epoch 12/100\n",
            "1/1 [==============================] - 0s 11ms/step - loss: 14.0445 - mae: 14.0445\n",
            "Epoch 13/100\n",
            "1/1 [==============================] - 0s 12ms/step - loss: 13.3447 - mae: 13.3447\n",
            "Epoch 14/100\n",
            "1/1 [==============================] - 0s 10ms/step - loss: 12.6339 - mae: 12.6339\n",
            "Epoch 15/100\n",
            "1/1 [==============================] - 0s 11ms/step - loss: 11.9137 - mae: 11.9137\n",
            "Epoch 16/100\n",
            "1/1 [==============================] - 0s 9ms/step - loss: 11.1839 - mae: 11.1839\n",
            "Epoch 17/100\n",
            "1/1 [==============================] - 0s 10ms/step - loss: 10.4462 - mae: 10.4462\n",
            "Epoch 18/100\n",
            "1/1 [==============================] - 0s 10ms/step - loss: 9.6960 - mae: 9.6960\n",
            "Epoch 19/100\n",
            "1/1 [==============================] - 0s 11ms/step - loss: 8.9432 - mae: 8.9432\n",
            "Epoch 20/100\n",
            "1/1 [==============================] - 0s 10ms/step - loss: 8.1838 - mae: 8.1838\n",
            "Epoch 21/100\n",
            "1/1 [==============================] - 0s 14ms/step - loss: 7.4088 - mae: 7.4088\n",
            "Epoch 22/100\n",
            "1/1 [==============================] - 0s 12ms/step - loss: 6.6132 - mae: 6.6132\n",
            "Epoch 23/100\n",
            "1/1 [==============================] - 0s 10ms/step - loss: 5.7957 - mae: 5.7957\n",
            "Epoch 24/100\n",
            "1/1 [==============================] - 0s 11ms/step - loss: 4.9556 - mae: 4.9556\n",
            "Epoch 25/100\n",
            "1/1 [==============================] - 0s 11ms/step - loss: 4.1163 - mae: 4.1163\n",
            "Epoch 26/100\n",
            "1/1 [==============================] - 0s 13ms/step - loss: 3.6248 - mae: 3.6248\n",
            "Epoch 27/100\n",
            "1/1 [==============================] - 0s 11ms/step - loss: 3.4882 - mae: 3.4882\n",
            "Epoch 28/100\n",
            "1/1 [==============================] - 0s 12ms/step - loss: 3.5783 - mae: 3.5783\n",
            "Epoch 29/100\n",
            "1/1 [==============================] - 0s 11ms/step - loss: 3.7663 - mae: 3.7663\n",
            "Epoch 30/100\n",
            "1/1 [==============================] - 0s 11ms/step - loss: 4.0176 - mae: 4.0176\n",
            "Epoch 31/100\n",
            "1/1 [==============================] - 0s 10ms/step - loss: 4.2169 - mae: 4.2169\n",
            "Epoch 32/100\n",
            "1/1 [==============================] - 0s 15ms/step - loss: 4.4184 - mae: 4.4184\n",
            "Epoch 33/100\n",
            "1/1 [==============================] - 0s 11ms/step - loss: 4.5541 - mae: 4.5541\n",
            "Epoch 34/100\n",
            "1/1 [==============================] - 0s 11ms/step - loss: 4.6121 - mae: 4.6121\n",
            "Epoch 35/100\n",
            "1/1 [==============================] - 0s 10ms/step - loss: 4.6012 - mae: 4.6012\n",
            "Epoch 36/100\n",
            "1/1 [==============================] - 0s 11ms/step - loss: 4.5311 - mae: 4.5311\n",
            "Epoch 37/100\n",
            "1/1 [==============================] - 0s 10ms/step - loss: 4.4092 - mae: 4.4092\n",
            "Epoch 38/100\n",
            "1/1 [==============================] - 0s 10ms/step - loss: 4.2422 - mae: 4.2422\n",
            "Epoch 39/100\n",
            "1/1 [==============================] - 0s 10ms/step - loss: 4.0829 - mae: 4.0829\n",
            "Epoch 40/100\n",
            "1/1 [==============================] - 0s 11ms/step - loss: 3.9240 - mae: 3.9240\n",
            "Epoch 41/100\n",
            "1/1 [==============================] - 0s 11ms/step - loss: 3.7541 - mae: 3.7541\n",
            "Epoch 42/100\n",
            "1/1 [==============================] - 0s 11ms/step - loss: 3.5765 - mae: 3.5765\n",
            "Epoch 43/100\n",
            "1/1 [==============================] - 0s 14ms/step - loss: 3.4842 - mae: 3.4842\n",
            "Epoch 44/100\n",
            "1/1 [==============================] - 0s 11ms/step - loss: 3.3938 - mae: 3.3938\n",
            "Epoch 45/100\n",
            "1/1 [==============================] - 0s 9ms/step - loss: 3.3262 - mae: 3.3262\n",
            "Epoch 46/100\n",
            "1/1 [==============================] - 0s 13ms/step - loss: 3.3247 - mae: 3.3247\n",
            "Epoch 47/100\n",
            "1/1 [==============================] - 0s 11ms/step - loss: 3.3218 - mae: 3.3218\n",
            "Epoch 48/100\n",
            "1/1 [==============================] - 0s 10ms/step - loss: 3.3529 - mae: 3.3529\n",
            "Epoch 49/100\n",
            "1/1 [==============================] - 0s 10ms/step - loss: 3.3979 - mae: 3.3979\n",
            "Epoch 50/100\n",
            "1/1 [==============================] - 0s 10ms/step - loss: 3.4228 - mae: 3.4228\n",
            "Epoch 51/100\n",
            "1/1 [==============================] - 0s 17ms/step - loss: 3.4313 - mae: 3.4313\n",
            "Epoch 52/100\n",
            "1/1 [==============================] - 0s 11ms/step - loss: 3.4244 - mae: 3.4244\n",
            "Epoch 53/100\n",
            "1/1 [==============================] - 0s 11ms/step - loss: 3.4035 - mae: 3.4035\n",
            "Epoch 54/100\n",
            "1/1 [==============================] - 0s 11ms/step - loss: 3.3691 - mae: 3.3691\n",
            "Epoch 55/100\n",
            "1/1 [==============================] - 0s 11ms/step - loss: 3.3216 - mae: 3.3216\n",
            "Epoch 56/100\n",
            "1/1 [==============================] - 0s 11ms/step - loss: 3.2624 - mae: 3.2624\n",
            "Epoch 57/100\n",
            "1/1 [==============================] - 0s 10ms/step - loss: 3.1924 - mae: 3.1924\n",
            "Epoch 58/100\n",
            "1/1 [==============================] - 0s 10ms/step - loss: 3.1666 - mae: 3.1666\n",
            "Epoch 59/100\n",
            "1/1 [==============================] - 0s 11ms/step - loss: 3.1444 - mae: 3.1444\n",
            "Epoch 60/100\n",
            "1/1 [==============================] - 0s 10ms/step - loss: 3.1221 - mae: 3.1221\n",
            "Epoch 61/100\n",
            "1/1 [==============================] - 0s 11ms/step - loss: 3.0998 - mae: 3.0998\n",
            "Epoch 62/100\n",
            "1/1 [==============================] - 0s 11ms/step - loss: 3.1074 - mae: 3.1074\n",
            "Epoch 63/100\n",
            "1/1 [==============================] - 0s 10ms/step - loss: 3.1143 - mae: 3.1143\n",
            "Epoch 64/100\n",
            "1/1 [==============================] - 0s 12ms/step - loss: 3.1103 - mae: 3.1103\n",
            "Epoch 65/100\n",
            "1/1 [==============================] - 0s 10ms/step - loss: 3.0964 - mae: 3.0964\n",
            "Epoch 66/100\n",
            "1/1 [==============================] - 0s 10ms/step - loss: 3.0734 - mae: 3.0734\n",
            "Epoch 67/100\n",
            "1/1 [==============================] - 0s 13ms/step - loss: 3.0423 - mae: 3.0423\n",
            "Epoch 68/100\n",
            "1/1 [==============================] - 0s 11ms/step - loss: 3.0040 - mae: 3.0040\n",
            "Epoch 69/100\n",
            "1/1 [==============================] - 0s 17ms/step - loss: 2.9590 - mae: 2.9590\n",
            "Epoch 70/100\n",
            "1/1 [==============================] - 0s 12ms/step - loss: 2.9354 - mae: 2.9354\n",
            "Epoch 71/100\n",
            "1/1 [==============================] - 0s 11ms/step - loss: 2.9180 - mae: 2.9180\n",
            "Epoch 72/100\n",
            "1/1 [==============================] - 0s 11ms/step - loss: 2.8988 - mae: 2.8988\n",
            "Epoch 73/100\n",
            "1/1 [==============================] - 0s 10ms/step - loss: 2.8793 - mae: 2.8793\n",
            "Epoch 74/100\n",
            "1/1 [==============================] - 0s 10ms/step - loss: 2.8594 - mae: 2.8594\n",
            "Epoch 75/100\n",
            "1/1 [==============================] - 0s 10ms/step - loss: 2.8387 - mae: 2.8387\n",
            "Epoch 76/100\n",
            "1/1 [==============================] - 0s 10ms/step - loss: 2.8170 - mae: 2.8170\n",
            "Epoch 77/100\n",
            "1/1 [==============================] - 0s 10ms/step - loss: 2.7944 - mae: 2.7944\n",
            "Epoch 78/100\n",
            "1/1 [==============================] - 0s 11ms/step - loss: 2.7710 - mae: 2.7710\n",
            "Epoch 79/100\n",
            "1/1 [==============================] - 0s 10ms/step - loss: 2.7467 - mae: 2.7467\n",
            "Epoch 80/100\n",
            "1/1 [==============================] - 0s 10ms/step - loss: 2.7217 - mae: 2.7217\n",
            "Epoch 81/100\n",
            "1/1 [==============================] - 0s 9ms/step - loss: 2.6958 - mae: 2.6958\n",
            "Epoch 82/100\n",
            "1/1 [==============================] - 0s 10ms/step - loss: 2.6691 - mae: 2.6691\n",
            "Epoch 83/100\n",
            "1/1 [==============================] - 0s 11ms/step - loss: 2.6416 - mae: 2.6416\n",
            "Epoch 84/100\n",
            "1/1 [==============================] - 0s 19ms/step - loss: 2.6134 - mae: 2.6134\n",
            "Epoch 85/100\n",
            "1/1 [==============================] - 0s 11ms/step - loss: 2.5844 - mae: 2.5844\n",
            "Epoch 86/100\n",
            "1/1 [==============================] - 0s 13ms/step - loss: 2.6029 - mae: 2.6029\n",
            "Epoch 87/100\n",
            "1/1 [==============================] - 0s 11ms/step - loss: 2.6170 - mae: 2.6170\n",
            "Epoch 88/100\n",
            "1/1 [==============================] - 0s 11ms/step - loss: 2.6264 - mae: 2.6264\n",
            "Epoch 89/100\n",
            "1/1 [==============================] - 0s 10ms/step - loss: 2.6314 - mae: 2.6314\n",
            "Epoch 90/100\n",
            "1/1 [==============================] - 0s 13ms/step - loss: 2.6386 - mae: 2.6386\n",
            "Epoch 91/100\n",
            "1/1 [==============================] - 0s 10ms/step - loss: 2.6359 - mae: 2.6359\n",
            "Epoch 92/100\n",
            "1/1 [==============================] - 0s 13ms/step - loss: 2.6306 - mae: 2.6306\n",
            "Epoch 93/100\n",
            "1/1 [==============================] - 0s 11ms/step - loss: 2.6260 - mae: 2.6260\n",
            "Epoch 94/100\n",
            "1/1 [==============================] - 0s 15ms/step - loss: 2.6187 - mae: 2.6187\n",
            "Epoch 95/100\n",
            "1/1 [==============================] - 0s 11ms/step - loss: 2.6091 - mae: 2.6091\n",
            "Epoch 96/100\n",
            "1/1 [==============================] - 0s 11ms/step - loss: 2.5976 - mae: 2.5976\n",
            "Epoch 97/100\n",
            "1/1 [==============================] - 0s 11ms/step - loss: 2.5844 - mae: 2.5844\n",
            "Epoch 98/100\n",
            "1/1 [==============================] - 0s 9ms/step - loss: 2.5697 - mae: 2.5697\n",
            "Epoch 99/100\n",
            "1/1 [==============================] - 0s 9ms/step - loss: 2.5538 - mae: 2.5538\n",
            "Epoch 100/100\n",
            "1/1 [==============================] - 0s 10ms/step - loss: 2.5369 - mae: 2.5369\n"
          ]
        },
        {
          "output_type": "execute_result",
          "data": {
            "text/plain": [
              "<keras.callbacks.History at 0x7f79e807fa90>"
            ]
          },
          "metadata": {},
          "execution_count": 9
        }
      ]
    },
    {
      "cell_type": "code",
      "source": [
        "#let's see the result by doing prediction in the same way as we did before on 'model'\n",
        "improved_model.predict([21])     #so much closer as you see, better and more usefull"
      ],
      "metadata": {
        "id": "cR0fUdDRaF8W",
        "colab": {
          "base_uri": "https://localhost:8080/"
        },
        "outputId": "c2e9603c-bf27-459b-ae68-65792277ec3e"
      },
      "execution_count": 10,
      "outputs": [
        {
          "output_type": "stream",
          "name": "stdout",
          "text": [
            "1/1 [==============================] - 0s 72ms/step\n"
          ]
        },
        {
          "output_type": "execute_result",
          "data": {
            "text/plain": [
              "array([[32.81492]], dtype=float32)"
            ]
          },
          "metadata": {},
          "execution_count": 10
        }
      ]
    },
    {
      "cell_type": "markdown",
      "source": [
        "### See if we even can do more changes to get more better predictions\n"
      ],
      "metadata": {
        "id": "qH7IqXRAaF5z"
      }
    },
    {
      "cell_type": "code",
      "source": [
        "#create the model with extra hidden layer(100 hidden units)\n",
        "model = tf.keras.models.Sequential([\n",
        "    tf.keras.layers.Dense(100,activation = 'relu'),\n",
        "    tf.keras.layers.Dense(100,activation = 'relu'),\n",
        "    tf.keras.layers.Dense(100,activation = 'relu'),   #1 hidden layer is added with 100 hidden units\n",
        "    tf.keras.layers.Dense(1)\n",
        "])\n",
        "\n",
        "#compile the model\n",
        "model.compile(loss= tf.keras.losses.mae,\n",
        "              optimizer= tf.keras.optimizers.Adam(lr = 0.0001),   #lr is changed\n",
        "              metrics = ['mae'])\n",
        "\n",
        "#fit the model\n",
        "model.fit(tf.expand_dims(X_train,axis=-1),y_train,epochs = 150)  #number of epochs is changed"
      ],
      "metadata": {
        "id": "X8x6hQODaFxO",
        "colab": {
          "base_uri": "https://localhost:8080/"
        },
        "outputId": "3a00e7d4-e3a4-43bd-f302-2870bbe5f905"
      },
      "execution_count": 11,
      "outputs": [
        {
          "output_type": "stream",
          "name": "stderr",
          "text": [
            "WARNING:absl:`lr` is deprecated in Keras optimizer, please use `learning_rate` or use the legacy optimizer, e.g.,tf.keras.optimizers.legacy.Adam.\n"
          ]
        },
        {
          "output_type": "stream",
          "name": "stdout",
          "text": [
            "Epoch 1/150\n",
            "1/1 [==============================] - 2s 2s/step - loss: 22.7001 - mae: 22.7001\n",
            "Epoch 2/150\n",
            "1/1 [==============================] - 0s 21ms/step - loss: 21.9937 - mae: 21.9937\n",
            "Epoch 3/150\n",
            "1/1 [==============================] - 0s 16ms/step - loss: 21.3347 - mae: 21.3347\n",
            "Epoch 4/150\n",
            "1/1 [==============================] - 0s 14ms/step - loss: 20.7016 - mae: 20.7016\n",
            "Epoch 5/150\n",
            "1/1 [==============================] - 0s 12ms/step - loss: 20.0744 - mae: 20.0744\n",
            "Epoch 6/150\n",
            "1/1 [==============================] - 0s 12ms/step - loss: 19.4310 - mae: 19.4310\n",
            "Epoch 7/150\n",
            "1/1 [==============================] - 0s 11ms/step - loss: 18.7590 - mae: 18.7590\n",
            "Epoch 8/150\n",
            "1/1 [==============================] - 0s 12ms/step - loss: 18.0760 - mae: 18.0760\n",
            "Epoch 9/150\n",
            "1/1 [==============================] - 0s 11ms/step - loss: 17.3918 - mae: 17.3918\n",
            "Epoch 10/150\n",
            "1/1 [==============================] - 0s 11ms/step - loss: 16.6708 - mae: 16.6708\n",
            "Epoch 11/150\n",
            "1/1 [==============================] - 0s 10ms/step - loss: 15.9185 - mae: 15.9185\n",
            "Epoch 12/150\n",
            "1/1 [==============================] - 0s 10ms/step - loss: 15.1222 - mae: 15.1222\n",
            "Epoch 13/150\n",
            "1/1 [==============================] - 0s 12ms/step - loss: 14.2926 - mae: 14.2926\n",
            "Epoch 14/150\n",
            "1/1 [==============================] - 0s 15ms/step - loss: 13.4260 - mae: 13.4260\n",
            "Epoch 15/150\n",
            "1/1 [==============================] - 0s 16ms/step - loss: 12.5010 - mae: 12.5010\n",
            "Epoch 16/150\n",
            "1/1 [==============================] - 0s 12ms/step - loss: 11.5154 - mae: 11.5154\n",
            "Epoch 17/150\n",
            "1/1 [==============================] - 0s 13ms/step - loss: 10.4664 - mae: 10.4664\n",
            "Epoch 18/150\n",
            "1/1 [==============================] - 0s 14ms/step - loss: 9.3693 - mae: 9.3693\n",
            "Epoch 19/150\n",
            "1/1 [==============================] - 0s 13ms/step - loss: 8.2122 - mae: 8.2122\n",
            "Epoch 20/150\n",
            "1/1 [==============================] - 0s 17ms/step - loss: 6.9716 - mae: 6.9716\n",
            "Epoch 21/150\n",
            "1/1 [==============================] - 0s 11ms/step - loss: 5.6290 - mae: 5.6290\n",
            "Epoch 22/150\n",
            "1/1 [==============================] - 0s 13ms/step - loss: 4.1947 - mae: 4.1947\n",
            "Epoch 23/150\n",
            "1/1 [==============================] - 0s 15ms/step - loss: 3.3857 - mae: 3.3857\n",
            "Epoch 24/150\n",
            "1/1 [==============================] - 0s 12ms/step - loss: 3.5379 - mae: 3.5379\n",
            "Epoch 25/150\n",
            "1/1 [==============================] - 0s 12ms/step - loss: 4.0935 - mae: 4.0935\n",
            "Epoch 26/150\n",
            "1/1 [==============================] - 0s 10ms/step - loss: 4.7592 - mae: 4.7592\n",
            "Epoch 27/150\n",
            "1/1 [==============================] - 0s 10ms/step - loss: 5.2213 - mae: 5.2213\n",
            "Epoch 28/150\n",
            "1/1 [==============================] - 0s 11ms/step - loss: 5.5526 - mae: 5.5526\n",
            "Epoch 29/150\n",
            "1/1 [==============================] - 0s 11ms/step - loss: 5.6072 - mae: 5.6072\n",
            "Epoch 30/150\n",
            "1/1 [==============================] - 0s 11ms/step - loss: 5.4307 - mae: 5.4307\n",
            "Epoch 31/150\n",
            "1/1 [==============================] - 0s 13ms/step - loss: 5.0777 - mae: 5.0777\n",
            "Epoch 32/150\n",
            "1/1 [==============================] - 0s 11ms/step - loss: 4.6889 - mae: 4.6889\n",
            "Epoch 33/150\n",
            "1/1 [==============================] - 0s 10ms/step - loss: 4.2476 - mae: 4.2476\n",
            "Epoch 34/150\n",
            "1/1 [==============================] - 0s 11ms/step - loss: 3.7968 - mae: 3.7968\n",
            "Epoch 35/150\n",
            "1/1 [==============================] - 0s 11ms/step - loss: 3.4285 - mae: 3.4285\n",
            "Epoch 36/150\n",
            "1/1 [==============================] - 0s 11ms/step - loss: 3.1738 - mae: 3.1738\n",
            "Epoch 37/150\n",
            "1/1 [==============================] - 0s 11ms/step - loss: 3.0672 - mae: 3.0672\n",
            "Epoch 38/150\n",
            "1/1 [==============================] - 0s 10ms/step - loss: 3.1181 - mae: 3.1181\n",
            "Epoch 39/150\n",
            "1/1 [==============================] - 0s 11ms/step - loss: 3.2698 - mae: 3.2698\n",
            "Epoch 40/150\n",
            "1/1 [==============================] - 0s 12ms/step - loss: 3.4281 - mae: 3.4281\n",
            "Epoch 41/150\n",
            "1/1 [==============================] - 0s 10ms/step - loss: 3.4771 - mae: 3.4771\n",
            "Epoch 42/150\n",
            "1/1 [==============================] - 0s 10ms/step - loss: 3.4295 - mae: 3.4295\n",
            "Epoch 43/150\n",
            "1/1 [==============================] - 0s 10ms/step - loss: 3.2953 - mae: 3.2953\n",
            "Epoch 44/150\n",
            "1/1 [==============================] - 0s 10ms/step - loss: 3.0817 - mae: 3.0817\n",
            "Epoch 45/150\n",
            "1/1 [==============================] - 0s 11ms/step - loss: 2.8983 - mae: 2.8983\n",
            "Epoch 46/150\n",
            "1/1 [==============================] - 0s 11ms/step - loss: 2.7533 - mae: 2.7533\n",
            "Epoch 47/150\n",
            "1/1 [==============================] - 0s 10ms/step - loss: 2.6935 - mae: 2.6935\n",
            "Epoch 48/150\n",
            "1/1 [==============================] - 0s 11ms/step - loss: 2.6989 - mae: 2.6989\n",
            "Epoch 49/150\n",
            "1/1 [==============================] - 0s 11ms/step - loss: 2.7797 - mae: 2.7797\n",
            "Epoch 50/150\n",
            "1/1 [==============================] - 0s 11ms/step - loss: 2.8541 - mae: 2.8541\n",
            "Epoch 51/150\n",
            "1/1 [==============================] - 0s 11ms/step - loss: 2.8956 - mae: 2.8956\n",
            "Epoch 52/150\n",
            "1/1 [==============================] - 0s 10ms/step - loss: 2.9154 - mae: 2.9154\n",
            "Epoch 53/150\n",
            "1/1 [==============================] - 0s 11ms/step - loss: 2.9121 - mae: 2.9121\n",
            "Epoch 54/150\n",
            "1/1 [==============================] - 0s 11ms/step - loss: 2.8902 - mae: 2.8902\n",
            "Epoch 55/150\n",
            "1/1 [==============================] - 0s 10ms/step - loss: 2.8479 - mae: 2.8479\n",
            "Epoch 56/150\n",
            "1/1 [==============================] - 0s 10ms/step - loss: 2.7916 - mae: 2.7916\n",
            "Epoch 57/150\n",
            "1/1 [==============================] - 0s 10ms/step - loss: 2.7210 - mae: 2.7210\n",
            "Epoch 58/150\n",
            "1/1 [==============================] - 0s 11ms/step - loss: 2.6528 - mae: 2.6528\n",
            "Epoch 59/150\n",
            "1/1 [==============================] - 0s 11ms/step - loss: 2.6354 - mae: 2.6354\n",
            "Epoch 60/150\n",
            "1/1 [==============================] - 0s 11ms/step - loss: 2.6148 - mae: 2.6148\n",
            "Epoch 61/150\n",
            "1/1 [==============================] - 0s 10ms/step - loss: 2.6167 - mae: 2.6167\n",
            "Epoch 62/150\n",
            "1/1 [==============================] - 0s 11ms/step - loss: 2.6527 - mae: 2.6527\n",
            "Epoch 63/150\n",
            "1/1 [==============================] - 0s 11ms/step - loss: 2.6662 - mae: 2.6662\n",
            "Epoch 64/150\n",
            "1/1 [==============================] - 0s 11ms/step - loss: 2.6440 - mae: 2.6440\n",
            "Epoch 65/150\n",
            "1/1 [==============================] - 0s 11ms/step - loss: 2.6271 - mae: 2.6271\n",
            "Epoch 66/150\n",
            "1/1 [==============================] - 0s 11ms/step - loss: 2.6111 - mae: 2.6111\n",
            "Epoch 67/150\n",
            "1/1 [==============================] - 0s 10ms/step - loss: 2.5913 - mae: 2.5913\n",
            "Epoch 68/150\n",
            "1/1 [==============================] - 0s 11ms/step - loss: 2.5693 - mae: 2.5693\n",
            "Epoch 69/150\n",
            "1/1 [==============================] - 0s 13ms/step - loss: 2.5671 - mae: 2.5671\n",
            "Epoch 70/150\n",
            "1/1 [==============================] - 0s 10ms/step - loss: 2.5901 - mae: 2.5901\n",
            "Epoch 71/150\n",
            "1/1 [==============================] - 0s 10ms/step - loss: 2.5942 - mae: 2.5942\n",
            "Epoch 72/150\n",
            "1/1 [==============================] - 0s 14ms/step - loss: 2.5739 - mae: 2.5739\n",
            "Epoch 73/150\n",
            "1/1 [==============================] - 0s 11ms/step - loss: 2.5565 - mae: 2.5565\n",
            "Epoch 74/150\n",
            "1/1 [==============================] - 0s 10ms/step - loss: 2.5528 - mae: 2.5528\n",
            "Epoch 75/150\n",
            "1/1 [==============================] - 0s 10ms/step - loss: 2.5450 - mae: 2.5450\n",
            "Epoch 76/150\n",
            "1/1 [==============================] - 0s 10ms/step - loss: 2.5337 - mae: 2.5337\n",
            "Epoch 77/150\n",
            "1/1 [==============================] - 0s 16ms/step - loss: 2.5359 - mae: 2.5359\n",
            "Epoch 78/150\n",
            "1/1 [==============================] - 0s 13ms/step - loss: 2.5414 - mae: 2.5414\n",
            "Epoch 79/150\n",
            "1/1 [==============================] - 0s 10ms/step - loss: 2.5412 - mae: 2.5412\n",
            "Epoch 80/150\n",
            "1/1 [==============================] - 0s 13ms/step - loss: 2.5360 - mae: 2.5360\n",
            "Epoch 81/150\n",
            "1/1 [==============================] - 0s 11ms/step - loss: 2.5260 - mae: 2.5260\n",
            "Epoch 82/150\n",
            "1/1 [==============================] - 0s 12ms/step - loss: 2.5111 - mae: 2.5111\n",
            "Epoch 83/150\n",
            "1/1 [==============================] - 0s 14ms/step - loss: 2.5089 - mae: 2.5089\n",
            "Epoch 84/150\n",
            "1/1 [==============================] - 0s 11ms/step - loss: 2.5083 - mae: 2.5083\n",
            "Epoch 85/150\n",
            "1/1 [==============================] - 0s 12ms/step - loss: 2.5028 - mae: 2.5028\n",
            "Epoch 86/150\n",
            "1/1 [==============================] - 0s 11ms/step - loss: 2.4948 - mae: 2.4948\n",
            "Epoch 87/150\n",
            "1/1 [==============================] - 0s 11ms/step - loss: 2.4833 - mae: 2.4833\n",
            "Epoch 88/150\n",
            "1/1 [==============================] - 0s 14ms/step - loss: 2.4687 - mae: 2.4687\n",
            "Epoch 89/150\n",
            "1/1 [==============================] - 0s 11ms/step - loss: 2.4601 - mae: 2.4601\n",
            "Epoch 90/150\n",
            "1/1 [==============================] - 0s 12ms/step - loss: 2.4570 - mae: 2.4570\n",
            "Epoch 91/150\n",
            "1/1 [==============================] - 0s 13ms/step - loss: 2.4564 - mae: 2.4564\n",
            "Epoch 92/150\n",
            "1/1 [==============================] - 0s 11ms/step - loss: 2.4493 - mae: 2.4493\n",
            "Epoch 93/150\n",
            "1/1 [==============================] - 0s 12ms/step - loss: 2.4347 - mae: 2.4347\n",
            "Epoch 94/150\n",
            "1/1 [==============================] - 0s 11ms/step - loss: 2.4351 - mae: 2.4351\n",
            "Epoch 95/150\n",
            "1/1 [==============================] - 0s 15ms/step - loss: 2.4358 - mae: 2.4358\n",
            "Epoch 96/150\n",
            "1/1 [==============================] - 0s 12ms/step - loss: 2.4322 - mae: 2.4322\n",
            "Epoch 97/150\n",
            "1/1 [==============================] - 0s 13ms/step - loss: 2.4248 - mae: 2.4248\n",
            "Epoch 98/150\n",
            "1/1 [==============================] - 0s 12ms/step - loss: 2.4139 - mae: 2.4139\n",
            "Epoch 99/150\n",
            "1/1 [==============================] - 0s 10ms/step - loss: 2.4136 - mae: 2.4136\n",
            "Epoch 100/150\n",
            "1/1 [==============================] - 0s 12ms/step - loss: 2.4111 - mae: 2.4111\n",
            "Epoch 101/150\n",
            "1/1 [==============================] - 0s 10ms/step - loss: 2.4034 - mae: 2.4034\n",
            "Epoch 102/150\n",
            "1/1 [==============================] - 0s 12ms/step - loss: 2.3911 - mae: 2.3911\n",
            "Epoch 103/150\n",
            "1/1 [==============================] - 0s 13ms/step - loss: 2.3871 - mae: 2.3871\n",
            "Epoch 104/150\n",
            "1/1 [==============================] - 0s 12ms/step - loss: 2.3757 - mae: 2.3757\n",
            "Epoch 105/150\n",
            "1/1 [==============================] - 0s 11ms/step - loss: 2.3689 - mae: 2.3689\n",
            "Epoch 106/150\n",
            "1/1 [==============================] - 0s 13ms/step - loss: 2.3657 - mae: 2.3657\n",
            "Epoch 107/150\n",
            "1/1 [==============================] - 0s 10ms/step - loss: 2.3627 - mae: 2.3627\n",
            "Epoch 108/150\n",
            "1/1 [==============================] - 0s 11ms/step - loss: 2.3563 - mae: 2.3563\n",
            "Epoch 109/150\n",
            "1/1 [==============================] - 0s 13ms/step - loss: 2.3510 - mae: 2.3510\n",
            "Epoch 110/150\n",
            "1/1 [==============================] - 0s 11ms/step - loss: 2.3465 - mae: 2.3465\n",
            "Epoch 111/150\n",
            "1/1 [==============================] - 0s 9ms/step - loss: 2.3385 - mae: 2.3385\n",
            "Epoch 112/150\n",
            "1/1 [==============================] - 0s 11ms/step - loss: 2.3328 - mae: 2.3328\n",
            "Epoch 113/150\n",
            "1/1 [==============================] - 0s 11ms/step - loss: 2.3256 - mae: 2.3256\n",
            "Epoch 114/150\n",
            "1/1 [==============================] - 0s 12ms/step - loss: 2.3149 - mae: 2.3149\n",
            "Epoch 115/150\n",
            "1/1 [==============================] - 0s 10ms/step - loss: 2.3084 - mae: 2.3084\n",
            "Epoch 116/150\n",
            "1/1 [==============================] - 0s 12ms/step - loss: 2.3028 - mae: 2.3028\n",
            "Epoch 117/150\n",
            "1/1 [==============================] - 0s 12ms/step - loss: 2.2949 - mae: 2.2949\n",
            "Epoch 118/150\n",
            "1/1 [==============================] - 0s 10ms/step - loss: 2.2899 - mae: 2.2899\n",
            "Epoch 119/150\n",
            "1/1 [==============================] - 0s 11ms/step - loss: 2.2869 - mae: 2.2869\n",
            "Epoch 120/150\n",
            "1/1 [==============================] - 0s 13ms/step - loss: 2.2799 - mae: 2.2799\n",
            "Epoch 121/150\n",
            "1/1 [==============================] - 0s 10ms/step - loss: 2.2746 - mae: 2.2746\n",
            "Epoch 122/150\n",
            "1/1 [==============================] - 0s 12ms/step - loss: 2.2707 - mae: 2.2707\n",
            "Epoch 123/150\n",
            "1/1 [==============================] - 0s 16ms/step - loss: 2.2630 - mae: 2.2630\n",
            "Epoch 124/150\n",
            "1/1 [==============================] - 0s 11ms/step - loss: 2.2559 - mae: 2.2559\n",
            "Epoch 125/150\n",
            "1/1 [==============================] - 0s 13ms/step - loss: 2.2507 - mae: 2.2507\n",
            "Epoch 126/150\n",
            "1/1 [==============================] - 0s 13ms/step - loss: 2.2410 - mae: 2.2410\n",
            "Epoch 127/150\n",
            "1/1 [==============================] - 0s 16ms/step - loss: 2.2322 - mae: 2.2322\n",
            "Epoch 128/150\n",
            "1/1 [==============================] - 0s 14ms/step - loss: 2.2360 - mae: 2.2360\n",
            "Epoch 129/150\n",
            "1/1 [==============================] - 0s 14ms/step - loss: 2.2157 - mae: 2.2157\n",
            "Epoch 130/150\n",
            "1/1 [==============================] - 0s 16ms/step - loss: 2.2143 - mae: 2.2143\n",
            "Epoch 131/150\n",
            "1/1 [==============================] - 0s 17ms/step - loss: 2.2089 - mae: 2.2089\n",
            "Epoch 132/150\n",
            "1/1 [==============================] - 0s 14ms/step - loss: 2.1981 - mae: 2.1981\n",
            "Epoch 133/150\n",
            "1/1 [==============================] - 0s 15ms/step - loss: 2.1996 - mae: 2.1996\n",
            "Epoch 134/150\n",
            "1/1 [==============================] - 0s 15ms/step - loss: 2.1849 - mae: 2.1849\n",
            "Epoch 135/150\n",
            "1/1 [==============================] - 0s 18ms/step - loss: 2.1786 - mae: 2.1786\n",
            "Epoch 136/150\n",
            "1/1 [==============================] - 0s 17ms/step - loss: 2.1739 - mae: 2.1739\n",
            "Epoch 137/150\n",
            "1/1 [==============================] - 0s 18ms/step - loss: 2.1669 - mae: 2.1669\n",
            "Epoch 138/150\n",
            "1/1 [==============================] - 0s 15ms/step - loss: 2.1562 - mae: 2.1562\n",
            "Epoch 139/150\n",
            "1/1 [==============================] - 0s 20ms/step - loss: 2.1470 - mae: 2.1470\n",
            "Epoch 140/150\n",
            "1/1 [==============================] - 0s 15ms/step - loss: 2.1386 - mae: 2.1386\n",
            "Epoch 141/150\n",
            "1/1 [==============================] - 0s 18ms/step - loss: 2.1323 - mae: 2.1323\n",
            "Epoch 142/150\n",
            "1/1 [==============================] - 0s 16ms/step - loss: 2.1279 - mae: 2.1279\n",
            "Epoch 143/150\n",
            "1/1 [==============================] - 0s 14ms/step - loss: 2.1213 - mae: 2.1213\n",
            "Epoch 144/150\n",
            "1/1 [==============================] - 0s 13ms/step - loss: 2.1108 - mae: 2.1108\n",
            "Epoch 145/150\n",
            "1/1 [==============================] - 0s 14ms/step - loss: 2.1037 - mae: 2.1037\n",
            "Epoch 146/150\n",
            "1/1 [==============================] - 0s 11ms/step - loss: 2.0935 - mae: 2.0935\n",
            "Epoch 147/150\n",
            "1/1 [==============================] - 0s 12ms/step - loss: 2.0974 - mae: 2.0974\n",
            "Epoch 148/150\n",
            "1/1 [==============================] - 0s 11ms/step - loss: 2.0785 - mae: 2.0785\n",
            "Epoch 149/150\n",
            "1/1 [==============================] - 0s 10ms/step - loss: 2.0779 - mae: 2.0779\n",
            "Epoch 150/150\n",
            "1/1 [==============================] - 0s 11ms/step - loss: 2.0762 - mae: 2.0762\n"
          ]
        },
        {
          "output_type": "execute_result",
          "data": {
            "text/plain": [
              "<keras.callbacks.History at 0x7f79dacadc90>"
            ]
          },
          "metadata": {},
          "execution_count": 11
        }
      ]
    },
    {
      "cell_type": "code",
      "source": [
        "#making prediction again\n",
        "model.predict([21])     #a litle bit better rather than our second model and way much better than first model"
      ],
      "metadata": {
        "colab": {
          "base_uri": "https://localhost:8080/"
        },
        "id": "fSXOTPNXUCnA",
        "outputId": "2c6ea691-5c45-4bfc-8853-8310165aaf4a"
      },
      "execution_count": 12,
      "outputs": [
        {
          "output_type": "stream",
          "name": "stdout",
          "text": [
            "1/1 [==============================] - 0s 164ms/step\n"
          ]
        },
        {
          "output_type": "execute_result",
          "data": {
            "text/plain": [
              "array([[31.906422]], dtype=float32)"
            ]
          },
          "metadata": {},
          "execution_count": 12
        }
      ]
    },
    {
      "cell_type": "markdown",
      "source": [
        "## Evaluating Model\n",
        "When it comes to the evaluation, there are 3 words you should memorize:\n",
        "\n",
        "> \"Visualize, Visualize, Visualize\""
      ],
      "metadata": {
        "id": "zzNa2QznUqTu"
      }
    },
    {
      "cell_type": "code",
      "source": [
        "#make a bigger dataset\n",
        "X = tf.range(-200,300,10)\n",
        "X"
      ],
      "metadata": {
        "colab": {
          "base_uri": "https://localhost:8080/"
        },
        "id": "CXKiPIj0WG2d",
        "outputId": "20e3238b-597d-4066-a5f6-f51ef8509b46"
      },
      "execution_count": 13,
      "outputs": [
        {
          "output_type": "execute_result",
          "data": {
            "text/plain": [
              "<tf.Tensor: shape=(50,), dtype=int32, numpy=\n",
              "array([-200, -190, -180, -170, -160, -150, -140, -130, -120, -110, -100,\n",
              "        -90,  -80,  -70,  -60,  -50,  -40,  -30,  -20,  -10,    0,   10,\n",
              "         20,   30,   40,   50,   60,   70,   80,   90,  100,  110,  120,\n",
              "        130,  140,  150,  160,  170,  180,  190,  200,  210,  220,  230,\n",
              "        240,  250,  260,  270,  280,  290], dtype=int32)>"
            ]
          },
          "metadata": {},
          "execution_count": 13
        }
      ]
    },
    {
      "cell_type": "code",
      "source": [
        "y = X + 15\n",
        "y"
      ],
      "metadata": {
        "colab": {
          "base_uri": "https://localhost:8080/"
        },
        "id": "ShA_EqXRWGz3",
        "outputId": "b708d338-fa0d-4c01-b4e2-3ba1407b0574"
      },
      "execution_count": 14,
      "outputs": [
        {
          "output_type": "execute_result",
          "data": {
            "text/plain": [
              "<tf.Tensor: shape=(50,), dtype=int32, numpy=\n",
              "array([-185, -175, -165, -155, -145, -135, -125, -115, -105,  -95,  -85,\n",
              "        -75,  -65,  -55,  -45,  -35,  -25,  -15,   -5,    5,   15,   25,\n",
              "         35,   45,   55,   65,   75,   85,   95,  105,  115,  125,  135,\n",
              "        145,  155,  165,  175,  185,  195,  205,  215,  225,  235,  245,\n",
              "        255,  265,  275,  285,  295,  305], dtype=int32)>"
            ]
          },
          "metadata": {},
          "execution_count": 14
        }
      ]
    },
    {
      "cell_type": "code",
      "source": [
        "#visualize data\n",
        "import matplotlib.pyplot as plt\n",
        "plt.scatter(X,y)\n",
        "plt.show()"
      ],
      "metadata": {
        "colab": {
          "base_uri": "https://localhost:8080/",
          "height": 430
        },
        "id": "JR2VLP1zWGxQ",
        "outputId": "c844be1c-7295-4fbc-9b7a-4c85a7237e5b"
      },
      "execution_count": 15,
      "outputs": [
        {
          "output_type": "display_data",
          "data": {
            "text/plain": [
              "<Figure size 640x480 with 1 Axes>"
            ],
            "image/png": "[encoded data removed]"
          },
          "metadata": {}
        }
      ]
    },
    {
      "cell_type": "markdown",
      "source": [
        "### 3 sets....\n",
        "* Train Test\n",
        "* Validation Test\n",
        "* Test Set\n"
      ],
      "metadata": {
        "id": "0mXXuJVsWGup"
      }
    },
    {
      "cell_type": "code",
      "source": [
        "#split X to the train and test set\n",
        "X_train = X[:40]\n",
        "X_test = X[40:]\n",
        "#split y too\n",
        "y_train = y[:40]\n",
        "y_test = y[40:]"
      ],
      "metadata": {
        "id": "phgcdgM0WGsD"
      },
      "execution_count": 16,
      "outputs": []
    },
    {
      "cell_type": "markdown",
      "source": [
        "### Visulising dataset\n",
        "Now we have got our data in the training and test datasets"
      ],
      "metadata": {
        "id": "z3a_VfbFWGpd"
      }
    },
    {
      "cell_type": "code",
      "source": [
        "plt.figure(figsize = (16,9))\n",
        "plt.scatter(X_train,y_train,c='b',label = 'Training Data')\n",
        "plt.scatter(X_test,y_test,c= 'm',label = 'Test Data')\n",
        "plt.legend()\n",
        "plt.show()"
      ],
      "metadata": {
        "colab": {
          "base_uri": "https://localhost:8080/",
          "height": 590
        },
        "id": "SwDMk5R0WGm1",
        "outputId": "b2d741f4-087d-48ac-9e35-d9582555e08c"
      },
      "execution_count": 17,
      "outputs": [
        {
          "output_type": "display_data",
          "data": {
            "text/plain": [
              "<Figure size 1600x900 with 1 Axes>"
            ],
            "image/png": "[encoded data removed]"
          },
          "metadata": {}
        }
      ]
    },
    {
      "cell_type": "markdown",
      "source": [
        "### Visualising the model\n",
        "\n"
      ],
      "metadata": {
        "id": "xIA6jEcGWGkQ"
      }
    },
    {
      "cell_type": "code",
      "source": [
        "model = tf.keras.models.Sequential([\n",
        "    tf.keras.layers.Dense(100, activation= 'relu'),\n",
        "    tf.keras.layers.Dense(100, activation= 'relu'),\n",
        "    tf.keras.layers.Dense(100, activation= 'relu'),\n",
        "    tf.keras.layers.Dense(1)\n",
        "])\n",
        "\n",
        "model.compile(loss = tf.keras.losses.mae,\n",
        "              optimizer= tf.keras.optimizers.Adam(lr= 0.0001),\n",
        "              metrics = ['mae'])\n",
        "\n",
        "model.fit(tf.expand_dims(X_train,axis=-1),y_train,epochs = 100,batch_size = 10)"
      ],
      "metadata": {
        "colab": {
          "base_uri": "https://localhost:8080/"
        },
        "id": "RK343qWTWGho",
        "outputId": "e84231be-eb2f-465b-9521-0b9c22ba3a2b"
      },
      "execution_count": 18,
      "outputs": [
        {
          "output_type": "stream",
          "name": "stderr",
          "text": [
            "WARNING:absl:`lr` is deprecated in Keras optimizer, please use `learning_rate` or use the legacy optimizer, e.g.,tf.keras.optimizers.legacy.Adam.\n"
          ]
        },
        {
          "output_type": "stream",
          "name": "stdout",
          "text": [
            "Epoch 1/100\n",
            "4/4 [==============================] - 1s 5ms/step - loss: 95.8177 - mae: 95.8177\n",
            "Epoch 2/100\n",
            "4/4 [==============================] - 0s 4ms/step - loss: 81.7248 - mae: 81.7248\n",
            "Epoch 3/100\n",
            "4/4 [==============================] - 0s 4ms/step - loss: 67.7281 - mae: 67.7281\n",
            "Epoch 4/100\n",
            "4/4 [==============================] - 0s 4ms/step - loss: 51.1924 - mae: 51.1924\n",
            "Epoch 5/100\n",
            "4/4 [==============================] - 0s 4ms/step - loss: 31.7480 - mae: 31.7480\n",
            "Epoch 6/100\n",
            "4/4 [==============================] - 0s 4ms/step - loss: 20.2167 - mae: 20.2167\n",
            "Epoch 7/100\n",
            "4/4 [==============================] - 0s 4ms/step - loss: 11.8990 - mae: 11.8990\n",
            "Epoch 8/100\n",
            "4/4 [==============================] - 0s 4ms/step - loss: 13.1284 - mae: 13.1284\n",
            "Epoch 9/100\n",
            "4/4 [==============================] - 0s 4ms/step - loss: 10.1841 - mae: 10.1841\n",
            "Epoch 10/100\n",
            "4/4 [==============================] - 0s 6ms/step - loss: 7.5244 - mae: 7.5244\n",
            "Epoch 11/100\n",
            "4/4 [==============================] - 0s 4ms/step - loss: 6.6888 - mae: 6.6888\n",
            "Epoch 12/100\n",
            "4/4 [==============================] - 0s 4ms/step - loss: 7.3762 - mae: 7.3762\n",
            "Epoch 13/100\n",
            "4/4 [==============================] - 0s 4ms/step - loss: 6.7038 - mae: 6.7038\n",
            "Epoch 14/100\n",
            "4/4 [==============================] - 0s 4ms/step - loss: 6.4359 - mae: 6.4359\n",
            "Epoch 15/100\n",
            "4/4 [==============================] - 0s 4ms/step - loss: 6.4243 - mae: 6.4243\n",
            "Epoch 16/100\n",
            "4/4 [==============================] - 0s 5ms/step - loss: 6.3726 - mae: 6.3726\n",
            "Epoch 17/100\n",
            "4/4 [==============================] - 0s 5ms/step - loss: 6.2169 - mae: 6.2169\n",
            "Epoch 18/100\n",
            "4/4 [==============================] - 0s 5ms/step - loss: 6.2558 - mae: 6.2558\n",
            "Epoch 19/100\n",
            "4/4 [==============================] - 0s 4ms/step - loss: 6.3165 - mae: 6.3165\n",
            "Epoch 20/100\n",
            "4/4 [==============================] - 0s 4ms/step - loss: 6.2602 - mae: 6.2602\n",
            "Epoch 21/100\n",
            "4/4 [==============================] - 0s 5ms/step - loss: 6.2927 - mae: 6.2927\n",
            "Epoch 22/100\n",
            "4/4 [==============================] - 0s 4ms/step - loss: 6.3308 - mae: 6.3308\n",
            "Epoch 23/100\n",
            "4/4 [==============================] - 0s 4ms/step - loss: 6.1268 - mae: 6.1268\n",
            "Epoch 24/100\n",
            "4/4 [==============================] - 0s 5ms/step - loss: 5.9917 - mae: 5.9917\n",
            "Epoch 25/100\n",
            "4/4 [==============================] - 0s 5ms/step - loss: 5.9999 - mae: 5.9999\n",
            "Epoch 26/100\n",
            "4/4 [==============================] - 0s 5ms/step - loss: 6.0517 - mae: 6.0517\n",
            "Epoch 27/100\n",
            "4/4 [==============================] - 0s 4ms/step - loss: 6.0029 - mae: 6.0029\n",
            "Epoch 28/100\n",
            "4/4 [==============================] - 0s 4ms/step - loss: 6.4590 - mae: 6.4590\n",
            "Epoch 29/100\n",
            "4/4 [==============================] - 0s 4ms/step - loss: 6.5484 - mae: 6.5484\n",
            "Epoch 30/100\n",
            "4/4 [==============================] - 0s 5ms/step - loss: 6.9430 - mae: 6.9430\n",
            "Epoch 31/100\n",
            "4/4 [==============================] - 0s 4ms/step - loss: 6.6310 - mae: 6.6310\n",
            "Epoch 32/100\n",
            "4/4 [==============================] - 0s 4ms/step - loss: 6.0682 - mae: 6.0682\n",
            "Epoch 33/100\n",
            "4/4 [==============================] - 0s 4ms/step - loss: 6.8542 - mae: 6.8542\n",
            "Epoch 34/100\n",
            "4/4 [==============================] - 0s 4ms/step - loss: 6.0646 - mae: 6.0646\n",
            "Epoch 35/100\n",
            "4/4 [==============================] - 0s 4ms/step - loss: 6.0939 - mae: 6.0939\n",
            "Epoch 36/100\n",
            "4/4 [==============================] - 0s 5ms/step - loss: 6.5956 - mae: 6.5956\n",
            "Epoch 37/100\n",
            "4/4 [==============================] - 0s 4ms/step - loss: 6.0319 - mae: 6.0319\n",
            "Epoch 38/100\n",
            "4/4 [==============================] - 0s 4ms/step - loss: 6.2981 - mae: 6.2981\n",
            "Epoch 39/100\n",
            "4/4 [==============================] - 0s 4ms/step - loss: 6.0363 - mae: 6.0363\n",
            "Epoch 40/100\n",
            "4/4 [==============================] - 0s 4ms/step - loss: 5.9249 - mae: 5.9249\n",
            "Epoch 41/100\n",
            "4/4 [==============================] - 0s 5ms/step - loss: 5.8059 - mae: 5.8059\n",
            "Epoch 42/100\n",
            "4/4 [==============================] - 0s 4ms/step - loss: 5.7075 - mae: 5.7075\n",
            "Epoch 43/100\n",
            "4/4 [==============================] - 0s 4ms/step - loss: 5.7087 - mae: 5.7087\n",
            "Epoch 44/100\n",
            "4/4 [==============================] - 0s 4ms/step - loss: 5.8023 - mae: 5.8023\n",
            "Epoch 45/100\n",
            "4/4 [==============================] - 0s 4ms/step - loss: 5.6928 - mae: 5.6928\n",
            "Epoch 46/100\n",
            "4/4 [==============================] - 0s 4ms/step - loss: 6.0650 - mae: 6.0650\n",
            "Epoch 47/100\n",
            "4/4 [==============================] - 0s 4ms/step - loss: 5.9466 - mae: 5.9466\n",
            "Epoch 48/100\n",
            "4/4 [==============================] - 0s 4ms/step - loss: 5.8789 - mae: 5.8789\n",
            "Epoch 49/100\n",
            "4/4 [==============================] - 0s 4ms/step - loss: 6.6166 - mae: 6.6166\n",
            "Epoch 50/100\n",
            "4/4 [==============================] - 0s 4ms/step - loss: 6.1075 - mae: 6.1075\n",
            "Epoch 51/100\n",
            "4/4 [==============================] - 0s 4ms/step - loss: 5.8337 - mae: 5.8337\n",
            "Epoch 52/100\n",
            "4/4 [==============================] - 0s 5ms/step - loss: 5.5678 - mae: 5.5678\n",
            "Epoch 53/100\n",
            "4/4 [==============================] - 0s 4ms/step - loss: 5.6755 - mae: 5.6755\n",
            "Epoch 54/100\n",
            "4/4 [==============================] - 0s 4ms/step - loss: 5.5390 - mae: 5.5390\n",
            "Epoch 55/100\n",
            "4/4 [==============================] - 0s 4ms/step - loss: 6.2147 - mae: 6.2147\n",
            "Epoch 56/100\n",
            "4/4 [==============================] - 0s 4ms/step - loss: 5.7964 - mae: 5.7964\n",
            "Epoch 57/100\n",
            "4/4 [==============================] - 0s 5ms/step - loss: 5.8419 - mae: 5.8419\n",
            "Epoch 58/100\n",
            "4/4 [==============================] - 0s 8ms/step - loss: 5.7703 - mae: 5.7703\n",
            "Epoch 59/100\n",
            "4/4 [==============================] - 0s 5ms/step - loss: 6.0460 - mae: 6.0460\n",
            "Epoch 60/100\n",
            "4/4 [==============================] - 0s 4ms/step - loss: 6.0384 - mae: 6.0384\n",
            "Epoch 61/100\n",
            "4/4 [==============================] - 0s 4ms/step - loss: 5.5425 - mae: 5.5425\n",
            "Epoch 62/100\n",
            "4/4 [==============================] - 0s 4ms/step - loss: 5.7642 - mae: 5.7642\n",
            "Epoch 63/100\n",
            "4/4 [==============================] - 0s 4ms/step - loss: 5.5471 - mae: 5.5471\n",
            "Epoch 64/100\n",
            "4/4 [==============================] - 0s 4ms/step - loss: 5.6101 - mae: 5.6101\n",
            "Epoch 65/100\n",
            "4/4 [==============================] - 0s 4ms/step - loss: 5.4370 - mae: 5.4370\n",
            "Epoch 66/100\n",
            "4/4 [==============================] - 0s 4ms/step - loss: 5.3554 - mae: 5.3554\n",
            "Epoch 67/100\n",
            "4/4 [==============================] - 0s 6ms/step - loss: 5.4328 - mae: 5.4328\n",
            "Epoch 68/100\n",
            "4/4 [==============================] - 0s 4ms/step - loss: 5.5931 - mae: 5.5931\n",
            "Epoch 69/100\n",
            "4/4 [==============================] - 0s 4ms/step - loss: 6.2516 - mae: 6.2516\n",
            "Epoch 70/100\n",
            "4/4 [==============================] - 0s 4ms/step - loss: 5.4671 - mae: 5.4671\n",
            "Epoch 71/100\n",
            "4/4 [==============================] - 0s 4ms/step - loss: 5.0431 - mae: 5.0431\n",
            "Epoch 72/100\n",
            "4/4 [==============================] - 0s 6ms/step - loss: 5.1097 - mae: 5.1097\n",
            "Epoch 73/100\n",
            "4/4 [==============================] - 0s 6ms/step - loss: 4.8890 - mae: 4.8890\n",
            "Epoch 74/100\n",
            "4/4 [==============================] - 0s 4ms/step - loss: 4.9890 - mae: 4.9890\n",
            "Epoch 75/100\n",
            "4/4 [==============================] - 0s 5ms/step - loss: 4.8625 - mae: 4.8625\n",
            "Epoch 76/100\n",
            "4/4 [==============================] - 0s 4ms/step - loss: 4.9172 - mae: 4.9172\n",
            "Epoch 77/100\n",
            "4/4 [==============================] - 0s 4ms/step - loss: 5.0268 - mae: 5.0268\n",
            "Epoch 78/100\n",
            "4/4 [==============================] - 0s 4ms/step - loss: 5.3543 - mae: 5.3543\n",
            "Epoch 79/100\n",
            "4/4 [==============================] - 0s 4ms/step - loss: 5.3849 - mae: 5.3849\n",
            "Epoch 80/100\n",
            "4/4 [==============================] - 0s 4ms/step - loss: 5.8471 - mae: 5.8471\n",
            "Epoch 81/100\n",
            "4/4 [==============================] - 0s 4ms/step - loss: 5.2270 - mae: 5.2270\n",
            "Epoch 82/100\n",
            "4/4 [==============================] - 0s 4ms/step - loss: 6.3396 - mae: 6.3396\n",
            "Epoch 83/100\n",
            "4/4 [==============================] - 0s 4ms/step - loss: 5.7632 - mae: 5.7632\n",
            "Epoch 84/100\n",
            "4/4 [==============================] - 0s 4ms/step - loss: 7.0652 - mae: 7.0652\n",
            "Epoch 85/100\n",
            "4/4 [==============================] - 0s 4ms/step - loss: 5.9656 - mae: 5.9656\n",
            "Epoch 86/100\n",
            "4/4 [==============================] - 0s 4ms/step - loss: 5.8740 - mae: 5.8740\n",
            "Epoch 87/100\n",
            "4/4 [==============================] - 0s 4ms/step - loss: 4.9146 - mae: 4.9146\n",
            "Epoch 88/100\n",
            "4/4 [==============================] - 0s 4ms/step - loss: 4.4458 - mae: 4.4458\n",
            "Epoch 89/100\n",
            "4/4 [==============================] - 0s 4ms/step - loss: 4.4961 - mae: 4.4961\n",
            "Epoch 90/100\n",
            "4/4 [==============================] - 0s 4ms/step - loss: 4.4428 - mae: 4.4428\n",
            "Epoch 91/100\n",
            "4/4 [==============================] - 0s 4ms/step - loss: 4.7755 - mae: 4.7755\n",
            "Epoch 92/100\n",
            "4/4 [==============================] - 0s 4ms/step - loss: 4.5795 - mae: 4.5795\n",
            "Epoch 93/100\n",
            "4/4 [==============================] - 0s 4ms/step - loss: 5.2245 - mae: 5.2245\n",
            "Epoch 94/100\n",
            "4/4 [==============================] - 0s 5ms/step - loss: 5.6327 - mae: 5.6327\n",
            "Epoch 95/100\n",
            "4/4 [==============================] - 0s 4ms/step - loss: 5.6697 - mae: 5.6697\n",
            "Epoch 96/100\n",
            "4/4 [==============================] - 0s 4ms/step - loss: 4.5855 - mae: 4.5855\n",
            "Epoch 97/100\n",
            "4/4 [==============================] - 0s 4ms/step - loss: 4.8554 - mae: 4.8554\n",
            "Epoch 98/100\n",
            "4/4 [==============================] - 0s 4ms/step - loss: 5.0210 - mae: 5.0210\n",
            "Epoch 99/100\n",
            "4/4 [==============================] - 0s 5ms/step - loss: 4.8117 - mae: 4.8117\n",
            "Epoch 100/100\n",
            "4/4 [==============================] - 0s 4ms/step - loss: 4.8794 - mae: 4.8794\n"
          ]
        },
        {
          "output_type": "execute_result",
          "data": {
            "text/plain": [
              "<keras.callbacks.History at 0x7f79d6da4280>"
            ]
          },
          "metadata": {},
          "execution_count": 18
        }
      ]
    },
    {
      "cell_type": "code",
      "source": [
        "predictions = model.predict(X_test)"
      ],
      "metadata": {
        "colab": {
          "base_uri": "https://localhost:8080/"
        },
        "id": "8yOFeffgWGew",
        "outputId": "d8e70da8-032b-45ad-f0ce-2d757d2af1f2"
      },
      "execution_count": 19,
      "outputs": [
        {
          "output_type": "stream",
          "name": "stdout",
          "text": [
            "1/1 [==============================] - 0s 58ms/step\n"
          ]
        }
      ]
    },
    {
      "cell_type": "code",
      "source": [
        "predictions"
      ],
      "metadata": {
        "colab": {
          "base_uri": "https://localhost:8080/"
        },
        "id": "BvUvHieaWGcK",
        "outputId": "abf7e78b-3703-443c-b1f9-aff9faab7327"
      },
      "execution_count": 20,
      "outputs": [
        {
          "output_type": "execute_result",
          "data": {
            "text/plain": [
              "array([[223.55074],\n",
              "       [234.46986],\n",
              "       [245.38899],\n",
              "       [256.30814],\n",
              "       [267.22723],\n",
              "       [278.14777],\n",
              "       [289.0701 ],\n",
              "       [299.99237],\n",
              "       [310.9146 ],\n",
              "       [321.83694]], dtype=float32)"
            ]
          },
          "metadata": {},
          "execution_count": 20
        }
      ]
    },
    {
      "cell_type": "code",
      "source": [
        "plt.figure(figsize = (16,9))\n",
        "plt.scatter(X_train,y_train,c= 'b',label = 'Train Data')\n",
        "plt.scatter(X_test,y_test,c= 'm',label= 'Test Data')\n",
        "plt.scatter(predictions,predictions,c ='g',label= 'Predictions')\n",
        "plt.legend()\n",
        "plt.show()"
      ],
      "metadata": {
        "colab": {
          "base_uri": "https://localhost:8080/",
          "height": 590
        },
        "id": "28bG3ljpWGZT",
        "outputId": "d4ab9a56-6051-4a18-8354-b5b468f077e4"
      },
      "execution_count": 21,
      "outputs": [
        {
          "output_type": "display_data",
          "data": {
            "text/plain": [
              "<Figure size 1600x900 with 1 Axes>"
            ],
            "image/png": "[encoded data removed]"
          },
          "metadata": {}
        }
      ]
    },
    {
      "cell_type": "code",
      "source": [
        "model.summary()"
      ],
      "metadata": {
        "id": "2FF2svYzWGWc",
        "colab": {
          "base_uri": "https://localhost:8080/"
        },
        "outputId": "4062bb10-619d-4134-cb7f-d458f59e15cc"
      },
      "execution_count": 23,
      "outputs": [
        {
          "output_type": "stream",
          "name": "stdout",
          "text": [
            "Model: \"sequential_3\"\n",
            "_________________________________________________________________\n",
            " Layer (type)                Output Shape              Param #   \n",
            "=================================================================\n",
            " dense_8 (Dense)             (10, 100)                 200       \n",
            "                                                                 \n",
            " dense_9 (Dense)             (10, 100)                 10100     \n",
            "                                                                 \n",
            " dense_10 (Dense)            (10, 100)                 10100     \n",
            "                                                                 \n",
            " dense_11 (Dense)            (10, 1)                   101       \n",
            "                                                                 \n",
            "=================================================================\n",
            "Total params: 20,501\n",
            "Trainable params: 20,501\n",
            "Non-trainable params: 0\n",
            "_________________________________________________________________\n"
          ]
        }
      ]
    },
    {
      "cell_type": "code",
      "source": [
        "#another way to visualise our model\n",
        "import plot_model\n",
        "from tensorflow.keras.utils import plot_model\n",
        "\n",
        "plot_model(model = improved_model,show_shapes=1,show_dtype=False)"
      ],
      "metadata": {
        "id": "GSjSKOBtWGT2",
        "colab": {
          "base_uri": "https://localhost:8080/",
          "height": 422
        },
        "outputId": "2596293b-2eb1-4509-ef25-fced7214a078"
      },
      "execution_count": 36,
      "outputs": [
        {
          "output_type": "execute_result",
          "data": {
            "image/png": "[encoded data removed]",
            "text/plain": [
              "<IPython.core.display.Image object>"
            ]
          },
          "metadata": {},
          "execution_count": 36
        }
      ]
    },
    {
      "cell_type": "code",
      "source": [
        "  #Let's create a model and get more spesific summary\n",
        "\n",
        "  #create the model\n",
        "  summarized_model = tf.keras.models.Sequential([\n",
        "      tf.keras.layers.Dense(100,activation= 'relu',input_shape=[1],name='Input Layer'),\n",
        "      tf.keras.layers.Dense(150,activation= 'relu'),\n",
        "      tf.keras.layers.Dense(200,activation= 'relu'),\n",
        "      tf.keras.layers.Dense(1,name= 'Output Layer')],name='Summarized Model')\n",
        "\n",
        "  #compile the model\n",
        "  model.compile(loss = tf.keras.losses.mae,\n",
        "                optimizer = tf.keras.optimizers.SGD(),\n",
        "                metrics=['mae'])\n",
        "\n",
        "  #fit the model\n",
        "  #model.fit(tf.expand_dims(X_train,axis=-1) ,y_train, epochs= 50)  #if you set the verbose yo don't get the training or something"
      ],
      "metadata": {
        "colab": {
          "base_uri": "https://localhost:8080/",
          "height": 407
        },
        "id": "rehOMqDWwz0d",
        "outputId": "583de94c-4fbc-49d1-d4f9-0f5bdd9d4125"
      },
      "execution_count": 67,
      "outputs": [
        {
          "output_type": "error",
          "ename": "ValueError",
          "evalue": "ignored",
          "traceback": [
            "\u001b[0;31m---------------------------------------------------------------------------\u001b[0m",
            "\u001b[0;31mValueError\u001b[0m                                Traceback (most recent call last)",
            "\u001b[0;32m<ipython-input-67-50dbf8e7f9ca>\u001b[0m in \u001b[0;36m<cell line: 4>\u001b[0;34m()\u001b[0m\n\u001b[1;32m      2\u001b[0m \u001b[0;34m\u001b[0m\u001b[0m\n\u001b[1;32m      3\u001b[0m \u001b[0;31m#create the model\u001b[0m\u001b[0;34m\u001b[0m\u001b[0;34m\u001b[0m\u001b[0m\n\u001b[0;32m----> 4\u001b[0;31m summarized_model = tf.keras.models.Sequential([\n\u001b[0m\u001b[1;32m      5\u001b[0m     \u001b[0mtf\u001b[0m\u001b[0;34m.\u001b[0m\u001b[0mkeras\u001b[0m\u001b[0;34m.\u001b[0m\u001b[0mlayers\u001b[0m\u001b[0;34m.\u001b[0m\u001b[0mDense\u001b[0m\u001b[0;34m(\u001b[0m\u001b[0;36m100\u001b[0m\u001b[0;34m,\u001b[0m\u001b[0mactivation\u001b[0m\u001b[0;34m=\u001b[0m \u001b[0;34m'relu'\u001b[0m\u001b[0;34m,\u001b[0m\u001b[0minput_shape\u001b[0m\u001b[0;34m=\u001b[0m\u001b[0;34m[\u001b[0m\u001b[0;36m1\u001b[0m\u001b[0;34m]\u001b[0m\u001b[0;34m,\u001b[0m\u001b[0mname\u001b[0m\u001b[0;34m=\u001b[0m\u001b[0;34m'Input Layer'\u001b[0m\u001b[0;34m)\u001b[0m\u001b[0;34m,\u001b[0m\u001b[0;34m\u001b[0m\u001b[0;34m\u001b[0m\u001b[0m\n\u001b[1;32m      6\u001b[0m     \u001b[0mtf\u001b[0m\u001b[0;34m.\u001b[0m\u001b[0mkeras\u001b[0m\u001b[0;34m.\u001b[0m\u001b[0mlayers\u001b[0m\u001b[0;34m.\u001b[0m\u001b[0mDense\u001b[0m\u001b[0;34m(\u001b[0m\u001b[0;36m150\u001b[0m\u001b[0;34m,\u001b[0m\u001b[0mactivation\u001b[0m\u001b[0;34m=\u001b[0m \u001b[0;34m'relu'\u001b[0m\u001b[0;34m)\u001b[0m\u001b[0;34m,\u001b[0m\u001b[0;34m\u001b[0m\u001b[0;34m\u001b[0m\u001b[0m\n",
            "\u001b[0;32m/usr/local/lib/python3.10/dist-packages/tensorflow/python/trackable/base.py\u001b[0m in \u001b[0;36m_method_wrapper\u001b[0;34m(self, *args, **kwargs)\u001b[0m\n\u001b[1;32m    203\u001b[0m     \u001b[0mself\u001b[0m\u001b[0;34m.\u001b[0m\u001b[0m_self_setattr_tracking\u001b[0m \u001b[0;34m=\u001b[0m \u001b[0;32mFalse\u001b[0m  \u001b[0;31m# pylint: disable=protected-access\u001b[0m\u001b[0;34m\u001b[0m\u001b[0;34m\u001b[0m\u001b[0m\n\u001b[1;32m    204\u001b[0m     \u001b[0;32mtry\u001b[0m\u001b[0;34m:\u001b[0m\u001b[0;34m\u001b[0m\u001b[0;34m\u001b[0m\u001b[0m\n\u001b[0;32m--> 205\u001b[0;31m       \u001b[0mresult\u001b[0m \u001b[0;34m=\u001b[0m \u001b[0mmethod\u001b[0m\u001b[0;34m(\u001b[0m\u001b[0mself\u001b[0m\u001b[0;34m,\u001b[0m \u001b[0;34m*\u001b[0m\u001b[0margs\u001b[0m\u001b[0;34m,\u001b[0m \u001b[0;34m**\u001b[0m\u001b[0mkwargs\u001b[0m\u001b[0;34m)\u001b[0m\u001b[0;34m\u001b[0m\u001b[0;34m\u001b[0m\u001b[0m\n\u001b[0m\u001b[1;32m    206\u001b[0m     \u001b[0;32mfinally\u001b[0m\u001b[0;34m:\u001b[0m\u001b[0;34m\u001b[0m\u001b[0;34m\u001b[0m\u001b[0m\n\u001b[1;32m    207\u001b[0m       \u001b[0mself\u001b[0m\u001b[0;34m.\u001b[0m\u001b[0m_self_setattr_tracking\u001b[0m \u001b[0;34m=\u001b[0m \u001b[0mprevious_value\u001b[0m  \u001b[0;31m# pylint: disable=protected-access\u001b[0m\u001b[0;34m\u001b[0m\u001b[0;34m\u001b[0m\u001b[0m\n",
            "\u001b[0;32m/usr/local/lib/python3.10/dist-packages/keras/utils/traceback_utils.py\u001b[0m in \u001b[0;36merror_handler\u001b[0;34m(*args, **kwargs)\u001b[0m\n\u001b[1;32m     68\u001b[0m             \u001b[0;31m# To get the full stack trace, call:\u001b[0m\u001b[0;34m\u001b[0m\u001b[0;34m\u001b[0m\u001b[0m\n\u001b[1;32m     69\u001b[0m             \u001b[0;31m# `tf.debugging.disable_traceback_filtering()`\u001b[0m\u001b[0;34m\u001b[0m\u001b[0;34m\u001b[0m\u001b[0m\n\u001b[0;32m---> 70\u001b[0;31m             \u001b[0;32mraise\u001b[0m \u001b[0me\u001b[0m\u001b[0;34m.\u001b[0m\u001b[0mwith_traceback\u001b[0m\u001b[0;34m(\u001b[0m\u001b[0mfiltered_tb\u001b[0m\u001b[0;34m)\u001b[0m \u001b[0;32mfrom\u001b[0m \u001b[0;32mNone\u001b[0m\u001b[0;34m\u001b[0m\u001b[0;34m\u001b[0m\u001b[0m\n\u001b[0m\u001b[1;32m     71\u001b[0m         \u001b[0;32mfinally\u001b[0m\u001b[0;34m:\u001b[0m\u001b[0;34m\u001b[0m\u001b[0;34m\u001b[0m\u001b[0m\n\u001b[1;32m     72\u001b[0m             \u001b[0;32mdel\u001b[0m \u001b[0mfiltered_tb\u001b[0m\u001b[0;34m\u001b[0m\u001b[0;34m\u001b[0m\u001b[0m\n",
            "\u001b[0;32m/usr/lib/python3.10/contextlib.py\u001b[0m in \u001b[0;36m__enter__\u001b[0;34m(self)\u001b[0m\n\u001b[1;32m    133\u001b[0m         \u001b[0;32mdel\u001b[0m \u001b[0mself\u001b[0m\u001b[0;34m.\u001b[0m\u001b[0margs\u001b[0m\u001b[0;34m,\u001b[0m \u001b[0mself\u001b[0m\u001b[0;34m.\u001b[0m\u001b[0mkwds\u001b[0m\u001b[0;34m,\u001b[0m \u001b[0mself\u001b[0m\u001b[0;34m.\u001b[0m\u001b[0mfunc\u001b[0m\u001b[0;34m\u001b[0m\u001b[0;34m\u001b[0m\u001b[0m\n\u001b[1;32m    134\u001b[0m         \u001b[0;32mtry\u001b[0m\u001b[0;34m:\u001b[0m\u001b[0;34m\u001b[0m\u001b[0;34m\u001b[0m\u001b[0m\n\u001b[0;32m--> 135\u001b[0;31m             \u001b[0;32mreturn\u001b[0m \u001b[0mnext\u001b[0m\u001b[0;34m(\u001b[0m\u001b[0mself\u001b[0m\u001b[0;34m.\u001b[0m\u001b[0mgen\u001b[0m\u001b[0;34m)\u001b[0m\u001b[0;34m\u001b[0m\u001b[0;34m\u001b[0m\u001b[0m\n\u001b[0m\u001b[1;32m    136\u001b[0m         \u001b[0;32mexcept\u001b[0m \u001b[0mStopIteration\u001b[0m\u001b[0;34m:\u001b[0m\u001b[0;34m\u001b[0m\u001b[0;34m\u001b[0m\u001b[0m\n\u001b[1;32m    137\u001b[0m             \u001b[0;32mraise\u001b[0m \u001b[0mRuntimeError\u001b[0m\u001b[0;34m(\u001b[0m\u001b[0;34m\"generator didn't yield\"\u001b[0m\u001b[0;34m)\u001b[0m \u001b[0;32mfrom\u001b[0m \u001b[0;32mNone\u001b[0m\u001b[0;34m\u001b[0m\u001b[0;34m\u001b[0m\u001b[0m\n",
            "\u001b[0;31mValueError\u001b[0m: 'Input Layer/' is not a valid root scope name. A root scope name has to match the following pattern: ^[A-Za-z0-9.][A-Za-z0-9_.\\\\/>-]*$"
          ]
        }
      ]
    },
    {
      "cell_type": "code",
      "source": [
        "summarized_model.summary()"
      ],
      "metadata": {
        "colab": {
          "base_uri": "https://localhost:8080/",
          "height": 329
        },
        "id": "qT4dhalW677e",
        "outputId": "6692c60e-1a83-47ca-d3e2-2fa0c95d005f"
      },
      "execution_count": 63,
      "outputs": [
        {
          "output_type": "error",
          "ename": "ValueError",
          "evalue": "ignored",
          "traceback": [
            "\u001b[0;31m---------------------------------------------------------------------------\u001b[0m",
            "\u001b[0;31mValueError\u001b[0m                                Traceback (most recent call last)",
            "\u001b[0;32m<ipython-input-63-a0af6911a4f4>\u001b[0m in \u001b[0;36m<cell line: 1>\u001b[0;34m()\u001b[0m\n\u001b[0;32m----> 1\u001b[0;31m \u001b[0msummarized_model\u001b[0m\u001b[0;34m.\u001b[0m\u001b[0msummary\u001b[0m\u001b[0;34m(\u001b[0m\u001b[0;34m)\u001b[0m\u001b[0;34m\u001b[0m\u001b[0;34m\u001b[0m\u001b[0m\n\u001b[0m",
            "\u001b[0;32m/usr/local/lib/python3.10/dist-packages/keras/engine/training.py\u001b[0m in \u001b[0;36msummary\u001b[0;34m(self, line_length, positions, print_fn, expand_nested, show_trainable, layer_range)\u001b[0m\n\u001b[1;32m   3227\u001b[0m         \"\"\"\n\u001b[1;32m   3228\u001b[0m         \u001b[0;32mif\u001b[0m \u001b[0;32mnot\u001b[0m \u001b[0mself\u001b[0m\u001b[0;34m.\u001b[0m\u001b[0mbuilt\u001b[0m\u001b[0;34m:\u001b[0m\u001b[0;34m\u001b[0m\u001b[0;34m\u001b[0m\u001b[0m\n\u001b[0;32m-> 3229\u001b[0;31m             raise ValueError(\n\u001b[0m\u001b[1;32m   3230\u001b[0m                 \u001b[0;34m\"This model has not yet been built. \"\u001b[0m\u001b[0;34m\u001b[0m\u001b[0;34m\u001b[0m\u001b[0m\n\u001b[1;32m   3231\u001b[0m                 \u001b[0;34m\"Build the model first by calling `build()` or by calling \"\u001b[0m\u001b[0;34m\u001b[0m\u001b[0;34m\u001b[0m\u001b[0m\n",
            "\u001b[0;31mValueError\u001b[0m: This model has not yet been built. Build the model first by calling `build()` or by calling the model on a batch of data."
          ]
        }
      ]
    },
    {
      "cell_type": "code",
      "source": [],
      "metadata": {
        "id": "4xKmQ15X670g"
      },
      "execution_count": null,
      "outputs": []
    },
    {
      "cell_type": "code",
      "source": [
        "np.array(X_train).shape"
      ],
      "metadata": {
        "colab": {
          "base_uri": "https://localhost:8080/"
        },
        "id": "SCmecTr1yYYA",
        "outputId": "b16c2a55-b7bc-4852-f0bb-7a3eef1ce6ca"
      },
      "execution_count": 48,
      "outputs": [
        {
          "output_type": "execute_result",
          "data": {
            "text/plain": [
              "(40,)"
            ]
          },
          "metadata": {},
          "execution_count": 48
        }
      ]
    },
    {
      "cell_type": "code",
      "source": [
        "summarized_model.summary()"
      ],
      "metadata": {
        "colab": {
          "base_uri": "https://localhost:8080/",
          "height": 329
        },
        "id": "baYEv-SXyZz_",
        "outputId": "b711786b-7413-4f6d-d85a-0466723faf6b"
      },
      "execution_count": 57,
      "outputs": [
        {
          "output_type": "error",
          "ename": "ValueError",
          "evalue": "ignored",
          "traceback": [
            "\u001b[0;31m---------------------------------------------------------------------------\u001b[0m",
            "\u001b[0;31mValueError\u001b[0m                                Traceback (most recent call last)",
            "\u001b[0;32m<ipython-input-57-a0af6911a4f4>\u001b[0m in \u001b[0;36m<cell line: 1>\u001b[0;34m()\u001b[0m\n\u001b[0;32m----> 1\u001b[0;31m \u001b[0msummarized_model\u001b[0m\u001b[0;34m.\u001b[0m\u001b[0msummary\u001b[0m\u001b[0;34m(\u001b[0m\u001b[0;34m)\u001b[0m\u001b[0;34m\u001b[0m\u001b[0;34m\u001b[0m\u001b[0m\n\u001b[0m",
            "\u001b[0;32m/usr/local/lib/python3.10/dist-packages/keras/engine/training.py\u001b[0m in \u001b[0;36msummary\u001b[0;34m(self, line_length, positions, print_fn, expand_nested, show_trainable, layer_range)\u001b[0m\n\u001b[1;32m   3227\u001b[0m         \"\"\"\n\u001b[1;32m   3228\u001b[0m         \u001b[0;32mif\u001b[0m \u001b[0;32mnot\u001b[0m \u001b[0mself\u001b[0m\u001b[0;34m.\u001b[0m\u001b[0mbuilt\u001b[0m\u001b[0;34m:\u001b[0m\u001b[0;34m\u001b[0m\u001b[0;34m\u001b[0m\u001b[0m\n\u001b[0;32m-> 3229\u001b[0;31m             raise ValueError(\n\u001b[0m\u001b[1;32m   3230\u001b[0m                 \u001b[0;34m\"This model has not yet been built. \"\u001b[0m\u001b[0;34m\u001b[0m\u001b[0;34m\u001b[0m\u001b[0m\n\u001b[1;32m   3231\u001b[0m                 \u001b[0;34m\"Build the model first by calling `build()` or by calling \"\u001b[0m\u001b[0;34m\u001b[0m\u001b[0;34m\u001b[0m\u001b[0m\n",
            "\u001b[0;31mValueError\u001b[0m: This model has not yet been built. Build the model first by calling `build()` or by calling the model on a batch of data."
          ]
        }
      ]
    },
    {
      "cell_type": "code",
      "source": [],
      "metadata": {
        "id": "vTYV8NA34591"
      },
      "execution_count": null,
      "outputs": []
    },
    {
      "cell_type": "code",
      "source": [],
      "metadata": {
        "id": "fO2rTu2Y5AdH"
      },
      "execution_count": null,
      "outputs": []
    },
    {
      "cell_type": "code",
      "source": [],
      "metadata": {
        "id": "XcovDCUt5AaQ"
      },
      "execution_count": null,
      "outputs": []
    },
    {
      "cell_type": "code",
      "source": [],
      "metadata": {
        "id": "odwIjA2z5AXp"
      },
      "execution_count": null,
      "outputs": []
    },
    {
      "cell_type": "code",
      "source": [],
      "metadata": {
        "id": "ppUCrnpF5AVC"
      },
      "execution_count": null,
      "outputs": []
    },
    {
      "cell_type": "code",
      "source": [],
      "metadata": {
        "id": "SyhgBoS15AR6"
      },
      "execution_count": null,
      "outputs": []
    },
    {
      "cell_type": "code",
      "source": [],
      "metadata": {
        "id": "rpKZQts-5APU"
      },
      "execution_count": null,
      "outputs": []
    },
    {
      "cell_type": "code",
      "source": [],
      "metadata": {
        "id": "9wbhXsGK5AJX"
      },
      "execution_count": null,
      "outputs": []
    }
  ]
}