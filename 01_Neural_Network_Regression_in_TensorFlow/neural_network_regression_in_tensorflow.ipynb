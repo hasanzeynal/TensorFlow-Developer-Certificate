{
  "nbformat": 4,
  "nbformat_minor": 0,
  "metadata": {
    "colab": {
      "provenance": [],
      "gpuType": "T4",
      "mount_file_id": "1qPU8ANIGYREss0ERQkjPgZkYngjuEOaX",
      "authorship_tag": "ABX9TyNIVdiwVPCnlNBnu/aPeEFW",
      "include_colab_link": true
    },
    "kernelspec": {
      "name": "python3",
      "display_name": "Python 3"
    },
    "language_info": {
      "name": "python"
    },
    "accelerator": "GPU"
  },
  "cells": [
    {
      "cell_type": "markdown",
      "metadata": {
        "id": "view-in-github",
        "colab_type": "text"
      },
      "source": [
        "<a href=\"https://colab.research.google.com/github/hasanzeynal/Tensorflow-Developer-Certificate/blob/main/01_Neural_Network_Regression_in_TensorFlow/neural_network_regression_in_tensorflow.ipynb\" target=\"_parent\"><img src=\"https://colab.research.google.com/assets/colab-badge.svg\" alt=\"Open In Colab\"/></a>"
      ]
    },
    {
      "cell_type": "markdown",
      "source": [
        "# Introduction to Regression with Neural Network in TensorFlow"
      ],
      "metadata": {
        "id": "HcBnwSMj9dLo"
      }
    },
    {
      "cell_type": "code",
      "execution_count": 1,
      "metadata": {
        "id": "lgeqBHLV89Tw",
        "colab": {
          "base_uri": "https://localhost:8080/"
        },
        "outputId": "631bd743-85a9-4020-a057-d55d553e0274"
      },
      "outputs": [
        {
          "output_type": "stream",
          "name": "stdout",
          "text": [
            "2.12.0\n"
          ]
        }
      ],
      "source": [
        "#import tensorflow\n",
        "import tensorflow as tf\n",
        "print(tf.__version__)"
      ]
    },
    {
      "cell_type": "code",
      "source": [
        "#ignore all warnings\n",
        "import warnings\n",
        "warnings.filterwarnings('ignore')"
      ],
      "metadata": {
        "id": "kJCDqgHRc765"
      },
      "execution_count": 2,
      "outputs": []
    },
    {
      "cell_type": "markdown",
      "source": [
        "# Basic Neural Network Model for Regression Problem\n",
        "Then, After building our basic NN model, we are gonna try:\n",
        "* improving our model\n",
        "* evaluating\n",
        "* setting\n",
        "* saving\n",
        "* loading\n",
        "* processing with feature scalling(normalising, fitting model on a scaled data)"
      ],
      "metadata": {
        "id": "YADf_H9WbrcT"
      }
    },
    {
      "cell_type": "markdown",
      "source": [
        "## Building Basic Model in TensorFlow"
      ],
      "metadata": {
        "id": "0V3OkMVlZojC"
      }
    },
    {
      "cell_type": "markdown",
      "source": [
        "## Creating Data, So we can model it"
      ],
      "metadata": {
        "id": "GmaElyhN5BfG"
      }
    },
    {
      "cell_type": "code",
      "source": [
        "X = tf.constant([-1,1,3,5,7,9,11,13,15,17,19,21,23])\n",
        "y = tf.constant([9,11,13,15,17,19,21,23,25,27,29,31,33])  #the difference between X and y is 10"
      ],
      "metadata": {
        "id": "KO1nCYkc5Bh7"
      },
      "execution_count": 3,
      "outputs": []
    },
    {
      "cell_type": "code",
      "source": [
        "#looking for the input and output shape\n",
        "X.shape,y.shape  #just we are gonna need comma in the tensoor shape after 14 so shape is (14,)"
      ],
      "metadata": {
        "colab": {
          "base_uri": "https://localhost:8080/"
        },
        "id": "CnqbZ6Ls5Bky",
        "outputId": "16d6e6aa-5130-43a5-ad03-3e9b48e2a0ab"
      },
      "execution_count": 4,
      "outputs": [
        {
          "output_type": "execute_result",
          "data": {
            "text/plain": [
              "(TensorShape([13]), TensorShape([13]))"
            ]
          },
          "metadata": {},
          "execution_count": 4
        }
      ]
    },
    {
      "cell_type": "markdown",
      "source": [
        "### Steps in Modelling in TensorFlow.\n",
        "1. **Creating Model** - define imput, output, hidden layers of our Deep Learning Model.\n",
        "\n",
        "2. **Compiling Model** - define the loss function(the function which tell us how wrong our model is), define optimizer(which tell us our model how improve) and evaluation metrics(we can use to interpret the performance of our model).\n",
        "\n",
        "3. Fitting Model - letting the model try to find patterns between X and y(features and labels)"
      ],
      "metadata": {
        "id": "WhGeFacUH-VR"
      }
    },
    {
      "cell_type": "code",
      "source": [
        "#change 1 rank tensoir to the 2 rank tensor\n",
        "tf.expand_dims(X,-1)"
      ],
      "metadata": {
        "colab": {
          "base_uri": "https://localhost:8080/"
        },
        "id": "Pk4fVlskERYw",
        "outputId": "51cefdb2-86e6-43ae-9555-7538db3f40f3"
      },
      "execution_count": 5,
      "outputs": [
        {
          "output_type": "execute_result",
          "data": {
            "text/plain": [
              "<tf.Tensor: shape=(13, 1), dtype=int32, numpy=\n",
              "array([[-1],\n",
              "       [ 1],\n",
              "       [ 3],\n",
              "       [ 5],\n",
              "       [ 7],\n",
              "       [ 9],\n",
              "       [11],\n",
              "       [13],\n",
              "       [15],\n",
              "       [17],\n",
              "       [19],\n",
              "       [21],\n",
              "       [23]], dtype=int32)>"
            ]
          },
          "metadata": {},
          "execution_count": 5
        }
      ]
    },
    {
      "cell_type": "code",
      "source": [
        "#creating model\n",
        "model = tf.keras.models.Sequential([\n",
        "    tf.keras.layers.Dense(1)\n",
        "])\n",
        "#adding dense layer with the 1 neuron\n",
        "#model.add(tf.keras.layers.Dense(1, input_shape = (14,)))\n",
        "#model.add(tf.keras.layers.Dense(1))\n",
        "\n",
        "#compiling the model\n",
        "model.compile(loss= tf.keras.losses.mae,  #MAE stands for the Mean Absolute Error\n",
        "              optimizer= tf.keras.optimizers.SGD(), #SGD stands for the Stochastic Gradient Error\n",
        "              metrics= ['mae'])\n",
        "\n",
        "#fitting the model\n",
        "model.fit(tf.expand_dims(X,axis = -1), y, epochs= 5)  #axis= -1 makes 2 rank tensor,1 rank tensor is caused an error"
      ],
      "metadata": {
        "id": "yW8er5QyaGOV",
        "colab": {
          "base_uri": "https://localhost:8080/"
        },
        "outputId": "ab89690d-e01c-45d1-948e-56901eb893f6"
      },
      "execution_count": 6,
      "outputs": [
        {
          "output_type": "stream",
          "name": "stdout",
          "text": [
            "Epoch 1/5\n",
            "1/1 [==============================] - 1s 785ms/step - loss: 24.2363 - mae: 24.2363\n",
            "Epoch 2/5\n",
            "1/1 [==============================] - 0s 13ms/step - loss: 23.0163 - mae: 23.0163\n",
            "Epoch 3/5\n",
            "1/1 [==============================] - 0s 15ms/step - loss: 21.7963 - mae: 21.7963\n",
            "Epoch 4/5\n",
            "1/1 [==============================] - 0s 12ms/step - loss: 20.5763 - mae: 20.5763\n",
            "Epoch 5/5\n",
            "1/1 [==============================] - 0s 11ms/step - loss: 19.3563 - mae: 19.3563\n"
          ]
        },
        {
          "output_type": "execute_result",
          "data": {
            "text/plain": [
              "<keras.callbacks.History at 0x7f574afa7e20>"
            ]
          },
          "metadata": {},
          "execution_count": 6
        }
      ]
    },
    {
      "cell_type": "code",
      "source": [],
      "metadata": {
        "id": "76EkMG_-aGLd"
      },
      "execution_count": 6,
      "outputs": []
    },
    {
      "cell_type": "code",
      "source": [
        "#trying make prediction based on X for y\n",
        "model.predict([25])     #if our model is good enough, the answer would be around 35"
      ],
      "metadata": {
        "id": "UaCqUj_OaGIE",
        "colab": {
          "base_uri": "https://localhost:8080/"
        },
        "outputId": "afbc9829-41d2-4c8c-c4eb-67f85c10e8fc"
      },
      "execution_count": 7,
      "outputs": [
        {
          "output_type": "stream",
          "name": "stdout",
          "text": [
            "1/1 [==============================] - 0s 98ms/step\n"
          ]
        },
        {
          "output_type": "execute_result",
          "data": {
            "text/plain": [
              "array([[6.444707]], dtype=float32)"
            ]
          },
          "metadata": {},
          "execution_count": 7
        }
      ]
    },
    {
      "cell_type": "markdown",
      "source": [
        "## Improving our model"
      ],
      "metadata": {
        "id": "I3BISrqHaGFN"
      }
    },
    {
      "cell_type": "markdown",
      "source": [
        "### Creating new model to improve our result"
      ],
      "metadata": {
        "id": "eTG6CxboaGCF"
      }
    },
    {
      "cell_type": "code",
      "source": [
        "from sklearn.model_selection import train_test_split\n",
        "import numpy as np\n",
        "X = np.array(X)\n",
        "y = np.array(y)\n",
        "X_train,X_test,y_train,y_test= train_test_split(X,y,test_size = 0.2,random_state = True)"
      ],
      "metadata": {
        "id": "81JNqwc8NMxl"
      },
      "execution_count": 8,
      "outputs": []
    },
    {
      "cell_type": "code",
      "source": [
        "#create a model(specified to your probelm)\n",
        "improved_model = tf.keras.models.Sequential([\n",
        "    tf.keras.layers.Dense(100,activation = 'relu'),\n",
        "    tf.keras.layers.Dense(100,activation = 'relu'),\n",
        "    tf.keras.layers.Dense(1)\n",
        "])\n",
        "\n",
        "#compile model\n",
        "improved_model.compile(loss = tf.keras.losses.mae,\n",
        "                       optimizer = tf.keras.optimizers.Adam(lr = 0.0001),\n",
        "                       metrics = ['mae'])\n",
        "\n",
        "#fit the model with the subset of X and y and 100 epochs\n",
        "improved_model.fit(tf.expand_dims(X_train,axis= 1),y_train,epochs = 100)"
      ],
      "metadata": {
        "id": "FRHGSeUGaF_O",
        "colab": {
          "base_uri": "https://localhost:8080/"
        },
        "outputId": "9c67b57b-cd30-4834-954e-7d9d0920b877"
      },
      "execution_count": 9,
      "outputs": [
        {
          "output_type": "stream",
          "name": "stderr",
          "text": [
            "WARNING:absl:`lr` is deprecated in Keras optimizer, please use `learning_rate` or use the legacy optimizer, e.g.,tf.keras.optimizers.legacy.Adam.\n"
          ]
        },
        {
          "output_type": "stream",
          "name": "stdout",
          "text": [
            "Epoch 1/100\n",
            "1/1 [==============================] - 1s 800ms/step - loss: 22.1440 - mae: 22.1440\n",
            "Epoch 2/100\n",
            "1/1 [==============================] - 0s 9ms/step - loss: 21.6828 - mae: 21.6828\n",
            "Epoch 3/100\n",
            "1/1 [==============================] - 0s 13ms/step - loss: 21.2460 - mae: 21.2460\n",
            "Epoch 4/100\n",
            "1/1 [==============================] - 0s 16ms/step - loss: 20.8198 - mae: 20.8198\n",
            "Epoch 5/100\n",
            "1/1 [==============================] - 0s 11ms/step - loss: 20.4058 - mae: 20.4058\n",
            "Epoch 6/100\n",
            "1/1 [==============================] - 0s 10ms/step - loss: 20.0141 - mae: 20.0141\n",
            "Epoch 7/100\n",
            "1/1 [==============================] - 0s 13ms/step - loss: 19.6425 - mae: 19.6425\n",
            "Epoch 8/100\n",
            "1/1 [==============================] - 0s 15ms/step - loss: 19.2666 - mae: 19.2666\n",
            "Epoch 9/100\n",
            "1/1 [==============================] - 0s 10ms/step - loss: 18.8908 - mae: 18.8908\n",
            "Epoch 10/100\n",
            "1/1 [==============================] - 0s 10ms/step - loss: 18.5333 - mae: 18.5333\n",
            "Epoch 11/100\n",
            "1/1 [==============================] - 0s 11ms/step - loss: 18.1893 - mae: 18.1893\n",
            "Epoch 12/100\n",
            "1/1 [==============================] - 0s 10ms/step - loss: 17.8443 - mae: 17.8443\n",
            "Epoch 13/100\n",
            "1/1 [==============================] - 0s 9ms/step - loss: 17.5028 - mae: 17.5028\n",
            "Epoch 14/100\n",
            "1/1 [==============================] - 0s 10ms/step - loss: 17.1690 - mae: 17.1690\n",
            "Epoch 15/100\n",
            "1/1 [==============================] - 0s 10ms/step - loss: 16.8477 - mae: 16.8477\n",
            "Epoch 16/100\n",
            "1/1 [==============================] - 0s 11ms/step - loss: 16.5201 - mae: 16.5201\n",
            "Epoch 17/100\n",
            "1/1 [==============================] - 0s 12ms/step - loss: 16.1865 - mae: 16.1865\n",
            "Epoch 18/100\n",
            "1/1 [==============================] - 0s 10ms/step - loss: 15.8429 - mae: 15.8429\n",
            "Epoch 19/100\n",
            "1/1 [==============================] - 0s 10ms/step - loss: 15.4907 - mae: 15.4907\n",
            "Epoch 20/100\n",
            "1/1 [==============================] - 0s 9ms/step - loss: 15.1279 - mae: 15.1279\n",
            "Epoch 21/100\n",
            "1/1 [==============================] - 0s 10ms/step - loss: 14.7544 - mae: 14.7544\n",
            "Epoch 22/100\n",
            "1/1 [==============================] - 0s 9ms/step - loss: 14.3698 - mae: 14.3698\n",
            "Epoch 23/100\n",
            "1/1 [==============================] - 0s 10ms/step - loss: 13.9736 - mae: 13.9736\n",
            "Epoch 24/100\n",
            "1/1 [==============================] - 0s 12ms/step - loss: 13.5656 - mae: 13.5656\n",
            "Epoch 25/100\n",
            "1/1 [==============================] - 0s 9ms/step - loss: 13.1450 - mae: 13.1450\n",
            "Epoch 26/100\n",
            "1/1 [==============================] - 0s 9ms/step - loss: 12.7117 - mae: 12.7117\n",
            "Epoch 27/100\n",
            "1/1 [==============================] - 0s 8ms/step - loss: 12.2650 - mae: 12.2650\n",
            "Epoch 28/100\n",
            "1/1 [==============================] - 0s 13ms/step - loss: 11.8053 - mae: 11.8053\n",
            "Epoch 29/100\n",
            "1/1 [==============================] - 0s 13ms/step - loss: 11.3306 - mae: 11.3306\n",
            "Epoch 30/100\n",
            "1/1 [==============================] - 0s 8ms/step - loss: 10.8350 - mae: 10.8350\n",
            "Epoch 31/100\n",
            "1/1 [==============================] - 0s 10ms/step - loss: 10.3215 - mae: 10.3215\n",
            "Epoch 32/100\n",
            "1/1 [==============================] - 0s 10ms/step - loss: 9.7903 - mae: 9.7903\n",
            "Epoch 33/100\n",
            "1/1 [==============================] - 0s 10ms/step - loss: 9.2413 - mae: 9.2413\n",
            "Epoch 34/100\n",
            "1/1 [==============================] - 0s 10ms/step - loss: 8.6770 - mae: 8.6770\n",
            "Epoch 35/100\n",
            "1/1 [==============================] - 0s 11ms/step - loss: 8.0943 - mae: 8.0943\n",
            "Epoch 36/100\n",
            "1/1 [==============================] - 0s 9ms/step - loss: 7.4823 - mae: 7.4823\n",
            "Epoch 37/100\n",
            "1/1 [==============================] - 0s 9ms/step - loss: 6.8473 - mae: 6.8473\n",
            "Epoch 38/100\n",
            "1/1 [==============================] - 0s 11ms/step - loss: 6.1875 - mae: 6.1875\n",
            "Epoch 39/100\n",
            "1/1 [==============================] - 0s 9ms/step - loss: 5.5034 - mae: 5.5034\n",
            "Epoch 40/100\n",
            "1/1 [==============================] - 0s 9ms/step - loss: 4.7950 - mae: 4.7950\n",
            "Epoch 41/100\n",
            "1/1 [==============================] - 0s 10ms/step - loss: 4.0622 - mae: 4.0622\n",
            "Epoch 42/100\n",
            "1/1 [==============================] - 0s 10ms/step - loss: 3.5324 - mae: 3.5324\n",
            "Epoch 43/100\n",
            "1/1 [==============================] - 0s 10ms/step - loss: 3.3395 - mae: 3.3395\n",
            "Epoch 44/100\n",
            "1/1 [==============================] - 0s 10ms/step - loss: 3.3352 - mae: 3.3352\n",
            "Epoch 45/100\n",
            "1/1 [==============================] - 0s 14ms/step - loss: 3.4627 - mae: 3.4627\n",
            "Epoch 46/100\n",
            "1/1 [==============================] - 0s 16ms/step - loss: 3.6412 - mae: 3.6412\n",
            "Epoch 47/100\n",
            "1/1 [==============================] - 0s 15ms/step - loss: 3.8275 - mae: 3.8275\n",
            "Epoch 48/100\n",
            "1/1 [==============================] - 0s 15ms/step - loss: 3.9697 - mae: 3.9697\n",
            "Epoch 49/100\n",
            "1/1 [==============================] - 0s 14ms/step - loss: 4.0857 - mae: 4.0857\n",
            "Epoch 50/100\n",
            "1/1 [==============================] - 0s 13ms/step - loss: 4.1646 - mae: 4.1646\n",
            "Epoch 51/100\n",
            "1/1 [==============================] - 0s 10ms/step - loss: 4.1789 - mae: 4.1789\n",
            "Epoch 52/100\n",
            "1/1 [==============================] - 0s 11ms/step - loss: 4.1360 - mae: 4.1360\n",
            "Epoch 53/100\n",
            "1/1 [==============================] - 0s 10ms/step - loss: 4.0427 - mae: 4.0427\n",
            "Epoch 54/100\n",
            "1/1 [==============================] - 0s 11ms/step - loss: 3.9269 - mae: 3.9269\n",
            "Epoch 55/100\n",
            "1/1 [==============================] - 0s 11ms/step - loss: 3.8113 - mae: 3.8113\n",
            "Epoch 56/100\n",
            "1/1 [==============================] - 0s 11ms/step - loss: 3.6816 - mae: 3.6816\n",
            "Epoch 57/100\n",
            "1/1 [==============================] - 0s 10ms/step - loss: 3.5395 - mae: 3.5395\n",
            "Epoch 58/100\n",
            "1/1 [==============================] - 0s 10ms/step - loss: 3.3868 - mae: 3.3868\n",
            "Epoch 59/100\n",
            "1/1 [==============================] - 0s 10ms/step - loss: 3.2873 - mae: 3.2873\n",
            "Epoch 60/100\n",
            "1/1 [==============================] - 0s 10ms/step - loss: 3.2026 - mae: 3.2026\n",
            "Epoch 61/100\n",
            "1/1 [==============================] - 0s 11ms/step - loss: 3.1181 - mae: 3.1181\n",
            "Epoch 62/100\n",
            "1/1 [==============================] - 0s 11ms/step - loss: 3.1018 - mae: 3.1018\n",
            "Epoch 63/100\n",
            "1/1 [==============================] - 0s 10ms/step - loss: 3.0967 - mae: 3.0967\n",
            "Epoch 64/100\n",
            "1/1 [==============================] - 0s 10ms/step - loss: 3.0914 - mae: 3.0914\n",
            "Epoch 65/100\n",
            "1/1 [==============================] - 0s 10ms/step - loss: 3.1337 - mae: 3.1337\n",
            "Epoch 66/100\n",
            "1/1 [==============================] - 0s 11ms/step - loss: 3.1587 - mae: 3.1587\n",
            "Epoch 67/100\n",
            "1/1 [==============================] - 0s 10ms/step - loss: 3.1674 - mae: 3.1674\n",
            "Epoch 68/100\n",
            "1/1 [==============================] - 0s 11ms/step - loss: 3.1619 - mae: 3.1619\n",
            "Epoch 69/100\n",
            "1/1 [==============================] - 0s 13ms/step - loss: 3.1435 - mae: 3.1435\n",
            "Epoch 70/100\n",
            "1/1 [==============================] - 0s 11ms/step - loss: 3.1134 - mae: 3.1134\n",
            "Epoch 71/100\n",
            "1/1 [==============================] - 0s 11ms/step - loss: 3.0726 - mae: 3.0726\n",
            "Epoch 72/100\n",
            "1/1 [==============================] - 0s 13ms/step - loss: 3.0219 - mae: 3.0219\n",
            "Epoch 73/100\n",
            "1/1 [==============================] - 0s 10ms/step - loss: 2.9620 - mae: 2.9620\n",
            "Epoch 74/100\n",
            "1/1 [==============================] - 0s 11ms/step - loss: 2.9122 - mae: 2.9122\n",
            "Epoch 75/100\n",
            "1/1 [==============================] - 0s 10ms/step - loss: 2.8868 - mae: 2.8868\n",
            "Epoch 76/100\n",
            "1/1 [==============================] - 0s 11ms/step - loss: 2.8612 - mae: 2.8612\n",
            "Epoch 77/100\n",
            "1/1 [==============================] - 0s 11ms/step - loss: 2.8344 - mae: 2.8344\n",
            "Epoch 78/100\n",
            "1/1 [==============================] - 0s 11ms/step - loss: 2.8061 - mae: 2.8061\n",
            "Epoch 79/100\n",
            "1/1 [==============================] - 0s 11ms/step - loss: 2.7795 - mae: 2.7795\n",
            "Epoch 80/100\n",
            "1/1 [==============================] - 0s 11ms/step - loss: 2.7768 - mae: 2.7768\n",
            "Epoch 81/100\n",
            "1/1 [==============================] - 0s 10ms/step - loss: 2.7696 - mae: 2.7696\n",
            "Epoch 82/100\n",
            "1/1 [==============================] - 0s 10ms/step - loss: 2.7528 - mae: 2.7528\n",
            "Epoch 83/100\n",
            "1/1 [==============================] - 0s 10ms/step - loss: 2.7275 - mae: 2.7275\n",
            "Epoch 84/100\n",
            "1/1 [==============================] - 0s 10ms/step - loss: 2.6947 - mae: 2.6947\n",
            "Epoch 85/100\n",
            "1/1 [==============================] - 0s 11ms/step - loss: 2.6596 - mae: 2.6596\n",
            "Epoch 86/100\n",
            "1/1 [==============================] - 0s 10ms/step - loss: 2.6194 - mae: 2.6194\n",
            "Epoch 87/100\n",
            "1/1 [==============================] - 0s 10ms/step - loss: 2.5897 - mae: 2.5897\n",
            "Epoch 88/100\n",
            "1/1 [==============================] - 0s 11ms/step - loss: 2.5654 - mae: 2.5654\n",
            "Epoch 89/100\n",
            "1/1 [==============================] - 0s 11ms/step - loss: 2.5623 - mae: 2.5623\n",
            "Epoch 90/100\n",
            "1/1 [==============================] - 0s 11ms/step - loss: 2.5798 - mae: 2.5798\n",
            "Epoch 91/100\n",
            "1/1 [==============================] - 0s 10ms/step - loss: 2.5921 - mae: 2.5921\n",
            "Epoch 92/100\n",
            "1/1 [==============================] - 0s 14ms/step - loss: 2.5997 - mae: 2.5997\n",
            "Epoch 93/100\n",
            "1/1 [==============================] - 0s 11ms/step - loss: 2.6031 - mae: 2.6031\n",
            "Epoch 94/100\n",
            "1/1 [==============================] - 0s 10ms/step - loss: 2.6028 - mae: 2.6028\n",
            "Epoch 95/100\n",
            "1/1 [==============================] - 0s 11ms/step - loss: 2.5992 - mae: 2.5992\n",
            "Epoch 96/100\n",
            "1/1 [==============================] - 0s 10ms/step - loss: 2.5928 - mae: 2.5928\n",
            "Epoch 97/100\n",
            "1/1 [==============================] - 0s 12ms/step - loss: 2.5839 - mae: 2.5839\n",
            "Epoch 98/100\n",
            "1/1 [==============================] - 0s 12ms/step - loss: 2.5728 - mae: 2.5728\n",
            "Epoch 99/100\n",
            "1/1 [==============================] - 0s 12ms/step - loss: 2.5539 - mae: 2.5539\n",
            "Epoch 100/100\n",
            "1/1 [==============================] - 0s 12ms/step - loss: 2.5386 - mae: 2.5386\n"
          ]
        },
        {
          "output_type": "execute_result",
          "data": {
            "text/plain": [
              "<keras.callbacks.History at 0x7f57461b41f0>"
            ]
          },
          "metadata": {},
          "execution_count": 9
        }
      ]
    },
    {
      "cell_type": "code",
      "source": [
        "#let's see the result by doing prediction in the same way as we did before on 'model'\n",
        "improved_model.predict([21])     #so much closer as you see, better and more usefull"
      ],
      "metadata": {
        "id": "cR0fUdDRaF8W",
        "colab": {
          "base_uri": "https://localhost:8080/"
        },
        "outputId": "973c5588-2460-4a59-9183-527c1c1ff359"
      },
      "execution_count": 10,
      "outputs": [
        {
          "output_type": "stream",
          "name": "stdout",
          "text": [
            "1/1 [==============================] - 0s 90ms/step\n"
          ]
        },
        {
          "output_type": "execute_result",
          "data": {
            "text/plain": [
              "array([[32.83736]], dtype=float32)"
            ]
          },
          "metadata": {},
          "execution_count": 10
        }
      ]
    },
    {
      "cell_type": "markdown",
      "source": [
        "### See if we even can do more changes to get more better predictions\n"
      ],
      "metadata": {
        "id": "qH7IqXRAaF5z"
      }
    },
    {
      "cell_type": "code",
      "source": [
        "#create the model with extra hidden layer(100 hidden units)\n",
        "model = tf.keras.models.Sequential([\n",
        "    tf.keras.layers.Dense(100,activation = 'relu'),\n",
        "    tf.keras.layers.Dense(100,activation = 'relu'),\n",
        "    tf.keras.layers.Dense(100,activation = 'relu'),   #1 hidden layer is added with 100 hidden units\n",
        "    tf.keras.layers.Dense(1)\n",
        "])\n",
        "\n",
        "#compile the model\n",
        "model.compile(loss= tf.keras.losses.mae,\n",
        "              optimizer= tf.keras.optimizers.Adam(lr = 0.0001),   #lr is changed\n",
        "              metrics = ['mae'])\n",
        "\n",
        "#fit the model\n",
        "model.fit(tf.expand_dims(X_train,axis=-1),y_train,epochs = 150)  #number of epochs is changed"
      ],
      "metadata": {
        "id": "X8x6hQODaFxO",
        "colab": {
          "base_uri": "https://localhost:8080/"
        },
        "outputId": "e34f5f79-3d00-46e7-d9c3-f6ecbc37c699"
      },
      "execution_count": 11,
      "outputs": [
        {
          "output_type": "stream",
          "name": "stderr",
          "text": [
            "WARNING:absl:`lr` is deprecated in Keras optimizer, please use `learning_rate` or use the legacy optimizer, e.g.,tf.keras.optimizers.legacy.Adam.\n"
          ]
        },
        {
          "output_type": "stream",
          "name": "stdout",
          "text": [
            "Epoch 1/150\n",
            "1/1 [==============================] - 1s 900ms/step - loss: 24.3051 - mae: 24.3051\n",
            "Epoch 2/150\n",
            "1/1 [==============================] - 0s 11ms/step - loss: 23.5281 - mae: 23.5281\n",
            "Epoch 3/150\n",
            "1/1 [==============================] - 0s 11ms/step - loss: 22.7925 - mae: 22.7925\n",
            "Epoch 4/150\n",
            "1/1 [==============================] - 0s 15ms/step - loss: 22.1129 - mae: 22.1129\n",
            "Epoch 5/150\n",
            "1/1 [==============================] - 0s 14ms/step - loss: 21.4876 - mae: 21.4876\n",
            "Epoch 6/150\n",
            "1/1 [==============================] - 0s 15ms/step - loss: 20.8632 - mae: 20.8632\n",
            "Epoch 7/150\n",
            "1/1 [==============================] - 0s 11ms/step - loss: 20.2693 - mae: 20.2693\n",
            "Epoch 8/150\n",
            "1/1 [==============================] - 0s 10ms/step - loss: 19.6412 - mae: 19.6412\n",
            "Epoch 9/150\n",
            "1/1 [==============================] - 0s 14ms/step - loss: 18.9985 - mae: 18.9985\n",
            "Epoch 10/150\n",
            "1/1 [==============================] - 0s 10ms/step - loss: 18.3512 - mae: 18.3512\n",
            "Epoch 11/150\n",
            "1/1 [==============================] - 0s 11ms/step - loss: 17.6972 - mae: 17.6972\n",
            "Epoch 12/150\n",
            "1/1 [==============================] - 0s 14ms/step - loss: 17.0263 - mae: 17.0263\n",
            "Epoch 13/150\n",
            "1/1 [==============================] - 0s 12ms/step - loss: 16.2938 - mae: 16.2938\n",
            "Epoch 14/150\n",
            "1/1 [==============================] - 0s 12ms/step - loss: 15.4986 - mae: 15.4986\n",
            "Epoch 15/150\n",
            "1/1 [==============================] - 0s 10ms/step - loss: 14.6442 - mae: 14.6442\n",
            "Epoch 16/150\n",
            "1/1 [==============================] - 0s 9ms/step - loss: 13.7301 - mae: 13.7301\n",
            "Epoch 17/150\n",
            "1/1 [==============================] - 0s 11ms/step - loss: 12.7621 - mae: 12.7621\n",
            "Epoch 18/150\n",
            "1/1 [==============================] - 0s 9ms/step - loss: 11.7221 - mae: 11.7221\n",
            "Epoch 19/150\n",
            "1/1 [==============================] - 0s 8ms/step - loss: 10.6076 - mae: 10.6076\n",
            "Epoch 20/150\n",
            "1/1 [==============================] - 0s 9ms/step - loss: 9.4178 - mae: 9.4178\n",
            "Epoch 21/150\n",
            "1/1 [==============================] - 0s 14ms/step - loss: 8.1498 - mae: 8.1498\n",
            "Epoch 22/150\n",
            "1/1 [==============================] - 0s 14ms/step - loss: 6.7963 - mae: 6.7963\n",
            "Epoch 23/150\n",
            "1/1 [==============================] - 0s 15ms/step - loss: 5.3385 - mae: 5.3385\n",
            "Epoch 24/150\n",
            "1/1 [==============================] - 0s 13ms/step - loss: 3.8477 - mae: 3.8477\n",
            "Epoch 25/150\n",
            "1/1 [==============================] - 0s 11ms/step - loss: 3.4208 - mae: 3.4208\n",
            "Epoch 26/150\n",
            "1/1 [==============================] - 0s 11ms/step - loss: 3.8868 - mae: 3.8868\n",
            "Epoch 27/150\n",
            "1/1 [==============================] - 0s 13ms/step - loss: 4.5977 - mae: 4.5977\n",
            "Epoch 28/150\n",
            "1/1 [==============================] - 0s 11ms/step - loss: 5.2018 - mae: 5.2018\n",
            "Epoch 29/150\n",
            "1/1 [==============================] - 0s 11ms/step - loss: 5.6585 - mae: 5.6585\n",
            "Epoch 30/150\n",
            "1/1 [==============================] - 0s 10ms/step - loss: 5.8048 - mae: 5.8048\n",
            "Epoch 31/150\n",
            "1/1 [==============================] - 0s 10ms/step - loss: 5.6946 - mae: 5.6946\n",
            "Epoch 32/150\n",
            "1/1 [==============================] - 0s 10ms/step - loss: 5.3724 - mae: 5.3724\n",
            "Epoch 33/150\n",
            "1/1 [==============================] - 0s 11ms/step - loss: 4.9390 - mae: 4.9390\n",
            "Epoch 34/150\n",
            "1/1 [==============================] - 0s 10ms/step - loss: 4.4733 - mae: 4.4733\n",
            "Epoch 35/150\n",
            "1/1 [==============================] - 0s 11ms/step - loss: 3.9787 - mae: 3.9787\n",
            "Epoch 36/150\n",
            "1/1 [==============================] - 0s 10ms/step - loss: 3.5935 - mae: 3.5935\n",
            "Epoch 37/150\n",
            "1/1 [==============================] - 0s 11ms/step - loss: 3.3346 - mae: 3.3346\n",
            "Epoch 38/150\n",
            "1/1 [==============================] - 0s 9ms/step - loss: 3.2288 - mae: 3.2288\n",
            "Epoch 39/150\n",
            "1/1 [==============================] - 0s 12ms/step - loss: 3.3029 - mae: 3.3029\n",
            "Epoch 40/150\n",
            "1/1 [==============================] - 0s 11ms/step - loss: 3.4769 - mae: 3.4769\n",
            "Epoch 41/150\n",
            "1/1 [==============================] - 0s 12ms/step - loss: 3.6255 - mae: 3.6255\n",
            "Epoch 42/150\n",
            "1/1 [==============================] - 0s 9ms/step - loss: 3.6563 - mae: 3.6563\n",
            "Epoch 43/150\n",
            "1/1 [==============================] - 0s 14ms/step - loss: 3.5791 - mae: 3.5791\n",
            "Epoch 44/150\n",
            "1/1 [==============================] - 0s 11ms/step - loss: 3.3801 - mae: 3.3801\n",
            "Epoch 45/150\n",
            "1/1 [==============================] - 0s 10ms/step - loss: 3.1765 - mae: 3.1765\n",
            "Epoch 46/150\n",
            "1/1 [==============================] - 0s 9ms/step - loss: 3.0384 - mae: 3.0384\n",
            "Epoch 47/150\n",
            "1/1 [==============================] - 0s 10ms/step - loss: 2.9921 - mae: 2.9921\n",
            "Epoch 48/150\n",
            "1/1 [==============================] - 0s 11ms/step - loss: 3.0580 - mae: 3.0580\n",
            "Epoch 49/150\n",
            "1/1 [==============================] - 0s 14ms/step - loss: 3.1013 - mae: 3.1013\n",
            "Epoch 50/150\n",
            "1/1 [==============================] - 0s 14ms/step - loss: 3.1463 - mae: 3.1463\n",
            "Epoch 51/150\n",
            "1/1 [==============================] - 0s 11ms/step - loss: 3.1055 - mae: 3.1055\n",
            "Epoch 52/150\n",
            "1/1 [==============================] - 0s 13ms/step - loss: 3.0154 - mae: 3.0154\n",
            "Epoch 53/150\n",
            "1/1 [==============================] - 0s 14ms/step - loss: 2.9268 - mae: 2.9268\n",
            "Epoch 54/150\n",
            "1/1 [==============================] - 0s 21ms/step - loss: 2.8340 - mae: 2.8340\n",
            "Epoch 55/150\n",
            "1/1 [==============================] - 0s 15ms/step - loss: 2.7460 - mae: 2.7460\n",
            "Epoch 56/150\n",
            "1/1 [==============================] - 0s 11ms/step - loss: 2.7240 - mae: 2.7240\n",
            "Epoch 57/150\n",
            "1/1 [==============================] - 0s 11ms/step - loss: 2.6986 - mae: 2.6986\n",
            "Epoch 58/150\n",
            "1/1 [==============================] - 0s 10ms/step - loss: 2.6721 - mae: 2.6721\n",
            "Epoch 59/150\n",
            "1/1 [==============================] - 0s 11ms/step - loss: 2.6492 - mae: 2.6492\n",
            "Epoch 60/150\n",
            "1/1 [==============================] - 0s 10ms/step - loss: 2.5828 - mae: 2.5828\n",
            "Epoch 61/150\n",
            "1/1 [==============================] - 0s 10ms/step - loss: 2.6065 - mae: 2.6065\n",
            "Epoch 62/150\n",
            "1/1 [==============================] - 0s 10ms/step - loss: 2.6270 - mae: 2.6270\n",
            "Epoch 63/150\n",
            "1/1 [==============================] - 0s 10ms/step - loss: 2.6392 - mae: 2.6392\n",
            "Epoch 64/150\n",
            "1/1 [==============================] - 0s 12ms/step - loss: 2.6419 - mae: 2.6419\n",
            "Epoch 65/150\n",
            "1/1 [==============================] - 0s 11ms/step - loss: 2.6673 - mae: 2.6673\n",
            "Epoch 66/150\n",
            "1/1 [==============================] - 0s 10ms/step - loss: 2.6748 - mae: 2.6748\n",
            "Epoch 67/150\n",
            "1/1 [==============================] - 0s 11ms/step - loss: 2.6512 - mae: 2.6512\n",
            "Epoch 68/150\n",
            "1/1 [==============================] - 0s 12ms/step - loss: 2.6164 - mae: 2.6164\n",
            "Epoch 69/150\n",
            "1/1 [==============================] - 0s 10ms/step - loss: 2.6035 - mae: 2.6035\n",
            "Epoch 70/150\n",
            "1/1 [==============================] - 0s 11ms/step - loss: 2.5857 - mae: 2.5857\n",
            "Epoch 71/150\n",
            "1/1 [==============================] - 0s 14ms/step - loss: 2.5645 - mae: 2.5645\n",
            "Epoch 72/150\n",
            "1/1 [==============================] - 0s 12ms/step - loss: 2.5424 - mae: 2.5424\n",
            "Epoch 73/150\n",
            "1/1 [==============================] - 0s 11ms/step - loss: 2.5185 - mae: 2.5185\n",
            "Epoch 74/150\n",
            "1/1 [==============================] - 0s 11ms/step - loss: 2.4927 - mae: 2.4927\n",
            "Epoch 75/150\n",
            "1/1 [==============================] - 0s 11ms/step - loss: 2.5005 - mae: 2.5005\n",
            "Epoch 76/150\n",
            "1/1 [==============================] - 0s 11ms/step - loss: 2.5100 - mae: 2.5100\n",
            "Epoch 77/150\n",
            "1/1 [==============================] - 0s 11ms/step - loss: 2.5126 - mae: 2.5126\n",
            "Epoch 78/150\n",
            "1/1 [==============================] - 0s 11ms/step - loss: 2.5091 - mae: 2.5091\n",
            "Epoch 79/150\n",
            "1/1 [==============================] - 0s 10ms/step - loss: 2.5002 - mae: 2.5002\n",
            "Epoch 80/150\n",
            "1/1 [==============================] - 0s 14ms/step - loss: 2.5158 - mae: 2.5158\n",
            "Epoch 81/150\n",
            "1/1 [==============================] - 0s 16ms/step - loss: 2.4995 - mae: 2.4995\n",
            "Epoch 82/150\n",
            "1/1 [==============================] - 0s 10ms/step - loss: 2.4661 - mae: 2.4661\n",
            "Epoch 83/150\n",
            "1/1 [==============================] - 0s 11ms/step - loss: 2.4522 - mae: 2.4522\n",
            "Epoch 84/150\n",
            "1/1 [==============================] - 0s 11ms/step - loss: 2.4339 - mae: 2.4339\n",
            "Epoch 85/150\n",
            "1/1 [==============================] - 0s 13ms/step - loss: 2.4270 - mae: 2.4270\n",
            "Epoch 86/150\n",
            "1/1 [==============================] - 0s 10ms/step - loss: 2.4323 - mae: 2.4323\n",
            "Epoch 87/150\n",
            "1/1 [==============================] - 0s 11ms/step - loss: 2.4329 - mae: 2.4329\n",
            "Epoch 88/150\n",
            "1/1 [==============================] - 0s 13ms/step - loss: 2.4289 - mae: 2.4289\n",
            "Epoch 89/150\n",
            "1/1 [==============================] - 0s 11ms/step - loss: 2.4198 - mae: 2.4198\n",
            "Epoch 90/150\n",
            "1/1 [==============================] - 0s 11ms/step - loss: 2.4091 - mae: 2.4091\n",
            "Epoch 91/150\n",
            "1/1 [==============================] - 0s 11ms/step - loss: 2.3953 - mae: 2.3953\n",
            "Epoch 92/150\n",
            "1/1 [==============================] - 0s 11ms/step - loss: 2.3780 - mae: 2.3780\n",
            "Epoch 93/150\n",
            "1/1 [==============================] - 0s 11ms/step - loss: 2.3765 - mae: 2.3765\n",
            "Epoch 94/150\n",
            "1/1 [==============================] - 0s 12ms/step - loss: 2.3495 - mae: 2.3495\n",
            "Epoch 95/150\n",
            "1/1 [==============================] - 0s 12ms/step - loss: 2.3506 - mae: 2.3506\n",
            "Epoch 96/150\n",
            "1/1 [==============================] - 0s 11ms/step - loss: 2.3482 - mae: 2.3482\n",
            "Epoch 97/150\n",
            "1/1 [==============================] - 0s 11ms/step - loss: 2.3428 - mae: 2.3428\n",
            "Epoch 98/150\n",
            "1/1 [==============================] - 0s 11ms/step - loss: 2.3316 - mae: 2.3316\n",
            "Epoch 99/150\n",
            "1/1 [==============================] - 0s 10ms/step - loss: 2.3149 - mae: 2.3149\n",
            "Epoch 100/150\n",
            "1/1 [==============================] - 0s 13ms/step - loss: 2.2932 - mae: 2.2932\n",
            "Epoch 101/150\n",
            "1/1 [==============================] - 0s 11ms/step - loss: 2.2939 - mae: 2.2939\n",
            "Epoch 102/150\n",
            "1/1 [==============================] - 0s 11ms/step - loss: 2.3051 - mae: 2.3051\n",
            "Epoch 103/150\n",
            "1/1 [==============================] - 0s 11ms/step - loss: 2.2901 - mae: 2.2901\n",
            "Epoch 104/150\n",
            "1/1 [==============================] - 0s 11ms/step - loss: 2.2852 - mae: 2.2852\n",
            "Epoch 105/150\n",
            "1/1 [==============================] - 0s 11ms/step - loss: 2.2775 - mae: 2.2775\n",
            "Epoch 106/150\n",
            "1/1 [==============================] - 0s 11ms/step - loss: 2.2649 - mae: 2.2649\n",
            "Epoch 107/150\n",
            "1/1 [==============================] - 0s 11ms/step - loss: 2.2501 - mae: 2.2501\n",
            "Epoch 108/150\n",
            "1/1 [==============================] - 0s 11ms/step - loss: 2.2329 - mae: 2.2329\n",
            "Epoch 109/150\n",
            "1/1 [==============================] - 0s 11ms/step - loss: 2.2373 - mae: 2.2373\n",
            "Epoch 110/150\n",
            "1/1 [==============================] - 0s 11ms/step - loss: 2.2232 - mae: 2.2232\n",
            "Epoch 111/150\n",
            "1/1 [==============================] - 0s 11ms/step - loss: 2.2195 - mae: 2.2195\n",
            "Epoch 112/150\n",
            "1/1 [==============================] - 0s 13ms/step - loss: 2.2091 - mae: 2.2091\n",
            "Epoch 113/150\n",
            "1/1 [==============================] - 0s 10ms/step - loss: 2.1926 - mae: 2.1926\n",
            "Epoch 114/150\n",
            "1/1 [==============================] - 0s 10ms/step - loss: 2.1830 - mae: 2.1830\n",
            "Epoch 115/150\n",
            "1/1 [==============================] - 0s 10ms/step - loss: 2.1953 - mae: 2.1953\n",
            "Epoch 116/150\n",
            "1/1 [==============================] - 0s 11ms/step - loss: 2.1729 - mae: 2.1729\n",
            "Epoch 117/150\n",
            "1/1 [==============================] - 0s 10ms/step - loss: 2.1658 - mae: 2.1658\n",
            "Epoch 118/150\n",
            "1/1 [==============================] - 0s 11ms/step - loss: 2.1556 - mae: 2.1556\n",
            "Epoch 119/150\n",
            "1/1 [==============================] - 0s 10ms/step - loss: 2.1424 - mae: 2.1424\n",
            "Epoch 120/150\n",
            "1/1 [==============================] - 0s 11ms/step - loss: 2.1377 - mae: 2.1377\n",
            "Epoch 121/150\n",
            "1/1 [==============================] - 0s 11ms/step - loss: 2.1295 - mae: 2.1295\n",
            "Epoch 122/150\n",
            "1/1 [==============================] - 0s 11ms/step - loss: 2.1143 - mae: 2.1143\n",
            "Epoch 123/150\n",
            "1/1 [==============================] - 0s 11ms/step - loss: 2.1188 - mae: 2.1188\n",
            "Epoch 124/150\n",
            "1/1 [==============================] - 0s 11ms/step - loss: 2.0952 - mae: 2.0952\n",
            "Epoch 125/150\n",
            "1/1 [==============================] - 0s 13ms/step - loss: 2.0986 - mae: 2.0986\n",
            "Epoch 126/150\n",
            "1/1 [==============================] - 0s 10ms/step - loss: 2.0908 - mae: 2.0908\n",
            "Epoch 127/150\n",
            "1/1 [==============================] - 0s 11ms/step - loss: 2.0801 - mae: 2.0801\n",
            "Epoch 128/150\n",
            "1/1 [==============================] - 0s 12ms/step - loss: 2.0690 - mae: 2.0690\n",
            "Epoch 129/150\n",
            "1/1 [==============================] - 0s 10ms/step - loss: 2.0591 - mae: 2.0591\n",
            "Epoch 130/150\n",
            "1/1 [==============================] - 0s 10ms/step - loss: 2.0481 - mae: 2.0481\n",
            "Epoch 131/150\n",
            "1/1 [==============================] - 0s 11ms/step - loss: 2.0356 - mae: 2.0356\n",
            "Epoch 132/150\n",
            "1/1 [==============================] - 0s 11ms/step - loss: 2.0202 - mae: 2.0202\n",
            "Epoch 133/150\n",
            "1/1 [==============================] - 0s 12ms/step - loss: 2.0019 - mae: 2.0019\n",
            "Epoch 134/150\n",
            "1/1 [==============================] - 0s 10ms/step - loss: 1.9894 - mae: 1.9894\n",
            "Epoch 135/150\n",
            "1/1 [==============================] - 0s 11ms/step - loss: 2.0106 - mae: 2.0106\n",
            "Epoch 136/150\n",
            "1/1 [==============================] - 0s 12ms/step - loss: 1.9865 - mae: 1.9865\n",
            "Epoch 137/150\n",
            "1/1 [==============================] - 0s 12ms/step - loss: 1.9540 - mae: 1.9540\n",
            "Epoch 138/150\n",
            "1/1 [==============================] - 0s 13ms/step - loss: 1.9503 - mae: 1.9503\n",
            "Epoch 139/150\n",
            "1/1 [==============================] - 0s 11ms/step - loss: 1.9417 - mae: 1.9417\n",
            "Epoch 140/150\n",
            "1/1 [==============================] - 0s 15ms/step - loss: 1.9308 - mae: 1.9308\n",
            "Epoch 141/150\n",
            "1/1 [==============================] - 0s 14ms/step - loss: 1.8955 - mae: 1.8955\n",
            "Epoch 142/150\n",
            "1/1 [==============================] - 0s 11ms/step - loss: 1.8825 - mae: 1.8825\n",
            "Epoch 143/150\n",
            "1/1 [==============================] - 0s 11ms/step - loss: 1.8777 - mae: 1.8777\n",
            "Epoch 144/150\n",
            "1/1 [==============================] - 0s 11ms/step - loss: 1.8497 - mae: 1.8497\n",
            "Epoch 145/150\n",
            "1/1 [==============================] - 0s 11ms/step - loss: 1.8435 - mae: 1.8435\n",
            "Epoch 146/150\n",
            "1/1 [==============================] - 0s 11ms/step - loss: 1.8286 - mae: 1.8286\n",
            "Epoch 147/150\n",
            "1/1 [==============================] - 0s 11ms/step - loss: 1.8131 - mae: 1.8131\n",
            "Epoch 148/150\n",
            "1/1 [==============================] - 0s 10ms/step - loss: 1.7988 - mae: 1.7988\n",
            "Epoch 149/150\n",
            "1/1 [==============================] - 0s 10ms/step - loss: 1.7804 - mae: 1.7804\n",
            "Epoch 150/150\n",
            "1/1 [==============================] - 0s 10ms/step - loss: 1.7680 - mae: 1.7680\n"
          ]
        },
        {
          "output_type": "execute_result",
          "data": {
            "text/plain": [
              "<keras.callbacks.History at 0x7f5746132590>"
            ]
          },
          "metadata": {},
          "execution_count": 11
        }
      ]
    },
    {
      "cell_type": "code",
      "source": [
        "#making prediction again\n",
        "model.predict([21])     #a litle bit better rather than our second model and way much better than first model"
      ],
      "metadata": {
        "colab": {
          "base_uri": "https://localhost:8080/"
        },
        "id": "fSXOTPNXUCnA",
        "outputId": "49ae540e-9069-429e-cd2d-12a24114bf44"
      },
      "execution_count": 12,
      "outputs": [
        {
          "output_type": "stream",
          "name": "stdout",
          "text": [
            "1/1 [==============================] - 0s 96ms/step\n"
          ]
        },
        {
          "output_type": "execute_result",
          "data": {
            "text/plain": [
              "array([[32.288727]], dtype=float32)"
            ]
          },
          "metadata": {},
          "execution_count": 12
        }
      ]
    },
    {
      "cell_type": "markdown",
      "source": [
        "## Evaluating Model\n",
        "When it comes to the evaluation, there are 3 words you should memorize:\n",
        "\n",
        "> \"Visualize, Visualize, Visualize\""
      ],
      "metadata": {
        "id": "zzNa2QznUqTu"
      }
    },
    {
      "cell_type": "code",
      "source": [
        "#make a bigger dataset\n",
        "X = tf.range(-200,300,10)\n",
        "X"
      ],
      "metadata": {
        "colab": {
          "base_uri": "https://localhost:8080/"
        },
        "id": "CXKiPIj0WG2d",
        "outputId": "2c8b0248-7b9e-444c-cd98-86e49b9c0f52"
      },
      "execution_count": 13,
      "outputs": [
        {
          "output_type": "execute_result",
          "data": {
            "text/plain": [
              "<tf.Tensor: shape=(50,), dtype=int32, numpy=\n",
              "array([-200, -190, -180, -170, -160, -150, -140, -130, -120, -110, -100,\n",
              "        -90,  -80,  -70,  -60,  -50,  -40,  -30,  -20,  -10,    0,   10,\n",
              "         20,   30,   40,   50,   60,   70,   80,   90,  100,  110,  120,\n",
              "        130,  140,  150,  160,  170,  180,  190,  200,  210,  220,  230,\n",
              "        240,  250,  260,  270,  280,  290], dtype=int32)>"
            ]
          },
          "metadata": {},
          "execution_count": 13
        }
      ]
    },
    {
      "cell_type": "code",
      "source": [
        "y = X + 15\n",
        "y"
      ],
      "metadata": {
        "colab": {
          "base_uri": "https://localhost:8080/"
        },
        "id": "ShA_EqXRWGz3",
        "outputId": "57fe398a-48d7-4aaa-956f-e62c38902057"
      },
      "execution_count": 14,
      "outputs": [
        {
          "output_type": "execute_result",
          "data": {
            "text/plain": [
              "<tf.Tensor: shape=(50,), dtype=int32, numpy=\n",
              "array([-185, -175, -165, -155, -145, -135, -125, -115, -105,  -95,  -85,\n",
              "        -75,  -65,  -55,  -45,  -35,  -25,  -15,   -5,    5,   15,   25,\n",
              "         35,   45,   55,   65,   75,   85,   95,  105,  115,  125,  135,\n",
              "        145,  155,  165,  175,  185,  195,  205,  215,  225,  235,  245,\n",
              "        255,  265,  275,  285,  295,  305], dtype=int32)>"
            ]
          },
          "metadata": {},
          "execution_count": 14
        }
      ]
    },
    {
      "cell_type": "code",
      "source": [
        "#visualize data\n",
        "import matplotlib.pyplot as plt\n",
        "plt.scatter(X,y)\n",
        "plt.show()"
      ],
      "metadata": {
        "colab": {
          "base_uri": "https://localhost:8080/",
          "height": 430
        },
        "id": "JR2VLP1zWGxQ",
        "outputId": "af4a3c7b-973d-4406-e207-4447956ab84c"
      },
      "execution_count": 15,
      "outputs": [
        {
          "output_type": "display_data",
          "data": {
            "text/plain": [
              "<Figure size 640x480 with 1 Axes>"
            ],
            "image/png": "[encoded data removed]"
          },
          "metadata": {}
        }
      ]
    },
    {
      "cell_type": "markdown",
      "source": [
        "### 3 sets....\n",
        "* Train Test\n",
        "* Validation Test\n",
        "* Test Set\n"
      ],
      "metadata": {
        "id": "0mXXuJVsWGup"
      }
    },
    {
      "cell_type": "code",
      "source": [
        "#split X to the train and test set\n",
        "X_train = X[:40]\n",
        "X_test = X[40:]\n",
        "#split y too\n",
        "y_train = y[:40]\n",
        "y_test = y[40:]"
      ],
      "metadata": {
        "id": "phgcdgM0WGsD"
      },
      "execution_count": 16,
      "outputs": []
    },
    {
      "cell_type": "markdown",
      "source": [
        "### Visulising dataset\n",
        "Now we have got our data in the training and test datasets"
      ],
      "metadata": {
        "id": "z3a_VfbFWGpd"
      }
    },
    {
      "cell_type": "code",
      "source": [
        "plt.figure(figsize = (16,9))\n",
        "plt.scatter(X_train,y_train,c='b',label = 'Training Data')\n",
        "plt.scatter(X_test,y_test,c= 'm',label = 'Test Data')\n",
        "plt.legend()\n",
        "plt.show()"
      ],
      "metadata": {
        "colab": {
          "base_uri": "https://localhost:8080/",
          "height": 590
        },
        "id": "SwDMk5R0WGm1",
        "outputId": "4a027113-2eba-484b-87ab-1908aa6b5253"
      },
      "execution_count": 17,
      "outputs": [
        {
          "output_type": "display_data",
          "data": {
            "text/plain": [
              "<Figure size 1600x900 with 1 Axes>"
            ],
            "image/png": "[encoded data removed]"
          },
          "metadata": {}
        }
      ]
    },
    {
      "cell_type": "markdown",
      "source": [
        "### Visualising the model\n",
        "\n"
      ],
      "metadata": {
        "id": "xIA6jEcGWGkQ"
      }
    },
    {
      "cell_type": "code",
      "source": [
        "model = tf.keras.models.Sequential([\n",
        "    tf.keras.layers.Dense(100, activation= 'relu'),\n",
        "    tf.keras.layers.Dense(100, activation= 'relu'),\n",
        "    tf.keras.layers.Dense(100, activation= 'relu'),\n",
        "    tf.keras.layers.Dense(1)\n",
        "])\n",
        "\n",
        "model.compile(loss = tf.keras.losses.mae,\n",
        "              optimizer= tf.keras.optimizers.Adam(lr= 0.0001),\n",
        "              metrics = ['mae'])\n",
        "\n",
        "model.fit(tf.expand_dims(X_train,axis=-1),y_train,epochs = 100,batch_size = 10)"
      ],
      "metadata": {
        "colab": {
          "base_uri": "https://localhost:8080/"
        },
        "id": "RK343qWTWGho",
        "outputId": "751ddbb9-a6f6-408f-c52e-e8fd247dfce2"
      },
      "execution_count": 18,
      "outputs": [
        {
          "output_type": "stream",
          "name": "stderr",
          "text": [
            "WARNING:absl:`lr` is deprecated in Keras optimizer, please use `learning_rate` or use the legacy optimizer, e.g.,tf.keras.optimizers.legacy.Adam.\n"
          ]
        },
        {
          "output_type": "stream",
          "name": "stdout",
          "text": [
            "Epoch 1/100\n",
            "4/4 [==============================] - 1s 4ms/step - loss: 92.7364 - mae: 92.7364\n",
            "Epoch 2/100\n",
            "4/4 [==============================] - 0s 4ms/step - loss: 77.1252 - mae: 77.1252\n",
            "Epoch 3/100\n",
            "4/4 [==============================] - 0s 5ms/step - loss: 60.7097 - mae: 60.7097\n",
            "Epoch 4/100\n",
            "4/4 [==============================] - 0s 4ms/step - loss: 43.5488 - mae: 43.5488\n",
            "Epoch 5/100\n",
            "4/4 [==============================] - 0s 4ms/step - loss: 28.3898 - mae: 28.3898\n",
            "Epoch 6/100\n",
            "4/4 [==============================] - 0s 4ms/step - loss: 16.2758 - mae: 16.2758\n",
            "Epoch 7/100\n",
            "4/4 [==============================] - 0s 6ms/step - loss: 8.3039 - mae: 8.3039\n",
            "Epoch 8/100\n",
            "4/4 [==============================] - 0s 4ms/step - loss: 12.3266 - mae: 12.3266\n",
            "Epoch 9/100\n",
            "4/4 [==============================] - 0s 4ms/step - loss: 8.4460 - mae: 8.4460\n",
            "Epoch 10/100\n",
            "4/4 [==============================] - 0s 4ms/step - loss: 7.3685 - mae: 7.3685\n",
            "Epoch 11/100\n",
            "4/4 [==============================] - 0s 4ms/step - loss: 9.0403 - mae: 9.0403\n",
            "Epoch 12/100\n",
            "4/4 [==============================] - 0s 4ms/step - loss: 7.2100 - mae: 7.2100\n",
            "Epoch 13/100\n",
            "4/4 [==============================] - 0s 4ms/step - loss: 6.4173 - mae: 6.4173\n",
            "Epoch 14/100\n",
            "4/4 [==============================] - 0s 4ms/step - loss: 7.0883 - mae: 7.0883\n",
            "Epoch 15/100\n",
            "4/4 [==============================] - 0s 4ms/step - loss: 6.1190 - mae: 6.1190\n",
            "Epoch 16/100\n",
            "4/4 [==============================] - 0s 4ms/step - loss: 6.5618 - mae: 6.5618\n",
            "Epoch 17/100\n",
            "4/4 [==============================] - 0s 5ms/step - loss: 6.0867 - mae: 6.0867\n",
            "Epoch 18/100\n",
            "4/4 [==============================] - 0s 4ms/step - loss: 6.3874 - mae: 6.3874\n",
            "Epoch 19/100\n",
            "4/4 [==============================] - 0s 4ms/step - loss: 6.1540 - mae: 6.1540\n",
            "Epoch 20/100\n",
            "4/4 [==============================] - 0s 5ms/step - loss: 7.0910 - mae: 7.0910\n",
            "Epoch 21/100\n",
            "4/4 [==============================] - 0s 4ms/step - loss: 6.4262 - mae: 6.4262\n",
            "Epoch 22/100\n",
            "4/4 [==============================] - 0s 5ms/step - loss: 6.3371 - mae: 6.3371\n",
            "Epoch 23/100\n",
            "4/4 [==============================] - 0s 5ms/step - loss: 6.0637 - mae: 6.0637\n",
            "Epoch 24/100\n",
            "4/4 [==============================] - 0s 5ms/step - loss: 6.1231 - mae: 6.1231\n",
            "Epoch 25/100\n",
            "4/4 [==============================] - 0s 4ms/step - loss: 6.3631 - mae: 6.3631\n",
            "Epoch 26/100\n",
            "4/4 [==============================] - 0s 5ms/step - loss: 6.7278 - mae: 6.7278\n",
            "Epoch 27/100\n",
            "4/4 [==============================] - 0s 4ms/step - loss: 6.0411 - mae: 6.0411\n",
            "Epoch 28/100\n",
            "4/4 [==============================] - 0s 5ms/step - loss: 6.0903 - mae: 6.0903\n",
            "Epoch 29/100\n",
            "4/4 [==============================] - 0s 4ms/step - loss: 5.9876 - mae: 5.9876\n",
            "Epoch 30/100\n",
            "4/4 [==============================] - 0s 5ms/step - loss: 6.0349 - mae: 6.0349\n",
            "Epoch 31/100\n",
            "4/4 [==============================] - 0s 4ms/step - loss: 6.6043 - mae: 6.6043\n",
            "Epoch 32/100\n",
            "4/4 [==============================] - 0s 4ms/step - loss: 7.2523 - mae: 7.2523\n",
            "Epoch 33/100\n",
            "4/4 [==============================] - 0s 4ms/step - loss: 7.1224 - mae: 7.1224\n",
            "Epoch 34/100\n",
            "4/4 [==============================] - 0s 4ms/step - loss: 7.2947 - mae: 7.2947\n",
            "Epoch 35/100\n",
            "4/4 [==============================] - 0s 4ms/step - loss: 7.7278 - mae: 7.7278\n",
            "Epoch 36/100\n",
            "4/4 [==============================] - 0s 5ms/step - loss: 7.0267 - mae: 7.0267\n",
            "Epoch 37/100\n",
            "4/4 [==============================] - 0s 5ms/step - loss: 7.5224 - mae: 7.5224\n",
            "Epoch 38/100\n",
            "4/4 [==============================] - 0s 4ms/step - loss: 5.9920 - mae: 5.9920\n",
            "Epoch 39/100\n",
            "4/4 [==============================] - 0s 4ms/step - loss: 7.3218 - mae: 7.3218\n",
            "Epoch 40/100\n",
            "4/4 [==============================] - 0s 4ms/step - loss: 6.5110 - mae: 6.5110\n",
            "Epoch 41/100\n",
            "4/4 [==============================] - 0s 4ms/step - loss: 5.8847 - mae: 5.8847\n",
            "Epoch 42/100\n",
            "4/4 [==============================] - 0s 4ms/step - loss: 5.8729 - mae: 5.8729\n",
            "Epoch 43/100\n",
            "4/4 [==============================] - 0s 6ms/step - loss: 5.6242 - mae: 5.6242\n",
            "Epoch 44/100\n",
            "4/4 [==============================] - 0s 6ms/step - loss: 5.9722 - mae: 5.9722\n",
            "Epoch 45/100\n",
            "4/4 [==============================] - 0s 5ms/step - loss: 5.6448 - mae: 5.6448\n",
            "Epoch 46/100\n",
            "4/4 [==============================] - 0s 6ms/step - loss: 5.6549 - mae: 5.6549\n",
            "Epoch 47/100\n",
            "4/4 [==============================] - 0s 4ms/step - loss: 5.8319 - mae: 5.8319\n",
            "Epoch 48/100\n",
            "4/4 [==============================] - 0s 5ms/step - loss: 5.4710 - mae: 5.4710\n",
            "Epoch 49/100\n",
            "4/4 [==============================] - 0s 5ms/step - loss: 5.5287 - mae: 5.5287\n",
            "Epoch 50/100\n",
            "4/4 [==============================] - 0s 4ms/step - loss: 5.5835 - mae: 5.5835\n",
            "Epoch 51/100\n",
            "4/4 [==============================] - 0s 4ms/step - loss: 5.5120 - mae: 5.5120\n",
            "Epoch 52/100\n",
            "4/4 [==============================] - 0s 6ms/step - loss: 5.4767 - mae: 5.4767\n",
            "Epoch 53/100\n",
            "4/4 [==============================] - 0s 6ms/step - loss: 5.5306 - mae: 5.5306\n",
            "Epoch 54/100\n",
            "4/4 [==============================] - 0s 5ms/step - loss: 5.5023 - mae: 5.5023\n",
            "Epoch 55/100\n",
            "4/4 [==============================] - 0s 5ms/step - loss: 5.8822 - mae: 5.8822\n",
            "Epoch 56/100\n",
            "4/4 [==============================] - 0s 6ms/step - loss: 5.3984 - mae: 5.3984\n",
            "Epoch 57/100\n",
            "4/4 [==============================] - 0s 5ms/step - loss: 5.4925 - mae: 5.4925\n",
            "Epoch 58/100\n",
            "4/4 [==============================] - 0s 5ms/step - loss: 5.9743 - mae: 5.9743\n",
            "Epoch 59/100\n",
            "4/4 [==============================] - 0s 5ms/step - loss: 4.9830 - mae: 4.9830\n",
            "Epoch 60/100\n",
            "4/4 [==============================] - 0s 5ms/step - loss: 6.3457 - mae: 6.3457\n",
            "Epoch 61/100\n",
            "4/4 [==============================] - 0s 5ms/step - loss: 5.2822 - mae: 5.2822\n",
            "Epoch 62/100\n",
            "4/4 [==============================] - 0s 6ms/step - loss: 6.1339 - mae: 6.1339\n",
            "Epoch 63/100\n",
            "4/4 [==============================] - 0s 6ms/step - loss: 5.4601 - mae: 5.4601\n",
            "Epoch 64/100\n",
            "4/4 [==============================] - 0s 6ms/step - loss: 5.2218 - mae: 5.2218\n",
            "Epoch 65/100\n",
            "4/4 [==============================] - 0s 7ms/step - loss: 7.8587 - mae: 7.8587\n",
            "Epoch 66/100\n",
            "4/4 [==============================] - 0s 6ms/step - loss: 6.4805 - mae: 6.4805\n",
            "Epoch 67/100\n",
            "4/4 [==============================] - 0s 5ms/step - loss: 5.4979 - mae: 5.4979\n",
            "Epoch 68/100\n",
            "4/4 [==============================] - 0s 5ms/step - loss: 5.7924 - mae: 5.7924\n",
            "Epoch 69/100\n",
            "4/4 [==============================] - 0s 4ms/step - loss: 5.4156 - mae: 5.4156\n",
            "Epoch 70/100\n",
            "4/4 [==============================] - 0s 6ms/step - loss: 5.8676 - mae: 5.8676\n",
            "Epoch 71/100\n",
            "4/4 [==============================] - 0s 5ms/step - loss: 5.8388 - mae: 5.8388\n",
            "Epoch 72/100\n",
            "4/4 [==============================] - 0s 6ms/step - loss: 5.9595 - mae: 5.9595\n",
            "Epoch 73/100\n",
            "4/4 [==============================] - 0s 6ms/step - loss: 5.8082 - mae: 5.8082\n",
            "Epoch 74/100\n",
            "4/4 [==============================] - 0s 5ms/step - loss: 5.1423 - mae: 5.1423\n",
            "Epoch 75/100\n",
            "4/4 [==============================] - 0s 7ms/step - loss: 6.0907 - mae: 6.0907\n",
            "Epoch 76/100\n",
            "4/4 [==============================] - 0s 5ms/step - loss: 6.3547 - mae: 6.3547\n",
            "Epoch 77/100\n",
            "4/4 [==============================] - 0s 5ms/step - loss: 5.2805 - mae: 5.2805\n",
            "Epoch 78/100\n",
            "4/4 [==============================] - 0s 5ms/step - loss: 5.4588 - mae: 5.4588\n",
            "Epoch 79/100\n",
            "4/4 [==============================] - 0s 5ms/step - loss: 5.4175 - mae: 5.4175\n",
            "Epoch 80/100\n",
            "4/4 [==============================] - 0s 5ms/step - loss: 4.9755 - mae: 4.9755\n",
            "Epoch 81/100\n",
            "4/4 [==============================] - 0s 5ms/step - loss: 4.5486 - mae: 4.5486\n",
            "Epoch 82/100\n",
            "4/4 [==============================] - 0s 5ms/step - loss: 4.8657 - mae: 4.8657\n",
            "Epoch 83/100\n",
            "4/4 [==============================] - 0s 5ms/step - loss: 4.4614 - mae: 4.4614\n",
            "Epoch 84/100\n",
            "4/4 [==============================] - 0s 5ms/step - loss: 4.8033 - mae: 4.8033\n",
            "Epoch 85/100\n",
            "4/4 [==============================] - 0s 5ms/step - loss: 5.2464 - mae: 5.2464\n",
            "Epoch 86/100\n",
            "4/4 [==============================] - 0s 5ms/step - loss: 4.8464 - mae: 4.8464\n",
            "Epoch 87/100\n",
            "4/4 [==============================] - 0s 5ms/step - loss: 5.0698 - mae: 5.0698\n",
            "Epoch 88/100\n",
            "4/4 [==============================] - 0s 5ms/step - loss: 4.8252 - mae: 4.8253\n",
            "Epoch 89/100\n",
            "4/4 [==============================] - 0s 7ms/step - loss: 5.3254 - mae: 5.3254\n",
            "Epoch 90/100\n",
            "4/4 [==============================] - 0s 8ms/step - loss: 5.4005 - mae: 5.4005\n",
            "Epoch 91/100\n",
            "4/4 [==============================] - 0s 5ms/step - loss: 4.7923 - mae: 4.7923\n",
            "Epoch 92/100\n",
            "4/4 [==============================] - 0s 5ms/step - loss: 4.4127 - mae: 4.4127\n",
            "Epoch 93/100\n",
            "4/4 [==============================] - 0s 5ms/step - loss: 4.7660 - mae: 4.7660\n",
            "Epoch 94/100\n",
            "4/4 [==============================] - 0s 5ms/step - loss: 4.7326 - mae: 4.7326\n",
            "Epoch 95/100\n",
            "4/4 [==============================] - 0s 5ms/step - loss: 4.5806 - mae: 4.5806\n",
            "Epoch 96/100\n",
            "4/4 [==============================] - 0s 5ms/step - loss: 5.3294 - mae: 5.3294\n",
            "Epoch 97/100\n",
            "4/4 [==============================] - 0s 4ms/step - loss: 3.9041 - mae: 3.9041\n",
            "Epoch 98/100\n",
            "4/4 [==============================] - 0s 5ms/step - loss: 4.1112 - mae: 4.1112\n",
            "Epoch 99/100\n",
            "4/4 [==============================] - 0s 7ms/step - loss: 5.8291 - mae: 5.8291\n",
            "Epoch 100/100\n",
            "4/4 [==============================] - 0s 6ms/step - loss: 4.9167 - mae: 4.9167\n"
          ]
        },
        {
          "output_type": "execute_result",
          "data": {
            "text/plain": [
              "<keras.callbacks.History at 0x7f574b7aae60>"
            ]
          },
          "metadata": {},
          "execution_count": 18
        }
      ]
    },
    {
      "cell_type": "code",
      "source": [
        "predictions = model.predict(X_test)"
      ],
      "metadata": {
        "colab": {
          "base_uri": "https://localhost:8080/"
        },
        "id": "8yOFeffgWGew",
        "outputId": "8220c664-5a37-43cf-fc8e-ba4d6ed68e16"
      },
      "execution_count": 19,
      "outputs": [
        {
          "output_type": "stream",
          "name": "stdout",
          "text": [
            "1/1 [==============================] - 0s 70ms/step\n"
          ]
        }
      ]
    },
    {
      "cell_type": "code",
      "source": [
        "predictions"
      ],
      "metadata": {
        "colab": {
          "base_uri": "https://localhost:8080/"
        },
        "id": "BvUvHieaWGcK",
        "outputId": "bd50ac2f-4729-4456-da1f-e5957b7bb14d"
      },
      "execution_count": 20,
      "outputs": [
        {
          "output_type": "execute_result",
          "data": {
            "text/plain": [
              "array([[217.34935],\n",
              "       [227.90527],\n",
              "       [238.46117],\n",
              "       [249.01707],\n",
              "       [259.57297],\n",
              "       [270.1289 ],\n",
              "       [280.6848 ],\n",
              "       [291.2543 ],\n",
              "       [301.83145],\n",
              "       [312.4087 ]], dtype=float32)"
            ]
          },
          "metadata": {},
          "execution_count": 20
        }
      ]
    },
    {
      "cell_type": "code",
      "source": [
        "plt.figure(figsize = (16,9))\n",
        "plt.scatter(X_train,y_train,c= 'b',label = 'Train Data')\n",
        "plt.scatter(X_test,y_test,c= 'm',label= 'Test Data')\n",
        "plt.scatter(predictions,predictions,c ='g',label= 'Predictions')\n",
        "plt.legend()\n",
        "plt.show()"
      ],
      "metadata": {
        "colab": {
          "base_uri": "https://localhost:8080/",
          "height": 590
        },
        "id": "28bG3ljpWGZT",
        "outputId": "36d24fec-3e5a-4cae-fe9f-1e10ef6aa512"
      },
      "execution_count": 21,
      "outputs": [
        {
          "output_type": "display_data",
          "data": {
            "text/plain": [
              "<Figure size 1600x900 with 1 Axes>"
            ],
            "image/png": "[encoded data removed]"
          },
          "metadata": {}
        }
      ]
    },
    {
      "cell_type": "code",
      "source": [
        "model.summary()"
      ],
      "metadata": {
        "id": "2FF2svYzWGWc",
        "colab": {
          "base_uri": "https://localhost:8080/"
        },
        "outputId": "0ee06fab-a622-4cf5-a1c1-80e116bc1c1d"
      },
      "execution_count": 22,
      "outputs": [
        {
          "output_type": "stream",
          "name": "stdout",
          "text": [
            "Model: \"sequential_3\"\n",
            "_________________________________________________________________\n",
            " Layer (type)                Output Shape              Param #   \n",
            "=================================================================\n",
            " dense_8 (Dense)             (10, 100)                 200       \n",
            "                                                                 \n",
            " dense_9 (Dense)             (10, 100)                 10100     \n",
            "                                                                 \n",
            " dense_10 (Dense)            (10, 100)                 10100     \n",
            "                                                                 \n",
            " dense_11 (Dense)            (10, 1)                   101       \n",
            "                                                                 \n",
            "=================================================================\n",
            "Total params: 20,501\n",
            "Trainable params: 20,501\n",
            "Non-trainable params: 0\n",
            "_________________________________________________________________\n"
          ]
        }
      ]
    },
    {
      "cell_type": "markdown",
      "source": [
        "### Another way to visualise our model\n"
      ],
      "metadata": {
        "id": "TkB2IrUkRzVk"
      }
    },
    {
      "cell_type": "code",
      "source": [
        "# import plot_model\n",
        "from tensorflow.keras.utils import plot_model\n",
        "#make a plot\n",
        "plot_model(model = improved_model,show_shapes=1,show_dtype=False)"
      ],
      "metadata": {
        "id": "GSjSKOBtWGT2",
        "colab": {
          "base_uri": "https://localhost:8080/",
          "height": 422
        },
        "outputId": "20cbae00-1ddc-406b-e337-1e45a66291e1"
      },
      "execution_count": 23,
      "outputs": [
        {
          "output_type": "execute_result",
          "data": {
            "image/png": "[encoded data removed]",
            "text/plain": [
              "<IPython.core.display.Image object>"
            ]
          },
          "metadata": {},
          "execution_count": 23
        }
      ]
    },
    {
      "cell_type": "code",
      "source": [
        "  #Let's create a model and get more spesific summary\n",
        "\n",
        "  #create the model\n",
        "  summarized_model = tf.keras.models.Sequential([\n",
        "      tf.keras.layers.Dense(100,activation= 'relu', name='Input_Layer'),\n",
        "      tf.keras.layers.Dense(100,activation= 'relu', name= 'First_Hidden_Layer'),\n",
        "      tf.keras.layers.Dense(100,activation= 'relu', name= 'Second_Hidden_Layer'),\n",
        "      tf.keras.layers.Dense(1,name= 'Output_Layer')],name= 'Just one of our models....')\n",
        "\n",
        "  #compile the model\n",
        "  summarized_model.compile(loss = tf.keras.losses.mae,\n",
        "                optimizer = tf.keras.optimizers.SGD(),\n",
        "                metrics=['mae'])\n",
        "\n",
        "  summarized_model.build((40,1))\n",
        "  #fit the model\n",
        "  #summarized_model.fit(tf.expand_dims(X_train,axis=-1) ,y_train, epochs= 50)  #if you set the verbose yo don't get the training or something"
      ],
      "metadata": {
        "id": "rehOMqDWwz0d"
      },
      "execution_count": 24,
      "outputs": []
    },
    {
      "cell_type": "code",
      "source": [
        "#get the summary\n",
        "summarized_model.summary()"
      ],
      "metadata": {
        "colab": {
          "base_uri": "https://localhost:8080/"
        },
        "id": "qT4dhalW677e",
        "outputId": "a437ce42-1410-46af-aebf-ae1e91f70b72"
      },
      "execution_count": 25,
      "outputs": [
        {
          "output_type": "stream",
          "name": "stdout",
          "text": [
            "Model: \"Just one of our models....\"\n",
            "_________________________________________________________________\n",
            " Layer (type)                Output Shape              Param #   \n",
            "=================================================================\n",
            " Input_Layer (Dense)         (40, 100)                 200       \n",
            "                                                                 \n",
            " First_Hidden_Layer (Dense)  (40, 100)                 10100     \n",
            "                                                                 \n",
            " Second_Hidden_Layer (Dense)  (40, 100)                10100     \n",
            "                                                                 \n",
            " Output_Layer (Dense)        (40, 1)                   101       \n",
            "                                                                 \n",
            "=================================================================\n",
            "Total params: 20,501\n",
            "Trainable params: 20,501\n",
            "Non-trainable params: 0\n",
            "_________________________________________________________________\n"
          ]
        }
      ]
    },
    {
      "cell_type": "code",
      "source": [
        "plot_model(summarized_model,show_shapes=True)"
      ],
      "metadata": {
        "id": "4xKmQ15X670g",
        "colab": {
          "base_uri": "https://localhost:8080/",
          "height": 533
        },
        "outputId": "73463f7b-ad13-4f27-8bee-5a8bc4b6a927"
      },
      "execution_count": 26,
      "outputs": [
        {
          "output_type": "execute_result",
          "data": {
            "image/png": "[encoded data removed]",
            "text/plain": [
              "<IPython.core.display.Image object>"
            ]
          },
          "metadata": {},
          "execution_count": 26
        }
      ]
    },
    {
      "cell_type": "markdown",
      "source": [
        "## Visualise our model predictions.\n",
        "Steps that must be taken:\n",
        "* Create tensors\n",
        "* Build a model\n",
        "* Get the predictions\n",
        "* Visualise the model predictions"
      ],
      "metadata": {
        "id": "fO2rTu2Y5AdH"
      }
    },
    {
      "cell_type": "code",
      "source": [
        "##create tensors\n",
        "X = tf.range(57,431,3)\n",
        "y = X + 10\n",
        "\n",
        "#split them to the train and test data\n",
        "X_train = X[:100]\n",
        "X_test = X[100:]\n",
        "y_train = y[:100]\n",
        "y_test = y[100:]\n",
        "#create a Sequential model\n",
        "model = tf.keras.models.Sequential([\n",
        "    tf.keras.layers.Dense(100, activation= 'relu'),\n",
        "    tf.keras.layers.Dense(100, activation= 'relu'),\n",
        "    tf.keras.layers.Dense(1)\n",
        "])\n",
        "\n",
        "#compile the model\n",
        "model.compile(loss= tf.keras.losses.mae,\n",
        "              optimizer= tf.keras.optimizers.Adam(lr= 0.001),\n",
        "              metrics= ['mae'])\n",
        "\n",
        "#fit the model\n",
        "model.fit(tf.expand_dims(X_train,axis=-1), y_train, epochs = 50)"
      ],
      "metadata": {
        "id": "XcovDCUt5AaQ",
        "colab": {
          "base_uri": "https://localhost:8080/"
        },
        "outputId": "e4575976-a1ec-4c49-8a1b-f04221d5449e"
      },
      "execution_count": 27,
      "outputs": [
        {
          "output_type": "stream",
          "name": "stderr",
          "text": [
            "WARNING:absl:`lr` is deprecated in Keras optimizer, please use `learning_rate` or use the legacy optimizer, e.g.,tf.keras.optimizers.legacy.Adam.\n"
          ]
        },
        {
          "output_type": "stream",
          "name": "stdout",
          "text": [
            "Epoch 1/50\n",
            "4/4 [==============================] - 1s 4ms/step - loss: 193.4264 - mae: 193.4264\n",
            "Epoch 2/50\n",
            "4/4 [==============================] - 0s 4ms/step - loss: 154.6001 - mae: 154.6001\n",
            "Epoch 3/50\n",
            "4/4 [==============================] - 0s 4ms/step - loss: 118.7751 - mae: 118.7751\n",
            "Epoch 4/50\n",
            "4/4 [==============================] - 0s 4ms/step - loss: 83.6651 - mae: 83.6651\n",
            "Epoch 5/50\n",
            "4/4 [==============================] - 0s 4ms/step - loss: 50.7207 - mae: 50.7207\n",
            "Epoch 6/50\n",
            "4/4 [==============================] - 0s 4ms/step - loss: 15.5635 - mae: 15.5635\n",
            "Epoch 7/50\n",
            "4/4 [==============================] - 0s 4ms/step - loss: 15.4756 - mae: 15.4756\n",
            "Epoch 8/50\n",
            "4/4 [==============================] - 0s 5ms/step - loss: 22.7564 - mae: 22.7564\n",
            "Epoch 9/50\n",
            "4/4 [==============================] - 0s 4ms/step - loss: 12.6689 - mae: 12.6689\n",
            "Epoch 10/50\n",
            "4/4 [==============================] - 0s 4ms/step - loss: 6.3891 - mae: 6.3891\n",
            "Epoch 11/50\n",
            "4/4 [==============================] - 0s 6ms/step - loss: 10.5233 - mae: 10.5233\n",
            "Epoch 12/50\n",
            "4/4 [==============================] - 0s 5ms/step - loss: 3.9233 - mae: 3.9233\n",
            "Epoch 13/50\n",
            "4/4 [==============================] - 0s 4ms/step - loss: 6.4530 - mae: 6.4530\n",
            "Epoch 14/50\n",
            "4/4 [==============================] - 0s 4ms/step - loss: 3.6084 - mae: 3.6084\n",
            "Epoch 15/50\n",
            "4/4 [==============================] - 0s 4ms/step - loss: 4.6249 - mae: 4.6249\n",
            "Epoch 16/50\n",
            "4/4 [==============================] - 0s 4ms/step - loss: 3.3161 - mae: 3.3161\n",
            "Epoch 17/50\n",
            "4/4 [==============================] - 0s 4ms/step - loss: 3.2612 - mae: 3.2612\n",
            "Epoch 18/50\n",
            "4/4 [==============================] - 0s 4ms/step - loss: 3.2905 - mae: 3.2905\n",
            "Epoch 19/50\n",
            "4/4 [==============================] - 0s 4ms/step - loss: 3.5862 - mae: 3.5862\n",
            "Epoch 20/50\n",
            "4/4 [==============================] - 0s 4ms/step - loss: 3.2735 - mae: 3.2735\n",
            "Epoch 21/50\n",
            "4/4 [==============================] - 0s 4ms/step - loss: 3.3152 - mae: 3.3152\n",
            "Epoch 22/50\n",
            "4/4 [==============================] - 0s 4ms/step - loss: 3.4417 - mae: 3.4417\n",
            "Epoch 23/50\n",
            "4/4 [==============================] - 0s 5ms/step - loss: 3.2001 - mae: 3.2001\n",
            "Epoch 24/50\n",
            "4/4 [==============================] - 0s 5ms/step - loss: 3.1606 - mae: 3.1606\n",
            "Epoch 25/50\n",
            "4/4 [==============================] - 0s 7ms/step - loss: 3.1291 - mae: 3.1291\n",
            "Epoch 26/50\n",
            "4/4 [==============================] - 0s 4ms/step - loss: 3.1010 - mae: 3.1010\n",
            "Epoch 27/50\n",
            "4/4 [==============================] - 0s 5ms/step - loss: 3.3520 - mae: 3.3520\n",
            "Epoch 28/50\n",
            "4/4 [==============================] - 0s 4ms/step - loss: 3.1259 - mae: 3.1259\n",
            "Epoch 29/50\n",
            "4/4 [==============================] - 0s 4ms/step - loss: 3.1768 - mae: 3.1768\n",
            "Epoch 30/50\n",
            "4/4 [==============================] - 0s 4ms/step - loss: 3.4949 - mae: 3.4949\n",
            "Epoch 31/50\n",
            "4/4 [==============================] - 0s 4ms/step - loss: 3.6359 - mae: 3.6359\n",
            "Epoch 32/50\n",
            "4/4 [==============================] - 0s 5ms/step - loss: 3.4928 - mae: 3.4928\n",
            "Epoch 33/50\n",
            "4/4 [==============================] - 0s 4ms/step - loss: 3.3420 - mae: 3.3420\n",
            "Epoch 34/50\n",
            "4/4 [==============================] - 0s 4ms/step - loss: 3.4817 - mae: 3.4817\n",
            "Epoch 35/50\n",
            "4/4 [==============================] - 0s 5ms/step - loss: 3.0787 - mae: 3.0787\n",
            "Epoch 36/50\n",
            "4/4 [==============================] - 0s 4ms/step - loss: 3.0573 - mae: 3.0573\n",
            "Epoch 37/50\n",
            "4/4 [==============================] - 0s 5ms/step - loss: 3.1241 - mae: 3.1241\n",
            "Epoch 38/50\n",
            "4/4 [==============================] - 0s 5ms/step - loss: 3.0679 - mae: 3.0679\n",
            "Epoch 39/50\n",
            "4/4 [==============================] - 0s 4ms/step - loss: 3.1323 - mae: 3.1323\n",
            "Epoch 40/50\n",
            "4/4 [==============================] - 0s 5ms/step - loss: 3.3256 - mae: 3.3256\n",
            "Epoch 41/50\n",
            "4/4 [==============================] - 0s 4ms/step - loss: 3.1266 - mae: 3.1266\n",
            "Epoch 42/50\n",
            "4/4 [==============================] - 0s 4ms/step - loss: 3.0213 - mae: 3.0213\n",
            "Epoch 43/50\n",
            "4/4 [==============================] - 0s 4ms/step - loss: 3.0485 - mae: 3.0485\n",
            "Epoch 44/50\n",
            "4/4 [==============================] - 0s 4ms/step - loss: 3.1730 - mae: 3.1730\n",
            "Epoch 45/50\n",
            "4/4 [==============================] - 0s 4ms/step - loss: 3.0387 - mae: 3.0387\n",
            "Epoch 46/50\n",
            "4/4 [==============================] - 0s 5ms/step - loss: 3.0719 - mae: 3.0719\n",
            "Epoch 47/50\n",
            "4/4 [==============================] - 0s 4ms/step - loss: 3.9132 - mae: 3.9132\n",
            "Epoch 48/50\n",
            "4/4 [==============================] - 0s 5ms/step - loss: 4.0175 - mae: 4.0175\n",
            "Epoch 49/50\n",
            "4/4 [==============================] - 0s 4ms/step - loss: 3.5204 - mae: 3.5204\n",
            "Epoch 50/50\n",
            "4/4 [==============================] - 0s 4ms/step - loss: 3.5388 - mae: 3.5388\n"
          ]
        },
        {
          "output_type": "execute_result",
          "data": {
            "text/plain": [
              "<keras.callbacks.History at 0x7f574b7e3820>"
            ]
          },
          "metadata": {},
          "execution_count": 27
        }
      ]
    },
    {
      "cell_type": "code",
      "source": [
        "#get the predictions\n",
        "model_predictions = model.predict(X_test)\n",
        "model_predictions"
      ],
      "metadata": {
        "id": "odwIjA2z5AXp",
        "colab": {
          "base_uri": "https://localhost:8080/"
        },
        "outputId": "0ba9fbdf-7ee2-4f8c-8b5a-3ead068bdaea"
      },
      "execution_count": 28,
      "outputs": [
        {
          "output_type": "stream",
          "name": "stderr",
          "text": [
            "WARNING:tensorflow:5 out of the last 5 calls to <function Model.make_predict_function.<locals>.predict_function at 0x7f574b5725f0> triggered tf.function retracing. Tracing is expensive and the excessive number of tracings could be due to (1) creating @tf.function repeatedly in a loop, (2) passing tensors with different shapes, (3) passing Python objects instead of tensors. For (1), please define your @tf.function outside of the loop. For (2), @tf.function has reduce_retracing=True option that can avoid unnecessary retracing. For (3), please refer to https://www.tensorflow.org/guide/function#controlling_retracing and https://www.tensorflow.org/api_docs/python/tf/function for  more details.\n"
          ]
        },
        {
          "output_type": "stream",
          "name": "stdout",
          "text": [
            "1/1 [==============================] - 0s 89ms/step\n"
          ]
        },
        {
          "output_type": "execute_result",
          "data": {
            "text/plain": [
              "array([[376.5253 ],\n",
              "       [379.68063],\n",
              "       [382.83597],\n",
              "       [385.9913 ],\n",
              "       [389.14664],\n",
              "       [392.30194],\n",
              "       [395.45728],\n",
              "       [398.61264],\n",
              "       [401.76794],\n",
              "       [404.92325],\n",
              "       [408.07858],\n",
              "       [411.23395],\n",
              "       [414.38928],\n",
              "       [417.5446 ],\n",
              "       [420.69992],\n",
              "       [423.85526],\n",
              "       [427.0106 ],\n",
              "       [430.16592],\n",
              "       [433.32126],\n",
              "       [436.47656],\n",
              "       [439.63193],\n",
              "       [442.78723],\n",
              "       [445.9426 ],\n",
              "       [449.0979 ],\n",
              "       [452.2532 ]], dtype=float32)"
            ]
          },
          "metadata": {},
          "execution_count": 28
        }
      ]
    },
    {
      "cell_type": "code",
      "source": [
        "#creating function to plot the predictions\n",
        "def plot_predictions(predictions):\n",
        "  plt.figure(figsize=(16,9))\n",
        "  #visualise train data\n",
        "  plt.scatter(X_train,y_train,c= 'b',label='Train Data')\n",
        "  #visualise test data\n",
        "  plt.scatter(X_test,y_test,c= 'g',label='Test Data')\n",
        "  #visualise predictions data\n",
        "  plt.scatter(X_test,predictions,c= 'm',label='Predictions')\n",
        "  #plot legend\n",
        "  plt.legend()\n",
        "  #show the plot\n",
        "  plt.show()"
      ],
      "metadata": {
        "id": "ppUCrnpF5AVC"
      },
      "execution_count": 29,
      "outputs": []
    },
    {
      "cell_type": "code",
      "source": [
        "#plot predictions\n",
        "plot_predictions(model_predictions)"
      ],
      "metadata": {
        "id": "SyhgBoS15AR6",
        "colab": {
          "base_uri": "https://localhost:8080/",
          "height": 595
        },
        "outputId": "77bff2ee-f650-4bc8-8b8b-dd2253aaef5e"
      },
      "execution_count": 30,
      "outputs": [
        {
          "output_type": "display_data",
          "data": {
            "text/plain": [
              "<Figure size 1600x900 with 1 Axes>"
            ],
            "image/png": "[encoded data removed]"
          },
          "metadata": {}
        }
      ]
    },
    {
      "cell_type": "markdown",
      "source": [
        "## Common Eveluation Metrics\n",
        "Depending on the problem, there will be different evaluation metrics.In the Regression Probelems:\n",
        "* MAE - mean absolute error\n",
        "* MSE - mean squared error\n",
        "* Huber - combination of mae and mse(less sensitive to the outliers than mse)"
      ],
      "metadata": {
        "id": "rpKZQts-5APU"
      }
    },
    {
      "cell_type": "code",
      "source": [
        "#let's get evaluate our model(getting mae)\n",
        "model.evaluate(X_test,y_test)"
      ],
      "metadata": {
        "id": "9wbhXsGK5AJX",
        "colab": {
          "base_uri": "https://localhost:8080/"
        },
        "outputId": "e00e0a20-b738-4ee4-929d-e4bba667e92e"
      },
      "execution_count": 31,
      "outputs": [
        {
          "output_type": "stream",
          "name": "stdout",
          "text": [
            "1/1 [==============================] - 0s 155ms/step - loss: 11.3893 - mae: 11.3893\n"
          ]
        },
        {
          "output_type": "execute_result",
          "data": {
            "text/plain": [
              "[11.389266014099121, 11.389266014099121]"
            ]
          },
          "metadata": {},
          "execution_count": 31
        }
      ]
    },
    {
      "cell_type": "code",
      "source": [
        "np.mean(tf.metrics.mean_absolute_error(tf.expand_dims(y_test,axis=-1),tf.constant(model_predictions)))\n",
        "#shape and dtype have to be same to evaluate metrics"
      ],
      "metadata": {
        "colab": {
          "base_uri": "https://localhost:8080/"
        },
        "id": "1dO6b03nIjgU",
        "outputId": "1e4bfdc7-b0f9-4c0b-ac15-f4e96d2e3849"
      },
      "execution_count": 34,
      "outputs": [
        {
          "output_type": "execute_result",
          "data": {
            "text/plain": [
              "11.389266"
            ]
          },
          "metadata": {},
          "execution_count": 34
        }
      ]
    },
    {
      "cell_type": "code",
      "source": [
        "#getting mean squared error\n",
        "tf.losses.mean_squared_error(tf.squeeze(tf.constant(model_predictions)),tf.squeeze(y_test))  #when 11...,mae is squared it would be around 120"
      ],
      "metadata": {
        "id": "4uOs10IOKsII",
        "colab": {
          "base_uri": "https://localhost:8080/"
        },
        "outputId": "676b2253-43e1-4d39-9f44-87c4d3789155"
      },
      "execution_count": 35,
      "outputs": [
        {
          "output_type": "execute_result",
          "data": {
            "text/plain": [
              "<tf.Tensor: shape=(), dtype=int32, numpy=119>"
            ]
          },
          "metadata": {},
          "execution_count": 35
        }
      ]
    },
    {
      "cell_type": "code",
      "source": [
        "#create functions to get mae and mse wheneven you want\n",
        "def mae(y_test,predictions):\n",
        "  return np.mean(tf.metrics.mean_absolute_error(tf.expand_dims(y_test,axis=-1),tf.constant(predictions)))\n",
        "\n",
        "def mse(y_test,predictions):\n",
        "  return tf.losses.mean_squared_error(tf.squeeze(tf.constant(predictions)),tf.squeeze(y_test))"
      ],
      "metadata": {
        "id": "dcwPoLBNMQg3"
      },
      "execution_count": 36,
      "outputs": []
    },
    {
      "cell_type": "markdown",
      "source": [
        "## Running experiments to improve a model\n",
        "After seeing the evaluation metrics and the predictions your model makes, it's likely you'll want to improve it.\n",
        "\n",
        "Again, there are many different ways you can do this, but 3 of the main ones are:\n",
        "\n",
        "1. **Get more data** - get more examples for your model to train on (more opportunities to learn patterns).\n",
        "2. **Make your model larger** (use a more complex model) - this might come in the form of more layers or more hidden units in each layer.\n",
        "3. **Train for longer** - give your model more of a chance to find the patterns in the data.\n",
        "Since we created our dataset, we could easily make more data but this isn't always the case when you're working with real-world datasets.\n",
        "\n",
        "So let's take a look at how we can improve our model using 2 and 3.\n",
        "\n",
        "To do so, we'll build 3 models and compare their results:\n",
        "\n",
        "1. `model_1` - same as original model, 1 layer, trained for 100 epochs.\n",
        "2. `model_2` - 2 layers, trained for 100 epochs.\n",
        "3. `model_3` - 2 layers, trained for 500 epochs.\n",
        "**Build model_1**"
      ],
      "metadata": {
        "id": "I40z35cxNqgA"
      }
    },
    {
      "cell_type": "code",
      "source": [
        "#create model\n",
        "model_1 = tf.keras.models.Sequential([\n",
        "    tf.keras.layers.Dense(1)\n",
        "])\n",
        "\n",
        "#compile the model\n",
        "model_1.compile(loss= 'mae',optimizer = 'adam',metrics=['mae'])\n",
        "\n",
        "#fit the model\n",
        "model_1.fit(tf.expand_dims(X_train,axis=-1),y_train,epochs=100)"
      ],
      "metadata": {
        "id": "TtsHTnrDR2Kg",
        "colab": {
          "base_uri": "https://localhost:8080/"
        },
        "outputId": "672325b4-dc73-4bea-bf3c-f463cfcd5219"
      },
      "execution_count": 37,
      "outputs": [
        {
          "output_type": "stream",
          "name": "stdout",
          "text": [
            "Epoch 1/100\n",
            "4/4 [==============================] - 1s 6ms/step - loss: 174.5023 - mae: 174.5023\n",
            "Epoch 2/100\n",
            "4/4 [==============================] - 0s 5ms/step - loss: 173.6760 - mae: 173.6760\n",
            "Epoch 3/100\n",
            "4/4 [==============================] - 0s 5ms/step - loss: 172.8501 - mae: 172.8501\n",
            "Epoch 4/100\n",
            "4/4 [==============================] - 0s 5ms/step - loss: 172.0163 - mae: 172.0163\n",
            "Epoch 5/100\n",
            "4/4 [==============================] - 0s 4ms/step - loss: 171.2009 - mae: 171.2009\n",
            "Epoch 6/100\n",
            "4/4 [==============================] - 0s 4ms/step - loss: 170.3582 - mae: 170.3582\n",
            "Epoch 7/100\n",
            "4/4 [==============================] - 0s 5ms/step - loss: 169.5413 - mae: 169.5413\n",
            "Epoch 8/100\n",
            "4/4 [==============================] - 0s 4ms/step - loss: 168.7310 - mae: 168.7310\n",
            "Epoch 9/100\n",
            "4/4 [==============================] - 0s 3ms/step - loss: 167.9056 - mae: 167.9056\n",
            "Epoch 10/100\n",
            "4/4 [==============================] - 0s 4ms/step - loss: 167.0921 - mae: 167.0921\n",
            "Epoch 11/100\n",
            "4/4 [==============================] - 0s 5ms/step - loss: 166.2751 - mae: 166.2751\n",
            "Epoch 12/100\n",
            "4/4 [==============================] - 0s 4ms/step - loss: 165.4680 - mae: 165.4680\n",
            "Epoch 13/100\n",
            "4/4 [==============================] - 0s 4ms/step - loss: 164.6496 - mae: 164.6496\n",
            "Epoch 14/100\n",
            "4/4 [==============================] - 0s 4ms/step - loss: 163.8560 - mae: 163.8560\n",
            "Epoch 15/100\n",
            "4/4 [==============================] - 0s 4ms/step - loss: 163.0434 - mae: 163.0434\n",
            "Epoch 16/100\n",
            "4/4 [==============================] - 0s 4ms/step - loss: 162.2486 - mae: 162.2486\n",
            "Epoch 17/100\n",
            "4/4 [==============================] - 0s 5ms/step - loss: 161.4080 - mae: 161.4080\n",
            "Epoch 18/100\n",
            "4/4 [==============================] - 0s 4ms/step - loss: 160.5827 - mae: 160.5827\n",
            "Epoch 19/100\n",
            "4/4 [==============================] - 0s 4ms/step - loss: 159.7573 - mae: 159.7573\n",
            "Epoch 20/100\n",
            "4/4 [==============================] - 0s 4ms/step - loss: 158.9256 - mae: 158.9256\n",
            "Epoch 21/100\n",
            "4/4 [==============================] - 0s 4ms/step - loss: 158.1194 - mae: 158.1194\n",
            "Epoch 22/100\n",
            "4/4 [==============================] - 0s 4ms/step - loss: 157.3023 - mae: 157.3023\n",
            "Epoch 23/100\n",
            "4/4 [==============================] - 0s 5ms/step - loss: 156.4910 - mae: 156.4910\n",
            "Epoch 24/100\n",
            "4/4 [==============================] - 0s 5ms/step - loss: 155.6606 - mae: 155.6606\n",
            "Epoch 25/100\n",
            "4/4 [==============================] - 0s 5ms/step - loss: 154.8306 - mae: 154.8306\n",
            "Epoch 26/100\n",
            "4/4 [==============================] - 0s 4ms/step - loss: 154.0104 - mae: 154.0104\n",
            "Epoch 27/100\n",
            "4/4 [==============================] - 0s 4ms/step - loss: 153.1746 - mae: 153.1746\n",
            "Epoch 28/100\n",
            "4/4 [==============================] - 0s 5ms/step - loss: 152.3609 - mae: 152.3609\n",
            "Epoch 29/100\n",
            "4/4 [==============================] - 0s 4ms/step - loss: 151.5390 - mae: 151.5390\n",
            "Epoch 30/100\n",
            "4/4 [==============================] - 0s 5ms/step - loss: 150.7341 - mae: 150.7341\n",
            "Epoch 31/100\n",
            "4/4 [==============================] - 0s 4ms/step - loss: 149.9169 - mae: 149.9169\n",
            "Epoch 32/100\n",
            "4/4 [==============================] - 0s 7ms/step - loss: 149.1259 - mae: 149.1259\n",
            "Epoch 33/100\n",
            "4/4 [==============================] - 0s 5ms/step - loss: 148.3245 - mae: 148.3245\n",
            "Epoch 34/100\n",
            "4/4 [==============================] - 0s 5ms/step - loss: 147.5234 - mae: 147.5234\n",
            "Epoch 35/100\n",
            "4/4 [==============================] - 0s 4ms/step - loss: 146.7283 - mae: 146.7283\n",
            "Epoch 36/100\n",
            "4/4 [==============================] - 0s 4ms/step - loss: 145.9267 - mae: 145.9267\n",
            "Epoch 37/100\n",
            "4/4 [==============================] - 0s 4ms/step - loss: 145.1020 - mae: 145.1020\n",
            "Epoch 38/100\n",
            "4/4 [==============================] - 0s 6ms/step - loss: 144.2810 - mae: 144.2810\n",
            "Epoch 39/100\n",
            "4/4 [==============================] - 0s 4ms/step - loss: 143.4480 - mae: 143.4480\n",
            "Epoch 40/100\n",
            "4/4 [==============================] - 0s 6ms/step - loss: 142.6136 - mae: 142.6136\n",
            "Epoch 41/100\n",
            "4/4 [==============================] - 0s 4ms/step - loss: 141.7625 - mae: 141.7625\n",
            "Epoch 42/100\n",
            "4/4 [==============================] - 0s 3ms/step - loss: 140.9398 - mae: 140.9398\n",
            "Epoch 43/100\n",
            "4/4 [==============================] - 0s 4ms/step - loss: 140.0996 - mae: 140.0996\n",
            "Epoch 44/100\n",
            "4/4 [==============================] - 0s 4ms/step - loss: 139.2672 - mae: 139.2672\n",
            "Epoch 45/100\n",
            "4/4 [==============================] - 0s 3ms/step - loss: 138.4306 - mae: 138.4306\n",
            "Epoch 46/100\n",
            "4/4 [==============================] - 0s 6ms/step - loss: 137.5968 - mae: 137.5968\n",
            "Epoch 47/100\n",
            "4/4 [==============================] - 0s 4ms/step - loss: 136.7749 - mae: 136.7749\n",
            "Epoch 48/100\n",
            "4/4 [==============================] - 0s 3ms/step - loss: 135.9470 - mae: 135.9470\n",
            "Epoch 49/100\n",
            "4/4 [==============================] - 0s 3ms/step - loss: 135.1294 - mae: 135.1294\n",
            "Epoch 50/100\n",
            "4/4 [==============================] - 0s 3ms/step - loss: 134.2871 - mae: 134.2871\n",
            "Epoch 51/100\n",
            "4/4 [==============================] - 0s 4ms/step - loss: 133.4534 - mae: 133.4534\n",
            "Epoch 52/100\n",
            "4/4 [==============================] - 0s 4ms/step - loss: 132.6033 - mae: 132.6033\n",
            "Epoch 53/100\n",
            "4/4 [==============================] - 0s 3ms/step - loss: 131.7679 - mae: 131.7679\n",
            "Epoch 54/100\n",
            "4/4 [==============================] - 0s 4ms/step - loss: 130.9288 - mae: 130.9288\n",
            "Epoch 55/100\n",
            "4/4 [==============================] - 0s 4ms/step - loss: 130.1071 - mae: 130.1071\n",
            "Epoch 56/100\n",
            "4/4 [==============================] - 0s 3ms/step - loss: 129.3014 - mae: 129.3014\n",
            "Epoch 57/100\n",
            "4/4 [==============================] - 0s 4ms/step - loss: 128.4819 - mae: 128.4819\n",
            "Epoch 58/100\n",
            "4/4 [==============================] - 0s 4ms/step - loss: 127.6613 - mae: 127.6613\n",
            "Epoch 59/100\n",
            "4/4 [==============================] - 0s 4ms/step - loss: 126.8381 - mae: 126.8381\n",
            "Epoch 60/100\n",
            "4/4 [==============================] - 0s 3ms/step - loss: 126.0018 - mae: 126.0018\n",
            "Epoch 61/100\n",
            "4/4 [==============================] - 0s 3ms/step - loss: 125.1901 - mae: 125.1901\n",
            "Epoch 62/100\n",
            "4/4 [==============================] - 0s 4ms/step - loss: 124.3711 - mae: 124.3711\n",
            "Epoch 63/100\n",
            "4/4 [==============================] - 0s 3ms/step - loss: 123.5454 - mae: 123.5454\n",
            "Epoch 64/100\n",
            "4/4 [==============================] - 0s 4ms/step - loss: 122.7099 - mae: 122.7099\n",
            "Epoch 65/100\n",
            "4/4 [==============================] - 0s 3ms/step - loss: 121.8763 - mae: 121.8763\n",
            "Epoch 66/100\n",
            "4/4 [==============================] - 0s 4ms/step - loss: 121.0499 - mae: 121.0499\n",
            "Epoch 67/100\n",
            "4/4 [==============================] - 0s 3ms/step - loss: 120.1950 - mae: 120.1950\n",
            "Epoch 68/100\n",
            "4/4 [==============================] - 0s 4ms/step - loss: 119.3848 - mae: 119.3848\n",
            "Epoch 69/100\n",
            "4/4 [==============================] - 0s 3ms/step - loss: 118.5543 - mae: 118.5543\n",
            "Epoch 70/100\n",
            "4/4 [==============================] - 0s 5ms/step - loss: 117.7330 - mae: 117.7330\n",
            "Epoch 71/100\n",
            "4/4 [==============================] - 0s 4ms/step - loss: 116.9107 - mae: 116.9107\n",
            "Epoch 72/100\n",
            "4/4 [==============================] - 0s 4ms/step - loss: 116.1046 - mae: 116.1046\n",
            "Epoch 73/100\n",
            "4/4 [==============================] - 0s 4ms/step - loss: 115.2652 - mae: 115.2652\n",
            "Epoch 74/100\n",
            "4/4 [==============================] - 0s 3ms/step - loss: 114.4261 - mae: 114.4261\n",
            "Epoch 75/100\n",
            "4/4 [==============================] - 0s 4ms/step - loss: 113.5850 - mae: 113.5850\n",
            "Epoch 76/100\n",
            "4/4 [==============================] - 0s 4ms/step - loss: 112.7563 - mae: 112.7563\n",
            "Epoch 77/100\n",
            "4/4 [==============================] - 0s 4ms/step - loss: 111.9229 - mae: 111.9229\n",
            "Epoch 78/100\n",
            "4/4 [==============================] - 0s 4ms/step - loss: 111.0664 - mae: 111.0664\n",
            "Epoch 79/100\n",
            "4/4 [==============================] - 0s 5ms/step - loss: 110.2221 - mae: 110.2221\n",
            "Epoch 80/100\n",
            "4/4 [==============================] - 0s 4ms/step - loss: 109.3884 - mae: 109.3884\n",
            "Epoch 81/100\n",
            "4/4 [==============================] - 0s 4ms/step - loss: 108.5510 - mae: 108.5510\n",
            "Epoch 82/100\n",
            "4/4 [==============================] - 0s 4ms/step - loss: 107.7294 - mae: 107.7294\n",
            "Epoch 83/100\n",
            "4/4 [==============================] - 0s 4ms/step - loss: 106.9312 - mae: 106.9312\n",
            "Epoch 84/100\n",
            "4/4 [==============================] - 0s 4ms/step - loss: 106.1436 - mae: 106.1436\n",
            "Epoch 85/100\n",
            "4/4 [==============================] - 0s 6ms/step - loss: 105.3387 - mae: 105.3387\n",
            "Epoch 86/100\n",
            "4/4 [==============================] - 0s 5ms/step - loss: 104.5253 - mae: 104.5253\n",
            "Epoch 87/100\n",
            "4/4 [==============================] - 0s 4ms/step - loss: 103.7267 - mae: 103.7267\n",
            "Epoch 88/100\n",
            "4/4 [==============================] - 0s 4ms/step - loss: 102.9018 - mae: 102.9018\n",
            "Epoch 89/100\n",
            "4/4 [==============================] - 0s 5ms/step - loss: 102.1263 - mae: 102.1263\n",
            "Epoch 90/100\n",
            "4/4 [==============================] - 0s 5ms/step - loss: 101.3141 - mae: 101.3141\n",
            "Epoch 91/100\n",
            "4/4 [==============================] - 0s 4ms/step - loss: 100.5002 - mae: 100.5002\n",
            "Epoch 92/100\n",
            "4/4 [==============================] - 0s 4ms/step - loss: 99.6725 - mae: 99.6725\n",
            "Epoch 93/100\n",
            "4/4 [==============================] - 0s 6ms/step - loss: 98.8381 - mae: 98.8381\n",
            "Epoch 94/100\n",
            "4/4 [==============================] - 0s 5ms/step - loss: 98.0310 - mae: 98.0310\n",
            "Epoch 95/100\n",
            "4/4 [==============================] - 0s 4ms/step - loss: 97.1934 - mae: 97.1934\n",
            "Epoch 96/100\n",
            "4/4 [==============================] - 0s 4ms/step - loss: 96.3540 - mae: 96.3540\n",
            "Epoch 97/100\n",
            "4/4 [==============================] - 0s 4ms/step - loss: 95.5276 - mae: 95.5276\n",
            "Epoch 98/100\n",
            "4/4 [==============================] - 0s 3ms/step - loss: 94.6977 - mae: 94.6977\n",
            "Epoch 99/100\n",
            "4/4 [==============================] - 0s 4ms/step - loss: 93.8574 - mae: 93.8574\n",
            "Epoch 100/100\n",
            "4/4 [==============================] - 0s 4ms/step - loss: 93.0308 - mae: 93.0308\n"
          ]
        },
        {
          "output_type": "execute_result",
          "data": {
            "text/plain": [
              "<keras.callbacks.History at 0x7f574b532140>"
            ]
          },
          "metadata": {},
          "execution_count": 37
        }
      ]
    },
    {
      "cell_type": "code",
      "source": [
        "plot_predictions(model_1.predict(X_test))"
      ],
      "metadata": {
        "id": "K-bk_EyaSo-k",
        "colab": {
          "base_uri": "https://localhost:8080/",
          "height": 650
        },
        "outputId": "54a52951-cfdb-40aa-8e7d-bfb44b49cea4"
      },
      "execution_count": 38,
      "outputs": [
        {
          "output_type": "stream",
          "name": "stderr",
          "text": [
            "WARNING:tensorflow:6 out of the last 6 calls to <function Model.make_predict_function.<locals>.predict_function at 0x7f574b3c6050> triggered tf.function retracing. Tracing is expensive and the excessive number of tracings could be due to (1) creating @tf.function repeatedly in a loop, (2) passing tensors with different shapes, (3) passing Python objects instead of tensors. For (1), please define your @tf.function outside of the loop. For (2), @tf.function has reduce_retracing=True option that can avoid unnecessary retracing. For (3), please refer to https://www.tensorflow.org/guide/function#controlling_retracing and https://www.tensorflow.org/api_docs/python/tf/function for  more details.\n"
          ]
        },
        {
          "output_type": "stream",
          "name": "stdout",
          "text": [
            "1/1 [==============================] - 0s 74ms/step\n"
          ]
        },
        {
          "output_type": "display_data",
          "data": {
            "text/plain": [
              "<Figure size 1600x900 with 1 Axes>"
            ],
            "image/png": "[encoded data removed]"
          },
          "metadata": {}
        }
      ]
    },
    {
      "cell_type": "code",
      "source": [
        "mae(y_test, model_1.predict(X_test))"
      ],
      "metadata": {
        "id": "7opizqg-TQhU",
        "colab": {
          "base_uri": "https://localhost:8080/"
        },
        "outputId": "61cde03b-eb63-40e6-8af2-72eb2956f146"
      },
      "execution_count": 39,
      "outputs": [
        {
          "output_type": "stream",
          "name": "stdout",
          "text": [
            "1/1 [==============================] - 0s 21ms/step\n"
          ]
        },
        {
          "output_type": "execute_result",
          "data": {
            "text/plain": [
              "167.96707"
            ]
          },
          "metadata": {},
          "execution_count": 39
        }
      ]
    },
    {
      "cell_type": "markdown",
      "source": [
        "`Build model_2`"
      ],
      "metadata": {
        "id": "wkAndyzuSVJv"
      }
    },
    {
      "cell_type": "code",
      "source": [
        "model_2 = tf.keras.models.Sequential([\n",
        "    tf.keras.layers.Dense(100,activation= 'relu'),\n",
        "    tf.keras.layers.Dense(100,activation= 'relu'),\n",
        "    tf.keras.layers.Dense(1)\n",
        "])\n",
        "\n",
        "model_2.compile(loss= 'mae',optimizer='adam',metrics=['mae'])\n",
        "\n",
        "model_2.fit(tf.expand_dims(X_train,axis= -1),y_train,epochs= 100)"
      ],
      "metadata": {
        "id": "Wkpf3NMmSncx",
        "colab": {
          "base_uri": "https://localhost:8080/"
        },
        "outputId": "8bbebb88-613e-4212-f58b-dea62e4efac8"
      },
      "execution_count": 40,
      "outputs": [
        {
          "output_type": "stream",
          "name": "stdout",
          "text": [
            "Epoch 1/100\n",
            "4/4 [==============================] - 1s 5ms/step - loss: 208.6080 - mae: 208.6080\n",
            "Epoch 2/100\n",
            "4/4 [==============================] - 0s 7ms/step - loss: 169.8380 - mae: 169.8380\n",
            "Epoch 3/100\n",
            "4/4 [==============================] - 0s 5ms/step - loss: 131.4592 - mae: 131.4592\n",
            "Epoch 4/100\n",
            "4/4 [==============================] - 0s 5ms/step - loss: 93.5562 - mae: 93.5562\n",
            "Epoch 5/100\n",
            "4/4 [==============================] - 0s 5ms/step - loss: 59.9772 - mae: 59.9772\n",
            "Epoch 6/100\n",
            "4/4 [==============================] - 0s 5ms/step - loss: 24.0413 - mae: 24.0413\n",
            "Epoch 7/100\n",
            "4/4 [==============================] - 0s 5ms/step - loss: 12.3640 - mae: 12.3640\n",
            "Epoch 8/100\n",
            "4/4 [==============================] - 0s 5ms/step - loss: 25.3788 - mae: 25.3788\n",
            "Epoch 9/100\n",
            "4/4 [==============================] - 0s 5ms/step - loss: 17.3907 - mae: 17.3907\n",
            "Epoch 10/100\n",
            "4/4 [==============================] - 0s 5ms/step - loss: 5.7004 - mae: 5.7004\n",
            "Epoch 11/100\n",
            "4/4 [==============================] - 0s 8ms/step - loss: 12.0892 - mae: 12.0892\n",
            "Epoch 12/100\n",
            "4/4 [==============================] - 0s 5ms/step - loss: 5.9510 - mae: 5.9510\n",
            "Epoch 13/100\n",
            "4/4 [==============================] - 0s 6ms/step - loss: 5.1616 - mae: 5.1616\n",
            "Epoch 14/100\n",
            "4/4 [==============================] - 0s 5ms/step - loss: 3.2988 - mae: 3.2988\n",
            "Epoch 15/100\n",
            "4/4 [==============================] - 0s 5ms/step - loss: 6.7283 - mae: 6.7283\n",
            "Epoch 16/100\n",
            "4/4 [==============================] - 0s 5ms/step - loss: 3.9005 - mae: 3.9005\n",
            "Epoch 17/100\n",
            "4/4 [==============================] - 0s 4ms/step - loss: 4.5278 - mae: 4.5278\n",
            "Epoch 18/100\n",
            "4/4 [==============================] - 0s 5ms/step - loss: 3.6926 - mae: 3.6926\n",
            "Epoch 19/100\n",
            "4/4 [==============================] - 0s 6ms/step - loss: 3.2720 - mae: 3.2720\n",
            "Epoch 20/100\n",
            "4/4 [==============================] - 0s 4ms/step - loss: 3.4464 - mae: 3.4464\n",
            "Epoch 21/100\n",
            "4/4 [==============================] - 0s 4ms/step - loss: 3.5300 - mae: 3.5300\n",
            "Epoch 22/100\n",
            "4/4 [==============================] - 0s 5ms/step - loss: 3.3695 - mae: 3.3695\n",
            "Epoch 23/100\n",
            "4/4 [==============================] - 0s 6ms/step - loss: 3.5468 - mae: 3.5468\n",
            "Epoch 24/100\n",
            "4/4 [==============================] - 0s 10ms/step - loss: 3.1806 - mae: 3.1806\n",
            "Epoch 25/100\n",
            "4/4 [==============================] - 0s 9ms/step - loss: 3.3578 - mae: 3.3578\n",
            "Epoch 26/100\n",
            "4/4 [==============================] - 0s 13ms/step - loss: 3.3221 - mae: 3.3221\n",
            "Epoch 27/100\n",
            "4/4 [==============================] - 0s 9ms/step - loss: 3.1868 - mae: 3.1868\n",
            "Epoch 28/100\n",
            "4/4 [==============================] - 0s 10ms/step - loss: 3.2457 - mae: 3.2457\n",
            "Epoch 29/100\n",
            "4/4 [==============================] - 0s 11ms/step - loss: 3.1958 - mae: 3.1958\n",
            "Epoch 30/100\n",
            "4/4 [==============================] - 0s 6ms/step - loss: 3.0751 - mae: 3.0751\n",
            "Epoch 31/100\n",
            "4/4 [==============================] - 0s 7ms/step - loss: 3.1564 - mae: 3.1564\n",
            "Epoch 32/100\n",
            "4/4 [==============================] - 0s 7ms/step - loss: 3.7036 - mae: 3.7036\n",
            "Epoch 33/100\n",
            "4/4 [==============================] - 0s 13ms/step - loss: 3.5916 - mae: 3.5916\n",
            "Epoch 34/100\n",
            "4/4 [==============================] - 0s 9ms/step - loss: 3.4219 - mae: 3.4219\n",
            "Epoch 35/100\n",
            "4/4 [==============================] - 0s 10ms/step - loss: 3.7438 - mae: 3.7438\n",
            "Epoch 36/100\n",
            "4/4 [==============================] - 0s 10ms/step - loss: 3.3006 - mae: 3.3006\n",
            "Epoch 37/100\n",
            "4/4 [==============================] - 0s 7ms/step - loss: 3.1970 - mae: 3.1970\n",
            "Epoch 38/100\n",
            "4/4 [==============================] - 0s 12ms/step - loss: 3.0995 - mae: 3.0995\n",
            "Epoch 39/100\n",
            "4/4 [==============================] - 0s 8ms/step - loss: 3.1266 - mae: 3.1266\n",
            "Epoch 40/100\n",
            "4/4 [==============================] - 0s 7ms/step - loss: 3.1782 - mae: 3.1782\n",
            "Epoch 41/100\n",
            "4/4 [==============================] - 0s 8ms/step - loss: 3.0767 - mae: 3.0767\n",
            "Epoch 42/100\n",
            "4/4 [==============================] - 0s 6ms/step - loss: 3.1461 - mae: 3.1461\n",
            "Epoch 43/100\n",
            "4/4 [==============================] - 0s 7ms/step - loss: 3.0724 - mae: 3.0724\n",
            "Epoch 44/100\n",
            "4/4 [==============================] - 0s 9ms/step - loss: 3.0838 - mae: 3.0838\n",
            "Epoch 45/100\n",
            "4/4 [==============================] - 0s 10ms/step - loss: 3.0650 - mae: 3.0650\n",
            "Epoch 46/100\n",
            "4/4 [==============================] - 0s 9ms/step - loss: 2.9671 - mae: 2.9671\n",
            "Epoch 47/100\n",
            "4/4 [==============================] - 0s 7ms/step - loss: 3.1498 - mae: 3.1498\n",
            "Epoch 48/100\n",
            "4/4 [==============================] - 0s 7ms/step - loss: 3.0874 - mae: 3.0874\n",
            "Epoch 49/100\n",
            "4/4 [==============================] - 0s 7ms/step - loss: 2.9592 - mae: 2.9592\n",
            "Epoch 50/100\n",
            "4/4 [==============================] - 0s 11ms/step - loss: 2.9993 - mae: 2.9993\n",
            "Epoch 51/100\n",
            "4/4 [==============================] - 0s 8ms/step - loss: 3.0686 - mae: 3.0686\n",
            "Epoch 52/100\n",
            "4/4 [==============================] - 0s 12ms/step - loss: 3.0186 - mae: 3.0186\n",
            "Epoch 53/100\n",
            "4/4 [==============================] - 0s 9ms/step - loss: 3.0707 - mae: 3.0707\n",
            "Epoch 54/100\n",
            "4/4 [==============================] - 0s 6ms/step - loss: 3.4488 - mae: 3.4488\n",
            "Epoch 55/100\n",
            "4/4 [==============================] - 0s 8ms/step - loss: 3.0786 - mae: 3.0786\n",
            "Epoch 56/100\n",
            "4/4 [==============================] - 0s 9ms/step - loss: 2.9157 - mae: 2.9157\n",
            "Epoch 57/100\n",
            "4/4 [==============================] - 0s 8ms/step - loss: 2.9047 - mae: 2.9047\n",
            "Epoch 58/100\n",
            "4/4 [==============================] - 0s 7ms/step - loss: 2.9664 - mae: 2.9664\n",
            "Epoch 59/100\n",
            "4/4 [==============================] - 0s 7ms/step - loss: 3.0434 - mae: 3.0434\n",
            "Epoch 60/100\n",
            "4/4 [==============================] - 0s 10ms/step - loss: 2.8294 - mae: 2.8294\n",
            "Epoch 61/100\n",
            "4/4 [==============================] - 0s 15ms/step - loss: 2.9997 - mae: 2.9997\n",
            "Epoch 62/100\n",
            "4/4 [==============================] - 0s 11ms/step - loss: 3.1738 - mae: 3.1738\n",
            "Epoch 63/100\n",
            "4/4 [==============================] - 0s 9ms/step - loss: 2.8578 - mae: 2.8578\n",
            "Epoch 64/100\n",
            "4/4 [==============================] - 0s 8ms/step - loss: 3.1736 - mae: 3.1736\n",
            "Epoch 65/100\n",
            "4/4 [==============================] - 0s 7ms/step - loss: 2.8103 - mae: 2.8103\n",
            "Epoch 66/100\n",
            "4/4 [==============================] - 0s 11ms/step - loss: 2.9354 - mae: 2.9354\n",
            "Epoch 67/100\n",
            "4/4 [==============================] - 0s 13ms/step - loss: 2.7724 - mae: 2.7724\n",
            "Epoch 68/100\n",
            "4/4 [==============================] - 0s 8ms/step - loss: 2.7901 - mae: 2.7901\n",
            "Epoch 69/100\n",
            "4/4 [==============================] - 0s 8ms/step - loss: 2.7740 - mae: 2.7740\n",
            "Epoch 70/100\n",
            "4/4 [==============================] - 0s 9ms/step - loss: 2.9129 - mae: 2.9129\n",
            "Epoch 71/100\n",
            "4/4 [==============================] - 0s 9ms/step - loss: 2.7877 - mae: 2.7877\n",
            "Epoch 72/100\n",
            "4/4 [==============================] - 0s 5ms/step - loss: 2.7441 - mae: 2.7441\n",
            "Epoch 73/100\n",
            "4/4 [==============================] - 0s 8ms/step - loss: 2.9321 - mae: 2.9321\n",
            "Epoch 74/100\n",
            "4/4 [==============================] - 0s 12ms/step - loss: 4.2494 - mae: 4.2494\n",
            "Epoch 75/100\n",
            "4/4 [==============================] - 0s 9ms/step - loss: 2.9855 - mae: 2.9855\n",
            "Epoch 76/100\n",
            "4/4 [==============================] - 0s 10ms/step - loss: 2.7515 - mae: 2.7515\n",
            "Epoch 77/100\n",
            "4/4 [==============================] - 0s 8ms/step - loss: 2.8193 - mae: 2.8193\n",
            "Epoch 78/100\n",
            "4/4 [==============================] - 0s 7ms/step - loss: 2.6921 - mae: 2.6921\n",
            "Epoch 79/100\n",
            "4/4 [==============================] - 0s 8ms/step - loss: 2.8373 - mae: 2.8373\n",
            "Epoch 80/100\n",
            "4/4 [==============================] - 0s 8ms/step - loss: 2.8794 - mae: 2.8794\n",
            "Epoch 81/100\n",
            "4/4 [==============================] - 0s 6ms/step - loss: 2.8942 - mae: 2.8942\n",
            "Epoch 82/100\n",
            "4/4 [==============================] - 0s 8ms/step - loss: 3.4477 - mae: 3.4477\n",
            "Epoch 83/100\n",
            "4/4 [==============================] - 0s 9ms/step - loss: 3.0583 - mae: 3.0583\n",
            "Epoch 84/100\n",
            "4/4 [==============================] - 0s 8ms/step - loss: 2.8647 - mae: 2.8647\n",
            "Epoch 85/100\n",
            "4/4 [==============================] - 0s 7ms/step - loss: 2.8367 - mae: 2.8367\n",
            "Epoch 86/100\n",
            "4/4 [==============================] - 0s 8ms/step - loss: 2.8691 - mae: 2.8691\n",
            "Epoch 87/100\n",
            "4/4 [==============================] - 0s 10ms/step - loss: 2.6727 - mae: 2.6727\n",
            "Epoch 88/100\n",
            "4/4 [==============================] - 0s 7ms/step - loss: 2.9326 - mae: 2.9326\n",
            "Epoch 89/100\n",
            "4/4 [==============================] - 0s 8ms/step - loss: 2.9990 - mae: 2.9990\n",
            "Epoch 90/100\n",
            "4/4 [==============================] - 0s 6ms/step - loss: 3.4860 - mae: 3.4860\n",
            "Epoch 91/100\n",
            "4/4 [==============================] - 0s 6ms/step - loss: 2.5828 - mae: 2.5828\n",
            "Epoch 92/100\n",
            "4/4 [==============================] - 0s 7ms/step - loss: 2.5989 - mae: 2.5989\n",
            "Epoch 93/100\n",
            "4/4 [==============================] - 0s 7ms/step - loss: 2.9214 - mae: 2.9214\n",
            "Epoch 94/100\n",
            "4/4 [==============================] - 0s 7ms/step - loss: 2.5132 - mae: 2.5132\n",
            "Epoch 95/100\n",
            "4/4 [==============================] - 0s 10ms/step - loss: 3.0659 - mae: 3.0659\n",
            "Epoch 96/100\n",
            "4/4 [==============================] - 0s 9ms/step - loss: 2.8165 - mae: 2.8165\n",
            "Epoch 97/100\n",
            "4/4 [==============================] - 0s 13ms/step - loss: 2.7103 - mae: 2.7103\n",
            "Epoch 98/100\n",
            "4/4 [==============================] - 0s 10ms/step - loss: 2.5612 - mae: 2.5612\n",
            "Epoch 99/100\n",
            "4/4 [==============================] - 0s 8ms/step - loss: 2.5771 - mae: 2.5771\n",
            "Epoch 100/100\n",
            "4/4 [==============================] - 0s 9ms/step - loss: 2.5465 - mae: 2.5465\n"
          ]
        },
        {
          "output_type": "execute_result",
          "data": {
            "text/plain": [
              "<keras.callbacks.History at 0x7f574b2bfbb0>"
            ]
          },
          "metadata": {},
          "execution_count": 40
        }
      ]
    },
    {
      "cell_type": "code",
      "source": [
        "plot_predictions(model_2.predict(X_test))"
      ],
      "metadata": {
        "id": "qQbwfwQIXewa",
        "colab": {
          "base_uri": "https://localhost:8080/",
          "height": 612
        },
        "outputId": "6537a5a4-a894-410c-b6ab-4e67e6524ab6"
      },
      "execution_count": 41,
      "outputs": [
        {
          "output_type": "stream",
          "name": "stdout",
          "text": [
            "1/1 [==============================] - 0s 58ms/step\n"
          ]
        },
        {
          "output_type": "display_data",
          "data": {
            "text/plain": [
              "<Figure size 1600x900 with 1 Axes>"
            ],
            "image/png": "[encoded data removed]"
          },
          "metadata": {}
        }
      ]
    },
    {
      "cell_type": "code",
      "source": [
        "mae(y_test,model_2.predict(X_test))"
      ],
      "metadata": {
        "id": "6SSjRfCzcwUb",
        "colab": {
          "base_uri": "https://localhost:8080/"
        },
        "outputId": "4a5d4173-0bf1-438d-9be8-28f1084ee0d8"
      },
      "execution_count": 42,
      "outputs": [
        {
          "output_type": "stream",
          "name": "stdout",
          "text": [
            "1/1 [==============================] - 0s 21ms/step\n"
          ]
        },
        {
          "output_type": "execute_result",
          "data": {
            "text/plain": [
              "4.699905"
            ]
          },
          "metadata": {},
          "execution_count": 42
        }
      ]
    },
    {
      "cell_type": "markdown",
      "source": [
        "`Build model_3`"
      ],
      "metadata": {
        "id": "2uNnh1i5XuMx"
      }
    },
    {
      "cell_type": "code",
      "source": [
        "model_3 = tf.keras.models.Sequential([\n",
        "    tf.keras.layers.Dense(100,activation= 'relu'),\n",
        "    tf.keras.layers.Dense(100,activation= 'relu'),\n",
        "    tf.keras.layers.Dense(100,activation= 'relu'),\n",
        "    tf.keras.layers.Dense(1)\n",
        "])\n",
        "\n",
        "model_3.compile(loss='mae',optimizer= 'adam',metrics=['mae'])\n",
        "\n",
        "model_3.fit(tf.expand_dims(X_train,axis=-1),y_train,epochs= 500)"
      ],
      "metadata": {
        "id": "C2zqIXBDc6ng",
        "colab": {
          "base_uri": "https://localhost:8080/"
        },
        "outputId": "81ad9b5d-9dc6-43e5-d638-d6101c621bfd"
      },
      "execution_count": 43,
      "outputs": [
        {
          "output_type": "stream",
          "name": "stdout",
          "text": [
            "Epoch 1/500\n",
            "4/4 [==============================] - 1s 5ms/step - loss: 222.9872 - mae: 222.9872\n",
            "Epoch 2/500\n",
            "4/4 [==============================] - 0s 5ms/step - loss: 192.3590 - mae: 192.3590\n",
            "Epoch 3/500\n",
            "4/4 [==============================] - 0s 5ms/step - loss: 167.6689 - mae: 167.6689\n",
            "Epoch 4/500\n",
            "4/4 [==============================] - 0s 5ms/step - loss: 139.6106 - mae: 139.6106\n",
            "Epoch 5/500\n",
            "4/4 [==============================] - 0s 7ms/step - loss: 105.8422 - mae: 105.8422\n",
            "Epoch 6/500\n",
            "4/4 [==============================] - 0s 5ms/step - loss: 64.7110 - mae: 64.7110\n",
            "Epoch 7/500\n",
            "4/4 [==============================] - 0s 5ms/step - loss: 14.3984 - mae: 14.3984\n",
            "Epoch 8/500\n",
            "4/4 [==============================] - 0s 5ms/step - loss: 25.5131 - mae: 25.5131\n",
            "Epoch 9/500\n",
            "4/4 [==============================] - 0s 5ms/step - loss: 17.1341 - mae: 17.1341\n",
            "Epoch 10/500\n",
            "4/4 [==============================] - 0s 5ms/step - loss: 9.1235 - mae: 9.1235\n",
            "Epoch 11/500\n",
            "4/4 [==============================] - 0s 5ms/step - loss: 11.6814 - mae: 11.6814\n",
            "Epoch 12/500\n",
            "4/4 [==============================] - 0s 5ms/step - loss: 5.3319 - mae: 5.3319\n",
            "Epoch 13/500\n",
            "4/4 [==============================] - 0s 5ms/step - loss: 6.3186 - mae: 6.3186\n",
            "Epoch 14/500\n",
            "4/4 [==============================] - 0s 5ms/step - loss: 6.8082 - mae: 6.8082\n",
            "Epoch 15/500\n",
            "4/4 [==============================] - 0s 4ms/step - loss: 3.8030 - mae: 3.8030\n",
            "Epoch 16/500\n",
            "4/4 [==============================] - 0s 5ms/step - loss: 5.1210 - mae: 5.1210\n",
            "Epoch 17/500\n",
            "4/4 [==============================] - 0s 5ms/step - loss: 4.5742 - mae: 4.5742\n",
            "Epoch 18/500\n",
            "4/4 [==============================] - 0s 5ms/step - loss: 5.2840 - mae: 5.2840\n",
            "Epoch 19/500\n",
            "4/4 [==============================] - 0s 5ms/step - loss: 3.8583 - mae: 3.8583\n",
            "Epoch 20/500\n",
            "4/4 [==============================] - 0s 5ms/step - loss: 5.5101 - mae: 5.5101\n",
            "Epoch 21/500\n",
            "4/4 [==============================] - 0s 5ms/step - loss: 5.7669 - mae: 5.7669\n",
            "Epoch 22/500\n",
            "4/4 [==============================] - 0s 5ms/step - loss: 3.8976 - mae: 3.8976\n",
            "Epoch 23/500\n",
            "4/4 [==============================] - 0s 5ms/step - loss: 3.8417 - mae: 3.8417\n",
            "Epoch 24/500\n",
            "4/4 [==============================] - 0s 5ms/step - loss: 3.9667 - mae: 3.9667\n",
            "Epoch 25/500\n",
            "4/4 [==============================] - 0s 5ms/step - loss: 3.4318 - mae: 3.4318\n",
            "Epoch 26/500\n",
            "4/4 [==============================] - 0s 5ms/step - loss: 3.5474 - mae: 3.5474\n",
            "Epoch 27/500\n",
            "4/4 [==============================] - 0s 6ms/step - loss: 3.0789 - mae: 3.0789\n",
            "Epoch 28/500\n",
            "4/4 [==============================] - 0s 6ms/step - loss: 3.1642 - mae: 3.1642\n",
            "Epoch 29/500\n",
            "4/4 [==============================] - 0s 6ms/step - loss: 3.3232 - mae: 3.3232\n",
            "Epoch 30/500\n",
            "4/4 [==============================] - 0s 6ms/step - loss: 3.4525 - mae: 3.4525\n",
            "Epoch 31/500\n",
            "4/4 [==============================] - 0s 5ms/step - loss: 3.0985 - mae: 3.0985\n",
            "Epoch 32/500\n",
            "4/4 [==============================] - 0s 5ms/step - loss: 3.0647 - mae: 3.0647\n",
            "Epoch 33/500\n",
            "4/4 [==============================] - 0s 5ms/step - loss: 3.4414 - mae: 3.4414\n",
            "Epoch 34/500\n",
            "4/4 [==============================] - 0s 5ms/step - loss: 3.1848 - mae: 3.1848\n",
            "Epoch 35/500\n",
            "4/4 [==============================] - 0s 6ms/step - loss: 3.0507 - mae: 3.0507\n",
            "Epoch 36/500\n",
            "4/4 [==============================] - 0s 5ms/step - loss: 3.1611 - mae: 3.1611\n",
            "Epoch 37/500\n",
            "4/4 [==============================] - 0s 6ms/step - loss: 3.0095 - mae: 3.0095\n",
            "Epoch 38/500\n",
            "4/4 [==============================] - 0s 5ms/step - loss: 3.0723 - mae: 3.0723\n",
            "Epoch 39/500\n",
            "4/4 [==============================] - 0s 5ms/step - loss: 2.9241 - mae: 2.9241\n",
            "Epoch 40/500\n",
            "4/4 [==============================] - 0s 5ms/step - loss: 3.1018 - mae: 3.1018\n",
            "Epoch 41/500\n",
            "4/4 [==============================] - 0s 5ms/step - loss: 3.0239 - mae: 3.0239\n",
            "Epoch 42/500\n",
            "4/4 [==============================] - 0s 5ms/step - loss: 2.9671 - mae: 2.9671\n",
            "Epoch 43/500\n",
            "4/4 [==============================] - 0s 5ms/step - loss: 2.9732 - mae: 2.9732\n",
            "Epoch 44/500\n",
            "4/4 [==============================] - 0s 5ms/step - loss: 2.9972 - mae: 2.9972\n",
            "Epoch 45/500\n",
            "4/4 [==============================] - 0s 5ms/step - loss: 3.4019 - mae: 3.4019\n",
            "Epoch 46/500\n",
            "4/4 [==============================] - 0s 5ms/step - loss: 3.1674 - mae: 3.1674\n",
            "Epoch 47/500\n",
            "4/4 [==============================] - 0s 5ms/step - loss: 2.9682 - mae: 2.9682\n",
            "Epoch 48/500\n",
            "4/4 [==============================] - 0s 5ms/step - loss: 3.7974 - mae: 3.7974\n",
            "Epoch 49/500\n",
            "4/4 [==============================] - 0s 5ms/step - loss: 3.5899 - mae: 3.5899\n",
            "Epoch 50/500\n",
            "4/4 [==============================] - 0s 5ms/step - loss: 3.1195 - mae: 3.1195\n",
            "Epoch 51/500\n",
            "4/4 [==============================] - 0s 5ms/step - loss: 2.9058 - mae: 2.9058\n",
            "Epoch 52/500\n",
            "4/4 [==============================] - 0s 5ms/step - loss: 3.5480 - mae: 3.5480\n",
            "Epoch 53/500\n",
            "4/4 [==============================] - 0s 5ms/step - loss: 3.0838 - mae: 3.0838\n",
            "Epoch 54/500\n",
            "4/4 [==============================] - 0s 5ms/step - loss: 3.3895 - mae: 3.3895\n",
            "Epoch 55/500\n",
            "4/4 [==============================] - 0s 5ms/step - loss: 3.0315 - mae: 3.0315\n",
            "Epoch 56/500\n",
            "4/4 [==============================] - 0s 5ms/step - loss: 2.8138 - mae: 2.8138\n",
            "Epoch 57/500\n",
            "4/4 [==============================] - 0s 5ms/step - loss: 3.1173 - mae: 3.1173\n",
            "Epoch 58/500\n",
            "4/4 [==============================] - 0s 5ms/step - loss: 3.1571 - mae: 3.1571\n",
            "Epoch 59/500\n",
            "4/4 [==============================] - 0s 6ms/step - loss: 3.3119 - mae: 3.3119\n",
            "Epoch 60/500\n",
            "4/4 [==============================] - 0s 5ms/step - loss: 2.6989 - mae: 2.6989\n",
            "Epoch 61/500\n",
            "4/4 [==============================] - 0s 5ms/step - loss: 2.9273 - mae: 2.9273\n",
            "Epoch 62/500\n",
            "4/4 [==============================] - 0s 5ms/step - loss: 2.8463 - mae: 2.8463\n",
            "Epoch 63/500\n",
            "4/4 [==============================] - 0s 5ms/step - loss: 3.1852 - mae: 3.1852\n",
            "Epoch 64/500\n",
            "4/4 [==============================] - 0s 5ms/step - loss: 2.8912 - mae: 2.8912\n",
            "Epoch 65/500\n",
            "4/4 [==============================] - 0s 5ms/step - loss: 2.9590 - mae: 2.9590\n",
            "Epoch 66/500\n",
            "4/4 [==============================] - 0s 5ms/step - loss: 3.1534 - mae: 3.1534\n",
            "Epoch 67/500\n",
            "4/4 [==============================] - 0s 5ms/step - loss: 4.3590 - mae: 4.3590\n",
            "Epoch 68/500\n",
            "4/4 [==============================] - 0s 5ms/step - loss: 4.0630 - mae: 4.0630\n",
            "Epoch 69/500\n",
            "4/4 [==============================] - 0s 5ms/step - loss: 3.5763 - mae: 3.5763\n",
            "Epoch 70/500\n",
            "4/4 [==============================] - 0s 5ms/step - loss: 3.4568 - mae: 3.4568\n",
            "Epoch 71/500\n",
            "4/4 [==============================] - 0s 5ms/step - loss: 3.3112 - mae: 3.3112\n",
            "Epoch 72/500\n",
            "4/4 [==============================] - 0s 5ms/step - loss: 3.0795 - mae: 3.0795\n",
            "Epoch 73/500\n",
            "4/4 [==============================] - 0s 5ms/step - loss: 2.7199 - mae: 2.7199\n",
            "Epoch 74/500\n",
            "4/4 [==============================] - 0s 5ms/step - loss: 2.7995 - mae: 2.7995\n",
            "Epoch 75/500\n",
            "4/4 [==============================] - 0s 5ms/step - loss: 2.8709 - mae: 2.8709\n",
            "Epoch 76/500\n",
            "4/4 [==============================] - 0s 5ms/step - loss: 3.4546 - mae: 3.4546\n",
            "Epoch 77/500\n",
            "4/4 [==============================] - 0s 5ms/step - loss: 3.2077 - mae: 3.2077\n",
            "Epoch 78/500\n",
            "4/4 [==============================] - 0s 6ms/step - loss: 2.6020 - mae: 2.6020\n",
            "Epoch 79/500\n",
            "4/4 [==============================] - 0s 5ms/step - loss: 2.6672 - mae: 2.6672\n",
            "Epoch 80/500\n",
            "4/4 [==============================] - 0s 6ms/step - loss: 3.7334 - mae: 3.7334\n",
            "Epoch 81/500\n",
            "4/4 [==============================] - 0s 6ms/step - loss: 3.4736 - mae: 3.4736\n",
            "Epoch 82/500\n",
            "4/4 [==============================] - 0s 6ms/step - loss: 3.9436 - mae: 3.9436\n",
            "Epoch 83/500\n",
            "4/4 [==============================] - 0s 6ms/step - loss: 5.8801 - mae: 5.8801\n",
            "Epoch 84/500\n",
            "4/4 [==============================] - 0s 5ms/step - loss: 3.5799 - mae: 3.5799\n",
            "Epoch 85/500\n",
            "4/4 [==============================] - 0s 7ms/step - loss: 3.3229 - mae: 3.3229\n",
            "Epoch 86/500\n",
            "4/4 [==============================] - 0s 7ms/step - loss: 2.8519 - mae: 2.8519\n",
            "Epoch 87/500\n",
            "4/4 [==============================] - 0s 6ms/step - loss: 2.5042 - mae: 2.5042\n",
            "Epoch 88/500\n",
            "4/4 [==============================] - 0s 7ms/step - loss: 2.9842 - mae: 2.9842\n",
            "Epoch 89/500\n",
            "4/4 [==============================] - 0s 5ms/step - loss: 3.2152 - mae: 3.2152\n",
            "Epoch 90/500\n",
            "4/4 [==============================] - 0s 5ms/step - loss: 2.9436 - mae: 2.9436\n",
            "Epoch 91/500\n",
            "4/4 [==============================] - 0s 5ms/step - loss: 2.4230 - mae: 2.4230\n",
            "Epoch 92/500\n",
            "4/4 [==============================] - 0s 6ms/step - loss: 3.0311 - mae: 3.0311\n",
            "Epoch 93/500\n",
            "4/4 [==============================] - 0s 5ms/step - loss: 4.4477 - mae: 4.4477\n",
            "Epoch 94/500\n",
            "4/4 [==============================] - 0s 6ms/step - loss: 2.6711 - mae: 2.6711\n",
            "Epoch 95/500\n",
            "4/4 [==============================] - 0s 5ms/step - loss: 2.4502 - mae: 2.4502\n",
            "Epoch 96/500\n",
            "4/4 [==============================] - 0s 5ms/step - loss: 3.4783 - mae: 3.4783\n",
            "Epoch 97/500\n",
            "4/4 [==============================] - 0s 6ms/step - loss: 2.3917 - mae: 2.3917\n",
            "Epoch 98/500\n",
            "4/4 [==============================] - 0s 6ms/step - loss: 2.4508 - mae: 2.4508\n",
            "Epoch 99/500\n",
            "4/4 [==============================] - 0s 6ms/step - loss: 2.6770 - mae: 2.6770\n",
            "Epoch 100/500\n",
            "4/4 [==============================] - 0s 7ms/step - loss: 2.9699 - mae: 2.9699\n",
            "Epoch 101/500\n",
            "4/4 [==============================] - 0s 5ms/step - loss: 3.1651 - mae: 3.1651\n",
            "Epoch 102/500\n",
            "4/4 [==============================] - 0s 5ms/step - loss: 4.7819 - mae: 4.7819\n",
            "Epoch 103/500\n",
            "4/4 [==============================] - 0s 6ms/step - loss: 5.6456 - mae: 5.6456\n",
            "Epoch 104/500\n",
            "4/4 [==============================] - 0s 5ms/step - loss: 4.2677 - mae: 4.2677\n",
            "Epoch 105/500\n",
            "4/4 [==============================] - 0s 5ms/step - loss: 3.4684 - mae: 3.4684\n",
            "Epoch 106/500\n",
            "4/4 [==============================] - 0s 5ms/step - loss: 3.1221 - mae: 3.1221\n",
            "Epoch 107/500\n",
            "4/4 [==============================] - 0s 5ms/step - loss: 3.2352 - mae: 3.2352\n",
            "Epoch 108/500\n",
            "4/4 [==============================] - 0s 4ms/step - loss: 4.2077 - mae: 4.2077\n",
            "Epoch 109/500\n",
            "4/4 [==============================] - 0s 5ms/step - loss: 6.1509 - mae: 6.1509\n",
            "Epoch 110/500\n",
            "4/4 [==============================] - 0s 5ms/step - loss: 4.6923 - mae: 4.6923\n",
            "Epoch 111/500\n",
            "4/4 [==============================] - 0s 5ms/step - loss: 4.3750 - mae: 4.3750\n",
            "Epoch 112/500\n",
            "4/4 [==============================] - 0s 5ms/step - loss: 3.2227 - mae: 3.2227\n",
            "Epoch 113/500\n",
            "4/4 [==============================] - 0s 5ms/step - loss: 4.8640 - mae: 4.8640\n",
            "Epoch 114/500\n",
            "4/4 [==============================] - 0s 6ms/step - loss: 7.9733 - mae: 7.9733\n",
            "Epoch 115/500\n",
            "4/4 [==============================] - 0s 6ms/step - loss: 4.3294 - mae: 4.3294\n",
            "Epoch 116/500\n",
            "4/4 [==============================] - 0s 5ms/step - loss: 3.7756 - mae: 3.7756\n",
            "Epoch 117/500\n",
            "4/4 [==============================] - 0s 5ms/step - loss: 4.9388 - mae: 4.9388\n",
            "Epoch 118/500\n",
            "4/4 [==============================] - 0s 5ms/step - loss: 3.0281 - mae: 3.0281\n",
            "Epoch 119/500\n",
            "4/4 [==============================] - 0s 7ms/step - loss: 2.8480 - mae: 2.8480\n",
            "Epoch 120/500\n",
            "4/4 [==============================] - 0s 6ms/step - loss: 2.6678 - mae: 2.6678\n",
            "Epoch 121/500\n",
            "4/4 [==============================] - 0s 6ms/step - loss: 2.2602 - mae: 2.2602\n",
            "Epoch 122/500\n",
            "4/4 [==============================] - 0s 5ms/step - loss: 2.3664 - mae: 2.3664\n",
            "Epoch 123/500\n",
            "4/4 [==============================] - 0s 5ms/step - loss: 2.1698 - mae: 2.1698\n",
            "Epoch 124/500\n",
            "4/4 [==============================] - 0s 5ms/step - loss: 2.2187 - mae: 2.2187\n",
            "Epoch 125/500\n",
            "4/4 [==============================] - 0s 5ms/step - loss: 2.4429 - mae: 2.4429\n",
            "Epoch 126/500\n",
            "4/4 [==============================] - 0s 5ms/step - loss: 2.9756 - mae: 2.9756\n",
            "Epoch 127/500\n",
            "4/4 [==============================] - 0s 5ms/step - loss: 2.9039 - mae: 2.9039\n",
            "Epoch 128/500\n",
            "4/4 [==============================] - 0s 5ms/step - loss: 2.5458 - mae: 2.5458\n",
            "Epoch 129/500\n",
            "4/4 [==============================] - 0s 5ms/step - loss: 2.1734 - mae: 2.1734\n",
            "Epoch 130/500\n",
            "4/4 [==============================] - 0s 5ms/step - loss: 2.1148 - mae: 2.1148\n",
            "Epoch 131/500\n",
            "4/4 [==============================] - 0s 5ms/step - loss: 2.4450 - mae: 2.4450\n",
            "Epoch 132/500\n",
            "4/4 [==============================] - 0s 5ms/step - loss: 2.5392 - mae: 2.5392\n",
            "Epoch 133/500\n",
            "4/4 [==============================] - 0s 5ms/step - loss: 3.4764 - mae: 3.4764\n",
            "Epoch 134/500\n",
            "4/4 [==============================] - 0s 7ms/step - loss: 2.1894 - mae: 2.1894\n",
            "Epoch 135/500\n",
            "4/4 [==============================] - 0s 5ms/step - loss: 2.1470 - mae: 2.1470\n",
            "Epoch 136/500\n",
            "4/4 [==============================] - 0s 6ms/step - loss: 2.1205 - mae: 2.1205\n",
            "Epoch 137/500\n",
            "4/4 [==============================] - 0s 5ms/step - loss: 2.0824 - mae: 2.0824\n",
            "Epoch 138/500\n",
            "4/4 [==============================] - 0s 5ms/step - loss: 2.6371 - mae: 2.6371\n",
            "Epoch 139/500\n",
            "4/4 [==============================] - 0s 6ms/step - loss: 2.0459 - mae: 2.0459\n",
            "Epoch 140/500\n",
            "4/4 [==============================] - 0s 8ms/step - loss: 2.4413 - mae: 2.4413\n",
            "Epoch 141/500\n",
            "4/4 [==============================] - 0s 6ms/step - loss: 1.9522 - mae: 1.9522\n",
            "Epoch 142/500\n",
            "4/4 [==============================] - 0s 6ms/step - loss: 1.9461 - mae: 1.9461\n",
            "Epoch 143/500\n",
            "4/4 [==============================] - 0s 5ms/step - loss: 1.9152 - mae: 1.9152\n",
            "Epoch 144/500\n",
            "4/4 [==============================] - 0s 7ms/step - loss: 2.0413 - mae: 2.0413\n",
            "Epoch 145/500\n",
            "4/4 [==============================] - 0s 6ms/step - loss: 2.8474 - mae: 2.8474\n",
            "Epoch 146/500\n",
            "4/4 [==============================] - 0s 4ms/step - loss: 2.4177 - mae: 2.4177\n",
            "Epoch 147/500\n",
            "4/4 [==============================] - 0s 5ms/step - loss: 2.1118 - mae: 2.1118\n",
            "Epoch 148/500\n",
            "4/4 [==============================] - 0s 5ms/step - loss: 1.9178 - mae: 1.9178\n",
            "Epoch 149/500\n",
            "4/4 [==============================] - 0s 5ms/step - loss: 2.8870 - mae: 2.8870\n",
            "Epoch 150/500\n",
            "4/4 [==============================] - 0s 4ms/step - loss: 1.8870 - mae: 1.8870\n",
            "Epoch 151/500\n",
            "4/4 [==============================] - 0s 5ms/step - loss: 1.8277 - mae: 1.8277\n",
            "Epoch 152/500\n",
            "4/4 [==============================] - 0s 6ms/step - loss: 2.0434 - mae: 2.0434\n",
            "Epoch 153/500\n",
            "4/4 [==============================] - 0s 5ms/step - loss: 1.7994 - mae: 1.7994\n",
            "Epoch 154/500\n",
            "4/4 [==============================] - 0s 5ms/step - loss: 2.0032 - mae: 2.0032\n",
            "Epoch 155/500\n",
            "4/4 [==============================] - 0s 5ms/step - loss: 2.1866 - mae: 2.1866\n",
            "Epoch 156/500\n",
            "4/4 [==============================] - 0s 5ms/step - loss: 1.9213 - mae: 1.9213\n",
            "Epoch 157/500\n",
            "4/4 [==============================] - 0s 6ms/step - loss: 2.0373 - mae: 2.0373\n",
            "Epoch 158/500\n",
            "4/4 [==============================] - 0s 5ms/step - loss: 1.9249 - mae: 1.9249\n",
            "Epoch 159/500\n",
            "4/4 [==============================] - 0s 5ms/step - loss: 2.4699 - mae: 2.4699\n",
            "Epoch 160/500\n",
            "4/4 [==============================] - 0s 5ms/step - loss: 4.5626 - mae: 4.5626\n",
            "Epoch 161/500\n",
            "4/4 [==============================] - 0s 5ms/step - loss: 3.4247 - mae: 3.4247\n",
            "Epoch 162/500\n",
            "4/4 [==============================] - 0s 5ms/step - loss: 1.9617 - mae: 1.9617\n",
            "Epoch 163/500\n",
            "4/4 [==============================] - 0s 5ms/step - loss: 2.2989 - mae: 2.2989\n",
            "Epoch 164/500\n",
            "4/4 [==============================] - 0s 5ms/step - loss: 1.9755 - mae: 1.9755\n",
            "Epoch 165/500\n",
            "4/4 [==============================] - 0s 5ms/step - loss: 1.9024 - mae: 1.9024\n",
            "Epoch 166/500\n",
            "4/4 [==============================] - 0s 5ms/step - loss: 2.0350 - mae: 2.0350\n",
            "Epoch 167/500\n",
            "4/4 [==============================] - 0s 5ms/step - loss: 2.5465 - mae: 2.5465\n",
            "Epoch 168/500\n",
            "4/4 [==============================] - 0s 5ms/step - loss: 3.7480 - mae: 3.7480\n",
            "Epoch 169/500\n",
            "4/4 [==============================] - 0s 5ms/step - loss: 3.1159 - mae: 3.1159\n",
            "Epoch 170/500\n",
            "4/4 [==============================] - 0s 5ms/step - loss: 2.5618 - mae: 2.5618\n",
            "Epoch 171/500\n",
            "4/4 [==============================] - 0s 6ms/step - loss: 2.1964 - mae: 2.1964\n",
            "Epoch 172/500\n",
            "4/4 [==============================] - 0s 4ms/step - loss: 2.3808 - mae: 2.3808\n",
            "Epoch 173/500\n",
            "4/4 [==============================] - 0s 7ms/step - loss: 1.6649 - mae: 1.6649\n",
            "Epoch 174/500\n",
            "4/4 [==============================] - 0s 5ms/step - loss: 1.6324 - mae: 1.6324\n",
            "Epoch 175/500\n",
            "4/4 [==============================] - 0s 4ms/step - loss: 1.5725 - mae: 1.5725\n",
            "Epoch 176/500\n",
            "4/4 [==============================] - 0s 4ms/step - loss: 2.2657 - mae: 2.2657\n",
            "Epoch 177/500\n",
            "4/4 [==============================] - 0s 5ms/step - loss: 1.9393 - mae: 1.9393\n",
            "Epoch 178/500\n",
            "4/4 [==============================] - 0s 5ms/step - loss: 1.5880 - mae: 1.5880\n",
            "Epoch 179/500\n",
            "4/4 [==============================] - 0s 4ms/step - loss: 1.6654 - mae: 1.6654\n",
            "Epoch 180/500\n",
            "4/4 [==============================] - 0s 6ms/step - loss: 1.7166 - mae: 1.7166\n",
            "Epoch 181/500\n",
            "4/4 [==============================] - 0s 4ms/step - loss: 1.6768 - mae: 1.6768\n",
            "Epoch 182/500\n",
            "4/4 [==============================] - 0s 6ms/step - loss: 1.5913 - mae: 1.5913\n",
            "Epoch 183/500\n",
            "4/4 [==============================] - 0s 5ms/step - loss: 3.7248 - mae: 3.7248\n",
            "Epoch 184/500\n",
            "4/4 [==============================] - 0s 6ms/step - loss: 1.7306 - mae: 1.7306\n",
            "Epoch 185/500\n",
            "4/4 [==============================] - 0s 6ms/step - loss: 1.7330 - mae: 1.7330\n",
            "Epoch 186/500\n",
            "4/4 [==============================] - 0s 5ms/step - loss: 1.5131 - mae: 1.5131\n",
            "Epoch 187/500\n",
            "4/4 [==============================] - 0s 5ms/step - loss: 1.6230 - mae: 1.6230\n",
            "Epoch 188/500\n",
            "4/4 [==============================] - 0s 5ms/step - loss: 1.6062 - mae: 1.6062\n",
            "Epoch 189/500\n",
            "4/4 [==============================] - 0s 5ms/step - loss: 1.5772 - mae: 1.5772\n",
            "Epoch 190/500\n",
            "4/4 [==============================] - 0s 5ms/step - loss: 2.1115 - mae: 2.1115\n",
            "Epoch 191/500\n",
            "4/4 [==============================] - 0s 6ms/step - loss: 1.4740 - mae: 1.4740\n",
            "Epoch 192/500\n",
            "4/4 [==============================] - 0s 6ms/step - loss: 2.8096 - mae: 2.8096\n",
            "Epoch 193/500\n",
            "4/4 [==============================] - 0s 7ms/step - loss: 4.3805 - mae: 4.3805\n",
            "Epoch 194/500\n",
            "4/4 [==============================] - 0s 5ms/step - loss: 5.4505 - mae: 5.4505\n",
            "Epoch 195/500\n",
            "4/4 [==============================] - 0s 7ms/step - loss: 3.1086 - mae: 3.1086\n",
            "Epoch 196/500\n",
            "4/4 [==============================] - 0s 6ms/step - loss: 3.6286 - mae: 3.6286\n",
            "Epoch 197/500\n",
            "4/4 [==============================] - 0s 6ms/step - loss: 2.4937 - mae: 2.4937\n",
            "Epoch 198/500\n",
            "4/4 [==============================] - 0s 7ms/step - loss: 2.5215 - mae: 2.5215\n",
            "Epoch 199/500\n",
            "4/4 [==============================] - 0s 5ms/step - loss: 2.3553 - mae: 2.3553\n",
            "Epoch 200/500\n",
            "4/4 [==============================] - 0s 5ms/step - loss: 1.7891 - mae: 1.7891\n",
            "Epoch 201/500\n",
            "4/4 [==============================] - 0s 5ms/step - loss: 1.9126 - mae: 1.9126\n",
            "Epoch 202/500\n",
            "4/4 [==============================] - 0s 5ms/step - loss: 1.9764 - mae: 1.9764\n",
            "Epoch 203/500\n",
            "4/4 [==============================] - 0s 6ms/step - loss: 2.2510 - mae: 2.2510\n",
            "Epoch 204/500\n",
            "4/4 [==============================] - 0s 5ms/step - loss: 1.6322 - mae: 1.6322\n",
            "Epoch 205/500\n",
            "4/4 [==============================] - 0s 6ms/step - loss: 1.8923 - mae: 1.8923\n",
            "Epoch 206/500\n",
            "4/4 [==============================] - 0s 5ms/step - loss: 1.6899 - mae: 1.6899\n",
            "Epoch 207/500\n",
            "4/4 [==============================] - 0s 6ms/step - loss: 1.6289 - mae: 1.6289\n",
            "Epoch 208/500\n",
            "4/4 [==============================] - 0s 6ms/step - loss: 1.9745 - mae: 1.9745\n",
            "Epoch 209/500\n",
            "4/4 [==============================] - 0s 5ms/step - loss: 1.7176 - mae: 1.7176\n",
            "Epoch 210/500\n",
            "4/4 [==============================] - 0s 4ms/step - loss: 1.9142 - mae: 1.9142\n",
            "Epoch 211/500\n",
            "4/4 [==============================] - 0s 5ms/step - loss: 1.9018 - mae: 1.9018\n",
            "Epoch 212/500\n",
            "4/4 [==============================] - 0s 5ms/step - loss: 1.7980 - mae: 1.7980\n",
            "Epoch 213/500\n",
            "4/4 [==============================] - 0s 5ms/step - loss: 2.2262 - mae: 2.2262\n",
            "Epoch 214/500\n",
            "4/4 [==============================] - 0s 7ms/step - loss: 2.4811 - mae: 2.4811\n",
            "Epoch 215/500\n",
            "4/4 [==============================] - 0s 5ms/step - loss: 2.4787 - mae: 2.4787\n",
            "Epoch 216/500\n",
            "4/4 [==============================] - 0s 5ms/step - loss: 2.1872 - mae: 2.1872\n",
            "Epoch 217/500\n",
            "4/4 [==============================] - 0s 4ms/step - loss: 1.7623 - mae: 1.7623\n",
            "Epoch 218/500\n",
            "4/4 [==============================] - 0s 5ms/step - loss: 1.3360 - mae: 1.3360\n",
            "Epoch 219/500\n",
            "4/4 [==============================] - 0s 5ms/step - loss: 1.6908 - mae: 1.6908\n",
            "Epoch 220/500\n",
            "4/4 [==============================] - 0s 4ms/step - loss: 1.7131 - mae: 1.7131\n",
            "Epoch 221/500\n",
            "4/4 [==============================] - 0s 4ms/step - loss: 1.3826 - mae: 1.3826\n",
            "Epoch 222/500\n",
            "4/4 [==============================] - 0s 4ms/step - loss: 1.6819 - mae: 1.6819\n",
            "Epoch 223/500\n",
            "4/4 [==============================] - 0s 5ms/step - loss: 1.4920 - mae: 1.4920\n",
            "Epoch 224/500\n",
            "4/4 [==============================] - 0s 6ms/step - loss: 2.8585 - mae: 2.8585\n",
            "Epoch 225/500\n",
            "4/4 [==============================] - 0s 4ms/step - loss: 1.6679 - mae: 1.6679\n",
            "Epoch 226/500\n",
            "4/4 [==============================] - 0s 4ms/step - loss: 1.8038 - mae: 1.8038\n",
            "Epoch 227/500\n",
            "4/4 [==============================] - 0s 5ms/step - loss: 1.5289 - mae: 1.5289\n",
            "Epoch 228/500\n",
            "4/4 [==============================] - 0s 4ms/step - loss: 1.3915 - mae: 1.3915\n",
            "Epoch 229/500\n",
            "4/4 [==============================] - 0s 5ms/step - loss: 1.6178 - mae: 1.6178\n",
            "Epoch 230/500\n",
            "4/4 [==============================] - 0s 5ms/step - loss: 1.6358 - mae: 1.6358\n",
            "Epoch 231/500\n",
            "4/4 [==============================] - 0s 5ms/step - loss: 1.7495 - mae: 1.7495\n",
            "Epoch 232/500\n",
            "4/4 [==============================] - 0s 5ms/step - loss: 3.9325 - mae: 3.9325\n",
            "Epoch 233/500\n",
            "4/4 [==============================] - 0s 5ms/step - loss: 4.8920 - mae: 4.8920\n",
            "Epoch 234/500\n",
            "4/4 [==============================] - 0s 5ms/step - loss: 3.3795 - mae: 3.3795\n",
            "Epoch 235/500\n",
            "4/4 [==============================] - 0s 5ms/step - loss: 3.1971 - mae: 3.1971\n",
            "Epoch 236/500\n",
            "4/4 [==============================] - 0s 5ms/step - loss: 2.7366 - mae: 2.7366\n",
            "Epoch 237/500\n",
            "4/4 [==============================] - 0s 5ms/step - loss: 2.9435 - mae: 2.9435\n",
            "Epoch 238/500\n",
            "4/4 [==============================] - 0s 5ms/step - loss: 1.8237 - mae: 1.8237\n",
            "Epoch 239/500\n",
            "4/4 [==============================] - 0s 4ms/step - loss: 1.9598 - mae: 1.9598\n",
            "Epoch 240/500\n",
            "4/4 [==============================] - 0s 5ms/step - loss: 2.3692 - mae: 2.3692\n",
            "Epoch 241/500\n",
            "4/4 [==============================] - 0s 5ms/step - loss: 3.0697 - mae: 3.0697\n",
            "Epoch 242/500\n",
            "4/4 [==============================] - 0s 5ms/step - loss: 1.2866 - mae: 1.2866\n",
            "Epoch 243/500\n",
            "4/4 [==============================] - 0s 4ms/step - loss: 0.9994 - mae: 0.9994\n",
            "Epoch 244/500\n",
            "4/4 [==============================] - 0s 5ms/step - loss: 1.7914 - mae: 1.7914\n",
            "Epoch 245/500\n",
            "4/4 [==============================] - 0s 5ms/step - loss: 1.1680 - mae: 1.1680\n",
            "Epoch 246/500\n",
            "4/4 [==============================] - 0s 5ms/step - loss: 1.1352 - mae: 1.1352\n",
            "Epoch 247/500\n",
            "4/4 [==============================] - 0s 4ms/step - loss: 1.3374 - mae: 1.3374\n",
            "Epoch 248/500\n",
            "4/4 [==============================] - 0s 7ms/step - loss: 1.3758 - mae: 1.3758\n",
            "Epoch 249/500\n",
            "4/4 [==============================] - 0s 10ms/step - loss: 1.3060 - mae: 1.3060\n",
            "Epoch 250/500\n",
            "4/4 [==============================] - 0s 8ms/step - loss: 2.1095 - mae: 2.1095\n",
            "Epoch 251/500\n",
            "4/4 [==============================] - 0s 5ms/step - loss: 1.3919 - mae: 1.3919\n",
            "Epoch 252/500\n",
            "4/4 [==============================] - 0s 5ms/step - loss: 1.1032 - mae: 1.1032\n",
            "Epoch 253/500\n",
            "4/4 [==============================] - 0s 5ms/step - loss: 0.9176 - mae: 0.9176\n",
            "Epoch 254/500\n",
            "4/4 [==============================] - 0s 4ms/step - loss: 1.2784 - mae: 1.2784\n",
            "Epoch 255/500\n",
            "4/4 [==============================] - 0s 7ms/step - loss: 1.4939 - mae: 1.4939\n",
            "Epoch 256/500\n",
            "4/4 [==============================] - 0s 7ms/step - loss: 1.3966 - mae: 1.3966\n",
            "Epoch 257/500\n",
            "4/4 [==============================] - 0s 5ms/step - loss: 1.5880 - mae: 1.5880\n",
            "Epoch 258/500\n",
            "4/4 [==============================] - 0s 6ms/step - loss: 0.8851 - mae: 0.8851\n",
            "Epoch 259/500\n",
            "4/4 [==============================] - 0s 4ms/step - loss: 1.0938 - mae: 1.0938\n",
            "Epoch 260/500\n",
            "4/4 [==============================] - 0s 6ms/step - loss: 1.1638 - mae: 1.1638\n",
            "Epoch 261/500\n",
            "4/4 [==============================] - 0s 5ms/step - loss: 1.3707 - mae: 1.3707\n",
            "Epoch 262/500\n",
            "4/4 [==============================] - 0s 5ms/step - loss: 1.3568 - mae: 1.3568\n",
            "Epoch 263/500\n",
            "4/4 [==============================] - 0s 6ms/step - loss: 1.5079 - mae: 1.5079\n",
            "Epoch 264/500\n",
            "4/4 [==============================] - 0s 6ms/step - loss: 1.3834 - mae: 1.3834\n",
            "Epoch 265/500\n",
            "4/4 [==============================] - 0s 5ms/step - loss: 0.7900 - mae: 0.7900\n",
            "Epoch 266/500\n",
            "4/4 [==============================] - 0s 5ms/step - loss: 0.7247 - mae: 0.7247\n",
            "Epoch 267/500\n",
            "4/4 [==============================] - 0s 5ms/step - loss: 0.8960 - mae: 0.8960\n",
            "Epoch 268/500\n",
            "4/4 [==============================] - 0s 5ms/step - loss: 1.1257 - mae: 1.1257\n",
            "Epoch 269/500\n",
            "4/4 [==============================] - 0s 5ms/step - loss: 1.3203 - mae: 1.3203\n",
            "Epoch 270/500\n",
            "4/4 [==============================] - 0s 5ms/step - loss: 1.3901 - mae: 1.3901\n",
            "Epoch 271/500\n",
            "4/4 [==============================] - 0s 5ms/step - loss: 1.4343 - mae: 1.4343\n",
            "Epoch 272/500\n",
            "4/4 [==============================] - 0s 5ms/step - loss: 1.4117 - mae: 1.4117\n",
            "Epoch 273/500\n",
            "4/4 [==============================] - 0s 6ms/step - loss: 1.1245 - mae: 1.1245\n",
            "Epoch 274/500\n",
            "4/4 [==============================] - 0s 6ms/step - loss: 0.8610 - mae: 0.8610\n",
            "Epoch 275/500\n",
            "4/4 [==============================] - 0s 6ms/step - loss: 0.8148 - mae: 0.8148\n",
            "Epoch 276/500\n",
            "4/4 [==============================] - 0s 5ms/step - loss: 0.8050 - mae: 0.8050\n",
            "Epoch 277/500\n",
            "4/4 [==============================] - 0s 5ms/step - loss: 1.3037 - mae: 1.3037\n",
            "Epoch 278/500\n",
            "4/4 [==============================] - 0s 5ms/step - loss: 1.1376 - mae: 1.1376\n",
            "Epoch 279/500\n",
            "4/4 [==============================] - 0s 5ms/step - loss: 1.9585 - mae: 1.9585\n",
            "Epoch 280/500\n",
            "4/4 [==============================] - 0s 6ms/step - loss: 1.8686 - mae: 1.8686\n",
            "Epoch 281/500\n",
            "4/4 [==============================] - 0s 5ms/step - loss: 1.6208 - mae: 1.6208\n",
            "Epoch 282/500\n",
            "4/4 [==============================] - 0s 7ms/step - loss: 1.4583 - mae: 1.4583\n",
            "Epoch 283/500\n",
            "4/4 [==============================] - 0s 5ms/step - loss: 2.4620 - mae: 2.4620\n",
            "Epoch 284/500\n",
            "4/4 [==============================] - 0s 5ms/step - loss: 1.5760 - mae: 1.5760\n",
            "Epoch 285/500\n",
            "4/4 [==============================] - 0s 5ms/step - loss: 0.9677 - mae: 0.9677\n",
            "Epoch 286/500\n",
            "4/4 [==============================] - 0s 5ms/step - loss: 0.6712 - mae: 0.6712\n",
            "Epoch 287/500\n",
            "4/4 [==============================] - 0s 5ms/step - loss: 0.5086 - mae: 0.5086\n",
            "Epoch 288/500\n",
            "4/4 [==============================] - 0s 5ms/step - loss: 0.4897 - mae: 0.4897\n",
            "Epoch 289/500\n",
            "4/4 [==============================] - 0s 5ms/step - loss: 0.9044 - mae: 0.9044\n",
            "Epoch 290/500\n",
            "4/4 [==============================] - 0s 5ms/step - loss: 1.7457 - mae: 1.7457\n",
            "Epoch 291/500\n",
            "4/4 [==============================] - 0s 5ms/step - loss: 1.1200 - mae: 1.1200\n",
            "Epoch 292/500\n",
            "4/4 [==============================] - 0s 5ms/step - loss: 0.6623 - mae: 0.6623\n",
            "Epoch 293/500\n",
            "4/4 [==============================] - 0s 5ms/step - loss: 1.1639 - mae: 1.1639\n",
            "Epoch 294/500\n",
            "4/4 [==============================] - 0s 5ms/step - loss: 1.1474 - mae: 1.1474\n",
            "Epoch 295/500\n",
            "4/4 [==============================] - 0s 5ms/step - loss: 1.4457 - mae: 1.4457\n",
            "Epoch 296/500\n",
            "4/4 [==============================] - 0s 5ms/step - loss: 0.9675 - mae: 0.9675\n",
            "Epoch 297/500\n",
            "4/4 [==============================] - 0s 5ms/step - loss: 1.0943 - mae: 1.0943\n",
            "Epoch 298/500\n",
            "4/4 [==============================] - 0s 5ms/step - loss: 0.6294 - mae: 0.6294\n",
            "Epoch 299/500\n",
            "4/4 [==============================] - 0s 5ms/step - loss: 0.8753 - mae: 0.8753\n",
            "Epoch 300/500\n",
            "4/4 [==============================] - 0s 5ms/step - loss: 1.9086 - mae: 1.9086\n",
            "Epoch 301/500\n",
            "4/4 [==============================] - 0s 5ms/step - loss: 1.7980 - mae: 1.7980\n",
            "Epoch 302/500\n",
            "4/4 [==============================] - 0s 4ms/step - loss: 1.5735 - mae: 1.5735\n",
            "Epoch 303/500\n",
            "4/4 [==============================] - 0s 5ms/step - loss: 2.6153 - mae: 2.6153\n",
            "Epoch 304/500\n",
            "4/4 [==============================] - 0s 5ms/step - loss: 1.4768 - mae: 1.4768\n",
            "Epoch 305/500\n",
            "4/4 [==============================] - 0s 5ms/step - loss: 1.1115 - mae: 1.1115\n",
            "Epoch 306/500\n",
            "4/4 [==============================] - 0s 5ms/step - loss: 0.7902 - mae: 0.7902\n",
            "Epoch 307/500\n",
            "4/4 [==============================] - 0s 5ms/step - loss: 0.5758 - mae: 0.5758\n",
            "Epoch 308/500\n",
            "4/4 [==============================] - 0s 5ms/step - loss: 1.1272 - mae: 1.1272\n",
            "Epoch 309/500\n",
            "4/4 [==============================] - 0s 5ms/step - loss: 1.3084 - mae: 1.3084\n",
            "Epoch 310/500\n",
            "4/4 [==============================] - 0s 5ms/step - loss: 1.1780 - mae: 1.1780\n",
            "Epoch 311/500\n",
            "4/4 [==============================] - 0s 5ms/step - loss: 0.6059 - mae: 0.6059\n",
            "Epoch 312/500\n",
            "4/4 [==============================] - 0s 5ms/step - loss: 0.7719 - mae: 0.7719\n",
            "Epoch 313/500\n",
            "4/4 [==============================] - 0s 5ms/step - loss: 1.0266 - mae: 1.0266\n",
            "Epoch 314/500\n",
            "4/4 [==============================] - 0s 7ms/step - loss: 0.7837 - mae: 0.7837\n",
            "Epoch 315/500\n",
            "4/4 [==============================] - 0s 7ms/step - loss: 1.6374 - mae: 1.6374\n",
            "Epoch 316/500\n",
            "4/4 [==============================] - 0s 6ms/step - loss: 2.4583 - mae: 2.4583\n",
            "Epoch 317/500\n",
            "4/4 [==============================] - 0s 5ms/step - loss: 2.6166 - mae: 2.6166\n",
            "Epoch 318/500\n",
            "4/4 [==============================] - 0s 5ms/step - loss: 2.7298 - mae: 2.7298\n",
            "Epoch 319/500\n",
            "4/4 [==============================] - 0s 5ms/step - loss: 2.5224 - mae: 2.5224\n",
            "Epoch 320/500\n",
            "4/4 [==============================] - 0s 5ms/step - loss: 2.0242 - mae: 2.0242\n",
            "Epoch 321/500\n",
            "4/4 [==============================] - 0s 5ms/step - loss: 0.6224 - mae: 0.6224\n",
            "Epoch 322/500\n",
            "4/4 [==============================] - 0s 5ms/step - loss: 0.8515 - mae: 0.8515\n",
            "Epoch 323/500\n",
            "4/4 [==============================] - 0s 5ms/step - loss: 0.9467 - mae: 0.9467\n",
            "Epoch 324/500\n",
            "4/4 [==============================] - 0s 4ms/step - loss: 1.1276 - mae: 1.1276\n",
            "Epoch 325/500\n",
            "4/4 [==============================] - 0s 6ms/step - loss: 1.2535 - mae: 1.2535\n",
            "Epoch 326/500\n",
            "4/4 [==============================] - 0s 5ms/step - loss: 0.8311 - mae: 0.8311\n",
            "Epoch 327/500\n",
            "4/4 [==============================] - 0s 5ms/step - loss: 1.0278 - mae: 1.0278\n",
            "Epoch 328/500\n",
            "4/4 [==============================] - 0s 7ms/step - loss: 0.4139 - mae: 0.4139\n",
            "Epoch 329/500\n",
            "4/4 [==============================] - 0s 6ms/step - loss: 0.8520 - mae: 0.8520\n",
            "Epoch 330/500\n",
            "4/4 [==============================] - 0s 6ms/step - loss: 1.3072 - mae: 1.3072\n",
            "Epoch 331/500\n",
            "4/4 [==============================] - 0s 6ms/step - loss: 2.2821 - mae: 2.2821\n",
            "Epoch 332/500\n",
            "4/4 [==============================] - 0s 6ms/step - loss: 1.5189 - mae: 1.5189\n",
            "Epoch 333/500\n",
            "4/4 [==============================] - 0s 6ms/step - loss: 1.3029 - mae: 1.3029\n",
            "Epoch 334/500\n",
            "4/4 [==============================] - 0s 5ms/step - loss: 3.6968 - mae: 3.6968\n",
            "Epoch 335/500\n",
            "4/4 [==============================] - 0s 5ms/step - loss: 3.1884 - mae: 3.1884\n",
            "Epoch 336/500\n",
            "4/4 [==============================] - 0s 5ms/step - loss: 2.6993 - mae: 2.6993\n",
            "Epoch 337/500\n",
            "4/4 [==============================] - 0s 5ms/step - loss: 3.4623 - mae: 3.4623\n",
            "Epoch 338/500\n",
            "4/4 [==============================] - 0s 5ms/step - loss: 1.0780 - mae: 1.0780\n",
            "Epoch 339/500\n",
            "4/4 [==============================] - 0s 4ms/step - loss: 0.9270 - mae: 0.9270\n",
            "Epoch 340/500\n",
            "4/4 [==============================] - 0s 4ms/step - loss: 1.0958 - mae: 1.0958\n",
            "Epoch 341/500\n",
            "4/4 [==============================] - 0s 5ms/step - loss: 0.9955 - mae: 0.9955\n",
            "Epoch 342/500\n",
            "4/4 [==============================] - 0s 5ms/step - loss: 1.3053 - mae: 1.3053\n",
            "Epoch 343/500\n",
            "4/4 [==============================] - 0s 6ms/step - loss: 1.7998 - mae: 1.7998\n",
            "Epoch 344/500\n",
            "4/4 [==============================] - 0s 4ms/step - loss: 0.6460 - mae: 0.6460\n",
            "Epoch 345/500\n",
            "4/4 [==============================] - 0s 5ms/step - loss: 0.7669 - mae: 0.7669\n",
            "Epoch 346/500\n",
            "4/4 [==============================] - 0s 5ms/step - loss: 0.4538 - mae: 0.4538\n",
            "Epoch 347/500\n",
            "4/4 [==============================] - 0s 5ms/step - loss: 0.6837 - mae: 0.6837\n",
            "Epoch 348/500\n",
            "4/4 [==============================] - 0s 5ms/step - loss: 0.7624 - mae: 0.7624\n",
            "Epoch 349/500\n",
            "4/4 [==============================] - 0s 5ms/step - loss: 0.8113 - mae: 0.8113\n",
            "Epoch 350/500\n",
            "4/4 [==============================] - 0s 4ms/step - loss: 2.2059 - mae: 2.2059\n",
            "Epoch 351/500\n",
            "4/4 [==============================] - 0s 5ms/step - loss: 1.5334 - mae: 1.5334\n",
            "Epoch 352/500\n",
            "4/4 [==============================] - 0s 5ms/step - loss: 1.8266 - mae: 1.8266\n",
            "Epoch 353/500\n",
            "4/4 [==============================] - 0s 5ms/step - loss: 0.6819 - mae: 0.6819\n",
            "Epoch 354/500\n",
            "4/4 [==============================] - 0s 5ms/step - loss: 0.7071 - mae: 0.7071\n",
            "Epoch 355/500\n",
            "4/4 [==============================] - 0s 5ms/step - loss: 1.5139 - mae: 1.5139\n",
            "Epoch 356/500\n",
            "4/4 [==============================] - 0s 5ms/step - loss: 1.8882 - mae: 1.8882\n",
            "Epoch 357/500\n",
            "4/4 [==============================] - 0s 6ms/step - loss: 1.0129 - mae: 1.0129\n",
            "Epoch 358/500\n",
            "4/4 [==============================] - 0s 6ms/step - loss: 1.6680 - mae: 1.6680\n",
            "Epoch 359/500\n",
            "4/4 [==============================] - 0s 5ms/step - loss: 2.0460 - mae: 2.0460\n",
            "Epoch 360/500\n",
            "4/4 [==============================] - 0s 6ms/step - loss: 2.6258 - mae: 2.6258\n",
            "Epoch 361/500\n",
            "4/4 [==============================] - 0s 6ms/step - loss: 1.4054 - mae: 1.4054\n",
            "Epoch 362/500\n",
            "4/4 [==============================] - 0s 5ms/step - loss: 0.7334 - mae: 0.7334\n",
            "Epoch 363/500\n",
            "4/4 [==============================] - 0s 6ms/step - loss: 0.8464 - mae: 0.8464\n",
            "Epoch 364/500\n",
            "4/4 [==============================] - 0s 5ms/step - loss: 1.8139 - mae: 1.8139\n",
            "Epoch 365/500\n",
            "4/4 [==============================] - 0s 5ms/step - loss: 2.3324 - mae: 2.3324\n",
            "Epoch 366/500\n",
            "4/4 [==============================] - 0s 5ms/step - loss: 2.6819 - mae: 2.6819\n",
            "Epoch 367/500\n",
            "4/4 [==============================] - 0s 5ms/step - loss: 1.5399 - mae: 1.5399\n",
            "Epoch 368/500\n",
            "4/4 [==============================] - 0s 5ms/step - loss: 0.8780 - mae: 0.8780\n",
            "Epoch 369/500\n",
            "4/4 [==============================] - 0s 4ms/step - loss: 0.4680 - mae: 0.4680\n",
            "Epoch 370/500\n",
            "4/4 [==============================] - 0s 4ms/step - loss: 1.0528 - mae: 1.0528\n",
            "Epoch 371/500\n",
            "4/4 [==============================] - 0s 5ms/step - loss: 1.8590 - mae: 1.8590\n",
            "Epoch 372/500\n",
            "4/4 [==============================] - 0s 5ms/step - loss: 1.6191 - mae: 1.6191\n",
            "Epoch 373/500\n",
            "4/4 [==============================] - 0s 5ms/step - loss: 1.8884 - mae: 1.8884\n",
            "Epoch 374/500\n",
            "4/4 [==============================] - 0s 5ms/step - loss: 1.3296 - mae: 1.3296\n",
            "Epoch 375/500\n",
            "4/4 [==============================] - 0s 5ms/step - loss: 1.1874 - mae: 1.1874\n",
            "Epoch 376/500\n",
            "4/4 [==============================] - 0s 5ms/step - loss: 1.5432 - mae: 1.5432\n",
            "Epoch 377/500\n",
            "4/4 [==============================] - 0s 4ms/step - loss: 1.7543 - mae: 1.7543\n",
            "Epoch 378/500\n",
            "4/4 [==============================] - 0s 5ms/step - loss: 1.4118 - mae: 1.4118\n",
            "Epoch 379/500\n",
            "4/4 [==============================] - 0s 5ms/step - loss: 1.4253 - mae: 1.4253\n",
            "Epoch 380/500\n",
            "4/4 [==============================] - 0s 7ms/step - loss: 1.6985 - mae: 1.6985\n",
            "Epoch 381/500\n",
            "4/4 [==============================] - 0s 5ms/step - loss: 2.0260 - mae: 2.0260\n",
            "Epoch 382/500\n",
            "4/4 [==============================] - 0s 8ms/step - loss: 2.8893 - mae: 2.8893\n",
            "Epoch 383/500\n",
            "4/4 [==============================] - 0s 5ms/step - loss: 1.5459 - mae: 1.5459\n",
            "Epoch 384/500\n",
            "4/4 [==============================] - 0s 6ms/step - loss: 0.7418 - mae: 0.7418\n",
            "Epoch 385/500\n",
            "4/4 [==============================] - 0s 5ms/step - loss: 1.1507 - mae: 1.1507\n",
            "Epoch 386/500\n",
            "4/4 [==============================] - 0s 5ms/step - loss: 0.6983 - mae: 0.6983\n",
            "Epoch 387/500\n",
            "4/4 [==============================] - 0s 5ms/step - loss: 0.8612 - mae: 0.8612\n",
            "Epoch 388/500\n",
            "4/4 [==============================] - 0s 5ms/step - loss: 1.2144 - mae: 1.2144\n",
            "Epoch 389/500\n",
            "4/4 [==============================] - 0s 5ms/step - loss: 2.1410 - mae: 2.1410\n",
            "Epoch 390/500\n",
            "4/4 [==============================] - 0s 5ms/step - loss: 4.0424 - mae: 4.0424\n",
            "Epoch 391/500\n",
            "4/4 [==============================] - 0s 5ms/step - loss: 4.7557 - mae: 4.7557\n",
            "Epoch 392/500\n",
            "4/4 [==============================] - 0s 5ms/step - loss: 3.6160 - mae: 3.6160\n",
            "Epoch 393/500\n",
            "4/4 [==============================] - 0s 5ms/step - loss: 3.4824 - mae: 3.4824\n",
            "Epoch 394/500\n",
            "4/4 [==============================] - 0s 5ms/step - loss: 6.9941 - mae: 6.9941\n",
            "Epoch 395/500\n",
            "4/4 [==============================] - 0s 5ms/step - loss: 3.9926 - mae: 3.9926\n",
            "Epoch 396/500\n",
            "4/4 [==============================] - 0s 5ms/step - loss: 4.3597 - mae: 4.3597\n",
            "Epoch 397/500\n",
            "4/4 [==============================] - 0s 7ms/step - loss: 5.7009 - mae: 5.7009\n",
            "Epoch 398/500\n",
            "4/4 [==============================] - 0s 7ms/step - loss: 0.9912 - mae: 0.9912\n",
            "Epoch 399/500\n",
            "4/4 [==============================] - 0s 6ms/step - loss: 0.5068 - mae: 0.5068\n",
            "Epoch 400/500\n",
            "4/4 [==============================] - 0s 5ms/step - loss: 0.7081 - mae: 0.7081\n",
            "Epoch 401/500\n",
            "4/4 [==============================] - 0s 5ms/step - loss: 0.7154 - mae: 0.7154\n",
            "Epoch 402/500\n",
            "4/4 [==============================] - 0s 5ms/step - loss: 0.3360 - mae: 0.3360\n",
            "Epoch 403/500\n",
            "4/4 [==============================] - 0s 6ms/step - loss: 0.5092 - mae: 0.5092\n",
            "Epoch 404/500\n",
            "4/4 [==============================] - 0s 5ms/step - loss: 1.5609 - mae: 1.5609\n",
            "Epoch 405/500\n",
            "4/4 [==============================] - 0s 5ms/step - loss: 1.0383 - mae: 1.0383\n",
            "Epoch 406/500\n",
            "4/4 [==============================] - 0s 5ms/step - loss: 1.1138 - mae: 1.1138\n",
            "Epoch 407/500\n",
            "4/4 [==============================] - 0s 5ms/step - loss: 1.9381 - mae: 1.9381\n",
            "Epoch 408/500\n",
            "4/4 [==============================] - 0s 5ms/step - loss: 2.0201 - mae: 2.0201\n",
            "Epoch 409/500\n",
            "4/4 [==============================] - 0s 5ms/step - loss: 0.9533 - mae: 0.9533\n",
            "Epoch 410/500\n",
            "4/4 [==============================] - 0s 5ms/step - loss: 0.4510 - mae: 0.4510\n",
            "Epoch 411/500\n",
            "4/4 [==============================] - 0s 5ms/step - loss: 0.3842 - mae: 0.3842\n",
            "Epoch 412/500\n",
            "4/4 [==============================] - 0s 5ms/step - loss: 0.5312 - mae: 0.5312\n",
            "Epoch 413/500\n",
            "4/4 [==============================] - 0s 5ms/step - loss: 1.4473 - mae: 1.4473\n",
            "Epoch 414/500\n",
            "4/4 [==============================] - 0s 5ms/step - loss: 1.6018 - mae: 1.6018\n",
            "Epoch 415/500\n",
            "4/4 [==============================] - 0s 5ms/step - loss: 1.0919 - mae: 1.0919\n",
            "Epoch 416/500\n",
            "4/4 [==============================] - 0s 5ms/step - loss: 1.7866 - mae: 1.7866\n",
            "Epoch 417/500\n",
            "4/4 [==============================] - 0s 8ms/step - loss: 1.2151 - mae: 1.2151\n",
            "Epoch 418/500\n",
            "4/4 [==============================] - 0s 5ms/step - loss: 2.8403 - mae: 2.8403\n",
            "Epoch 419/500\n",
            "4/4 [==============================] - 0s 5ms/step - loss: 3.4253 - mae: 3.4253\n",
            "Epoch 420/500\n",
            "4/4 [==============================] - 0s 5ms/step - loss: 1.4743 - mae: 1.4743\n",
            "Epoch 421/500\n",
            "4/4 [==============================] - 0s 5ms/step - loss: 0.3277 - mae: 0.3277\n",
            "Epoch 422/500\n",
            "4/4 [==============================] - 0s 5ms/step - loss: 1.0483 - mae: 1.0483\n",
            "Epoch 423/500\n",
            "4/4 [==============================] - 0s 5ms/step - loss: 0.3284 - mae: 0.3284\n",
            "Epoch 424/500\n",
            "4/4 [==============================] - 0s 5ms/step - loss: 0.6448 - mae: 0.6448\n",
            "Epoch 425/500\n",
            "4/4 [==============================] - 0s 5ms/step - loss: 0.8378 - mae: 0.8378\n",
            "Epoch 426/500\n",
            "4/4 [==============================] - 0s 5ms/step - loss: 0.7300 - mae: 0.7300\n",
            "Epoch 427/500\n",
            "4/4 [==============================] - 0s 6ms/step - loss: 1.4372 - mae: 1.4372\n",
            "Epoch 428/500\n",
            "4/4 [==============================] - 0s 6ms/step - loss: 1.1953 - mae: 1.1953\n",
            "Epoch 429/500\n",
            "4/4 [==============================] - 0s 6ms/step - loss: 1.2240 - mae: 1.2240\n",
            "Epoch 430/500\n",
            "4/4 [==============================] - 0s 4ms/step - loss: 1.4930 - mae: 1.4930\n",
            "Epoch 431/500\n",
            "4/4 [==============================] - 0s 4ms/step - loss: 0.7882 - mae: 0.7882\n",
            "Epoch 432/500\n",
            "4/4 [==============================] - 0s 5ms/step - loss: 0.7438 - mae: 0.7438\n",
            "Epoch 433/500\n",
            "4/4 [==============================] - 0s 5ms/step - loss: 0.7581 - mae: 0.7581\n",
            "Epoch 434/500\n",
            "4/4 [==============================] - 0s 5ms/step - loss: 0.6775 - mae: 0.6775\n",
            "Epoch 435/500\n",
            "4/4 [==============================] - 0s 5ms/step - loss: 0.3656 - mae: 0.3656\n",
            "Epoch 436/500\n",
            "4/4 [==============================] - 0s 6ms/step - loss: 0.4095 - mae: 0.4095\n",
            "Epoch 437/500\n",
            "4/4 [==============================] - 0s 5ms/step - loss: 0.3862 - mae: 0.3862\n",
            "Epoch 438/500\n",
            "4/4 [==============================] - 0s 6ms/step - loss: 1.0614 - mae: 1.0614\n",
            "Epoch 439/500\n",
            "4/4 [==============================] - 0s 6ms/step - loss: 3.2283 - mae: 3.2283\n",
            "Epoch 440/500\n",
            "4/4 [==============================] - 0s 5ms/step - loss: 2.0213 - mae: 2.0213\n",
            "Epoch 441/500\n",
            "4/4 [==============================] - 0s 5ms/step - loss: 4.1156 - mae: 4.1156\n",
            "Epoch 442/500\n",
            "4/4 [==============================] - 0s 5ms/step - loss: 2.8789 - mae: 2.8789\n",
            "Epoch 443/500\n",
            "4/4 [==============================] - 0s 5ms/step - loss: 1.8039 - mae: 1.8039\n",
            "Epoch 444/500\n",
            "4/4 [==============================] - 0s 5ms/step - loss: 1.8816 - mae: 1.8816\n",
            "Epoch 445/500\n",
            "4/4 [==============================] - 0s 5ms/step - loss: 2.6294 - mae: 2.6294\n",
            "Epoch 446/500\n",
            "4/4 [==============================] - 0s 6ms/step - loss: 2.8105 - mae: 2.8105\n",
            "Epoch 447/500\n",
            "4/4 [==============================] - 0s 5ms/step - loss: 1.5786 - mae: 1.5786\n",
            "Epoch 448/500\n",
            "4/4 [==============================] - 0s 5ms/step - loss: 0.8893 - mae: 0.8893\n",
            "Epoch 449/500\n",
            "4/4 [==============================] - 0s 5ms/step - loss: 1.6135 - mae: 1.6135\n",
            "Epoch 450/500\n",
            "4/4 [==============================] - 0s 5ms/step - loss: 1.9325 - mae: 1.9325\n",
            "Epoch 451/500\n",
            "4/4 [==============================] - 0s 5ms/step - loss: 2.2443 - mae: 2.2443\n",
            "Epoch 452/500\n",
            "4/4 [==============================] - 0s 5ms/step - loss: 0.6407 - mae: 0.6407\n",
            "Epoch 453/500\n",
            "4/4 [==============================] - 0s 5ms/step - loss: 0.3900 - mae: 0.3900\n",
            "Epoch 454/500\n",
            "4/4 [==============================] - 0s 5ms/step - loss: 2.6063 - mae: 2.6063\n",
            "Epoch 455/500\n",
            "4/4 [==============================] - 0s 4ms/step - loss: 3.3022 - mae: 3.3022\n",
            "Epoch 456/500\n",
            "4/4 [==============================] - 0s 4ms/step - loss: 2.1893 - mae: 2.1893\n",
            "Epoch 457/500\n",
            "4/4 [==============================] - 0s 6ms/step - loss: 2.2595 - mae: 2.2595\n",
            "Epoch 458/500\n",
            "4/4 [==============================] - 0s 5ms/step - loss: 2.8192 - mae: 2.8192\n",
            "Epoch 459/500\n",
            "4/4 [==============================] - 0s 5ms/step - loss: 2.5766 - mae: 2.5766\n",
            "Epoch 460/500\n",
            "4/4 [==============================] - 0s 5ms/step - loss: 2.7894 - mae: 2.7894\n",
            "Epoch 461/500\n",
            "4/4 [==============================] - 0s 5ms/step - loss: 1.8866 - mae: 1.8866\n",
            "Epoch 462/500\n",
            "4/4 [==============================] - 0s 5ms/step - loss: 4.0814 - mae: 4.0814\n",
            "Epoch 463/500\n",
            "4/4 [==============================] - 0s 5ms/step - loss: 2.9148 - mae: 2.9148\n",
            "Epoch 464/500\n",
            "4/4 [==============================] - 0s 5ms/step - loss: 2.4826 - mae: 2.4826\n",
            "Epoch 465/500\n",
            "4/4 [==============================] - 0s 5ms/step - loss: 3.6040 - mae: 3.6040\n",
            "Epoch 466/500\n",
            "4/4 [==============================] - 0s 5ms/step - loss: 3.6551 - mae: 3.6551\n",
            "Epoch 467/500\n",
            "4/4 [==============================] - 0s 5ms/step - loss: 3.7836 - mae: 3.7836\n",
            "Epoch 468/500\n",
            "4/4 [==============================] - 0s 5ms/step - loss: 3.1525 - mae: 3.1525\n",
            "Epoch 469/500\n",
            "4/4 [==============================] - 0s 5ms/step - loss: 2.6467 - mae: 2.6467\n",
            "Epoch 470/500\n",
            "4/4 [==============================] - 0s 4ms/step - loss: 2.4359 - mae: 2.4359\n",
            "Epoch 471/500\n",
            "4/4 [==============================] - 0s 5ms/step - loss: 4.6062 - mae: 4.6062\n",
            "Epoch 472/500\n",
            "4/4 [==============================] - 0s 5ms/step - loss: 3.2165 - mae: 3.2165\n",
            "Epoch 473/500\n",
            "4/4 [==============================] - 0s 5ms/step - loss: 0.8351 - mae: 0.8351\n",
            "Epoch 474/500\n",
            "4/4 [==============================] - 0s 5ms/step - loss: 0.6139 - mae: 0.6139\n",
            "Epoch 475/500\n",
            "4/4 [==============================] - 0s 5ms/step - loss: 0.8525 - mae: 0.8525\n",
            "Epoch 476/500\n",
            "4/4 [==============================] - 0s 5ms/step - loss: 0.3729 - mae: 0.3729\n",
            "Epoch 477/500\n",
            "4/4 [==============================] - 0s 5ms/step - loss: 0.3336 - mae: 0.3336\n",
            "Epoch 478/500\n",
            "4/4 [==============================] - 0s 5ms/step - loss: 0.3849 - mae: 0.3849\n",
            "Epoch 479/500\n",
            "4/4 [==============================] - 0s 5ms/step - loss: 1.3592 - mae: 1.3592\n",
            "Epoch 480/500\n",
            "4/4 [==============================] - 0s 5ms/step - loss: 0.6572 - mae: 0.6572\n",
            "Epoch 481/500\n",
            "4/4 [==============================] - 0s 5ms/step - loss: 0.8110 - mae: 0.8110\n",
            "Epoch 482/500\n",
            "4/4 [==============================] - 0s 7ms/step - loss: 0.8431 - mae: 0.8431\n",
            "Epoch 483/500\n",
            "4/4 [==============================] - 0s 5ms/step - loss: 0.5220 - mae: 0.5220\n",
            "Epoch 484/500\n",
            "4/4 [==============================] - 0s 6ms/step - loss: 0.6932 - mae: 0.6932\n",
            "Epoch 485/500\n",
            "4/4 [==============================] - 0s 5ms/step - loss: 0.4465 - mae: 0.4465\n",
            "Epoch 486/500\n",
            "4/4 [==============================] - 0s 5ms/step - loss: 0.8268 - mae: 0.8268\n",
            "Epoch 487/500\n",
            "4/4 [==============================] - 0s 5ms/step - loss: 0.2891 - mae: 0.2891\n",
            "Epoch 488/500\n",
            "4/4 [==============================] - 0s 5ms/step - loss: 0.8442 - mae: 0.8442\n",
            "Epoch 489/500\n",
            "4/4 [==============================] - 0s 5ms/step - loss: 0.7109 - mae: 0.7109\n",
            "Epoch 490/500\n",
            "4/4 [==============================] - 0s 5ms/step - loss: 0.6068 - mae: 0.6068\n",
            "Epoch 491/500\n",
            "4/4 [==============================] - 0s 5ms/step - loss: 0.6885 - mae: 0.6885\n",
            "Epoch 492/500\n",
            "4/4 [==============================] - 0s 4ms/step - loss: 0.6050 - mae: 0.6050\n",
            "Epoch 493/500\n",
            "4/4 [==============================] - 0s 5ms/step - loss: 1.3258 - mae: 1.3258\n",
            "Epoch 494/500\n",
            "4/4 [==============================] - 0s 5ms/step - loss: 1.7825 - mae: 1.7825\n",
            "Epoch 495/500\n",
            "4/4 [==============================] - 0s 5ms/step - loss: 1.9760 - mae: 1.9760\n",
            "Epoch 496/500\n",
            "4/4 [==============================] - 0s 5ms/step - loss: 1.9424 - mae: 1.9424\n",
            "Epoch 497/500\n",
            "4/4 [==============================] - 0s 5ms/step - loss: 2.1633 - mae: 2.1633\n",
            "Epoch 498/500\n",
            "4/4 [==============================] - 0s 6ms/step - loss: 1.9033 - mae: 1.9033\n",
            "Epoch 499/500\n",
            "4/4 [==============================] - 0s 5ms/step - loss: 1.8748 - mae: 1.8748\n",
            "Epoch 500/500\n",
            "4/4 [==============================] - 0s 5ms/step - loss: 1.8935 - mae: 1.8935\n"
          ]
        },
        {
          "output_type": "execute_result",
          "data": {
            "text/plain": [
              "<keras.callbacks.History at 0x7f574b07ae30>"
            ]
          },
          "metadata": {},
          "execution_count": 43
        }
      ]
    },
    {
      "cell_type": "code",
      "source": [
        "plot_predictions(model_3.predict(X_test))  #already x_test and predictions is the same,great!"
      ],
      "metadata": {
        "id": "1k5wnV49c6kp",
        "colab": {
          "base_uri": "https://localhost:8080/",
          "height": 612
        },
        "outputId": "37a8e440-7a2c-4142-a917-8c9c5ff2d224"
      },
      "execution_count": 44,
      "outputs": [
        {
          "output_type": "stream",
          "name": "stdout",
          "text": [
            "1/1 [==============================] - 0s 68ms/step\n"
          ]
        },
        {
          "output_type": "display_data",
          "data": {
            "text/plain": [
              "<Figure size 1600x900 with 1 Axes>"
            ],
            "image/png": "[encoded data removed]"
          },
          "metadata": {}
        }
      ]
    },
    {
      "cell_type": "code",
      "source": [
        "mae(y_test,model_3.predict(X_test))"
      ],
      "metadata": {
        "id": "SoOZFreIc6iE",
        "colab": {
          "base_uri": "https://localhost:8080/"
        },
        "outputId": "db137373-a583-4299-be4a-12d2d6a8735c"
      },
      "execution_count": 45,
      "outputs": [
        {
          "output_type": "stream",
          "name": "stdout",
          "text": [
            "1/1 [==============================] - 0s 24ms/step\n"
          ]
        },
        {
          "output_type": "execute_result",
          "data": {
            "text/plain": [
              "8.146204"
            ]
          },
          "metadata": {},
          "execution_count": 45
        }
      ]
    },
    {
      "cell_type": "markdown",
      "source": [
        "## Saving our model\n",
        "Saving model is create chance to use model outside the google colab or wherever it is created(web browser and mobile app)\n",
        "\n",
        "There are 2 main formats that we can save our model:\n",
        "1. The SavedModel Format\n",
        "2. The HDF5 Format"
      ],
      "metadata": {
        "id": "anhoBfiqc6fb"
      }
    },
    {
      "cell_type": "code",
      "source": [
        "#saving best model(model_2) using SavedModel Format\n",
        "model_2.save('the_best_model_saved_model_format')"
      ],
      "metadata": {
        "id": "ImkjlBVQc6cj",
        "colab": {
          "base_uri": "https://localhost:8080/"
        },
        "outputId": "a4c76419-e594-4e80-8d2e-47a9b55b69ed"
      },
      "execution_count": 46,
      "outputs": [
        {
          "output_type": "stream",
          "name": "stderr",
          "text": [
            "WARNING:absl:Found untraced functions such as _update_step_xla while saving (showing 1 of 1). These functions will not be directly callable after loading.\n"
          ]
        }
      ]
    },
    {
      "cell_type": "code",
      "source": [
        "#saving model using HDF5 format\n",
        "model_2.save('the_best_model_HDF5_format.h5')"
      ],
      "metadata": {
        "id": "jfty1PGLc6Z9"
      },
      "execution_count": 47,
      "outputs": []
    },
    {
      "cell_type": "markdown",
      "source": [
        "## How to load and use saved model"
      ],
      "metadata": {
        "id": "ikpPPqI3c6XX"
      }
    },
    {
      "cell_type": "code",
      "source": [
        "#load the saved model\n",
        "saved_model = tf.keras.models.load_model('/content/the_best_model_saved_model_format')\n",
        "saved_model"
      ],
      "metadata": {
        "id": "Af5yjs86c6U0",
        "colab": {
          "base_uri": "https://localhost:8080/"
        },
        "outputId": "9bbd7594-d03f-403e-b423-dfd2e6982fce"
      },
      "execution_count": 48,
      "outputs": [
        {
          "output_type": "execute_result",
          "data": {
            "text/plain": [
              "<keras.engine.sequential.Sequential at 0x7f574abfac20>"
            ]
          },
          "metadata": {},
          "execution_count": 48
        }
      ]
    },
    {
      "cell_type": "code",
      "source": [],
      "metadata": {
        "id": "Fuv0H38ec6SJ"
      },
      "execution_count": 48,
      "outputs": []
    },
    {
      "cell_type": "code",
      "source": [],
      "metadata": {
        "id": "FZ4LncsSc6PR"
      },
      "execution_count": 48,
      "outputs": []
    },
    {
      "cell_type": "code",
      "source": [],
      "metadata": {
        "id": "SYBuwBeHc6Mt"
      },
      "execution_count": 48,
      "outputs": []
    },
    {
      "cell_type": "code",
      "source": [],
      "metadata": {
        "id": "GWZ_uY_bZAmY"
      },
      "execution_count": null,
      "outputs": []
    },
    {
      "cell_type": "code",
      "source": [],
      "metadata": {
        "id": "ucqRQm2eZAit"
      },
      "execution_count": null,
      "outputs": []
    },
    {
      "cell_type": "code",
      "source": [],
      "metadata": {
        "id": "r1krQ8nJZAf4"
      },
      "execution_count": null,
      "outputs": []
    },
    {
      "cell_type": "code",
      "source": [],
      "metadata": {
        "id": "FdVKk8QSZAdC"
      },
      "execution_count": null,
      "outputs": []
    }
  ]
}