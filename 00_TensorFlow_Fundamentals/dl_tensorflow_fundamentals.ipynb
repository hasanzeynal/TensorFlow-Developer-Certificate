{
  "nbformat": 4,
  "nbformat_minor": 0,
  "metadata": {
    "colab": {
      "provenance": [],
      "gpuType": "T4",
      "toc_visible": true,
      "authorship_tag": "ABX9TyOS3ZgE10WSjafA9nDc+pur",
      "include_colab_link": true
    },
    "kernelspec": {
      "name": "python3",
      "display_name": "Python 3"
    },
    "language_info": {
      "name": "python"
    },
    "accelerator": "GPU"
  },
  "cells": [
    {
      "cell_type": "markdown",
      "metadata": {
        "id": "view-in-github",
        "colab_type": "text"
      },
      "source": [
        "<a href=\"https://colab.research.google.com/github/hasanzeynal/Tensorflow-Developer-Certificate/blob/main/00_TensorFlow_Fundamentals/dl_tensorflow_fundamentals.ipynb\" target=\"_parent\"><img src=\"https://colab.research.google.com/assets/colab-badge.svg\" alt=\"Open In Colab\"/></a>"
      ]
    },
    {
      "cell_type": "markdown",
      "source": [
        "# We are gonna cover some fundamentals of using tensor in Tensorflow.\n",
        "More specifically:\n",
        "* Introduction to tensors\n",
        "* Getting information from tensors\n",
        "* Manipulating tensors\n",
        "* Tensors and Numpy\n",
        "* Using @tf.function (a way to speed up your regular python function)\n",
        "* Using GPU's in tensorflow(or TPU's)\n",
        "* Exercises"
      ],
      "metadata": {
        "id": "KNCsirEMvo7q"
      }
    },
    {
      "cell_type": "markdown",
      "source": [
        "## Introduction to Tensors"
      ],
      "metadata": {
        "id": "sdQgd7RExQ41"
      }
    },
    {
      "cell_type": "code",
      "source": [
        "#import TensorFlow\n",
        "import tensorflow as tf\n",
        "print(tf.__version__)"
      ],
      "metadata": {
        "colab": {
          "base_uri": "https://localhost:8080/"
        },
        "id": "2sNT0zY0rYof",
        "outputId": "3093f557-97bf-4697-af4e-35b48fe9d734"
      },
      "execution_count": 1,
      "outputs": [
        {
          "output_type": "stream",
          "name": "stdout",
          "text": [
            "2.12.0\n"
          ]
        }
      ]
    },
    {
      "cell_type": "code",
      "source": [
        "#create tensors with tf.constant\n",
        "scalar = tf.constant(11)\n",
        "scalar"
      ],
      "metadata": {
        "colab": {
          "base_uri": "https://localhost:8080/"
        },
        "id": "rTH76bpqrYrD",
        "outputId": "0c62daa9-882a-4b5a-b196-c7fc46774150"
      },
      "execution_count": 2,
      "outputs": [
        {
          "output_type": "execute_result",
          "data": {
            "text/plain": [
              "<tf.Tensor: shape=(), dtype=int32, numpy=11>"
            ]
          },
          "metadata": {},
          "execution_count": 2
        }
      ]
    },
    {
      "cell_type": "code",
      "source": [
        "#check the type of tensor\n",
        "scalar.dtype"
      ],
      "metadata": {
        "colab": {
          "base_uri": "https://localhost:8080/"
        },
        "id": "Jp1vZBEorYt6",
        "outputId": "d5f3cb32-3b65-48f5-d23f-3427dbaadb23"
      },
      "execution_count": 3,
      "outputs": [
        {
          "output_type": "execute_result",
          "data": {
            "text/plain": [
              "tf.int32"
            ]
          },
          "metadata": {},
          "execution_count": 3
        }
      ]
    },
    {
      "cell_type": "code",
      "source": [
        "#check the number fo dimentions of tensor\n",
        "scalar.ndim"
      ],
      "metadata": {
        "colab": {
          "base_uri": "https://localhost:8080/"
        },
        "id": "SC_gerGYrYzZ",
        "outputId": "3898f56a-3e53-4a2a-e4ef-589881f40a8d"
      },
      "execution_count": 4,
      "outputs": [
        {
          "output_type": "execute_result",
          "data": {
            "text/plain": [
              "0"
            ]
          },
          "metadata": {},
          "execution_count": 4
        }
      ]
    },
    {
      "cell_type": "code",
      "source": [
        "#creating vector\n",
        "vector = tf.constant([10,20,30])\n",
        "vector"
      ],
      "metadata": {
        "colab": {
          "base_uri": "https://localhost:8080/"
        },
        "id": "YuFuY1EkrY2Q",
        "outputId": "e6d08398-3792-426a-bbdf-d508d8467241"
      },
      "execution_count": 5,
      "outputs": [
        {
          "output_type": "execute_result",
          "data": {
            "text/plain": [
              "<tf.Tensor: shape=(3,), dtype=int32, numpy=array([10, 20, 30], dtype=int32)>"
            ]
          },
          "metadata": {},
          "execution_count": 5
        }
      ]
    },
    {
      "cell_type": "code",
      "source": [
        "#check the number of dimension of vector\n",
        "vector.ndim"
      ],
      "metadata": {
        "colab": {
          "base_uri": "https://localhost:8080/"
        },
        "id": "YpTj_5e5rY42",
        "outputId": "4c26a60c-1ad5-4c4d-b4b2-fbc223e1696d"
      },
      "execution_count": 6,
      "outputs": [
        {
          "output_type": "execute_result",
          "data": {
            "text/plain": [
              "1"
            ]
          },
          "metadata": {},
          "execution_count": 6
        }
      ]
    },
    {
      "cell_type": "code",
      "source": [
        "#create a matrix(has mor than 1 dimension)\n",
        "matrix = tf.constant([[11,8],\n",
        "                     [8,11]])\n",
        "matrix"
      ],
      "metadata": {
        "colab": {
          "base_uri": "https://localhost:8080/"
        },
        "id": "Nd8O8-_5rY7_",
        "outputId": "ab015881-e70e-40d7-8e9a-4fb2f12f0f8f"
      },
      "execution_count": 7,
      "outputs": [
        {
          "output_type": "execute_result",
          "data": {
            "text/plain": [
              "<tf.Tensor: shape=(2, 2), dtype=int32, numpy=\n",
              "array([[11,  8],\n",
              "       [ 8, 11]], dtype=int32)>"
            ]
          },
          "metadata": {},
          "execution_count": 7
        }
      ]
    },
    {
      "cell_type": "code",
      "source": [
        "#check for the number of dimensions\n",
        "matrix.ndim"
      ],
      "metadata": {
        "colab": {
          "base_uri": "https://localhost:8080/"
        },
        "id": "yri4N2EkrY-o",
        "outputId": "fdd7a998-75ee-425e-a474-bd611995a3fe"
      },
      "execution_count": 8,
      "outputs": [
        {
          "output_type": "execute_result",
          "data": {
            "text/plain": [
              "2"
            ]
          },
          "metadata": {},
          "execution_count": 8
        }
      ]
    },
    {
      "cell_type": "code",
      "source": [
        "#create another matrix\n",
        "another_matrix = tf.constant([[1, 2, 3],\n",
        "                             [1, 2, 3],\n",
        "                             [1, 2, 3]],dtype = tf.float16) #specify dtype of tensor\n",
        "another_matrix"
      ],
      "metadata": {
        "colab": {
          "base_uri": "https://localhost:8080/"
        },
        "id": "IlrMFzBUIy8O",
        "outputId": "6292194b-fe9c-4da5-ba33-4e304b8608ee"
      },
      "execution_count": 9,
      "outputs": [
        {
          "output_type": "execute_result",
          "data": {
            "text/plain": [
              "<tf.Tensor: shape=(3, 3), dtype=float16, numpy=\n",
              "array([[1., 2., 3.],\n",
              "       [1., 2., 3.],\n",
              "       [1., 2., 3.]], dtype=float16)>"
            ]
          },
          "metadata": {},
          "execution_count": 9
        }
      ]
    },
    {
      "cell_type": "code",
      "source": [
        "#creating 3 dimensinal matrix\n",
        "threed_dimen = tf.constant([[[11,8],[1,2]],\n",
        "                            [[8,11],[1,2]],\n",
        "                            [[11,2],[1,2]]])\n",
        "threed_dimen"
      ],
      "metadata": {
        "colab": {
          "base_uri": "https://localhost:8080/"
        },
        "id": "M4gbumFSGWdG",
        "outputId": "63968f40-59db-4cc5-f681-2a78a3ecae98"
      },
      "execution_count": 10,
      "outputs": [
        {
          "output_type": "execute_result",
          "data": {
            "text/plain": [
              "<tf.Tensor: shape=(3, 2, 2), dtype=int32, numpy=\n",
              "array([[[11,  8],\n",
              "        [ 1,  2]],\n",
              "\n",
              "       [[ 8, 11],\n",
              "        [ 1,  2]],\n",
              "\n",
              "       [[11,  2],\n",
              "        [ 1,  2]]], dtype=int32)>"
            ]
          },
          "metadata": {},
          "execution_count": 10
        }
      ]
    },
    {
      "cell_type": "code",
      "source": [
        "#check for the number of dimentions\n",
        "threed_dimen.ndim"
      ],
      "metadata": {
        "colab": {
          "base_uri": "https://localhost:8080/"
        },
        "id": "L4EAGFr0Gg6E",
        "outputId": "fa5e0978-956d-4f7c-8b2f-79d2710a7269"
      },
      "execution_count": 11,
      "outputs": [
        {
          "output_type": "execute_result",
          "data": {
            "text/plain": [
              "3"
            ]
          },
          "metadata": {},
          "execution_count": 11
        }
      ]
    },
    {
      "cell_type": "code",
      "source": [
        "#creat 4 dimensinal matrix\n",
        "four_dimen = tf.constant([[[[1,2,3],[1,2,3]],\n",
        "                          [[1,2,3],[1,2,3]]],\n",
        "                          [[[1,2,3],[1,2,3]],\n",
        "                          [[1,2,3],[1,2,3]]]])\n",
        "four_dimen"
      ],
      "metadata": {
        "colab": {
          "base_uri": "https://localhost:8080/"
        },
        "id": "kX88Rw_bHPe4",
        "outputId": "b5025b1b-5efe-4124-bc0e-8a04e36e0d01"
      },
      "execution_count": 12,
      "outputs": [
        {
          "output_type": "execute_result",
          "data": {
            "text/plain": [
              "<tf.Tensor: shape=(2, 2, 2, 3), dtype=int32, numpy=\n",
              "array([[[[1, 2, 3],\n",
              "         [1, 2, 3]],\n",
              "\n",
              "        [[1, 2, 3],\n",
              "         [1, 2, 3]]],\n",
              "\n",
              "\n",
              "       [[[1, 2, 3],\n",
              "         [1, 2, 3]],\n",
              "\n",
              "        [[1, 2, 3],\n",
              "         [1, 2, 3]]]], dtype=int32)>"
            ]
          },
          "metadata": {},
          "execution_count": 12
        }
      ]
    },
    {
      "cell_type": "code",
      "source": [
        "four_dimen.ndim"
      ],
      "metadata": {
        "colab": {
          "base_uri": "https://localhost:8080/"
        },
        "id": "1ey5ACz1Htwl",
        "outputId": "acaf09c2-4b28-4160-bad0-67b1fbcf46db"
      },
      "execution_count": 13,
      "outputs": [
        {
          "output_type": "execute_result",
          "data": {
            "text/plain": [
              "4"
            ]
          },
          "metadata": {},
          "execution_count": 13
        }
      ]
    },
    {
      "cell_type": "markdown",
      "source": [
        "### What we have learned so far:\n",
        "* Scalar: a single number\n",
        "* Vector: a number with direction\n",
        "* Matrix: 2 dimensional array\n",
        "* Tensor: n dimensional array(n can be any number, o dimensinal is a scalar, 1 dimensional is a vector)"
      ],
      "metadata": {
        "id": "DBDEu1LKLHZf"
      }
    },
    {
      "cell_type": "markdown",
      "source": [
        "### Creating Tensor with tf.Variable()"
      ],
      "metadata": {
        "id": "xcAPvQWcMihy"
      }
    },
    {
      "cell_type": "code",
      "source": [
        "#create same tensor with tf.Variable() and tf.constant()\n",
        "changeable_tensor = tf.Variable([1,2,3,4])\n",
        "unchangeable_tensor = tf.constant([1,2,3,4])\n",
        "changeable_tensor,unchangeable_tensor"
      ],
      "metadata": {
        "colab": {
          "base_uri": "https://localhost:8080/"
        },
        "id": "mbqFlCTnMX-1",
        "outputId": "0bd65991-2067-4f6b-cc54-5ca23deec690"
      },
      "execution_count": 14,
      "outputs": [
        {
          "output_type": "execute_result",
          "data": {
            "text/plain": [
              "(<tf.Variable 'Variable:0' shape=(4,) dtype=int32, numpy=array([1, 2, 3, 4], dtype=int32)>,\n",
              " <tf.Tensor: shape=(4,), dtype=int32, numpy=array([1, 2, 3, 4], dtype=int32)>)"
            ]
          },
          "metadata": {},
          "execution_count": 14
        }
      ]
    },
    {
      "cell_type": "code",
      "source": [
        "#Let's try to change changeable_tensor\n",
        "changeable_tensor[1] = 4\n",
        "changeable_tensor"
      ],
      "metadata": {
        "colab": {
          "base_uri": "https://localhost:8080/",
          "height": 204
        },
        "id": "-9XI5cwaMYTw",
        "outputId": "eec8b297-188d-459a-8a08-27b321d59f24"
      },
      "execution_count": 15,
      "outputs": [
        {
          "output_type": "error",
          "ename": "TypeError",
          "evalue": "ignored",
          "traceback": [
            "\u001b[0;31m---------------------------------------------------------------------------\u001b[0m",
            "\u001b[0;31mTypeError\u001b[0m                                 Traceback (most recent call last)",
            "\u001b[0;32m<ipython-input-15-015b4c9d5078>\u001b[0m in \u001b[0;36m<cell line: 2>\u001b[0;34m()\u001b[0m\n\u001b[1;32m      1\u001b[0m \u001b[0;31m#Let's try to change changeable_tensor\u001b[0m\u001b[0;34m\u001b[0m\u001b[0;34m\u001b[0m\u001b[0m\n\u001b[0;32m----> 2\u001b[0;31m \u001b[0mchangeable_tensor\u001b[0m\u001b[0;34m[\u001b[0m\u001b[0;36m1\u001b[0m\u001b[0;34m]\u001b[0m \u001b[0;34m=\u001b[0m \u001b[0;36m4\u001b[0m\u001b[0;34m\u001b[0m\u001b[0;34m\u001b[0m\u001b[0m\n\u001b[0m\u001b[1;32m      3\u001b[0m \u001b[0mchangeable_tensor\u001b[0m\u001b[0;34m\u001b[0m\u001b[0;34m\u001b[0m\u001b[0m\n",
            "\u001b[0;31mTypeError\u001b[0m: 'ResourceVariable' object does not support item assignment"
          ]
        }
      ]
    },
    {
      "cell_type": "code",
      "source": [
        "#What about .assign()?\n",
        "changeable_tensor[3].assign(7)\n",
        "changeable_tensor\n",
        "#constant doesn't have .assign() function"
      ],
      "metadata": {
        "colab": {
          "base_uri": "https://localhost:8080/"
        },
        "id": "CTlz8yMbMYdY",
        "outputId": "ea6f7c25-42d2-4260-824b-ed982d2d67a1"
      },
      "execution_count": 93,
      "outputs": [
        {
          "output_type": "execute_result",
          "data": {
            "text/plain": [
              "<tf.Variable 'Variable:0' shape=(4,) dtype=int32, numpy=array([1, 2, 3, 7], dtype=int32)>"
            ]
          },
          "metadata": {},
          "execution_count": 93
        }
      ]
    },
    {
      "cell_type": "markdown",
      "source": [
        "### Creating random tensors"
      ],
      "metadata": {
        "id": "FtZHzPKdUbE-"
      }
    },
    {
      "cell_type": "code",
      "source": [
        "#create 2 tensors\n",
        "tensor_1 = tf.random.Generator.from_seed(45) # set seed for reproducibility\n",
        "tensor_1 = tensor_1.uniform(shape=(3,2))\n",
        "tensor_2 = tf.random.Generator.from_seed(45) \n",
        "tensor_2 = tensor_2.uniform(shape=(3,2))\n",
        "tensor_1, tensor_2, tensor_1 == tensor_2"
      ],
      "metadata": {
        "colab": {
          "base_uri": "https://localhost:8080/"
        },
        "id": "r8Wp8d0hMYwe",
        "outputId": "18cc999f-a466-4b91-db3c-b7245530b4d1"
      },
      "execution_count": 94,
      "outputs": [
        {
          "output_type": "execute_result",
          "data": {
            "text/plain": [
              "(<tf.Tensor: shape=(3, 2), dtype=float32, numpy=\n",
              " array([[0.86540747, 0.8862978 ],\n",
              "        [0.27795732, 0.8857763 ],\n",
              "        [0.2179842 , 0.29115117]], dtype=float32)>,\n",
              " <tf.Tensor: shape=(3, 2), dtype=float32, numpy=\n",
              " array([[0.86540747, 0.8862978 ],\n",
              "        [0.27795732, 0.8857763 ],\n",
              "        [0.2179842 , 0.29115117]], dtype=float32)>,\n",
              " <tf.Tensor: shape=(3, 2), dtype=bool, numpy=\n",
              " array([[ True,  True],\n",
              "        [ True,  True],\n",
              "        [ True,  True]])>)"
            ]
          },
          "metadata": {},
          "execution_count": 94
        }
      ]
    },
    {
      "cell_type": "markdown",
      "source": [
        "### Shuffle the order of elements in a tensor"
      ],
      "metadata": {
        "id": "MbeTAS_DaWnC"
      }
    },
    {
      "cell_type": "code",
      "source": [
        "#Let's use tf.random.shuffle() to shuffle our tensor\n",
        "not_shuffled = tf.constant([1,2,3,4,5])\n",
        "shuffled = tf.random.shuffle(not_shuffled)\n",
        "shuffled"
      ],
      "metadata": {
        "colab": {
          "base_uri": "https://localhost:8080/"
        },
        "id": "zVg9hIPBMZDz",
        "outputId": "ba2ca88c-9092-4f7e-8096-942f57eed47c"
      },
      "execution_count": 95,
      "outputs": [
        {
          "output_type": "execute_result",
          "data": {
            "text/plain": [
              "<tf.Tensor: shape=(5,), dtype=int32, numpy=array([4, 5, 2, 1, 3], dtype=int32)>"
            ]
          },
          "metadata": {},
          "execution_count": 95
        }
      ]
    },
    {
      "cell_type": "code",
      "source": [
        "#Let's look at the 2 dimensional tensor\n",
        "not_shuffled = tf.constant([[1,2,3,4,5],[6,7,8,9,10]])\n",
        "shuffled = tf.random.shuffle(not_shuffled)\n",
        "not_shuffled,shuffled"
      ],
      "metadata": {
        "colab": {
          "base_uri": "https://localhost:8080/"
        },
        "id": "KR9BQ00BMZKk",
        "outputId": "ddd756b1-c413-4095-c1cf-e6a85271f01b"
      },
      "execution_count": 96,
      "outputs": [
        {
          "output_type": "execute_result",
          "data": {
            "text/plain": [
              "(<tf.Tensor: shape=(2, 5), dtype=int32, numpy=\n",
              " array([[ 1,  2,  3,  4,  5],\n",
              "        [ 6,  7,  8,  9, 10]], dtype=int32)>,\n",
              " <tf.Tensor: shape=(2, 5), dtype=int32, numpy=\n",
              " array([[ 1,  2,  3,  4,  5],\n",
              "        [ 6,  7,  8,  9, 10]], dtype=int32)>)"
            ]
          },
          "metadata": {},
          "execution_count": 96
        }
      ]
    },
    {
      "cell_type": "code",
      "source": [
        "tf.random.set_seed(42) # global level random seed\n",
        "tf.random.shuffle(not_shuffled,seed = 42) # operation level random seed\n"
      ],
      "metadata": {
        "colab": {
          "base_uri": "https://localhost:8080/"
        },
        "id": "u8r2e9dRMZRl",
        "outputId": "e30ffcee-dcac-496b-a383-f6354e9262e3"
      },
      "execution_count": 97,
      "outputs": [
        {
          "output_type": "execute_result",
          "data": {
            "text/plain": [
              "<tf.Tensor: shape=(2, 5), dtype=int32, numpy=\n",
              "array([[ 6,  7,  8,  9, 10],\n",
              "       [ 1,  2,  3,  4,  5]], dtype=int32)>"
            ]
          },
          "metadata": {},
          "execution_count": 97
        }
      ]
    },
    {
      "cell_type": "markdown",
      "source": [
        "### Other Ways to Create Tensors"
      ],
      "metadata": {
        "id": "XMxcGK9OeV7T"
      }
    },
    {
      "cell_type": "code",
      "source": [
        "#create tensor of all ones\n",
        "tf.ones(shape = (3,6))"
      ],
      "metadata": {
        "colab": {
          "base_uri": "https://localhost:8080/"
        },
        "id": "d9-jsu2_MZZC",
        "outputId": "c501747d-c805-4973-b1ee-db586196b637"
      },
      "execution_count": 16,
      "outputs": [
        {
          "output_type": "execute_result",
          "data": {
            "text/plain": [
              "<tf.Tensor: shape=(3, 6), dtype=float32, numpy=\n",
              "array([[1., 1., 1., 1., 1., 1.],\n",
              "       [1., 1., 1., 1., 1., 1.],\n",
              "       [1., 1., 1., 1., 1., 1.]], dtype=float32)>"
            ]
          },
          "metadata": {},
          "execution_count": 16
        }
      ]
    },
    {
      "cell_type": "code",
      "source": [
        "#create tensor of all zeroes\n",
        "tf.zeros(shape = (4,5))"
      ],
      "metadata": {
        "colab": {
          "base_uri": "https://localhost:8080/"
        },
        "id": "R7zsP8WUMZgu",
        "outputId": "6a6ca317-1436-4110-b318-7f6a2276b7ca"
      },
      "execution_count": 17,
      "outputs": [
        {
          "output_type": "execute_result",
          "data": {
            "text/plain": [
              "<tf.Tensor: shape=(4, 5), dtype=float32, numpy=\n",
              "array([[0., 0., 0., 0., 0.],\n",
              "       [0., 0., 0., 0., 0.],\n",
              "       [0., 0., 0., 0., 0.],\n",
              "       [0., 0., 0., 0., 0.]], dtype=float32)>"
            ]
          },
          "metadata": {},
          "execution_count": 17
        }
      ]
    },
    {
      "cell_type": "markdown",
      "source": [
        "### Turn NumPy arrays into Tensors\n",
        "The main difference between NumPy arrays and TensorFlow Tensors is tensors can run on the GPU(way much faster for numerical computing)"
      ],
      "metadata": {
        "id": "Uq3TgNV-gwfs"
      }
    },
    {
      "cell_type": "code",
      "source": [
        "#creating numpy array\n",
        "import numpy as np\n",
        "numpy_array = np.arange(1,25,dtype = np.int32) #create NumPy array between 1 and 25\n",
        "numpy_array"
      ],
      "metadata": {
        "colab": {
          "base_uri": "https://localhost:8080/"
        },
        "id": "sSWZdQzfMZoN",
        "outputId": "cdcb6ce2-9656-47f9-8240-9c5e326ff923"
      },
      "execution_count": 18,
      "outputs": [
        {
          "output_type": "execute_result",
          "data": {
            "text/plain": [
              "array([ 1,  2,  3,  4,  5,  6,  7,  8,  9, 10, 11, 12, 13, 14, 15, 16, 17,\n",
              "       18, 19, 20, 21, 22, 23, 24], dtype=int32)"
            ]
          },
          "metadata": {},
          "execution_count": 18
        }
      ]
    },
    {
      "cell_type": "code",
      "source": [
        "#turn into tensor\n",
        "tensor_1 = tf.constant(numpy_array)\n",
        "#change shape of tensor\n",
        "tensor_2 = tf.constant(numpy_array,shape = (2,3,4)) # 2*3*4 = 24\n",
        "tensor_1,tensor_2"
      ],
      "metadata": {
        "colab": {
          "base_uri": "https://localhost:8080/"
        },
        "id": "zj26zURdMZvu",
        "outputId": "dd0bfe6f-3573-4f45-b5d4-abf660cc58c8"
      },
      "execution_count": 19,
      "outputs": [
        {
          "output_type": "execute_result",
          "data": {
            "text/plain": [
              "(<tf.Tensor: shape=(24,), dtype=int32, numpy=\n",
              " array([ 1,  2,  3,  4,  5,  6,  7,  8,  9, 10, 11, 12, 13, 14, 15, 16, 17,\n",
              "        18, 19, 20, 21, 22, 23, 24], dtype=int32)>,\n",
              " <tf.Tensor: shape=(2, 3, 4), dtype=int32, numpy=\n",
              " array([[[ 1,  2,  3,  4],\n",
              "         [ 5,  6,  7,  8],\n",
              "         [ 9, 10, 11, 12]],\n",
              " \n",
              "        [[13, 14, 15, 16],\n",
              "         [17, 18, 19, 20],\n",
              "         [21, 22, 23, 24]]], dtype=int32)>)"
            ]
          },
          "metadata": {},
          "execution_count": 19
        }
      ]
    },
    {
      "cell_type": "markdown",
      "source": [
        "### Getting Information from Tensors.\n",
        "When dealing with tensors, you probably wanna be aware of following attributes:\n",
        "* Shape\n",
        "* Rank\n",
        "* Axis or Dimension\n",
        "* Size"
      ],
      "metadata": {
        "id": "Khyjez6njuCU"
      }
    },
    {
      "cell_type": "code",
      "source": [
        "#create rank 4 tensor(4 dimensional)\n",
        "rank4_tensor = tf.ones(shape = (2,2,3,4))\n",
        "rank4_tensor"
      ],
      "metadata": {
        "colab": {
          "base_uri": "https://localhost:8080/"
        },
        "id": "yIEPzROaMZ3T",
        "outputId": "5728d293-a389-4a99-8d20-6d860ae0e85c"
      },
      "execution_count": 20,
      "outputs": [
        {
          "output_type": "execute_result",
          "data": {
            "text/plain": [
              "<tf.Tensor: shape=(2, 2, 3, 4), dtype=float32, numpy=\n",
              "array([[[[1., 1., 1., 1.],\n",
              "         [1., 1., 1., 1.],\n",
              "         [1., 1., 1., 1.]],\n",
              "\n",
              "        [[1., 1., 1., 1.],\n",
              "         [1., 1., 1., 1.],\n",
              "         [1., 1., 1., 1.]]],\n",
              "\n",
              "\n",
              "       [[[1., 1., 1., 1.],\n",
              "         [1., 1., 1., 1.],\n",
              "         [1., 1., 1., 1.]],\n",
              "\n",
              "        [[1., 1., 1., 1.],\n",
              "         [1., 1., 1., 1.],\n",
              "         [1., 1., 1., 1.]]]], dtype=float32)>"
            ]
          },
          "metadata": {},
          "execution_count": 20
        }
      ]
    },
    {
      "cell_type": "code",
      "source": [
        "#looking for shape,rank and size of rank4_tensor\n",
        "rank4_tensor.shape,rank4_tensor.ndim,tf.size(rank4_tensor)"
      ],
      "metadata": {
        "colab": {
          "base_uri": "https://localhost:8080/"
        },
        "id": "JkORDES8n0PX",
        "outputId": "3a1e6b18-7b53-4a08-e5c0-3a03b86f653e"
      },
      "execution_count": 21,
      "outputs": [
        {
          "output_type": "execute_result",
          "data": {
            "text/plain": [
              "(TensorShape([2, 2, 3, 4]), 4, <tf.Tensor: shape=(), dtype=int32, numpy=48>)"
            ]
          },
          "metadata": {},
          "execution_count": 21
        }
      ]
    },
    {
      "cell_type": "markdown",
      "source": [
        "Let's look at previous example:\n",
        "* Shape - Shape of Tensor\n",
        "* Rank - Number of Dimensions\n",
        "* Size - Total Number of Elements in the Tensor"
      ],
      "metadata": {
        "id": "ubocmL4Xore4"
      }
    },
    {
      "cell_type": "markdown",
      "source": [
        "### Indexing\n",
        "Tensors can be indexed like Python Lists or NumPy Arrays"
      ],
      "metadata": {
        "id": "lwYXrWfTqVSg"
      }
    },
    {
      "cell_type": "code",
      "source": [
        "# Get the first 2 elements if each dimension\n",
        "rank4_tensor[:2,:2,:2,:2]"
      ],
      "metadata": {
        "colab": {
          "base_uri": "https://localhost:8080/"
        },
        "id": "YwKtZWS7qdWd",
        "outputId": "787224b7-ff93-4ac2-c590-eb762ab5f83c"
      },
      "execution_count": 22,
      "outputs": [
        {
          "output_type": "execute_result",
          "data": {
            "text/plain": [
              "<tf.Tensor: shape=(2, 2, 2, 2), dtype=float32, numpy=\n",
              "array([[[[1., 1.],\n",
              "         [1., 1.]],\n",
              "\n",
              "        [[1., 1.],\n",
              "         [1., 1.]]],\n",
              "\n",
              "\n",
              "       [[[1., 1.],\n",
              "         [1., 1.]],\n",
              "\n",
              "        [[1., 1.],\n",
              "         [1., 1.]]]], dtype=float32)>"
            ]
          },
          "metadata": {},
          "execution_count": 22
        }
      ]
    },
    {
      "cell_type": "code",
      "source": [
        "#Get the first element from each dimension from each index except final dimension\n",
        "rank4_tensor[:1,:1,:1,:]"
      ],
      "metadata": {
        "colab": {
          "base_uri": "https://localhost:8080/"
        },
        "id": "coztNKDpqtmu",
        "outputId": "ad6a9558-fdaf-45f7-e975-add31bdb481e"
      },
      "execution_count": 23,
      "outputs": [
        {
          "output_type": "execute_result",
          "data": {
            "text/plain": [
              "<tf.Tensor: shape=(1, 1, 1, 4), dtype=float32, numpy=array([[[[1., 1., 1., 1.]]]], dtype=float32)>"
            ]
          },
          "metadata": {},
          "execution_count": 23
        }
      ]
    },
    {
      "cell_type": "code",
      "source": [
        "#create rank 2 tensor\n",
        "rank_2_tensor = tf.constant([[1,2,3,4,5],[6,7,8,9,10]])\n",
        "rank_2_tensor"
      ],
      "metadata": {
        "colab": {
          "base_uri": "https://localhost:8080/"
        },
        "id": "xISMFXtHrhEK",
        "outputId": "1ca47313-9a92-40db-975e-f253af9c5755"
      },
      "execution_count": 24,
      "outputs": [
        {
          "output_type": "execute_result",
          "data": {
            "text/plain": [
              "<tf.Tensor: shape=(2, 5), dtype=int32, numpy=\n",
              "array([[ 1,  2,  3,  4,  5],\n",
              "       [ 6,  7,  8,  9, 10]], dtype=int32)>"
            ]
          },
          "metadata": {},
          "execution_count": 24
        }
      ]
    },
    {
      "cell_type": "code",
      "source": [
        "#get the last item of each of row of  our rank tensor\n",
        "rank_2_tensor[:,-1]"
      ],
      "metadata": {
        "colab": {
          "base_uri": "https://localhost:8080/"
        },
        "id": "Nlg0FGE-s74q",
        "outputId": "289e8028-6cda-4b4b-bc63-5450dcb519d6"
      },
      "execution_count": 25,
      "outputs": [
        {
          "output_type": "execute_result",
          "data": {
            "text/plain": [
              "<tf.Tensor: shape=(2,), dtype=int32, numpy=array([ 5, 10], dtype=int32)>"
            ]
          },
          "metadata": {},
          "execution_count": 25
        }
      ]
    },
    {
      "cell_type": "code",
      "source": [
        "# add in extra dimension to rank_2_tensor\n",
        "rank_3_tensor = rank_2_tensor[...,tf.newaxis]\n",
        "rank_3_tensor"
      ],
      "metadata": {
        "colab": {
          "base_uri": "https://localhost:8080/"
        },
        "id": "w4XCrrD7tZZ_",
        "outputId": "73c69c12-8245-43f3-fd15-84288faa3d64"
      },
      "execution_count": 26,
      "outputs": [
        {
          "output_type": "execute_result",
          "data": {
            "text/plain": [
              "<tf.Tensor: shape=(2, 5, 1), dtype=int32, numpy=\n",
              "array([[[ 1],\n",
              "        [ 2],\n",
              "        [ 3],\n",
              "        [ 4],\n",
              "        [ 5]],\n",
              "\n",
              "       [[ 6],\n",
              "        [ 7],\n",
              "        [ 8],\n",
              "        [ 9],\n",
              "        [10]]], dtype=int32)>"
            ]
          },
          "metadata": {},
          "execution_count": 26
        }
      ]
    },
    {
      "cell_type": "code",
      "source": [
        "#Alternative to the tf.newaxis\n",
        "tf.expand_dims(rank_2_tensor,axis = -1)"
      ],
      "metadata": {
        "colab": {
          "base_uri": "https://localhost:8080/"
        },
        "id": "gVJlo863vAjx",
        "outputId": "2f345010-691d-4d89-d861-60050170484c"
      },
      "execution_count": 27,
      "outputs": [
        {
          "output_type": "execute_result",
          "data": {
            "text/plain": [
              "<tf.Tensor: shape=(2, 5, 1), dtype=int32, numpy=\n",
              "array([[[ 1],\n",
              "        [ 2],\n",
              "        [ 3],\n",
              "        [ 4],\n",
              "        [ 5]],\n",
              "\n",
              "       [[ 6],\n",
              "        [ 7],\n",
              "        [ 8],\n",
              "        [ 9],\n",
              "        [10]]], dtype=int32)>"
            ]
          },
          "metadata": {},
          "execution_count": 27
        }
      ]
    },
    {
      "cell_type": "code",
      "source": [
        "#adding di,ension to the first axis\n",
        "tf.expand_dims(rank_2_tensor,axis=0)"
      ],
      "metadata": {
        "colab": {
          "base_uri": "https://localhost:8080/"
        },
        "id": "78VlJibivfHX",
        "outputId": "bb903c52-4209-432a-e632-cae9ac821008"
      },
      "execution_count": 28,
      "outputs": [
        {
          "output_type": "execute_result",
          "data": {
            "text/plain": [
              "<tf.Tensor: shape=(1, 2, 5), dtype=int32, numpy=\n",
              "array([[[ 1,  2,  3,  4,  5],\n",
              "        [ 6,  7,  8,  9, 10]]], dtype=int32)>"
            ]
          },
          "metadata": {},
          "execution_count": 28
        }
      ]
    },
    {
      "cell_type": "code",
      "source": [
        "#adding di,ension to the middle\n",
        "tf.expand_dims(rank_2_tensor,axis=1)"
      ],
      "metadata": {
        "colab": {
          "base_uri": "https://localhost:8080/"
        },
        "id": "FfbEqbwwxUcc",
        "outputId": "488849c3-02f1-458d-a9de-2bb1cc64e8fc"
      },
      "execution_count": 29,
      "outputs": [
        {
          "output_type": "execute_result",
          "data": {
            "text/plain": [
              "<tf.Tensor: shape=(2, 1, 5), dtype=int32, numpy=\n",
              "array([[[ 1,  2,  3,  4,  5]],\n",
              "\n",
              "       [[ 6,  7,  8,  9, 10]]], dtype=int32)>"
            ]
          },
          "metadata": {},
          "execution_count": 29
        }
      ]
    },
    {
      "cell_type": "code",
      "source": [
        "#lookig for some attributes in the tensor\n",
        "print(\"The Shape of Tensor:\",tf.expand_dims(rank_2_tensor,axis=1).shape)\n",
        "print(\"The Number of Dimensions:\",tf.expand_dims(rank_2_tensor,axis=1).ndim)\n",
        "print(\"The total number of elements:\",tf.size(tf.expand_dims(rank_2_tensor,axis=1)))"
      ],
      "metadata": {
        "colab": {
          "base_uri": "https://localhost:8080/"
        },
        "id": "wejFHvONxaLE",
        "outputId": "04fa36ed-6648-4071-877b-d39131ede20a"
      },
      "execution_count": 30,
      "outputs": [
        {
          "output_type": "stream",
          "name": "stdout",
          "text": [
            "The Shape of Tensor: (2, 1, 5)\n",
            "The Number of Dimensions: 3\n",
            "The total number of elements: tf.Tensor(10, shape=(), dtype=int32)\n"
          ]
        }
      ]
    },
    {
      "cell_type": "markdown",
      "source": [
        "### Manupulating tensors(tensor operations)\n",
        "**Basic Operations**\n",
        "\n",
        "\n",
        "\n"
      ],
      "metadata": {
        "id": "0Scv-zJUyh_6"
      }
    },
    {
      "cell_type": "code",
      "source": [
        "#addition\n",
        "tensor = tf.constant([[10,20],[30,40]])\n",
        "tensor + 10"
      ],
      "metadata": {
        "colab": {
          "base_uri": "https://localhost:8080/"
        },
        "id": "hKY9dMjOxde3",
        "outputId": "318e3b8f-602d-4a99-e472-eccfeb314ddd"
      },
      "execution_count": 31,
      "outputs": [
        {
          "output_type": "execute_result",
          "data": {
            "text/plain": [
              "<tf.Tensor: shape=(2, 2), dtype=int32, numpy=\n",
              "array([[20, 30],\n",
              "       [40, 50]], dtype=int32)>"
            ]
          },
          "metadata": {},
          "execution_count": 31
        }
      ]
    },
    {
      "cell_type": "code",
      "source": [
        "# Original tensor is not changed\n",
        "tensor"
      ],
      "metadata": {
        "colab": {
          "base_uri": "https://localhost:8080/"
        },
        "id": "XQgQG7oKyGzr",
        "outputId": "616e259e-d303-44d1-9aac-5330c05c100d"
      },
      "execution_count": 32,
      "outputs": [
        {
          "output_type": "execute_result",
          "data": {
            "text/plain": [
              "<tf.Tensor: shape=(2, 2), dtype=int32, numpy=\n",
              "array([[10, 20],\n",
              "       [30, 40]], dtype=int32)>"
            ]
          },
          "metadata": {},
          "execution_count": 32
        }
      ]
    },
    {
      "cell_type": "code",
      "source": [
        "#multiplication also works\n",
        "tensor * 10"
      ],
      "metadata": {
        "colab": {
          "base_uri": "https://localhost:8080/"
        },
        "id": "kJ4JF1MOzX3C",
        "outputId": "985a8876-33e9-42dc-dbf4-ad76ed754ab2"
      },
      "execution_count": 33,
      "outputs": [
        {
          "output_type": "execute_result",
          "data": {
            "text/plain": [
              "<tf.Tensor: shape=(2, 2), dtype=int32, numpy=\n",
              "array([[100, 200],\n",
              "       [300, 400]], dtype=int32)>"
            ]
          },
          "metadata": {},
          "execution_count": 33
        }
      ]
    },
    {
      "cell_type": "code",
      "source": [
        "#subtraction\n",
        "tensor - 10"
      ],
      "metadata": {
        "colab": {
          "base_uri": "https://localhost:8080/"
        },
        "id": "kuDU1GZuze2q",
        "outputId": "38c123b1-b0dc-448f-a517-9f91edc9076d"
      },
      "execution_count": 34,
      "outputs": [
        {
          "output_type": "execute_result",
          "data": {
            "text/plain": [
              "<tf.Tensor: shape=(2, 2), dtype=int32, numpy=\n",
              "array([[ 0, 10],\n",
              "       [20, 30]], dtype=int32)>"
            ]
          },
          "metadata": {},
          "execution_count": 34
        }
      ]
    },
    {
      "cell_type": "markdown",
      "source": [
        "### Matrix *Multiplication*\n",
        "\n",
        "  In machine Learning, Matrix multiplication is one of the most usefull and important operation.\n",
        " \n",
        "  There are 2 rules to multiply our tensors(or matrices):\n",
        "\n",
        "1. The inner dimensions must match.\n",
        "2. The resulting matrix has the shape of outher dimensions."
      ],
      "metadata": {
        "id": "5cTC1rG63I5e"
      }
    },
    {
      "cell_type": "code",
      "source": [
        "#matrix multiplication in tensowflow\n",
        "print(tensor)\n",
        "tf.linalg.matmul(tensor,tensor)"
      ],
      "metadata": {
        "id": "boDh-0_uzfkV",
        "colab": {
          "base_uri": "https://localhost:8080/"
        },
        "outputId": "8fb40c92-2b78-4a3b-c8f6-1c15d70286b1"
      },
      "execution_count": 35,
      "outputs": [
        {
          "output_type": "stream",
          "name": "stdout",
          "text": [
            "tf.Tensor(\n",
            "[[10 20]\n",
            " [30 40]], shape=(2, 2), dtype=int32)\n"
          ]
        },
        {
          "output_type": "execute_result",
          "data": {
            "text/plain": [
              "<tf.Tensor: shape=(2, 2), dtype=int32, numpy=\n",
              "array([[ 700, 1000],\n",
              "       [1500, 2200]], dtype=int32)>"
            ]
          },
          "metadata": {},
          "execution_count": 35
        }
      ]
    },
    {
      "cell_type": "code",
      "source": [
        "tensor * tensor"
      ],
      "metadata": {
        "colab": {
          "base_uri": "https://localhost:8080/"
        },
        "id": "fZjHdB3CY3pP",
        "outputId": "a1960c74-cf34-49f1-ada6-940ad5d701a4"
      },
      "execution_count": 36,
      "outputs": [
        {
          "output_type": "execute_result",
          "data": {
            "text/plain": [
              "<tf.Tensor: shape=(2, 2), dtype=int32, numpy=\n",
              "array([[ 100,  400],\n",
              "       [ 900, 1600]], dtype=int32)>"
            ]
          },
          "metadata": {},
          "execution_count": 36
        }
      ]
    },
    {
      "cell_type": "code",
      "source": [
        "#Task: create tensor with shape of (3,3) and shape of (3,2)\n",
        "tensor_1 = tf.constant([[1,4,5],\n",
        "                        [1,2,5],\n",
        "                        [1,5,9]])\n",
        "\n",
        "tensor_2 = tf.constant([[1,2],\n",
        "                        [8,9],\n",
        "                        [5,6]])"
      ],
      "metadata": {
        "id": "3gjet_rpY3mo"
      },
      "execution_count": 37,
      "outputs": []
    },
    {
      "cell_type": "code",
      "source": [
        "# then multiply them with a Python operation\n",
        "tensor_1 @ tensor_2 #\"@\" in Python for the Matrix Multiplication"
      ],
      "metadata": {
        "colab": {
          "base_uri": "https://localhost:8080/"
        },
        "id": "dZ_0ZMdaY3jx",
        "outputId": "9d49f0f9-bfc7-4ec8-948a-837438b0da3c"
      },
      "execution_count": 38,
      "outputs": [
        {
          "output_type": "execute_result",
          "data": {
            "text/plain": [
              "<tf.Tensor: shape=(3, 2), dtype=int32, numpy=\n",
              "array([[ 58,  68],\n",
              "       [ 42,  50],\n",
              "       [ 86, 101]], dtype=int32)>"
            ]
          },
          "metadata": {},
          "execution_count": 38
        }
      ]
    },
    {
      "cell_type": "code",
      "source": [
        "#let's do that with tf.matmul\n",
        "tf.linalg.matmul(tensor_1,tensor_2)"
      ],
      "metadata": {
        "colab": {
          "base_uri": "https://localhost:8080/"
        },
        "id": "rsCOezE4Y3hL",
        "outputId": "57ed6937-4661-4aed-caac-c2643caffc7e"
      },
      "execution_count": 39,
      "outputs": [
        {
          "output_type": "execute_result",
          "data": {
            "text/plain": [
              "<tf.Tensor: shape=(3, 2), dtype=int32, numpy=\n",
              "array([[ 58,  68],\n",
              "       [ 42,  50],\n",
              "       [ 86, 101]], dtype=int32)>"
            ]
          },
          "metadata": {},
          "execution_count": 39
        }
      ]
    },
    {
      "cell_type": "code",
      "source": [
        "#let's create two tensor with the same shape\n",
        "X = tf.constant([[1,2],\n",
        "                 [3,4],\n",
        "                 [5,6]])\n",
        "y = tf.constant([[7,6],\n",
        "                [8,9],\n",
        "                [4,5]])\n",
        "#let's try to multiply them\n",
        "X @ y"
      ],
      "metadata": {
        "colab": {
          "base_uri": "https://localhost:8080/",
          "height": 371
        },
        "id": "RVcUl3hlY3eT",
        "outputId": "3d034d2f-75d3-4447-a249-bf2151a48546"
      },
      "execution_count": 40,
      "outputs": [
        {
          "output_type": "error",
          "ename": "InvalidArgumentError",
          "evalue": "ignored",
          "traceback": [
            "\u001b[0;31m---------------------------------------------------------------------------\u001b[0m",
            "\u001b[0;31mInvalidArgumentError\u001b[0m                      Traceback (most recent call last)",
            "\u001b[0;32m<ipython-input-40-ec8ed6a29375>\u001b[0m in \u001b[0;36m<cell line: 9>\u001b[0;34m()\u001b[0m\n\u001b[1;32m      7\u001b[0m                 [4,5]])\n\u001b[1;32m      8\u001b[0m \u001b[0;31m#let's try to multiply them\u001b[0m\u001b[0;34m\u001b[0m\u001b[0;34m\u001b[0m\u001b[0m\n\u001b[0;32m----> 9\u001b[0;31m \u001b[0mX\u001b[0m \u001b[0;34m@\u001b[0m \u001b[0my\u001b[0m\u001b[0;34m\u001b[0m\u001b[0;34m\u001b[0m\u001b[0m\n\u001b[0m",
            "\u001b[0;32m/usr/local/lib/python3.10/dist-packages/tensorflow/python/util/traceback_utils.py\u001b[0m in \u001b[0;36merror_handler\u001b[0;34m(*args, **kwargs)\u001b[0m\n\u001b[1;32m    151\u001b[0m     \u001b[0;32mexcept\u001b[0m \u001b[0mException\u001b[0m \u001b[0;32mas\u001b[0m \u001b[0me\u001b[0m\u001b[0;34m:\u001b[0m\u001b[0;34m\u001b[0m\u001b[0;34m\u001b[0m\u001b[0m\n\u001b[1;32m    152\u001b[0m       \u001b[0mfiltered_tb\u001b[0m \u001b[0;34m=\u001b[0m \u001b[0m_process_traceback_frames\u001b[0m\u001b[0;34m(\u001b[0m\u001b[0me\u001b[0m\u001b[0;34m.\u001b[0m\u001b[0m__traceback__\u001b[0m\u001b[0;34m)\u001b[0m\u001b[0;34m\u001b[0m\u001b[0;34m\u001b[0m\u001b[0m\n\u001b[0;32m--> 153\u001b[0;31m       \u001b[0;32mraise\u001b[0m \u001b[0me\u001b[0m\u001b[0;34m.\u001b[0m\u001b[0mwith_traceback\u001b[0m\u001b[0;34m(\u001b[0m\u001b[0mfiltered_tb\u001b[0m\u001b[0;34m)\u001b[0m \u001b[0;32mfrom\u001b[0m \u001b[0;32mNone\u001b[0m\u001b[0;34m\u001b[0m\u001b[0;34m\u001b[0m\u001b[0m\n\u001b[0m\u001b[1;32m    154\u001b[0m     \u001b[0;32mfinally\u001b[0m\u001b[0;34m:\u001b[0m\u001b[0;34m\u001b[0m\u001b[0;34m\u001b[0m\u001b[0m\n\u001b[1;32m    155\u001b[0m       \u001b[0;32mdel\u001b[0m \u001b[0mfiltered_tb\u001b[0m\u001b[0;34m\u001b[0m\u001b[0;34m\u001b[0m\u001b[0m\n",
            "\u001b[0;32m/usr/local/lib/python3.10/dist-packages/tensorflow/python/framework/ops.py\u001b[0m in \u001b[0;36mraise_from_not_ok_status\u001b[0;34m(e, name)\u001b[0m\n\u001b[1;32m   7260\u001b[0m \u001b[0;32mdef\u001b[0m \u001b[0mraise_from_not_ok_status\u001b[0m\u001b[0;34m(\u001b[0m\u001b[0me\u001b[0m\u001b[0;34m,\u001b[0m \u001b[0mname\u001b[0m\u001b[0;34m)\u001b[0m\u001b[0;34m:\u001b[0m\u001b[0;34m\u001b[0m\u001b[0;34m\u001b[0m\u001b[0m\n\u001b[1;32m   7261\u001b[0m   \u001b[0me\u001b[0m\u001b[0;34m.\u001b[0m\u001b[0mmessage\u001b[0m \u001b[0;34m+=\u001b[0m \u001b[0;34m(\u001b[0m\u001b[0;34m\" name: \"\u001b[0m \u001b[0;34m+\u001b[0m \u001b[0mname\u001b[0m \u001b[0;32mif\u001b[0m \u001b[0mname\u001b[0m \u001b[0;32mis\u001b[0m \u001b[0;32mnot\u001b[0m \u001b[0;32mNone\u001b[0m \u001b[0;32melse\u001b[0m \u001b[0;34m\"\"\u001b[0m\u001b[0;34m)\u001b[0m\u001b[0;34m\u001b[0m\u001b[0;34m\u001b[0m\u001b[0m\n\u001b[0;32m-> 7262\u001b[0;31m   \u001b[0;32mraise\u001b[0m \u001b[0mcore\u001b[0m\u001b[0;34m.\u001b[0m\u001b[0m_status_to_exception\u001b[0m\u001b[0;34m(\u001b[0m\u001b[0me\u001b[0m\u001b[0;34m)\u001b[0m \u001b[0;32mfrom\u001b[0m \u001b[0;32mNone\u001b[0m  \u001b[0;31m# pylint: disable=protected-access\u001b[0m\u001b[0;34m\u001b[0m\u001b[0;34m\u001b[0m\u001b[0m\n\u001b[0m\u001b[1;32m   7263\u001b[0m \u001b[0;34m\u001b[0m\u001b[0m\n\u001b[1;32m   7264\u001b[0m \u001b[0;34m\u001b[0m\u001b[0m\n",
            "\u001b[0;31mInvalidArgumentError\u001b[0m: {{function_node __wrapped__MatMul_device_/job:localhost/replica:0/task:0/device:CPU:0}} Matrix size-incompatible: In[0]: [3,2], In[1]: [3,2] [Op:MatMul]"
          ]
        }
      ]
    },
    {
      "cell_type": "code",
      "source": [
        "#let's change the shape of y and try again\n",
        "X @ tf.reshape(y, shape = (2,3))"
      ],
      "metadata": {
        "colab": {
          "base_uri": "https://localhost:8080/"
        },
        "id": "LXIRuS-HxQre",
        "outputId": "1a3ca9df-efef-4efc-c3f7-eacbdcef7dfe"
      },
      "execution_count": 41,
      "outputs": [
        {
          "output_type": "execute_result",
          "data": {
            "text/plain": [
              "<tf.Tensor: shape=(3, 3), dtype=int32, numpy=\n",
              "array([[25, 14, 18],\n",
              "       [57, 34, 44],\n",
              "       [89, 54, 70]], dtype=int32)>"
            ]
          },
          "metadata": {},
          "execution_count": 41
        }
      ]
    },
    {
      "cell_type": "code",
      "source": [
        "#now,reshape the X and we cann see that works or not\n",
        "tf.reshape(X,shape = (2,3)) @ y"
      ],
      "metadata": {
        "colab": {
          "base_uri": "https://localhost:8080/"
        },
        "id": "a8Hv3IVqxQuR",
        "outputId": "618bd0b2-0003-42a3-f4d3-be0ecf1eb9ed"
      },
      "execution_count": 42,
      "outputs": [
        {
          "output_type": "execute_result",
          "data": {
            "text/plain": [
              "<tf.Tensor: shape=(2, 2), dtype=int32, numpy=\n",
              "array([[35, 39],\n",
              "       [92, 99]], dtype=int32)>"
            ]
          },
          "metadata": {},
          "execution_count": 42
        }
      ]
    },
    {
      "cell_type": "code",
      "source": [
        "#Let's see the difference between tf.transpose() and tf,reshape() \n",
        "X,tf.transpose(X),tf.reshape(X,shape=(2,3))"
      ],
      "metadata": {
        "colab": {
          "base_uri": "https://localhost:8080/"
        },
        "id": "KrdZsk80825E",
        "outputId": "1c83aee7-a42d-4d35-c69b-384bb7f31f0e"
      },
      "execution_count": 43,
      "outputs": [
        {
          "output_type": "execute_result",
          "data": {
            "text/plain": [
              "(<tf.Tensor: shape=(3, 2), dtype=int32, numpy=\n",
              " array([[1, 2],\n",
              "        [3, 4],\n",
              "        [5, 6]], dtype=int32)>,\n",
              " <tf.Tensor: shape=(2, 3), dtype=int32, numpy=\n",
              " array([[1, 3, 5],\n",
              "        [2, 4, 6]], dtype=int32)>,\n",
              " <tf.Tensor: shape=(2, 3), dtype=int32, numpy=\n",
              " array([[1, 2, 3],\n",
              "        [4, 5, 6]], dtype=int32)>)"
            ]
          },
          "metadata": {},
          "execution_count": 43
        }
      ]
    },
    {
      "cell_type": "code",
      "source": [
        "#can do same thing with tf.transpose()\n",
        "tf.transpose(X) @ y"
      ],
      "metadata": {
        "colab": {
          "base_uri": "https://localhost:8080/"
        },
        "id": "EgayFn2QxQ0R",
        "outputId": "944477dc-726b-4db7-c40c-992f24b188c0"
      },
      "execution_count": 44,
      "outputs": [
        {
          "output_type": "execute_result",
          "data": {
            "text/plain": [
              "<tf.Tensor: shape=(2, 2), dtype=int32, numpy=\n",
              "array([[51, 58],\n",
              "       [70, 78]], dtype=int32)>"
            ]
          },
          "metadata": {},
          "execution_count": 44
        }
      ]
    },
    {
      "cell_type": "code",
      "source": [
        "#transpose y instead of X\n",
        "tf.linalg.matmul(X,tf.transpose(y))"
      ],
      "metadata": {
        "colab": {
          "base_uri": "https://localhost:8080/"
        },
        "id": "cvEjZBAbxQ3I",
        "outputId": "9a74a684-6eec-4185-f29d-ab8eecea2be6"
      },
      "execution_count": 45,
      "outputs": [
        {
          "output_type": "execute_result",
          "data": {
            "text/plain": [
              "<tf.Tensor: shape=(3, 3), dtype=int32, numpy=\n",
              "array([[19, 26, 14],\n",
              "       [45, 60, 32],\n",
              "       [71, 94, 50]], dtype=int32)>"
            ]
          },
          "metadata": {},
          "execution_count": 45
        }
      ]
    },
    {
      "cell_type": "markdown",
      "source": [
        "📖 **Resource**: Info and Example of Matrix Multiplication: https://www.mathsisfun.com/algebra/matrix-multiplying.html"
      ],
      "metadata": {
        "id": "E9dZLiC8wPjN"
      }
    },
    {
      "cell_type": "markdown",
      "source": [
        "### The Dot Product\n",
        "You can perform matrix multiplication using:\n",
        "\n",
        "*  `tf.matmul()`\n",
        "*  `tf.tensordot()`\n",
        "* `@`\n",
        "\n",
        "\n",
        "\n"
      ],
      "metadata": {
        "id": "WhJB87Dj-2mE"
      }
    },
    {
      "cell_type": "code",
      "source": [
        "X,y"
      ],
      "metadata": {
        "colab": {
          "base_uri": "https://localhost:8080/"
        },
        "id": "ZDnorwj_xQ5_",
        "outputId": "18b6dad6-8541-4595-faf7-6a2e5e3a5eac"
      },
      "execution_count": 46,
      "outputs": [
        {
          "output_type": "execute_result",
          "data": {
            "text/plain": [
              "(<tf.Tensor: shape=(3, 2), dtype=int32, numpy=\n",
              " array([[1, 2],\n",
              "        [3, 4],\n",
              "        [5, 6]], dtype=int32)>,\n",
              " <tf.Tensor: shape=(3, 2), dtype=int32, numpy=\n",
              " array([[7, 6],\n",
              "        [8, 9],\n",
              "        [4, 5]], dtype=int32)>)"
            ]
          },
          "metadata": {},
          "execution_count": 46
        }
      ]
    },
    {
      "cell_type": "code",
      "source": [
        "#maltiply with tf.tensordot() on X and y\n",
        "tf.tensordot(tf.transpose(X),y,axes = 1)"
      ],
      "metadata": {
        "colab": {
          "base_uri": "https://localhost:8080/"
        },
        "id": "Ba5Ch1MfY3bM",
        "outputId": "3d5fae1e-a542-4f7e-88f0-d618f7636fe5"
      },
      "execution_count": 47,
      "outputs": [
        {
          "output_type": "execute_result",
          "data": {
            "text/plain": [
              "<tf.Tensor: shape=(2, 2), dtype=int32, numpy=\n",
              "array([[51, 58],\n",
              "       [70, 78]], dtype=int32)>"
            ]
          },
          "metadata": {},
          "execution_count": 47
        }
      ]
    },
    {
      "cell_type": "code",
      "source": [
        "tf.tensordot(X,tf.transpose(y),axes = 1)"
      ],
      "metadata": {
        "colab": {
          "base_uri": "https://localhost:8080/"
        },
        "id": "2Eadz6mbY3YU",
        "outputId": "3053d840-4783-4879-db93-90ba8522ba59"
      },
      "execution_count": 48,
      "outputs": [
        {
          "output_type": "execute_result",
          "data": {
            "text/plain": [
              "<tf.Tensor: shape=(3, 3), dtype=int32, numpy=\n",
              "array([[19, 26, 14],\n",
              "       [45, 60, 32],\n",
              "       [71, 94, 50]], dtype=int32)>"
            ]
          },
          "metadata": {},
          "execution_count": 48
        }
      ]
    },
    {
      "cell_type": "markdown",
      "source": [
        "\n",
        "\n",
        "---\n",
        "\n",
        "\n",
        "\n",
        "---\n",
        "\n",
        "\n",
        "Generally,when performing matrix multiplication on two tensors and one of them is not fit for the multiplication,you are gonna use transpose (rather than reshape) to get satisfy the rules of Matrix Multiplication."
      ],
      "metadata": {
        "id": "Q58lQTsiBV8o"
      }
    },
    {
      "cell_type": "markdown",
      "source": [
        "### Changing datantype of tensor"
      ],
      "metadata": {
        "id": "fIirxHgbCRVp"
      }
    },
    {
      "cell_type": "code",
      "source": [
        "tf.__version__"
      ],
      "metadata": {
        "id": "KImDz85hY3Vd",
        "colab": {
          "base_uri": "https://localhost:8080/",
          "height": 35
        },
        "outputId": "952e3b49-5cff-4f23-8a87-98e40070992f"
      },
      "execution_count": 49,
      "outputs": [
        {
          "output_type": "execute_result",
          "data": {
            "text/plain": [
              "'2.12.0'"
            ],
            "application/vnd.google.colaboratory.intrinsic+json": {
              "type": "string"
            }
          },
          "metadata": {},
          "execution_count": 49
        }
      ]
    },
    {
      "cell_type": "code",
      "source": [
        "#create a tensor with type of float\n",
        "A = tf.constant([1.5,1,9])\n",
        "A.dtype"
      ],
      "metadata": {
        "id": "zbkzSMn5Y3S5",
        "colab": {
          "base_uri": "https://localhost:8080/"
        },
        "outputId": "ddc13547-3b3e-4ecd-8f93-d5ce03970aab"
      },
      "execution_count": 50,
      "outputs": [
        {
          "output_type": "execute_result",
          "data": {
            "text/plain": [
              "tf.float32"
            ]
          },
          "metadata": {},
          "execution_count": 50
        }
      ]
    },
    {
      "cell_type": "code",
      "source": [
        "B = tf.constant([[1,2,3],[1,2,5]])\n",
        "B.dtype"
      ],
      "metadata": {
        "id": "Ljoc4egLY3P_",
        "colab": {
          "base_uri": "https://localhost:8080/"
        },
        "outputId": "a81678a2-055c-46ce-961b-10b0e59519c0"
      },
      "execution_count": 51,
      "outputs": [
        {
          "output_type": "execute_result",
          "data": {
            "text/plain": [
              "tf.int32"
            ]
          },
          "metadata": {},
          "execution_count": 51
        }
      ]
    },
    {
      "cell_type": "code",
      "source": [
        "#change dtype from float32 to float16(reduce precision)\n",
        "C = tf.cast(A,dtype = tf.float16)\n",
        "C.dtype"
      ],
      "metadata": {
        "id": "vhpFvRS1Y3NI",
        "colab": {
          "base_uri": "https://localhost:8080/"
        },
        "outputId": "83183f3e-79c6-4868-9acf-f172221108c1"
      },
      "execution_count": 52,
      "outputs": [
        {
          "output_type": "execute_result",
          "data": {
            "text/plain": [
              "tf.float16"
            ]
          },
          "metadata": {},
          "execution_count": 52
        }
      ]
    },
    {
      "cell_type": "code",
      "source": [
        "#change from int32 to float32\n",
        "E = tf.cast(B,dtype = tf.float32)\n",
        "B.dtype,E.dtype"
      ],
      "metadata": {
        "id": "pKTbL8VtY3E0",
        "colab": {
          "base_uri": "https://localhost:8080/"
        },
        "outputId": "7df12d8d-c9c9-4ce4-b048-126221217d14"
      },
      "execution_count": 53,
      "outputs": [
        {
          "output_type": "execute_result",
          "data": {
            "text/plain": [
              "(tf.int32, tf.float32)"
            ]
          },
          "metadata": {},
          "execution_count": 53
        }
      ]
    },
    {
      "cell_type": "markdown",
      "source": [
        "### Aggretating tensors"
      ],
      "metadata": {
        "id": "ZaE8ALBNep7B"
      }
    },
    {
      "cell_type": "code",
      "source": [
        "#create new tensor\n",
        "tensor_3 = tf.constant([-2,-3,-9.5])"
      ],
      "metadata": {
        "id": "oI8pNBd5Y3B7"
      },
      "execution_count": 54,
      "outputs": []
    },
    {
      "cell_type": "code",
      "source": [
        "#get the absolute values\n",
        "tf.abs(tensor_3)"
      ],
      "metadata": {
        "id": "j9F5yFKDY2_U",
        "colab": {
          "base_uri": "https://localhost:8080/"
        },
        "outputId": "efb00ca0-0e2a-4f0c-872b-7652c2e43ac2"
      },
      "execution_count": 55,
      "outputs": [
        {
          "output_type": "execute_result",
          "data": {
            "text/plain": [
              "<tf.Tensor: shape=(3,), dtype=float32, numpy=array([2. , 3. , 9.5], dtype=float32)>"
            ]
          },
          "metadata": {},
          "execution_count": 55
        }
      ]
    },
    {
      "cell_type": "code",
      "source": [
        "tf.argmin(tensor_3,axis=0)"
      ],
      "metadata": {
        "id": "erB7ymVbY28M",
        "colab": {
          "base_uri": "https://localhost:8080/"
        },
        "outputId": "556ffdba-6070-4a99-decb-2a391f55aea7"
      },
      "execution_count": 56,
      "outputs": [
        {
          "output_type": "execute_result",
          "data": {
            "text/plain": [
              "<tf.Tensor: shape=(), dtype=int64, numpy=2>"
            ]
          },
          "metadata": {},
          "execution_count": 56
        }
      ]
    },
    {
      "cell_type": "code",
      "source": [
        "tensor_3"
      ],
      "metadata": {
        "id": "jxVkppEmY25l",
        "colab": {
          "base_uri": "https://localhost:8080/"
        },
        "outputId": "01fbb3be-d224-42e2-f9c8-11c6ec5cbf53"
      },
      "execution_count": 57,
      "outputs": [
        {
          "output_type": "execute_result",
          "data": {
            "text/plain": [
              "<tf.Tensor: shape=(3,), dtype=float32, numpy=array([-2. , -3. , -9.5], dtype=float32)>"
            ]
          },
          "metadata": {},
          "execution_count": 57
        }
      ]
    },
    {
      "cell_type": "markdown",
      "source": [
        "### Let's go with the different versions of aggregation functions:\n",
        "* Get the max of tensor\n",
        "* Get the min of tensor\n",
        "* Get the mean of tensor\n",
        "* Get the sum of tensor\n"
      ],
      "metadata": {
        "id": "kiUs_1UNvask"
      }
    },
    {
      "cell_type": "code",
      "source": [
        "#create new tensor:\n",
        "tensor_4 = tf.constant([[1,2,3],[-1,-2,-3]])\n",
        "#different versions of aggregations\n",
        "print(f\"The Maximum of Tensor: {tf.reduce_max(tensor_4)}\")\n",
        "print(f\"The Minimum of Tensor: {tf.reduce_min(tensor_4)}\")\n",
        "print(f\"The Sum of Tensor: {tf.add_n(tensor_4)}\")\n",
        "print(f\"The Mean of Tensor: {tf.math.reduce_mean(tensor_4)}\")"
      ],
      "metadata": {
        "id": "RRdsw1_IY22t",
        "colab": {
          "base_uri": "https://localhost:8080/"
        },
        "outputId": "a58c97a3-eda0-40c6-bb72-67ce075d30e4"
      },
      "execution_count": 58,
      "outputs": [
        {
          "output_type": "stream",
          "name": "stdout",
          "text": [
            "The Maximum of Tensor: 3\n",
            "The Minimum of Tensor: -3\n",
            "The Sum of Tensor: [0 0 0]\n",
            "The Mean of Tensor: 0\n"
          ]
        }
      ]
    },
    {
      "cell_type": "markdown",
      "source": [
        "💡 **Exercise**: Find the Variance and Standart Deviation of `tensor_4` tensor using Tensorflow methods."
      ],
      "metadata": {
        "id": "fDF5BZY0xxXJ"
      }
    },
    {
      "cell_type": "markdown",
      "source": [
        "### Getting Standart Deviation and Variance"
      ],
      "metadata": {
        "id": "PIc9VD_jztXW"
      }
    },
    {
      "cell_type": "code",
      "source": [
        "#print tensor_4\n",
        "print(tensor_4)\n",
        "#let's change the type of tensor\n",
        "tensor_4 = tf.cast(tensor_4,dtype = tf.float32) #our tensor must be real or complex after gettting variance and std\n",
        "print('\\n')\n",
        "#get the variance and standart deviation\n",
        "print(f\"Variance of our tensor: {tf.math.reduce_variance(tensor_4)}\")\n",
        "print(f\"Standart Deviation of our tensor: {tf.math.reduce_std(tensor_4)}\")"
      ],
      "metadata": {
        "colab": {
          "base_uri": "https://localhost:8080/"
        },
        "id": "P2_IWoZIxvjc",
        "outputId": "75203b16-9a21-429e-f2a6-54ea97695cbf"
      },
      "execution_count": 59,
      "outputs": [
        {
          "output_type": "stream",
          "name": "stdout",
          "text": [
            "tf.Tensor(\n",
            "[[ 1  2  3]\n",
            " [-1 -2 -3]], shape=(2, 3), dtype=int32)\n",
            "\n",
            "\n",
            "Variance of our tensor: 4.666666507720947\n",
            "Standart Deviation of our tensor: 2.1602468490600586\n"
          ]
        }
      ]
    },
    {
      "cell_type": "code",
      "source": [
        "#another example to get variance and standart deviation\n",
        "import tensorflow_probability as tfp\n",
        "#get the variance and standart deviation\n",
        "print(f\"Variance of our tensor: {tfp.stats.variance(tensor_4)}\")\n",
        "print(f\"Standart Deviation of our tensor: {tfp.stats.stddev(tensor_4)}\")"
      ],
      "metadata": {
        "id": "ANkEVvdfY20H",
        "colab": {
          "base_uri": "https://localhost:8080/"
        },
        "outputId": "e77a19af-cd42-401a-d305-a2f9f46e93bd"
      },
      "execution_count": 60,
      "outputs": [
        {
          "output_type": "stream",
          "name": "stdout",
          "text": [
            "Variance of our tensor: [1. 4. 9.]\n",
            "Standart Deviation of our tensor: [1. 2. 3.]\n"
          ]
        }
      ]
    },
    {
      "cell_type": "markdown",
      "source": [
        "### Find the positional maximum and minimum"
      ],
      "metadata": {
        "id": "eUw7Lcc401RQ"
      }
    },
    {
      "cell_type": "code",
      "source": [
        "#create new tensor\n",
        "tf.random.set_seed(42)\n",
        "tensor_5 = tf.random.normal(shape = [50])\n",
        "tensor_5"
      ],
      "metadata": {
        "id": "YVLvefp0Y2w_",
        "colab": {
          "base_uri": "https://localhost:8080/"
        },
        "outputId": "18564663-d6f4-4908-9407-9fed781148e5"
      },
      "execution_count": 61,
      "outputs": [
        {
          "output_type": "execute_result",
          "data": {
            "text/plain": [
              "<tf.Tensor: shape=(50,), dtype=float32, numpy=\n",
              "array([ 0.3274685 , -0.8426258 ,  0.3194337 , -1.4075519 , -2.3880599 ,\n",
              "       -1.0392479 , -0.5573232 ,  0.539707  ,  1.6994323 ,  0.28893656,\n",
              "       -1.5066116 , -0.2645474 , -0.59722406, -1.9171132 , -0.62044144,\n",
              "        0.8504023 , -0.40604794, -3.0258412 ,  0.9058464 ,  0.29855987,\n",
              "       -0.22561555, -0.7616443 , -1.8917141 , -0.93847126,  0.77852213,\n",
              "       -0.47338897,  0.97772694,  0.24694404,  0.20573747, -0.5256233 ,\n",
              "        0.32410017,  0.02545409, -0.10638497, -0.6369475 ,  1.1603122 ,\n",
              "        0.2507359 , -0.41728503,  0.4012578 , -1.4145443 , -0.5931857 ,\n",
              "       -1.6617213 ,  0.33567193,  0.10815629,  0.23479682, -0.56668764,\n",
              "       -0.35819843,  0.88698614,  0.52744764,  0.70402247, -0.33421248],\n",
              "      dtype=float32)>"
            ]
          },
          "metadata": {},
          "execution_count": 61
        }
      ]
    },
    {
      "cell_type": "code",
      "source": [
        "#find the max value by index\n",
        "tf.argmax(tensor_5)"
      ],
      "metadata": {
        "id": "AIjDiGgbY2uY",
        "colab": {
          "base_uri": "https://localhost:8080/"
        },
        "outputId": "9c706ef0-8fcd-4a30-8aa0-a1526817b233"
      },
      "execution_count": 62,
      "outputs": [
        {
          "output_type": "execute_result",
          "data": {
            "text/plain": [
              "<tf.Tensor: shape=(), dtype=int64, numpy=8>"
            ]
          },
          "metadata": {},
          "execution_count": 62
        }
      ]
    },
    {
      "cell_type": "code",
      "source": [
        "#find the maximum value of tensor with argmax\n",
        "tensor_5[tf.argmax(tensor_5)]"
      ],
      "metadata": {
        "id": "yyEb0BlOY2ri",
        "colab": {
          "base_uri": "https://localhost:8080/"
        },
        "outputId": "07bfc3b1-9146-413d-a542-3ad1cedb3056"
      },
      "execution_count": 63,
      "outputs": [
        {
          "output_type": "execute_result",
          "data": {
            "text/plain": [
              "<tf.Tensor: shape=(), dtype=float32, numpy=1.6994323>"
            ]
          },
          "metadata": {},
          "execution_count": 63
        }
      ]
    },
    {
      "cell_type": "code",
      "source": [
        "#with reduce_max()\n",
        "print(tf.reduce_max(tensor_5))\n",
        "#check for the equality for the safety\n",
        "tf.reduce_max(tensor_5) == tensor_5[tf.argmax(tensor_5)]"
      ],
      "metadata": {
        "id": "U-RYrO6_Y2o9",
        "colab": {
          "base_uri": "https://localhost:8080/"
        },
        "outputId": "c7404eee-c800-4eef-a213-91ccadbd025e"
      },
      "execution_count": 64,
      "outputs": [
        {
          "output_type": "stream",
          "name": "stdout",
          "text": [
            "tf.Tensor(1.6994323, shape=(), dtype=float32)\n"
          ]
        },
        {
          "output_type": "execute_result",
          "data": {
            "text/plain": [
              "<tf.Tensor: shape=(), dtype=bool, numpy=True>"
            ]
          },
          "metadata": {},
          "execution_count": 64
        }
      ]
    },
    {
      "cell_type": "code",
      "source": [
        "#find the position of min\n",
        "tf.argmin(tensor_5)"
      ],
      "metadata": {
        "id": "2zalIksOY2fU",
        "colab": {
          "base_uri": "https://localhost:8080/"
        },
        "outputId": "56ba462f-08bf-4a75-8f6b-5db3a656ba3e"
      },
      "execution_count": 65,
      "outputs": [
        {
          "output_type": "execute_result",
          "data": {
            "text/plain": [
              "<tf.Tensor: shape=(), dtype=int64, numpy=17>"
            ]
          },
          "metadata": {},
          "execution_count": 65
        }
      ]
    },
    {
      "cell_type": "code",
      "source": [
        "#find the min value by index\n",
        "tensor_5[tf.argmin(tensor_5)]"
      ],
      "metadata": {
        "colab": {
          "base_uri": "https://localhost:8080/"
        },
        "id": "omQNJeEu2ghQ",
        "outputId": "988a51cb-bf08-407f-a86e-1d195cae2c37"
      },
      "execution_count": 66,
      "outputs": [
        {
          "output_type": "execute_result",
          "data": {
            "text/plain": [
              "<tf.Tensor: shape=(), dtype=float32, numpy=-3.0258412>"
            ]
          },
          "metadata": {},
          "execution_count": 66
        }
      ]
    },
    {
      "cell_type": "markdown",
      "source": [
        "### Squeezing a tensor\n",
        "Removing all single dimensions"
      ],
      "metadata": {
        "id": "wXwXjxkJA0hl"
      }
    },
    {
      "cell_type": "code",
      "source": [
        "#create a tensor to get started which has single dimensions\n",
        "tf.random.set_seed(42)\n",
        "tensor_6 = tf.constant(tf.random.uniform(shape = [50]),shape = [1,1,1,1,50])\n",
        "tensor_6"
      ],
      "metadata": {
        "id": "MJRxjHjE2oHu",
        "colab": {
          "base_uri": "https://localhost:8080/"
        },
        "outputId": "aaf1e93c-560e-4370-9203-0ea88d883c50"
      },
      "execution_count": 68,
      "outputs": [
        {
          "output_type": "execute_result",
          "data": {
            "text/plain": [
              "<tf.Tensor: shape=(1, 1, 1, 1, 50), dtype=float32, numpy=\n",
              "array([[[[[0.6645621 , 0.44100678, 0.3528825 , 0.46448255, 0.03366041,\n",
              "           0.68467236, 0.74011743, 0.8724445 , 0.22632635, 0.22319686,\n",
              "           0.3103881 , 0.7223358 , 0.13318717, 0.5480639 , 0.5746088 ,\n",
              "           0.8996835 , 0.00946367, 0.5212307 , 0.6345445 , 0.1993283 ,\n",
              "           0.72942245, 0.54583454, 0.10756552, 0.6767061 , 0.6602763 ,\n",
              "           0.33695042, 0.60141766, 0.21062577, 0.8527372 , 0.44062173,\n",
              "           0.9485276 , 0.23752594, 0.81179297, 0.5263394 , 0.494308  ,\n",
              "           0.21612847, 0.8457197 , 0.8718841 , 0.3083862 , 0.6868038 ,\n",
              "           0.23764038, 0.7817228 , 0.9671384 , 0.06870162, 0.79873943,\n",
              "           0.66028714, 0.5871513 , 0.16461694, 0.7381023 , 0.32054043]]]]],\n",
              "      dtype=float32)>"
            ]
          },
          "metadata": {},
          "execution_count": 68
        }
      ]
    },
    {
      "cell_type": "code",
      "source": [
        "tensor_6.shape"
      ],
      "metadata": {
        "colab": {
          "base_uri": "https://localhost:8080/"
        },
        "id": "ZhpV8QcdAyUa",
        "outputId": "b5819383-48b7-4709-e53f-6244e7d9657b"
      },
      "execution_count": 69,
      "outputs": [
        {
          "output_type": "execute_result",
          "data": {
            "text/plain": [
              "TensorShape([1, 1, 1, 1, 50])"
            ]
          },
          "metadata": {},
          "execution_count": 69
        }
      ]
    },
    {
      "cell_type": "code",
      "source": [
        "squeezed_tensor = tf.squeeze(tensor_6)\n",
        "squeezed_tensor,squeezed_tensor.shape"
      ],
      "metadata": {
        "colab": {
          "base_uri": "https://localhost:8080/"
        },
        "id": "__y_XIusAySF",
        "outputId": "5076276b-5962-4de0-d4be-4dc54c883614"
      },
      "execution_count": 71,
      "outputs": [
        {
          "output_type": "execute_result",
          "data": {
            "text/plain": [
              "(<tf.Tensor: shape=(50,), dtype=float32, numpy=\n",
              " array([0.6645621 , 0.44100678, 0.3528825 , 0.46448255, 0.03366041,\n",
              "        0.68467236, 0.74011743, 0.8724445 , 0.22632635, 0.22319686,\n",
              "        0.3103881 , 0.7223358 , 0.13318717, 0.5480639 , 0.5746088 ,\n",
              "        0.8996835 , 0.00946367, 0.5212307 , 0.6345445 , 0.1993283 ,\n",
              "        0.72942245, 0.54583454, 0.10756552, 0.6767061 , 0.6602763 ,\n",
              "        0.33695042, 0.60141766, 0.21062577, 0.8527372 , 0.44062173,\n",
              "        0.9485276 , 0.23752594, 0.81179297, 0.5263394 , 0.494308  ,\n",
              "        0.21612847, 0.8457197 , 0.8718841 , 0.3083862 , 0.6868038 ,\n",
              "        0.23764038, 0.7817228 , 0.9671384 , 0.06870162, 0.79873943,\n",
              "        0.66028714, 0.5871513 , 0.16461694, 0.7381023 , 0.32054043],\n",
              "       dtype=float32)>,\n",
              " TensorShape([50]))"
            ]
          },
          "metadata": {},
          "execution_count": 71
        }
      ]
    },
    {
      "cell_type": "markdown",
      "source": [
        "### One-Hot Encoding Tensors"
      ],
      "metadata": {
        "id": "lJgnZ1J6CCUs"
      }
    },
    {
      "cell_type": "code",
      "source": [
        "#create list of indices\n",
        "our_list = [1,2,3,4,5]  #can be blue,red,green,purple,pink\n",
        "#one hot encode\n",
        "tf.one_hot(our_list,depth = 5) #shape is gonna be (5,5)"
      ],
      "metadata": {
        "colab": {
          "base_uri": "https://localhost:8080/"
        },
        "id": "gA8Ujix5AyPw",
        "outputId": "9cade544-da28-48b3-a1d1-5d8f3ac4e2d7"
      },
      "execution_count": 74,
      "outputs": [
        {
          "output_type": "execute_result",
          "data": {
            "text/plain": [
              "<tf.Tensor: shape=(5, 5), dtype=float32, numpy=\n",
              "array([[0., 1., 0., 0., 0.],\n",
              "       [0., 0., 1., 0., 0.],\n",
              "       [0., 0., 0., 1., 0.],\n",
              "       [0., 0., 0., 0., 1.],\n",
              "       [0., 0., 0., 0., 0.]], dtype=float32)>"
            ]
          },
          "metadata": {},
          "execution_count": 74
        }
      ]
    },
    {
      "cell_type": "code",
      "source": [
        "#specify custom values for one hot encoding\n",
        "tf.one_hot(our_list,depth = 5,on_value = 'I love Artificial Intelligence',off_value = 'NLP is the favorite one')"
      ],
      "metadata": {
        "colab": {
          "base_uri": "https://localhost:8080/"
        },
        "id": "YTRInKFGAyNJ",
        "outputId": "c8c04fb5-35df-4288-e83d-91683048737c"
      },
      "execution_count": 78,
      "outputs": [
        {
          "output_type": "execute_result",
          "data": {
            "text/plain": [
              "<tf.Tensor: shape=(5, 5), dtype=string, numpy=\n",
              "array([[b'NLP is the favorite one', b'I love Artificial Intelligence',\n",
              "        b'NLP is the favorite one', b'NLP is the favorite one',\n",
              "        b'NLP is the favorite one'],\n",
              "       [b'NLP is the favorite one', b'NLP is the favorite one',\n",
              "        b'I love Artificial Intelligence', b'NLP is the favorite one',\n",
              "        b'NLP is the favorite one'],\n",
              "       [b'NLP is the favorite one', b'NLP is the favorite one',\n",
              "        b'NLP is the favorite one', b'I love Artificial Intelligence',\n",
              "        b'NLP is the favorite one'],\n",
              "       [b'NLP is the favorite one', b'NLP is the favorite one',\n",
              "        b'NLP is the favorite one', b'NLP is the favorite one',\n",
              "        b'I love Artificial Intelligence'],\n",
              "       [b'NLP is the favorite one', b'NLP is the favorite one',\n",
              "        b'NLP is the favorite one', b'NLP is the favorite one',\n",
              "        b'NLP is the favorite one']], dtype=object)>"
            ]
          },
          "metadata": {},
          "execution_count": 78
        }
      ]
    },
    {
      "cell_type": "markdown",
      "source": [
        "### Squaring, log, square root"
      ],
      "metadata": {
        "id": "TnphhR33Ebu9"
      }
    },
    {
      "cell_type": "code",
      "source": [
        "#create new tensor\n",
        "tensor_7 = tf.range(1,15)\n",
        "tensor_7"
      ],
      "metadata": {
        "colab": {
          "base_uri": "https://localhost:8080/"
        },
        "id": "n9HIYSY8AyKy",
        "outputId": "56229a25-dbfb-4973-94b7-f3976bcaab56"
      },
      "execution_count": 80,
      "outputs": [
        {
          "output_type": "execute_result",
          "data": {
            "text/plain": [
              "<tf.Tensor: shape=(14,), dtype=int32, numpy=\n",
              "array([ 1,  2,  3,  4,  5,  6,  7,  8,  9, 10, 11, 12, 13, 14],\n",
              "      dtype=int32)>"
            ]
          },
          "metadata": {},
          "execution_count": 80
        }
      ]
    },
    {
      "cell_type": "code",
      "source": [
        "#square a tensor\n",
        "tf.square(tensor_7)"
      ],
      "metadata": {
        "colab": {
          "base_uri": "https://localhost:8080/"
        },
        "id": "9JDxydLGAyIM",
        "outputId": "a6d1759f-5a97-49a1-de2c-307cc87613d7"
      },
      "execution_count": 81,
      "outputs": [
        {
          "output_type": "execute_result",
          "data": {
            "text/plain": [
              "<tf.Tensor: shape=(14,), dtype=int32, numpy=\n",
              "array([  1,   4,   9,  16,  25,  36,  49,  64,  81, 100, 121, 144, 169,\n",
              "       196], dtype=int32)>"
            ]
          },
          "metadata": {},
          "execution_count": 81
        }
      ]
    },
    {
      "cell_type": "code",
      "source": [
        "#log on a tensor\n",
        "tf.math.log(tf.cast(tensor_7,dtype = tf.float16)) #dtype must be float"
      ],
      "metadata": {
        "colab": {
          "base_uri": "https://localhost:8080/"
        },
        "id": "zZhUzUXmAyFl",
        "outputId": "e9f6cbb5-d642-4b53-ece0-9e7580f93898"
      },
      "execution_count": 84,
      "outputs": [
        {
          "output_type": "execute_result",
          "data": {
            "text/plain": [
              "<tf.Tensor: shape=(14,), dtype=float16, numpy=\n",
              "array([0.    , 0.6934, 1.099 , 1.387 , 1.609 , 1.792 , 1.946 , 2.08  ,\n",
              "       2.197 , 2.303 , 2.398 , 2.484 , 2.564 , 2.639 ], dtype=float16)>"
            ]
          },
          "metadata": {},
          "execution_count": 84
        }
      ]
    },
    {
      "cell_type": "code",
      "source": [
        "#find the square root\n",
        "tf.sqrt(tf.cast(tensor_7,dtype = tf.float32)) #dtype must be float"
      ],
      "metadata": {
        "colab": {
          "base_uri": "https://localhost:8080/"
        },
        "id": "R5Ol7f4TAyDO",
        "outputId": "0d5045ed-ca44-44ad-9583-6deb684816f7"
      },
      "execution_count": 83,
      "outputs": [
        {
          "output_type": "execute_result",
          "data": {
            "text/plain": [
              "<tf.Tensor: shape=(14,), dtype=float32, numpy=\n",
              "array([1.       , 1.4142135, 1.7320508, 2.       , 2.2360678, 2.4494896,\n",
              "       2.6457512, 2.828427 , 3.       , 3.1622777, 3.3166246, 3.4641016,\n",
              "       3.6055512, 3.7416573], dtype=float32)>"
            ]
          },
          "metadata": {},
          "execution_count": 83
        }
      ]
    },
    {
      "cell_type": "markdown",
      "source": [
        "### Finding access to GPUs"
      ],
      "metadata": {
        "id": "oNAwtLyHGJZa"
      }
    },
    {
      "cell_type": "code",
      "source": [
        "tf.config.list_physical_devices()"
      ],
      "metadata": {
        "colab": {
          "base_uri": "https://localhost:8080/"
        },
        "id": "JQ2pjE2QAyAo",
        "outputId": "d42521ec-ec15-4d05-d317-cdd3bc54a1b8"
      },
      "execution_count": 85,
      "outputs": [
        {
          "output_type": "execute_result",
          "data": {
            "text/plain": [
              "[PhysicalDevice(name='/physical_device:CPU:0', device_type='CPU'),\n",
              " PhysicalDevice(name='/physical_device:GPU:0', device_type='GPU')]"
            ]
          },
          "metadata": {},
          "execution_count": 85
        }
      ]
    },
    {
      "cell_type": "code",
      "source": [
        "tf.config.list_physical_devices(\"GPU\") #if this code return empty list when you check for the access for GPU,\n",
        "#you have to change the runtime type from the None to the GPU. "
      ],
      "metadata": {
        "colab": {
          "base_uri": "https://localhost:8080/"
        },
        "id": "yioJloo9Ax-S",
        "outputId": "14d6bf41-4289-4a96-aa34-9f1a27d589a9"
      },
      "execution_count": 88,
      "outputs": [
        {
          "output_type": "execute_result",
          "data": {
            "text/plain": [
              "[PhysicalDevice(name='/physical_device:GPU:0', device_type='GPU')]"
            ]
          },
          "metadata": {},
          "execution_count": 88
        }
      ]
    },
    {
      "cell_type": "code",
      "source": [
        "!nvidia-smi"
      ],
      "metadata": {
        "colab": {
          "base_uri": "https://localhost:8080/"
        },
        "id": "ieCn3IqzAx7b",
        "outputId": "14bbbe47-10c3-46da-db8e-2f7dcd5fd332"
      },
      "execution_count": 90,
      "outputs": [
        {
          "output_type": "stream",
          "name": "stdout",
          "text": [
            "Mon Jun 12 10:20:14 2023       \n",
            "+-----------------------------------------------------------------------------+\n",
            "| NVIDIA-SMI 525.85.12    Driver Version: 525.85.12    CUDA Version: 12.0     |\n",
            "|-------------------------------+----------------------+----------------------+\n",
            "| GPU  Name        Persistence-M| Bus-Id        Disp.A | Volatile Uncorr. ECC |\n",
            "| Fan  Temp  Perf  Pwr:Usage/Cap|         Memory-Usage | GPU-Util  Compute M. |\n",
            "|                               |                      |               MIG M. |\n",
            "|===============================+======================+======================|\n",
            "|   0  Tesla T4            Off  | 00000000:00:04.0 Off |                    0 |\n",
            "| N/A   66C    P0    29W /  70W |    389MiB / 15360MiB |      0%      Default |\n",
            "|                               |                      |                  N/A |\n",
            "+-------------------------------+----------------------+----------------------+\n",
            "                                                                               \n",
            "+-----------------------------------------------------------------------------+\n",
            "| Processes:                                                                  |\n",
            "|  GPU   GI   CI        PID   Type   Process name                  GPU Memory |\n",
            "|        ID   ID                                                   Usage      |\n",
            "|=============================================================================|\n",
            "+-----------------------------------------------------------------------------+\n"
          ]
        }
      ]
    }
  ]
}