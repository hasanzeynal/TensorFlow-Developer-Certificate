{
  "nbformat": 4,
  "nbformat_minor": 0,
  "metadata": {
    "colab": {
      "provenance": [],
      "gpuType": "T4",
      "toc_visible": true,
      "authorship_tag": "ABX9TyP8/pE5v9KLwdowxHIsQxtw",
      "include_colab_link": true
    },
    "kernelspec": {
      "name": "python3",
      "display_name": "Python 3"
    },
    "language_info": {
      "name": "python"
    },
    "accelerator": "GPU"
  },
  "cells": [
    {
      "cell_type": "markdown",
      "metadata": {
        "id": "view-in-github",
        "colab_type": "text"
      },
      "source": [
        "<a href=\"https://colab.research.google.com/github/hasanzeynal/Tensorflow-Developer-Certificate/blob/main/TensorFlow%20Fundamentals/dl_tensorflow_fundamentals.ipynb\" target=\"_parent\"><img src=\"https://colab.research.google.com/assets/colab-badge.svg\" alt=\"Open In Colab\"/></a>"
      ]
    },
    {
      "cell_type": "markdown",
      "source": [
        "# We are gonna cover some fundamentals of using tensor in Tensorflow.\n",
        "More specifically:\n",
        "* Introduction to tensors\n",
        "* Getting information from tensors\n",
        "* Manipulating tensors\n",
        "* Tensors and Numpy\n",
        "* Using @tf.function (a way to speed up your regular python function)\n",
        "* Using GPU's in tensorflow(or TPU's)\n",
        "* Exercises"
      ],
      "metadata": {
        "id": "KNCsirEMvo7q"
      }
    },
    {
      "cell_type": "markdown",
      "source": [
        "## Introduction to Tensors"
      ],
      "metadata": {
        "id": "sdQgd7RExQ41"
      }
    },
    {
      "cell_type": "code",
      "source": [
        "#import TensorFlow\n",
        "import tensorflow as tf\n",
        "print(tf.__version__)"
      ],
      "metadata": {
        "colab": {
          "base_uri": "https://localhost:8080/"
        },
        "id": "2sNT0zY0rYof",
        "outputId": "3fc9267b-9bff-4063-b5d5-14d92e2007b6"
      },
      "execution_count": 2,
      "outputs": [
        {
          "output_type": "stream",
          "name": "stdout",
          "text": [
            "2.12.0\n"
          ]
        }
      ]
    },
    {
      "cell_type": "code",
      "source": [
        "#create tensors with tf.constant\n",
        "scalar = tf.constant(11)\n",
        "scalar"
      ],
      "metadata": {
        "colab": {
          "base_uri": "https://localhost:8080/"
        },
        "id": "rTH76bpqrYrD",
        "outputId": "d872ff93-e03c-4f51-afbc-888dec250fe6"
      },
      "execution_count": 3,
      "outputs": [
        {
          "output_type": "execute_result",
          "data": {
            "text/plain": [
              "<tf.Tensor: shape=(), dtype=int32, numpy=11>"
            ]
          },
          "metadata": {},
          "execution_count": 3
        }
      ]
    },
    {
      "cell_type": "code",
      "source": [
        "#check the type of tensor\n",
        "scalar.dtype"
      ],
      "metadata": {
        "colab": {
          "base_uri": "https://localhost:8080/"
        },
        "id": "Jp1vZBEorYt6",
        "outputId": "045206b6-ffe0-41d1-cab4-d27f82a25110"
      },
      "execution_count": 4,
      "outputs": [
        {
          "output_type": "execute_result",
          "data": {
            "text/plain": [
              "tf.int32"
            ]
          },
          "metadata": {},
          "execution_count": 4
        }
      ]
    },
    {
      "cell_type": "code",
      "source": [
        "#check the number fo dimentions of tensor\n",
        "scalar.ndim"
      ],
      "metadata": {
        "colab": {
          "base_uri": "https://localhost:8080/"
        },
        "id": "SC_gerGYrYzZ",
        "outputId": "184b8050-ca4d-4a90-d489-974ca33e6fb2"
      },
      "execution_count": 5,
      "outputs": [
        {
          "output_type": "execute_result",
          "data": {
            "text/plain": [
              "0"
            ]
          },
          "metadata": {},
          "execution_count": 5
        }
      ]
    },
    {
      "cell_type": "code",
      "source": [
        "#creating vector\n",
        "vector = tf.constant([10,20,30])\n",
        "vector"
      ],
      "metadata": {
        "colab": {
          "base_uri": "https://localhost:8080/"
        },
        "id": "YuFuY1EkrY2Q",
        "outputId": "0c4cff22-3fb2-46dc-d45c-65860cd783c1"
      },
      "execution_count": 6,
      "outputs": [
        {
          "output_type": "execute_result",
          "data": {
            "text/plain": [
              "<tf.Tensor: shape=(3,), dtype=int32, numpy=array([10, 20, 30], dtype=int32)>"
            ]
          },
          "metadata": {},
          "execution_count": 6
        }
      ]
    },
    {
      "cell_type": "code",
      "source": [
        "#check the number of dimension of vector\n",
        "vector.ndim"
      ],
      "metadata": {
        "colab": {
          "base_uri": "https://localhost:8080/"
        },
        "id": "YpTj_5e5rY42",
        "outputId": "754135c3-5b9a-4ec6-f1ee-d313240ac4a2"
      },
      "execution_count": 7,
      "outputs": [
        {
          "output_type": "execute_result",
          "data": {
            "text/plain": [
              "1"
            ]
          },
          "metadata": {},
          "execution_count": 7
        }
      ]
    },
    {
      "cell_type": "code",
      "source": [
        "#create a matrix(has mor than 1 dimension)\n",
        "matrix = tf.constant([[11,8],\n",
        "                     [8,11]])\n",
        "matrix"
      ],
      "metadata": {
        "colab": {
          "base_uri": "https://localhost:8080/"
        },
        "id": "Nd8O8-_5rY7_",
        "outputId": "7dc0aaa1-4e95-4efd-c65d-bfe05ea72b18"
      },
      "execution_count": 8,
      "outputs": [
        {
          "output_type": "execute_result",
          "data": {
            "text/plain": [
              "<tf.Tensor: shape=(2, 2), dtype=int32, numpy=\n",
              "array([[11,  8],\n",
              "       [ 8, 11]], dtype=int32)>"
            ]
          },
          "metadata": {},
          "execution_count": 8
        }
      ]
    },
    {
      "cell_type": "code",
      "source": [
        "#check for the number of dimensions\n",
        "matrix.ndim"
      ],
      "metadata": {
        "colab": {
          "base_uri": "https://localhost:8080/"
        },
        "id": "yri4N2EkrY-o",
        "outputId": "ddace29a-0625-4d23-955b-f94b136a82b7"
      },
      "execution_count": 9,
      "outputs": [
        {
          "output_type": "execute_result",
          "data": {
            "text/plain": [
              "2"
            ]
          },
          "metadata": {},
          "execution_count": 9
        }
      ]
    },
    {
      "cell_type": "code",
      "source": [
        "#create another matrix\n",
        "another_matrix = tf.constant([[1, 2, 3],\n",
        "                             [1, 2, 3],\n",
        "                             [1, 2, 3]],dtype = tf.float16) #specify dtype of tensor\n",
        "another_matrix"
      ],
      "metadata": {
        "colab": {
          "base_uri": "https://localhost:8080/"
        },
        "id": "IlrMFzBUIy8O",
        "outputId": "bb003136-02ae-4589-c48f-0fb01126a6fa"
      },
      "execution_count": 10,
      "outputs": [
        {
          "output_type": "execute_result",
          "data": {
            "text/plain": [
              "<tf.Tensor: shape=(3, 3), dtype=float16, numpy=\n",
              "array([[1., 2., 3.],\n",
              "       [1., 2., 3.],\n",
              "       [1., 2., 3.]], dtype=float16)>"
            ]
          },
          "metadata": {},
          "execution_count": 10
        }
      ]
    },
    {
      "cell_type": "code",
      "source": [
        "#creating 3 dimensinal matrix\n",
        "threed_dimen = tf.constant([[[11,8],[1,2]],\n",
        "                            [[8,11],[1,2]],\n",
        "                            [[11,2],[1,2]]])\n",
        "threed_dimen"
      ],
      "metadata": {
        "colab": {
          "base_uri": "https://localhost:8080/"
        },
        "id": "M4gbumFSGWdG",
        "outputId": "6d6e1930-63a2-4f7b-eaed-c0c8234df472"
      },
      "execution_count": 11,
      "outputs": [
        {
          "output_type": "execute_result",
          "data": {
            "text/plain": [
              "<tf.Tensor: shape=(3, 2, 2), dtype=int32, numpy=\n",
              "array([[[11,  8],\n",
              "        [ 1,  2]],\n",
              "\n",
              "       [[ 8, 11],\n",
              "        [ 1,  2]],\n",
              "\n",
              "       [[11,  2],\n",
              "        [ 1,  2]]], dtype=int32)>"
            ]
          },
          "metadata": {},
          "execution_count": 11
        }
      ]
    },
    {
      "cell_type": "code",
      "source": [
        "#check for the number of dimentions\n",
        "threed_dimen.ndim"
      ],
      "metadata": {
        "colab": {
          "base_uri": "https://localhost:8080/"
        },
        "id": "L4EAGFr0Gg6E",
        "outputId": "cff46574-3013-4ace-82b7-6401df3790b6"
      },
      "execution_count": 12,
      "outputs": [
        {
          "output_type": "execute_result",
          "data": {
            "text/plain": [
              "3"
            ]
          },
          "metadata": {},
          "execution_count": 12
        }
      ]
    },
    {
      "cell_type": "code",
      "source": [
        "#creat 4 dimensinal matrix\n",
        "four_dimen = tf.constant([[[[1,2,3],[1,2,3]],\n",
        "                          [[1,2,3],[1,2,3]]],\n",
        "                          [[[1,2,3],[1,2,3]],\n",
        "                          [[1,2,3],[1,2,3]]]])\n",
        "four_dimen"
      ],
      "metadata": {
        "colab": {
          "base_uri": "https://localhost:8080/"
        },
        "id": "kX88Rw_bHPe4",
        "outputId": "dd36b7db-42f0-405b-dac6-ae6beb41583a"
      },
      "execution_count": 13,
      "outputs": [
        {
          "output_type": "execute_result",
          "data": {
            "text/plain": [
              "<tf.Tensor: shape=(2, 2, 2, 3), dtype=int32, numpy=\n",
              "array([[[[1, 2, 3],\n",
              "         [1, 2, 3]],\n",
              "\n",
              "        [[1, 2, 3],\n",
              "         [1, 2, 3]]],\n",
              "\n",
              "\n",
              "       [[[1, 2, 3],\n",
              "         [1, 2, 3]],\n",
              "\n",
              "        [[1, 2, 3],\n",
              "         [1, 2, 3]]]], dtype=int32)>"
            ]
          },
          "metadata": {},
          "execution_count": 13
        }
      ]
    },
    {
      "cell_type": "code",
      "source": [
        "four_dimen.ndim"
      ],
      "metadata": {
        "colab": {
          "base_uri": "https://localhost:8080/"
        },
        "id": "1ey5ACz1Htwl",
        "outputId": "4aedba58-3f76-406c-9116-44e2b1f3e468"
      },
      "execution_count": 14,
      "outputs": [
        {
          "output_type": "execute_result",
          "data": {
            "text/plain": [
              "4"
            ]
          },
          "metadata": {},
          "execution_count": 14
        }
      ]
    },
    {
      "cell_type": "markdown",
      "source": [
        "### What we have learned so far:\n",
        "* Scalar: a single number\n",
        "* Vector: a number with direction\n",
        "* Matrix: 2 dimensional array\n",
        "* Tensor: n dimensional array(n can be any number, o dimensinal is a scalar, 1 dimensional is a vector)"
      ],
      "metadata": {
        "id": "DBDEu1LKLHZf"
      }
    },
    {
      "cell_type": "markdown",
      "source": [
        "### Creating Tensor with tf.Variable()"
      ],
      "metadata": {
        "id": "xcAPvQWcMihy"
      }
    },
    {
      "cell_type": "code",
      "source": [
        "#create same tensor with tf.Variable() and tf.constant()\n",
        "changeable_tensor = tf.Variable([1,2,3,4])\n",
        "unchangeable_tensor = tf.constant([1,2,3,4])\n",
        "changeable_tensor,unchangeable_tensor"
      ],
      "metadata": {
        "colab": {
          "base_uri": "https://localhost:8080/"
        },
        "id": "mbqFlCTnMX-1",
        "outputId": "a4ed75c5-7cfb-4b5e-e19d-3aba460df3b8"
      },
      "execution_count": 15,
      "outputs": [
        {
          "output_type": "execute_result",
          "data": {
            "text/plain": [
              "(<tf.Variable 'Variable:0' shape=(4,) dtype=int32, numpy=array([1, 2, 3, 4], dtype=int32)>,\n",
              " <tf.Tensor: shape=(4,), dtype=int32, numpy=array([1, 2, 3, 4], dtype=int32)>)"
            ]
          },
          "metadata": {},
          "execution_count": 15
        }
      ]
    },
    {
      "cell_type": "code",
      "source": [
        "#Let's try to change changeable_tensor\n",
        "changeable_tensor[1] = 4\n",
        "changeable_tensor"
      ],
      "metadata": {
        "colab": {
          "base_uri": "https://localhost:8080/",
          "height": 204
        },
        "id": "-9XI5cwaMYTw",
        "outputId": "8110f95c-7a4e-46af-9614-25985b469f80"
      },
      "execution_count": 16,
      "outputs": [
        {
          "output_type": "error",
          "ename": "TypeError",
          "evalue": "ignored",
          "traceback": [
            "\u001b[0;31m---------------------------------------------------------------------------\u001b[0m",
            "\u001b[0;31mTypeError\u001b[0m                                 Traceback (most recent call last)",
            "\u001b[0;32m<ipython-input-16-015b4c9d5078>\u001b[0m in \u001b[0;36m<cell line: 2>\u001b[0;34m()\u001b[0m\n\u001b[1;32m      1\u001b[0m \u001b[0;31m#Let's try to change changeable_tensor\u001b[0m\u001b[0;34m\u001b[0m\u001b[0;34m\u001b[0m\u001b[0m\n\u001b[0;32m----> 2\u001b[0;31m \u001b[0mchangeable_tensor\u001b[0m\u001b[0;34m[\u001b[0m\u001b[0;36m1\u001b[0m\u001b[0;34m]\u001b[0m \u001b[0;34m=\u001b[0m \u001b[0;36m4\u001b[0m\u001b[0;34m\u001b[0m\u001b[0;34m\u001b[0m\u001b[0m\n\u001b[0m\u001b[1;32m      3\u001b[0m \u001b[0mchangeable_tensor\u001b[0m\u001b[0;34m\u001b[0m\u001b[0;34m\u001b[0m\u001b[0m\n",
            "\u001b[0;31mTypeError\u001b[0m: 'ResourceVariable' object does not support item assignment"
          ]
        }
      ]
    },
    {
      "cell_type": "code",
      "source": [
        "#What about .assign()?\n",
        "changeable_tensor[3].assign(7)\n",
        "changeable_tensor\n",
        "#constant doesn't have .assign() function"
      ],
      "metadata": {
        "colab": {
          "base_uri": "https://localhost:8080/"
        },
        "id": "CTlz8yMbMYdY",
        "outputId": "ae234a04-2660-432a-a063-cff21df35c9a"
      },
      "execution_count": 17,
      "outputs": [
        {
          "output_type": "execute_result",
          "data": {
            "text/plain": [
              "<tf.Variable 'Variable:0' shape=(4,) dtype=int32, numpy=array([1, 2, 3, 7], dtype=int32)>"
            ]
          },
          "metadata": {},
          "execution_count": 17
        }
      ]
    },
    {
      "cell_type": "markdown",
      "source": [
        "### Creating random tensors"
      ],
      "metadata": {
        "id": "FtZHzPKdUbE-"
      }
    },
    {
      "cell_type": "code",
      "source": [
        "#create 2 tensors\n",
        "tensor_1 = tf.random.Generator.from_seed(45) # set seed for reproducibility\n",
        "tensor_1 = tensor_1.uniform(shape=(3,2))\n",
        "tensor_2 = tf.random.Generator.from_seed(45) \n",
        "tensor_2 = tensor_2.uniform(shape=(3,2))\n",
        "tensor_1, tensor_2, tensor_1 == tensor_2"
      ],
      "metadata": {
        "colab": {
          "base_uri": "https://localhost:8080/"
        },
        "id": "r8Wp8d0hMYwe",
        "outputId": "f402e5c7-7126-43e4-ba13-fc59eec9bbc7"
      },
      "execution_count": 18,
      "outputs": [
        {
          "output_type": "execute_result",
          "data": {
            "text/plain": [
              "(<tf.Tensor: shape=(3, 2), dtype=float32, numpy=\n",
              " array([[0.86540747, 0.8862978 ],\n",
              "        [0.27795732, 0.8857763 ],\n",
              "        [0.2179842 , 0.29115117]], dtype=float32)>,\n",
              " <tf.Tensor: shape=(3, 2), dtype=float32, numpy=\n",
              " array([[0.86540747, 0.8862978 ],\n",
              "        [0.27795732, 0.8857763 ],\n",
              "        [0.2179842 , 0.29115117]], dtype=float32)>,\n",
              " <tf.Tensor: shape=(3, 2), dtype=bool, numpy=\n",
              " array([[ True,  True],\n",
              "        [ True,  True],\n",
              "        [ True,  True]])>)"
            ]
          },
          "metadata": {},
          "execution_count": 18
        }
      ]
    },
    {
      "cell_type": "markdown",
      "source": [
        "### Shuffle the order of elements in a tensor"
      ],
      "metadata": {
        "id": "MbeTAS_DaWnC"
      }
    },
    {
      "cell_type": "code",
      "source": [
        "#Let's use tf.random.shuffle() to shuffle our tensor\n",
        "not_shuffled = tf.constant([1,2,3,4,5])\n",
        "shuffled = tf.random.shuffle(not_shuffled)\n",
        "shuffled"
      ],
      "metadata": {
        "colab": {
          "base_uri": "https://localhost:8080/"
        },
        "id": "zVg9hIPBMZDz",
        "outputId": "e6e0173c-432c-4e5a-a0f0-cdd56dac776d"
      },
      "execution_count": 19,
      "outputs": [
        {
          "output_type": "execute_result",
          "data": {
            "text/plain": [
              "<tf.Tensor: shape=(5,), dtype=int32, numpy=array([2, 4, 5, 3, 1], dtype=int32)>"
            ]
          },
          "metadata": {},
          "execution_count": 19
        }
      ]
    },
    {
      "cell_type": "code",
      "source": [
        "#Let's look at the 2 dimensional tensor\n",
        "not_shuffled = tf.constant([[1,2,3,4,5],[6,7,8,9,10]])\n",
        "shuffled = tf.random.shuffle(not_shuffled)\n",
        "not_shuffled,shuffled"
      ],
      "metadata": {
        "colab": {
          "base_uri": "https://localhost:8080/"
        },
        "id": "KR9BQ00BMZKk",
        "outputId": "7cf19e4d-1301-42c8-89df-97c54f7e9faa"
      },
      "execution_count": 20,
      "outputs": [
        {
          "output_type": "execute_result",
          "data": {
            "text/plain": [
              "(<tf.Tensor: shape=(2, 5), dtype=int32, numpy=\n",
              " array([[ 1,  2,  3,  4,  5],\n",
              "        [ 6,  7,  8,  9, 10]], dtype=int32)>,\n",
              " <tf.Tensor: shape=(2, 5), dtype=int32, numpy=\n",
              " array([[ 6,  7,  8,  9, 10],\n",
              "        [ 1,  2,  3,  4,  5]], dtype=int32)>)"
            ]
          },
          "metadata": {},
          "execution_count": 20
        }
      ]
    },
    {
      "cell_type": "code",
      "source": [
        "tf.random.set_seed(42) # global level random seed\n",
        "tf.random.shuffle(not_shuffled,seed = 42) # operation level random seed\n"
      ],
      "metadata": {
        "colab": {
          "base_uri": "https://localhost:8080/"
        },
        "id": "u8r2e9dRMZRl",
        "outputId": "bc0758b5-9fae-466e-c61a-53a93799739a"
      },
      "execution_count": 21,
      "outputs": [
        {
          "output_type": "execute_result",
          "data": {
            "text/plain": [
              "<tf.Tensor: shape=(2, 5), dtype=int32, numpy=\n",
              "array([[ 6,  7,  8,  9, 10],\n",
              "       [ 1,  2,  3,  4,  5]], dtype=int32)>"
            ]
          },
          "metadata": {},
          "execution_count": 21
        }
      ]
    },
    {
      "cell_type": "markdown",
      "source": [
        "### Other Ways to Create Tensors"
      ],
      "metadata": {
        "id": "XMxcGK9OeV7T"
      }
    },
    {
      "cell_type": "code",
      "source": [
        "#create tensor of all ones\n",
        "tf.ones(shape = (3,6))"
      ],
      "metadata": {
        "colab": {
          "base_uri": "https://localhost:8080/"
        },
        "id": "d9-jsu2_MZZC",
        "outputId": "b16c0c85-d4be-441c-ec63-749a97f5023b"
      },
      "execution_count": 22,
      "outputs": [
        {
          "output_type": "execute_result",
          "data": {
            "text/plain": [
              "<tf.Tensor: shape=(3, 6), dtype=float32, numpy=\n",
              "array([[1., 1., 1., 1., 1., 1.],\n",
              "       [1., 1., 1., 1., 1., 1.],\n",
              "       [1., 1., 1., 1., 1., 1.]], dtype=float32)>"
            ]
          },
          "metadata": {},
          "execution_count": 22
        }
      ]
    },
    {
      "cell_type": "code",
      "source": [
        "#create tensor of all zeroes\n",
        "tf.zeros(shape = (4,5))"
      ],
      "metadata": {
        "colab": {
          "base_uri": "https://localhost:8080/"
        },
        "id": "R7zsP8WUMZgu",
        "outputId": "83e60588-dc7b-4734-af9e-d1e5b027bbfc"
      },
      "execution_count": 23,
      "outputs": [
        {
          "output_type": "execute_result",
          "data": {
            "text/plain": [
              "<tf.Tensor: shape=(4, 5), dtype=float32, numpy=\n",
              "array([[0., 0., 0., 0., 0.],\n",
              "       [0., 0., 0., 0., 0.],\n",
              "       [0., 0., 0., 0., 0.],\n",
              "       [0., 0., 0., 0., 0.]], dtype=float32)>"
            ]
          },
          "metadata": {},
          "execution_count": 23
        }
      ]
    },
    {
      "cell_type": "markdown",
      "source": [
        "### Turn NumPy arrays into Tensors\n",
        "The main difference between NumPy arrays and TensorFlow Tensors is tensors can run on the GPU(way much faster for numerical computing)"
      ],
      "metadata": {
        "id": "Uq3TgNV-gwfs"
      }
    },
    {
      "cell_type": "code",
      "source": [
        "#creating numpy array\n",
        "import numpy as np\n",
        "numpy_array = np.arange(1,25,dtype = np.int32) #create NumPy array between 1 and 25\n",
        "numpy_array"
      ],
      "metadata": {
        "colab": {
          "base_uri": "https://localhost:8080/"
        },
        "id": "sSWZdQzfMZoN",
        "outputId": "8bc30fc2-e01f-4602-d4da-37ed831d92a8"
      },
      "execution_count": 24,
      "outputs": [
        {
          "output_type": "execute_result",
          "data": {
            "text/plain": [
              "array([ 1,  2,  3,  4,  5,  6,  7,  8,  9, 10, 11, 12, 13, 14, 15, 16, 17,\n",
              "       18, 19, 20, 21, 22, 23, 24], dtype=int32)"
            ]
          },
          "metadata": {},
          "execution_count": 24
        }
      ]
    },
    {
      "cell_type": "code",
      "source": [
        "#turn into tensor\n",
        "tensor_1 = tf.constant(numpy_array)\n",
        "#change shape of tensor\n",
        "tensor_2 = tf.constant(numpy_array,shape = (2,3,4)) # 2*3*4 = 24\n",
        "tensor_1,tensor_2"
      ],
      "metadata": {
        "colab": {
          "base_uri": "https://localhost:8080/"
        },
        "id": "zj26zURdMZvu",
        "outputId": "579a7b2e-10d8-4553-cf6f-df577d671162"
      },
      "execution_count": 25,
      "outputs": [
        {
          "output_type": "execute_result",
          "data": {
            "text/plain": [
              "(<tf.Tensor: shape=(24,), dtype=int32, numpy=\n",
              " array([ 1,  2,  3,  4,  5,  6,  7,  8,  9, 10, 11, 12, 13, 14, 15, 16, 17,\n",
              "        18, 19, 20, 21, 22, 23, 24], dtype=int32)>,\n",
              " <tf.Tensor: shape=(2, 3, 4), dtype=int32, numpy=\n",
              " array([[[ 1,  2,  3,  4],\n",
              "         [ 5,  6,  7,  8],\n",
              "         [ 9, 10, 11, 12]],\n",
              " \n",
              "        [[13, 14, 15, 16],\n",
              "         [17, 18, 19, 20],\n",
              "         [21, 22, 23, 24]]], dtype=int32)>)"
            ]
          },
          "metadata": {},
          "execution_count": 25
        }
      ]
    },
    {
      "cell_type": "markdown",
      "source": [
        "### Getting Information from Tensors.\n",
        "When dealing with tensors, you probably wanna be aware of following attributes:\n",
        "* Shape\n",
        "* Rank\n",
        "* Axis or Dimension\n",
        "* Size"
      ],
      "metadata": {
        "id": "Khyjez6njuCU"
      }
    },
    {
      "cell_type": "code",
      "source": [
        "#create rank 4 tensor(4 dimensional)\n",
        "rank4_tensor = tf.ones(shape = (2,2,3,4))\n",
        "rank4_tensor"
      ],
      "metadata": {
        "colab": {
          "base_uri": "https://localhost:8080/"
        },
        "id": "yIEPzROaMZ3T",
        "outputId": "e2d6d8d2-a9e6-4f22-a0f6-04f90f778ff4"
      },
      "execution_count": 26,
      "outputs": [
        {
          "output_type": "execute_result",
          "data": {
            "text/plain": [
              "<tf.Tensor: shape=(2, 2, 3, 4), dtype=float32, numpy=\n",
              "array([[[[1., 1., 1., 1.],\n",
              "         [1., 1., 1., 1.],\n",
              "         [1., 1., 1., 1.]],\n",
              "\n",
              "        [[1., 1., 1., 1.],\n",
              "         [1., 1., 1., 1.],\n",
              "         [1., 1., 1., 1.]]],\n",
              "\n",
              "\n",
              "       [[[1., 1., 1., 1.],\n",
              "         [1., 1., 1., 1.],\n",
              "         [1., 1., 1., 1.]],\n",
              "\n",
              "        [[1., 1., 1., 1.],\n",
              "         [1., 1., 1., 1.],\n",
              "         [1., 1., 1., 1.]]]], dtype=float32)>"
            ]
          },
          "metadata": {},
          "execution_count": 26
        }
      ]
    },
    {
      "cell_type": "code",
      "source": [
        "#looking for shape,rank and size of rank4_tensor\n",
        "rank4_tensor.shape,rank4_tensor.ndim,tf.size(rank4_tensor)"
      ],
      "metadata": {
        "colab": {
          "base_uri": "https://localhost:8080/"
        },
        "id": "JkORDES8n0PX",
        "outputId": "43f41951-dcc1-4087-b216-b1c835177115"
      },
      "execution_count": 27,
      "outputs": [
        {
          "output_type": "execute_result",
          "data": {
            "text/plain": [
              "(TensorShape([2, 2, 3, 4]), 4, <tf.Tensor: shape=(), dtype=int32, numpy=48>)"
            ]
          },
          "metadata": {},
          "execution_count": 27
        }
      ]
    },
    {
      "cell_type": "markdown",
      "source": [
        "Let's look at previous example:\n",
        "* Shape - Shape of Tensor\n",
        "* Rank - Number of Dimensions\n",
        "* Size - Total Number of Elements in the Tensor"
      ],
      "metadata": {
        "id": "ubocmL4Xore4"
      }
    },
    {
      "cell_type": "markdown",
      "source": [
        "### Indexing\n",
        "Tensors can be indexed like Python Lists or NumPy Arrays"
      ],
      "metadata": {
        "id": "lwYXrWfTqVSg"
      }
    },
    {
      "cell_type": "code",
      "source": [
        "# Get the first 2 elements if each dimension\n",
        "rank4_tensor[:2,:2,:2,:2]"
      ],
      "metadata": {
        "colab": {
          "base_uri": "https://localhost:8080/"
        },
        "id": "YwKtZWS7qdWd",
        "outputId": "4ee7cbe2-b194-4136-c35a-a22b4e9beec6"
      },
      "execution_count": 28,
      "outputs": [
        {
          "output_type": "execute_result",
          "data": {
            "text/plain": [
              "<tf.Tensor: shape=(2, 2, 2, 2), dtype=float32, numpy=\n",
              "array([[[[1., 1.],\n",
              "         [1., 1.]],\n",
              "\n",
              "        [[1., 1.],\n",
              "         [1., 1.]]],\n",
              "\n",
              "\n",
              "       [[[1., 1.],\n",
              "         [1., 1.]],\n",
              "\n",
              "        [[1., 1.],\n",
              "         [1., 1.]]]], dtype=float32)>"
            ]
          },
          "metadata": {},
          "execution_count": 28
        }
      ]
    },
    {
      "cell_type": "code",
      "source": [
        "#Get the first element from each dimension from each index except final dimension\n",
        "rank4_tensor[:1,:1,:1,:]"
      ],
      "metadata": {
        "colab": {
          "base_uri": "https://localhost:8080/"
        },
        "id": "coztNKDpqtmu",
        "outputId": "21696a09-4956-409f-8df9-98fb1f0f3cd6"
      },
      "execution_count": 29,
      "outputs": [
        {
          "output_type": "execute_result",
          "data": {
            "text/plain": [
              "<tf.Tensor: shape=(1, 1, 1, 4), dtype=float32, numpy=array([[[[1., 1., 1., 1.]]]], dtype=float32)>"
            ]
          },
          "metadata": {},
          "execution_count": 29
        }
      ]
    },
    {
      "cell_type": "code",
      "source": [
        "#create rank 2 tensor\n",
        "rank_2_tensor = tf.constant([[1,2,3,4,5],[6,7,8,9,10]])\n",
        "rank_2_tensor"
      ],
      "metadata": {
        "colab": {
          "base_uri": "https://localhost:8080/"
        },
        "id": "xISMFXtHrhEK",
        "outputId": "a1a1408e-a388-4fa3-d0dd-2eeb883a67d0"
      },
      "execution_count": 30,
      "outputs": [
        {
          "output_type": "execute_result",
          "data": {
            "text/plain": [
              "<tf.Tensor: shape=(2, 5), dtype=int32, numpy=\n",
              "array([[ 1,  2,  3,  4,  5],\n",
              "       [ 6,  7,  8,  9, 10]], dtype=int32)>"
            ]
          },
          "metadata": {},
          "execution_count": 30
        }
      ]
    },
    {
      "cell_type": "code",
      "source": [
        "#get the last item of each of row of  our rank tensor\n",
        "rank_2_tensor[:,-1]"
      ],
      "metadata": {
        "colab": {
          "base_uri": "https://localhost:8080/"
        },
        "id": "Nlg0FGE-s74q",
        "outputId": "d54713b6-fffd-4c12-a23b-fe56522b8d9d"
      },
      "execution_count": 31,
      "outputs": [
        {
          "output_type": "execute_result",
          "data": {
            "text/plain": [
              "<tf.Tensor: shape=(2,), dtype=int32, numpy=array([ 5, 10], dtype=int32)>"
            ]
          },
          "metadata": {},
          "execution_count": 31
        }
      ]
    },
    {
      "cell_type": "code",
      "source": [
        "# add in extra dimension to rank_2_tensor\n",
        "rank_3_tensor = rank_2_tensor[...,tf.newaxis]\n",
        "rank_3_tensor"
      ],
      "metadata": {
        "colab": {
          "base_uri": "https://localhost:8080/"
        },
        "id": "w4XCrrD7tZZ_",
        "outputId": "3ae64fd7-25b9-4cbb-9a0c-717dbb6c7d2a"
      },
      "execution_count": 32,
      "outputs": [
        {
          "output_type": "execute_result",
          "data": {
            "text/plain": [
              "<tf.Tensor: shape=(2, 5, 1), dtype=int32, numpy=\n",
              "array([[[ 1],\n",
              "        [ 2],\n",
              "        [ 3],\n",
              "        [ 4],\n",
              "        [ 5]],\n",
              "\n",
              "       [[ 6],\n",
              "        [ 7],\n",
              "        [ 8],\n",
              "        [ 9],\n",
              "        [10]]], dtype=int32)>"
            ]
          },
          "metadata": {},
          "execution_count": 32
        }
      ]
    },
    {
      "cell_type": "code",
      "source": [
        "#Alternative to the tf.newaxis\n",
        "tf.expand_dims(rank_2_tensor,axis = -1)"
      ],
      "metadata": {
        "colab": {
          "base_uri": "https://localhost:8080/"
        },
        "id": "gVJlo863vAjx",
        "outputId": "bab3fb14-c1e2-4f6c-b57e-bf002a32716d"
      },
      "execution_count": 33,
      "outputs": [
        {
          "output_type": "execute_result",
          "data": {
            "text/plain": [
              "<tf.Tensor: shape=(2, 5, 1), dtype=int32, numpy=\n",
              "array([[[ 1],\n",
              "        [ 2],\n",
              "        [ 3],\n",
              "        [ 4],\n",
              "        [ 5]],\n",
              "\n",
              "       [[ 6],\n",
              "        [ 7],\n",
              "        [ 8],\n",
              "        [ 9],\n",
              "        [10]]], dtype=int32)>"
            ]
          },
          "metadata": {},
          "execution_count": 33
        }
      ]
    },
    {
      "cell_type": "code",
      "source": [
        "#adding di,ension to the first axis\n",
        "tf.expand_dims(rank_2_tensor,axis=0)"
      ],
      "metadata": {
        "colab": {
          "base_uri": "https://localhost:8080/"
        },
        "id": "78VlJibivfHX",
        "outputId": "0101cbef-1c3e-4279-8dd8-21a52038d1d9"
      },
      "execution_count": 34,
      "outputs": [
        {
          "output_type": "execute_result",
          "data": {
            "text/plain": [
              "<tf.Tensor: shape=(1, 2, 5), dtype=int32, numpy=\n",
              "array([[[ 1,  2,  3,  4,  5],\n",
              "        [ 6,  7,  8,  9, 10]]], dtype=int32)>"
            ]
          },
          "metadata": {},
          "execution_count": 34
        }
      ]
    },
    {
      "cell_type": "code",
      "source": [
        "#adding di,ension to the middle\n",
        "tf.expand_dims(rank_2_tensor,axis=1)"
      ],
      "metadata": {
        "colab": {
          "base_uri": "https://localhost:8080/"
        },
        "id": "FfbEqbwwxUcc",
        "outputId": "929f2aed-7c23-4766-e454-38903196789a"
      },
      "execution_count": 35,
      "outputs": [
        {
          "output_type": "execute_result",
          "data": {
            "text/plain": [
              "<tf.Tensor: shape=(2, 1, 5), dtype=int32, numpy=\n",
              "array([[[ 1,  2,  3,  4,  5]],\n",
              "\n",
              "       [[ 6,  7,  8,  9, 10]]], dtype=int32)>"
            ]
          },
          "metadata": {},
          "execution_count": 35
        }
      ]
    },
    {
      "cell_type": "code",
      "source": [
        "#lookig for some attributes in the tensor\n",
        "print(\"The Shape of Tensor:\",tf.expand_dims(rank_2_tensor,axis=1).shape)\n",
        "print(\"The Number of Dimensions:\",tf.expand_dims(rank_2_tensor,axis=1).ndim)\n",
        "print(\"The total number of elements:\",tf.size(tf.expand_dims(rank_2_tensor,axis=1)))"
      ],
      "metadata": {
        "colab": {
          "base_uri": "https://localhost:8080/"
        },
        "id": "wejFHvONxaLE",
        "outputId": "d321b841-57f9-4b7c-fb92-d89ae586e53a"
      },
      "execution_count": 36,
      "outputs": [
        {
          "output_type": "stream",
          "name": "stdout",
          "text": [
            "The Shape of Tensor: (2, 1, 5)\n",
            "The Number of Dimensions: 3\n",
            "The total number of elements: tf.Tensor(10, shape=(), dtype=int32)\n"
          ]
        }
      ]
    },
    {
      "cell_type": "markdown",
      "source": [
        "### Manupulating tensors(tensor operations)\n",
        "**Basic Operations**\n",
        "\n",
        "\n",
        "\n"
      ],
      "metadata": {
        "id": "0Scv-zJUyh_6"
      }
    },
    {
      "cell_type": "code",
      "source": [
        "#addition\n",
        "tensor = tf.constant([[10,20],[30,40]])\n",
        "tensor + 10"
      ],
      "metadata": {
        "colab": {
          "base_uri": "https://localhost:8080/"
        },
        "id": "hKY9dMjOxde3",
        "outputId": "7b5cfc71-4824-4432-93d0-e6ab0b0ff64a"
      },
      "execution_count": 37,
      "outputs": [
        {
          "output_type": "execute_result",
          "data": {
            "text/plain": [
              "<tf.Tensor: shape=(2, 2), dtype=int32, numpy=\n",
              "array([[20, 30],\n",
              "       [40, 50]], dtype=int32)>"
            ]
          },
          "metadata": {},
          "execution_count": 37
        }
      ]
    },
    {
      "cell_type": "code",
      "source": [
        "# Original tensor is not changed\n",
        "tensor"
      ],
      "metadata": {
        "colab": {
          "base_uri": "https://localhost:8080/"
        },
        "id": "XQgQG7oKyGzr",
        "outputId": "f48cbf99-4432-4beb-ce2a-7c18996a950a"
      },
      "execution_count": 38,
      "outputs": [
        {
          "output_type": "execute_result",
          "data": {
            "text/plain": [
              "<tf.Tensor: shape=(2, 2), dtype=int32, numpy=\n",
              "array([[10, 20],\n",
              "       [30, 40]], dtype=int32)>"
            ]
          },
          "metadata": {},
          "execution_count": 38
        }
      ]
    },
    {
      "cell_type": "code",
      "source": [
        "#multiplication also works\n",
        "tensor * 10"
      ],
      "metadata": {
        "colab": {
          "base_uri": "https://localhost:8080/"
        },
        "id": "kJ4JF1MOzX3C",
        "outputId": "f833d379-11af-4af6-9be1-4f27771a61e9"
      },
      "execution_count": 39,
      "outputs": [
        {
          "output_type": "execute_result",
          "data": {
            "text/plain": [
              "<tf.Tensor: shape=(2, 2), dtype=int32, numpy=\n",
              "array([[100, 200],\n",
              "       [300, 400]], dtype=int32)>"
            ]
          },
          "metadata": {},
          "execution_count": 39
        }
      ]
    },
    {
      "cell_type": "code",
      "source": [
        "#subtraction\n",
        "tensor - 10"
      ],
      "metadata": {
        "colab": {
          "base_uri": "https://localhost:8080/"
        },
        "id": "kuDU1GZuze2q",
        "outputId": "ab3362f9-6532-4fca-b8be-f263b98cd55c"
      },
      "execution_count": 40,
      "outputs": [
        {
          "output_type": "execute_result",
          "data": {
            "text/plain": [
              "<tf.Tensor: shape=(2, 2), dtype=int32, numpy=\n",
              "array([[ 0, 10],\n",
              "       [20, 30]], dtype=int32)>"
            ]
          },
          "metadata": {},
          "execution_count": 40
        }
      ]
    },
    {
      "cell_type": "markdown",
      "source": [
        "### Matrix *Multiplication*\n",
        "\n",
        "  In machine Learning, Matrix multiplication is one of the most usefull and important operation.\n",
        " \n",
        "  There are 2 rules to multiply our tensors(or matrices):\n",
        "\n",
        "1. The inner dimensions must match.\n",
        "2. The resulting matrix has the shape of outher dimensions."
      ],
      "metadata": {
        "id": "5cTC1rG63I5e"
      }
    },
    {
      "cell_type": "code",
      "source": [
        "#matrix multiplication in tensowflow\n",
        "print(tensor)\n",
        "tf.linalg.matmul(tensor,tensor)"
      ],
      "metadata": {
        "id": "boDh-0_uzfkV",
        "colab": {
          "base_uri": "https://localhost:8080/"
        },
        "outputId": "baa62fd8-468f-4abd-ff08-bc972d97c0a5"
      },
      "execution_count": 41,
      "outputs": [
        {
          "output_type": "stream",
          "name": "stdout",
          "text": [
            "tf.Tensor(\n",
            "[[10 20]\n",
            " [30 40]], shape=(2, 2), dtype=int32)\n"
          ]
        },
        {
          "output_type": "execute_result",
          "data": {
            "text/plain": [
              "<tf.Tensor: shape=(2, 2), dtype=int32, numpy=\n",
              "array([[ 700, 1000],\n",
              "       [1500, 2200]], dtype=int32)>"
            ]
          },
          "metadata": {},
          "execution_count": 41
        }
      ]
    },
    {
      "cell_type": "code",
      "source": [
        "tensor * tensor"
      ],
      "metadata": {
        "colab": {
          "base_uri": "https://localhost:8080/"
        },
        "id": "fZjHdB3CY3pP",
        "outputId": "1ce7e33b-ba76-4a68-f77a-0c3ffd27755d"
      },
      "execution_count": 42,
      "outputs": [
        {
          "output_type": "execute_result",
          "data": {
            "text/plain": [
              "<tf.Tensor: shape=(2, 2), dtype=int32, numpy=\n",
              "array([[ 100,  400],\n",
              "       [ 900, 1600]], dtype=int32)>"
            ]
          },
          "metadata": {},
          "execution_count": 42
        }
      ]
    },
    {
      "cell_type": "code",
      "source": [
        "#Task: create tensor with shape of (3,3) and shape of (3,2)\n",
        "tensor_1 = tf.constant([[1,4,5],\n",
        "                        [1,2,5],\n",
        "                        [1,5,9]])\n",
        "\n",
        "tensor_2 = tf.constant([[1,2],\n",
        "                        [8,9],\n",
        "                        [5,6]])"
      ],
      "metadata": {
        "id": "3gjet_rpY3mo"
      },
      "execution_count": 43,
      "outputs": []
    },
    {
      "cell_type": "code",
      "source": [
        "# then multiply them with a Python operation\n",
        "tensor_1 @ tensor_2 #\"@\" in Python for the Matrix Multiplication"
      ],
      "metadata": {
        "colab": {
          "base_uri": "https://localhost:8080/"
        },
        "id": "dZ_0ZMdaY3jx",
        "outputId": "8db7b9a8-ccd6-492a-f252-56ce15c6743a"
      },
      "execution_count": 44,
      "outputs": [
        {
          "output_type": "execute_result",
          "data": {
            "text/plain": [
              "<tf.Tensor: shape=(3, 2), dtype=int32, numpy=\n",
              "array([[ 58,  68],\n",
              "       [ 42,  50],\n",
              "       [ 86, 101]], dtype=int32)>"
            ]
          },
          "metadata": {},
          "execution_count": 44
        }
      ]
    },
    {
      "cell_type": "code",
      "source": [
        "#let's do that with tf.matmul\n",
        "tf.linalg.matmul(tensor_1,tensor_2)"
      ],
      "metadata": {
        "colab": {
          "base_uri": "https://localhost:8080/"
        },
        "id": "rsCOezE4Y3hL",
        "outputId": "203aec6b-c702-4e2f-9688-73232722dbb8"
      },
      "execution_count": 45,
      "outputs": [
        {
          "output_type": "execute_result",
          "data": {
            "text/plain": [
              "<tf.Tensor: shape=(3, 2), dtype=int32, numpy=\n",
              "array([[ 58,  68],\n",
              "       [ 42,  50],\n",
              "       [ 86, 101]], dtype=int32)>"
            ]
          },
          "metadata": {},
          "execution_count": 45
        }
      ]
    },
    {
      "cell_type": "code",
      "source": [
        "#let's create two tensor with the same shape\n",
        "X = tf.constant([[1,2],\n",
        "                 [3,4],\n",
        "                 [5,6]])\n",
        "y = tf.constant([[7,6],\n",
        "                [8,9],\n",
        "                [4,5]])\n",
        "#let's try to multiply them\n",
        "X @ y"
      ],
      "metadata": {
        "colab": {
          "base_uri": "https://localhost:8080/",
          "height": 371
        },
        "id": "RVcUl3hlY3eT",
        "outputId": "a14f9571-1183-4575-a8a7-04c3c5e81f0e"
      },
      "execution_count": 46,
      "outputs": [
        {
          "output_type": "error",
          "ename": "InvalidArgumentError",
          "evalue": "ignored",
          "traceback": [
            "\u001b[0;31m---------------------------------------------------------------------------\u001b[0m",
            "\u001b[0;31mInvalidArgumentError\u001b[0m                      Traceback (most recent call last)",
            "\u001b[0;32m<ipython-input-46-ec8ed6a29375>\u001b[0m in \u001b[0;36m<cell line: 9>\u001b[0;34m()\u001b[0m\n\u001b[1;32m      7\u001b[0m                 [4,5]])\n\u001b[1;32m      8\u001b[0m \u001b[0;31m#let's try to multiply them\u001b[0m\u001b[0;34m\u001b[0m\u001b[0;34m\u001b[0m\u001b[0m\n\u001b[0;32m----> 9\u001b[0;31m \u001b[0mX\u001b[0m \u001b[0;34m@\u001b[0m \u001b[0my\u001b[0m\u001b[0;34m\u001b[0m\u001b[0;34m\u001b[0m\u001b[0m\n\u001b[0m",
            "\u001b[0;32m/usr/local/lib/python3.10/dist-packages/tensorflow/python/util/traceback_utils.py\u001b[0m in \u001b[0;36merror_handler\u001b[0;34m(*args, **kwargs)\u001b[0m\n\u001b[1;32m    151\u001b[0m     \u001b[0;32mexcept\u001b[0m \u001b[0mException\u001b[0m \u001b[0;32mas\u001b[0m \u001b[0me\u001b[0m\u001b[0;34m:\u001b[0m\u001b[0;34m\u001b[0m\u001b[0;34m\u001b[0m\u001b[0m\n\u001b[1;32m    152\u001b[0m       \u001b[0mfiltered_tb\u001b[0m \u001b[0;34m=\u001b[0m \u001b[0m_process_traceback_frames\u001b[0m\u001b[0;34m(\u001b[0m\u001b[0me\u001b[0m\u001b[0;34m.\u001b[0m\u001b[0m__traceback__\u001b[0m\u001b[0;34m)\u001b[0m\u001b[0;34m\u001b[0m\u001b[0;34m\u001b[0m\u001b[0m\n\u001b[0;32m--> 153\u001b[0;31m       \u001b[0;32mraise\u001b[0m \u001b[0me\u001b[0m\u001b[0;34m.\u001b[0m\u001b[0mwith_traceback\u001b[0m\u001b[0;34m(\u001b[0m\u001b[0mfiltered_tb\u001b[0m\u001b[0;34m)\u001b[0m \u001b[0;32mfrom\u001b[0m \u001b[0;32mNone\u001b[0m\u001b[0;34m\u001b[0m\u001b[0;34m\u001b[0m\u001b[0m\n\u001b[0m\u001b[1;32m    154\u001b[0m     \u001b[0;32mfinally\u001b[0m\u001b[0;34m:\u001b[0m\u001b[0;34m\u001b[0m\u001b[0;34m\u001b[0m\u001b[0m\n\u001b[1;32m    155\u001b[0m       \u001b[0;32mdel\u001b[0m \u001b[0mfiltered_tb\u001b[0m\u001b[0;34m\u001b[0m\u001b[0;34m\u001b[0m\u001b[0m\n",
            "\u001b[0;32m/usr/local/lib/python3.10/dist-packages/tensorflow/python/framework/ops.py\u001b[0m in \u001b[0;36mraise_from_not_ok_status\u001b[0;34m(e, name)\u001b[0m\n\u001b[1;32m   7260\u001b[0m \u001b[0;32mdef\u001b[0m \u001b[0mraise_from_not_ok_status\u001b[0m\u001b[0;34m(\u001b[0m\u001b[0me\u001b[0m\u001b[0;34m,\u001b[0m \u001b[0mname\u001b[0m\u001b[0;34m)\u001b[0m\u001b[0;34m:\u001b[0m\u001b[0;34m\u001b[0m\u001b[0;34m\u001b[0m\u001b[0m\n\u001b[1;32m   7261\u001b[0m   \u001b[0me\u001b[0m\u001b[0;34m.\u001b[0m\u001b[0mmessage\u001b[0m \u001b[0;34m+=\u001b[0m \u001b[0;34m(\u001b[0m\u001b[0;34m\" name: \"\u001b[0m \u001b[0;34m+\u001b[0m \u001b[0mname\u001b[0m \u001b[0;32mif\u001b[0m \u001b[0mname\u001b[0m \u001b[0;32mis\u001b[0m \u001b[0;32mnot\u001b[0m \u001b[0;32mNone\u001b[0m \u001b[0;32melse\u001b[0m \u001b[0;34m\"\"\u001b[0m\u001b[0;34m)\u001b[0m\u001b[0;34m\u001b[0m\u001b[0;34m\u001b[0m\u001b[0m\n\u001b[0;32m-> 7262\u001b[0;31m   \u001b[0;32mraise\u001b[0m \u001b[0mcore\u001b[0m\u001b[0;34m.\u001b[0m\u001b[0m_status_to_exception\u001b[0m\u001b[0;34m(\u001b[0m\u001b[0me\u001b[0m\u001b[0;34m)\u001b[0m \u001b[0;32mfrom\u001b[0m \u001b[0;32mNone\u001b[0m  \u001b[0;31m# pylint: disable=protected-access\u001b[0m\u001b[0;34m\u001b[0m\u001b[0;34m\u001b[0m\u001b[0m\n\u001b[0m\u001b[1;32m   7263\u001b[0m \u001b[0;34m\u001b[0m\u001b[0m\n\u001b[1;32m   7264\u001b[0m \u001b[0;34m\u001b[0m\u001b[0m\n",
            "\u001b[0;31mInvalidArgumentError\u001b[0m: {{function_node __wrapped__MatMul_device_/job:localhost/replica:0/task:0/device:CPU:0}} Matrix size-incompatible: In[0]: [3,2], In[1]: [3,2] [Op:MatMul]"
          ]
        }
      ]
    },
    {
      "cell_type": "code",
      "source": [
        "#let's change the shape of y and try again\n",
        "X @ tf.reshape(y, shape = (2,3))"
      ],
      "metadata": {
        "colab": {
          "base_uri": "https://localhost:8080/"
        },
        "id": "LXIRuS-HxQre",
        "outputId": "b4486e3d-c8cd-4b69-ce03-4db681b726dd"
      },
      "execution_count": 47,
      "outputs": [
        {
          "output_type": "execute_result",
          "data": {
            "text/plain": [
              "<tf.Tensor: shape=(3, 3), dtype=int32, numpy=\n",
              "array([[25, 14, 18],\n",
              "       [57, 34, 44],\n",
              "       [89, 54, 70]], dtype=int32)>"
            ]
          },
          "metadata": {},
          "execution_count": 47
        }
      ]
    },
    {
      "cell_type": "code",
      "source": [
        "#now,reshape the X and we cann see that works or not\n",
        "tf.reshape(X,shape = (2,3)) @ y"
      ],
      "metadata": {
        "colab": {
          "base_uri": "https://localhost:8080/"
        },
        "id": "a8Hv3IVqxQuR",
        "outputId": "09b9a386-e72e-4e7f-fd59-63d841a3dad5"
      },
      "execution_count": 48,
      "outputs": [
        {
          "output_type": "execute_result",
          "data": {
            "text/plain": [
              "<tf.Tensor: shape=(2, 2), dtype=int32, numpy=\n",
              "array([[35, 39],\n",
              "       [92, 99]], dtype=int32)>"
            ]
          },
          "metadata": {},
          "execution_count": 48
        }
      ]
    },
    {
      "cell_type": "code",
      "source": [
        "#Let's see the difference between tf.transpose() and tf,reshape() \n",
        "X,tf.transpose(X),tf.reshape(X,shape=(2,3))"
      ],
      "metadata": {
        "colab": {
          "base_uri": "https://localhost:8080/"
        },
        "id": "KrdZsk80825E",
        "outputId": "a168bb56-76e4-48e5-cd3b-63524fe72756"
      },
      "execution_count": 49,
      "outputs": [
        {
          "output_type": "execute_result",
          "data": {
            "text/plain": [
              "(<tf.Tensor: shape=(3, 2), dtype=int32, numpy=\n",
              " array([[1, 2],\n",
              "        [3, 4],\n",
              "        [5, 6]], dtype=int32)>,\n",
              " <tf.Tensor: shape=(2, 3), dtype=int32, numpy=\n",
              " array([[1, 3, 5],\n",
              "        [2, 4, 6]], dtype=int32)>,\n",
              " <tf.Tensor: shape=(2, 3), dtype=int32, numpy=\n",
              " array([[1, 2, 3],\n",
              "        [4, 5, 6]], dtype=int32)>)"
            ]
          },
          "metadata": {},
          "execution_count": 49
        }
      ]
    },
    {
      "cell_type": "code",
      "source": [
        "#can do same thing with tf.transpose()\n",
        "tf.transpose(X) @ y"
      ],
      "metadata": {
        "colab": {
          "base_uri": "https://localhost:8080/"
        },
        "id": "EgayFn2QxQ0R",
        "outputId": "7fcb0aee-91a6-4a56-f402-59fc4bd501ee"
      },
      "execution_count": 50,
      "outputs": [
        {
          "output_type": "execute_result",
          "data": {
            "text/plain": [
              "<tf.Tensor: shape=(2, 2), dtype=int32, numpy=\n",
              "array([[51, 58],\n",
              "       [70, 78]], dtype=int32)>"
            ]
          },
          "metadata": {},
          "execution_count": 50
        }
      ]
    },
    {
      "cell_type": "code",
      "source": [
        "#transpose y instead of X\n",
        "tf.linalg.matmul(X,tf.transpose(y))"
      ],
      "metadata": {
        "colab": {
          "base_uri": "https://localhost:8080/"
        },
        "id": "cvEjZBAbxQ3I",
        "outputId": "cfafc6f1-8120-441d-abf7-cf19fa72ed2d"
      },
      "execution_count": 51,
      "outputs": [
        {
          "output_type": "execute_result",
          "data": {
            "text/plain": [
              "<tf.Tensor: shape=(3, 3), dtype=int32, numpy=\n",
              "array([[19, 26, 14],\n",
              "       [45, 60, 32],\n",
              "       [71, 94, 50]], dtype=int32)>"
            ]
          },
          "metadata": {},
          "execution_count": 51
        }
      ]
    },
    {
      "cell_type": "markdown",
      "source": [
        "📖 **Resource**: Info and Example of Matrix Multiplication: https://www.mathsisfun.com/algebra/matrix-multiplying.html"
      ],
      "metadata": {
        "id": "E9dZLiC8wPjN"
      }
    },
    {
      "cell_type": "markdown",
      "source": [
        "### The Dot Product\n",
        "You can perform matrix multiplication using:\n",
        "\n",
        "*  `tf.matmul()`\n",
        "*  `tf.tensordot()`\n",
        "* `@`\n",
        "\n",
        "\n",
        "\n"
      ],
      "metadata": {
        "id": "WhJB87Dj-2mE"
      }
    },
    {
      "cell_type": "code",
      "source": [
        "X,y"
      ],
      "metadata": {
        "colab": {
          "base_uri": "https://localhost:8080/"
        },
        "id": "ZDnorwj_xQ5_",
        "outputId": "b5c396ae-a918-4238-faba-f68e34819467"
      },
      "execution_count": 52,
      "outputs": [
        {
          "output_type": "execute_result",
          "data": {
            "text/plain": [
              "(<tf.Tensor: shape=(3, 2), dtype=int32, numpy=\n",
              " array([[1, 2],\n",
              "        [3, 4],\n",
              "        [5, 6]], dtype=int32)>,\n",
              " <tf.Tensor: shape=(3, 2), dtype=int32, numpy=\n",
              " array([[7, 6],\n",
              "        [8, 9],\n",
              "        [4, 5]], dtype=int32)>)"
            ]
          },
          "metadata": {},
          "execution_count": 52
        }
      ]
    },
    {
      "cell_type": "code",
      "source": [
        "#maltiply with tf.tensordot() on X and y\n",
        "tf.tensordot(tf.transpose(X),y,axes = 1)"
      ],
      "metadata": {
        "colab": {
          "base_uri": "https://localhost:8080/"
        },
        "id": "Ba5Ch1MfY3bM",
        "outputId": "00ed664c-7619-4ae8-d485-f96a7f590679"
      },
      "execution_count": 53,
      "outputs": [
        {
          "output_type": "execute_result",
          "data": {
            "text/plain": [
              "<tf.Tensor: shape=(2, 2), dtype=int32, numpy=\n",
              "array([[51, 58],\n",
              "       [70, 78]], dtype=int32)>"
            ]
          },
          "metadata": {},
          "execution_count": 53
        }
      ]
    },
    {
      "cell_type": "code",
      "source": [
        "tf.tensordot(X,tf.transpose(y),axes = 1)"
      ],
      "metadata": {
        "colab": {
          "base_uri": "https://localhost:8080/"
        },
        "id": "2Eadz6mbY3YU",
        "outputId": "232778e8-f126-4fc3-99dc-6529db1cbf36"
      },
      "execution_count": 54,
      "outputs": [
        {
          "output_type": "execute_result",
          "data": {
            "text/plain": [
              "<tf.Tensor: shape=(3, 3), dtype=int32, numpy=\n",
              "array([[19, 26, 14],\n",
              "       [45, 60, 32],\n",
              "       [71, 94, 50]], dtype=int32)>"
            ]
          },
          "metadata": {},
          "execution_count": 54
        }
      ]
    },
    {
      "cell_type": "markdown",
      "source": [
        "\n",
        "\n",
        "---\n",
        "\n",
        "\n",
        "\n",
        "---\n",
        "\n",
        "\n",
        "Generally,when performing matrix multiplication on two tensors and one of them is not fit for the multiplication,you are gonna use transpose (rather than reshape) to get satisfy the rules of Matrix Multiplication."
      ],
      "metadata": {
        "id": "Q58lQTsiBV8o"
      }
    },
    {
      "cell_type": "markdown",
      "source": [
        "### Changing datantype of tensor"
      ],
      "metadata": {
        "id": "fIirxHgbCRVp"
      }
    },
    {
      "cell_type": "code",
      "source": [
        "tf.__version__"
      ],
      "metadata": {
        "id": "KImDz85hY3Vd",
        "colab": {
          "base_uri": "https://localhost:8080/",
          "height": 35
        },
        "outputId": "66eef55d-ef63-4fc3-a172-91798cc7bd63"
      },
      "execution_count": 55,
      "outputs": [
        {
          "output_type": "execute_result",
          "data": {
            "text/plain": [
              "'2.12.0'"
            ],
            "application/vnd.google.colaboratory.intrinsic+json": {
              "type": "string"
            }
          },
          "metadata": {},
          "execution_count": 55
        }
      ]
    },
    {
      "cell_type": "code",
      "source": [
        "#create a tensor with type of float\n",
        "A = tf.constant([1.5,1,9])\n",
        "A.dtype"
      ],
      "metadata": {
        "id": "zbkzSMn5Y3S5",
        "colab": {
          "base_uri": "https://localhost:8080/"
        },
        "outputId": "a83bdefa-cb60-42f6-ccaa-b6cac69c5e4a"
      },
      "execution_count": 56,
      "outputs": [
        {
          "output_type": "execute_result",
          "data": {
            "text/plain": [
              "tf.float32"
            ]
          },
          "metadata": {},
          "execution_count": 56
        }
      ]
    },
    {
      "cell_type": "code",
      "source": [
        "B = tf.constant([[1,2,3],[1,2,5]])\n",
        "B.dtype"
      ],
      "metadata": {
        "id": "Ljoc4egLY3P_",
        "colab": {
          "base_uri": "https://localhost:8080/"
        },
        "outputId": "2fc30756-8aa0-4fae-fe32-6c9263ec1760"
      },
      "execution_count": 57,
      "outputs": [
        {
          "output_type": "execute_result",
          "data": {
            "text/plain": [
              "tf.int32"
            ]
          },
          "metadata": {},
          "execution_count": 57
        }
      ]
    },
    {
      "cell_type": "code",
      "source": [
        "#change dtype from float32 to float16(reduce precision)\n",
        "C = tf.cast(A,dtype = tf.float16)\n",
        "C.dtype"
      ],
      "metadata": {
        "id": "vhpFvRS1Y3NI",
        "colab": {
          "base_uri": "https://localhost:8080/"
        },
        "outputId": "9d29ff1b-eb75-419c-8524-2dd2d8f21149"
      },
      "execution_count": 58,
      "outputs": [
        {
          "output_type": "execute_result",
          "data": {
            "text/plain": [
              "tf.float16"
            ]
          },
          "metadata": {},
          "execution_count": 58
        }
      ]
    },
    {
      "cell_type": "code",
      "source": [
        "#change from int32 to float32\n",
        "E = tf.cast(B,dtype = tf.float32)\n",
        "B.dtype,E.dtype"
      ],
      "metadata": {
        "id": "pKTbL8VtY3E0",
        "colab": {
          "base_uri": "https://localhost:8080/"
        },
        "outputId": "49cd1cd3-e63d-4b0e-869e-262b05d310f6"
      },
      "execution_count": 59,
      "outputs": [
        {
          "output_type": "execute_result",
          "data": {
            "text/plain": [
              "(tf.int32, tf.float32)"
            ]
          },
          "metadata": {},
          "execution_count": 59
        }
      ]
    },
    {
      "cell_type": "markdown",
      "source": [
        "### Aggretating tensors"
      ],
      "metadata": {
        "id": "ZaE8ALBNep7B"
      }
    },
    {
      "cell_type": "code",
      "source": [
        "#create new tensor\n",
        "tensor_3 = tf.constant([-2,-3,-9.5])"
      ],
      "metadata": {
        "id": "oI8pNBd5Y3B7"
      },
      "execution_count": 61,
      "outputs": []
    },
    {
      "cell_type": "code",
      "source": [
        "#get the absolute values\n",
        "tf.abs(tensor_3)"
      ],
      "metadata": {
        "id": "j9F5yFKDY2_U",
        "colab": {
          "base_uri": "https://localhost:8080/"
        },
        "outputId": "30401402-843f-4333-b7fc-2f08dcfc6372"
      },
      "execution_count": 62,
      "outputs": [
        {
          "output_type": "execute_result",
          "data": {
            "text/plain": [
              "<tf.Tensor: shape=(3,), dtype=float32, numpy=array([2. , 3. , 9.5], dtype=float32)>"
            ]
          },
          "metadata": {},
          "execution_count": 62
        }
      ]
    },
    {
      "cell_type": "code",
      "source": [
        "tf.argmin(tensor_3,axis=0)"
      ],
      "metadata": {
        "id": "erB7ymVbY28M",
        "colab": {
          "base_uri": "https://localhost:8080/"
        },
        "outputId": "7bcb99de-acaf-4fab-e371-d04e90cd42b6"
      },
      "execution_count": 68,
      "outputs": [
        {
          "output_type": "execute_result",
          "data": {
            "text/plain": [
              "<tf.Tensor: shape=(), dtype=int64, numpy=2>"
            ]
          },
          "metadata": {},
          "execution_count": 68
        }
      ]
    },
    {
      "cell_type": "code",
      "source": [
        "tensor_3"
      ],
      "metadata": {
        "id": "jxVkppEmY25l",
        "colab": {
          "base_uri": "https://localhost:8080/"
        },
        "outputId": "d5552041-aca6-466f-d222-23c9bc28bef9"
      },
      "execution_count": 69,
      "outputs": [
        {
          "output_type": "execute_result",
          "data": {
            "text/plain": [
              "<tf.Tensor: shape=(3,), dtype=float32, numpy=array([-2. , -3. , -9.5], dtype=float32)>"
            ]
          },
          "metadata": {},
          "execution_count": 69
        }
      ]
    },
    {
      "cell_type": "markdown",
      "source": [
        "### Let's go with the different versions of aggregation functions:\n",
        "* Get the max of tensor\n",
        "* Get the min of tensor\n",
        "* Get the mean of tensor\n",
        "* Get the sum of tensor\n"
      ],
      "metadata": {
        "id": "kiUs_1UNvask"
      }
    },
    {
      "cell_type": "code",
      "source": [
        "#create new tensor:\n",
        "tensor_4 = tf.constant([[1,2,3],[-1,-2,-3]])\n",
        "#different versions of aggregations\n",
        "print(f\"The Maximum of Tensor: {tf.reduce_max(tensor_4)}\")\n",
        "print(f\"The Minimum of Tensor: {tf.reduce_min(tensor_4)}\")\n",
        "print(f\"The Sum of Tensor: {tf.add_n(tensor_4)}\")\n",
        "print(f\"The Mean of Tensor: {tf.math.reduce_mean(tensor_4)}\")"
      ],
      "metadata": {
        "id": "RRdsw1_IY22t",
        "colab": {
          "base_uri": "https://localhost:8080/"
        },
        "outputId": "b7c25bb4-fae5-4907-bde0-af3e42b3df50"
      },
      "execution_count": 80,
      "outputs": [
        {
          "output_type": "stream",
          "name": "stdout",
          "text": [
            "The Maximum of Tensor: 3\n",
            "The Minimum of Tensor: -3\n",
            "The Sum of Tensor: [0 0 0]\n",
            "The Mean of Tensor: 0\n"
          ]
        }
      ]
    },
    {
      "cell_type": "markdown",
      "source": [
        "💡 **Exercise**: Find the Variance and Standart Deviation of `tensor_4` tensor using Tensorflow methods."
      ],
      "metadata": {
        "id": "fDF5BZY0xxXJ"
      }
    },
    {
      "cell_type": "markdown",
      "source": [
        "### Getting Standart Deviation and Variance"
      ],
      "metadata": {
        "id": "PIc9VD_jztXW"
      }
    },
    {
      "cell_type": "code",
      "source": [
        "#print tensor_4\n",
        "print(tensor_4)\n",
        "#let's change the type of tensor\n",
        "tensor_4 = tf.cast(tensor_4,dtype = tf.float32) #our tensor must be real or complex after gettting variance and std\n",
        "print('\\n')\n",
        "#get the variance and standart deviation\n",
        "print(f\"Variance of our tensor: {tf.math.reduce_variance(tensor_4)}\")\n",
        "print(f\"Standart Deviation of our tensor: {tf.math.reduce_std(tensor_4)}\")"
      ],
      "metadata": {
        "colab": {
          "base_uri": "https://localhost:8080/"
        },
        "id": "P2_IWoZIxvjc",
        "outputId": "cb730523-cca1-46ff-8593-683ad5e60f53"
      },
      "execution_count": 85,
      "outputs": [
        {
          "output_type": "stream",
          "name": "stdout",
          "text": [
            "tf.Tensor(\n",
            "[[ 1.  2.  3.]\n",
            " [-1. -2. -3.]], shape=(2, 3), dtype=float32)\n",
            "\n",
            "\n",
            "Variance of our tensor: 4.666666507720947\n",
            "Standart Deviation of our tensor: 2.1602468490600586\n"
          ]
        }
      ]
    },
    {
      "cell_type": "code",
      "source": [
        "#another example to get variance and standart deviation\n",
        "import tensorflow_probability as tfp\n",
        "#get the variance and standart deviation\n",
        "print(f\"Variance of our tensor: {tfp.stats.variance(tensor_4)}\")\n",
        "print(f\"Standart Deviation of our tensor: {tfp.stats.stddev(tensor_4)}\")"
      ],
      "metadata": {
        "id": "ANkEVvdfY20H",
        "colab": {
          "base_uri": "https://localhost:8080/"
        },
        "outputId": "f3b810ca-9a23-4d72-dc4d-795a38b699ca"
      },
      "execution_count": 88,
      "outputs": [
        {
          "output_type": "stream",
          "name": "stdout",
          "text": [
            "Variance of our tensor: [1. 4. 9.]\n",
            "Standart Deviation of our tensor: [1. 2. 3.]\n"
          ]
        }
      ]
    },
    {
      "cell_type": "markdown",
      "source": [
        "### Find the positional maximum and minimum"
      ],
      "metadata": {
        "id": "eUw7Lcc401RQ"
      }
    },
    {
      "cell_type": "code",
      "source": [
        "#create new tensor\n",
        "tf.random.set_seed(42)\n",
        "tensor_5 = tf.random.normal(shape = [50])\n",
        "tensor_5"
      ],
      "metadata": {
        "id": "YVLvefp0Y2w_",
        "colab": {
          "base_uri": "https://localhost:8080/"
        },
        "outputId": "4f1dc8df-b822-406e-adba-3c04ffa5ff1c"
      },
      "execution_count": 91,
      "outputs": [
        {
          "output_type": "execute_result",
          "data": {
            "text/plain": [
              "<tf.Tensor: shape=(50,), dtype=float32, numpy=\n",
              "array([ 0.3274685 , -0.8426258 ,  0.3194337 , -1.4075519 , -2.3880599 ,\n",
              "       -1.0392479 , -0.5573232 ,  0.539707  ,  1.6994323 ,  0.28893656,\n",
              "       -1.5066116 , -0.2645474 , -0.59722406, -1.9171132 , -0.62044144,\n",
              "        0.8504023 , -0.40604794, -3.0258412 ,  0.9058464 ,  0.29855987,\n",
              "       -0.22561555, -0.7616443 , -1.8917141 , -0.93847126,  0.77852213,\n",
              "       -0.47338897,  0.97772694,  0.24694404,  0.20573747, -0.5256233 ,\n",
              "        0.32410017,  0.02545409, -0.10638497, -0.6369475 ,  1.1603122 ,\n",
              "        0.2507359 , -0.41728503,  0.4012578 , -1.4145443 , -0.5931857 ,\n",
              "       -1.6617213 ,  0.33567193,  0.10815629,  0.23479682, -0.56668764,\n",
              "       -0.35819843,  0.88698614,  0.52744764,  0.70402247, -0.33421248],\n",
              "      dtype=float32)>"
            ]
          },
          "metadata": {},
          "execution_count": 91
        }
      ]
    },
    {
      "cell_type": "code",
      "source": [
        "#find the max value by index\n",
        "tf.argmax(tensor_5)"
      ],
      "metadata": {
        "id": "AIjDiGgbY2uY",
        "colab": {
          "base_uri": "https://localhost:8080/"
        },
        "outputId": "9c167afb-11fe-4fa0-83a6-7db9907e4726"
      },
      "execution_count": 94,
      "outputs": [
        {
          "output_type": "execute_result",
          "data": {
            "text/plain": [
              "<tf.Tensor: shape=(), dtype=int64, numpy=8>"
            ]
          },
          "metadata": {},
          "execution_count": 94
        }
      ]
    },
    {
      "cell_type": "code",
      "source": [
        "#find the maximum value of tensor with argmax\n",
        "tensor_5[tf.argmax(tensor_5)]"
      ],
      "metadata": {
        "id": "yyEb0BlOY2ri",
        "colab": {
          "base_uri": "https://localhost:8080/"
        },
        "outputId": "2c5193a1-82bc-46aa-c22a-097c687c2afa"
      },
      "execution_count": 95,
      "outputs": [
        {
          "output_type": "execute_result",
          "data": {
            "text/plain": [
              "<tf.Tensor: shape=(), dtype=float32, numpy=1.6994323>"
            ]
          },
          "metadata": {},
          "execution_count": 95
        }
      ]
    },
    {
      "cell_type": "code",
      "source": [
        "#with reduce_max()\n",
        "print(tf.reduce_max(tensor_5))\n",
        "#check for the equality for the safety\n",
        "tf.reduce_max(tensor_5) == tensor_5[tf.argmax(tensor_5)]"
      ],
      "metadata": {
        "id": "U-RYrO6_Y2o9",
        "colab": {
          "base_uri": "https://localhost:8080/"
        },
        "outputId": "dec4bdf4-1799-4709-f7e4-381977030785"
      },
      "execution_count": 98,
      "outputs": [
        {
          "output_type": "execute_result",
          "data": {
            "text/plain": [
              "<tf.Tensor: shape=(), dtype=bool, numpy=True>"
            ]
          },
          "metadata": {},
          "execution_count": 98
        }
      ]
    },
    {
      "cell_type": "code",
      "source": [
        "#find the position of min\n",
        "tf.argmin(tensor_5)"
      ],
      "metadata": {
        "id": "2zalIksOY2fU",
        "colab": {
          "base_uri": "https://localhost:8080/"
        },
        "outputId": "fc1c819e-42a9-4d48-c0ea-d553e6b993cd"
      },
      "execution_count": 99,
      "outputs": [
        {
          "output_type": "execute_result",
          "data": {
            "text/plain": [
              "<tf.Tensor: shape=(), dtype=int64, numpy=17>"
            ]
          },
          "metadata": {},
          "execution_count": 99
        }
      ]
    },
    {
      "cell_type": "code",
      "source": [
        "#find the min value by index\n",
        "tensor_5[tf.argmin(tensor_5)]"
      ],
      "metadata": {
        "colab": {
          "base_uri": "https://localhost:8080/"
        },
        "id": "omQNJeEu2ghQ",
        "outputId": "68e914cb-5149-4440-8fdf-a2c8fb893e3d"
      },
      "execution_count": 100,
      "outputs": [
        {
          "output_type": "execute_result",
          "data": {
            "text/plain": [
              "<tf.Tensor: shape=(), dtype=float32, numpy=-3.0258412>"
            ]
          },
          "metadata": {},
          "execution_count": 100
        }
      ]
    },
    {
      "cell_type": "code",
      "source": [
        "s"
      ],
      "metadata": {
        "id": "MJRxjHjE2oHu"
      },
      "execution_count": null,
      "outputs": []
    }
  ]
}
