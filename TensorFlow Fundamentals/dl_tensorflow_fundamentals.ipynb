{
  "nbformat": 4,
  "nbformat_minor": 0,
  "metadata": {
    "colab": {
      "provenance": [],
      "gpuType": "T4",
      "toc_visible": true,
      "authorship_tag": "ABX9TyP9vm6bOHONq10sA8L/ITDb",
      "include_colab_link": true
    },
    "kernelspec": {
      "name": "python3",
      "display_name": "Python 3"
    },
    "language_info": {
      "name": "python"
    },
    "accelerator": "GPU"
  },
  "cells": [
    {
      "cell_type": "markdown",
      "metadata": {
        "id": "view-in-github",
        "colab_type": "text"
      },
      "source": [
        "<a href=\"https://colab.research.google.com/github/hasanzeynal/Tensorflow-Developer-Certificate/blob/main/TensorFlow%20Fundamentals/dl_tensorflow_fundamentals.ipynb\" target=\"_parent\"><img src=\"https://colab.research.google.com/assets/colab-badge.svg\" alt=\"Open In Colab\"/></a>"
      ]
    },
    {
      "cell_type": "markdown",
      "source": [
        "# We are gonna cover some fundamentals of using tensor in Tensorflow.\n",
        "More specifically:\n",
        "* Introduction to tensors\n",
        "* Getting information from tensors\n",
        "* Manipulating tensors\n",
        "* Tensors and Numpy\n",
        "* Using @tf.function (a way to speed up your regular python function)\n",
        "* Using GPU's in tensorflow(or TPU's)\n",
        "* Exercises"
      ],
      "metadata": {
        "id": "KNCsirEMvo7q"
      }
    },
    {
      "cell_type": "markdown",
      "source": [
        "## Introduction to Tensors"
      ],
      "metadata": {
        "id": "sdQgd7RExQ41"
      }
    },
    {
      "cell_type": "code",
      "source": [
        "#import TensorFlow\n",
        "import tensorflow as tf\n",
        "print(tf.__version__)"
      ],
      "metadata": {
        "colab": {
          "base_uri": "https://localhost:8080/"
        },
        "id": "2sNT0zY0rYof",
        "outputId": "04f0699a-3b94-4e6c-ee20-ddeba217653b"
      },
      "execution_count": 1,
      "outputs": [
        {
          "output_type": "stream",
          "name": "stdout",
          "text": [
            "2.12.0\n"
          ]
        }
      ]
    },
    {
      "cell_type": "code",
      "source": [
        "#create tensors with tf.constant\n",
        "scalar = tf.constant(11)\n",
        "scalar"
      ],
      "metadata": {
        "colab": {
          "base_uri": "https://localhost:8080/"
        },
        "id": "rTH76bpqrYrD",
        "outputId": "ada9b5b6-1c3f-409c-a4a7-58791ad1c7c4"
      },
      "execution_count": 2,
      "outputs": [
        {
          "output_type": "execute_result",
          "data": {
            "text/plain": [
              "<tf.Tensor: shape=(), dtype=int32, numpy=11>"
            ]
          },
          "metadata": {},
          "execution_count": 2
        }
      ]
    },
    {
      "cell_type": "code",
      "source": [
        "#check the type of tensor\n",
        "scalar.dtype"
      ],
      "metadata": {
        "colab": {
          "base_uri": "https://localhost:8080/"
        },
        "id": "Jp1vZBEorYt6",
        "outputId": "baa6ae44-a33f-484e-b687-a4bdee9bf49f"
      },
      "execution_count": 3,
      "outputs": [
        {
          "output_type": "execute_result",
          "data": {
            "text/plain": [
              "tf.int32"
            ]
          },
          "metadata": {},
          "execution_count": 3
        }
      ]
    },
    {
      "cell_type": "code",
      "source": [
        "#check the number fo dimentions of tensor\n",
        "scalar.ndim"
      ],
      "metadata": {
        "colab": {
          "base_uri": "https://localhost:8080/"
        },
        "id": "SC_gerGYrYzZ",
        "outputId": "12f15d7d-26f1-4536-e025-b5b6aa956171"
      },
      "execution_count": 4,
      "outputs": [
        {
          "output_type": "execute_result",
          "data": {
            "text/plain": [
              "0"
            ]
          },
          "metadata": {},
          "execution_count": 4
        }
      ]
    },
    {
      "cell_type": "code",
      "source": [
        "#creating vector\n",
        "vector = tf.constant([10,20,30])\n",
        "vector"
      ],
      "metadata": {
        "colab": {
          "base_uri": "https://localhost:8080/"
        },
        "id": "YuFuY1EkrY2Q",
        "outputId": "fec91136-9ccd-43c2-893c-a47c21cf1285"
      },
      "execution_count": 5,
      "outputs": [
        {
          "output_type": "execute_result",
          "data": {
            "text/plain": [
              "<tf.Tensor: shape=(3,), dtype=int32, numpy=array([10, 20, 30], dtype=int32)>"
            ]
          },
          "metadata": {},
          "execution_count": 5
        }
      ]
    },
    {
      "cell_type": "code",
      "source": [
        "#check the number of dimension of vector\n",
        "vector.ndim"
      ],
      "metadata": {
        "colab": {
          "base_uri": "https://localhost:8080/"
        },
        "id": "YpTj_5e5rY42",
        "outputId": "2da7e114-0bcb-4d11-c976-e335a6a3779d"
      },
      "execution_count": 6,
      "outputs": [
        {
          "output_type": "execute_result",
          "data": {
            "text/plain": [
              "1"
            ]
          },
          "metadata": {},
          "execution_count": 6
        }
      ]
    },
    {
      "cell_type": "code",
      "source": [
        "#create a matrix(has mor than 1 dimension)\n",
        "matrix = tf.constant([[11,8],\n",
        "                     [8,11]])\n",
        "matrix"
      ],
      "metadata": {
        "colab": {
          "base_uri": "https://localhost:8080/"
        },
        "id": "Nd8O8-_5rY7_",
        "outputId": "56af9430-8589-40b8-f4c1-7f75caf62457"
      },
      "execution_count": 7,
      "outputs": [
        {
          "output_type": "execute_result",
          "data": {
            "text/plain": [
              "<tf.Tensor: shape=(2, 2), dtype=int32, numpy=\n",
              "array([[11,  8],\n",
              "       [ 8, 11]], dtype=int32)>"
            ]
          },
          "metadata": {},
          "execution_count": 7
        }
      ]
    },
    {
      "cell_type": "code",
      "source": [
        "#check for the number of dimensions\n",
        "matrix.ndim"
      ],
      "metadata": {
        "colab": {
          "base_uri": "https://localhost:8080/"
        },
        "id": "yri4N2EkrY-o",
        "outputId": "8882793e-bb7f-4f79-c556-b2045f20b144"
      },
      "execution_count": 8,
      "outputs": [
        {
          "output_type": "execute_result",
          "data": {
            "text/plain": [
              "2"
            ]
          },
          "metadata": {},
          "execution_count": 8
        }
      ]
    },
    {
      "cell_type": "code",
      "source": [
        "#create another matrix\n",
        "another_matrix = tf.constant([[1, 2, 3],\n",
        "                             [1, 2, 3],\n",
        "                             [1, 2, 3]],dtype = tf.float16) #specify dtype of tensor\n",
        "another_matrix"
      ],
      "metadata": {
        "colab": {
          "base_uri": "https://localhost:8080/"
        },
        "id": "IlrMFzBUIy8O",
        "outputId": "841dccc5-4394-45a2-8f84-9a3af9bf1304"
      },
      "execution_count": 9,
      "outputs": [
        {
          "output_type": "execute_result",
          "data": {
            "text/plain": [
              "<tf.Tensor: shape=(3, 3), dtype=float16, numpy=\n",
              "array([[1., 2., 3.],\n",
              "       [1., 2., 3.],\n",
              "       [1., 2., 3.]], dtype=float16)>"
            ]
          },
          "metadata": {},
          "execution_count": 9
        }
      ]
    },
    {
      "cell_type": "code",
      "source": [
        "#creating 3 dimensinal matrix\n",
        "threed_dimen = tf.constant([[[11,8],[1,2]],\n",
        "                            [[8,11],[1,2]],\n",
        "                            [[11,2],[1,2]]])\n",
        "threed_dimen"
      ],
      "metadata": {
        "colab": {
          "base_uri": "https://localhost:8080/"
        },
        "id": "M4gbumFSGWdG",
        "outputId": "7badfb19-e027-4b9c-de54-66e0f367e52c"
      },
      "execution_count": 10,
      "outputs": [
        {
          "output_type": "execute_result",
          "data": {
            "text/plain": [
              "<tf.Tensor: shape=(3, 2, 2), dtype=int32, numpy=\n",
              "array([[[11,  8],\n",
              "        [ 1,  2]],\n",
              "\n",
              "       [[ 8, 11],\n",
              "        [ 1,  2]],\n",
              "\n",
              "       [[11,  2],\n",
              "        [ 1,  2]]], dtype=int32)>"
            ]
          },
          "metadata": {},
          "execution_count": 10
        }
      ]
    },
    {
      "cell_type": "code",
      "source": [
        "#check for the number of dimentions\n",
        "threed_dimen.ndim"
      ],
      "metadata": {
        "colab": {
          "base_uri": "https://localhost:8080/"
        },
        "id": "L4EAGFr0Gg6E",
        "outputId": "8a0a4028-fc99-47ec-c57c-e2db648d68bb"
      },
      "execution_count": 11,
      "outputs": [
        {
          "output_type": "execute_result",
          "data": {
            "text/plain": [
              "3"
            ]
          },
          "metadata": {},
          "execution_count": 11
        }
      ]
    },
    {
      "cell_type": "code",
      "source": [
        "#creat 4 dimensinal matrix\n",
        "four_dimen = tf.constant([[[[1,2,3],[1,2,3]],\n",
        "                          [[1,2,3],[1,2,3]]],\n",
        "                          [[[1,2,3],[1,2,3]],\n",
        "                          [[1,2,3],[1,2,3]]]])\n",
        "four_dimen"
      ],
      "metadata": {
        "colab": {
          "base_uri": "https://localhost:8080/"
        },
        "id": "kX88Rw_bHPe4",
        "outputId": "0bb064f8-6c15-4911-f27e-c3af8e712ea0"
      },
      "execution_count": 12,
      "outputs": [
        {
          "output_type": "execute_result",
          "data": {
            "text/plain": [
              "<tf.Tensor: shape=(2, 2, 2, 3), dtype=int32, numpy=\n",
              "array([[[[1, 2, 3],\n",
              "         [1, 2, 3]],\n",
              "\n",
              "        [[1, 2, 3],\n",
              "         [1, 2, 3]]],\n",
              "\n",
              "\n",
              "       [[[1, 2, 3],\n",
              "         [1, 2, 3]],\n",
              "\n",
              "        [[1, 2, 3],\n",
              "         [1, 2, 3]]]], dtype=int32)>"
            ]
          },
          "metadata": {},
          "execution_count": 12
        }
      ]
    },
    {
      "cell_type": "code",
      "source": [
        "four_dimen.ndim"
      ],
      "metadata": {
        "colab": {
          "base_uri": "https://localhost:8080/"
        },
        "id": "1ey5ACz1Htwl",
        "outputId": "618fb7cc-061c-49e3-dc51-5abfd239a989"
      },
      "execution_count": 13,
      "outputs": [
        {
          "output_type": "execute_result",
          "data": {
            "text/plain": [
              "4"
            ]
          },
          "metadata": {},
          "execution_count": 13
        }
      ]
    },
    {
      "cell_type": "markdown",
      "source": [
        "### What we have learned so far:\n",
        "* Scalar: a single number\n",
        "* Vector: a number with direction\n",
        "* Matrix: 2 dimensional array\n",
        "* Tensor: n dimensional array(n can be any number, o dimensinal is a scalar, 1 dimensional is a vector)"
      ],
      "metadata": {
        "id": "DBDEu1LKLHZf"
      }
    },
    {
      "cell_type": "markdown",
      "source": [
        "### Creating Tensor with tf.Variable()"
      ],
      "metadata": {
        "id": "xcAPvQWcMihy"
      }
    },
    {
      "cell_type": "code",
      "source": [
        "#create same tensor with tf.Variable() and tf.constant()\n",
        "changeable_tensor = tf.Variable([1,2,3,4])\n",
        "unchangeable_tensor = tf.constant([1,2,3,4])\n",
        "changeable_tensor,unchangeable_tensor"
      ],
      "metadata": {
        "colab": {
          "base_uri": "https://localhost:8080/"
        },
        "id": "mbqFlCTnMX-1",
        "outputId": "5ecb83fb-e159-48c0-d40a-0cab288b6601"
      },
      "execution_count": 14,
      "outputs": [
        {
          "output_type": "execute_result",
          "data": {
            "text/plain": [
              "(<tf.Variable 'Variable:0' shape=(4,) dtype=int32, numpy=array([1, 2, 3, 4], dtype=int32)>,\n",
              " <tf.Tensor: shape=(4,), dtype=int32, numpy=array([1, 2, 3, 4], dtype=int32)>)"
            ]
          },
          "metadata": {},
          "execution_count": 14
        }
      ]
    },
    {
      "cell_type": "code",
      "source": [
        "#Let's try to change changeable_tensor\n",
        "changeable_tensor[1] = 4\n",
        "changeable_tensor"
      ],
      "metadata": {
        "colab": {
          "base_uri": "https://localhost:8080/",
          "height": 204
        },
        "id": "-9XI5cwaMYTw",
        "outputId": "305b8d35-e7ce-493d-adc9-1fc6087b4d93"
      },
      "execution_count": 15,
      "outputs": [
        {
          "output_type": "error",
          "ename": "TypeError",
          "evalue": "ignored",
          "traceback": [
            "\u001b[0;31m---------------------------------------------------------------------------\u001b[0m",
            "\u001b[0;31mTypeError\u001b[0m                                 Traceback (most recent call last)",
            "\u001b[0;32m<ipython-input-15-015b4c9d5078>\u001b[0m in \u001b[0;36m<cell line: 2>\u001b[0;34m()\u001b[0m\n\u001b[1;32m      1\u001b[0m \u001b[0;31m#Let's try to change changeable_tensor\u001b[0m\u001b[0;34m\u001b[0m\u001b[0;34m\u001b[0m\u001b[0m\n\u001b[0;32m----> 2\u001b[0;31m \u001b[0mchangeable_tensor\u001b[0m\u001b[0;34m[\u001b[0m\u001b[0;36m1\u001b[0m\u001b[0;34m]\u001b[0m \u001b[0;34m=\u001b[0m \u001b[0;36m4\u001b[0m\u001b[0;34m\u001b[0m\u001b[0;34m\u001b[0m\u001b[0m\n\u001b[0m\u001b[1;32m      3\u001b[0m \u001b[0mchangeable_tensor\u001b[0m\u001b[0;34m\u001b[0m\u001b[0;34m\u001b[0m\u001b[0m\n",
            "\u001b[0;31mTypeError\u001b[0m: 'ResourceVariable' object does not support item assignment"
          ]
        }
      ]
    },
    {
      "cell_type": "code",
      "source": [
        "#What about .assign()?\n",
        "changeable_tensor[3].assign(7)\n",
        "changeable_tensor\n",
        "#constant doesn't have .assign() function"
      ],
      "metadata": {
        "id": "CTlz8yMbMYdY"
      },
      "execution_count": null,
      "outputs": []
    },
    {
      "cell_type": "markdown",
      "source": [
        "### Creating random tensors"
      ],
      "metadata": {
        "id": "FtZHzPKdUbE-"
      }
    },
    {
      "cell_type": "code",
      "source": [
        "#create 2 tensors\n",
        "tensor_1 = tf.random.Generator.from_seed(45) # set seed for reproducibility\n",
        "tensor_1 = tensor_1.uniform(shape=(3,2))\n",
        "tensor_2 = tf.random.Generator.from_seed(45) \n",
        "tensor_2 = tensor_2.uniform(shape=(3,2))\n",
        "tensor_1, tensor_2, tensor_1 == tensor_2"
      ],
      "metadata": {
        "colab": {
          "base_uri": "https://localhost:8080/"
        },
        "id": "r8Wp8d0hMYwe",
        "outputId": "94fdf7aa-33fb-444c-982f-9fc877848edd"
      },
      "execution_count": 16,
      "outputs": [
        {
          "output_type": "execute_result",
          "data": {
            "text/plain": [
              "(<tf.Tensor: shape=(3, 2), dtype=float32, numpy=\n",
              " array([[0.86540747, 0.8862978 ],\n",
              "        [0.27795732, 0.8857763 ],\n",
              "        [0.2179842 , 0.29115117]], dtype=float32)>,\n",
              " <tf.Tensor: shape=(3, 2), dtype=float32, numpy=\n",
              " array([[0.86540747, 0.8862978 ],\n",
              "        [0.27795732, 0.8857763 ],\n",
              "        [0.2179842 , 0.29115117]], dtype=float32)>,\n",
              " <tf.Tensor: shape=(3, 2), dtype=bool, numpy=\n",
              " array([[ True,  True],\n",
              "        [ True,  True],\n",
              "        [ True,  True]])>)"
            ]
          },
          "metadata": {},
          "execution_count": 16
        }
      ]
    },
    {
      "cell_type": "markdown",
      "source": [
        "### Shuffle the order of elements in a tensor"
      ],
      "metadata": {
        "id": "MbeTAS_DaWnC"
      }
    },
    {
      "cell_type": "code",
      "source": [
        "#Let's use tf.random.shuffle() to shuffle our tensor\n",
        "not_shuffled = tf.constant([1,2,3,4,5])\n",
        "shuffled = tf.random.shuffle(not_shuffled)\n",
        "shuffled"
      ],
      "metadata": {
        "colab": {
          "base_uri": "https://localhost:8080/"
        },
        "id": "zVg9hIPBMZDz",
        "outputId": "c92b520c-bc42-4155-c9a7-2bf0d736302e"
      },
      "execution_count": 17,
      "outputs": [
        {
          "output_type": "execute_result",
          "data": {
            "text/plain": [
              "<tf.Tensor: shape=(5,), dtype=int32, numpy=array([2, 3, 5, 1, 4], dtype=int32)>"
            ]
          },
          "metadata": {},
          "execution_count": 17
        }
      ]
    },
    {
      "cell_type": "code",
      "source": [
        "#Let's look at the 2 dimensional tensor\n",
        "not_shuffled = tf.constant([[1,2,3,4,5],[6,7,8,9,10]])\n",
        "shuffled = tf.random.shuffle(not_shuffled)\n",
        "not_shuffled,shuffled"
      ],
      "metadata": {
        "colab": {
          "base_uri": "https://localhost:8080/"
        },
        "id": "KR9BQ00BMZKk",
        "outputId": "548aece0-d08e-49af-dcfa-89353ef9e3bc"
      },
      "execution_count": 18,
      "outputs": [
        {
          "output_type": "execute_result",
          "data": {
            "text/plain": [
              "(<tf.Tensor: shape=(2, 5), dtype=int32, numpy=\n",
              " array([[ 1,  2,  3,  4,  5],\n",
              "        [ 6,  7,  8,  9, 10]], dtype=int32)>,\n",
              " <tf.Tensor: shape=(2, 5), dtype=int32, numpy=\n",
              " array([[ 1,  2,  3,  4,  5],\n",
              "        [ 6,  7,  8,  9, 10]], dtype=int32)>)"
            ]
          },
          "metadata": {},
          "execution_count": 18
        }
      ]
    },
    {
      "cell_type": "code",
      "source": [
        "tf.random.set_seed(42) # global level random seed\n",
        "tf.random.shuffle(not_shuffled,seed = 42) # operation level random seed\n"
      ],
      "metadata": {
        "colab": {
          "base_uri": "https://localhost:8080/"
        },
        "id": "u8r2e9dRMZRl",
        "outputId": "299188f7-5df4-474f-a685-6f93481cb464"
      },
      "execution_count": 19,
      "outputs": [
        {
          "output_type": "execute_result",
          "data": {
            "text/plain": [
              "<tf.Tensor: shape=(2, 5), dtype=int32, numpy=\n",
              "array([[ 6,  7,  8,  9, 10],\n",
              "       [ 1,  2,  3,  4,  5]], dtype=int32)>"
            ]
          },
          "metadata": {},
          "execution_count": 19
        }
      ]
    },
    {
      "cell_type": "markdown",
      "source": [
        "### Other Ways to Create Tensors"
      ],
      "metadata": {
        "id": "XMxcGK9OeV7T"
      }
    },
    {
      "cell_type": "code",
      "source": [
        "#create tensor of all ones\n",
        "tf.ones(shape = (3,6))"
      ],
      "metadata": {
        "colab": {
          "base_uri": "https://localhost:8080/"
        },
        "id": "d9-jsu2_MZZC",
        "outputId": "e39489cc-2c90-46cd-c2e5-563e38937ef4"
      },
      "execution_count": 20,
      "outputs": [
        {
          "output_type": "execute_result",
          "data": {
            "text/plain": [
              "<tf.Tensor: shape=(3, 6), dtype=float32, numpy=\n",
              "array([[1., 1., 1., 1., 1., 1.],\n",
              "       [1., 1., 1., 1., 1., 1.],\n",
              "       [1., 1., 1., 1., 1., 1.]], dtype=float32)>"
            ]
          },
          "metadata": {},
          "execution_count": 20
        }
      ]
    },
    {
      "cell_type": "code",
      "source": [
        "#create tensor of all zeroes\n",
        "tf.zeros(shape = (4,5))"
      ],
      "metadata": {
        "colab": {
          "base_uri": "https://localhost:8080/"
        },
        "id": "R7zsP8WUMZgu",
        "outputId": "59c83055-da1d-4de2-b333-2a9c3a82cefa"
      },
      "execution_count": 21,
      "outputs": [
        {
          "output_type": "execute_result",
          "data": {
            "text/plain": [
              "<tf.Tensor: shape=(4, 5), dtype=float32, numpy=\n",
              "array([[0., 0., 0., 0., 0.],\n",
              "       [0., 0., 0., 0., 0.],\n",
              "       [0., 0., 0., 0., 0.],\n",
              "       [0., 0., 0., 0., 0.]], dtype=float32)>"
            ]
          },
          "metadata": {},
          "execution_count": 21
        }
      ]
    },
    {
      "cell_type": "markdown",
      "source": [
        "### Turn NumPy arrays into Tensors\n",
        "The main difference between NumPy arrays and TensorFlow Tensors is tensors can run on the GPU(way much faster for numerical computing)"
      ],
      "metadata": {
        "id": "Uq3TgNV-gwfs"
      }
    },
    {
      "cell_type": "code",
      "source": [
        "#creating numpy array\n",
        "import numpy as np\n",
        "numpy_array = np.arange(1,25,dtype = np.int32) #create NumPy array between 1 and 25\n",
        "numpy_array"
      ],
      "metadata": {
        "colab": {
          "base_uri": "https://localhost:8080/"
        },
        "id": "sSWZdQzfMZoN",
        "outputId": "3c043bd6-a2c0-4786-c383-0c44ff2aea87"
      },
      "execution_count": 22,
      "outputs": [
        {
          "output_type": "execute_result",
          "data": {
            "text/plain": [
              "array([ 1,  2,  3,  4,  5,  6,  7,  8,  9, 10, 11, 12, 13, 14, 15, 16, 17,\n",
              "       18, 19, 20, 21, 22, 23, 24], dtype=int32)"
            ]
          },
          "metadata": {},
          "execution_count": 22
        }
      ]
    },
    {
      "cell_type": "code",
      "source": [
        "#turn into tensor\n",
        "tensor_1 = tf.constant(numpy_array)\n",
        "#change shape of tensor\n",
        "tensor_2 = tf.constant(numpy_array,shape = (2,3,4)) # 2*3*4 = 24\n",
        "tensor_1,tensor_2"
      ],
      "metadata": {
        "colab": {
          "base_uri": "https://localhost:8080/"
        },
        "id": "zj26zURdMZvu",
        "outputId": "72877748-73be-4d18-d533-17037679ed75"
      },
      "execution_count": 23,
      "outputs": [
        {
          "output_type": "execute_result",
          "data": {
            "text/plain": [
              "(<tf.Tensor: shape=(24,), dtype=int32, numpy=\n",
              " array([ 1,  2,  3,  4,  5,  6,  7,  8,  9, 10, 11, 12, 13, 14, 15, 16, 17,\n",
              "        18, 19, 20, 21, 22, 23, 24], dtype=int32)>,\n",
              " <tf.Tensor: shape=(2, 3, 4), dtype=int32, numpy=\n",
              " array([[[ 1,  2,  3,  4],\n",
              "         [ 5,  6,  7,  8],\n",
              "         [ 9, 10, 11, 12]],\n",
              " \n",
              "        [[13, 14, 15, 16],\n",
              "         [17, 18, 19, 20],\n",
              "         [21, 22, 23, 24]]], dtype=int32)>)"
            ]
          },
          "metadata": {},
          "execution_count": 23
        }
      ]
    },
    {
      "cell_type": "markdown",
      "source": [
        "### Getting Information from Tensors.\n",
        "When dealing with tensors, you probably wanna be aware of following attributes:\n",
        "* Shape\n",
        "* Rank\n",
        "* Axis or Dimension\n",
        "* Size"
      ],
      "metadata": {
        "id": "Khyjez6njuCU"
      }
    },
    {
      "cell_type": "code",
      "source": [
        "#create rank 4 tensor(4 dimensional)\n",
        "rank4_tensor = tf.ones(shape = (2,2,3,4))\n",
        "rank4_tensor"
      ],
      "metadata": {
        "colab": {
          "base_uri": "https://localhost:8080/"
        },
        "id": "yIEPzROaMZ3T",
        "outputId": "d26eec1a-a438-4429-88df-bc2b9465b800"
      },
      "execution_count": 24,
      "outputs": [
        {
          "output_type": "execute_result",
          "data": {
            "text/plain": [
              "<tf.Tensor: shape=(2, 2, 3, 4), dtype=float32, numpy=\n",
              "array([[[[1., 1., 1., 1.],\n",
              "         [1., 1., 1., 1.],\n",
              "         [1., 1., 1., 1.]],\n",
              "\n",
              "        [[1., 1., 1., 1.],\n",
              "         [1., 1., 1., 1.],\n",
              "         [1., 1., 1., 1.]]],\n",
              "\n",
              "\n",
              "       [[[1., 1., 1., 1.],\n",
              "         [1., 1., 1., 1.],\n",
              "         [1., 1., 1., 1.]],\n",
              "\n",
              "        [[1., 1., 1., 1.],\n",
              "         [1., 1., 1., 1.],\n",
              "         [1., 1., 1., 1.]]]], dtype=float32)>"
            ]
          },
          "metadata": {},
          "execution_count": 24
        }
      ]
    },
    {
      "cell_type": "code",
      "source": [
        "#looking for shape,rank and size of rank4_tensor\n",
        "rank4_tensor.shape,rank4_tensor.ndim,tf.size(rank4_tensor)"
      ],
      "metadata": {
        "colab": {
          "base_uri": "https://localhost:8080/"
        },
        "id": "JkORDES8n0PX",
        "outputId": "e4c28ea5-9359-4c8b-c766-9c00bd6f2714"
      },
      "execution_count": 25,
      "outputs": [
        {
          "output_type": "execute_result",
          "data": {
            "text/plain": [
              "(TensorShape([2, 2, 3, 4]), 4, <tf.Tensor: shape=(), dtype=int32, numpy=48>)"
            ]
          },
          "metadata": {},
          "execution_count": 25
        }
      ]
    },
    {
      "cell_type": "markdown",
      "source": [
        "Let's look at previous example:\n",
        "* Shape - Shape of Tensor\n",
        "* Rank - Number of Dimensions\n",
        "* Size - Total Number of Elements in the Tensor"
      ],
      "metadata": {
        "id": "ubocmL4Xore4"
      }
    },
    {
      "cell_type": "markdown",
      "source": [
        "### Indexing\n",
        "Tensors can be indexed like Python Lists or NumPy Arrays"
      ],
      "metadata": {
        "id": "lwYXrWfTqVSg"
      }
    },
    {
      "cell_type": "code",
      "source": [
        "# Get the first 2 elements if each dimension\n",
        "rank4_tensor[:2,:2,:2,:2]"
      ],
      "metadata": {
        "colab": {
          "base_uri": "https://localhost:8080/"
        },
        "id": "YwKtZWS7qdWd",
        "outputId": "f39ec894-6c4d-4833-b731-9e3345bddcad"
      },
      "execution_count": 26,
      "outputs": [
        {
          "output_type": "execute_result",
          "data": {
            "text/plain": [
              "<tf.Tensor: shape=(2, 2, 2, 2), dtype=float32, numpy=\n",
              "array([[[[1., 1.],\n",
              "         [1., 1.]],\n",
              "\n",
              "        [[1., 1.],\n",
              "         [1., 1.]]],\n",
              "\n",
              "\n",
              "       [[[1., 1.],\n",
              "         [1., 1.]],\n",
              "\n",
              "        [[1., 1.],\n",
              "         [1., 1.]]]], dtype=float32)>"
            ]
          },
          "metadata": {},
          "execution_count": 26
        }
      ]
    },
    {
      "cell_type": "code",
      "source": [
        "#Get the first element from each dimension from each index except final dimension\n",
        "rank4_tensor[:1,:1,:1,:]"
      ],
      "metadata": {
        "colab": {
          "base_uri": "https://localhost:8080/"
        },
        "id": "coztNKDpqtmu",
        "outputId": "2e35ad51-66bf-4dc6-9d3d-17187bc82df1"
      },
      "execution_count": 27,
      "outputs": [
        {
          "output_type": "execute_result",
          "data": {
            "text/plain": [
              "<tf.Tensor: shape=(1, 1, 1, 4), dtype=float32, numpy=array([[[[1., 1., 1., 1.]]]], dtype=float32)>"
            ]
          },
          "metadata": {},
          "execution_count": 27
        }
      ]
    },
    {
      "cell_type": "code",
      "source": [
        "#create rank 2 tensor\n",
        "rank_2_tensor = tf.constant([[1,2,3,4,5],[6,7,8,9,10]])\n",
        "rank_2_tensor"
      ],
      "metadata": {
        "colab": {
          "base_uri": "https://localhost:8080/"
        },
        "id": "xISMFXtHrhEK",
        "outputId": "1eae50f2-bdf6-4645-962a-e1e47534779a"
      },
      "execution_count": 28,
      "outputs": [
        {
          "output_type": "execute_result",
          "data": {
            "text/plain": [
              "<tf.Tensor: shape=(2, 5), dtype=int32, numpy=\n",
              "array([[ 1,  2,  3,  4,  5],\n",
              "       [ 6,  7,  8,  9, 10]], dtype=int32)>"
            ]
          },
          "metadata": {},
          "execution_count": 28
        }
      ]
    },
    {
      "cell_type": "code",
      "source": [
        "#get the last item of each of row of  our rank tensor\n",
        "rank_2_tensor[:,-1]"
      ],
      "metadata": {
        "colab": {
          "base_uri": "https://localhost:8080/"
        },
        "id": "Nlg0FGE-s74q",
        "outputId": "cd74a9a7-6b1a-46ca-9a33-6a3d466e4b5c"
      },
      "execution_count": 29,
      "outputs": [
        {
          "output_type": "execute_result",
          "data": {
            "text/plain": [
              "<tf.Tensor: shape=(2,), dtype=int32, numpy=array([ 5, 10], dtype=int32)>"
            ]
          },
          "metadata": {},
          "execution_count": 29
        }
      ]
    },
    {
      "cell_type": "code",
      "source": [
        "# add in extra dimension to rank_2_tensor\n",
        "rank_3_tensor = rank_2_tensor[...,tf.newaxis]\n",
        "rank_3_tensor"
      ],
      "metadata": {
        "colab": {
          "base_uri": "https://localhost:8080/"
        },
        "id": "w4XCrrD7tZZ_",
        "outputId": "cfe65f41-9ac1-4d3c-acd4-d652e113ec91"
      },
      "execution_count": 30,
      "outputs": [
        {
          "output_type": "execute_result",
          "data": {
            "text/plain": [
              "<tf.Tensor: shape=(2, 5, 1), dtype=int32, numpy=\n",
              "array([[[ 1],\n",
              "        [ 2],\n",
              "        [ 3],\n",
              "        [ 4],\n",
              "        [ 5]],\n",
              "\n",
              "       [[ 6],\n",
              "        [ 7],\n",
              "        [ 8],\n",
              "        [ 9],\n",
              "        [10]]], dtype=int32)>"
            ]
          },
          "metadata": {},
          "execution_count": 30
        }
      ]
    },
    {
      "cell_type": "code",
      "source": [
        "#Alternative to the tf.newaxis\n",
        "tf.expand_dims(rank_2_tensor,axis = -1)"
      ],
      "metadata": {
        "colab": {
          "base_uri": "https://localhost:8080/"
        },
        "id": "gVJlo863vAjx",
        "outputId": "daa7b120-3be2-4a00-f154-6d9a8f01600c"
      },
      "execution_count": 31,
      "outputs": [
        {
          "output_type": "execute_result",
          "data": {
            "text/plain": [
              "<tf.Tensor: shape=(2, 5, 1), dtype=int32, numpy=\n",
              "array([[[ 1],\n",
              "        [ 2],\n",
              "        [ 3],\n",
              "        [ 4],\n",
              "        [ 5]],\n",
              "\n",
              "       [[ 6],\n",
              "        [ 7],\n",
              "        [ 8],\n",
              "        [ 9],\n",
              "        [10]]], dtype=int32)>"
            ]
          },
          "metadata": {},
          "execution_count": 31
        }
      ]
    },
    {
      "cell_type": "code",
      "source": [
        "#adding di,ension to the first axis\n",
        "tf.expand_dims(rank_2_tensor,axis=0)"
      ],
      "metadata": {
        "colab": {
          "base_uri": "https://localhost:8080/"
        },
        "id": "78VlJibivfHX",
        "outputId": "6ad0c28b-4bf0-4f10-88e0-8c378157c1b8"
      },
      "execution_count": 32,
      "outputs": [
        {
          "output_type": "execute_result",
          "data": {
            "text/plain": [
              "<tf.Tensor: shape=(1, 2, 5), dtype=int32, numpy=\n",
              "array([[[ 1,  2,  3,  4,  5],\n",
              "        [ 6,  7,  8,  9, 10]]], dtype=int32)>"
            ]
          },
          "metadata": {},
          "execution_count": 32
        }
      ]
    },
    {
      "cell_type": "code",
      "source": [
        "#adding di,ension to the middle\n",
        "tf.expand_dims(rank_2_tensor,axis=1)"
      ],
      "metadata": {
        "colab": {
          "base_uri": "https://localhost:8080/"
        },
        "id": "FfbEqbwwxUcc",
        "outputId": "dcd51c47-e303-40ed-9d9b-7dee55b4af80"
      },
      "execution_count": 33,
      "outputs": [
        {
          "output_type": "execute_result",
          "data": {
            "text/plain": [
              "<tf.Tensor: shape=(2, 1, 5), dtype=int32, numpy=\n",
              "array([[[ 1,  2,  3,  4,  5]],\n",
              "\n",
              "       [[ 6,  7,  8,  9, 10]]], dtype=int32)>"
            ]
          },
          "metadata": {},
          "execution_count": 33
        }
      ]
    },
    {
      "cell_type": "code",
      "source": [
        "#lookig for some attributes in the tensor\n",
        "print(\"The Shape of Tensor:\",tf.expand_dims(rank_2_tensor,axis=1).shape)\n",
        "print(\"The Number of Dimensions:\",tf.expand_dims(rank_2_tensor,axis=1).ndim)\n",
        "print(\"The total number of elements:\",tf.size(tf.expand_dims(rank_2_tensor,axis=1)))"
      ],
      "metadata": {
        "colab": {
          "base_uri": "https://localhost:8080/"
        },
        "id": "wejFHvONxaLE",
        "outputId": "65ce6f93-558d-45dc-fff7-677a91f07281"
      },
      "execution_count": 34,
      "outputs": [
        {
          "output_type": "stream",
          "name": "stdout",
          "text": [
            "The Shape of Tensor: (2, 1, 5)\n",
            "The Number of Dimensions: 3\n",
            "The total number of elements: tf.Tensor(10, shape=(), dtype=int32)\n"
          ]
        }
      ]
    },
    {
      "cell_type": "markdown",
      "source": [
        "### Manupulating tensors(tensor operations)\n",
        "**Basic Operations**\n",
        "\n",
        "\n",
        "\n"
      ],
      "metadata": {
        "id": "0Scv-zJUyh_6"
      }
    },
    {
      "cell_type": "code",
      "source": [
        "#addition\n",
        "tensor = tf.constant([[10,20],[30,40]])\n",
        "tensor + 10"
      ],
      "metadata": {
        "colab": {
          "base_uri": "https://localhost:8080/"
        },
        "id": "hKY9dMjOxde3",
        "outputId": "d7d17b99-27b7-4051-9eca-50a8efc0b3b8"
      },
      "execution_count": 35,
      "outputs": [
        {
          "output_type": "execute_result",
          "data": {
            "text/plain": [
              "<tf.Tensor: shape=(2, 2), dtype=int32, numpy=\n",
              "array([[20, 30],\n",
              "       [40, 50]], dtype=int32)>"
            ]
          },
          "metadata": {},
          "execution_count": 35
        }
      ]
    },
    {
      "cell_type": "code",
      "source": [
        "# Original tensor is not changed\n",
        "tensor"
      ],
      "metadata": {
        "colab": {
          "base_uri": "https://localhost:8080/"
        },
        "id": "XQgQG7oKyGzr",
        "outputId": "30f8a6ee-b4c3-4306-b120-b2fa2560127f"
      },
      "execution_count": 36,
      "outputs": [
        {
          "output_type": "execute_result",
          "data": {
            "text/plain": [
              "<tf.Tensor: shape=(2, 2), dtype=int32, numpy=\n",
              "array([[10, 20],\n",
              "       [30, 40]], dtype=int32)>"
            ]
          },
          "metadata": {},
          "execution_count": 36
        }
      ]
    },
    {
      "cell_type": "code",
      "source": [
        "#multiplication also works\n",
        "tensor * 10"
      ],
      "metadata": {
        "colab": {
          "base_uri": "https://localhost:8080/"
        },
        "id": "kJ4JF1MOzX3C",
        "outputId": "a233e2a0-66aa-4add-999a-f3d3c137d33f"
      },
      "execution_count": 37,
      "outputs": [
        {
          "output_type": "execute_result",
          "data": {
            "text/plain": [
              "<tf.Tensor: shape=(2, 2), dtype=int32, numpy=\n",
              "array([[100, 200],\n",
              "       [300, 400]], dtype=int32)>"
            ]
          },
          "metadata": {},
          "execution_count": 37
        }
      ]
    },
    {
      "cell_type": "code",
      "source": [
        "#subtraction\n",
        "tensor - 10"
      ],
      "metadata": {
        "colab": {
          "base_uri": "https://localhost:8080/"
        },
        "id": "kuDU1GZuze2q",
        "outputId": "03b2bcc8-0b13-4214-d674-46fb204512f0"
      },
      "execution_count": 38,
      "outputs": [
        {
          "output_type": "execute_result",
          "data": {
            "text/plain": [
              "<tf.Tensor: shape=(2, 2), dtype=int32, numpy=\n",
              "array([[ 0, 10],\n",
              "       [20, 30]], dtype=int32)>"
            ]
          },
          "metadata": {},
          "execution_count": 38
        }
      ]
    },
    {
      "cell_type": "markdown",
      "source": [
        "### Matrix *Multiplication*\n",
        "\n",
        "  In machine Learning, Matrix multiplication is one of the most usefull and important operation.\n",
        " \n",
        "  There are 2 rules to multiply our tensors(or matrices):\n",
        "\n",
        "1. The inner dimensions must match.\n",
        "2. The resulting matrix has the shape of outher dimensions."
      ],
      "metadata": {
        "id": "5cTC1rG63I5e"
      }
    },
    {
      "cell_type": "code",
      "source": [
        "#matrix multiplication in tensowflow\n",
        "print(tensor)\n",
        "tf.linalg.matmul(tensor,tensor)"
      ],
      "metadata": {
        "id": "boDh-0_uzfkV",
        "colab": {
          "base_uri": "https://localhost:8080/"
        },
        "outputId": "f54f4d09-6b71-4850-ac54-bbf0f90ff842"
      },
      "execution_count": 39,
      "outputs": [
        {
          "output_type": "stream",
          "name": "stdout",
          "text": [
            "tf.Tensor(\n",
            "[[10 20]\n",
            " [30 40]], shape=(2, 2), dtype=int32)\n"
          ]
        },
        {
          "output_type": "execute_result",
          "data": {
            "text/plain": [
              "<tf.Tensor: shape=(2, 2), dtype=int32, numpy=\n",
              "array([[ 700, 1000],\n",
              "       [1500, 2200]], dtype=int32)>"
            ]
          },
          "metadata": {},
          "execution_count": 39
        }
      ]
    },
    {
      "cell_type": "code",
      "source": [
        "tensor * tensor"
      ],
      "metadata": {
        "colab": {
          "base_uri": "https://localhost:8080/"
        },
        "id": "fZjHdB3CY3pP",
        "outputId": "c441cb7e-ed0b-4d2f-f9c5-a3d5fbbc1161"
      },
      "execution_count": 40,
      "outputs": [
        {
          "output_type": "execute_result",
          "data": {
            "text/plain": [
              "<tf.Tensor: shape=(2, 2), dtype=int32, numpy=\n",
              "array([[ 100,  400],\n",
              "       [ 900, 1600]], dtype=int32)>"
            ]
          },
          "metadata": {},
          "execution_count": 40
        }
      ]
    },
    {
      "cell_type": "code",
      "source": [
        "#Task: create tensor with shape of (3,3) and shape of (3,2)\n",
        "tensor_1 = tf.constant([[1,4,5],\n",
        "                        [1,2,5],\n",
        "                        [1,5,9]])\n",
        "\n",
        "tensor_2 = tf.constant([[1,2],\n",
        "                        [8,9],\n",
        "                        [5,6]])"
      ],
      "metadata": {
        "id": "3gjet_rpY3mo"
      },
      "execution_count": 41,
      "outputs": []
    },
    {
      "cell_type": "code",
      "source": [
        "# then multiply them with a Python operation\n",
        "tensor_1 @ tensor_2 #\"@\" in Python for the Matrix Multiplication"
      ],
      "metadata": {
        "colab": {
          "base_uri": "https://localhost:8080/"
        },
        "id": "dZ_0ZMdaY3jx",
        "outputId": "f6698671-6f1b-49a9-ef3f-50d81bb58bbc"
      },
      "execution_count": 42,
      "outputs": [
        {
          "output_type": "execute_result",
          "data": {
            "text/plain": [
              "<tf.Tensor: shape=(3, 2), dtype=int32, numpy=\n",
              "array([[ 58,  68],\n",
              "       [ 42,  50],\n",
              "       [ 86, 101]], dtype=int32)>"
            ]
          },
          "metadata": {},
          "execution_count": 42
        }
      ]
    },
    {
      "cell_type": "code",
      "source": [
        "#let's do that with tf.matmul\n",
        "tf.linalg.matmul(tensor_1,tensor_2)"
      ],
      "metadata": {
        "colab": {
          "base_uri": "https://localhost:8080/"
        },
        "id": "rsCOezE4Y3hL",
        "outputId": "7a27f6dc-5791-4e37-ec7e-4d1e189e0b5a"
      },
      "execution_count": 43,
      "outputs": [
        {
          "output_type": "execute_result",
          "data": {
            "text/plain": [
              "<tf.Tensor: shape=(3, 2), dtype=int32, numpy=\n",
              "array([[ 58,  68],\n",
              "       [ 42,  50],\n",
              "       [ 86, 101]], dtype=int32)>"
            ]
          },
          "metadata": {},
          "execution_count": 43
        }
      ]
    },
    {
      "cell_type": "code",
      "source": [
        "#let's create two tensor with the same shape\n",
        "X = tf.constant([[1,2],\n",
        "                 [3,4],\n",
        "                 [5,6]])\n",
        "y = tf.constant([[7,6],\n",
        "                [8,9],\n",
        "                [4,5]])\n",
        "#let's try to multiply them\n",
        "X @ y"
      ],
      "metadata": {
        "colab": {
          "base_uri": "https://localhost:8080/",
          "height": 371
        },
        "id": "RVcUl3hlY3eT",
        "outputId": "6bf0aa5e-0e75-4d65-b0f9-b5f7ff300dbe"
      },
      "execution_count": 44,
      "outputs": [
        {
          "output_type": "error",
          "ename": "InvalidArgumentError",
          "evalue": "ignored",
          "traceback": [
            "\u001b[0;31m---------------------------------------------------------------------------\u001b[0m",
            "\u001b[0;31mInvalidArgumentError\u001b[0m                      Traceback (most recent call last)",
            "\u001b[0;32m<ipython-input-44-ec8ed6a29375>\u001b[0m in \u001b[0;36m<cell line: 9>\u001b[0;34m()\u001b[0m\n\u001b[1;32m      7\u001b[0m                 [4,5]])\n\u001b[1;32m      8\u001b[0m \u001b[0;31m#let's try to multiply them\u001b[0m\u001b[0;34m\u001b[0m\u001b[0;34m\u001b[0m\u001b[0m\n\u001b[0;32m----> 9\u001b[0;31m \u001b[0mX\u001b[0m \u001b[0;34m@\u001b[0m \u001b[0my\u001b[0m\u001b[0;34m\u001b[0m\u001b[0;34m\u001b[0m\u001b[0m\n\u001b[0m",
            "\u001b[0;32m/usr/local/lib/python3.10/dist-packages/tensorflow/python/util/traceback_utils.py\u001b[0m in \u001b[0;36merror_handler\u001b[0;34m(*args, **kwargs)\u001b[0m\n\u001b[1;32m    151\u001b[0m     \u001b[0;32mexcept\u001b[0m \u001b[0mException\u001b[0m \u001b[0;32mas\u001b[0m \u001b[0me\u001b[0m\u001b[0;34m:\u001b[0m\u001b[0;34m\u001b[0m\u001b[0;34m\u001b[0m\u001b[0m\n\u001b[1;32m    152\u001b[0m       \u001b[0mfiltered_tb\u001b[0m \u001b[0;34m=\u001b[0m \u001b[0m_process_traceback_frames\u001b[0m\u001b[0;34m(\u001b[0m\u001b[0me\u001b[0m\u001b[0;34m.\u001b[0m\u001b[0m__traceback__\u001b[0m\u001b[0;34m)\u001b[0m\u001b[0;34m\u001b[0m\u001b[0;34m\u001b[0m\u001b[0m\n\u001b[0;32m--> 153\u001b[0;31m       \u001b[0;32mraise\u001b[0m \u001b[0me\u001b[0m\u001b[0;34m.\u001b[0m\u001b[0mwith_traceback\u001b[0m\u001b[0;34m(\u001b[0m\u001b[0mfiltered_tb\u001b[0m\u001b[0;34m)\u001b[0m \u001b[0;32mfrom\u001b[0m \u001b[0;32mNone\u001b[0m\u001b[0;34m\u001b[0m\u001b[0;34m\u001b[0m\u001b[0m\n\u001b[0m\u001b[1;32m    154\u001b[0m     \u001b[0;32mfinally\u001b[0m\u001b[0;34m:\u001b[0m\u001b[0;34m\u001b[0m\u001b[0;34m\u001b[0m\u001b[0m\n\u001b[1;32m    155\u001b[0m       \u001b[0;32mdel\u001b[0m \u001b[0mfiltered_tb\u001b[0m\u001b[0;34m\u001b[0m\u001b[0;34m\u001b[0m\u001b[0m\n",
            "\u001b[0;32m/usr/local/lib/python3.10/dist-packages/tensorflow/python/framework/ops.py\u001b[0m in \u001b[0;36mraise_from_not_ok_status\u001b[0;34m(e, name)\u001b[0m\n\u001b[1;32m   7260\u001b[0m \u001b[0;32mdef\u001b[0m \u001b[0mraise_from_not_ok_status\u001b[0m\u001b[0;34m(\u001b[0m\u001b[0me\u001b[0m\u001b[0;34m,\u001b[0m \u001b[0mname\u001b[0m\u001b[0;34m)\u001b[0m\u001b[0;34m:\u001b[0m\u001b[0;34m\u001b[0m\u001b[0;34m\u001b[0m\u001b[0m\n\u001b[1;32m   7261\u001b[0m   \u001b[0me\u001b[0m\u001b[0;34m.\u001b[0m\u001b[0mmessage\u001b[0m \u001b[0;34m+=\u001b[0m \u001b[0;34m(\u001b[0m\u001b[0;34m\" name: \"\u001b[0m \u001b[0;34m+\u001b[0m \u001b[0mname\u001b[0m \u001b[0;32mif\u001b[0m \u001b[0mname\u001b[0m \u001b[0;32mis\u001b[0m \u001b[0;32mnot\u001b[0m \u001b[0;32mNone\u001b[0m \u001b[0;32melse\u001b[0m \u001b[0;34m\"\"\u001b[0m\u001b[0;34m)\u001b[0m\u001b[0;34m\u001b[0m\u001b[0;34m\u001b[0m\u001b[0m\n\u001b[0;32m-> 7262\u001b[0;31m   \u001b[0;32mraise\u001b[0m \u001b[0mcore\u001b[0m\u001b[0;34m.\u001b[0m\u001b[0m_status_to_exception\u001b[0m\u001b[0;34m(\u001b[0m\u001b[0me\u001b[0m\u001b[0;34m)\u001b[0m \u001b[0;32mfrom\u001b[0m \u001b[0;32mNone\u001b[0m  \u001b[0;31m# pylint: disable=protected-access\u001b[0m\u001b[0;34m\u001b[0m\u001b[0;34m\u001b[0m\u001b[0m\n\u001b[0m\u001b[1;32m   7263\u001b[0m \u001b[0;34m\u001b[0m\u001b[0m\n\u001b[1;32m   7264\u001b[0m \u001b[0;34m\u001b[0m\u001b[0m\n",
            "\u001b[0;31mInvalidArgumentError\u001b[0m: {{function_node __wrapped__MatMul_device_/job:localhost/replica:0/task:0/device:CPU:0}} Matrix size-incompatible: In[0]: [3,2], In[1]: [3,2] [Op:MatMul]"
          ]
        }
      ]
    },
    {
      "cell_type": "code",
      "source": [
        "#let's change the shape of y and try again\n",
        "X @ tf.reshape(y, shape = (2,3))"
      ],
      "metadata": {
        "colab": {
          "base_uri": "https://localhost:8080/"
        },
        "id": "LXIRuS-HxQre",
        "outputId": "29e7ea54-169b-4fc5-c99d-9c34b462105c"
      },
      "execution_count": 45,
      "outputs": [
        {
          "output_type": "execute_result",
          "data": {
            "text/plain": [
              "<tf.Tensor: shape=(3, 3), dtype=int32, numpy=\n",
              "array([[25, 14, 18],\n",
              "       [57, 34, 44],\n",
              "       [89, 54, 70]], dtype=int32)>"
            ]
          },
          "metadata": {},
          "execution_count": 45
        }
      ]
    },
    {
      "cell_type": "code",
      "source": [
        "#now,reshape the X and we cann see that works or not\n",
        "tf.reshape(X,shape = (2,3)) @ y"
      ],
      "metadata": {
        "colab": {
          "base_uri": "https://localhost:8080/"
        },
        "id": "a8Hv3IVqxQuR",
        "outputId": "9e8da23d-ca0b-41d1-f70e-b4c189319279"
      },
      "execution_count": 46,
      "outputs": [
        {
          "output_type": "execute_result",
          "data": {
            "text/plain": [
              "<tf.Tensor: shape=(2, 2), dtype=int32, numpy=\n",
              "array([[35, 39],\n",
              "       [92, 99]], dtype=int32)>"
            ]
          },
          "metadata": {},
          "execution_count": 46
        }
      ]
    },
    {
      "cell_type": "code",
      "source": [
        "#Let's see the difference between tf.transpose() and tf,reshape() \n",
        "X,tf.transpose(X),tf.reshape(X,shape=(2,3))"
      ],
      "metadata": {
        "colab": {
          "base_uri": "https://localhost:8080/"
        },
        "id": "KrdZsk80825E",
        "outputId": "a0205649-9dcc-4da0-dac3-cd01be4965c5"
      },
      "execution_count": 47,
      "outputs": [
        {
          "output_type": "execute_result",
          "data": {
            "text/plain": [
              "(<tf.Tensor: shape=(3, 2), dtype=int32, numpy=\n",
              " array([[1, 2],\n",
              "        [3, 4],\n",
              "        [5, 6]], dtype=int32)>,\n",
              " <tf.Tensor: shape=(2, 3), dtype=int32, numpy=\n",
              " array([[1, 3, 5],\n",
              "        [2, 4, 6]], dtype=int32)>,\n",
              " <tf.Tensor: shape=(2, 3), dtype=int32, numpy=\n",
              " array([[1, 2, 3],\n",
              "        [4, 5, 6]], dtype=int32)>)"
            ]
          },
          "metadata": {},
          "execution_count": 47
        }
      ]
    },
    {
      "cell_type": "code",
      "source": [
        "#can do same thing with tf.transpose()\n",
        "tf.transpose(X) @ y"
      ],
      "metadata": {
        "colab": {
          "base_uri": "https://localhost:8080/"
        },
        "id": "EgayFn2QxQ0R",
        "outputId": "7907d1e8-2ae5-4652-fffe-8c423ba3a850"
      },
      "execution_count": 48,
      "outputs": [
        {
          "output_type": "execute_result",
          "data": {
            "text/plain": [
              "<tf.Tensor: shape=(2, 2), dtype=int32, numpy=\n",
              "array([[51, 58],\n",
              "       [70, 78]], dtype=int32)>"
            ]
          },
          "metadata": {},
          "execution_count": 48
        }
      ]
    },
    {
      "cell_type": "code",
      "source": [
        "#transpose y instead of X\n",
        "tf.linalg.matmul(X,tf.transpose(y))"
      ],
      "metadata": {
        "colab": {
          "base_uri": "https://localhost:8080/"
        },
        "id": "cvEjZBAbxQ3I",
        "outputId": "02f04599-1b1a-4047-bde6-d262a4edb148"
      },
      "execution_count": 49,
      "outputs": [
        {
          "output_type": "execute_result",
          "data": {
            "text/plain": [
              "<tf.Tensor: shape=(3, 3), dtype=int32, numpy=\n",
              "array([[19, 26, 14],\n",
              "       [45, 60, 32],\n",
              "       [71, 94, 50]], dtype=int32)>"
            ]
          },
          "metadata": {},
          "execution_count": 49
        }
      ]
    },
    {
      "cell_type": "markdown",
      "source": [
        "📖 **Resource**: Info and Example of Matrix Multiplication: https://www.mathsisfun.com/algebra/matrix-multiplying.html"
      ],
      "metadata": {
        "id": "E9dZLiC8wPjN"
      }
    },
    {
      "cell_type": "markdown",
      "source": [
        "### The Dot Product\n",
        "You can perform matrix multiplication using:\n",
        "\n",
        "*  `tf.matmul()`\n",
        "*  `tf.tensordot()`\n",
        "* `@`\n",
        "\n",
        "\n",
        "\n"
      ],
      "metadata": {
        "id": "WhJB87Dj-2mE"
      }
    },
    {
      "cell_type": "code",
      "source": [
        "X,y"
      ],
      "metadata": {
        "colab": {
          "base_uri": "https://localhost:8080/"
        },
        "id": "ZDnorwj_xQ5_",
        "outputId": "3340ee62-16a3-46c7-ade5-ddf2cec8a725"
      },
      "execution_count": 50,
      "outputs": [
        {
          "output_type": "execute_result",
          "data": {
            "text/plain": [
              "(<tf.Tensor: shape=(3, 2), dtype=int32, numpy=\n",
              " array([[1, 2],\n",
              "        [3, 4],\n",
              "        [5, 6]], dtype=int32)>,\n",
              " <tf.Tensor: shape=(3, 2), dtype=int32, numpy=\n",
              " array([[7, 6],\n",
              "        [8, 9],\n",
              "        [4, 5]], dtype=int32)>)"
            ]
          },
          "metadata": {},
          "execution_count": 50
        }
      ]
    },
    {
      "cell_type": "code",
      "source": [
        "#maltiply with tf.tensordot() on X and y\n",
        "tf.tensordot(tf.transpose(X),y,axes = 1)"
      ],
      "metadata": {
        "colab": {
          "base_uri": "https://localhost:8080/"
        },
        "id": "Ba5Ch1MfY3bM",
        "outputId": "1013583d-2e91-47d6-96cf-9a8bdfb3b12b"
      },
      "execution_count": 51,
      "outputs": [
        {
          "output_type": "execute_result",
          "data": {
            "text/plain": [
              "<tf.Tensor: shape=(2, 2), dtype=int32, numpy=\n",
              "array([[51, 58],\n",
              "       [70, 78]], dtype=int32)>"
            ]
          },
          "metadata": {},
          "execution_count": 51
        }
      ]
    },
    {
      "cell_type": "code",
      "source": [
        "tf.tensordot(X,tf.transpose(y),axes = 1)"
      ],
      "metadata": {
        "colab": {
          "base_uri": "https://localhost:8080/"
        },
        "id": "2Eadz6mbY3YU",
        "outputId": "61d5a94e-58f5-4352-bd06-87569ade8681"
      },
      "execution_count": 52,
      "outputs": [
        {
          "output_type": "execute_result",
          "data": {
            "text/plain": [
              "<tf.Tensor: shape=(3, 3), dtype=int32, numpy=\n",
              "array([[19, 26, 14],\n",
              "       [45, 60, 32],\n",
              "       [71, 94, 50]], dtype=int32)>"
            ]
          },
          "metadata": {},
          "execution_count": 52
        }
      ]
    },
    {
      "cell_type": "markdown",
      "source": [
        "\n",
        "\n",
        "---\n",
        "\n",
        "\n",
        "\n",
        "---\n",
        "\n",
        "\n",
        "Generally,when performing matrix multiplication on two tensors and one of them is not fit for the multiplication,you are gonna use transpose (rather than reshape) to get satisfy the rules of Matrix Multiplication."
      ],
      "metadata": {
        "id": "Q58lQTsiBV8o"
      }
    },
    {
      "cell_type": "markdown",
      "source": [
        "### Changing datantype of tensor"
      ],
      "metadata": {
        "id": "fIirxHgbCRVp"
      }
    },
    {
      "cell_type": "code",
      "source": [
        "tf.__version__"
      ],
      "metadata": {
        "id": "KImDz85hY3Vd",
        "colab": {
          "base_uri": "https://localhost:8080/",
          "height": 35
        },
        "outputId": "5415aa24-4fa2-4c6f-bc37-13480664ec17"
      },
      "execution_count": 53,
      "outputs": [
        {
          "output_type": "execute_result",
          "data": {
            "text/plain": [
              "'2.12.0'"
            ],
            "application/vnd.google.colaboratory.intrinsic+json": {
              "type": "string"
            }
          },
          "metadata": {},
          "execution_count": 53
        }
      ]
    },
    {
      "cell_type": "code",
      "source": [
        "#create a tensor with type of float\n",
        "A = tf.constant([1.5,1,9])\n",
        "A.dtype"
      ],
      "metadata": {
        "id": "zbkzSMn5Y3S5",
        "colab": {
          "base_uri": "https://localhost:8080/"
        },
        "outputId": "1348ef3b-df1c-400b-8148-75accdb9c84b"
      },
      "execution_count": 61,
      "outputs": [
        {
          "output_type": "execute_result",
          "data": {
            "text/plain": [
              "tf.float32"
            ]
          },
          "metadata": {},
          "execution_count": 61
        }
      ]
    },
    {
      "cell_type": "code",
      "source": [
        "B = tf.constant([[1,2,3],[1,2,5]])\n",
        "B.dtype"
      ],
      "metadata": {
        "id": "Ljoc4egLY3P_",
        "colab": {
          "base_uri": "https://localhost:8080/"
        },
        "outputId": "3aa8f764-901d-4085-d9ca-36e3ed7a165c"
      },
      "execution_count": 62,
      "outputs": [
        {
          "output_type": "execute_result",
          "data": {
            "text/plain": [
              "tf.int32"
            ]
          },
          "metadata": {},
          "execution_count": 62
        }
      ]
    },
    {
      "cell_type": "code",
      "source": [
        "#change dtype from float32 to float16(reduce precision)\n",
        "C = tf.cast(A,dtype = tf.float16)\n",
        "C.dtype"
      ],
      "metadata": {
        "id": "vhpFvRS1Y3NI",
        "colab": {
          "base_uri": "https://localhost:8080/"
        },
        "outputId": "c70775c8-cbc9-4dd8-9ef7-367668f21106"
      },
      "execution_count": 63,
      "outputs": [
        {
          "output_type": "execute_result",
          "data": {
            "text/plain": [
              "tf.float16"
            ]
          },
          "metadata": {},
          "execution_count": 63
        }
      ]
    },
    {
      "cell_type": "code",
      "source": [
        "#change from int32 to float32\n",
        "E = tf.cast(B,dtype = tf.float32)\n",
        "B.dtype,E.dtype"
      ],
      "metadata": {
        "id": "pKTbL8VtY3E0",
        "colab": {
          "base_uri": "https://localhost:8080/"
        },
        "outputId": "9f4ff2f7-d7fc-4576-d6ed-6d5f2cfc97f8"
      },
      "execution_count": 64,
      "outputs": [
        {
          "output_type": "execute_result",
          "data": {
            "text/plain": [
              "(tf.int32, tf.float32)"
            ]
          },
          "metadata": {},
          "execution_count": 64
        }
      ]
    },
    {
      "cell_type": "markdown",
      "source": [
        "### Aggretating tensors"
      ],
      "metadata": {
        "id": "ZaE8ALBNep7B"
      }
    },
    {
      "cell_type": "code",
      "source": [],
      "metadata": {
        "id": "oI8pNBd5Y3B7"
      },
      "execution_count": null,
      "outputs": []
    },
    {
      "cell_type": "code",
      "source": [],
      "metadata": {
        "id": "j9F5yFKDY2_U"
      },
      "execution_count": null,
      "outputs": []
    },
    {
      "cell_type": "code",
      "source": [],
      "metadata": {
        "id": "erB7ymVbY28M"
      },
      "execution_count": null,
      "outputs": []
    },
    {
      "cell_type": "code",
      "source": [],
      "metadata": {
        "id": "jxVkppEmY25l"
      },
      "execution_count": null,
      "outputs": []
    },
    {
      "cell_type": "code",
      "source": [],
      "metadata": {
        "id": "RRdsw1_IY22t"
      },
      "execution_count": null,
      "outputs": []
    },
    {
      "cell_type": "code",
      "source": [],
      "metadata": {
        "id": "ANkEVvdfY20H"
      },
      "execution_count": null,
      "outputs": []
    },
    {
      "cell_type": "code",
      "source": [],
      "metadata": {
        "id": "YVLvefp0Y2w_"
      },
      "execution_count": null,
      "outputs": []
    },
    {
      "cell_type": "code",
      "source": [],
      "metadata": {
        "id": "AIjDiGgbY2uY"
      },
      "execution_count": null,
      "outputs": []
    },
    {
      "cell_type": "code",
      "source": [],
      "metadata": {
        "id": "yyEb0BlOY2ri"
      },
      "execution_count": null,
      "outputs": []
    },
    {
      "cell_type": "code",
      "source": [],
      "metadata": {
        "id": "U-RYrO6_Y2o9"
      },
      "execution_count": null,
      "outputs": []
    },
    {
      "cell_type": "code",
      "source": [],
      "metadata": {
        "id": "2zalIksOY2fU"
      },
      "execution_count": null,
      "outputs": []
    }
  ]
}