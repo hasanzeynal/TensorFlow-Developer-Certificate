{
  "nbformat": 4,
  "nbformat_minor": 0,
  "metadata": {
    "colab": {
      "provenance": [],
      "toc_visible": true,
      "gpuType": "T4",
      "authorship_tag": "ABX9TyNPbBjNpoRH8uZ2YmImiwIT",
      "include_colab_link": true
    },
    "kernelspec": {
      "name": "python3",
      "display_name": "Python 3"
    },
    "language_info": {
      "name": "python"
    },
    "accelerator": "GPU"
  },
  "cells": [
    {
      "cell_type": "markdown",
      "metadata": {
        "id": "view-in-github",
        "colab_type": "text"
      },
      "source": [
        "<a href=\"https://colab.research.google.com/github/hasanzeynal/TensorFlow-Developer-Certificate/blob/main/Exercises/00_TensorFlow_Fundamentals_Exercises.ipynb\" target=\"_parent\"><img src=\"https://colab.research.google.com/assets/colab-badge.svg\" alt=\"Open In Colab\"/></a>"
      ]
    },
    {
      "cell_type": "markdown",
      "source": [
        "### 🛠 00.TensorFlow Fundamentals Exercises"
      ],
      "metadata": {
        "id": "7Fsl4vV8Iwsp"
      }
    },
    {
      "cell_type": "markdown",
      "source": [
        "#### Exercise 1.\n",
        "Create a vector, scalar, matrix and tensor with values of your choosing using tf.constant().\n"
      ],
      "metadata": {
        "id": "qRxf1y6ZI4T8"
      }
    },
    {
      "cell_type": "code",
      "source": [
        "#import tensorflow\n",
        "import tensorflow as tf\n",
        "#create scalar,vector,matrix and tensir\n",
        "print(f\"Scalar: {tf.constant(3)}\") #number od dimension = 0\n",
        "print(f\"Vector: {tf.constant([1,2,4])}\") #number od dimension = 1\n",
        "print(f\"Matrix: \\n{tf.constant([[4,5,7],[4,7,9]])}\") #number od dimension = 2\n",
        "tensor = tf.constant([[[1,2,3,4],[5,6,7,8]],[[9,10,11,12],[13,14,15,16]]]) #number od dimension = can be different shapes\n",
        "print(f\"Tensor: \\n{tensor}\")"
      ],
      "metadata": {
        "colab": {
          "base_uri": "https://localhost:8080/"
        },
        "id": "-7reHv6jJcsW",
        "outputId": "7c2b409d-a406-4b97-965b-288f1692042b"
      },
      "execution_count": null,
      "outputs": [
        {
          "output_type": "stream",
          "name": "stdout",
          "text": [
            "Scalar: 3\n",
            "Vector: [1 2 4]\n",
            "Matrix: \n",
            "[[4 5 7]\n",
            " [4 7 9]]\n",
            "Tensor: \n",
            "[[[ 1  2  3  4]\n",
            "  [ 5  6  7  8]]\n",
            "\n",
            " [[ 9 10 11 12]\n",
            "  [13 14 15 16]]]\n"
          ]
        }
      ]
    },
    {
      "cell_type": "markdown",
      "source": [
        "📝 **Note**: The difference between Matrix and Tensor: Matrix onky can be 2 dimensional but Tensor cen be different shapes.You can think of a tensor as a higher-dimensional way to organize information. So a matrix (5x5 for example) is a tensor of rank 2."
      ],
      "metadata": {
        "id": "txlT6NvWLi-F"
      }
    },
    {
      "cell_type": "markdown",
      "source": [
        "#### Exercise 2.\n",
        "Find the shape, rank and size of the tensors you created in 1.\n"
      ],
      "metadata": {
        "id": "HDoTaKXMI4Np"
      }
    },
    {
      "cell_type": "code",
      "source": [
        "#get the shape,rank and size of tensor which is created in exercise 1\n",
        "print(\"The Shape of Tensor: \",tensor.shape)\n",
        "print(\"The Rank of Tensor: \",tensor.ndim) #rank means number of dimensions\n",
        "print(\"The Size of Tensor: \",tf.size(tensor)) #size means total number of elements in tensor"
      ],
      "metadata": {
        "colab": {
          "base_uri": "https://localhost:8080/"
        },
        "id": "Bn3bJIanJdjm",
        "outputId": "d8a84b69-bb0d-4fbf-b504-c207d886d646"
      },
      "execution_count": null,
      "outputs": [
        {
          "output_type": "stream",
          "name": "stdout",
          "text": [
            "The Shape of Tensor:  (2, 2, 4)\n",
            "The Rank of Tensor:  3\n",
            "The Size of Tensor:  tf.Tensor(16, shape=(), dtype=int32)\n"
          ]
        }
      ]
    },
    {
      "cell_type": "markdown",
      "source": [
        "#### Exercise 3.\n",
        "Create two tensors containing random values between 0 and 1 with shape [5, 300].\n"
      ],
      "metadata": {
        "id": "oHJVz4KnI4Hp"
      }
    },
    {
      "cell_type": "code",
      "source": [
        "#create 2 tensors which is containg random values between 0 and 1\n",
        "tensor_1 = tf.random.uniform(shape = [5,300],minval=0,maxval = 1)\n",
        "tensor_2 = tf.random.uniform(shape = [5,300],minval=0,maxval = 1)"
      ],
      "metadata": {
        "id": "zuB9EE5lJ0UE"
      },
      "execution_count": null,
      "outputs": []
    },
    {
      "cell_type": "markdown",
      "source": [
        "#### Exercise 4.\n",
        " Multiply the two tensors you created in 3 using matrix multiplication.\n"
      ],
      "metadata": {
        "id": "s0vq93lfI4B7"
      }
    },
    {
      "cell_type": "code",
      "source": [
        "#maltuplication using tf.matmul()\n",
        "tf.matmul(tensor_1,tf.transpose(tensor_2)) #transpose to not getting error,remember the rules."
      ],
      "metadata": {
        "colab": {
          "base_uri": "https://localhost:8080/"
        },
        "id": "sIKnvlxgJ_3Z",
        "outputId": "86cb495d-a178-4052-981d-5fcf8f15e46f"
      },
      "execution_count": null,
      "outputs": [
        {
          "output_type": "execute_result",
          "data": {
            "text/plain": [
              "<tf.Tensor: shape=(5, 5), dtype=float32, numpy=\n",
              "array([[73.09271 , 76.764694, 76.62086 , 75.045334, 75.066154],\n",
              "       [77.57048 , 81.38469 , 78.160904, 80.962494, 78.58233 ],\n",
              "       [76.78978 , 85.83865 , 79.82314 , 83.47469 , 75.92397 ],\n",
              "       [75.14124 , 78.880646, 74.57582 , 74.50623 , 71.56018 ],\n",
              "       [76.04808 , 75.49192 , 74.94261 , 76.894394, 74.69604 ]],\n",
              "      dtype=float32)>"
            ]
          },
          "metadata": {},
          "execution_count": 6
        }
      ]
    },
    {
      "cell_type": "markdown",
      "source": [
        "#### Exercise 5.\n",
        "Multiply the two tensors you created in 3 using dot product.\n"
      ],
      "metadata": {
        "id": "nljq_0EyI38d"
      }
    },
    {
      "cell_type": "code",
      "source": [
        "#multiplication using tensordot\n",
        "tf.tensordot(tensor_1,tf.transpose(tensor_2),axes = 1)#axes must be given"
      ],
      "metadata": {
        "colab": {
          "base_uri": "https://localhost:8080/"
        },
        "id": "iWy4LEpnKFLO",
        "outputId": "190dbf99-46de-4d29-b3d4-5f08937a9790"
      },
      "execution_count": null,
      "outputs": [
        {
          "output_type": "execute_result",
          "data": {
            "text/plain": [
              "<tf.Tensor: shape=(5, 5), dtype=float32, numpy=\n",
              "array([[73.09271 , 76.764694, 76.62086 , 75.045334, 75.066154],\n",
              "       [77.57048 , 81.38469 , 78.160904, 80.962494, 78.58233 ],\n",
              "       [76.78978 , 85.83865 , 79.82314 , 83.47469 , 75.92397 ],\n",
              "       [75.14124 , 78.880646, 74.57582 , 74.50623 , 71.56018 ],\n",
              "       [76.04808 , 75.49192 , 74.94261 , 76.894394, 74.69604 ]],\n",
              "      dtype=float32)>"
            ]
          },
          "metadata": {},
          "execution_count": 7
        }
      ]
    },
    {
      "cell_type": "markdown",
      "source": [
        "#### Exercise 6.\n",
        "Create a tensor with random values between 0 and 1 with shape [224, 224, 3]."
      ],
      "metadata": {
        "id": "rwCHiNSmJ0oG"
      }
    },
    {
      "cell_type": "code",
      "source": [
        "#crete a tensor\n",
        "tensor_3 = tf.random.uniform(shape = [224,224,3],minval = 0,maxval = 1)\n",
        "tensor_3"
      ],
      "metadata": {
        "colab": {
          "base_uri": "https://localhost:8080/"
        },
        "id": "Ese_doHiKPm8",
        "outputId": "b4f3b0ae-87d5-42bb-eaf9-e57e19448651"
      },
      "execution_count": null,
      "outputs": [
        {
          "output_type": "execute_result",
          "data": {
            "text/plain": [
              "<tf.Tensor: shape=(224, 224, 3), dtype=float32, numpy=\n",
              "array([[[0.50076425, 0.2987175 , 0.8884711 ],\n",
              "        [0.38392723, 0.43805695, 0.1862241 ],\n",
              "        [0.69492567, 0.17708075, 0.16034675],\n",
              "        ...,\n",
              "        [0.9142219 , 0.14476812, 0.22889447],\n",
              "        [0.31085742, 0.51891685, 0.44350207],\n",
              "        [0.07689476, 0.8465502 , 0.6810421 ]],\n",
              "\n",
              "       [[0.073632  , 0.08876634, 0.87733376],\n",
              "        [0.7076491 , 0.14638889, 0.7326473 ],\n",
              "        [0.66994715, 0.62114596, 0.12321007],\n",
              "        ...,\n",
              "        [0.09773254, 0.8056066 , 0.79563284],\n",
              "        [0.20788419, 0.2382127 , 0.12442803],\n",
              "        [0.35737312, 0.08532476, 0.48011696]],\n",
              "\n",
              "       [[0.19844747, 0.31776786, 0.0850656 ],\n",
              "        [0.49853826, 0.41695595, 0.03940558],\n",
              "        [0.03244615, 0.6493677 , 0.2808193 ],\n",
              "        ...,\n",
              "        [0.8436475 , 0.23940611, 0.42089605],\n",
              "        [0.5829694 , 0.23786592, 0.22571135],\n",
              "        [0.37503088, 0.42606103, 0.0769583 ]],\n",
              "\n",
              "       ...,\n",
              "\n",
              "       [[0.6221365 , 0.19788599, 0.20065153],\n",
              "        [0.9648237 , 0.04267597, 0.5715451 ],\n",
              "        [0.0380367 , 0.31841743, 0.33152592],\n",
              "        ...,\n",
              "        [0.01855111, 0.18384206, 0.96027577],\n",
              "        [0.2965684 , 0.6938845 , 0.46523368],\n",
              "        [0.67539155, 0.77371836, 0.8722719 ]],\n",
              "\n",
              "       [[0.7431644 , 0.47766423, 0.28608692],\n",
              "        [0.43957114, 0.38428712, 0.86584973],\n",
              "        [0.75996065, 0.3891741 , 0.2478255 ],\n",
              "        ...,\n",
              "        [0.8699049 , 0.56987965, 0.75941885],\n",
              "        [0.28996134, 0.13794339, 0.8195925 ],\n",
              "        [0.91978073, 0.07108045, 0.6458379 ]],\n",
              "\n",
              "       [[0.6440872 , 0.7495253 , 0.02334487],\n",
              "        [0.7352587 , 0.3730836 , 0.7104511 ],\n",
              "        [0.04677558, 0.124349  , 0.22663295],\n",
              "        ...,\n",
              "        [0.34203815, 0.02255869, 0.01419687],\n",
              "        [0.04070795, 0.8193741 , 0.5682998 ],\n",
              "        [0.7652613 , 0.03766286, 0.70198095]]], dtype=float32)>"
            ]
          },
          "metadata": {},
          "execution_count": 8
        }
      ]
    },
    {
      "cell_type": "markdown",
      "source": [
        "#### Exercise 7.\n",
        " Find the min and max values of the tensor you created in 6 along the first axis.\n"
      ],
      "metadata": {
        "id": "WoFrW-YDI32f"
      }
    },
    {
      "cell_type": "code",
      "source": [
        "print(\"The Minimum value of tensor: \",tf.reduce_min(tensor_3))\n",
        "print(\"The Maximum value of tensor: \",tf.reduce_max(tensor_3))"
      ],
      "metadata": {
        "colab": {
          "base_uri": "https://localhost:8080/"
        },
        "id": "eHg0rt_7KQYa",
        "outputId": "4a891c74-f317-40cc-99ed-8c9ca795610c"
      },
      "execution_count": null,
      "outputs": [
        {
          "output_type": "stream",
          "name": "stdout",
          "text": [
            "The Minimum value of tensor:  tf.Tensor(2.3841858e-07, shape=(), dtype=float32)\n",
            "The Maximum value of tensor:  tf.Tensor(0.99999917, shape=(), dtype=float32)\n"
          ]
        }
      ]
    },
    {
      "cell_type": "markdown",
      "source": [
        "####Exercise 8.\n",
        "Created a tensor with random values of shape [1, 224, 224, 3] then squeeze it to change the shape to [224, 224, 3].\n"
      ],
      "metadata": {
        "id": "oOgWP2N4I3wv"
      }
    },
    {
      "cell_type": "code",
      "source": [
        "#creating tensor\n",
        "tensor_4 = tf.random.uniform(shape = [1,224,224,3])\n",
        "#loking for the shapes\n",
        "tensor_4.shape,tf.squeeze(tensor_4).shape"
      ],
      "metadata": {
        "colab": {
          "base_uri": "https://localhost:8080/"
        },
        "id": "8u7aI_GkKYoB",
        "outputId": "4e129b8e-dc12-43c1-e5ef-9fcda09f8e7b"
      },
      "execution_count": null,
      "outputs": [
        {
          "output_type": "execute_result",
          "data": {
            "text/plain": [
              "(TensorShape([1, 224, 224, 3]), TensorShape([224, 224, 3]))"
            ]
          },
          "metadata": {},
          "execution_count": 10
        }
      ]
    },
    {
      "cell_type": "markdown",
      "source": [
        "#### Exercise 9.\n",
        " Create a tensor with shape [10] using your own choice of values, then find the index which has the maximum value.\n"
      ],
      "metadata": {
        "id": "YaJRYUZgI3qx"
      }
    },
    {
      "cell_type": "code",
      "source": [
        "#create a tensor\n",
        "tensor_4 = tf.constant([1,4,7,9,12,54,-5,8,9,91])\n",
        "#let's get indix of max value\n",
        "index_of_max = tf.argmax(tensor_4)\n",
        "print(\"The Index of Max Value: \",index_of_max)\n",
        "#getting max value using index\n",
        "print(\"The Max Value: \",tensor_4[index_of_max])"
      ],
      "metadata": {
        "colab": {
          "base_uri": "https://localhost:8080/"
        },
        "id": "xvExlv1dKZV2",
        "outputId": "2242d119-047f-43f9-a00c-92bdfbd866b6"
      },
      "execution_count": null,
      "outputs": [
        {
          "output_type": "stream",
          "name": "stdout",
          "text": [
            "The Index of Max Value:  tf.Tensor(9, shape=(), dtype=int64)\n",
            "The Max Value:  tf.Tensor(91, shape=(), dtype=int32)\n"
          ]
        }
      ]
    },
    {
      "cell_type": "markdown",
      "source": [
        "####Exercise 10.\n",
        " One-hot encode the tensor you created in 9."
      ],
      "metadata": {
        "id": "bFDXIBiaI3nI"
      }
    },
    {
      "cell_type": "code",
      "source": [
        "#one-hot encoding on tensor_4\n",
        "tf.one_hot(tensor_4,depth = 10) #depth must be given to not get error"
      ],
      "metadata": {
        "colab": {
          "base_uri": "https://localhost:8080/"
        },
        "id": "TE74IixdKaO4",
        "outputId": "54997ea7-dc5d-45a4-aae8-818692da196e"
      },
      "execution_count": null,
      "outputs": [
        {
          "output_type": "execute_result",
          "data": {
            "text/plain": [
              "<tf.Tensor: shape=(10, 10), dtype=float32, numpy=\n",
              "array([[0., 1., 0., 0., 0., 0., 0., 0., 0., 0.],\n",
              "       [0., 0., 0., 0., 1., 0., 0., 0., 0., 0.],\n",
              "       [0., 0., 0., 0., 0., 0., 0., 1., 0., 0.],\n",
              "       [0., 0., 0., 0., 0., 0., 0., 0., 0., 1.],\n",
              "       [0., 0., 0., 0., 0., 0., 0., 0., 0., 0.],\n",
              "       [0., 0., 0., 0., 0., 0., 0., 0., 0., 0.],\n",
              "       [0., 0., 0., 0., 0., 0., 0., 0., 0., 0.],\n",
              "       [0., 0., 0., 0., 0., 0., 0., 0., 1., 0.],\n",
              "       [0., 0., 0., 0., 0., 0., 0., 0., 0., 1.],\n",
              "       [0., 0., 0., 0., 0., 0., 0., 0., 0., 0.]], dtype=float32)>"
            ]
          },
          "metadata": {},
          "execution_count": 12
        }
      ]
    }
  ]
}