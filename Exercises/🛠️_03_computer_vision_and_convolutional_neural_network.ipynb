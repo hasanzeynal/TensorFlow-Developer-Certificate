{
  "nbformat": 4,
  "nbformat_minor": 0,
  "metadata": {
    "colab": {
      "provenance": [],
      "authorship_tag": "ABX9TyP5rz+iT1ehGi5AS6QnLewe",
      "include_colab_link": true
    },
    "kernelspec": {
      "name": "python3",
      "display_name": "Python 3"
    },
    "language_info": {
      "name": "python"
    }
  },
  "cells": [
    {
      "cell_type": "markdown",
      "metadata": {
        "id": "view-in-github",
        "colab_type": "text"
      },
      "source": [
        "<a href=\"https://colab.research.google.com/github/hasanzeynal/TensorFlow-Developer-Certificate/blob/main/Exercises/03_computer_vision_and_convolutional_neural_network.ipynb\" target=\"_parent\"><img src=\"https://colab.research.google.com/assets/colab-badge.svg\" alt=\"Open In Colab\"/></a>"
      ]
    },
    {
      "cell_type": "markdown",
      "source": [
        "# Exercise 1:\n",
        "Spend 20-minutes reading and interacting with the CNN explainer website.\n",
        "What are the key terms? e.g. explain convolution in your own words, pooling in your own words\n"
      ],
      "metadata": {
        "id": "xYvSktSFShZL"
      }
    },
    {
      "cell_type": "code",
      "source": [],
      "metadata": {
        "id": "yxuTkwA-CzJV"
      },
      "execution_count": null,
      "outputs": []
    },
    {
      "cell_type": "markdown",
      "source": [
        "#Exercise 2:\n",
        "Play around with the \"understanding hyperparameters\" section in the CNN explainer website for 10-minutes.\n",
        "* What is the kernel size?\n",
        "* What is the stride?\n",
        "* How could you adjust each of these in TensorFlow code?"
      ],
      "metadata": {
        "id": "MQ_NbKEPStSd"
      }
    },
    {
      "cell_type": "code",
      "source": [],
      "metadata": {
        "id": "3iZzmrhnCz3q"
      },
      "execution_count": null,
      "outputs": []
    },
    {
      "cell_type": "markdown",
      "source": [
        "# Exercise 3:\n",
        "Take 10 photos of two different things and build your own CNN image classifier using the techniques we've built here.\n",
        "\n"
      ],
      "metadata": {
        "id": "q6yDwi0xStP2"
      }
    },
    {
      "cell_type": "code",
      "source": [],
      "metadata": {
        "id": "tezryiZ_C0co"
      },
      "execution_count": null,
      "outputs": []
    },
    {
      "cell_type": "markdown",
      "source": [
        "#Exercise 4:\n",
        "Find an ideal learning rate for a simple convolutional neural network model on your the 10 class dataset.\n",
        "\n"
      ],
      "metadata": {
        "id": "qhZcjRJRStNQ"
      }
    },
    {
      "cell_type": "code",
      "source": [],
      "metadata": {
        "id": "lXR5tnYtC1Mz"
      },
      "execution_count": null,
      "outputs": []
    }
  ]
}
