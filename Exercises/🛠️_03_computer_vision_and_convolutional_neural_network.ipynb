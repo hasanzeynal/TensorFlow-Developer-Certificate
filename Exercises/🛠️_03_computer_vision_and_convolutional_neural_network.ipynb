{
  "nbformat": 4,
  "nbformat_minor": 0,
  "metadata": {
    "colab": {
      "provenance": [],
      "gpuType": "T4",
      "toc_visible": true,
      "authorship_tag": "ABX9TyMVDaZJZJZ0JDDyZUbz+S6S",
      "include_colab_link": true
    },
    "kernelspec": {
      "name": "python3",
      "display_name": "Python 3"
    },
    "language_info": {
      "name": "python"
    },
    "accelerator": "GPU"
  },
  "cells": [
    {
      "cell_type": "markdown",
      "metadata": {
        "id": "view-in-github",
        "colab_type": "text"
      },
      "source": [
        "<a href=\"https://colab.research.google.com/github/hasanzeynal/TensorFlow-Developer-Certificate/blob/main/Exercises/%F0%9F%9B%A0%EF%B8%8F_03_computer_vision_and_convolutional_neural_network.ipynb\" target=\"_parent\"><img src=\"https://colab.research.google.com/assets/colab-badge.svg\" alt=\"Open In Colab\"/></a>"
      ]
    },
    {
      "cell_type": "markdown",
      "source": [
        "Let's repeat all our acknowledges in Computer Vision and Multiclass Classification Model.\n",
        "* Import Dataset from TnesorFlow Datasets\n",
        "* Explore Images\n",
        "* Prepare Dataset\n",
        "* Create **Multiclass Classification** model on cifar 10 Datasets\n",
        "* Create at least 1 *Non CNN model* and *2 CNN Model*\n",
        "* Get Visualizations of **Loss** and **Accuracy**.\n",
        "* Make the predictions with Pictures\n",
        "* Finding ideal learning rate\n",
        "* Create last CNN model with **Ideal Learning Rate**\n",
        "\n"
      ],
      "metadata": {
        "id": "q6yDwi0xStP2"
      }
    },
    {
      "cell_type": "code",
      "source": [
        "#import libraries\n",
        "import os\n",
        "import time\n",
        "import random\n",
        "import zipfile\n",
        "import tensorflow as tf\n",
        "import numpy as np\n",
        "import pandas as pd\n",
        "import matplotlib.pyplot as plt\n",
        "import matplotlib.image as mpimg\n",
        "import tensorflow_datasets.public_api as tfds\n",
        "\n",
        "#ignore all warnings\n",
        "import warnings\n",
        "warnings.filterwarnings(action ='ignore')\n",
        "\n"
      ],
      "metadata": {
        "id": "tezryiZ_C0co"
      },
      "execution_count": null,
      "outputs": []
    },
    {
      "cell_type": "code",
      "source": [
        "pip install tensorflow_datasets"
      ],
      "metadata": {
        "colab": {
          "base_uri": "https://localhost:8080/"
        },
        "id": "ZSKjoE_VLwue",
        "outputId": "2da8a4de-bc26-4e96-ccf0-6f06e146110f"
      },
      "execution_count": null,
      "outputs": [
        {
          "output_type": "stream",
          "name": "stdout",
          "text": [
            "Requirement already satisfied: tensorflow_datasets in /usr/local/lib/python3.10/dist-packages (4.9.2)\n",
            "Requirement already satisfied: absl-py in /usr/local/lib/python3.10/dist-packages (from tensorflow_datasets) (1.4.0)\n",
            "Requirement already satisfied: array-record in /usr/local/lib/python3.10/dist-packages (from tensorflow_datasets) (0.4.0)\n",
            "Requirement already satisfied: click in /usr/local/lib/python3.10/dist-packages (from tensorflow_datasets) (8.1.4)\n",
            "Requirement already satisfied: dm-tree in /usr/local/lib/python3.10/dist-packages (from tensorflow_datasets) (0.1.8)\n",
            "Requirement already satisfied: etils[enp,epath]>=0.9.0 in /usr/local/lib/python3.10/dist-packages (from tensorflow_datasets) (1.3.0)\n",
            "Requirement already satisfied: numpy in /usr/local/lib/python3.10/dist-packages (from tensorflow_datasets) (1.22.4)\n",
            "Requirement already satisfied: promise in /usr/local/lib/python3.10/dist-packages (from tensorflow_datasets) (2.3)\n",
            "Requirement already satisfied: protobuf>=3.20 in /usr/local/lib/python3.10/dist-packages (from tensorflow_datasets) (3.20.3)\n",
            "Requirement already satisfied: psutil in /usr/local/lib/python3.10/dist-packages (from tensorflow_datasets) (5.9.5)\n",
            "Requirement already satisfied: requests>=2.19.0 in /usr/local/lib/python3.10/dist-packages (from tensorflow_datasets) (2.27.1)\n",
            "Requirement already satisfied: tensorflow-metadata in /usr/local/lib/python3.10/dist-packages (from tensorflow_datasets) (1.13.1)\n",
            "Requirement already satisfied: termcolor in /usr/local/lib/python3.10/dist-packages (from tensorflow_datasets) (2.3.0)\n",
            "Requirement already satisfied: toml in /usr/local/lib/python3.10/dist-packages (from tensorflow_datasets) (0.10.2)\n",
            "Requirement already satisfied: tqdm in /usr/local/lib/python3.10/dist-packages (from tensorflow_datasets) (4.65.0)\n",
            "Requirement already satisfied: wrapt in /usr/local/lib/python3.10/dist-packages (from tensorflow_datasets) (1.14.1)\n",
            "Requirement already satisfied: importlib_resources in /usr/local/lib/python3.10/dist-packages (from etils[enp,epath]>=0.9.0->tensorflow_datasets) (6.0.0)\n",
            "Requirement already satisfied: typing_extensions in /usr/local/lib/python3.10/dist-packages (from etils[enp,epath]>=0.9.0->tensorflow_datasets) (4.7.1)\n",
            "Requirement already satisfied: zipp in /usr/local/lib/python3.10/dist-packages (from etils[enp,epath]>=0.9.0->tensorflow_datasets) (3.16.1)\n",
            "Requirement already satisfied: urllib3<1.27,>=1.21.1 in /usr/local/lib/python3.10/dist-packages (from requests>=2.19.0->tensorflow_datasets) (1.26.16)\n",
            "Requirement already satisfied: certifi>=2017.4.17 in /usr/local/lib/python3.10/dist-packages (from requests>=2.19.0->tensorflow_datasets) (2023.5.7)\n",
            "Requirement already satisfied: charset-normalizer~=2.0.0 in /usr/local/lib/python3.10/dist-packages (from requests>=2.19.0->tensorflow_datasets) (2.0.12)\n",
            "Requirement already satisfied: idna<4,>=2.5 in /usr/local/lib/python3.10/dist-packages (from requests>=2.19.0->tensorflow_datasets) (3.4)\n",
            "Requirement already satisfied: six in /usr/local/lib/python3.10/dist-packages (from promise->tensorflow_datasets) (1.16.0)\n",
            "Requirement already satisfied: googleapis-common-protos<2,>=1.52.0 in /usr/local/lib/python3.10/dist-packages (from tensorflow-metadata->tensorflow_datasets) (1.59.1)\n"
          ]
        }
      ]
    },
    {
      "cell_type": "code",
      "source": [
        "(X_train,y_train),(X_test,y_test) = tf.keras.datasets.cifar10.load_data()"
      ],
      "metadata": {
        "colab": {
          "base_uri": "https://localhost:8080/"
        },
        "id": "EF7OEJPTLGz8",
        "outputId": "27900706-7e75-4687-8e2f-7b4011dfa875"
      },
      "execution_count": null,
      "outputs": [
        {
          "output_type": "stream",
          "name": "stdout",
          "text": [
            "Downloading data from https://www.cs.toronto.edu/~kriz/cifar-10-python.tar.gz\n",
            "170498071/170498071 [==============================] - 17s 0us/step\n"
          ]
        }
      ]
    },
    {
      "cell_type": "code",
      "source": [
        "#getting class names\n",
        "\n",
        "class_names = ['airplane', 'automobile', 'bird', 'cat', 'deer', 'dog', 'frog', 'horse', 'ship', 'truck']"
      ],
      "metadata": {
        "id": "2PB6EZMuNPCx"
      },
      "execution_count": null,
      "outputs": []
    },
    {
      "cell_type": "code",
      "source": [
        "def view_random_image():\n",
        "  i = random.sample(list(range(0,49999)),1)[0]\n",
        "  plt.imshow(X_train[i])\n",
        "  plt.title(class_names[y_train[i][0]])\n",
        "  plt.xticks([])\n",
        "  plt.yticks([])\n",
        "  print(X_train[i].shape)\n",
        "  plt.show()"
      ],
      "metadata": {
        "id": "l-6YvPOBNk0T"
      },
      "execution_count": null,
      "outputs": []
    },
    {
      "cell_type": "code",
      "source": [
        "view_random_image()"
      ],
      "metadata": {
        "colab": {
          "base_uri": "https://localhost:8080/",
          "height": 446
        },
        "id": "w064kM0oLv8N",
        "outputId": "7398b8d5-d674-4a10-bd31-af07551ebcb2"
      },
      "execution_count": null,
      "outputs": [
        {
          "output_type": "stream",
          "name": "stdout",
          "text": [
            "(32, 32, 3)\n"
          ]
        },
        {
          "output_type": "display_data",
          "data": {
            "text/plain": [
              "<Figure size 640x480 with 1 Axes>"
            ],
            "image/png": "[encoded data removed]"
          },
          "metadata": {}
        }
      ]
    },
    {
      "cell_type": "code",
      "source": [
        "view_random_image()"
      ],
      "metadata": {
        "colab": {
          "base_uri": "https://localhost:8080/",
          "height": 446
        },
        "id": "rrs04VrMLeD8",
        "outputId": "a2f8f8a3-f477-49ed-c1d7-e34b5ca9d11b"
      },
      "execution_count": null,
      "outputs": [
        {
          "output_type": "stream",
          "name": "stdout",
          "text": [
            "(32, 32, 3)\n"
          ]
        },
        {
          "output_type": "display_data",
          "data": {
            "text/plain": [
              "<Figure size 640x480 with 1 Axes>"
            ],
            "image/png": "[encoded data removed]"
          },
          "metadata": {}
        }
      ]
    },
    {
      "cell_type": "code",
      "source": [
        "view_random_image()"
      ],
      "metadata": {
        "colab": {
          "base_uri": "https://localhost:8080/",
          "height": 446
        },
        "id": "yWJeOi2mLWdP",
        "outputId": "6138727c-0db0-44ad-dbbb-4d64a0f7c1f6"
      },
      "execution_count": null,
      "outputs": [
        {
          "output_type": "stream",
          "name": "stdout",
          "text": [
            "(32, 32, 3)\n"
          ]
        },
        {
          "output_type": "display_data",
          "data": {
            "text/plain": [
              "<Figure size 640x480 with 1 Axes>"
            ],
            "image/png": "[encoded data removed]"
          },
          "metadata": {}
        }
      ]
    },
    {
      "cell_type": "code",
      "source": [
        "#looking for shapes\n",
        "X_train.shape,y_train.shape,X_test.shape,y_test.shape"
      ],
      "metadata": {
        "colab": {
          "base_uri": "https://localhost:8080/"
        },
        "id": "BXeWHKjDHIBb",
        "outputId": "4ce9d398-7318-46a9-fbba-89aa9935c352"
      },
      "execution_count": null,
      "outputs": [
        {
          "output_type": "execute_result",
          "data": {
            "text/plain": [
              "((50000, 32, 32, 3), (50000, 1), (10000, 32, 32, 3), (10000, 1))"
            ]
          },
          "metadata": {},
          "execution_count": 66
        }
      ]
    },
    {
      "cell_type": "code",
      "source": [
        "#creating definition to view accuracy and loss metric\n",
        "def plot_metrics(history):\n",
        "  pd.DataFrame(history.history).plot()\n",
        "  plt.show()"
      ],
      "metadata": {
        "id": "EvGoue4TTNSZ"
      },
      "execution_count": null,
      "outputs": []
    },
    {
      "cell_type": "markdown",
      "source": [
        "## Non CNN Model"
      ],
      "metadata": {
        "id": "nH2zJ9gFQkkR"
      }
    },
    {
      "cell_type": "code",
      "source": [
        "# Creating first Non CNN Model\n",
        "\n",
        "# set the random seed\n",
        "tf.random.set_seed(42)\n",
        "\n",
        "#creating a architecture\n",
        "non_cnn_model = tf.keras.models.Sequential([\n",
        "    tf.keras.layers.Flatten(),\n",
        "    tf.keras.layers.Dense(100, activation = 'relu'),\n",
        "    tf.keras.layers.Dense(100, activation = 'relu'),\n",
        "    tf.keras.layers.Dense(10, activation = 'softmax')\n",
        "])\n",
        "\n",
        "#compile the model\n",
        "non_cnn_model.compile(loss = tf.keras.losses.SparseCategoricalCrossentropy(),\n",
        "                      optimizer = tf.keras.optimizers.Adam(),\n",
        "                      metrics = ['accuracy'])\n",
        "\n",
        "#fit the model\n",
        "non_cnn_model_history = non_cnn_model.fit(X_train,\n",
        "                                          y_train,\n",
        "                                          epochs = 5)"
      ],
      "metadata": {
        "id": "Wlo35D4bHII_",
        "colab": {
          "base_uri": "https://localhost:8080/"
        },
        "outputId": "14985287-1c13-4125-8d77-bff86e5400e9"
      },
      "execution_count": null,
      "outputs": [
        {
          "output_type": "stream",
          "name": "stdout",
          "text": [
            "Epoch 1/5\n",
            "1563/1563 [==============================] - 7s 3ms/step - loss: 9.9265 - accuracy: 0.1361\n",
            "Epoch 2/5\n",
            "1563/1563 [==============================] - 5s 3ms/step - loss: 2.3018 - accuracy: 0.1004\n",
            "Epoch 3/5\n",
            "1563/1563 [==============================] - 8s 5ms/step - loss: 2.3024 - accuracy: 0.0988\n",
            "Epoch 4/5\n",
            "1563/1563 [==============================] - 5s 3ms/step - loss: 2.3028 - accuracy: 0.0989\n",
            "Epoch 5/5\n",
            "1563/1563 [==============================] - 5s 3ms/step - loss: 2.3028 - accuracy: 0.0992\n"
          ]
        }
      ]
    },
    {
      "cell_type": "code",
      "source": [
        "plot_metrics(non_cnn_model_history)"
      ],
      "metadata": {
        "colab": {
          "base_uri": "https://localhost:8080/",
          "height": 430
        },
        "id": "URnDBsIMT13f",
        "outputId": "b3bf4364-1af0-4a66-f75d-dc1cb5f14ff5"
      },
      "execution_count": null,
      "outputs": [
        {
          "output_type": "display_data",
          "data": {
            "text/plain": [
              "<Figure size 640x480 with 1 Axes>"
            ],
            "image/png": "[encoded data removed]"
          },
          "metadata": {}
        }
      ]
    },
    {
      "cell_type": "markdown",
      "source": [
        "## First CNN Model"
      ],
      "metadata": {
        "id": "au9LwB28HIL1"
      }
    },
    {
      "cell_type": "code",
      "source": [
        "#creating a model\n",
        "\n",
        "#set the random seed\n",
        "tf.random.set_seed(42)\n",
        "\n",
        "#model architecture as tinyvggnet\n",
        "cnn_model_1 = tf.keras.models.Sequential([\n",
        "    tf.keras.layers.Conv2D(filters=10, kernel_size=3, input_shape=(32,32,3) ,activation = 'relu'),\n",
        "    tf.keras.layers.Conv2D(filters=10, kernel_size=3, activation = 'relu'),\n",
        "    tf.keras.layers.MaxPool2D(pool_size = 3),\n",
        "    tf.keras.layers.Conv2D(filters=10, kernel_size=3, activation = 'relu'),\n",
        "    tf.keras.layers.Conv2D(filters=10, kernel_size=3, activation = 'relu'),\n",
        "    tf.keras.layers.MaxPool2D(pool_size = 3),\n",
        "    tf.keras.layers.Flatten(),\n",
        "    tf.keras.layers.Dense(10, activation = 'softmax')\n",
        "])\n",
        "\n",
        "#compile the model\n",
        "cnn_model_1.compile(loss = 'sparse_categorical_crossentropy',\n",
        "                    optimizer = 'adam',\n",
        "                    metrics = ['accuracy'])\n",
        "\n",
        "#fit the model\n",
        "cnn_model_1_history = cnn_model_1.fit(X_train,\n",
        "                                      y_train,\n",
        "                                      epochs = 10,\n",
        "                                      validation_data = (X_test, y_test))"
      ],
      "metadata": {
        "id": "JFSQLoQJHIOb",
        "colab": {
          "base_uri": "https://localhost:8080/"
        },
        "outputId": "ce86f94a-51c5-450c-ef79-41859db996f3"
      },
      "execution_count": null,
      "outputs": [
        {
          "output_type": "stream",
          "name": "stdout",
          "text": [
            "Epoch 1/10\n",
            "1563/1563 [==============================] - 10s 5ms/step - loss: 2.4186 - accuracy: 0.1238 - val_loss: 2.2671 - val_accuracy: 0.1363\n",
            "Epoch 2/10\n",
            "1563/1563 [==============================] - 8s 5ms/step - loss: 2.0741 - accuracy: 0.2227 - val_loss: 1.9167 - val_accuracy: 0.2800\n",
            "Epoch 3/10\n",
            "1563/1563 [==============================] - 8s 5ms/step - loss: 1.8687 - accuracy: 0.2950 - val_loss: 1.7969 - val_accuracy: 0.3256\n",
            "Epoch 4/10\n",
            "1563/1563 [==============================] - 8s 5ms/step - loss: 1.7709 - accuracy: 0.3346 - val_loss: 1.7509 - val_accuracy: 0.3538\n",
            "Epoch 5/10\n",
            "1563/1563 [==============================] - 9s 6ms/step - loss: 1.7034 - accuracy: 0.3640 - val_loss: 1.6923 - val_accuracy: 0.3761\n",
            "Epoch 6/10\n",
            "1563/1563 [==============================] - 8s 5ms/step - loss: 1.6575 - accuracy: 0.3831 - val_loss: 1.6207 - val_accuracy: 0.3989\n",
            "Epoch 7/10\n",
            "1563/1563 [==============================] - 7s 5ms/step - loss: 1.6134 - accuracy: 0.4022 - val_loss: 1.6281 - val_accuracy: 0.4063\n",
            "Epoch 8/10\n",
            "1563/1563 [==============================] - 8s 5ms/step - loss: 1.5790 - accuracy: 0.4148 - val_loss: 1.5681 - val_accuracy: 0.4363\n",
            "Epoch 9/10\n",
            "1563/1563 [==============================] - 7s 5ms/step - loss: 1.5524 - accuracy: 0.4308 - val_loss: 1.5606 - val_accuracy: 0.4317\n",
            "Epoch 10/10\n",
            "1563/1563 [==============================] - 8s 5ms/step - loss: 1.5291 - accuracy: 0.4391 - val_loss: 1.5432 - val_accuracy: 0.4358\n"
          ]
        }
      ]
    },
    {
      "cell_type": "code",
      "source": [
        "#view the plot for cnn_model_1\n",
        "plot_metrics(cnn_model_1_history)"
      ],
      "metadata": {
        "id": "t7UjMU21HIRU",
        "colab": {
          "base_uri": "https://localhost:8080/",
          "height": 430
        },
        "outputId": "da7139c7-8741-47f6-c2aa-47d8d3204349"
      },
      "execution_count": null,
      "outputs": [
        {
          "output_type": "display_data",
          "data": {
            "text/plain": [
              "<Figure size 640x480 with 1 Axes>"
            ],
            "image/png": "[encoded data removed]"
          },
          "metadata": {}
        }
      ]
    },
    {
      "cell_type": "markdown",
      "source": [
        "## CNN Model 2 on Normalized Data"
      ],
      "metadata": {
        "id": "jjuHvUfkHITp"
      }
    },
    {
      "cell_type": "code",
      "source": [
        "#normalize data before training\n",
        "normalized_X_train = X_train / 255\n",
        "normalized_y_train = y_train / 255\n",
        "\n",
        "#set the random seed\n",
        "tf.random.set_seed(42)\n",
        "\n",
        "#create model architecture\n",
        "cnn_model_2 = tf.keras.models.Sequential([\n",
        "    tf.keras.layers.Conv2D(10, 3, input_shape=(32, 32, 3), activation= 'relu'),\n",
        "    tf.keras.layers.Conv2D(10, 3, activation= 'relu'),\n",
        "    tf.keras.layers.MaxPool2D(pool_size= (3,3)),\n",
        "    tf.keras.layers.Conv2D(10, 3, activation= 'relu'),\n",
        "    tf.keras.layers.Conv2D(10, 3, activation= 'relu'),\n",
        "    tf.keras.layers.MaxPool2D(pool_size= (3,3)),\n",
        "    tf.keras.layers.Flatten(),\n",
        "    tf.keras.layers.Dense(10, activation= 'softmax')\n",
        "])\n",
        "\n",
        "#compile the model\n",
        "cnn_model_2.compile(loss= 'sparse_categorical_crossentropy',\n",
        "                    optimizer = 'adam',\n",
        "                    metrics = ['accuracy'])\n",
        "\n",
        "#fit the model\n",
        "cnn_model_2_history = cnn_model_2.fit(normalized_X_train,\n",
        "                                      normalized_y_train,\n",
        "                                      epochs = 10,\n",
        "                                      validation_data= (X_test,y_test))"
      ],
      "metadata": {
        "id": "2BOSZbOFHIV_",
        "colab": {
          "base_uri": "https://localhost:8080/"
        },
        "outputId": "0a4af5c3-1e28-47d7-f00d-957b1d40a8bb"
      },
      "execution_count": null,
      "outputs": [
        {
          "output_type": "stream",
          "name": "stdout",
          "text": [
            "Epoch 1/10\n",
            "1563/1563 [==============================] - 10s 5ms/step - loss: 0.0603 - accuracy: 0.0967 - val_loss: 7380.7383 - val_accuracy: 0.1000\n",
            "Epoch 2/10\n",
            "1563/1563 [==============================] - 7s 5ms/step - loss: 1.9690e-06 - accuracy: 0.1000 - val_loss: 8335.3604 - val_accuracy: 0.1000\n",
            "Epoch 3/10\n",
            "1563/1563 [==============================] - 8s 5ms/step - loss: 5.8229e-07 - accuracy: 0.1000 - val_loss: 9175.3779 - val_accuracy: 0.1000\n",
            "Epoch 4/10\n",
            "1563/1563 [==============================] - 8s 5ms/step - loss: 2.1279e-07 - accuracy: 0.1000 - val_loss: 9709.0791 - val_accuracy: 0.1000\n",
            "Epoch 5/10\n",
            "1563/1563 [==============================] - 8s 5ms/step - loss: 9.6264e-08 - accuracy: 0.1000 - val_loss: 10485.2246 - val_accuracy: 0.1000\n",
            "Epoch 6/10\n",
            "1563/1563 [==============================] - 8s 5ms/step - loss: 3.3346e-08 - accuracy: 0.1000 - val_loss: 11085.4336 - val_accuracy: 0.1000\n",
            "Epoch 7/10\n",
            "1563/1563 [==============================] - 8s 5ms/step - loss: 1.3324e-08 - accuracy: 0.1000 - val_loss: 11583.5205 - val_accuracy: 0.1000\n",
            "Epoch 8/10\n",
            "1563/1563 [==============================] - 8s 5ms/step - loss: 5.4259e-09 - accuracy: 0.1000 - val_loss: 12369.9668 - val_accuracy: 0.1000\n",
            "Epoch 9/10\n",
            "1563/1563 [==============================] - 8s 5ms/step - loss: 1.5735e-09 - accuracy: 0.1000 - val_loss: 12708.1982 - val_accuracy: 0.1000\n",
            "Epoch 10/10\n",
            "1563/1563 [==============================] - 8s 5ms/step - loss: 8.2253e-10 - accuracy: 0.1000 - val_loss: 13290.8672 - val_accuracy: 0.1000\n"
          ]
        }
      ]
    },
    {
      "cell_type": "code",
      "source": [],
      "metadata": {
        "id": "lXR5tnYtC1Mz"
      },
      "execution_count": null,
      "outputs": []
    },
    {
      "cell_type": "code",
      "source": [],
      "metadata": {
        "id": "5O6UABJvHgWb"
      },
      "execution_count": null,
      "outputs": []
    },
    {
      "cell_type": "code",
      "source": [],
      "metadata": {
        "id": "FeYcV5XgHgT0"
      },
      "execution_count": null,
      "outputs": []
    },
    {
      "cell_type": "code",
      "source": [],
      "metadata": {
        "id": "nFUgG3fWHgRd"
      },
      "execution_count": null,
      "outputs": []
    },
    {
      "cell_type": "code",
      "source": [],
      "metadata": {
        "id": "jaDlOKFXHgPI"
      },
      "execution_count": null,
      "outputs": []
    },
    {
      "cell_type": "code",
      "source": [],
      "metadata": {
        "id": "LjYmWsifHgMi"
      },
      "execution_count": null,
      "outputs": []
    },
    {
      "cell_type": "code",
      "source": [],
      "metadata": {
        "id": "u8aiGCQdHgJ5"
      },
      "execution_count": null,
      "outputs": []
    },
    {
      "cell_type": "code",
      "source": [],
      "metadata": {
        "id": "cn_lBvJPHgHn"
      },
      "execution_count": null,
      "outputs": []
    }
  ]
}