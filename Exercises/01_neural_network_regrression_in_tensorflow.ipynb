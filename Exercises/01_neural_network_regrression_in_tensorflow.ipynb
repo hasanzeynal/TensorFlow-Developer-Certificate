{
  "nbformat": 4,
  "nbformat_minor": 0,
  "metadata": {
    "colab": {
      "provenance": [],
      "toc_visible": true,
      "authorship_tag": "ABX9TyNUhfLtYGJr6/0J6LoG0B02",
      "include_colab_link": true
    },
    "kernelspec": {
      "name": "python3",
      "display_name": "Python 3"
    },
    "language_info": {
      "name": "python"
    }
  },
  "cells": [
    {
      "cell_type": "markdown",
      "metadata": {
        "id": "view-in-github",
        "colab_type": "text"
      },
      "source": [
        "<a href=\"https://colab.research.google.com/github/hasanzeynal/Tensorflow-Developer-Certificate/blob/main/Exercises/01_neural_network_regrression_in_tensorflow.ipynb\" target=\"_parent\"><img src=\"https://colab.research.google.com/assets/colab-badge.svg\" alt=\"Open In Colab\"/></a>"
      ]
    },
    {
      "cell_type": "markdown",
      "source": [
        "## Exercise 1.\n",
        "Create your own regression dataset (or make the one we created in \"Create data to view and fit\" bigger) and build fit a model to it."
      ],
      "metadata": {
        "id": "H0Sbs-W6947n"
      }
    },
    {
      "cell_type": "code",
      "execution_count": 1,
      "metadata": {
        "id": "qGho79CO9HW_"
      },
      "outputs": [],
      "source": [
        "#import tensorflow\n",
        "import tensorflow as tf"
      ]
    },
    {
      "cell_type": "markdown",
      "source": [
        "## Exercise 2.\n",
        "Try building a neural network with 4 Dense layers and fitting it to your own regression dataset, how does it perform?\n"
      ],
      "metadata": {
        "id": "9jZc_f7e94-u"
      }
    },
    {
      "cell_type": "code",
      "source": [],
      "metadata": {
        "id": "CIQszvUJ-68g"
      },
      "execution_count": null,
      "outputs": []
    },
    {
      "cell_type": "markdown",
      "source": [
        "## Exercise 3.\n",
        "Try and improve the results we got on the insurance dataset, some things you might want to try include:\n",
        "* Building a larger model (how does one with 4 dense layers go?).\n",
        "* Increasing the number of units in each layer.\n",
        "* Lookup the documentation of Adam and find out what the first parameter is, what happens if you increase it by 10x?\n",
        "* What happens if you train for longer (say 300 epochs instead of 200)?"
      ],
      "metadata": {
        "id": "U5QryPBL95B1"
      }
    },
    {
      "cell_type": "code",
      "source": [],
      "metadata": {
        "id": "q-vHKIh5-vn0"
      },
      "execution_count": null,
      "outputs": []
    },
    {
      "cell_type": "markdown",
      "source": [
        "## Exercise 4.\n",
        "Import the Boston pricing dataset from TensorFlow tf.keras.datasets and model it.\n"
      ],
      "metadata": {
        "id": "wx5mHPTs-wIE"
      }
    },
    {
      "cell_type": "code",
      "source": [],
      "metadata": {
        "id": "1aQlco5q-zG8"
      },
      "execution_count": null,
      "outputs": []
    }
  ]
}