{
  "nbformat": 4,
  "nbformat_minor": 0,
  "metadata": {
    "colab": {
      "provenance": [],
      "toc_visible": true,
      "authorship_tag": "ABX9TyM94oTbErNz1zi/PJSPJhlo",
      "include_colab_link": true
    },
    "kernelspec": {
      "name": "python3",
      "display_name": "Python 3"
    },
    "language_info": {
      "name": "python"
    }
  },
  "cells": [
    {
      "cell_type": "markdown",
      "metadata": {
        "id": "view-in-github",
        "colab_type": "text"
      },
      "source": [
        "<a href=\"https://colab.research.google.com/github/hasanzeynal/TensorFlow-Developer-Certificate/blob/main/Exercises/02_neural_network_classification_in_tensorflow.ipynb\" target=\"_parent\"><img src=\"https://colab.research.google.com/assets/colab-badge.svg\" alt=\"Open In Colab\"/></a>"
      ]
    },
    {
      "cell_type": "markdown",
      "source": [
        "# Exercise 1:\n",
        "Play with neural networks in the TensorFlow Playground for 10-minutes. Especially try different values of the learning, what happens when you decrease it? What happens when you increase it?\n"
      ],
      "metadata": {
        "id": "sRgyLtTyW6xC"
      }
    },
    {
      "cell_type": "code",
      "execution_count": 1,
      "metadata": {
        "id": "fLJXu-QQWm2l"
      },
      "outputs": [],
      "source": [
        "#sdcds\n",
        "import tensorflow as tf"
      ]
    },
    {
      "cell_type": "markdown",
      "source": [
        "# Exercise 2:\n",
        "Replicate the model pictured in the TensorFlow Playground diagram below using TensorFlow code. Compile it using the Adam optimizer, binary crossentropy loss and accuracy metric. Once it's compiled check a summary of the model."
      ],
      "metadata": {
        "id": "16RY6b9VYJ5v"
      }
    },
    {
      "cell_type": "code",
      "source": [],
      "metadata": {
        "id": "rVO3yLf1YWBe"
      },
      "execution_count": null,
      "outputs": []
    },
    {
      "cell_type": "markdown",
      "source": [
        "# Exercise 3:\n",
        "Create a classification dataset using Scikit-Learn's make_moons() function, visualize it and then build a model to fit it at over 85% accuracy."
      ],
      "metadata": {
        "id": "VTpMkI3JYV-W"
      }
    },
    {
      "cell_type": "code",
      "source": [],
      "metadata": {
        "id": "Z1j02_6yYV7e"
      },
      "execution_count": null,
      "outputs": []
    },
    {
      "cell_type": "markdown",
      "source": [
        "# Exercise 4:\n",
        "Create a function (or write code) to visualize multiple image predictions for the fashion MNIST at the same time. Plot at least three different images and their prediciton labels at the same time. Hint: see the classifcation tutorial in the TensorFlow documentation for ideas."
      ],
      "metadata": {
        "id": "02mTbviNYV4n"
      }
    },
    {
      "cell_type": "code",
      "source": [],
      "metadata": {
        "id": "sGPeoD39YV1w"
      },
      "execution_count": null,
      "outputs": []
    },
    {
      "cell_type": "markdown",
      "source": [
        "#Exercise 5:\n",
        "Recreate TensorFlow's softmax activation function in your own code. Make sure it can accept a tensor and return that tensor after having the softmax function applied to it."
      ],
      "metadata": {
        "id": "FJFwW0wxYVy5"
      }
    },
    {
      "cell_type": "code",
      "source": [],
      "metadata": {
        "id": "EKH9dCm-YVwB"
      },
      "execution_count": null,
      "outputs": []
    },
    {
      "cell_type": "markdown",
      "source": [
        "# Exercise 6:\n",
        "Train a model to get 88%+ accuracy on the fashion MNIST test set. Plot a confusion matrix to see the results after."
      ],
      "metadata": {
        "id": "U5Co-PcgYVtK"
      }
    },
    {
      "cell_type": "code",
      "source": [],
      "metadata": {
        "id": "jbqnUMeeYVqS"
      },
      "execution_count": null,
      "outputs": []
    },
    {
      "cell_type": "markdown",
      "source": [
        "# Exercise 7:\n",
        " Make a function to show an image of a certain class of the fashion MNIST dataset and make a prediction on it. For example, plot 3 images of the T-shirt class with their predictions."
      ],
      "metadata": {
        "id": "SubaYfbDYVnb"
      }
    },
    {
      "cell_type": "code",
      "source": [],
      "metadata": {
        "id": "hhrEjI1VYVk1"
      },
      "execution_count": null,
      "outputs": []
    },
    {
      "cell_type": "code",
      "source": [],
      "metadata": {
        "id": "2hyCy5QjYViP"
      },
      "execution_count": null,
      "outputs": []
    },
    {
      "cell_type": "code",
      "source": [],
      "metadata": {
        "id": "FWJEJxjMYVfW"
      },
      "execution_count": null,
      "outputs": []
    },
    {
      "cell_type": "code",
      "source": [],
      "metadata": {
        "id": "OQoVOP0eYVcf"
      },
      "execution_count": null,
      "outputs": []
    },
    {
      "cell_type": "code",
      "source": [],
      "metadata": {
        "id": "YSISEyVzYVZY"
      },
      "execution_count": null,
      "outputs": []
    },
    {
      "cell_type": "code",
      "source": [],
      "metadata": {
        "id": "gGwOzRlRYVVf"
      },
      "execution_count": null,
      "outputs": []
    }
  ]
}