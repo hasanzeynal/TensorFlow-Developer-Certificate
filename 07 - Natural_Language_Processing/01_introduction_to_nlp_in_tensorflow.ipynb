{
 "cells": [
  {
   "cell_type": "markdown",
   "id": "95f4594e",
   "metadata": {},
   "source": [
    "## Let's start by download a text dataset. We'll be using the Real or Not? dataset from Kaggle which contains text-based Tweets about natural disasters.\n",
    "\n",
    "The Real Tweets are actually about disasters."
   ]
  },
  {
   "cell_type": "code",
   "execution_count": 136,
   "id": "3a011fae",
   "metadata": {},
   "outputs": [],
   "source": [
    "#ignore all warnings\n",
    "import warnings\n",
    "warnings.filterwarnings(action='ignore')\n",
    "\n",
    "#importing libraries\n",
    "import tensorflow as tf\n",
    "import tensorflow_hub as hub\n",
    "import pandas as pd\n",
    "import numpy as np\n",
    "import seaborn as sns\n",
    "import matplotlib.pyplot as plt\n",
    "import matplotlib as mpl\n",
    "\n",
    "from keras.preprocessing.sequence import pad_sequences\n",
    "from keras.preprocessing.text import Tokenizer\n",
    "from sklearn.model_selection import train_test_split\n",
    "from sklearn.pipeline import Pipeline as PP\n",
    "from sklearn.feature_extraction.text import TfidfVectorizer\n",
    "from sklearn.naive_bayes import MultinomialNB\n",
    "from sklearn.metrics import accuracy_score, f1_score, recall_score, precision_score"
   ]
  },
  {
   "cell_type": "code",
   "execution_count": 2,
   "id": "d6b1f588",
   "metadata": {},
   "outputs": [
    {
     "name": "stdout",
     "output_type": "stream",
     "text": [
      "Defaulting to user installation because normal site-packages is not writeable\n",
      "Requirement already satisfied: tensorflow_hub in c:\\users\\zeynalovaf\\appdata\\roaming\\python\\python39\\site-packages (0.14.0)\n",
      "Requirement already satisfied: protobuf>=3.19.6 in c:\\users\\zeynalovaf\\appdata\\roaming\\python\\python39\\site-packages (from tensorflow_hub) (4.24.0)\n",
      "Requirement already satisfied: numpy>=1.12.0 in c:\\users\\zeynalovaf\\appdata\\roaming\\python\\python39\\site-packages (from tensorflow_hub) (1.24.3)\n",
      "Note: you may need to restart the kernel to use updated packages.\n"
     ]
    }
   ],
   "source": [
    "pip install tensorflow_hub"
   ]
  },
  {
   "cell_type": "code",
   "execution_count": 3,
   "id": "c2c9f15a",
   "metadata": {},
   "outputs": [
    {
     "data": {
      "text/html": [
       "<div>\n",
       "<style scoped>\n",
       "    .dataframe tbody tr th:only-of-type {\n",
       "        vertical-align: middle;\n",
       "    }\n",
       "\n",
       "    .dataframe tbody tr th {\n",
       "        vertical-align: top;\n",
       "    }\n",
       "\n",
       "    .dataframe thead th {\n",
       "        text-align: right;\n",
       "    }\n",
       "</style>\n",
       "<table border=\"1\" class=\"dataframe\">\n",
       "  <thead>\n",
       "    <tr style=\"text-align: right;\">\n",
       "      <th></th>\n",
       "      <th>id</th>\n",
       "      <th>keyword</th>\n",
       "      <th>location</th>\n",
       "      <th>text</th>\n",
       "      <th>target</th>\n",
       "    </tr>\n",
       "  </thead>\n",
       "  <tbody>\n",
       "    <tr>\n",
       "      <th>0</th>\n",
       "      <td>1</td>\n",
       "      <td>NaN</td>\n",
       "      <td>NaN</td>\n",
       "      <td>Our Deeds are the Reason of this #earthquake M...</td>\n",
       "      <td>1</td>\n",
       "    </tr>\n",
       "    <tr>\n",
       "      <th>1</th>\n",
       "      <td>4</td>\n",
       "      <td>NaN</td>\n",
       "      <td>NaN</td>\n",
       "      <td>Forest fire near La Ronge Sask. Canada</td>\n",
       "      <td>1</td>\n",
       "    </tr>\n",
       "    <tr>\n",
       "      <th>2</th>\n",
       "      <td>5</td>\n",
       "      <td>NaN</td>\n",
       "      <td>NaN</td>\n",
       "      <td>All residents asked to 'shelter in place' are ...</td>\n",
       "      <td>1</td>\n",
       "    </tr>\n",
       "    <tr>\n",
       "      <th>3</th>\n",
       "      <td>6</td>\n",
       "      <td>NaN</td>\n",
       "      <td>NaN</td>\n",
       "      <td>13,000 people receive #wildfires evacuation or...</td>\n",
       "      <td>1</td>\n",
       "    </tr>\n",
       "    <tr>\n",
       "      <th>4</th>\n",
       "      <td>7</td>\n",
       "      <td>NaN</td>\n",
       "      <td>NaN</td>\n",
       "      <td>Just got sent this photo from Ruby #Alaska as ...</td>\n",
       "      <td>1</td>\n",
       "    </tr>\n",
       "  </tbody>\n",
       "</table>\n",
       "</div>"
      ],
      "text/plain": [
       "   id keyword location                                               text  \\\n",
       "0   1     NaN      NaN  Our Deeds are the Reason of this #earthquake M...   \n",
       "1   4     NaN      NaN             Forest fire near La Ronge Sask. Canada   \n",
       "2   5     NaN      NaN  All residents asked to 'shelter in place' are ...   \n",
       "3   6     NaN      NaN  13,000 people receive #wildfires evacuation or...   \n",
       "4   7     NaN      NaN  Just got sent this photo from Ruby #Alaska as ...   \n",
       "\n",
       "   target  \n",
       "0       1  \n",
       "1       1  \n",
       "2       1  \n",
       "3       1  \n",
       "4       1  "
      ]
     },
     "execution_count": 3,
     "metadata": {},
     "output_type": "execute_result"
    }
   ],
   "source": [
    "train_df = pd.read_csv('train.csv')\n",
    "train_df.head()"
   ]
  },
  {
   "cell_type": "code",
   "execution_count": 4,
   "id": "4cb30d54",
   "metadata": {},
   "outputs": [
    {
     "data": {
      "text/html": [
       "<div>\n",
       "<style scoped>\n",
       "    .dataframe tbody tr th:only-of-type {\n",
       "        vertical-align: middle;\n",
       "    }\n",
       "\n",
       "    .dataframe tbody tr th {\n",
       "        vertical-align: top;\n",
       "    }\n",
       "\n",
       "    .dataframe thead th {\n",
       "        text-align: right;\n",
       "    }\n",
       "</style>\n",
       "<table border=\"1\" class=\"dataframe\">\n",
       "  <thead>\n",
       "    <tr style=\"text-align: right;\">\n",
       "      <th></th>\n",
       "      <th>id</th>\n",
       "      <th>keyword</th>\n",
       "      <th>location</th>\n",
       "      <th>text</th>\n",
       "    </tr>\n",
       "  </thead>\n",
       "  <tbody>\n",
       "    <tr>\n",
       "      <th>0</th>\n",
       "      <td>0</td>\n",
       "      <td>NaN</td>\n",
       "      <td>NaN</td>\n",
       "      <td>Just happened a terrible car crash</td>\n",
       "    </tr>\n",
       "    <tr>\n",
       "      <th>1</th>\n",
       "      <td>2</td>\n",
       "      <td>NaN</td>\n",
       "      <td>NaN</td>\n",
       "      <td>Heard about #earthquake is different cities, s...</td>\n",
       "    </tr>\n",
       "    <tr>\n",
       "      <th>2</th>\n",
       "      <td>3</td>\n",
       "      <td>NaN</td>\n",
       "      <td>NaN</td>\n",
       "      <td>there is a forest fire at spot pond, geese are...</td>\n",
       "    </tr>\n",
       "    <tr>\n",
       "      <th>3</th>\n",
       "      <td>9</td>\n",
       "      <td>NaN</td>\n",
       "      <td>NaN</td>\n",
       "      <td>Apocalypse lighting. #Spokane #wildfires</td>\n",
       "    </tr>\n",
       "    <tr>\n",
       "      <th>4</th>\n",
       "      <td>11</td>\n",
       "      <td>NaN</td>\n",
       "      <td>NaN</td>\n",
       "      <td>Typhoon Soudelor kills 28 in China and Taiwan</td>\n",
       "    </tr>\n",
       "  </tbody>\n",
       "</table>\n",
       "</div>"
      ],
      "text/plain": [
       "   id keyword location                                               text\n",
       "0   0     NaN      NaN                 Just happened a terrible car crash\n",
       "1   2     NaN      NaN  Heard about #earthquake is different cities, s...\n",
       "2   3     NaN      NaN  there is a forest fire at spot pond, geese are...\n",
       "3   9     NaN      NaN           Apocalypse lighting. #Spokane #wildfires\n",
       "4  11     NaN      NaN      Typhoon Soudelor kills 28 in China and Taiwan"
      ]
     },
     "execution_count": 4,
     "metadata": {},
     "output_type": "execute_result"
    }
   ],
   "source": [
    "test_df = pd.read_csv('test.csv')\n",
    "test_df.head()"
   ]
  },
  {
   "cell_type": "code",
   "execution_count": 5,
   "id": "2fc221d2",
   "metadata": {},
   "outputs": [
    {
     "data": {
      "text/plain": [
       "(7613, 5)"
      ]
     },
     "execution_count": 5,
     "metadata": {},
     "output_type": "execute_result"
    }
   ],
   "source": [
    "train_df.shape"
   ]
  },
  {
   "cell_type": "code",
   "execution_count": 6,
   "id": "1503a472",
   "metadata": {},
   "outputs": [],
   "source": [
    "#we are gonna work on training data so lets's get split it to the training and validation set\n",
    "train_sentences,val_sentences,train_labels,val_labels = train_test_split(train_df['text'].to_numpy(),\n",
    "                                                                         train_df['target'].to_numpy(),\n",
    "                                                                         test_size= 0.2, # 20% of data gonna be used for testing\n",
    "                                                                         random_state= 42)"
   ]
  },
  {
   "cell_type": "markdown",
   "id": "5bef6517",
   "metadata": {},
   "source": [
    "# Converting text to numbers\n",
    "There are 2 ways to turn text to numbers\n",
    "1. Tokenization\n",
    "* Word-Level Tokenization\n",
    "* Character Level Tokenization\n",
    "* Sub-Word Tokenization\n",
    "2. Embedding\n",
    "* Use ( sucs as tf.keras.layers.Embedding) to create new Embedding\n",
    "* Or use pre-learned Embedding"
   ]
  },
  {
   "cell_type": "code",
   "execution_count": 7,
   "id": "fcb0d3c4",
   "metadata": {},
   "outputs": [],
   "source": [
    "#let's create text vectorizer\n",
    "text_vectorizer = tf.keras.layers.TextVectorization(max_tokens=None,\n",
    "                                                    standardize='lower_and_strip_punctuation',\n",
    "                                                    split='whitespace',\n",
    "                                                    ngrams=None,\n",
    "                                                    output_mode='int',\n",
    "                                                    output_sequence_length=None,\n",
    "                                                    pad_to_max_tokens=False)"
   ]
  },
  {
   "cell_type": "code",
   "execution_count": 8,
   "id": "8a6395cc",
   "metadata": {},
   "outputs": [],
   "source": [
    "#fit the text vectorizer to the train sentences\n",
    "text_vectorizer.adapt(train_sentences)"
   ]
  },
  {
   "cell_type": "code",
   "execution_count": 9,
   "id": "e0cc6c0b",
   "metadata": {},
   "outputs": [
    {
     "data": {
      "text/plain": [
       "('Courageous and honest analysis of need to use Atomic Bomb in 1945. #Hiroshima70 Japanese military refused surrender. https://t.co/VhmtyTptGR',\n",
       " <tf.Tensor: shape=(1, 18), dtype=int64, numpy=\n",
       " array([[17198,     8,  4962,  2917,     6,   156,     5,   438,   216,\n",
       "           118,     4,  2377,  4973,  1177,   240,  4381,  4119, 14803]],\n",
       "       dtype=int64)>)"
      ]
     },
     "execution_count": 9,
     "metadata": {},
     "output_type": "execute_result"
    }
   ],
   "source": [
    "sample_sentence = train_sentences[0]\n",
    "sample_sentence, text_vectorizer([sample_sentence])"
   ]
  },
  {
   "cell_type": "markdown",
   "id": "965f5ea7",
   "metadata": {},
   "source": [
    "# It is time to build a model and specifically, we'll be building the following:\n",
    "\n",
    "- Model 0: Naive Bayes (baseline)\n",
    "- Model 1: Feed-forward neural network (dense model)\n",
    "- Model 2: LSTM model\n",
    "- Model 3: GRU model\n",
    "- Model 4: Bidirectional-LSTM model\n",
    "- Model 5: 1D Convolutional Neural Network\n",
    "- Model 6: TensorFlow Hub Pretrained Feature Extractor\n",
    "- Model 7: Same as model 6 with 10% of training data"
   ]
  },
  {
   "cell_type": "markdown",
   "id": "803411e4",
   "metadata": {},
   "source": [
    "# Model 0: Baseline Model"
   ]
  },
  {
   "cell_type": "code",
   "execution_count": 10,
   "id": "ba784585",
   "metadata": {},
   "outputs": [
    {
     "data": {
      "text/plain": [
       "Pipeline(steps=[('tdf', TfidfVectorizer()), ('clf', MultinomialNB())])"
      ]
     },
     "execution_count": 10,
     "metadata": {},
     "output_type": "execute_result"
    }
   ],
   "source": [
    "#create the model\n",
    "model_0 = PP(steps=[\n",
    "    ('tdf', TfidfVectorizer()), #convert text to numbers using tfidfvectorizer\n",
    "    ('clf', MultinomialNB())    #model the text\n",
    "])\n",
    "\n",
    "#fit the model\n",
    "model_0.fit(train_sentences,train_labels)"
   ]
  },
  {
   "cell_type": "code",
   "execution_count": 11,
   "id": "78af750c",
   "metadata": {},
   "outputs": [
    {
     "name": "stdout",
     "output_type": "stream",
     "text": [
      "The Accuracy Score of Baseline model is 79.97%\n"
     ]
    }
   ],
   "source": [
    "#let's look at the score\n",
    "model_0_score = model_0.score(val_sentences,val_labels)\n",
    "print(f'The Accuracy Score of Baseline model is {round(model_0_score * 100,2)}%')"
   ]
  },
  {
   "cell_type": "code",
   "execution_count": 12,
   "id": "99e78583",
   "metadata": {},
   "outputs": [],
   "source": [
    "model_0_predictions = model_0.predict(val_sentences)"
   ]
  },
  {
   "cell_type": "code",
   "execution_count": 13,
   "id": "6bb486b8",
   "metadata": {},
   "outputs": [],
   "source": [
    "#let's create function to see our model all results (accuracy, presicion,f1, recall)\n",
    "def calculate_metrics(y_true, y_pred):\n",
    "    model_results = { \n",
    "        'accuracy': round(accuracy_score(y_true,y_pred),2),\n",
    "        'recall': round(recall_score(y_true,y_pred),2),\n",
    "        'precision': round(precision_score(y_true,y_pred),2),\n",
    "        'f1_score': round(f1_score(y_true,y_pred)*100,2),\n",
    "    }\n",
    "    return model_results"
   ]
  },
  {
   "cell_type": "code",
   "execution_count": 14,
   "id": "7812e422",
   "metadata": {},
   "outputs": [
    {
     "data": {
      "text/plain": [
       "{'accuracy': 0.8, 'recall': 0.63, 'precision': 0.86, 'f1_score': 72.84}"
      ]
     },
     "execution_count": 14,
     "metadata": {},
     "output_type": "execute_result"
    }
   ],
   "source": [
    "calculate_metrics(val_labels, model_0_predictions)"
   ]
  },
  {
   "cell_type": "markdown",
   "id": "6e6e9e0f",
   "metadata": {},
   "source": [
    "# Model 1: Simple Dense Model"
   ]
  },
  {
   "cell_type": "code",
   "execution_count": 22,
   "id": "2b5b12d7",
   "metadata": {},
   "outputs": [
    {
     "name": "stdout",
     "output_type": "stream",
     "text": [
      "Epoch 1/10\n",
      "12/12 [==============================] - 12s 961ms/step - loss: 0.5773 - accuracy: 0.7118 - val_loss: 0.4657 - val_accuracy: 0.7932\n",
      "Epoch 2/10\n",
      "12/12 [==============================] - 10s 856ms/step - loss: 0.2881 - accuracy: 0.8837 - val_loss: 0.5113 - val_accuracy: 0.7886\n",
      "Epoch 3/10\n",
      "12/12 [==============================] - 16s 1s/step - loss: 0.1217 - accuracy: 0.9581 - val_loss: 0.6907 - val_accuracy: 0.7663\n",
      "Epoch 4/10\n",
      "12/12 [==============================] - 15s 1s/step - loss: 0.0530 - accuracy: 0.9826 - val_loss: 0.8715 - val_accuracy: 0.7656\n",
      "Epoch 5/10\n",
      "12/12 [==============================] - 15s 1s/step - loss: 0.0312 - accuracy: 0.9882 - val_loss: 1.0089 - val_accuracy: 0.7584\n",
      "Epoch 6/10\n",
      "12/12 [==============================] - 11s 925ms/step - loss: 0.0232 - accuracy: 0.9924 - val_loss: 1.0812 - val_accuracy: 0.7663\n",
      "Epoch 7/10\n",
      "12/12 [==============================] - 10s 836ms/step - loss: 0.0201 - accuracy: 0.9924 - val_loss: 1.1150 - val_accuracy: 0.7551\n",
      "Epoch 8/10\n",
      "12/12 [==============================] - 12s 1s/step - loss: 0.0159 - accuracy: 0.9936 - val_loss: 1.1428 - val_accuracy: 0.7610\n",
      "Epoch 9/10\n",
      "12/12 [==============================] - 13s 1s/step - loss: 0.0123 - accuracy: 0.9947 - val_loss: 1.1903 - val_accuracy: 0.7584\n",
      "Epoch 10/10\n",
      "12/12 [==============================] - 10s 804ms/step - loss: 0.0103 - accuracy: 0.9956 - val_loss: 1.2407 - val_accuracy: 0.7597\n"
     ]
    }
   ],
   "source": [
    "#create the model\n",
    "embedding = \"https://tfhub.dev/google/nnlm-en-dim50/2\"\n",
    "hub_layer = hub.KerasLayer(embedding,\n",
    "                           input_shape = [],\n",
    "                           dtype = tf.string,\n",
    "                           trainable = True)\n",
    "\n",
    "model_1 = tf.keras.models.Sequential([\n",
    "    hub_layer,\n",
    "    tf.keras.layers.Dense(16, activation='relu'),\n",
    "    tf.keras.layers.Dense(1,activation = 'sigmoid')\n",
    "])\n",
    "\n",
    "\n",
    "#compile the model\n",
    "model_1.compile(loss = tf.keras.losses.BinaryCrossentropy(from_logits=True),\n",
    "               optimizer = tf.keras.optimizers.Adam(learning_rate = 0.01),\n",
    "               metrics = ['accuracy'])\n",
    "\n",
    "#fit the model\n",
    "model_1_history = model_1.fit(train_sentences,\n",
    "                              train_labels,\n",
    "                              batch_size = 512,\n",
    "                              epochs= 10,\n",
    "                              validation_data=(val_sentences,val_labels))\n"
   ]
  },
  {
   "cell_type": "code",
   "execution_count": 23,
   "id": "1ecc371f",
   "metadata": {},
   "outputs": [
    {
     "data": {
      "text/plain": [
       "<Figure size 1600x900 with 0 Axes>"
      ]
     },
     "metadata": {},
     "output_type": "display_data"
    },
    {
     "data": {
      "image/png": "[encoded data removed]",
      "text/plain": [
       "<Figure size 640x480 with 1 Axes>"
      ]
     },
     "metadata": {},
     "output_type": "display_data"
    },
    {
     "data": {
      "image/png": "[encoded data removed]",
      "text/plain": [
       "<Figure size 640x480 with 1 Axes>"
      ]
     },
     "metadata": {},
     "output_type": "display_data"
    }
   ],
   "source": [
    "plt.figure(figsize=(16,9))\n",
    "pd.DataFrame(model_1_history.history)[['loss','val_loss']].plot()\n",
    "pd.DataFrame(model_1_history.history)[['accuracy','val_accuracy']].plot()\n",
    "plt.show()"
   ]
  },
  {
   "cell_type": "code",
   "execution_count": 24,
   "id": "77438dd3",
   "metadata": {},
   "outputs": [
    {
     "data": {
      "text/plain": [
       "(array(['So you have a new weapon that can cause un-imaginable destruction.',\n",
       "        'The f$&amp;@ing things I do for #GISHWHES Just got soaked in a deluge going for pads and tampons. Thx @mishacollins @/@',\n",
       "        'DT @georgegalloway: RT @Galloway4Mayor: \\x89ÛÏThe CoL police can catch a pickpocket in Liverpool Stree... http://t.co/vXIn1gOq4Q',\n",
       "        ...,\n",
       "        'Man charged over fatal crash near Dubbo refused bail http://t.co/HDBMfOVUtZ via @dailyliberal',\n",
       "        '#usNWSgov Severe Weather Statement issued August 05 at 10:38PM EDT by NWS: ...THE SEVERE THUNDERSTORM WARNING ... http://t.co/7HuEN4rWrn',\n",
       "        \"Great British &lt;b&gt;Bake&lt;/b&gt; Off's back and Dorret's &lt;b&gt;chocolate&lt;/b&gt; gateau collapsed - JAN\\x89Û_ http://t.co/53LORsrGqf\"],\n",
       "       dtype=object),\n",
       " array([1, 0, 1, ..., 1, 1, 0], dtype=int64))"
      ]
     },
     "execution_count": 24,
     "metadata": {},
     "output_type": "execute_result"
    }
   ],
   "source": [
    "val_sentences,val_labels"
   ]
  },
  {
   "cell_type": "code",
   "execution_count": 25,
   "id": "18a4a7f0",
   "metadata": {},
   "outputs": [
    {
     "name": "stdout",
     "output_type": "stream",
     "text": [
      "48/48 [==============================] - 4s 76ms/step\n"
     ]
    }
   ],
   "source": [
    "predictions_1 = model_1.predict(val_sentences)"
   ]
  },
  {
   "cell_type": "code",
   "execution_count": 85,
   "id": "47ec6993",
   "metadata": {},
   "outputs": [
    {
     "data": {
      "text/html": [
       "<div>\n",
       "<style scoped>\n",
       "    .dataframe tbody tr th:only-of-type {\n",
       "        vertical-align: middle;\n",
       "    }\n",
       "\n",
       "    .dataframe tbody tr th {\n",
       "        vertical-align: top;\n",
       "    }\n",
       "\n",
       "    .dataframe thead th {\n",
       "        text-align: right;\n",
       "    }\n",
       "</style>\n",
       "<table border=\"1\" class=\"dataframe\">\n",
       "  <thead>\n",
       "    <tr style=\"text-align: right;\">\n",
       "      <th></th>\n",
       "      <th>Real Labels</th>\n",
       "      <th>Predictions</th>\n",
       "      <th>Validation_Sentences</th>\n",
       "    </tr>\n",
       "  </thead>\n",
       "  <tbody>\n",
       "    <tr>\n",
       "      <th>0</th>\n",
       "      <td>1</td>\n",
       "      <td>0</td>\n",
       "      <td>So you have a new weapon that can cause un-ima...</td>\n",
       "    </tr>\n",
       "    <tr>\n",
       "      <th>1</th>\n",
       "      <td>0</td>\n",
       "      <td>0</td>\n",
       "      <td>The f$&amp;amp;@ing things I do for #GISHWHES Just...</td>\n",
       "    </tr>\n",
       "    <tr>\n",
       "      <th>2</th>\n",
       "      <td>1</td>\n",
       "      <td>0</td>\n",
       "      <td>DT @georgegalloway: RT @Galloway4Mayor: ÛÏThe...</td>\n",
       "    </tr>\n",
       "    <tr>\n",
       "      <th>3</th>\n",
       "      <td>0</td>\n",
       "      <td>0</td>\n",
       "      <td>Aftershock back to school kick off was great. ...</td>\n",
       "    </tr>\n",
       "    <tr>\n",
       "      <th>4</th>\n",
       "      <td>0</td>\n",
       "      <td>0</td>\n",
       "      <td>in response to trauma Children of Addicts deve...</td>\n",
       "    </tr>\n",
       "    <tr>\n",
       "      <th>5</th>\n",
       "      <td>0</td>\n",
       "      <td>0</td>\n",
       "      <td>@Calum5SOS you look like you got caught in a r...</td>\n",
       "    </tr>\n",
       "    <tr>\n",
       "      <th>6</th>\n",
       "      <td>1</td>\n",
       "      <td>0</td>\n",
       "      <td>my favorite lady came to our volunteer meeting...</td>\n",
       "    </tr>\n",
       "    <tr>\n",
       "      <th>7</th>\n",
       "      <td>1</td>\n",
       "      <td>0</td>\n",
       "      <td>@brianroemmele UX fail of EMV - people want to...</td>\n",
       "    </tr>\n",
       "    <tr>\n",
       "      <th>8</th>\n",
       "      <td>0</td>\n",
       "      <td>1</td>\n",
       "      <td>Can't find my ariana grande shirt  this is a f...</td>\n",
       "    </tr>\n",
       "    <tr>\n",
       "      <th>9</th>\n",
       "      <td>1</td>\n",
       "      <td>1</td>\n",
       "      <td>The Murderous Story Of AmericaÛªs First Hijac...</td>\n",
       "    </tr>\n",
       "    <tr>\n",
       "      <th>10</th>\n",
       "      <td>1</td>\n",
       "      <td>1</td>\n",
       "      <td>AKILAH WORLD NEWS Cop pulls man from car to av...</td>\n",
       "    </tr>\n",
       "    <tr>\n",
       "      <th>11</th>\n",
       "      <td>0</td>\n",
       "      <td>1</td>\n",
       "      <td>We walk the plank of a sinking ship</td>\n",
       "    </tr>\n",
       "    <tr>\n",
       "      <th>12</th>\n",
       "      <td>0</td>\n",
       "      <td>0</td>\n",
       "      <td>@Zak_Bagans pets r like part of the family. I ...</td>\n",
       "    </tr>\n",
       "    <tr>\n",
       "      <th>13</th>\n",
       "      <td>0</td>\n",
       "      <td>0</td>\n",
       "      <td>ON THE USE OF PERFORATED METAL SHEAR PANEL SFO...</td>\n",
       "    </tr>\n",
       "    <tr>\n",
       "      <th>14</th>\n",
       "      <td>0</td>\n",
       "      <td>0</td>\n",
       "      <td>The answer my friend is yelling in the wind-my...</td>\n",
       "    </tr>\n",
       "    <tr>\n",
       "      <th>15</th>\n",
       "      <td>0</td>\n",
       "      <td>0</td>\n",
       "      <td>Woman electrocuted #Red #Redblood #videoclip h...</td>\n",
       "    </tr>\n",
       "    <tr>\n",
       "      <th>16</th>\n",
       "      <td>0</td>\n",
       "      <td>1</td>\n",
       "      <td>Who is bringing the tornadoes and floods. Who ...</td>\n",
       "    </tr>\n",
       "    <tr>\n",
       "      <th>17</th>\n",
       "      <td>0</td>\n",
       "      <td>0</td>\n",
       "      <td>So these savages leaked Thomas Brady gangsterm...</td>\n",
       "    </tr>\n",
       "    <tr>\n",
       "      <th>18</th>\n",
       "      <td>1</td>\n",
       "      <td>1</td>\n",
       "      <td>Malaysia Airlines Flight 370 that Disappeared ...</td>\n",
       "    </tr>\n",
       "    <tr>\n",
       "      <th>19</th>\n",
       "      <td>0</td>\n",
       "      <td>0</td>\n",
       "      <td>People are finally panicking about cable TV ht...</td>\n",
       "    </tr>\n",
       "  </tbody>\n",
       "</table>\n",
       "</div>"
      ],
      "text/plain": [
       "    Real Labels  Predictions  \\\n",
       "0             1            0   \n",
       "1             0            0   \n",
       "2             1            0   \n",
       "3             0            0   \n",
       "4             0            0   \n",
       "5             0            0   \n",
       "6             1            0   \n",
       "7             1            0   \n",
       "8             0            1   \n",
       "9             1            1   \n",
       "10            1            1   \n",
       "11            0            1   \n",
       "12            0            0   \n",
       "13            0            0   \n",
       "14            0            0   \n",
       "15            0            0   \n",
       "16            0            1   \n",
       "17            0            0   \n",
       "18            1            1   \n",
       "19            0            0   \n",
       "\n",
       "                                 Validation_Sentences  \n",
       "0   So you have a new weapon that can cause un-ima...  \n",
       "1   The f$&amp;@ing things I do for #GISHWHES Just...  \n",
       "2   DT @georgegalloway: RT @Galloway4Mayor: ÛÏThe...  \n",
       "3   Aftershock back to school kick off was great. ...  \n",
       "4   in response to trauma Children of Addicts deve...  \n",
       "5   @Calum5SOS you look like you got caught in a r...  \n",
       "6   my favorite lady came to our volunteer meeting...  \n",
       "7   @brianroemmele UX fail of EMV - people want to...  \n",
       "8   Can't find my ariana grande shirt  this is a f...  \n",
       "9   The Murderous Story Of AmericaÛªs First Hijac...  \n",
       "10  AKILAH WORLD NEWS Cop pulls man from car to av...  \n",
       "11                We walk the plank of a sinking ship  \n",
       "12  @Zak_Bagans pets r like part of the family. I ...  \n",
       "13  ON THE USE OF PERFORATED METAL SHEAR PANEL SFO...  \n",
       "14  The answer my friend is yelling in the wind-my...  \n",
       "15  Woman electrocuted #Red #Redblood #videoclip h...  \n",
       "16  Who is bringing the tornadoes and floods. Who ...  \n",
       "17  So these savages leaked Thomas Brady gangsterm...  \n",
       "18  Malaysia Airlines Flight 370 that Disappeared ...  \n",
       "19  People are finally panicking about cable TV ht...  "
      ]
     },
     "execution_count": 85,
     "metadata": {},
     "output_type": "execute_result"
    }
   ],
   "source": [
    "#let's see results(is there overfitting?)\n",
    "df_1 = pd.DataFrame(list(zip(val_labels[:20],predictions_1[:20])),columns=['Real Labels','Predictions'])\n",
    "df_1['Predictions'] = df_1['Predictions'].apply(lambda x:round(x[0]))\n",
    "df_1['Validation_Sentences'] = val_sentences[:20]\n",
    "df_1"
   ]
  },
  {
   "cell_type": "code",
   "execution_count": 90,
   "id": "23f8b6b3",
   "metadata": {},
   "outputs": [
    {
     "data": {
      "text/plain": [
       "\"Can't find my ariana grande shirt  this is a fucking tragedy\""
      ]
     },
     "execution_count": 90,
     "metadata": {},
     "output_type": "execute_result"
    }
   ],
   "source": [
    "val_sentences[8]"
   ]
  },
  {
   "cell_type": "markdown",
   "id": "7b4c6a43",
   "metadata": {},
   "source": [
    "## Model 2: LSTM Model"
   ]
  },
  {
   "cell_type": "code",
   "execution_count": 137,
   "id": "0383fc2a",
   "metadata": {},
   "outputs": [],
   "source": [
    "#let's change train sentence to the numbers\n",
    "vectorized_train_sentences = text_vectorizer(train_sentences)\n",
    "vectorized_val_sentences = text_vectorizer(val_sentences)\n",
    "\n",
    "# Create a tokenizer\n",
    "tokenizer = Tokenizer()\n",
    "tokenizer.fit_on_texts(train_sentences)\n",
    "\n",
    "# Convert text sentences to integer sequences\n",
    "train_sequences = tokenizer.texts_to_sequences(train_sentences)\n",
    "val_sequences = tokenizer.texts_to_sequences(val_sentences)\n",
    "\n",
    "# Pad sequences to a fixed length (e.g., max_len)\n",
    "max_len = 100\n",
    "vectorized_train_sentences = pad_sequences(train_sequences, maxlen=max_len)\n",
    "vectorized_val_sentences = pad_sequences(val_sequences, maxlen=max_len)"
   ]
  },
  {
   "cell_type": "code",
   "execution_count": 155,
   "id": "5dcc6b71",
   "metadata": {},
   "outputs": [
    {
     "name": "stdout",
     "output_type": "stream",
     "text": [
      "Epoch 1/10\n",
      "191/191 [==============================] - 48s 203ms/step - loss: 0.6838 - accuracy: 0.5721 - val_loss: 0.6791 - val_accuracy: 0.5896\n",
      "Epoch 2/10\n",
      "191/191 [==============================] - 36s 190ms/step - loss: 0.6621 - accuracy: 0.6007 - val_loss: 0.6589 - val_accuracy: 0.6046\n",
      "Epoch 3/10\n",
      "191/191 [==============================] - 37s 194ms/step - loss: 0.6350 - accuracy: 0.6178 - val_loss: 0.6581 - val_accuracy: 0.6058\n",
      "Epoch 4/10\n",
      "191/191 [==============================] - 37s 192ms/step - loss: 0.6174 - accuracy: 0.6258 - val_loss: 0.6667 - val_accuracy: 0.6047\n",
      "Epoch 5/10\n",
      "191/191 [==============================] - 37s 191ms/step - loss: 0.6059 - accuracy: 0.6323 - val_loss: 0.6732 - val_accuracy: 0.6032\n",
      "Epoch 6/10\n",
      "191/191 [==============================] - 37s 196ms/step - loss: 0.5977 - accuracy: 0.6350 - val_loss: 0.6839 - val_accuracy: 0.6032\n",
      "Epoch 7/10\n",
      "191/191 [==============================] - 37s 193ms/step - loss: 0.5936 - accuracy: 0.6362 - val_loss: 0.6891 - val_accuracy: 0.6028\n",
      "Epoch 8/10\n",
      "191/191 [==============================] - 37s 192ms/step - loss: 0.5893 - accuracy: 0.6373 - val_loss: 0.6946 - val_accuracy: 0.6023\n",
      "Epoch 9/10\n",
      "191/191 [==============================] - 37s 192ms/step - loss: 0.5872 - accuracy: 0.6381 - val_loss: 0.7017 - val_accuracy: 0.6016\n",
      "Epoch 10/10\n",
      "191/191 [==============================] - 36s 188ms/step - loss: 0.5851 - accuracy: 0.6384 - val_loss: 0.7095 - val_accuracy: 0.6024\n"
     ]
    }
   ],
   "source": [
    "max_len = 100\n",
    "vocab_size = len(tokenizer.word_index) + 1\n",
    "\n",
    "#create lstm model\n",
    "model_2 = tf.keras.models.Sequential([\n",
    "    tf.keras.layers.Embedding(input_dim=vocab_size,output_dim=64,input_length=max_len),\n",
    "    tf.keras.layers.LSTM(8,return_sequences=True),\n",
    "    tf.keras.layers.Dropout(0.2),\n",
    "    tf.keras.layers.LSTM(16,return_sequences=True),\n",
    "    tf.keras.layers.Dropout(0.2),\n",
    "    tf.keras.layers.LSTM(8,return_sequences=True),\n",
    "    tf.keras.layers.Dense(1,activation='sigmoid')\n",
    "])\n",
    "\n",
    "#compile the model\n",
    "model_2.compile(loss = tf.keras.losses.BinaryCrossentropy(),\n",
    "                optimizer = tf.keras.optimizers.Adam(),\n",
    "                metrics = 'accuracy')\n",
    "\n",
    "#fit the model\n",
    "model_2_history = model_2.fit(x = vectorized_train_sentences,\n",
    "                              y = train_labels.reshape(-1,1),\n",
    "                              validation_data=(vectorized_val_sentences,val_labels.reshape(-1,1)),\n",
    "                              epochs =10\n",
    "                             )"
   ]
  },
  {
   "cell_type": "code",
   "execution_count": 168,
   "id": "f0afabf5",
   "metadata": {},
   "outputs": [],
   "source": [
    "def view_plots(history):\n",
    "    plt.figure(figsize=(16,9))\n",
    "    pd.DataFrame(history.history)[['loss','accuracy']].plot()\n",
    "    pd.DataFrame(history.history)[['val_loss','val_accuracy']].plot()\n",
    "    plt.show()"
   ]
  },
  {
   "cell_type": "code",
   "execution_count": 169,
   "id": "bc9501e4",
   "metadata": {},
   "outputs": [
    {
     "data": {
      "text/plain": [
       "<Figure size 1600x900 with 0 Axes>"
      ]
     },
     "metadata": {},
     "output_type": "display_data"
    },
    {
     "data": {
      "image/png": "[encoded data removed]",
      "text/plain": [
       "<Figure size 640x480 with 1 Axes>"
      ]
     },
     "metadata": {},
     "output_type": "display_data"
    },
    {
     "data": {
      "image/png": "[encoded data removed]",
      "text/plain": [
       "<Figure size 640x480 with 1 Axes>"
      ]
     },
     "metadata": {},
     "output_type": "display_data"
    }
   ],
   "source": [
    "view_plots(model_2_history)"
   ]
  },
  {
   "cell_type": "code",
   "execution_count": 176,
   "id": "3b604187",
   "metadata": {},
   "outputs": [],
   "source": [
    "def results(model):  \n",
    "    probabilities = model.predict(vectorized_val_sentences)\n",
    "    df = pd.DataFrame(list(zip(val_labels[:20],probabilities[:20])),columns=['Real Labels','Predictions'])\n",
    "    df['Predictions'] = df_1['Predictions'].apply(lambda x:round(x[0]))\n",
    "    df['Validation_Sentences'] = val_sentences[:20]\n",
    "    return df"
   ]
  },
  {
   "cell_type": "code",
   "execution_count": 179,
   "id": "d4b6245e",
   "metadata": {},
   "outputs": [
    {
     "name": "stdout",
     "output_type": "stream",
     "text": [
      "48/48 [==============================] - 1s 28ms/step\n"
     ]
    },
    {
     "data": {
      "text/plain": [
       "array([[[0.46859163],\n",
       "        [0.4573576 ],\n",
       "        [0.4524568 ],\n",
       "        ...,\n",
       "        [0.00644715],\n",
       "        [0.00554026],\n",
       "        [0.00513183]],\n",
       "\n",
       "       [[0.46859163],\n",
       "        [0.4573576 ],\n",
       "        [0.4524568 ],\n",
       "        ...,\n",
       "        [0.00494009],\n",
       "        [0.0054165 ],\n",
       "        [0.00503487]],\n",
       "\n",
       "       [[0.46859163],\n",
       "        [0.4573576 ],\n",
       "        [0.4524568 ],\n",
       "        ...,\n",
       "        [0.01659756],\n",
       "        [0.02089768],\n",
       "        [0.01994139]],\n",
       "\n",
       "       ...,\n",
       "\n",
       "       [[0.46859163],\n",
       "        [0.4573576 ],\n",
       "        [0.4524568 ],\n",
       "        ...,\n",
       "        [0.9856102 ],\n",
       "        [0.98815584],\n",
       "        [0.991574  ]],\n",
       "\n",
       "       [[0.46859163],\n",
       "        [0.4573576 ],\n",
       "        [0.4524568 ],\n",
       "        ...,\n",
       "        [0.99602515],\n",
       "        [0.9960786 ],\n",
       "        [0.9960792 ]],\n",
       "\n",
       "       [[0.46859163],\n",
       "        [0.4573576 ],\n",
       "        [0.4524568 ],\n",
       "        ...,\n",
       "        [0.9961161 ],\n",
       "        [0.9961382 ],\n",
       "        [0.9961419 ]]], dtype=float32)"
      ]
     },
     "execution_count": 179,
     "metadata": {},
     "output_type": "execute_result"
    }
   ],
   "source": [
    "probabilities = model_2.predict(vectorized_val_sentences)\n",
    "probabilities"
   ]
  },
  {
   "cell_type": "code",
   "execution_count": 180,
   "id": "64423c4e",
   "metadata": {},
   "outputs": [
    {
     "data": {
      "text/plain": [
       "array([[[0.46859163],\n",
       "        [0.4573576 ],\n",
       "        [0.4524568 ],\n",
       "        ...,\n",
       "        [0.00644715],\n",
       "        [0.00554026],\n",
       "        [0.00513183]],\n",
       "\n",
       "       [[0.46859163],\n",
       "        [0.4573576 ],\n",
       "        [0.4524568 ],\n",
       "        ...,\n",
       "        [0.00494009],\n",
       "        [0.0054165 ],\n",
       "        [0.00503487]],\n",
       "\n",
       "       [[0.46859163],\n",
       "        [0.4573576 ],\n",
       "        [0.4524568 ],\n",
       "        ...,\n",
       "        [0.01659756],\n",
       "        [0.02089768],\n",
       "        [0.01994139]],\n",
       "\n",
       "       ...,\n",
       "\n",
       "       [[0.46859163],\n",
       "        [0.4573576 ],\n",
       "        [0.4524568 ],\n",
       "        ...,\n",
       "        [0.00483358],\n",
       "        [0.0048107 ],\n",
       "        [0.00463849]],\n",
       "\n",
       "       [[0.46859163],\n",
       "        [0.4573576 ],\n",
       "        [0.4524568 ],\n",
       "        ...,\n",
       "        [0.9960423 ],\n",
       "        [0.9960892 ],\n",
       "        [0.9960909 ]],\n",
       "\n",
       "       [[0.46859163],\n",
       "        [0.4573576 ],\n",
       "        [0.4524568 ],\n",
       "        ...,\n",
       "        [0.00506455],\n",
       "        [0.00525408],\n",
       "        [0.00524523]]], dtype=float32)"
      ]
     },
     "execution_count": 180,
     "metadata": {},
     "output_type": "execute_result"
    }
   ],
   "source": [
    "probabilities[:20]"
   ]
  },
  {
   "cell_type": "code",
   "execution_count": 177,
   "id": "cad53dc8",
   "metadata": {},
   "outputs": [
    {
     "name": "stdout",
     "output_type": "stream",
     "text": [
      "48/48 [==============================] - 1s 31ms/step\n"
     ]
    },
    {
     "ename": "TypeError",
     "evalue": "'int' object is not subscriptable",
     "output_type": "error",
     "traceback": [
      "\u001b[1;31m---------------------------------------------------------------------------\u001b[0m",
      "\u001b[1;31mTypeError\u001b[0m                                 Traceback (most recent call last)",
      "\u001b[1;32m~\\AppData\\Local\\Temp\\ipykernel_30468\\3999970328.py\u001b[0m in \u001b[0;36m<module>\u001b[1;34m\u001b[0m\n\u001b[1;32m----> 1\u001b[1;33m \u001b[0mresults\u001b[0m\u001b[1;33m(\u001b[0m\u001b[0mmodel_2\u001b[0m\u001b[1;33m)\u001b[0m\u001b[1;33m\u001b[0m\u001b[1;33m\u001b[0m\u001b[0m\n\u001b[0m",
      "\u001b[1;32m~\\AppData\\Local\\Temp\\ipykernel_30468\\237619972.py\u001b[0m in \u001b[0;36mresults\u001b[1;34m(model)\u001b[0m\n\u001b[0;32m      2\u001b[0m     \u001b[0mprobabilities\u001b[0m \u001b[1;33m=\u001b[0m \u001b[0mmodel\u001b[0m\u001b[1;33m.\u001b[0m\u001b[0mpredict\u001b[0m\u001b[1;33m(\u001b[0m\u001b[0mvectorized_val_sentences\u001b[0m\u001b[1;33m)\u001b[0m\u001b[1;33m\u001b[0m\u001b[1;33m\u001b[0m\u001b[0m\n\u001b[0;32m      3\u001b[0m     \u001b[0mdf\u001b[0m \u001b[1;33m=\u001b[0m \u001b[0mpd\u001b[0m\u001b[1;33m.\u001b[0m\u001b[0mDataFrame\u001b[0m\u001b[1;33m(\u001b[0m\u001b[0mlist\u001b[0m\u001b[1;33m(\u001b[0m\u001b[0mzip\u001b[0m\u001b[1;33m(\u001b[0m\u001b[0mval_labels\u001b[0m\u001b[1;33m[\u001b[0m\u001b[1;33m:\u001b[0m\u001b[1;36m20\u001b[0m\u001b[1;33m]\u001b[0m\u001b[1;33m,\u001b[0m\u001b[0mprobabilities\u001b[0m\u001b[1;33m[\u001b[0m\u001b[1;33m:\u001b[0m\u001b[1;36m20\u001b[0m\u001b[1;33m]\u001b[0m\u001b[1;33m)\u001b[0m\u001b[1;33m)\u001b[0m\u001b[1;33m,\u001b[0m\u001b[0mcolumns\u001b[0m\u001b[1;33m=\u001b[0m\u001b[1;33m[\u001b[0m\u001b[1;34m'Real Labels'\u001b[0m\u001b[1;33m,\u001b[0m\u001b[1;34m'Predictions'\u001b[0m\u001b[1;33m]\u001b[0m\u001b[1;33m)\u001b[0m\u001b[1;33m\u001b[0m\u001b[1;33m\u001b[0m\u001b[0m\n\u001b[1;32m----> 4\u001b[1;33m     \u001b[0mdf\u001b[0m\u001b[1;33m[\u001b[0m\u001b[1;34m'Predictions'\u001b[0m\u001b[1;33m]\u001b[0m \u001b[1;33m=\u001b[0m \u001b[0mdf_1\u001b[0m\u001b[1;33m[\u001b[0m\u001b[1;34m'Predictions'\u001b[0m\u001b[1;33m]\u001b[0m\u001b[1;33m.\u001b[0m\u001b[0mapply\u001b[0m\u001b[1;33m(\u001b[0m\u001b[1;32mlambda\u001b[0m \u001b[0mx\u001b[0m\u001b[1;33m:\u001b[0m\u001b[0mround\u001b[0m\u001b[1;33m(\u001b[0m\u001b[0mx\u001b[0m\u001b[1;33m[\u001b[0m\u001b[1;36m0\u001b[0m\u001b[1;33m]\u001b[0m\u001b[1;33m)\u001b[0m\u001b[1;33m)\u001b[0m\u001b[1;33m\u001b[0m\u001b[1;33m\u001b[0m\u001b[0m\n\u001b[0m\u001b[0;32m      5\u001b[0m     \u001b[0mdf\u001b[0m\u001b[1;33m[\u001b[0m\u001b[1;34m'Validation_Sentences'\u001b[0m\u001b[1;33m]\u001b[0m \u001b[1;33m=\u001b[0m \u001b[0mval_sentences\u001b[0m\u001b[1;33m[\u001b[0m\u001b[1;33m:\u001b[0m\u001b[1;36m20\u001b[0m\u001b[1;33m]\u001b[0m\u001b[1;33m\u001b[0m\u001b[1;33m\u001b[0m\u001b[0m\n\u001b[0;32m      6\u001b[0m     \u001b[1;32mreturn\u001b[0m \u001b[0mdf\u001b[0m\u001b[1;33m\u001b[0m\u001b[1;33m\u001b[0m\u001b[0m\n",
      "\u001b[1;32mC:\\Program Files (x86)\\anaconda\\lib\\site-packages\\pandas\\core\\series.py\u001b[0m in \u001b[0;36mapply\u001b[1;34m(self, func, convert_dtype, args, **kwargs)\u001b[0m\n\u001b[0;32m   4431\u001b[0m         \u001b[0mdtype\u001b[0m\u001b[1;33m:\u001b[0m \u001b[0mfloat64\u001b[0m\u001b[1;33m\u001b[0m\u001b[1;33m\u001b[0m\u001b[0m\n\u001b[0;32m   4432\u001b[0m         \"\"\"\n\u001b[1;32m-> 4433\u001b[1;33m         \u001b[1;32mreturn\u001b[0m \u001b[0mSeriesApply\u001b[0m\u001b[1;33m(\u001b[0m\u001b[0mself\u001b[0m\u001b[1;33m,\u001b[0m \u001b[0mfunc\u001b[0m\u001b[1;33m,\u001b[0m \u001b[0mconvert_dtype\u001b[0m\u001b[1;33m,\u001b[0m \u001b[0margs\u001b[0m\u001b[1;33m,\u001b[0m \u001b[0mkwargs\u001b[0m\u001b[1;33m)\u001b[0m\u001b[1;33m.\u001b[0m\u001b[0mapply\u001b[0m\u001b[1;33m(\u001b[0m\u001b[1;33m)\u001b[0m\u001b[1;33m\u001b[0m\u001b[1;33m\u001b[0m\u001b[0m\n\u001b[0m\u001b[0;32m   4434\u001b[0m \u001b[1;33m\u001b[0m\u001b[0m\n\u001b[0;32m   4435\u001b[0m     def _reduce(\n",
      "\u001b[1;32mC:\\Program Files (x86)\\anaconda\\lib\\site-packages\\pandas\\core\\apply.py\u001b[0m in \u001b[0;36mapply\u001b[1;34m(self)\u001b[0m\n\u001b[0;32m   1086\u001b[0m             \u001b[1;32mreturn\u001b[0m \u001b[0mself\u001b[0m\u001b[1;33m.\u001b[0m\u001b[0mapply_str\u001b[0m\u001b[1;33m(\u001b[0m\u001b[1;33m)\u001b[0m\u001b[1;33m\u001b[0m\u001b[1;33m\u001b[0m\u001b[0m\n\u001b[0;32m   1087\u001b[0m \u001b[1;33m\u001b[0m\u001b[0m\n\u001b[1;32m-> 1088\u001b[1;33m         \u001b[1;32mreturn\u001b[0m \u001b[0mself\u001b[0m\u001b[1;33m.\u001b[0m\u001b[0mapply_standard\u001b[0m\u001b[1;33m(\u001b[0m\u001b[1;33m)\u001b[0m\u001b[1;33m\u001b[0m\u001b[1;33m\u001b[0m\u001b[0m\n\u001b[0m\u001b[0;32m   1089\u001b[0m \u001b[1;33m\u001b[0m\u001b[0m\n\u001b[0;32m   1090\u001b[0m     \u001b[1;32mdef\u001b[0m \u001b[0magg\u001b[0m\u001b[1;33m(\u001b[0m\u001b[0mself\u001b[0m\u001b[1;33m)\u001b[0m\u001b[1;33m:\u001b[0m\u001b[1;33m\u001b[0m\u001b[1;33m\u001b[0m\u001b[0m\n",
      "\u001b[1;32mC:\\Program Files (x86)\\anaconda\\lib\\site-packages\\pandas\\core\\apply.py\u001b[0m in \u001b[0;36mapply_standard\u001b[1;34m(self)\u001b[0m\n\u001b[0;32m   1141\u001b[0m                 \u001b[1;31m# List[Union[Callable[..., Any], str]]]]]\"; expected\u001b[0m\u001b[1;33m\u001b[0m\u001b[1;33m\u001b[0m\u001b[0m\n\u001b[0;32m   1142\u001b[0m                 \u001b[1;31m# \"Callable[[Any], Any]\"\u001b[0m\u001b[1;33m\u001b[0m\u001b[1;33m\u001b[0m\u001b[0m\n\u001b[1;32m-> 1143\u001b[1;33m                 mapped = lib.map_infer(\n\u001b[0m\u001b[0;32m   1144\u001b[0m                     \u001b[0mvalues\u001b[0m\u001b[1;33m,\u001b[0m\u001b[1;33m\u001b[0m\u001b[1;33m\u001b[0m\u001b[0m\n\u001b[0;32m   1145\u001b[0m                     \u001b[0mf\u001b[0m\u001b[1;33m,\u001b[0m  \u001b[1;31m# type: ignore[arg-type]\u001b[0m\u001b[1;33m\u001b[0m\u001b[1;33m\u001b[0m\u001b[0m\n",
      "\u001b[1;32mC:\\Program Files (x86)\\anaconda\\lib\\site-packages\\pandas\\_libs\\lib.pyx\u001b[0m in \u001b[0;36mpandas._libs.lib.map_infer\u001b[1;34m()\u001b[0m\n",
      "\u001b[1;32m~\\AppData\\Local\\Temp\\ipykernel_30468\\237619972.py\u001b[0m in \u001b[0;36m<lambda>\u001b[1;34m(x)\u001b[0m\n\u001b[0;32m      2\u001b[0m     \u001b[0mprobabilities\u001b[0m \u001b[1;33m=\u001b[0m \u001b[0mmodel\u001b[0m\u001b[1;33m.\u001b[0m\u001b[0mpredict\u001b[0m\u001b[1;33m(\u001b[0m\u001b[0mvectorized_val_sentences\u001b[0m\u001b[1;33m)\u001b[0m\u001b[1;33m\u001b[0m\u001b[1;33m\u001b[0m\u001b[0m\n\u001b[0;32m      3\u001b[0m     \u001b[0mdf\u001b[0m \u001b[1;33m=\u001b[0m \u001b[0mpd\u001b[0m\u001b[1;33m.\u001b[0m\u001b[0mDataFrame\u001b[0m\u001b[1;33m(\u001b[0m\u001b[0mlist\u001b[0m\u001b[1;33m(\u001b[0m\u001b[0mzip\u001b[0m\u001b[1;33m(\u001b[0m\u001b[0mval_labels\u001b[0m\u001b[1;33m[\u001b[0m\u001b[1;33m:\u001b[0m\u001b[1;36m20\u001b[0m\u001b[1;33m]\u001b[0m\u001b[1;33m,\u001b[0m\u001b[0mprobabilities\u001b[0m\u001b[1;33m[\u001b[0m\u001b[1;33m:\u001b[0m\u001b[1;36m20\u001b[0m\u001b[1;33m]\u001b[0m\u001b[1;33m)\u001b[0m\u001b[1;33m)\u001b[0m\u001b[1;33m,\u001b[0m\u001b[0mcolumns\u001b[0m\u001b[1;33m=\u001b[0m\u001b[1;33m[\u001b[0m\u001b[1;34m'Real Labels'\u001b[0m\u001b[1;33m,\u001b[0m\u001b[1;34m'Predictions'\u001b[0m\u001b[1;33m]\u001b[0m\u001b[1;33m)\u001b[0m\u001b[1;33m\u001b[0m\u001b[1;33m\u001b[0m\u001b[0m\n\u001b[1;32m----> 4\u001b[1;33m     \u001b[0mdf\u001b[0m\u001b[1;33m[\u001b[0m\u001b[1;34m'Predictions'\u001b[0m\u001b[1;33m]\u001b[0m \u001b[1;33m=\u001b[0m \u001b[0mdf_1\u001b[0m\u001b[1;33m[\u001b[0m\u001b[1;34m'Predictions'\u001b[0m\u001b[1;33m]\u001b[0m\u001b[1;33m.\u001b[0m\u001b[0mapply\u001b[0m\u001b[1;33m(\u001b[0m\u001b[1;32mlambda\u001b[0m \u001b[0mx\u001b[0m\u001b[1;33m:\u001b[0m\u001b[0mround\u001b[0m\u001b[1;33m(\u001b[0m\u001b[0mx\u001b[0m\u001b[1;33m[\u001b[0m\u001b[1;36m0\u001b[0m\u001b[1;33m]\u001b[0m\u001b[1;33m)\u001b[0m\u001b[1;33m)\u001b[0m\u001b[1;33m\u001b[0m\u001b[1;33m\u001b[0m\u001b[0m\n\u001b[0m\u001b[0;32m      5\u001b[0m     \u001b[0mdf\u001b[0m\u001b[1;33m[\u001b[0m\u001b[1;34m'Validation_Sentences'\u001b[0m\u001b[1;33m]\u001b[0m \u001b[1;33m=\u001b[0m \u001b[0mval_sentences\u001b[0m\u001b[1;33m[\u001b[0m\u001b[1;33m:\u001b[0m\u001b[1;36m20\u001b[0m\u001b[1;33m]\u001b[0m\u001b[1;33m\u001b[0m\u001b[1;33m\u001b[0m\u001b[0m\n\u001b[0;32m      6\u001b[0m     \u001b[1;32mreturn\u001b[0m \u001b[0mdf\u001b[0m\u001b[1;33m\u001b[0m\u001b[1;33m\u001b[0m\u001b[0m\n",
      "\u001b[1;31mTypeError\u001b[0m: 'int' object is not subscriptable"
     ]
    }
   ],
   "source": [
    "results(model_2)"
   ]
  },
  {
   "cell_type": "code",
   "execution_count": null,
   "id": "488e48f9",
   "metadata": {},
   "outputs": [],
   "source": []
  },
  {
   "cell_type": "code",
   "execution_count": null,
   "id": "6fd5f284",
   "metadata": {},
   "outputs": [],
   "source": []
  },
  {
   "cell_type": "code",
   "execution_count": null,
   "id": "1566d774",
   "metadata": {},
   "outputs": [],
   "source": []
  }
 ],
 "metadata": {
  "kernelspec": {
   "display_name": "Python 3 (ipykernel)",
   "language": "python",
   "name": "python3"
  },
  "language_info": {
   "codemirror_mode": {
    "name": "ipython",
    "version": 3
   },
   "file_extension": ".py",
   "mimetype": "text/x-python",
   "name": "python",
   "nbconvert_exporter": "python",
   "pygments_lexer": "ipython3",
   "version": "3.9.13"
  }
 },
 "nbformat": 4,
 "nbformat_minor": 5
}
