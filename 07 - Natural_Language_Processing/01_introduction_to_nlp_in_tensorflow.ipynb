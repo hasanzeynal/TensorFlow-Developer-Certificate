{
 "cells": [
  {
   "cell_type": "code",
   "execution_count": 26,
   "id": "3a011fae",
   "metadata": {},
   "outputs": [],
   "source": [
    "#ignore all warnings\n",
    "import warnings\n",
    "warnings.filterwarnings(action='ignore')\n",
    "\n",
    "#importing libraries\n",
    "import tensorflow as tf\n",
    "import tensorflow_hub as hub\n",
    "import pandas as pd\n",
    "import numpy as np\n",
    "import seaborn as sns\n",
    "import matplotlib.pyplot as plt\n",
    "import matplotlib as mpl\n",
    "\n",
    "from sklearn.model_selection import train_test_split\n",
    "from sklearn.pipeline import Pipeline as PP\n",
    "from sklearn.feature_extraction.text import TfidfVectorizer\n",
    "from sklearn.naive_bayes import MultinomialNB\n",
    "from sklearn.metrics import accuracy_score, f1_score, recall_score, precision_score"
   ]
  },
  {
   "cell_type": "code",
   "execution_count": 18,
   "id": "d6b1f588",
   "metadata": {},
   "outputs": [
    {
     "name": "stdout",
     "output_type": "stream",
     "text": [
      "Defaulting to user installation because normal site-packages is not writeable\n",
      "Collecting tensorflow_hub\n",
      "  Downloading tensorflow_hub-0.14.0-py2.py3-none-any.whl (90 kB)\n",
      "     -------------------------------------- 90.3/90.3 kB 165.3 kB/s eta 0:00:00\n",
      "Requirement already satisfied: protobuf>=3.19.6 in c:\\users\\zeynalovaf\\appdata\\roaming\\python\\python39\\site-packages (from tensorflow_hub) (4.24.0)\n",
      "Requirement already satisfied: numpy>=1.12.0 in c:\\users\\zeynalovaf\\appdata\\roaming\\python\\python39\\site-packages (from tensorflow_hub) (1.24.3)\n",
      "Installing collected packages: tensorflow_hub\n",
      "Successfully installed tensorflow_hub-0.14.0\n",
      "Note: you may need to restart the kernel to use updated packages.\n"
     ]
    }
   ],
   "source": [
    "pip install tensorflow_hub"
   ]
  },
  {
   "cell_type": "code",
   "execution_count": 2,
   "id": "c2c9f15a",
   "metadata": {},
   "outputs": [
    {
     "data": {
      "text/html": [
       "<div>\n",
       "<style scoped>\n",
       "    .dataframe tbody tr th:only-of-type {\n",
       "        vertical-align: middle;\n",
       "    }\n",
       "\n",
       "    .dataframe tbody tr th {\n",
       "        vertical-align: top;\n",
       "    }\n",
       "\n",
       "    .dataframe thead th {\n",
       "        text-align: right;\n",
       "    }\n",
       "</style>\n",
       "<table border=\"1\" class=\"dataframe\">\n",
       "  <thead>\n",
       "    <tr style=\"text-align: right;\">\n",
       "      <th></th>\n",
       "      <th>id</th>\n",
       "      <th>keyword</th>\n",
       "      <th>location</th>\n",
       "      <th>text</th>\n",
       "      <th>target</th>\n",
       "    </tr>\n",
       "  </thead>\n",
       "  <tbody>\n",
       "    <tr>\n",
       "      <th>0</th>\n",
       "      <td>1</td>\n",
       "      <td>NaN</td>\n",
       "      <td>NaN</td>\n",
       "      <td>Our Deeds are the Reason of this #earthquake M...</td>\n",
       "      <td>1</td>\n",
       "    </tr>\n",
       "    <tr>\n",
       "      <th>1</th>\n",
       "      <td>4</td>\n",
       "      <td>NaN</td>\n",
       "      <td>NaN</td>\n",
       "      <td>Forest fire near La Ronge Sask. Canada</td>\n",
       "      <td>1</td>\n",
       "    </tr>\n",
       "    <tr>\n",
       "      <th>2</th>\n",
       "      <td>5</td>\n",
       "      <td>NaN</td>\n",
       "      <td>NaN</td>\n",
       "      <td>All residents asked to 'shelter in place' are ...</td>\n",
       "      <td>1</td>\n",
       "    </tr>\n",
       "    <tr>\n",
       "      <th>3</th>\n",
       "      <td>6</td>\n",
       "      <td>NaN</td>\n",
       "      <td>NaN</td>\n",
       "      <td>13,000 people receive #wildfires evacuation or...</td>\n",
       "      <td>1</td>\n",
       "    </tr>\n",
       "    <tr>\n",
       "      <th>4</th>\n",
       "      <td>7</td>\n",
       "      <td>NaN</td>\n",
       "      <td>NaN</td>\n",
       "      <td>Just got sent this photo from Ruby #Alaska as ...</td>\n",
       "      <td>1</td>\n",
       "    </tr>\n",
       "  </tbody>\n",
       "</table>\n",
       "</div>"
      ],
      "text/plain": [
       "   id keyword location                                               text  \\\n",
       "0   1     NaN      NaN  Our Deeds are the Reason of this #earthquake M...   \n",
       "1   4     NaN      NaN             Forest fire near La Ronge Sask. Canada   \n",
       "2   5     NaN      NaN  All residents asked to 'shelter in place' are ...   \n",
       "3   6     NaN      NaN  13,000 people receive #wildfires evacuation or...   \n",
       "4   7     NaN      NaN  Just got sent this photo from Ruby #Alaska as ...   \n",
       "\n",
       "   target  \n",
       "0       1  \n",
       "1       1  \n",
       "2       1  \n",
       "3       1  \n",
       "4       1  "
      ]
     },
     "execution_count": 2,
     "metadata": {},
     "output_type": "execute_result"
    }
   ],
   "source": [
    "train_df = pd.read_csv('train.csv')\n",
    "train_df.head()"
   ]
  },
  {
   "cell_type": "code",
   "execution_count": 3,
   "id": "4cb30d54",
   "metadata": {},
   "outputs": [
    {
     "data": {
      "text/html": [
       "<div>\n",
       "<style scoped>\n",
       "    .dataframe tbody tr th:only-of-type {\n",
       "        vertical-align: middle;\n",
       "    }\n",
       "\n",
       "    .dataframe tbody tr th {\n",
       "        vertical-align: top;\n",
       "    }\n",
       "\n",
       "    .dataframe thead th {\n",
       "        text-align: right;\n",
       "    }\n",
       "</style>\n",
       "<table border=\"1\" class=\"dataframe\">\n",
       "  <thead>\n",
       "    <tr style=\"text-align: right;\">\n",
       "      <th></th>\n",
       "      <th>id</th>\n",
       "      <th>keyword</th>\n",
       "      <th>location</th>\n",
       "      <th>text</th>\n",
       "    </tr>\n",
       "  </thead>\n",
       "  <tbody>\n",
       "    <tr>\n",
       "      <th>0</th>\n",
       "      <td>0</td>\n",
       "      <td>NaN</td>\n",
       "      <td>NaN</td>\n",
       "      <td>Just happened a terrible car crash</td>\n",
       "    </tr>\n",
       "    <tr>\n",
       "      <th>1</th>\n",
       "      <td>2</td>\n",
       "      <td>NaN</td>\n",
       "      <td>NaN</td>\n",
       "      <td>Heard about #earthquake is different cities, s...</td>\n",
       "    </tr>\n",
       "    <tr>\n",
       "      <th>2</th>\n",
       "      <td>3</td>\n",
       "      <td>NaN</td>\n",
       "      <td>NaN</td>\n",
       "      <td>there is a forest fire at spot pond, geese are...</td>\n",
       "    </tr>\n",
       "    <tr>\n",
       "      <th>3</th>\n",
       "      <td>9</td>\n",
       "      <td>NaN</td>\n",
       "      <td>NaN</td>\n",
       "      <td>Apocalypse lighting. #Spokane #wildfires</td>\n",
       "    </tr>\n",
       "    <tr>\n",
       "      <th>4</th>\n",
       "      <td>11</td>\n",
       "      <td>NaN</td>\n",
       "      <td>NaN</td>\n",
       "      <td>Typhoon Soudelor kills 28 in China and Taiwan</td>\n",
       "    </tr>\n",
       "  </tbody>\n",
       "</table>\n",
       "</div>"
      ],
      "text/plain": [
       "   id keyword location                                               text\n",
       "0   0     NaN      NaN                 Just happened a terrible car crash\n",
       "1   2     NaN      NaN  Heard about #earthquake is different cities, s...\n",
       "2   3     NaN      NaN  there is a forest fire at spot pond, geese are...\n",
       "3   9     NaN      NaN           Apocalypse lighting. #Spokane #wildfires\n",
       "4  11     NaN      NaN      Typhoon Soudelor kills 28 in China and Taiwan"
      ]
     },
     "execution_count": 3,
     "metadata": {},
     "output_type": "execute_result"
    }
   ],
   "source": [
    "test_df = pd.read_csv('test.csv')\n",
    "test_df.head()"
   ]
  },
  {
   "cell_type": "code",
   "execution_count": 4,
   "id": "2fc221d2",
   "metadata": {},
   "outputs": [
    {
     "data": {
      "text/plain": [
       "(7613, 5)"
      ]
     },
     "execution_count": 4,
     "metadata": {},
     "output_type": "execute_result"
    }
   ],
   "source": [
    "train_df.shape"
   ]
  },
  {
   "cell_type": "code",
   "execution_count": 5,
   "id": "1503a472",
   "metadata": {},
   "outputs": [],
   "source": [
    "#we are gonna work on training data so lets's get split it to the training and validation set\n",
    "train_sentences,val_sentences,train_labels,val_labels = train_test_split(train_df['text'].to_numpy(),\n",
    "                                                                         train_df['target'].to_numpy(),\n",
    "                                                                         test_size= 0.2, # 20% of data gonna be used for testing\n",
    "                                                                         random_state= 42)"
   ]
  },
  {
   "cell_type": "markdown",
   "id": "5bef6517",
   "metadata": {},
   "source": [
    "# Converting text to numbers\n",
    "There are 2 ways to turn text to numbers\n",
    "1. Tokenization\n",
    "* Word-Level Tokenization\n",
    "* Character Level Tokenization\n",
    "* Sub-Word Tokenization\n",
    "2. Embedding\n",
    "* Use ( sucs as tf.keras.layers.Embedding) to create new Embedding\n",
    "* Or use pre-learned Embedding"
   ]
  },
  {
   "cell_type": "code",
   "execution_count": 6,
   "id": "fcb0d3c4",
   "metadata": {},
   "outputs": [],
   "source": [
    "#let's create text vectorizer\n",
    "text_vectorizer = tf.keras.layers.TextVectorization(max_tokens=None,\n",
    "                                                    standardize='lower_and_strip_punctuation',\n",
    "                                                    split='whitespace',\n",
    "                                                    ngrams=None,\n",
    "                                                    output_mode='int',\n",
    "                                                    output_sequence_length=None,\n",
    "                                                    pad_to_max_tokens=False)"
   ]
  },
  {
   "cell_type": "code",
   "execution_count": 7,
   "id": "8a6395cc",
   "metadata": {},
   "outputs": [],
   "source": [
    "#fit the text vectorizer to the train sentences\n",
    "text_vectorizer.adapt(train_sentences)"
   ]
  },
  {
   "cell_type": "code",
   "execution_count": 8,
   "id": "e0cc6c0b",
   "metadata": {},
   "outputs": [
    {
     "data": {
      "text/plain": [
       "('Courageous and honest analysis of need to use Atomic Bomb in 1945. #Hiroshima70 Japanese military refused surrender. https://t.co/VhmtyTptGR',\n",
       " <tf.Tensor: shape=(1, 18), dtype=int64, numpy=\n",
       " array([[17198,     8,  4962,  2917,     6,   156,     5,   438,   216,\n",
       "           118,     4,  2377,  4973,  1177,   240,  4381,  4119, 14803]],\n",
       "       dtype=int64)>)"
      ]
     },
     "execution_count": 8,
     "metadata": {},
     "output_type": "execute_result"
    }
   ],
   "source": [
    "sample_sentence = train_sentences[0]\n",
    "sample_sentence, text_vectorizer([sample_sentence])"
   ]
  },
  {
   "cell_type": "markdown",
   "id": "965f5ea7",
   "metadata": {},
   "source": [
    "# It is time to build a model and specifically, we'll be building the following:\n",
    "\n",
    "- Model 0: Naive Bayes (baseline)\n",
    "- Model 1: Feed-forward neural network (dense model)\n",
    "- Model 2: LSTM model\n",
    "- Model 3: GRU model\n",
    "- Model 4: Bidirectional-LSTM model\n",
    "- Model 5: 1D Convolutional Neural Network\n",
    "- Model 6: TensorFlow Hub Pretrained Feature Extractor\n",
    "- Model 7: Same as model 6 with 10% of training data"
   ]
  },
  {
   "cell_type": "markdown",
   "id": "803411e4",
   "metadata": {},
   "source": [
    "# Model 0: Baseline Model"
   ]
  },
  {
   "cell_type": "code",
   "execution_count": 9,
   "id": "ba784585",
   "metadata": {},
   "outputs": [
    {
     "data": {
      "text/plain": [
       "Pipeline(steps=[('tdf', TfidfVectorizer()), ('clf', MultinomialNB())])"
      ]
     },
     "execution_count": 9,
     "metadata": {},
     "output_type": "execute_result"
    }
   ],
   "source": [
    "#create the model\n",
    "model_0 = PP(steps=[\n",
    "    ('tdf', TfidfVectorizer()), #convert text to numbers using tfidfvectorizer\n",
    "    ('clf', MultinomialNB())    #model the text\n",
    "])\n",
    "\n",
    "#fit the model\n",
    "model_0.fit(train_sentences,train_labels)"
   ]
  },
  {
   "cell_type": "code",
   "execution_count": 10,
   "id": "78af750c",
   "metadata": {},
   "outputs": [
    {
     "name": "stdout",
     "output_type": "stream",
     "text": [
      "The Accuracy Score of Baseline model is 79.97%\n"
     ]
    }
   ],
   "source": [
    "#let's look at the score\n",
    "model_0_score = model_0.score(val_sentences,val_labels)\n",
    "print(f'The Accuracy Score of Baseline model is {round(model_0_score * 100,2)}%')"
   ]
  },
  {
   "cell_type": "code",
   "execution_count": 11,
   "id": "99e78583",
   "metadata": {},
   "outputs": [],
   "source": [
    "model_0_predictions = model_0.predict(val_sentences)"
   ]
  },
  {
   "cell_type": "code",
   "execution_count": 12,
   "id": "6bb486b8",
   "metadata": {},
   "outputs": [],
   "source": [
    "#let's create function to see our model all results (accuracy, presicion,f1, recall)\n",
    "def calculate_metrics(y_true, y_pred):\n",
    "    model_results = { \n",
    "        'accuracy': round(accuracy_score(y_true,y_pred),2),\n",
    "        'recall': round(recall_score(y_true,y_pred),2),\n",
    "        'precision': round(precision_score(y_true,y_pred),2),\n",
    "        'f1_score': round(f1_score(y_true,y_pred)*100,2),\n",
    "    }\n",
    "    return model_results"
   ]
  },
  {
   "cell_type": "code",
   "execution_count": 13,
   "id": "7812e422",
   "metadata": {},
   "outputs": [
    {
     "data": {
      "text/plain": [
       "{'accuracy': 0.8, 'recall': 0.63, 'precision': 0.86, 'f1_score': 72.84}"
      ]
     },
     "execution_count": 13,
     "metadata": {},
     "output_type": "execute_result"
    }
   ],
   "source": [
    "calculate_metrics(val_labels, model_0_predictions)"
   ]
  },
  {
   "cell_type": "markdown",
   "id": "6e6e9e0f",
   "metadata": {},
   "source": [
    "# Model 1: Simple Dense Model"
   ]
  },
  {
   "cell_type": "code",
   "execution_count": 33,
   "id": "2b5b12d7",
   "metadata": {},
   "outputs": [
    {
     "name": "stdout",
     "output_type": "stream",
     "text": [
      "Epoch 1/10\n",
      "12/12 [==============================] - 10s 726ms/step - loss: 0.5868 - accuracy: 0.6023 - val_loss: 0.4993 - val_accuracy: 0.7787\n",
      "Epoch 2/10\n",
      "12/12 [==============================] - 8s 645ms/step - loss: 0.3124 - accuracy: 0.8691 - val_loss: 0.5262 - val_accuracy: 0.7958\n",
      "Epoch 3/10\n",
      "12/12 [==============================] - 8s 636ms/step - loss: 0.1228 - accuracy: 0.9545 - val_loss: 0.7060 - val_accuracy: 0.7794\n",
      "Epoch 4/10\n",
      "12/12 [==============================] - 8s 636ms/step - loss: 0.0527 - accuracy: 0.9813 - val_loss: 0.8878 - val_accuracy: 0.7715\n",
      "Epoch 5/10\n",
      "12/12 [==============================] - 8s 641ms/step - loss: 0.0280 - accuracy: 0.9890 - val_loss: 1.0279 - val_accuracy: 0.7656\n",
      "Epoch 6/10\n",
      "12/12 [==============================] - 8s 654ms/step - loss: 0.0215 - accuracy: 0.9926 - val_loss: 1.0758 - val_accuracy: 0.7610\n",
      "Epoch 7/10\n",
      "12/12 [==============================] - 8s 645ms/step - loss: 0.0164 - accuracy: 0.9934 - val_loss: 1.1308 - val_accuracy: 0.7669\n",
      "Epoch 8/10\n",
      "12/12 [==============================] - 8s 648ms/step - loss: 0.0126 - accuracy: 0.9943 - val_loss: 1.1780 - val_accuracy: 0.7551\n",
      "Epoch 9/10\n",
      "12/12 [==============================] - 8s 679ms/step - loss: 0.0103 - accuracy: 0.9956 - val_loss: 1.2370 - val_accuracy: 0.7630\n",
      "Epoch 10/10\n",
      "12/12 [==============================] - 8s 701ms/step - loss: 0.0099 - accuracy: 0.9951 - val_loss: 1.2693 - val_accuracy: 0.7584\n"
     ]
    }
   ],
   "source": [
    "#create the model\n",
    "embedding = \"https://tfhub.dev/google/nnlm-en-dim50/2\"\n",
    "hub_layer = hub.KerasLayer(embedding,\n",
    "                           input_shape = [],\n",
    "                           dtype = tf.string,\n",
    "                           trainable = True)\n",
    "\n",
    "model_1 = tf.keras.models.Sequential([\n",
    "    hub_layer,\n",
    "    tf.keras.layers.Dense(16, activation='relu'),\n",
    "    tf.keras.layers.Dense(1)\n",
    "])\n",
    "\n",
    "\n",
    "#compile the model\n",
    "model_1.compile(loss = tf.keras.losses.BinaryCrossentropy(from_logits=True),\n",
    "               optimizer = tf.keras.optimizers.Adam(learning_rate = 0.01),\n",
    "               metrics = ['accuracy'])\n",
    "\n",
    "#fit the model\n",
    "model_1_history = model_1.fit(train_sentences,\n",
    "                              train_labels,\n",
    "                              batch_size = 512,\n",
    "                              epochs= 10,\n",
    "                              validation_data=(val_sentences,val_labels))\n"
   ]
  },
  {
   "cell_type": "code",
   "execution_count": 54,
   "id": "1ecc371f",
   "metadata": {},
   "outputs": [
    {
     "data": {
      "text/plain": [
       "<Figure size 1600x900 with 0 Axes>"
      ]
     },
     "metadata": {},
     "output_type": "display_data"
    },
    {
     "data": {
      "image/png": "[encoded data removed]",
      "text/plain": [
       "<Figure size 640x480 with 1 Axes>"
      ]
     },
     "metadata": {},
     "output_type": "display_data"
    },
    {
     "data": {
      "image/png": "[encoded data removed]",
      "text/plain": [
       "<Figure size 640x480 with 1 Axes>"
      ]
     },
     "metadata": {},
     "output_type": "display_data"
    }
   ],
   "source": [
    "plt.figure(figsize=(16,9))\n",
    "pd.DataFrame(model_1_history.history)[['loss','val_loss']].plot()\n",
    "pd.DataFrame(model_1_history.history)[['accuracy','val_accuracy']].plot()\n",
    "plt.show()"
   ]
  },
  {
   "cell_type": "code",
   "execution_count": 57,
   "id": "77438dd3",
   "metadata": {},
   "outputs": [
    {
     "data": {
      "text/plain": [
       "(array(['So you have a new weapon that can cause un-imaginable destruction.',\n",
       "        'The f$&amp;@ing things I do for #GISHWHES Just got soaked in a deluge going for pads and tampons. Thx @mishacollins @/@',\n",
       "        'DT @georgegalloway: RT @Galloway4Mayor: \\x89ÛÏThe CoL police can catch a pickpocket in Liverpool Stree... http://t.co/vXIn1gOq4Q',\n",
       "        ...,\n",
       "        'Man charged over fatal crash near Dubbo refused bail http://t.co/HDBMfOVUtZ via @dailyliberal',\n",
       "        '#usNWSgov Severe Weather Statement issued August 05 at 10:38PM EDT by NWS: ...THE SEVERE THUNDERSTORM WARNING ... http://t.co/7HuEN4rWrn',\n",
       "        \"Great British &lt;b&gt;Bake&lt;/b&gt; Off's back and Dorret's &lt;b&gt;chocolate&lt;/b&gt; gateau collapsed - JAN\\x89Û_ http://t.co/53LORsrGqf\"],\n",
       "       dtype=object),\n",
       " array([1, 0, 1, ..., 1, 1, 0], dtype=int64))"
      ]
     },
     "execution_count": 57,
     "metadata": {},
     "output_type": "execute_result"
    }
   ],
   "source": [
    "val_sentences,val_labels"
   ]
  },
  {
   "cell_type": "code",
   "execution_count": 59,
   "id": "18a4a7f0",
   "metadata": {},
   "outputs": [
    {
     "name": "stdout",
     "output_type": "stream",
     "text": [
      "48/48 [==============================] - 4s 73ms/step\n"
     ]
    }
   ],
   "source": [
    "predictions_1 = model_1.predict(val_sentences)"
   ]
  },
  {
   "cell_type": "code",
   "execution_count": 61,
   "id": "3cce374b",
   "metadata": {},
   "outputs": [
    {
     "data": {
      "text/plain": [
       "array([[-9.545934  ],\n",
       "       [-1.2043769 ],\n",
       "       [-0.37403542],\n",
       "       [-6.273798  ],\n",
       "       [-3.8244    ],\n",
       "       [-8.742268  ],\n",
       "       [-9.660279  ],\n",
       "       [-8.746992  ],\n",
       "       [-0.873086  ],\n",
       "       [ 9.354178  ]], dtype=float32)"
      ]
     },
     "execution_count": 61,
     "metadata": {},
     "output_type": "execute_result"
    }
   ],
   "source": [
    "predictions_1[:10]"
   ]
  },
  {
   "cell_type": "code",
   "execution_count": 65,
   "id": "6a9f146d",
   "metadata": {},
   "outputs": [
    {
     "name": "stdout",
     "output_type": "stream",
     "text": [
      "1/1 [==============================] - 0s 108ms/step\n"
     ]
    },
    {
     "data": {
      "text/plain": [
       "array([[-9.545934  ],\n",
       "       [-1.2043769 ],\n",
       "       [-0.37403542],\n",
       "       [-6.273798  ],\n",
       "       [-3.8244    ],\n",
       "       [-8.742268  ],\n",
       "       [-9.660279  ],\n",
       "       [-8.746992  ],\n",
       "       [-0.873086  ],\n",
       "       [ 9.354178  ]], dtype=float32)"
      ]
     },
     "execution_count": 65,
     "metadata": {},
     "output_type": "execute_result"
    }
   ],
   "source": [
    "model_1.predict(val_sentences[:10])"
   ]
  },
  {
   "cell_type": "code",
   "execution_count": 64,
   "id": "a2861d5e",
   "metadata": {},
   "outputs": [
    {
     "data": {
      "text/plain": [
       "'The f$&amp;@ing things I do for #GISHWHES Just got soaked in a deluge going for pads and tampons. Thx @mishacollins @/@'"
      ]
     },
     "execution_count": 64,
     "metadata": {},
     "output_type": "execute_result"
    }
   ],
   "source": [
    "val_sentences[1]"
   ]
  },
  {
   "cell_type": "code",
   "execution_count": null,
   "id": "7a555b82",
   "metadata": {},
   "outputs": [],
   "source": []
  },
  {
   "cell_type": "code",
   "execution_count": null,
   "id": "0383fc2a",
   "metadata": {},
   "outputs": [],
   "source": []
  },
  {
   "cell_type": "code",
   "execution_count": null,
   "id": "1609ce9c",
   "metadata": {},
   "outputs": [],
   "source": []
  }
 ],
 "metadata": {
  "kernelspec": {
   "display_name": "Python 3 (ipykernel)",
   "language": "python",
   "name": "python3"
  },
  "language_info": {
   "codemirror_mode": {
    "name": "ipython",
    "version": 3
   },
   "file_extension": ".py",
   "mimetype": "text/x-python",
   "name": "python",
   "nbconvert_exporter": "python",
   "pygments_lexer": "ipython3",
   "version": "3.9.13"
  }
 },
 "nbformat": 4,
 "nbformat_minor": 5
}
