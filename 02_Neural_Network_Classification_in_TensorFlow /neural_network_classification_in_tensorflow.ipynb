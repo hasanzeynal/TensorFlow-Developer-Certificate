{
  "nbformat": 4,
  "nbformat_minor": 0,
  "metadata": {
    "colab": {
      "provenance": [],
      "toc_visible": true,
      "gpuType": "T4",
      "authorship_tag": "ABX9TyMJwcegeQaICJmtDGQRNkVd",
      "include_colab_link": true
    },
    "kernelspec": {
      "name": "python3",
      "display_name": "Python 3"
    },
    "language_info": {
      "name": "python"
    },
    "accelerator": "GPU"
  },
  "cells": [
    {
      "cell_type": "markdown",
      "metadata": {
        "id": "view-in-github",
        "colab_type": "text"
      },
      "source": [
        "<a href=\"https://colab.research.google.com/github/hasanzeynal/TensorFlow-Developer-Certificate/blob/main/02_Neural_Network_Classification_in_TensorFlow%20/neural_network_classification_in_tensorflow.ipynb\" target=\"_parent\"><img src=\"https://colab.research.google.com/assets/colab-badge.svg\" alt=\"Open In Colab\"/></a>"
      ]
    },
    {
      "cell_type": "code",
      "execution_count": 45,
      "metadata": {
        "id": "OqpWuo7AXnv0"
      },
      "outputs": [],
      "source": [
        "#import libraries\n",
        "import tensorflow as tf\n",
        "import pandas as pd\n",
        "import numpy as np\n",
        "import matplotlib.pyplot as plt\n",
        "import seaborn as sns\n",
        "\n",
        "from sklearn.metrics import accuracy_score, recall_score, precision_score, f1_score, confusion_matrix"
      ]
    },
    {
      "cell_type": "markdown",
      "source": [
        "## What we are gonna cover:\n",
        "* The architecture of NN Classification Model\n",
        "* Input Shapes and Output Shapes of NN Classification Model\n",
        "* Creating Custom Data to view and fit\n",
        "* Steps in modelling\n",
        "  * Creating model, compile the model, fit the model, evaluate the model\n",
        "* Different Classification Evaluation Methods\n",
        "* Saving and Loading Models"
      ],
      "metadata": {
        "id": "UPwutVoHNfiD"
      }
    },
    {
      "cell_type": "markdown",
      "source": [
        "# Creating Data to view and fit"
      ],
      "metadata": {
        "id": "7Gnx-ORKRbw_"
      }
    },
    {
      "cell_type": "code",
      "source": [
        "#import make circles\n",
        "from sklearn.datasets import make_circles\n",
        "\n",
        "#create circles\n",
        "X,y = make_circles(n_samples= 1000,\n",
        "                   noise= 0.03,\n",
        "                   random_state= 42)   #if you wanna work on classification problem,you can create your data with make_circles"
      ],
      "metadata": {
        "id": "7K2AHCFTfuEe"
      },
      "execution_count": 2,
      "outputs": []
    },
    {
      "cell_type": "code",
      "source": [
        "#Check out the labels\n",
        "y[:20]"
      ],
      "metadata": {
        "colab": {
          "base_uri": "https://localhost:8080/"
        },
        "id": "v8rpw5zLft-w",
        "outputId": "58c61208-a28d-4cdf-ad54-3c3e0810a24c"
      },
      "execution_count": 3,
      "outputs": [
        {
          "output_type": "execute_result",
          "data": {
            "text/plain": [
              "array([1, 1, 1, 1, 0, 1, 1, 1, 1, 0, 1, 0, 1, 1, 1, 1, 0, 1, 1, 0])"
            ]
          },
          "metadata": {},
          "execution_count": 3
        }
      ]
    },
    {
      "cell_type": "code",
      "source": [
        "import pandas as pd\n",
        "pd.DataFrame(y).value_counts()   #it create 0 and 1's in the same numbers for the labels"
      ],
      "metadata": {
        "colab": {
          "base_uri": "https://localhost:8080/"
        },
        "id": "cUWHIQOtft76",
        "outputId": "fc00e199-1fee-4925-ed0f-237556a4c5d4"
      },
      "execution_count": 4,
      "outputs": [
        {
          "output_type": "execute_result",
          "data": {
            "text/plain": [
              "0    500\n",
              "1    500\n",
              "dtype: int64"
            ]
          },
          "metadata": {},
          "execution_count": 4
        }
      ]
    },
    {
      "cell_type": "code",
      "source": [
        "#let's change our x and y to the dataframe to visulise our data\n",
        "circles = pd.DataFrame({'X_1':X[:,0], 'X_2':X[:,1], 'y':y})\n",
        "circles"
      ],
      "metadata": {
        "colab": {
          "base_uri": "https://localhost:8080/",
          "height": 424
        },
        "id": "z1ZmhzYgft5C",
        "outputId": "27681017-bec9-4d21-99e7-fb9cae96e4a6"
      },
      "execution_count": 5,
      "outputs": [
        {
          "output_type": "execute_result",
          "data": {
            "text/plain": [
              "          X_1       X_2  y\n",
              "0    0.754246  0.231481  1\n",
              "1   -0.756159  0.153259  1\n",
              "2   -0.815392  0.173282  1\n",
              "3   -0.393731  0.692883  1\n",
              "4    0.442208 -0.896723  0\n",
              "..        ...       ... ..\n",
              "995  0.244054  0.944125  0\n",
              "996 -0.978655 -0.272373  0\n",
              "997 -0.136900 -0.810012  1\n",
              "998  0.670362 -0.767502  0\n",
              "999  0.281057  0.963824  0\n",
              "\n",
              "[1000 rows x 3 columns]"
            ],
            "text/html": [
              "\n",
              "  <div id=\"df-1c507e86-283d-4d2e-863c-9ea720d2493c\">\n",
              "    <div class=\"colab-df-container\">\n",
              "      <div>\n",
              "<style scoped>\n",
              "    .dataframe tbody tr th:only-of-type {\n",
              "        vertical-align: middle;\n",
              "    }\n",
              "\n",
              "    .dataframe tbody tr th {\n",
              "        vertical-align: top;\n",
              "    }\n",
              "\n",
              "    .dataframe thead th {\n",
              "        text-align: right;\n",
              "    }\n",
              "</style>\n",
              "<table border=\"1\" class=\"dataframe\">\n",
              "  <thead>\n",
              "    <tr style=\"text-align: right;\">\n",
              "      <th></th>\n",
              "      <th>X_1</th>\n",
              "      <th>X_2</th>\n",
              "      <th>y</th>\n",
              "    </tr>\n",
              "  </thead>\n",
              "  <tbody>\n",
              "    <tr>\n",
              "      <th>0</th>\n",
              "      <td>0.754246</td>\n",
              "      <td>0.231481</td>\n",
              "      <td>1</td>\n",
              "    </tr>\n",
              "    <tr>\n",
              "      <th>1</th>\n",
              "      <td>-0.756159</td>\n",
              "      <td>0.153259</td>\n",
              "      <td>1</td>\n",
              "    </tr>\n",
              "    <tr>\n",
              "      <th>2</th>\n",
              "      <td>-0.815392</td>\n",
              "      <td>0.173282</td>\n",
              "      <td>1</td>\n",
              "    </tr>\n",
              "    <tr>\n",
              "      <th>3</th>\n",
              "      <td>-0.393731</td>\n",
              "      <td>0.692883</td>\n",
              "      <td>1</td>\n",
              "    </tr>\n",
              "    <tr>\n",
              "      <th>4</th>\n",
              "      <td>0.442208</td>\n",
              "      <td>-0.896723</td>\n",
              "      <td>0</td>\n",
              "    </tr>\n",
              "    <tr>\n",
              "      <th>...</th>\n",
              "      <td>...</td>\n",
              "      <td>...</td>\n",
              "      <td>...</td>\n",
              "    </tr>\n",
              "    <tr>\n",
              "      <th>995</th>\n",
              "      <td>0.244054</td>\n",
              "      <td>0.944125</td>\n",
              "      <td>0</td>\n",
              "    </tr>\n",
              "    <tr>\n",
              "      <th>996</th>\n",
              "      <td>-0.978655</td>\n",
              "      <td>-0.272373</td>\n",
              "      <td>0</td>\n",
              "    </tr>\n",
              "    <tr>\n",
              "      <th>997</th>\n",
              "      <td>-0.136900</td>\n",
              "      <td>-0.810012</td>\n",
              "      <td>1</td>\n",
              "    </tr>\n",
              "    <tr>\n",
              "      <th>998</th>\n",
              "      <td>0.670362</td>\n",
              "      <td>-0.767502</td>\n",
              "      <td>0</td>\n",
              "    </tr>\n",
              "    <tr>\n",
              "      <th>999</th>\n",
              "      <td>0.281057</td>\n",
              "      <td>0.963824</td>\n",
              "      <td>0</td>\n",
              "    </tr>\n",
              "  </tbody>\n",
              "</table>\n",
              "<p>1000 rows × 3 columns</p>\n",
              "</div>\n",
              "      <button class=\"colab-df-convert\" onclick=\"convertToInteractive('df-1c507e86-283d-4d2e-863c-9ea720d2493c')\"\n",
              "              title=\"Convert this dataframe to an interactive table.\"\n",
              "              style=\"display:none;\">\n",
              "        \n",
              "  <svg xmlns=\"http://www.w3.org/2000/svg\" height=\"24px\"viewBox=\"0 0 24 24\"\n",
              "       width=\"24px\">\n",
              "    <path d=\"M0 0h24v24H0V0z\" fill=\"none\"/>\n",
              "    <path d=\"M18.56 5.44l.94 2.06.94-2.06 2.06-.94-2.06-.94-.94-2.06-.94 2.06-2.06.94zm-11 1L8.5 8.5l.94-2.06 2.06-.94-2.06-.94L8.5 2.5l-.94 2.06-2.06.94zm10 10l.94 2.06.94-2.06 2.06-.94-2.06-.94-.94-2.06-.94 2.06-2.06.94z\"/><path d=\"M17.41 7.96l-1.37-1.37c-.4-.4-.92-.59-1.43-.59-.52 0-1.04.2-1.43.59L10.3 9.45l-7.72 7.72c-.78.78-.78 2.05 0 2.83L4 21.41c.39.39.9.59 1.41.59.51 0 1.02-.2 1.41-.59l7.78-7.78 2.81-2.81c.8-.78.8-2.07 0-2.86zM5.41 20L4 18.59l7.72-7.72 1.47 1.35L5.41 20z\"/>\n",
              "  </svg>\n",
              "      </button>\n",
              "      \n",
              "  <style>\n",
              "    .colab-df-container {\n",
              "      display:flex;\n",
              "      flex-wrap:wrap;\n",
              "      gap: 12px;\n",
              "    }\n",
              "\n",
              "    .colab-df-convert {\n",
              "      background-color: #E8F0FE;\n",
              "      border: none;\n",
              "      border-radius: 50%;\n",
              "      cursor: pointer;\n",
              "      display: none;\n",
              "      fill: #1967D2;\n",
              "      height: 32px;\n",
              "      padding: 0 0 0 0;\n",
              "      width: 32px;\n",
              "    }\n",
              "\n",
              "    .colab-df-convert:hover {\n",
              "      background-color: #E2EBFA;\n",
              "      box-shadow: 0px 1px 2px rgba(60, 64, 67, 0.3), 0px 1px 3px 1px rgba(60, 64, 67, 0.15);\n",
              "      fill: #174EA6;\n",
              "    }\n",
              "\n",
              "    [theme=dark] .colab-df-convert {\n",
              "      background-color: #3B4455;\n",
              "      fill: #D2E3FC;\n",
              "    }\n",
              "\n",
              "    [theme=dark] .colab-df-convert:hover {\n",
              "      background-color: #434B5C;\n",
              "      box-shadow: 0px 1px 3px 1px rgba(0, 0, 0, 0.15);\n",
              "      filter: drop-shadow(0px 1px 2px rgba(0, 0, 0, 0.3));\n",
              "      fill: #FFFFFF;\n",
              "    }\n",
              "  </style>\n",
              "\n",
              "      <script>\n",
              "        const buttonEl =\n",
              "          document.querySelector('#df-1c507e86-283d-4d2e-863c-9ea720d2493c button.colab-df-convert');\n",
              "        buttonEl.style.display =\n",
              "          google.colab.kernel.accessAllowed ? 'block' : 'none';\n",
              "\n",
              "        async function convertToInteractive(key) {\n",
              "          const element = document.querySelector('#df-1c507e86-283d-4d2e-863c-9ea720d2493c');\n",
              "          const dataTable =\n",
              "            await google.colab.kernel.invokeFunction('convertToInteractive',\n",
              "                                                     [key], {});\n",
              "          if (!dataTable) return;\n",
              "\n",
              "          const docLinkHtml = 'Like what you see? Visit the ' +\n",
              "            '<a target=\"_blank\" href=https://colab.research.google.com/notebooks/data_table.ipynb>data table notebook</a>'\n",
              "            + ' to learn more about interactive tables.';\n",
              "          element.innerHTML = '';\n",
              "          dataTable['output_type'] = 'display_data';\n",
              "          await google.colab.output.renderOutput(dataTable, element);\n",
              "          const docLink = document.createElement('div');\n",
              "          docLink.innerHTML = docLinkHtml;\n",
              "          element.appendChild(docLink);\n",
              "        }\n",
              "      </script>\n",
              "    </div>\n",
              "  </div>\n",
              "  "
            ]
          },
          "metadata": {},
          "execution_count": 5
        }
      ]
    },
    {
      "cell_type": "code",
      "source": [
        "#import matplotlib\n",
        "import matplotlib.pyplot as plt\n",
        "#visualise the datas\n",
        "plt.scatter(X[:,0], X[:,1],c= y)\n",
        "#show the plot\n",
        "plt.show()"
      ],
      "metadata": {
        "colab": {
          "base_uri": "https://localhost:8080/",
          "height": 430
        },
        "id": "F5qNtPKdfttD",
        "outputId": "e6f3fe88-e936-454d-8715-375d208e81cb"
      },
      "execution_count": 6,
      "outputs": [
        {
          "output_type": "display_data",
          "data": {
            "text/plain": [
              "<Figure size 640x480 with 1 Axes>"
            ],
            "image/png": "[encoded data removed]"
          },
          "metadata": {}
        }
      ]
    },
    {
      "cell_type": "markdown",
      "source": [
        "# Input and Output Shapes"
      ],
      "metadata": {
        "id": "673ZxFLikLxE"
      }
    },
    {
      "cell_type": "code",
      "source": [
        "X.shape,y.shape"
      ],
      "metadata": {
        "colab": {
          "base_uri": "https://localhost:8080/"
        },
        "id": "XGMJcXe_fuBn",
        "outputId": "d58605ec-4e4c-4154-ca3d-2aac16ff0188"
      },
      "execution_count": 7,
      "outputs": [
        {
          "output_type": "execute_result",
          "data": {
            "text/plain": [
              "((1000, 2), (1000,))"
            ]
          },
          "metadata": {},
          "execution_count": 7
        }
      ]
    },
    {
      "cell_type": "markdown",
      "source": [
        "# Modelling\n",
        "We are gonna create some models until we make around 95+ accuracy score"
      ],
      "metadata": {
        "id": "b8m4RDsEkgq0"
      }
    },
    {
      "cell_type": "code",
      "source": [
        "#train test splitting\n",
        "X_train = X[:800]\n",
        "X_test = X[800:]\n",
        "\n",
        "y_train = X[:800]\n",
        "y_test = X[800:]\n",
        "\n",
        "#looking for shape\n",
        "X_train.shape,y_train.shape,X_test.shape,y_test.shape"
      ],
      "metadata": {
        "id": "8pBsfmLokgn6",
        "colab": {
          "base_uri": "https://localhost:8080/"
        },
        "outputId": "bf6a5177-ce58-4e4c-b62c-b20837d05199"
      },
      "execution_count": 8,
      "outputs": [
        {
          "output_type": "execute_result",
          "data": {
            "text/plain": [
              "((800, 2), (800, 2), (200, 2), (200, 2))"
            ]
          },
          "metadata": {},
          "execution_count": 8
        }
      ]
    },
    {
      "cell_type": "markdown",
      "source": [
        "##Model 1"
      ],
      "metadata": {
        "id": "KiaD1g50G8dr"
      }
    },
    {
      "cell_type": "code",
      "source": [
        "#creating model\n",
        "model_1 = tf.keras.models.Sequential([\n",
        "    tf.keras.layers.Dense(1)\n",
        "])\n",
        "\n",
        "#compile the model\n",
        "model_1.compile(loss= 'mae',optimizer= 'sgd',metrics=['accuracy'])\n",
        "\n",
        "#fit the model\n",
        "model_1.fit(tf.expand_dims(X_train,axis=-1),y_train,epochs=10)"
      ],
      "metadata": {
        "id": "ASW2BLLwkglT",
        "colab": {
          "base_uri": "https://localhost:8080/"
        },
        "outputId": "0ecf239a-b42a-44f2-92ff-20a8ccaf3a3a"
      },
      "execution_count": 9,
      "outputs": [
        {
          "output_type": "stream",
          "name": "stdout",
          "text": [
            "Epoch 1/10\n",
            "25/25 [==============================] - 5s 3ms/step - loss: 0.9295 - accuracy: 0.0000e+00\n",
            "Epoch 2/10\n",
            "25/25 [==============================] - 0s 3ms/step - loss: 0.8476 - accuracy: 0.0000e+00\n",
            "Epoch 3/10\n",
            "25/25 [==============================] - 0s 3ms/step - loss: 0.7656 - accuracy: 0.0000e+00\n",
            "Epoch 4/10\n",
            "25/25 [==============================] - 0s 3ms/step - loss: 0.6837 - accuracy: 0.0000e+00\n",
            "Epoch 5/10\n",
            "25/25 [==============================] - 0s 3ms/step - loss: 0.6017 - accuracy: 0.0000e+00\n",
            "Epoch 6/10\n",
            "25/25 [==============================] - 0s 3ms/step - loss: 0.5198 - accuracy: 0.0000e+00\n",
            "Epoch 7/10\n",
            "25/25 [==============================] - 0s 3ms/step - loss: 0.4379 - accuracy: 0.0000e+00\n",
            "Epoch 8/10\n",
            "25/25 [==============================] - 0s 3ms/step - loss: 0.3559 - accuracy: 0.0000e+00\n",
            "Epoch 9/10\n",
            "25/25 [==============================] - 0s 3ms/step - loss: 0.2740 - accuracy: 0.0000e+00\n",
            "Epoch 10/10\n",
            "25/25 [==============================] - 0s 3ms/step - loss: 0.1920 - accuracy: 0.0000e+00\n"
          ]
        },
        {
          "output_type": "execute_result",
          "data": {
            "text/plain": [
              "<keras.callbacks.History at 0x7f557c0774f0>"
            ]
          },
          "metadata": {},
          "execution_count": 9
        }
      ]
    },
    {
      "cell_type": "code",
      "source": [
        "#get the predictions\n",
        "predictions_1 = model_1.predict(X_test)"
      ],
      "metadata": {
        "colab": {
          "base_uri": "https://localhost:8080/"
        },
        "id": "HRSaTk0wHGFR",
        "outputId": "b7168b42-3566-4f6d-b0e3-3229b8cd9b3c"
      },
      "execution_count": 10,
      "outputs": [
        {
          "output_type": "stream",
          "name": "stdout",
          "text": [
            "7/7 [==============================] - 0s 4ms/step\n"
          ]
        }
      ]
    },
    {
      "cell_type": "code",
      "source": [
        "model_1.evaluate(y_test)"
      ],
      "metadata": {
        "colab": {
          "base_uri": "https://localhost:8080/"
        },
        "id": "wB9RQyBsHGC_",
        "outputId": "92cd9028-2c65-4ecb-e360-792581dde10b"
      },
      "execution_count": 11,
      "outputs": [
        {
          "output_type": "stream",
          "name": "stdout",
          "text": [
            "7/7 [==============================] - 0s 5ms/step - loss: 0.0000e+00 - accuracy: 0.0000e+00\n"
          ]
        },
        {
          "output_type": "execute_result",
          "data": {
            "text/plain": [
              "[0.0, 0.0]"
            ]
          },
          "metadata": {},
          "execution_count": 11
        }
      ]
    },
    {
      "cell_type": "markdown",
      "source": [
        "## Model 2"
      ],
      "metadata": {
        "id": "MdelE-gTkgic"
      }
    },
    {
      "cell_type": "code",
      "source": [
        "#create the model\n",
        "model_2 = tf.keras.models.Sequential([\n",
        "    tf.keras.layers.Dense(100,activation= 'relu'),   #1 hidden layer added\n",
        "    tf.keras.layers.Dense(1)\n",
        "])\n",
        "\n",
        "#compile the model\n",
        "model_2.compile(loss='mae', optimizer= 'adam', metrics= ['accuracy'])\n",
        "\n",
        "#fit the model\n",
        "model_2.fit(tf.expand_dims(X_train,axis=-1),y_train,epochs=20) #number of epochs is increased to the 20"
      ],
      "metadata": {
        "id": "XL6I8SWCkgf1",
        "colab": {
          "base_uri": "https://localhost:8080/"
        },
        "outputId": "b497b65c-338f-4414-8cae-8112ad06b057"
      },
      "execution_count": 12,
      "outputs": [
        {
          "output_type": "stream",
          "name": "stdout",
          "text": [
            "Epoch 1/20\n",
            "25/25 [==============================] - 2s 5ms/step - loss: 0.4217 - accuracy: 0.0000e+00\n",
            "Epoch 2/20\n",
            "25/25 [==============================] - 0s 4ms/step - loss: 0.1723 - accuracy: 0.0000e+00\n",
            "Epoch 3/20\n",
            "25/25 [==============================] - 0s 6ms/step - loss: 0.0723 - accuracy: 0.0000e+00\n",
            "Epoch 4/20\n",
            "25/25 [==============================] - 0s 6ms/step - loss: 0.0568 - accuracy: 0.0000e+00\n",
            "Epoch 5/20\n",
            "25/25 [==============================] - 0s 6ms/step - loss: 0.0488 - accuracy: 0.0000e+00\n",
            "Epoch 6/20\n",
            "25/25 [==============================] - 0s 4ms/step - loss: 0.0394 - accuracy: 0.0000e+00\n",
            "Epoch 7/20\n",
            "25/25 [==============================] - 0s 6ms/step - loss: 0.0298 - accuracy: 0.0000e+00\n",
            "Epoch 8/20\n",
            "25/25 [==============================] - 0s 5ms/step - loss: 0.0177 - accuracy: 0.0000e+00\n",
            "Epoch 9/20\n",
            "25/25 [==============================] - 0s 5ms/step - loss: 0.0063 - accuracy: 0.0000e+00\n",
            "Epoch 10/20\n",
            "25/25 [==============================] - 0s 4ms/step - loss: 0.0038 - accuracy: 0.0000e+00\n",
            "Epoch 11/20\n",
            "25/25 [==============================] - 0s 5ms/step - loss: 0.0024 - accuracy: 0.0000e+00\n",
            "Epoch 12/20\n",
            "25/25 [==============================] - 0s 6ms/step - loss: 0.0017 - accuracy: 0.0000e+00\n",
            "Epoch 13/20\n",
            "25/25 [==============================] - 0s 4ms/step - loss: 0.0027 - accuracy: 0.0000e+00\n",
            "Epoch 14/20\n",
            "25/25 [==============================] - 0s 5ms/step - loss: 0.0016 - accuracy: 0.0000e+00\n",
            "Epoch 15/20\n",
            "25/25 [==============================] - 0s 8ms/step - loss: 0.0016 - accuracy: 0.0000e+00\n",
            "Epoch 16/20\n",
            "25/25 [==============================] - 0s 5ms/step - loss: 0.0024 - accuracy: 0.0000e+00\n",
            "Epoch 17/20\n",
            "25/25 [==============================] - 0s 5ms/step - loss: 0.0013 - accuracy: 0.0000e+00\n",
            "Epoch 18/20\n",
            "25/25 [==============================] - 0s 5ms/step - loss: 0.0016 - accuracy: 0.0000e+00\n",
            "Epoch 19/20\n",
            "25/25 [==============================] - 0s 7ms/step - loss: 0.0023 - accuracy: 0.0000e+00\n",
            "Epoch 20/20\n",
            "25/25 [==============================] - 0s 5ms/step - loss: 0.0015 - accuracy: 0.0000e+00\n"
          ]
        },
        {
          "output_type": "execute_result",
          "data": {
            "text/plain": [
              "<keras.callbacks.History at 0x7f557002c3a0>"
            ]
          },
          "metadata": {},
          "execution_count": 12
        }
      ]
    },
    {
      "cell_type": "code",
      "source": [
        "#get the predictions\n",
        "predictions_2 = model_2.predict(X_test)\n",
        "\n",
        "#evaluate the model\n",
        "model_2.evaluate(predictions_2)"
      ],
      "metadata": {
        "id": "fqeAwMqwkgdj",
        "colab": {
          "base_uri": "https://localhost:8080/"
        },
        "outputId": "2230f24c-8edd-4510-a37f-df2e4bb40c18"
      },
      "execution_count": 13,
      "outputs": [
        {
          "output_type": "stream",
          "name": "stdout",
          "text": [
            "7/7 [==============================] - 0s 4ms/step\n",
            "7/7 [==============================] - 0s 3ms/step - loss: 0.0000e+00 - accuracy: 0.0000e+00\n"
          ]
        },
        {
          "output_type": "execute_result",
          "data": {
            "text/plain": [
              "[0.0, 0.0]"
            ]
          },
          "metadata": {},
          "execution_count": 13
        }
      ]
    },
    {
      "cell_type": "markdown",
      "source": [
        "## Model 3"
      ],
      "metadata": {
        "id": "YmvoR0pokgao"
      }
    },
    {
      "cell_type": "code",
      "source": [
        "#create the third model\n",
        "model_3 = tf.keras.models.Sequential([\n",
        "    tf.keras.layers.Dense(100,activation= 'relu'),\n",
        "    tf.keras.layers.Dense(100,activation= 'relu'),   # 1 hidden layer is added\n",
        "    tf.keras.layers.Dense(1)\n",
        "])\n",
        "\n",
        "#compile the model\n",
        "model_3.compile(loss= tf.keras.losses.BinaryCrossentropy(),   #loss is changed because our problem is binary classification\n",
        "                optimizer= 'sgd',\n",
        "                metrics= ['accuracy'])\n",
        "\n",
        "#fit the model\n",
        "model_3.fit(tf.expand_dims(X_train,axis=-1),y_train,epochs= 25)"
      ],
      "metadata": {
        "id": "ATrrGrkrkgYB",
        "colab": {
          "base_uri": "https://localhost:8080/"
        },
        "outputId": "6d29c215-02b7-4c15-c149-0841322f2115"
      },
      "execution_count": 14,
      "outputs": [
        {
          "output_type": "stream",
          "name": "stdout",
          "text": [
            "Epoch 1/25\n",
            "25/25 [==============================] - 1s 3ms/step - loss: -3.8639 - accuracy: 0.0000e+00\n",
            "Epoch 2/25\n",
            "25/25 [==============================] - 0s 3ms/step - loss: -4.1391 - accuracy: 0.0000e+00\n",
            "Epoch 3/25\n",
            "25/25 [==============================] - 0s 3ms/step - loss: -4.1684 - accuracy: 0.0000e+00\n",
            "Epoch 4/25\n",
            "25/25 [==============================] - 0s 3ms/step - loss: -4.1825 - accuracy: 0.0000e+00\n",
            "Epoch 5/25\n",
            "25/25 [==============================] - 0s 3ms/step - loss: -4.1879 - accuracy: 0.0000e+00\n",
            "Epoch 6/25\n",
            "25/25 [==============================] - 0s 4ms/step - loss: -4.1906 - accuracy: 0.0000e+00\n",
            "Epoch 7/25\n",
            "25/25 [==============================] - 0s 3ms/step - loss: -4.1917 - accuracy: 0.0000e+00\n",
            "Epoch 8/25\n",
            "25/25 [==============================] - 0s 3ms/step - loss: -4.1933 - accuracy: 0.0000e+00\n",
            "Epoch 9/25\n",
            "25/25 [==============================] - 0s 3ms/step - loss: -4.1943 - accuracy: 0.0000e+00\n",
            "Epoch 10/25\n",
            "25/25 [==============================] - 0s 3ms/step - loss: -4.1947 - accuracy: 0.0000e+00\n",
            "Epoch 11/25\n",
            "25/25 [==============================] - 0s 3ms/step - loss: -4.1837 - accuracy: 0.0000e+00\n",
            "Epoch 12/25\n",
            "25/25 [==============================] - 0s 3ms/step - loss: -4.1620 - accuracy: 0.0000e+00\n",
            "Epoch 13/25\n",
            "25/25 [==============================] - 0s 3ms/step - loss: -4.1926 - accuracy: 0.0000e+00\n",
            "Epoch 14/25\n",
            "25/25 [==============================] - 0s 3ms/step - loss: -4.1944 - accuracy: 0.0000e+00\n",
            "Epoch 15/25\n",
            "25/25 [==============================] - 0s 3ms/step - loss: -4.1921 - accuracy: 0.0000e+00\n",
            "Epoch 16/25\n",
            "25/25 [==============================] - 0s 3ms/step - loss: -4.1948 - accuracy: 0.0000e+00\n",
            "Epoch 17/25\n",
            "25/25 [==============================] - 0s 3ms/step - loss: -4.1914 - accuracy: 0.0000e+00\n",
            "Epoch 18/25\n",
            "25/25 [==============================] - 0s 3ms/step - loss: -4.1936 - accuracy: 0.0000e+00\n",
            "Epoch 19/25\n",
            "25/25 [==============================] - 0s 3ms/step - loss: -4.1958 - accuracy: 0.0000e+00\n",
            "Epoch 20/25\n",
            "25/25 [==============================] - 0s 3ms/step - loss: -4.1957 - accuracy: 0.0000e+00\n",
            "Epoch 21/25\n",
            "25/25 [==============================] - 0s 3ms/step - loss: -4.1344 - accuracy: 0.0000e+00\n",
            "Epoch 22/25\n",
            "25/25 [==============================] - 0s 3ms/step - loss: -4.1903 - accuracy: 0.0000e+00\n",
            "Epoch 23/25\n",
            "25/25 [==============================] - 0s 3ms/step - loss: -4.1786 - accuracy: 0.0000e+00\n",
            "Epoch 24/25\n",
            "25/25 [==============================] - 0s 3ms/step - loss: -4.1885 - accuracy: 0.0000e+00\n",
            "Epoch 25/25\n",
            "25/25 [==============================] - 0s 3ms/step - loss: -4.1960 - accuracy: 0.0000e+00\n"
          ]
        },
        {
          "output_type": "execute_result",
          "data": {
            "text/plain": [
              "<keras.callbacks.History at 0x7f555c082590>"
            ]
          },
          "metadata": {},
          "execution_count": 14
        }
      ]
    },
    {
      "cell_type": "code",
      "source": [],
      "metadata": {
        "id": "uGnkODwGkgVb"
      },
      "execution_count": 14,
      "outputs": []
    },
    {
      "cell_type": "code",
      "source": [],
      "metadata": {
        "id": "IBKldxYxkgSj"
      },
      "execution_count": 14,
      "outputs": []
    },
    {
      "cell_type": "markdown",
      "source": [
        "##Model 4"
      ],
      "metadata": {
        "id": "KN-1dyhhkgP9"
      }
    },
    {
      "cell_type": "code",
      "source": [
        "\n",
        "\n",
        "#create the model_4\n",
        "model_4 = tf.keras.models.Sequential([\n",
        "    tf.keras.layers.Dense(4, activation= 'relu'),\n",
        "    tf.keras.layers.Dense(4, activation= 'relu'),\n",
        "    tf.keras.layers.Dense(4, activation= 'relu'),  #number of hidden layers is increased\n",
        "    tf.keras.layers.Dense(1, activation= 'softmax')  #activation function(Sigmoid) for output layer to get 1 answer instead of predictions\n",
        "])\n",
        "\n",
        "#compile the model\n",
        "model_4.compile(loss= tf.keras.losses.binary_crossentropy,\n",
        "                optimizer= tf.keras.optimizers.Adam(lr= 0.001),   #optimizer is chnaged to the Adam with learning rate of 0.001\n",
        "                metrics = tf.keras.metrics.Accuracy())\n",
        "\n",
        "#fit the model\n",
        "model_4.fit(tf.expand_dims(X_train,axis=-1),y_train, epochs= 100)  #number of epochs is increased about 100 to learn better"
      ],
      "metadata": {
        "id": "KJP5RhdVkgNF",
        "colab": {
          "base_uri": "https://localhost:8080/"
        },
        "outputId": "b3b089e7-6534-49b4-ff2c-a35db87d04d9"
      },
      "execution_count": 15,
      "outputs": [
        {
          "output_type": "stream",
          "name": "stderr",
          "text": [
            "WARNING:absl:`lr` is deprecated in Keras optimizer, please use `learning_rate` or use the legacy optimizer, e.g.,tf.keras.optimizers.legacy.Adam.\n"
          ]
        },
        {
          "output_type": "stream",
          "name": "stdout",
          "text": [
            "Epoch 1/100\n",
            "25/25 [==============================] - 2s 3ms/step - loss: 15.2931 - accuracy: 0.0000e+00\n",
            "Epoch 2/100\n",
            "25/25 [==============================] - 0s 3ms/step - loss: 15.2931 - accuracy: 0.0000e+00\n",
            "Epoch 3/100\n",
            "25/25 [==============================] - 0s 3ms/step - loss: 15.2931 - accuracy: 0.0000e+00\n",
            "Epoch 4/100\n",
            "25/25 [==============================] - 0s 3ms/step - loss: 15.2931 - accuracy: 0.0000e+00\n",
            "Epoch 5/100\n",
            "25/25 [==============================] - 0s 3ms/step - loss: 15.2931 - accuracy: 0.0000e+00\n",
            "Epoch 6/100\n",
            "25/25 [==============================] - 0s 3ms/step - loss: 15.2931 - accuracy: 0.0000e+00\n",
            "Epoch 7/100\n",
            "25/25 [==============================] - 0s 3ms/step - loss: 15.2931 - accuracy: 0.0000e+00\n",
            "Epoch 8/100\n",
            "25/25 [==============================] - 0s 3ms/step - loss: 15.2931 - accuracy: 0.0000e+00\n",
            "Epoch 9/100\n",
            "25/25 [==============================] - 0s 3ms/step - loss: 15.2931 - accuracy: 0.0000e+00\n",
            "Epoch 10/100\n",
            "25/25 [==============================] - 0s 3ms/step - loss: 15.2931 - accuracy: 0.0000e+00\n",
            "Epoch 11/100\n",
            "25/25 [==============================] - 0s 4ms/step - loss: 15.2931 - accuracy: 0.0000e+00\n",
            "Epoch 12/100\n",
            "25/25 [==============================] - 0s 3ms/step - loss: 15.2931 - accuracy: 0.0000e+00\n",
            "Epoch 13/100\n",
            "25/25 [==============================] - 0s 3ms/step - loss: 15.2931 - accuracy: 0.0000e+00\n",
            "Epoch 14/100\n",
            "25/25 [==============================] - 0s 3ms/step - loss: 15.2931 - accuracy: 0.0000e+00\n",
            "Epoch 15/100\n",
            "25/25 [==============================] - 0s 3ms/step - loss: 15.2931 - accuracy: 0.0000e+00\n",
            "Epoch 16/100\n",
            "25/25 [==============================] - 0s 3ms/step - loss: 15.2931 - accuracy: 0.0000e+00\n",
            "Epoch 17/100\n",
            "25/25 [==============================] - 0s 3ms/step - loss: 15.2931 - accuracy: 0.0000e+00\n",
            "Epoch 18/100\n",
            "25/25 [==============================] - 0s 3ms/step - loss: 15.2931 - accuracy: 0.0000e+00\n",
            "Epoch 19/100\n",
            "25/25 [==============================] - 0s 3ms/step - loss: 15.2931 - accuracy: 0.0000e+00\n",
            "Epoch 20/100\n",
            "25/25 [==============================] - 0s 3ms/step - loss: 15.2931 - accuracy: 0.0000e+00\n",
            "Epoch 21/100\n",
            "25/25 [==============================] - 0s 3ms/step - loss: 15.2931 - accuracy: 0.0000e+00\n",
            "Epoch 22/100\n",
            "25/25 [==============================] - 0s 3ms/step - loss: 15.2931 - accuracy: 0.0000e+00\n",
            "Epoch 23/100\n",
            "25/25 [==============================] - 0s 3ms/step - loss: 15.2931 - accuracy: 0.0000e+00\n",
            "Epoch 24/100\n",
            "25/25 [==============================] - 0s 3ms/step - loss: 15.2931 - accuracy: 0.0000e+00\n",
            "Epoch 25/100\n",
            "25/25 [==============================] - 0s 3ms/step - loss: 15.2931 - accuracy: 0.0000e+00\n",
            "Epoch 26/100\n",
            "25/25 [==============================] - 0s 3ms/step - loss: 15.2931 - accuracy: 0.0000e+00\n",
            "Epoch 27/100\n",
            "25/25 [==============================] - 0s 3ms/step - loss: 15.2931 - accuracy: 0.0000e+00\n",
            "Epoch 28/100\n",
            "25/25 [==============================] - 0s 3ms/step - loss: 15.2931 - accuracy: 0.0000e+00\n",
            "Epoch 29/100\n",
            "25/25 [==============================] - 0s 3ms/step - loss: 15.2931 - accuracy: 0.0000e+00\n",
            "Epoch 30/100\n",
            "25/25 [==============================] - 0s 3ms/step - loss: 15.2931 - accuracy: 0.0000e+00\n",
            "Epoch 31/100\n",
            "25/25 [==============================] - 0s 3ms/step - loss: 15.2931 - accuracy: 0.0000e+00\n",
            "Epoch 32/100\n",
            "25/25 [==============================] - 0s 3ms/step - loss: 15.2931 - accuracy: 0.0000e+00\n",
            "Epoch 33/100\n",
            "25/25 [==============================] - 0s 3ms/step - loss: 15.2931 - accuracy: 0.0000e+00\n",
            "Epoch 34/100\n",
            "25/25 [==============================] - 0s 3ms/step - loss: 15.2931 - accuracy: 0.0000e+00\n",
            "Epoch 35/100\n",
            "25/25 [==============================] - 0s 3ms/step - loss: 15.2931 - accuracy: 0.0000e+00\n",
            "Epoch 36/100\n",
            "25/25 [==============================] - 0s 3ms/step - loss: 15.2931 - accuracy: 0.0000e+00\n",
            "Epoch 37/100\n",
            "25/25 [==============================] - 0s 3ms/step - loss: 15.2931 - accuracy: 0.0000e+00\n",
            "Epoch 38/100\n",
            "25/25 [==============================] - 0s 3ms/step - loss: 15.2931 - accuracy: 0.0000e+00\n",
            "Epoch 39/100\n",
            "25/25 [==============================] - 0s 3ms/step - loss: 15.2931 - accuracy: 0.0000e+00\n",
            "Epoch 40/100\n",
            "25/25 [==============================] - 0s 3ms/step - loss: 15.2931 - accuracy: 0.0000e+00\n",
            "Epoch 41/100\n",
            "25/25 [==============================] - 0s 3ms/step - loss: 15.2931 - accuracy: 0.0000e+00\n",
            "Epoch 42/100\n",
            "25/25 [==============================] - 0s 3ms/step - loss: 15.2931 - accuracy: 0.0000e+00\n",
            "Epoch 43/100\n",
            "25/25 [==============================] - 0s 3ms/step - loss: 15.2931 - accuracy: 0.0000e+00\n",
            "Epoch 44/100\n",
            "25/25 [==============================] - 0s 3ms/step - loss: 15.2931 - accuracy: 0.0000e+00\n",
            "Epoch 45/100\n",
            "25/25 [==============================] - 0s 3ms/step - loss: 15.2931 - accuracy: 0.0000e+00\n",
            "Epoch 46/100\n",
            "25/25 [==============================] - 0s 3ms/step - loss: 15.2931 - accuracy: 0.0000e+00\n",
            "Epoch 47/100\n",
            "25/25 [==============================] - 0s 3ms/step - loss: 15.2931 - accuracy: 0.0000e+00\n",
            "Epoch 48/100\n",
            "25/25 [==============================] - 0s 3ms/step - loss: 15.2931 - accuracy: 0.0000e+00\n",
            "Epoch 49/100\n",
            "25/25 [==============================] - 0s 3ms/step - loss: 15.2931 - accuracy: 0.0000e+00\n",
            "Epoch 50/100\n",
            "25/25 [==============================] - 0s 3ms/step - loss: 15.2931 - accuracy: 0.0000e+00\n",
            "Epoch 51/100\n",
            "25/25 [==============================] - 0s 3ms/step - loss: 15.2931 - accuracy: 0.0000e+00\n",
            "Epoch 52/100\n",
            "25/25 [==============================] - 0s 3ms/step - loss: 15.2931 - accuracy: 0.0000e+00\n",
            "Epoch 53/100\n",
            "25/25 [==============================] - 0s 3ms/step - loss: 15.2931 - accuracy: 0.0000e+00\n",
            "Epoch 54/100\n",
            "25/25 [==============================] - 0s 3ms/step - loss: 15.2931 - accuracy: 0.0000e+00\n",
            "Epoch 55/100\n",
            "25/25 [==============================] - 0s 4ms/step - loss: 15.2931 - accuracy: 0.0000e+00\n",
            "Epoch 56/100\n",
            "25/25 [==============================] - 0s 3ms/step - loss: 15.2931 - accuracy: 0.0000e+00\n",
            "Epoch 57/100\n",
            "25/25 [==============================] - 0s 3ms/step - loss: 15.2931 - accuracy: 0.0000e+00\n",
            "Epoch 58/100\n",
            "25/25 [==============================] - 0s 3ms/step - loss: 15.2931 - accuracy: 0.0000e+00\n",
            "Epoch 59/100\n",
            "25/25 [==============================] - 0s 3ms/step - loss: 15.2931 - accuracy: 0.0000e+00\n",
            "Epoch 60/100\n",
            "25/25 [==============================] - 0s 3ms/step - loss: 15.2931 - accuracy: 0.0000e+00\n",
            "Epoch 61/100\n",
            "25/25 [==============================] - 0s 3ms/step - loss: 15.2931 - accuracy: 0.0000e+00\n",
            "Epoch 62/100\n",
            "25/25 [==============================] - 0s 3ms/step - loss: 15.2931 - accuracy: 0.0000e+00\n",
            "Epoch 63/100\n",
            "25/25 [==============================] - 0s 3ms/step - loss: 15.2931 - accuracy: 0.0000e+00\n",
            "Epoch 64/100\n",
            "25/25 [==============================] - 0s 3ms/step - loss: 15.2931 - accuracy: 0.0000e+00\n",
            "Epoch 65/100\n",
            "25/25 [==============================] - 0s 3ms/step - loss: 15.2931 - accuracy: 0.0000e+00\n",
            "Epoch 66/100\n",
            "25/25 [==============================] - 0s 3ms/step - loss: 15.2931 - accuracy: 0.0000e+00\n",
            "Epoch 67/100\n",
            "25/25 [==============================] - 0s 3ms/step - loss: 15.2931 - accuracy: 0.0000e+00\n",
            "Epoch 68/100\n",
            "25/25 [==============================] - 0s 3ms/step - loss: 15.2931 - accuracy: 0.0000e+00\n",
            "Epoch 69/100\n",
            "25/25 [==============================] - 0s 3ms/step - loss: 15.2931 - accuracy: 0.0000e+00\n",
            "Epoch 70/100\n",
            "25/25 [==============================] - 0s 3ms/step - loss: 15.2931 - accuracy: 0.0000e+00\n",
            "Epoch 71/100\n",
            "25/25 [==============================] - 0s 5ms/step - loss: 15.2931 - accuracy: 0.0000e+00\n",
            "Epoch 72/100\n",
            "25/25 [==============================] - 0s 5ms/step - loss: 15.2931 - accuracy: 0.0000e+00\n",
            "Epoch 73/100\n",
            "25/25 [==============================] - 0s 4ms/step - loss: 15.2931 - accuracy: 0.0000e+00\n",
            "Epoch 74/100\n",
            "25/25 [==============================] - 0s 4ms/step - loss: 15.2931 - accuracy: 0.0000e+00\n",
            "Epoch 75/100\n",
            "25/25 [==============================] - 0s 4ms/step - loss: 15.2931 - accuracy: 0.0000e+00\n",
            "Epoch 76/100\n",
            "25/25 [==============================] - 0s 4ms/step - loss: 15.2931 - accuracy: 0.0000e+00\n",
            "Epoch 77/100\n",
            "25/25 [==============================] - 0s 4ms/step - loss: 15.2931 - accuracy: 0.0000e+00\n",
            "Epoch 78/100\n",
            "25/25 [==============================] - 0s 4ms/step - loss: 15.2931 - accuracy: 0.0000e+00\n",
            "Epoch 79/100\n",
            "25/25 [==============================] - 0s 4ms/step - loss: 15.2931 - accuracy: 0.0000e+00\n",
            "Epoch 80/100\n",
            "25/25 [==============================] - 0s 5ms/step - loss: 15.2931 - accuracy: 0.0000e+00\n",
            "Epoch 81/100\n",
            "25/25 [==============================] - 0s 4ms/step - loss: 15.2931 - accuracy: 0.0000e+00\n",
            "Epoch 82/100\n",
            "25/25 [==============================] - 0s 4ms/step - loss: 15.2931 - accuracy: 0.0000e+00\n",
            "Epoch 83/100\n",
            "25/25 [==============================] - 0s 4ms/step - loss: 15.2931 - accuracy: 0.0000e+00\n",
            "Epoch 84/100\n",
            "25/25 [==============================] - 0s 4ms/step - loss: 15.2931 - accuracy: 0.0000e+00\n",
            "Epoch 85/100\n",
            "25/25 [==============================] - 0s 4ms/step - loss: 15.2931 - accuracy: 0.0000e+00\n",
            "Epoch 86/100\n",
            "25/25 [==============================] - 0s 4ms/step - loss: 15.2931 - accuracy: 0.0000e+00\n",
            "Epoch 87/100\n",
            "25/25 [==============================] - 0s 4ms/step - loss: 15.2931 - accuracy: 0.0000e+00\n",
            "Epoch 88/100\n",
            "25/25 [==============================] - 0s 4ms/step - loss: 15.2931 - accuracy: 0.0000e+00\n",
            "Epoch 89/100\n",
            "25/25 [==============================] - 0s 4ms/step - loss: 15.2931 - accuracy: 0.0000e+00\n",
            "Epoch 90/100\n",
            "25/25 [==============================] - 0s 4ms/step - loss: 15.2931 - accuracy: 0.0000e+00\n",
            "Epoch 91/100\n",
            "25/25 [==============================] - 0s 4ms/step - loss: 15.2931 - accuracy: 0.0000e+00\n",
            "Epoch 92/100\n",
            "25/25 [==============================] - 0s 4ms/step - loss: 15.2931 - accuracy: 0.0000e+00\n",
            "Epoch 93/100\n",
            "25/25 [==============================] - 0s 3ms/step - loss: 15.2931 - accuracy: 0.0000e+00\n",
            "Epoch 94/100\n",
            "25/25 [==============================] - 0s 3ms/step - loss: 15.2931 - accuracy: 0.0000e+00\n",
            "Epoch 95/100\n",
            "25/25 [==============================] - 0s 3ms/step - loss: 15.2931 - accuracy: 0.0000e+00\n",
            "Epoch 96/100\n",
            "25/25 [==============================] - 0s 3ms/step - loss: 15.2931 - accuracy: 0.0000e+00\n",
            "Epoch 97/100\n",
            "25/25 [==============================] - 0s 3ms/step - loss: 15.2931 - accuracy: 0.0000e+00\n",
            "Epoch 98/100\n",
            "25/25 [==============================] - 0s 3ms/step - loss: 15.2931 - accuracy: 0.0000e+00\n",
            "Epoch 99/100\n",
            "25/25 [==============================] - 0s 3ms/step - loss: 15.2931 - accuracy: 0.0000e+00\n",
            "Epoch 100/100\n",
            "25/25 [==============================] - 0s 3ms/step - loss: 15.2931 - accuracy: 0.0000e+00\n"
          ]
        },
        {
          "output_type": "execute_result",
          "data": {
            "text/plain": [
              "<keras.callbacks.History at 0x7f54f2655ea0>"
            ]
          },
          "metadata": {},
          "execution_count": 15
        }
      ]
    },
    {
      "cell_type": "code",
      "source": [],
      "metadata": {
        "id": "7lDMj5EmkgKO"
      },
      "execution_count": 15,
      "outputs": []
    },
    {
      "cell_type": "code",
      "source": [],
      "metadata": {
        "id": "ZUwxpCUbkgHn"
      },
      "execution_count": 15,
      "outputs": []
    },
    {
      "cell_type": "markdown",
      "source": [
        "## Model 5"
      ],
      "metadata": {
        "id": "45jECZzNkgEy"
      }
    },
    {
      "cell_type": "code",
      "source": [
        "# Set random seed\n",
        "tf.random.set_seed(42)\n",
        "\n",
        "# Create a model\n",
        "model_5 = tf.keras.Sequential([\n",
        "  tf.keras.layers.Dense(4, activation=tf.keras.activations.relu), # hidden layer 1, 4 neurons, ReLU activation\n",
        "  tf.keras.layers.Dense(4, activation=tf.keras.activations.relu), # hidden layer 2, 4 neurons, ReLU activation\n",
        "  tf.keras.layers.Dense(1) # ouput layer\n",
        "])\n",
        "\n",
        "# Compile the model\n",
        "model_5.compile(loss=tf.keras.losses.binary_crossentropy,\n",
        "                optimizer=tf.keras.optimizers.Adam(lr=0.001), # Adam's default learning rate is 0.001\n",
        "                metrics=['accuracy'])\n",
        "\n",
        "# Fit the model\n",
        "history = model_5.fit(X, y, epochs=100)"
      ],
      "metadata": {
        "id": "wYucWrIwkgBr",
        "colab": {
          "base_uri": "https://localhost:8080/"
        },
        "outputId": "d0fb59fb-965f-4481-bf34-dab2b8a556e7"
      },
      "execution_count": 16,
      "outputs": [
        {
          "output_type": "stream",
          "name": "stderr",
          "text": [
            "WARNING:absl:`lr` is deprecated in Keras optimizer, please use `learning_rate` or use the legacy optimizer, e.g.,tf.keras.optimizers.legacy.Adam.\n"
          ]
        },
        {
          "output_type": "stream",
          "name": "stdout",
          "text": [
            "Epoch 1/100\n",
            "32/32 [==============================] - 1s 4ms/step - loss: 3.9802 - accuracy: 0.4830\n",
            "Epoch 2/100\n",
            "32/32 [==============================] - 0s 3ms/step - loss: 3.5544 - accuracy: 0.4630\n",
            "Epoch 3/100\n",
            "32/32 [==============================] - 0s 3ms/step - loss: 3.1906 - accuracy: 0.4760\n",
            "Epoch 4/100\n",
            "32/32 [==============================] - 0s 4ms/step - loss: 2.7584 - accuracy: 0.4800\n",
            "Epoch 5/100\n",
            "32/32 [==============================] - 0s 3ms/step - loss: 2.3099 - accuracy: 0.4820\n",
            "Epoch 6/100\n",
            "32/32 [==============================] - 0s 4ms/step - loss: 1.4369 - accuracy: 0.4740\n",
            "Epoch 7/100\n",
            "32/32 [==============================] - 0s 3ms/step - loss: 0.8891 - accuracy: 0.4700\n",
            "Epoch 8/100\n",
            "32/32 [==============================] - 0s 4ms/step - loss: 0.8701 - accuracy: 0.4720\n",
            "Epoch 9/100\n",
            "32/32 [==============================] - 0s 4ms/step - loss: 0.8586 - accuracy: 0.4710\n",
            "Epoch 10/100\n",
            "32/32 [==============================] - 0s 3ms/step - loss: 0.8494 - accuracy: 0.4660\n",
            "Epoch 11/100\n",
            "32/32 [==============================] - 0s 3ms/step - loss: 0.8412 - accuracy: 0.4670\n",
            "Epoch 12/100\n",
            "32/32 [==============================] - 0s 3ms/step - loss: 0.8340 - accuracy: 0.4660\n",
            "Epoch 13/100\n",
            "32/32 [==============================] - 0s 3ms/step - loss: 0.8273 - accuracy: 0.4650\n",
            "Epoch 14/100\n",
            "32/32 [==============================] - 0s 3ms/step - loss: 0.8213 - accuracy: 0.4650\n",
            "Epoch 15/100\n",
            "32/32 [==============================] - 0s 3ms/step - loss: 0.8156 - accuracy: 0.4660\n",
            "Epoch 16/100\n",
            "32/32 [==============================] - 0s 4ms/step - loss: 0.8102 - accuracy: 0.4670\n",
            "Epoch 17/100\n",
            "32/32 [==============================] - 0s 3ms/step - loss: 0.8053 - accuracy: 0.4670\n",
            "Epoch 18/100\n",
            "32/32 [==============================] - 0s 3ms/step - loss: 0.8006 - accuracy: 0.4660\n",
            "Epoch 19/100\n",
            "32/32 [==============================] - 0s 4ms/step - loss: 0.7965 - accuracy: 0.4660\n",
            "Epoch 20/100\n",
            "32/32 [==============================] - 0s 4ms/step - loss: 0.7926 - accuracy: 0.4670\n",
            "Epoch 21/100\n",
            "32/32 [==============================] - 0s 3ms/step - loss: 0.7888 - accuracy: 0.4670\n",
            "Epoch 22/100\n",
            "32/32 [==============================] - 0s 4ms/step - loss: 0.7853 - accuracy: 0.4680\n",
            "Epoch 23/100\n",
            "32/32 [==============================] - 0s 3ms/step - loss: 0.7819 - accuracy: 0.4700\n",
            "Epoch 24/100\n",
            "32/32 [==============================] - 0s 4ms/step - loss: 0.7788 - accuracy: 0.4710\n",
            "Epoch 25/100\n",
            "32/32 [==============================] - 0s 3ms/step - loss: 0.7761 - accuracy: 0.4710\n",
            "Epoch 26/100\n",
            "32/32 [==============================] - 0s 3ms/step - loss: 0.7730 - accuracy: 0.4730\n",
            "Epoch 27/100\n",
            "32/32 [==============================] - 0s 3ms/step - loss: 0.7705 - accuracy: 0.4720\n",
            "Epoch 28/100\n",
            "32/32 [==============================] - 0s 3ms/step - loss: 0.7677 - accuracy: 0.4720\n",
            "Epoch 29/100\n",
            "32/32 [==============================] - 0s 3ms/step - loss: 0.7656 - accuracy: 0.4700\n",
            "Epoch 30/100\n",
            "32/32 [==============================] - 0s 3ms/step - loss: 0.7633 - accuracy: 0.4660\n",
            "Epoch 31/100\n",
            "32/32 [==============================] - 0s 4ms/step - loss: 0.7611 - accuracy: 0.4680\n",
            "Epoch 32/100\n",
            "32/32 [==============================] - 0s 3ms/step - loss: 0.7592 - accuracy: 0.4680\n",
            "Epoch 33/100\n",
            "32/32 [==============================] - 0s 3ms/step - loss: 0.7572 - accuracy: 0.4670\n",
            "Epoch 34/100\n",
            "32/32 [==============================] - 0s 3ms/step - loss: 0.7554 - accuracy: 0.4670\n",
            "Epoch 35/100\n",
            "32/32 [==============================] - 0s 3ms/step - loss: 0.7538 - accuracy: 0.4680\n",
            "Epoch 36/100\n",
            "32/32 [==============================] - 0s 3ms/step - loss: 0.7520 - accuracy: 0.4650\n",
            "Epoch 37/100\n",
            "32/32 [==============================] - 0s 3ms/step - loss: 0.7504 - accuracy: 0.4650\n",
            "Epoch 38/100\n",
            "32/32 [==============================] - 0s 4ms/step - loss: 0.7489 - accuracy: 0.4670\n",
            "Epoch 39/100\n",
            "32/32 [==============================] - 0s 4ms/step - loss: 0.7474 - accuracy: 0.4680\n",
            "Epoch 40/100\n",
            "32/32 [==============================] - 0s 4ms/step - loss: 0.7461 - accuracy: 0.4670\n",
            "Epoch 41/100\n",
            "32/32 [==============================] - 0s 4ms/step - loss: 0.7447 - accuracy: 0.4680\n",
            "Epoch 42/100\n",
            "32/32 [==============================] - 0s 3ms/step - loss: 0.7435 - accuracy: 0.4680\n",
            "Epoch 43/100\n",
            "32/32 [==============================] - 0s 3ms/step - loss: 0.7422 - accuracy: 0.4690\n",
            "Epoch 44/100\n",
            "32/32 [==============================] - 0s 4ms/step - loss: 0.7410 - accuracy: 0.4690\n",
            "Epoch 45/100\n",
            "32/32 [==============================] - 0s 3ms/step - loss: 0.7397 - accuracy: 0.4700\n",
            "Epoch 46/100\n",
            "32/32 [==============================] - 0s 3ms/step - loss: 0.7386 - accuracy: 0.4690\n",
            "Epoch 47/100\n",
            "32/32 [==============================] - 0s 4ms/step - loss: 0.7377 - accuracy: 0.4730\n",
            "Epoch 48/100\n",
            "32/32 [==============================] - 0s 3ms/step - loss: 0.7366 - accuracy: 0.4740\n",
            "Epoch 49/100\n",
            "32/32 [==============================] - 0s 3ms/step - loss: 0.7355 - accuracy: 0.4720\n",
            "Epoch 50/100\n",
            "32/32 [==============================] - 0s 4ms/step - loss: 0.7345 - accuracy: 0.4710\n",
            "Epoch 51/100\n",
            "32/32 [==============================] - 0s 3ms/step - loss: 0.7334 - accuracy: 0.4720\n",
            "Epoch 52/100\n",
            "32/32 [==============================] - 0s 3ms/step - loss: 0.7325 - accuracy: 0.4740\n",
            "Epoch 53/100\n",
            "32/32 [==============================] - 0s 4ms/step - loss: 0.7315 - accuracy: 0.4720\n",
            "Epoch 54/100\n",
            "32/32 [==============================] - 0s 3ms/step - loss: 0.7305 - accuracy: 0.4730\n",
            "Epoch 55/100\n",
            "32/32 [==============================] - 0s 3ms/step - loss: 0.7297 - accuracy: 0.4740\n",
            "Epoch 56/100\n",
            "32/32 [==============================] - 0s 3ms/step - loss: 0.7286 - accuracy: 0.4740\n",
            "Epoch 57/100\n",
            "32/32 [==============================] - 0s 3ms/step - loss: 0.7276 - accuracy: 0.4720\n",
            "Epoch 58/100\n",
            "32/32 [==============================] - 0s 3ms/step - loss: 0.7267 - accuracy: 0.4760\n",
            "Epoch 59/100\n",
            "32/32 [==============================] - 0s 3ms/step - loss: 0.7260 - accuracy: 0.4740\n",
            "Epoch 60/100\n",
            "32/32 [==============================] - 0s 3ms/step - loss: 0.7248 - accuracy: 0.4750\n",
            "Epoch 61/100\n",
            "32/32 [==============================] - 0s 3ms/step - loss: 0.7240 - accuracy: 0.4720\n",
            "Epoch 62/100\n",
            "32/32 [==============================] - 0s 3ms/step - loss: 0.7230 - accuracy: 0.4730\n",
            "Epoch 63/100\n",
            "32/32 [==============================] - 0s 3ms/step - loss: 0.7221 - accuracy: 0.4730\n",
            "Epoch 64/100\n",
            "32/32 [==============================] - 0s 3ms/step - loss: 0.7214 - accuracy: 0.4740\n",
            "Epoch 65/100\n",
            "32/32 [==============================] - 0s 3ms/step - loss: 0.7204 - accuracy: 0.4740\n",
            "Epoch 66/100\n",
            "32/32 [==============================] - 0s 3ms/step - loss: 0.7195 - accuracy: 0.4730\n",
            "Epoch 67/100\n",
            "32/32 [==============================] - 0s 5ms/step - loss: 0.7185 - accuracy: 0.4730\n",
            "Epoch 68/100\n",
            "32/32 [==============================] - 0s 5ms/step - loss: 0.7177 - accuracy: 0.4740\n",
            "Epoch 69/100\n",
            "32/32 [==============================] - 0s 4ms/step - loss: 0.7168 - accuracy: 0.4750\n",
            "Epoch 70/100\n",
            "32/32 [==============================] - 0s 4ms/step - loss: 0.7159 - accuracy: 0.4760\n",
            "Epoch 71/100\n",
            "32/32 [==============================] - 0s 4ms/step - loss: 0.7150 - accuracy: 0.4760\n",
            "Epoch 72/100\n",
            "32/32 [==============================] - 0s 4ms/step - loss: 0.7141 - accuracy: 0.4790\n",
            "Epoch 73/100\n",
            "32/32 [==============================] - 0s 4ms/step - loss: 0.7132 - accuracy: 0.4790\n",
            "Epoch 74/100\n",
            "32/32 [==============================] - 0s 5ms/step - loss: 0.7123 - accuracy: 0.4780\n",
            "Epoch 75/100\n",
            "32/32 [==============================] - 0s 4ms/step - loss: 0.7114 - accuracy: 0.4770\n",
            "Epoch 76/100\n",
            "32/32 [==============================] - 0s 4ms/step - loss: 0.7105 - accuracy: 0.4790\n",
            "Epoch 77/100\n",
            "32/32 [==============================] - 0s 4ms/step - loss: 0.7095 - accuracy: 0.4810\n",
            "Epoch 78/100\n",
            "32/32 [==============================] - 0s 5ms/step - loss: 0.7086 - accuracy: 0.4810\n",
            "Epoch 79/100\n",
            "32/32 [==============================] - 0s 5ms/step - loss: 0.7076 - accuracy: 0.4820\n",
            "Epoch 80/100\n",
            "32/32 [==============================] - 0s 5ms/step - loss: 0.7065 - accuracy: 0.4810\n",
            "Epoch 81/100\n",
            "32/32 [==============================] - 0s 5ms/step - loss: 0.7056 - accuracy: 0.4850\n",
            "Epoch 82/100\n",
            "32/32 [==============================] - 0s 4ms/step - loss: 0.7046 - accuracy: 0.4860\n",
            "Epoch 83/100\n",
            "32/32 [==============================] - 0s 3ms/step - loss: 0.7037 - accuracy: 0.4840\n",
            "Epoch 84/100\n",
            "32/32 [==============================] - 0s 4ms/step - loss: 0.7023 - accuracy: 0.4890\n",
            "Epoch 85/100\n",
            "32/32 [==============================] - 0s 3ms/step - loss: 0.7013 - accuracy: 0.4910\n",
            "Epoch 86/100\n",
            "32/32 [==============================] - 0s 3ms/step - loss: 0.7002 - accuracy: 0.4870\n",
            "Epoch 87/100\n",
            "32/32 [==============================] - 0s 3ms/step - loss: 0.6987 - accuracy: 0.4910\n",
            "Epoch 88/100\n",
            "32/32 [==============================] - 0s 4ms/step - loss: 0.6975 - accuracy: 0.4920\n",
            "Epoch 89/100\n",
            "32/32 [==============================] - 0s 3ms/step - loss: 0.6963 - accuracy: 0.4900\n",
            "Epoch 90/100\n",
            "32/32 [==============================] - 0s 3ms/step - loss: 0.6953 - accuracy: 0.4870\n",
            "Epoch 91/100\n",
            "32/32 [==============================] - 0s 3ms/step - loss: 0.6941 - accuracy: 0.4920\n",
            "Epoch 92/100\n",
            "32/32 [==============================] - 0s 4ms/step - loss: 0.6933 - accuracy: 0.4930\n",
            "Epoch 93/100\n",
            "32/32 [==============================] - 0s 3ms/step - loss: 0.6926 - accuracy: 0.4900\n",
            "Epoch 94/100\n",
            "32/32 [==============================] - 0s 3ms/step - loss: 0.6911 - accuracy: 0.4880\n",
            "Epoch 95/100\n",
            "32/32 [==============================] - 0s 3ms/step - loss: 0.6901 - accuracy: 0.4930\n",
            "Epoch 96/100\n",
            "32/32 [==============================] - 0s 3ms/step - loss: 0.6890 - accuracy: 0.4920\n",
            "Epoch 97/100\n",
            "32/32 [==============================] - 0s 4ms/step - loss: 0.6881 - accuracy: 0.4960\n",
            "Epoch 98/100\n",
            "32/32 [==============================] - 0s 3ms/step - loss: 0.6871 - accuracy: 0.4930\n",
            "Epoch 99/100\n",
            "32/32 [==============================] - 0s 3ms/step - loss: 0.6862 - accuracy: 0.4960\n",
            "Epoch 100/100\n",
            "32/32 [==============================] - 0s 3ms/step - loss: 0.6850 - accuracy: 0.5020\n"
          ]
        }
      ]
    },
    {
      "cell_type": "markdown",
      "source": [
        "## Model 6"
      ],
      "metadata": {
        "id": "q-LFHHVbFGjM"
      }
    },
    {
      "cell_type": "code",
      "source": [
        "tf.random.set_seed(42)\n",
        "\n",
        "\n",
        "model_6 = tf.keras.models.Sequential([\n",
        "    tf.keras.layers.Dense(4, activation= 'relu'),\n",
        "    tf.keras.layers.Dense(4, activation= 'relu'),\n",
        "    tf.keras.layers.Dense(4, activation= 'relu'),  #number of hidden layers is increased\n",
        "    tf.keras.layers.Dense(1, activation= 'softmax')  #activation function(Sigmoid) for output layer to get 1 answer instead of predictions\n",
        "])\n",
        "\n",
        "#compile the model\n",
        "model_6.compile(loss= tf.keras.losses.binary_crossentropy,\n",
        "                optimizer= tf.keras.optimizers.Adam(lr= 0.001),   #optimizer is chnaged to the Adam with learning rate of 0.001\n",
        "                metrics = tf.keras.metrics.Accuracy())\n",
        "\n",
        "#fit the model\n",
        "model_6.fit(tf.expand_dims(X_train,axis=-1),y_train, epochs= 100)"
      ],
      "metadata": {
        "colab": {
          "base_uri": "https://localhost:8080/"
        },
        "id": "dg5aYrUJLsRi",
        "outputId": "f6900e57-3c03-4a27-87ab-e36292131c82"
      },
      "execution_count": 17,
      "outputs": [
        {
          "output_type": "stream",
          "name": "stderr",
          "text": [
            "WARNING:absl:`lr` is deprecated in Keras optimizer, please use `learning_rate` or use the legacy optimizer, e.g.,tf.keras.optimizers.legacy.Adam.\n"
          ]
        },
        {
          "output_type": "stream",
          "name": "stdout",
          "text": [
            "Epoch 1/100\n",
            "25/25 [==============================] - 3s 4ms/step - loss: 15.2931 - accuracy: 0.0000e+00\n",
            "Epoch 2/100\n",
            "25/25 [==============================] - 0s 3ms/step - loss: 15.2931 - accuracy: 0.0000e+00\n",
            "Epoch 3/100\n",
            "25/25 [==============================] - 0s 3ms/step - loss: 15.2931 - accuracy: 0.0000e+00\n",
            "Epoch 4/100\n",
            "25/25 [==============================] - 0s 3ms/step - loss: 15.2931 - accuracy: 0.0000e+00\n",
            "Epoch 5/100\n",
            "25/25 [==============================] - 0s 3ms/step - loss: 15.2931 - accuracy: 0.0000e+00\n",
            "Epoch 6/100\n",
            "25/25 [==============================] - 0s 3ms/step - loss: 15.2931 - accuracy: 0.0000e+00\n",
            "Epoch 7/100\n",
            "25/25 [==============================] - 0s 3ms/step - loss: 15.2931 - accuracy: 0.0000e+00\n",
            "Epoch 8/100\n",
            "25/25 [==============================] - 0s 3ms/step - loss: 15.2931 - accuracy: 0.0000e+00\n",
            "Epoch 9/100\n",
            "25/25 [==============================] - 0s 3ms/step - loss: 15.2931 - accuracy: 0.0000e+00\n",
            "Epoch 10/100\n",
            "25/25 [==============================] - 0s 3ms/step - loss: 15.2931 - accuracy: 0.0000e+00\n",
            "Epoch 11/100\n",
            "25/25 [==============================] - 0s 3ms/step - loss: 15.2931 - accuracy: 0.0000e+00\n",
            "Epoch 12/100\n",
            "25/25 [==============================] - 0s 3ms/step - loss: 15.2931 - accuracy: 0.0000e+00\n",
            "Epoch 13/100\n",
            "25/25 [==============================] - 0s 3ms/step - loss: 15.2931 - accuracy: 0.0000e+00\n",
            "Epoch 14/100\n",
            "25/25 [==============================] - 0s 3ms/step - loss: 15.2931 - accuracy: 0.0000e+00\n",
            "Epoch 15/100\n",
            "25/25 [==============================] - 0s 3ms/step - loss: 15.2931 - accuracy: 0.0000e+00\n",
            "Epoch 16/100\n",
            "25/25 [==============================] - 0s 3ms/step - loss: 15.2931 - accuracy: 0.0000e+00\n",
            "Epoch 17/100\n",
            "25/25 [==============================] - 0s 3ms/step - loss: 15.2931 - accuracy: 0.0000e+00\n",
            "Epoch 18/100\n",
            "25/25 [==============================] - 0s 3ms/step - loss: 15.2931 - accuracy: 0.0000e+00\n",
            "Epoch 19/100\n",
            "25/25 [==============================] - 0s 3ms/step - loss: 15.2931 - accuracy: 0.0000e+00\n",
            "Epoch 20/100\n",
            "25/25 [==============================] - 0s 3ms/step - loss: 15.2931 - accuracy: 0.0000e+00\n",
            "Epoch 21/100\n",
            "25/25 [==============================] - 0s 3ms/step - loss: 15.2931 - accuracy: 0.0000e+00\n",
            "Epoch 22/100\n",
            "25/25 [==============================] - 0s 3ms/step - loss: 15.2931 - accuracy: 0.0000e+00\n",
            "Epoch 23/100\n",
            "25/25 [==============================] - 0s 3ms/step - loss: 15.2931 - accuracy: 0.0000e+00\n",
            "Epoch 24/100\n",
            "25/25 [==============================] - 0s 3ms/step - loss: 15.2931 - accuracy: 0.0000e+00\n",
            "Epoch 25/100\n",
            "25/25 [==============================] - 0s 3ms/step - loss: 15.2931 - accuracy: 0.0000e+00\n",
            "Epoch 26/100\n",
            "25/25 [==============================] - 0s 3ms/step - loss: 15.2931 - accuracy: 0.0000e+00\n",
            "Epoch 27/100\n",
            "25/25 [==============================] - 0s 3ms/step - loss: 15.2931 - accuracy: 0.0000e+00\n",
            "Epoch 28/100\n",
            "25/25 [==============================] - 0s 3ms/step - loss: 15.2931 - accuracy: 0.0000e+00\n",
            "Epoch 29/100\n",
            "25/25 [==============================] - 0s 3ms/step - loss: 15.2931 - accuracy: 0.0000e+00\n",
            "Epoch 30/100\n",
            "25/25 [==============================] - 0s 3ms/step - loss: 15.2931 - accuracy: 0.0000e+00\n",
            "Epoch 31/100\n",
            "25/25 [==============================] - 0s 4ms/step - loss: 15.2931 - accuracy: 0.0000e+00\n",
            "Epoch 32/100\n",
            "25/25 [==============================] - 0s 3ms/step - loss: 15.2931 - accuracy: 0.0000e+00\n",
            "Epoch 33/100\n",
            "25/25 [==============================] - 0s 3ms/step - loss: 15.2931 - accuracy: 0.0000e+00\n",
            "Epoch 34/100\n",
            "25/25 [==============================] - 0s 3ms/step - loss: 15.2931 - accuracy: 0.0000e+00\n",
            "Epoch 35/100\n",
            "25/25 [==============================] - 0s 3ms/step - loss: 15.2931 - accuracy: 0.0000e+00\n",
            "Epoch 36/100\n",
            "25/25 [==============================] - 0s 3ms/step - loss: 15.2931 - accuracy: 0.0000e+00\n",
            "Epoch 37/100\n",
            "25/25 [==============================] - 0s 3ms/step - loss: 15.2931 - accuracy: 0.0000e+00\n",
            "Epoch 38/100\n",
            "25/25 [==============================] - 0s 3ms/step - loss: 15.2931 - accuracy: 0.0000e+00\n",
            "Epoch 39/100\n",
            "25/25 [==============================] - 0s 3ms/step - loss: 15.2931 - accuracy: 0.0000e+00\n",
            "Epoch 40/100\n",
            "25/25 [==============================] - 0s 3ms/step - loss: 15.2931 - accuracy: 0.0000e+00\n",
            "Epoch 41/100\n",
            "25/25 [==============================] - 0s 3ms/step - loss: 15.2931 - accuracy: 0.0000e+00\n",
            "Epoch 42/100\n",
            "25/25 [==============================] - 0s 3ms/step - loss: 15.2931 - accuracy: 0.0000e+00\n",
            "Epoch 43/100\n",
            "25/25 [==============================] - 0s 3ms/step - loss: 15.2931 - accuracy: 0.0000e+00\n",
            "Epoch 44/100\n",
            "25/25 [==============================] - 0s 3ms/step - loss: 15.2931 - accuracy: 0.0000e+00\n",
            "Epoch 45/100\n",
            "25/25 [==============================] - 0s 3ms/step - loss: 15.2931 - accuracy: 0.0000e+00\n",
            "Epoch 46/100\n",
            "25/25 [==============================] - 0s 3ms/step - loss: 15.2931 - accuracy: 0.0000e+00\n",
            "Epoch 47/100\n",
            "25/25 [==============================] - 0s 3ms/step - loss: 15.2931 - accuracy: 0.0000e+00\n",
            "Epoch 48/100\n",
            "25/25 [==============================] - 0s 3ms/step - loss: 15.2931 - accuracy: 0.0000e+00\n",
            "Epoch 49/100\n",
            "25/25 [==============================] - 0s 3ms/step - loss: 15.2931 - accuracy: 0.0000e+00\n",
            "Epoch 50/100\n",
            "25/25 [==============================] - 0s 3ms/step - loss: 15.2931 - accuracy: 0.0000e+00\n",
            "Epoch 51/100\n",
            "25/25 [==============================] - 0s 4ms/step - loss: 15.2931 - accuracy: 0.0000e+00\n",
            "Epoch 52/100\n",
            "25/25 [==============================] - 0s 3ms/step - loss: 15.2931 - accuracy: 0.0000e+00\n",
            "Epoch 53/100\n",
            "25/25 [==============================] - 0s 3ms/step - loss: 15.2931 - accuracy: 0.0000e+00\n",
            "Epoch 54/100\n",
            "25/25 [==============================] - 0s 3ms/step - loss: 15.2931 - accuracy: 0.0000e+00\n",
            "Epoch 55/100\n",
            "25/25 [==============================] - 0s 3ms/step - loss: 15.2931 - accuracy: 0.0000e+00\n",
            "Epoch 56/100\n",
            "25/25 [==============================] - 0s 3ms/step - loss: 15.2931 - accuracy: 0.0000e+00\n",
            "Epoch 57/100\n",
            "25/25 [==============================] - 0s 3ms/step - loss: 15.2931 - accuracy: 0.0000e+00\n",
            "Epoch 58/100\n",
            "25/25 [==============================] - 0s 3ms/step - loss: 15.2931 - accuracy: 0.0000e+00\n",
            "Epoch 59/100\n",
            "25/25 [==============================] - 0s 3ms/step - loss: 15.2931 - accuracy: 0.0000e+00\n",
            "Epoch 60/100\n",
            "25/25 [==============================] - 0s 3ms/step - loss: 15.2931 - accuracy: 0.0000e+00\n",
            "Epoch 61/100\n",
            "25/25 [==============================] - 0s 3ms/step - loss: 15.2931 - accuracy: 0.0000e+00\n",
            "Epoch 62/100\n",
            "25/25 [==============================] - 0s 3ms/step - loss: 15.2931 - accuracy: 0.0000e+00\n",
            "Epoch 63/100\n",
            "25/25 [==============================] - 0s 3ms/step - loss: 15.2931 - accuracy: 0.0000e+00\n",
            "Epoch 64/100\n",
            "25/25 [==============================] - 0s 3ms/step - loss: 15.2931 - accuracy: 0.0000e+00\n",
            "Epoch 65/100\n",
            "25/25 [==============================] - 0s 3ms/step - loss: 15.2931 - accuracy: 0.0000e+00\n",
            "Epoch 66/100\n",
            "25/25 [==============================] - 0s 3ms/step - loss: 15.2931 - accuracy: 0.0000e+00\n",
            "Epoch 67/100\n",
            "25/25 [==============================] - 0s 3ms/step - loss: 15.2931 - accuracy: 0.0000e+00\n",
            "Epoch 68/100\n",
            "25/25 [==============================] - 0s 3ms/step - loss: 15.2931 - accuracy: 0.0000e+00\n",
            "Epoch 69/100\n",
            "25/25 [==============================] - 0s 3ms/step - loss: 15.2931 - accuracy: 0.0000e+00\n",
            "Epoch 70/100\n",
            "25/25 [==============================] - 0s 3ms/step - loss: 15.2931 - accuracy: 0.0000e+00\n",
            "Epoch 71/100\n",
            "25/25 [==============================] - 0s 3ms/step - loss: 15.2931 - accuracy: 0.0000e+00\n",
            "Epoch 72/100\n",
            "25/25 [==============================] - 0s 3ms/step - loss: 15.2931 - accuracy: 0.0000e+00\n",
            "Epoch 73/100\n",
            "25/25 [==============================] - 0s 3ms/step - loss: 15.2931 - accuracy: 0.0000e+00\n",
            "Epoch 74/100\n",
            "25/25 [==============================] - 0s 3ms/step - loss: 15.2931 - accuracy: 0.0000e+00\n",
            "Epoch 75/100\n",
            "25/25 [==============================] - 0s 3ms/step - loss: 15.2931 - accuracy: 0.0000e+00\n",
            "Epoch 76/100\n",
            "25/25 [==============================] - 0s 3ms/step - loss: 15.2931 - accuracy: 0.0000e+00\n",
            "Epoch 77/100\n",
            "25/25 [==============================] - 0s 3ms/step - loss: 15.2931 - accuracy: 0.0000e+00\n",
            "Epoch 78/100\n",
            "25/25 [==============================] - 0s 3ms/step - loss: 15.2931 - accuracy: 0.0000e+00\n",
            "Epoch 79/100\n",
            "25/25 [==============================] - 0s 3ms/step - loss: 15.2931 - accuracy: 0.0000e+00\n",
            "Epoch 80/100\n",
            "25/25 [==============================] - 0s 3ms/step - loss: 15.2931 - accuracy: 0.0000e+00\n",
            "Epoch 81/100\n",
            "25/25 [==============================] - 0s 3ms/step - loss: 15.2931 - accuracy: 0.0000e+00\n",
            "Epoch 82/100\n",
            "25/25 [==============================] - 0s 3ms/step - loss: 15.2931 - accuracy: 0.0000e+00\n",
            "Epoch 83/100\n",
            "25/25 [==============================] - 0s 3ms/step - loss: 15.2931 - accuracy: 0.0000e+00\n",
            "Epoch 84/100\n",
            "25/25 [==============================] - 0s 3ms/step - loss: 15.2931 - accuracy: 0.0000e+00\n",
            "Epoch 85/100\n",
            "25/25 [==============================] - 0s 3ms/step - loss: 15.2931 - accuracy: 0.0000e+00\n",
            "Epoch 86/100\n",
            "25/25 [==============================] - 0s 3ms/step - loss: 15.2931 - accuracy: 0.0000e+00\n",
            "Epoch 87/100\n",
            "25/25 [==============================] - 0s 3ms/step - loss: 15.2931 - accuracy: 0.0000e+00\n",
            "Epoch 88/100\n",
            "25/25 [==============================] - 0s 3ms/step - loss: 15.2931 - accuracy: 0.0000e+00\n",
            "Epoch 89/100\n",
            "25/25 [==============================] - 0s 3ms/step - loss: 15.2931 - accuracy: 0.0000e+00\n",
            "Epoch 90/100\n",
            "25/25 [==============================] - 0s 3ms/step - loss: 15.2931 - accuracy: 0.0000e+00\n",
            "Epoch 91/100\n",
            "25/25 [==============================] - 0s 3ms/step - loss: 15.2931 - accuracy: 0.0000e+00\n",
            "Epoch 92/100\n",
            "25/25 [==============================] - 0s 3ms/step - loss: 15.2931 - accuracy: 0.0000e+00\n",
            "Epoch 93/100\n",
            "25/25 [==============================] - 0s 3ms/step - loss: 15.2931 - accuracy: 0.0000e+00\n",
            "Epoch 94/100\n",
            "25/25 [==============================] - 0s 3ms/step - loss: 15.2931 - accuracy: 0.0000e+00\n",
            "Epoch 95/100\n",
            "25/25 [==============================] - 0s 3ms/step - loss: 15.2931 - accuracy: 0.0000e+00\n",
            "Epoch 96/100\n",
            "25/25 [==============================] - 0s 3ms/step - loss: 15.2931 - accuracy: 0.0000e+00\n",
            "Epoch 97/100\n",
            "25/25 [==============================] - 0s 3ms/step - loss: 15.2931 - accuracy: 0.0000e+00\n",
            "Epoch 98/100\n",
            "25/25 [==============================] - 0s 3ms/step - loss: 15.2931 - accuracy: 0.0000e+00\n",
            "Epoch 99/100\n",
            "25/25 [==============================] - 0s 3ms/step - loss: 15.2931 - accuracy: 0.0000e+00\n",
            "Epoch 100/100\n",
            "25/25 [==============================] - 0s 6ms/step - loss: 15.2931 - accuracy: 0.0000e+00\n"
          ]
        },
        {
          "output_type": "execute_result",
          "data": {
            "text/plain": [
              "<keras.callbacks.History at 0x7f54f2395ae0>"
            ]
          },
          "metadata": {},
          "execution_count": 17
        }
      ]
    },
    {
      "cell_type": "markdown",
      "source": [
        "## If you have similar problem,\n",
        "which is you have 0 accuracy, There can be few issues with your model, Check and fix\n",
        "\n",
        "* Check your batch_size if it's too large or too small\n",
        "* Check if the learning rate is too high or low\n",
        "* if it's text dataset, check the length of sentences, if too large then trim with an average length\n",
        "* Check if there are NaN values in your dataset, fix it\n",
        "* Check if the dataset doesn't contain special symbols or characters\n",
        "* If values are continuous, Normalize it before sending to the network ( check batch normalization )\n",
        "* Try regularization techniques\n",
        "* Check the activation functions\n",
        "* Shuffle the data"
      ],
      "metadata": {
        "id": "tp8KwL-nNTnb"
      }
    },
    {
      "cell_type": "code",
      "source": [
        "#actually, i have checked all of them already instead of on,let's get shuffled our data\n",
        "shuffled_circles = circles.sample(frac= 1)\n",
        "\n",
        "#get the depenetend and independent variables\n",
        "X = shuffled_circles.drop('y',axis=1)\n",
        "y = shuffled_circles['y']\n",
        "\n",
        "#train test split\n",
        "from sklearn.model_selection import train_test_split\n",
        "X_train,X_test,y_train,y_test = train_test_split(X,y,test_size=0.2,random_state= 1)"
      ],
      "metadata": {
        "id": "PJJe1xVoN1PF"
      },
      "execution_count": 18,
      "outputs": []
    },
    {
      "cell_type": "markdown",
      "source": [
        "## Model 7"
      ],
      "metadata": {
        "id": "z-nHVA3LN4bT"
      }
    },
    {
      "cell_type": "code",
      "source": [
        "#Create the model 5\n",
        "model_7 = tf.keras.models.Sequential([\n",
        "    tf.keras.layers.Dense(100,activation= 'relu'),\n",
        "    tf.keras.layers.Dense(100,activation= 'relu'),\n",
        "    tf.keras.layers.Dense(1,activation= 'softmax')\n",
        "])\n",
        "\n",
        "#compile the model\n",
        "model_7.compile(loss= tf.keras.losses.BinaryCrossentropy(),\n",
        "                optimizer= 'adam',\n",
        "                metrics= ['accuracy'])\n",
        "\n",
        "#fit the kodel\n",
        "model_7.fit(tf.expand_dims(X_train,axis=-1),y_train, epochs=10)"
      ],
      "metadata": {
        "colab": {
          "base_uri": "https://localhost:8080/"
        },
        "id": "ZlsVH6s5OyHo",
        "outputId": "d0a7476e-3900-42bf-be75-1defb0c9a55a"
      },
      "execution_count": 23,
      "outputs": [
        {
          "output_type": "stream",
          "name": "stdout",
          "text": [
            "Epoch 1/10\n",
            "25/25 [==============================] - 2s 3ms/step - loss: 7.6437 - accuracy: 0.4988\n",
            "Epoch 2/10\n",
            "25/25 [==============================] - 0s 3ms/step - loss: 7.6437 - accuracy: 0.4988\n",
            "Epoch 3/10\n",
            "25/25 [==============================] - 0s 3ms/step - loss: 7.6437 - accuracy: 0.4988\n",
            "Epoch 4/10\n",
            "25/25 [==============================] - 0s 3ms/step - loss: 7.6437 - accuracy: 0.4988\n",
            "Epoch 5/10\n",
            "25/25 [==============================] - 0s 3ms/step - loss: 7.6437 - accuracy: 0.4988\n",
            "Epoch 6/10\n",
            "25/25 [==============================] - 0s 3ms/step - loss: 7.6437 - accuracy: 0.4988\n",
            "Epoch 7/10\n",
            "25/25 [==============================] - 0s 3ms/step - loss: 7.6437 - accuracy: 0.4988\n",
            "Epoch 8/10\n",
            "25/25 [==============================] - 0s 3ms/step - loss: 7.6437 - accuracy: 0.4988\n",
            "Epoch 9/10\n",
            "25/25 [==============================] - 0s 3ms/step - loss: 7.6437 - accuracy: 0.4988\n",
            "Epoch 10/10\n",
            "25/25 [==============================] - 0s 3ms/step - loss: 7.6437 - accuracy: 0.4988\n"
          ]
        },
        {
          "output_type": "execute_result",
          "data": {
            "text/plain": [
              "<keras.callbacks.History at 0x7f54dad96da0>"
            ]
          },
          "metadata": {},
          "execution_count": 23
        }
      ]
    },
    {
      "cell_type": "code",
      "source": [
        "predictions_7 = model_5.predict(X_test)\n",
        "model_7.evaluate(predictions_7)"
      ],
      "metadata": {
        "colab": {
          "base_uri": "https://localhost:8080/"
        },
        "id": "6JSm9HQnQOIX",
        "outputId": "bdaa5329-b9a0-4d98-df75-6aa41dc8fd06"
      },
      "execution_count": 24,
      "outputs": [
        {
          "output_type": "stream",
          "name": "stdout",
          "text": [
            "7/7 [==============================] - 0s 3ms/step\n",
            "7/7 [==============================] - 0s 2ms/step - loss: 0.0000e+00 - accuracy: 0.0000e+00\n"
          ]
        },
        {
          "output_type": "execute_result",
          "data": {
            "text/plain": [
              "[0.0, 0.0]"
            ]
          },
          "metadata": {},
          "execution_count": 24
        }
      ]
    },
    {
      "cell_type": "markdown",
      "source": [
        "##Model 8"
      ],
      "metadata": {
        "id": "9WHH6IZwFPfG"
      }
    },
    {
      "cell_type": "code",
      "source": [
        "#Create the model\n",
        "model_8 = tf.keras.models.Sequential([\n",
        "    tf.keras.layers.Dense(100,activation= 'relu'),\n",
        "    tf.keras.layers.Dense(100,activation= 'relu'),\n",
        "    tf.keras.layers.Dense(1,activation ='sigmoid')\n",
        "])\n",
        "\n",
        "#compile the model\n",
        "model_8.compile(loss= tf.keras.losses.binary_crossentropy,\n",
        "                optimizer= tf.keras.optimizers.Adam(lr=0.001),\n",
        "                metrics= ['accuracy'])\n",
        "\n",
        "#fit the kodel\n",
        "history_8 = model_8.fit(X,y, epochs=100)"
      ],
      "metadata": {
        "colab": {
          "base_uri": "https://localhost:8080/"
        },
        "id": "hoOhyJZ9QxlB",
        "outputId": "d699cbfd-9908-4ad7-c6a9-d37e29f517ec"
      },
      "execution_count": 47,
      "outputs": [
        {
          "output_type": "stream",
          "name": "stderr",
          "text": [
            "WARNING:absl:`lr` is deprecated in Keras optimizer, please use `learning_rate` or use the legacy optimizer, e.g.,tf.keras.optimizers.legacy.Adam.\n"
          ]
        },
        {
          "output_type": "stream",
          "name": "stdout",
          "text": [
            "Epoch 1/100\n",
            "32/32 [==============================] - 1s 4ms/step - loss: 0.6925 - accuracy: 0.4910\n",
            "Epoch 2/100\n",
            "32/32 [==============================] - 0s 4ms/step - loss: 0.6827 - accuracy: 0.5000\n",
            "Epoch 3/100\n",
            "32/32 [==============================] - 0s 4ms/step - loss: 0.6731 - accuracy: 0.5000\n",
            "Epoch 4/100\n",
            "32/32 [==============================] - 0s 4ms/step - loss: 0.6595 - accuracy: 0.5010\n",
            "Epoch 5/100\n",
            "32/32 [==============================] - 0s 3ms/step - loss: 0.6416 - accuracy: 0.7260\n",
            "Epoch 6/100\n",
            "32/32 [==============================] - 0s 3ms/step - loss: 0.5991 - accuracy: 0.8920\n",
            "Epoch 7/100\n",
            "32/32 [==============================] - 0s 4ms/step - loss: 0.5429 - accuracy: 0.9890\n",
            "Epoch 8/100\n",
            "32/32 [==============================] - 0s 3ms/step - loss: 0.4630 - accuracy: 0.9660\n",
            "Epoch 9/100\n",
            "32/32 [==============================] - 0s 3ms/step - loss: 0.3661 - accuracy: 0.9920\n",
            "Epoch 10/100\n",
            "32/32 [==============================] - 0s 4ms/step - loss: 0.2690 - accuracy: 0.9980\n",
            "Epoch 11/100\n",
            "32/32 [==============================] - 0s 3ms/step - loss: 0.1997 - accuracy: 0.9990\n",
            "Epoch 12/100\n",
            "32/32 [==============================] - 0s 3ms/step - loss: 0.1479 - accuracy: 1.0000\n",
            "Epoch 13/100\n",
            "32/32 [==============================] - 0s 3ms/step - loss: 0.1111 - accuracy: 1.0000\n",
            "Epoch 14/100\n",
            "32/32 [==============================] - 0s 3ms/step - loss: 0.0885 - accuracy: 1.0000\n",
            "Epoch 15/100\n",
            "32/32 [==============================] - 0s 3ms/step - loss: 0.0694 - accuracy: 1.0000\n",
            "Epoch 16/100\n",
            "32/32 [==============================] - 0s 3ms/step - loss: 0.0605 - accuracy: 0.9980\n",
            "Epoch 17/100\n",
            "32/32 [==============================] - 0s 3ms/step - loss: 0.0487 - accuracy: 1.0000\n",
            "Epoch 18/100\n",
            "32/32 [==============================] - 0s 3ms/step - loss: 0.0402 - accuracy: 1.0000\n",
            "Epoch 19/100\n",
            "32/32 [==============================] - 0s 4ms/step - loss: 0.0362 - accuracy: 1.0000\n",
            "Epoch 20/100\n",
            "32/32 [==============================] - 0s 3ms/step - loss: 0.0322 - accuracy: 1.0000\n",
            "Epoch 21/100\n",
            "32/32 [==============================] - 0s 3ms/step - loss: 0.0272 - accuracy: 1.0000\n",
            "Epoch 22/100\n",
            "32/32 [==============================] - 0s 3ms/step - loss: 0.0252 - accuracy: 1.0000\n",
            "Epoch 23/100\n",
            "32/32 [==============================] - 0s 3ms/step - loss: 0.0230 - accuracy: 1.0000\n",
            "Epoch 24/100\n",
            "32/32 [==============================] - 0s 5ms/step - loss: 0.0206 - accuracy: 1.0000\n",
            "Epoch 25/100\n",
            "32/32 [==============================] - 0s 3ms/step - loss: 0.0187 - accuracy: 1.0000\n",
            "Epoch 26/100\n",
            "32/32 [==============================] - 0s 3ms/step - loss: 0.0171 - accuracy: 1.0000\n",
            "Epoch 27/100\n",
            "32/32 [==============================] - 0s 6ms/step - loss: 0.0154 - accuracy: 1.0000\n",
            "Epoch 28/100\n",
            "32/32 [==============================] - 0s 5ms/step - loss: 0.0145 - accuracy: 1.0000\n",
            "Epoch 29/100\n",
            "32/32 [==============================] - 0s 6ms/step - loss: 0.0138 - accuracy: 1.0000\n",
            "Epoch 30/100\n",
            "32/32 [==============================] - 0s 5ms/step - loss: 0.0127 - accuracy: 1.0000\n",
            "Epoch 31/100\n",
            "32/32 [==============================] - 0s 5ms/step - loss: 0.0111 - accuracy: 1.0000\n",
            "Epoch 32/100\n",
            "32/32 [==============================] - 0s 8ms/step - loss: 0.0110 - accuracy: 1.0000\n",
            "Epoch 33/100\n",
            "32/32 [==============================] - 0s 6ms/step - loss: 0.0117 - accuracy: 1.0000\n",
            "Epoch 34/100\n",
            "32/32 [==============================] - 0s 5ms/step - loss: 0.0105 - accuracy: 1.0000\n",
            "Epoch 35/100\n",
            "32/32 [==============================] - 0s 6ms/step - loss: 0.0097 - accuracy: 1.0000\n",
            "Epoch 36/100\n",
            "32/32 [==============================] - 0s 6ms/step - loss: 0.0093 - accuracy: 1.0000\n",
            "Epoch 37/100\n",
            "32/32 [==============================] - 0s 6ms/step - loss: 0.0082 - accuracy: 1.0000\n",
            "Epoch 38/100\n",
            "32/32 [==============================] - 0s 6ms/step - loss: 0.0075 - accuracy: 1.0000\n",
            "Epoch 39/100\n",
            "32/32 [==============================] - 0s 7ms/step - loss: 0.0081 - accuracy: 1.0000\n",
            "Epoch 40/100\n",
            "32/32 [==============================] - 0s 7ms/step - loss: 0.0081 - accuracy: 1.0000\n",
            "Epoch 41/100\n",
            "32/32 [==============================] - 0s 8ms/step - loss: 0.0075 - accuracy: 1.0000\n",
            "Epoch 42/100\n",
            "32/32 [==============================] - 0s 7ms/step - loss: 0.0071 - accuracy: 0.9990\n",
            "Epoch 43/100\n",
            "32/32 [==============================] - 0s 5ms/step - loss: 0.0068 - accuracy: 1.0000\n",
            "Epoch 44/100\n",
            "32/32 [==============================] - 0s 4ms/step - loss: 0.0070 - accuracy: 1.0000\n",
            "Epoch 45/100\n",
            "32/32 [==============================] - 0s 7ms/step - loss: 0.0065 - accuracy: 1.0000\n",
            "Epoch 46/100\n",
            "32/32 [==============================] - 0s 7ms/step - loss: 0.0056 - accuracy: 1.0000\n",
            "Epoch 47/100\n",
            "32/32 [==============================] - 0s 7ms/step - loss: 0.0058 - accuracy: 1.0000\n",
            "Epoch 48/100\n",
            "32/32 [==============================] - 0s 6ms/step - loss: 0.0058 - accuracy: 1.0000\n",
            "Epoch 49/100\n",
            "32/32 [==============================] - 0s 6ms/step - loss: 0.0051 - accuracy: 1.0000\n",
            "Epoch 50/100\n",
            "32/32 [==============================] - 0s 6ms/step - loss: 0.0045 - accuracy: 1.0000\n",
            "Epoch 51/100\n",
            "32/32 [==============================] - 0s 5ms/step - loss: 0.0043 - accuracy: 1.0000\n",
            "Epoch 52/100\n",
            "32/32 [==============================] - 0s 5ms/step - loss: 0.0050 - accuracy: 1.0000\n",
            "Epoch 53/100\n",
            "32/32 [==============================] - 0s 6ms/step - loss: 0.0045 - accuracy: 1.0000\n",
            "Epoch 54/100\n",
            "32/32 [==============================] - 0s 6ms/step - loss: 0.0052 - accuracy: 1.0000\n",
            "Epoch 55/100\n",
            "32/32 [==============================] - 0s 5ms/step - loss: 0.0047 - accuracy: 1.0000\n",
            "Epoch 56/100\n",
            "32/32 [==============================] - 0s 7ms/step - loss: 0.0049 - accuracy: 1.0000\n",
            "Epoch 57/100\n",
            "32/32 [==============================] - 0s 6ms/step - loss: 0.0044 - accuracy: 1.0000\n",
            "Epoch 58/100\n",
            "32/32 [==============================] - 0s 6ms/step - loss: 0.0063 - accuracy: 0.9990\n",
            "Epoch 59/100\n",
            "32/32 [==============================] - 0s 6ms/step - loss: 0.0035 - accuracy: 1.0000\n",
            "Epoch 60/100\n",
            "32/32 [==============================] - 0s 6ms/step - loss: 0.0033 - accuracy: 1.0000\n",
            "Epoch 61/100\n",
            "32/32 [==============================] - 0s 3ms/step - loss: 0.0030 - accuracy: 1.0000\n",
            "Epoch 62/100\n",
            "32/32 [==============================] - 0s 4ms/step - loss: 0.0030 - accuracy: 1.0000\n",
            "Epoch 63/100\n",
            "32/32 [==============================] - 0s 3ms/step - loss: 0.0027 - accuracy: 1.0000\n",
            "Epoch 64/100\n",
            "32/32 [==============================] - 0s 4ms/step - loss: 0.0026 - accuracy: 1.0000\n",
            "Epoch 65/100\n",
            "32/32 [==============================] - 0s 3ms/step - loss: 0.0028 - accuracy: 1.0000\n",
            "Epoch 66/100\n",
            "32/32 [==============================] - 0s 3ms/step - loss: 0.0026 - accuracy: 1.0000\n",
            "Epoch 67/100\n",
            "32/32 [==============================] - 0s 3ms/step - loss: 0.0026 - accuracy: 1.0000\n",
            "Epoch 68/100\n",
            "32/32 [==============================] - 0s 3ms/step - loss: 0.0027 - accuracy: 1.0000\n",
            "Epoch 69/100\n",
            "32/32 [==============================] - 0s 3ms/step - loss: 0.0028 - accuracy: 1.0000\n",
            "Epoch 70/100\n",
            "32/32 [==============================] - 0s 4ms/step - loss: 0.0026 - accuracy: 1.0000\n",
            "Epoch 71/100\n",
            "32/32 [==============================] - 0s 3ms/step - loss: 0.0033 - accuracy: 1.0000\n",
            "Epoch 72/100\n",
            "32/32 [==============================] - 0s 4ms/step - loss: 0.0033 - accuracy: 1.0000\n",
            "Epoch 73/100\n",
            "32/32 [==============================] - 0s 4ms/step - loss: 0.0022 - accuracy: 1.0000\n",
            "Epoch 74/100\n",
            "32/32 [==============================] - 0s 3ms/step - loss: 0.0026 - accuracy: 1.0000\n",
            "Epoch 75/100\n",
            "32/32 [==============================] - 0s 4ms/step - loss: 0.0027 - accuracy: 1.0000\n",
            "Epoch 76/100\n",
            "32/32 [==============================] - 0s 4ms/step - loss: 0.0038 - accuracy: 1.0000\n",
            "Epoch 77/100\n",
            "32/32 [==============================] - 0s 3ms/step - loss: 0.0027 - accuracy: 1.0000\n",
            "Epoch 78/100\n",
            "32/32 [==============================] - 0s 3ms/step - loss: 0.0021 - accuracy: 1.0000\n",
            "Epoch 79/100\n",
            "32/32 [==============================] - 0s 3ms/step - loss: 0.0021 - accuracy: 1.0000\n",
            "Epoch 80/100\n",
            "32/32 [==============================] - 0s 3ms/step - loss: 0.0018 - accuracy: 1.0000\n",
            "Epoch 81/100\n",
            "32/32 [==============================] - 0s 3ms/step - loss: 0.0067 - accuracy: 0.9990\n",
            "Epoch 82/100\n",
            "32/32 [==============================] - 0s 4ms/step - loss: 0.0032 - accuracy: 1.0000\n",
            "Epoch 83/100\n",
            "32/32 [==============================] - 0s 3ms/step - loss: 0.0020 - accuracy: 1.0000\n",
            "Epoch 84/100\n",
            "32/32 [==============================] - 0s 3ms/step - loss: 0.0015 - accuracy: 1.0000\n",
            "Epoch 85/100\n",
            "32/32 [==============================] - 0s 4ms/step - loss: 0.0015 - accuracy: 1.0000\n",
            "Epoch 86/100\n",
            "32/32 [==============================] - 0s 3ms/step - loss: 0.0021 - accuracy: 1.0000\n",
            "Epoch 87/100\n",
            "32/32 [==============================] - 0s 3ms/step - loss: 0.0016 - accuracy: 1.0000\n",
            "Epoch 88/100\n",
            "32/32 [==============================] - 0s 3ms/step - loss: 0.0019 - accuracy: 1.0000\n",
            "Epoch 89/100\n",
            "32/32 [==============================] - 0s 3ms/step - loss: 0.0016 - accuracy: 1.0000\n",
            "Epoch 90/100\n",
            "32/32 [==============================] - 0s 3ms/step - loss: 0.0018 - accuracy: 1.0000\n",
            "Epoch 91/100\n",
            "32/32 [==============================] - 0s 4ms/step - loss: 0.0016 - accuracy: 1.0000\n",
            "Epoch 92/100\n",
            "32/32 [==============================] - 0s 3ms/step - loss: 0.0016 - accuracy: 1.0000\n",
            "Epoch 93/100\n",
            "32/32 [==============================] - 0s 3ms/step - loss: 0.0013 - accuracy: 1.0000\n",
            "Epoch 94/100\n",
            "32/32 [==============================] - 0s 3ms/step - loss: 0.0015 - accuracy: 1.0000\n",
            "Epoch 95/100\n",
            "32/32 [==============================] - 0s 3ms/step - loss: 0.0017 - accuracy: 1.0000\n",
            "Epoch 96/100\n",
            "32/32 [==============================] - 0s 5ms/step - loss: 0.0031 - accuracy: 1.0000\n",
            "Epoch 97/100\n",
            "32/32 [==============================] - 0s 4ms/step - loss: 0.0058 - accuracy: 0.9990\n",
            "Epoch 98/100\n",
            "32/32 [==============================] - 0s 3ms/step - loss: 0.0031 - accuracy: 1.0000\n",
            "Epoch 99/100\n",
            "32/32 [==============================] - 0s 4ms/step - loss: 0.0018 - accuracy: 1.0000\n",
            "Epoch 100/100\n",
            "32/32 [==============================] - 0s 4ms/step - loss: 0.0064 - accuracy: 0.9990\n"
          ]
        }
      ]
    },
    {
      "cell_type": "code",
      "source": [
        "model_8.evaluate(X,y)"
      ],
      "metadata": {
        "colab": {
          "base_uri": "https://localhost:8080/"
        },
        "id": "tPbV91jyRVJZ",
        "outputId": "250f2818-515d-4934-939b-0118049b73a6"
      },
      "execution_count": 26,
      "outputs": [
        {
          "output_type": "stream",
          "name": "stdout",
          "text": [
            "32/32 [==============================] - 0s 2ms/step - loss: 0.0042 - accuracy: 0.9990\n"
          ]
        },
        {
          "output_type": "execute_result",
          "data": {
            "text/plain": [
              "[0.004242944996803999, 0.9990000128746033]"
            ]
          },
          "metadata": {},
          "execution_count": 26
        }
      ]
    },
    {
      "cell_type": "code",
      "source": [
        "predictions = round(pd.DataFrame(model_8.predict(X_test)),1)\n",
        "predictions"
      ],
      "metadata": {
        "colab": {
          "base_uri": "https://localhost:8080/",
          "height": 442
        },
        "id": "Q03Mu-iMRpZt",
        "outputId": "ef0811ce-d494-4cd8-f45f-893406ae2f78"
      },
      "execution_count": 32,
      "outputs": [
        {
          "output_type": "stream",
          "name": "stdout",
          "text": [
            "7/7 [==============================] - 0s 2ms/step\n"
          ]
        },
        {
          "output_type": "execute_result",
          "data": {
            "text/plain": [
              "       0\n",
              "0    1.0\n",
              "1    0.0\n",
              "2    0.0\n",
              "3    1.0\n",
              "4    1.0\n",
              "..   ...\n",
              "195  0.0\n",
              "196  0.0\n",
              "197  0.0\n",
              "198  0.0\n",
              "199  1.0\n",
              "\n",
              "[200 rows x 1 columns]"
            ],
            "text/html": [
              "\n",
              "  <div id=\"df-92ecb037-58b3-4d90-9a20-b67f88d52878\">\n",
              "    <div class=\"colab-df-container\">\n",
              "      <div>\n",
              "<style scoped>\n",
              "    .dataframe tbody tr th:only-of-type {\n",
              "        vertical-align: middle;\n",
              "    }\n",
              "\n",
              "    .dataframe tbody tr th {\n",
              "        vertical-align: top;\n",
              "    }\n",
              "\n",
              "    .dataframe thead th {\n",
              "        text-align: right;\n",
              "    }\n",
              "</style>\n",
              "<table border=\"1\" class=\"dataframe\">\n",
              "  <thead>\n",
              "    <tr style=\"text-align: right;\">\n",
              "      <th></th>\n",
              "      <th>0</th>\n",
              "    </tr>\n",
              "  </thead>\n",
              "  <tbody>\n",
              "    <tr>\n",
              "      <th>0</th>\n",
              "      <td>1.0</td>\n",
              "    </tr>\n",
              "    <tr>\n",
              "      <th>1</th>\n",
              "      <td>0.0</td>\n",
              "    </tr>\n",
              "    <tr>\n",
              "      <th>2</th>\n",
              "      <td>0.0</td>\n",
              "    </tr>\n",
              "    <tr>\n",
              "      <th>3</th>\n",
              "      <td>1.0</td>\n",
              "    </tr>\n",
              "    <tr>\n",
              "      <th>4</th>\n",
              "      <td>1.0</td>\n",
              "    </tr>\n",
              "    <tr>\n",
              "      <th>...</th>\n",
              "      <td>...</td>\n",
              "    </tr>\n",
              "    <tr>\n",
              "      <th>195</th>\n",
              "      <td>0.0</td>\n",
              "    </tr>\n",
              "    <tr>\n",
              "      <th>196</th>\n",
              "      <td>0.0</td>\n",
              "    </tr>\n",
              "    <tr>\n",
              "      <th>197</th>\n",
              "      <td>0.0</td>\n",
              "    </tr>\n",
              "    <tr>\n",
              "      <th>198</th>\n",
              "      <td>0.0</td>\n",
              "    </tr>\n",
              "    <tr>\n",
              "      <th>199</th>\n",
              "      <td>1.0</td>\n",
              "    </tr>\n",
              "  </tbody>\n",
              "</table>\n",
              "<p>200 rows × 1 columns</p>\n",
              "</div>\n",
              "      <button class=\"colab-df-convert\" onclick=\"convertToInteractive('df-92ecb037-58b3-4d90-9a20-b67f88d52878')\"\n",
              "              title=\"Convert this dataframe to an interactive table.\"\n",
              "              style=\"display:none;\">\n",
              "        \n",
              "  <svg xmlns=\"http://www.w3.org/2000/svg\" height=\"24px\"viewBox=\"0 0 24 24\"\n",
              "       width=\"24px\">\n",
              "    <path d=\"M0 0h24v24H0V0z\" fill=\"none\"/>\n",
              "    <path d=\"M18.56 5.44l.94 2.06.94-2.06 2.06-.94-2.06-.94-.94-2.06-.94 2.06-2.06.94zm-11 1L8.5 8.5l.94-2.06 2.06-.94-2.06-.94L8.5 2.5l-.94 2.06-2.06.94zm10 10l.94 2.06.94-2.06 2.06-.94-2.06-.94-.94-2.06-.94 2.06-2.06.94z\"/><path d=\"M17.41 7.96l-1.37-1.37c-.4-.4-.92-.59-1.43-.59-.52 0-1.04.2-1.43.59L10.3 9.45l-7.72 7.72c-.78.78-.78 2.05 0 2.83L4 21.41c.39.39.9.59 1.41.59.51 0 1.02-.2 1.41-.59l7.78-7.78 2.81-2.81c.8-.78.8-2.07 0-2.86zM5.41 20L4 18.59l7.72-7.72 1.47 1.35L5.41 20z\"/>\n",
              "  </svg>\n",
              "      </button>\n",
              "      \n",
              "  <style>\n",
              "    .colab-df-container {\n",
              "      display:flex;\n",
              "      flex-wrap:wrap;\n",
              "      gap: 12px;\n",
              "    }\n",
              "\n",
              "    .colab-df-convert {\n",
              "      background-color: #E8F0FE;\n",
              "      border: none;\n",
              "      border-radius: 50%;\n",
              "      cursor: pointer;\n",
              "      display: none;\n",
              "      fill: #1967D2;\n",
              "      height: 32px;\n",
              "      padding: 0 0 0 0;\n",
              "      width: 32px;\n",
              "    }\n",
              "\n",
              "    .colab-df-convert:hover {\n",
              "      background-color: #E2EBFA;\n",
              "      box-shadow: 0px 1px 2px rgba(60, 64, 67, 0.3), 0px 1px 3px 1px rgba(60, 64, 67, 0.15);\n",
              "      fill: #174EA6;\n",
              "    }\n",
              "\n",
              "    [theme=dark] .colab-df-convert {\n",
              "      background-color: #3B4455;\n",
              "      fill: #D2E3FC;\n",
              "    }\n",
              "\n",
              "    [theme=dark] .colab-df-convert:hover {\n",
              "      background-color: #434B5C;\n",
              "      box-shadow: 0px 1px 3px 1px rgba(0, 0, 0, 0.15);\n",
              "      filter: drop-shadow(0px 1px 2px rgba(0, 0, 0, 0.3));\n",
              "      fill: #FFFFFF;\n",
              "    }\n",
              "  </style>\n",
              "\n",
              "      <script>\n",
              "        const buttonEl =\n",
              "          document.querySelector('#df-92ecb037-58b3-4d90-9a20-b67f88d52878 button.colab-df-convert');\n",
              "        buttonEl.style.display =\n",
              "          google.colab.kernel.accessAllowed ? 'block' : 'none';\n",
              "\n",
              "        async function convertToInteractive(key) {\n",
              "          const element = document.querySelector('#df-92ecb037-58b3-4d90-9a20-b67f88d52878');\n",
              "          const dataTable =\n",
              "            await google.colab.kernel.invokeFunction('convertToInteractive',\n",
              "                                                     [key], {});\n",
              "          if (!dataTable) return;\n",
              "\n",
              "          const docLinkHtml = 'Like what you see? Visit the ' +\n",
              "            '<a target=\"_blank\" href=https://colab.research.google.com/notebooks/data_table.ipynb>data table notebook</a>'\n",
              "            + ' to learn more about interactive tables.';\n",
              "          element.innerHTML = '';\n",
              "          dataTable['output_type'] = 'display_data';\n",
              "          await google.colab.output.renderOutput(dataTable, element);\n",
              "          const docLink = document.createElement('div');\n",
              "          docLink.innerHTML = docLinkHtml;\n",
              "          element.appendChild(docLink);\n",
              "        }\n",
              "      </script>\n",
              "    </div>\n",
              "  </div>\n",
              "  "
            ]
          },
          "metadata": {},
          "execution_count": 32
        }
      ]
    },
    {
      "cell_type": "code",
      "source": [
        "predictions[0] = predictions[0].astype('int64')\n",
        "predictions[0]"
      ],
      "metadata": {
        "colab": {
          "base_uri": "https://localhost:8080/"
        },
        "id": "qiFubygsEeNC",
        "outputId": "bed48760-77e8-42df-c69d-840afc2fce1b"
      },
      "execution_count": 40,
      "outputs": [
        {
          "output_type": "execute_result",
          "data": {
            "text/plain": [
              "0      1\n",
              "1      0\n",
              "2      0\n",
              "3      1\n",
              "4      1\n",
              "      ..\n",
              "195    0\n",
              "196    0\n",
              "197    0\n",
              "198    0\n",
              "199    1\n",
              "Name: 0, Length: 200, dtype: int64"
            ]
          },
          "metadata": {},
          "execution_count": 40
        }
      ]
    },
    {
      "cell_type": "code",
      "source": [
        "#accuracy score\n",
        "accuracy_score(y_test,predictions[0])"
      ],
      "metadata": {
        "colab": {
          "base_uri": "https://localhost:8080/"
        },
        "id": "fDisH_PnEeSg",
        "outputId": "1488cfed-18b5-4571-ab66-e7738c70134b"
      },
      "execution_count": 41,
      "outputs": [
        {
          "output_type": "execute_result",
          "data": {
            "text/plain": [
              "0.99"
            ]
          },
          "metadata": {},
          "execution_count": 41
        }
      ]
    },
    {
      "cell_type": "code",
      "source": [
        "#confusion matrix\n",
        "confusion_matrix(y_test,predictions[0])"
      ],
      "metadata": {
        "colab": {
          "base_uri": "https://localhost:8080/"
        },
        "id": "0MxFNeDJEeKb",
        "outputId": "b3487afd-1dd6-49ba-e9dd-bd2214c123e8"
      },
      "execution_count": 46,
      "outputs": [
        {
          "output_type": "execute_result",
          "data": {
            "text/plain": [
              "array([[99,  0],\n",
              "       [ 2, 99]])"
            ]
          },
          "metadata": {},
          "execution_count": 46
        }
      ]
    },
    {
      "cell_type": "code",
      "source": [
        "#making plot to visualize loss and accuracy\n",
        "plt.figure(figsize=(16,9))\n",
        "pd.DataFrame(history_8.history).plot()\n",
        "plt.show()"
      ],
      "metadata": {
        "colab": {
          "base_uri": "https://localhost:8080/",
          "height": 448
        },
        "id": "xrT8RonWEeH1",
        "outputId": "f71c0038-c440-4a76-8f2f-eff6c0a0a9b5"
      },
      "execution_count": 51,
      "outputs": [
        {
          "output_type": "display_data",
          "data": {
            "text/plain": [
              "<Figure size 1600x900 with 0 Axes>"
            ]
          },
          "metadata": {}
        },
        {
          "output_type": "display_data",
          "data": {
            "text/plain": [
              "<Figure size 640x480 with 1 Axes>"
            ],
            "image/png": "[encoded data removed]"
          },
          "metadata": {}
        }
      ]
    },
    {
      "cell_type": "markdown",
      "source": [
        "## Model 9\n",
        "Let's create a model with train and test sets"
      ],
      "metadata": {
        "id": "4SqgWiHhEeE9"
      }
    },
    {
      "cell_type": "code",
      "source": [
        "#let's see how many data points we have\n",
        "len(X),len(y)"
      ],
      "metadata": {
        "colab": {
          "base_uri": "https://localhost:8080/"
        },
        "id": "3aE4Io7JEeCX",
        "outputId": "ae947818-364f-465a-d766-926be705309a"
      },
      "execution_count": 52,
      "outputs": [
        {
          "output_type": "execute_result",
          "data": {
            "text/plain": [
              "(1000, 1000)"
            ]
          },
          "metadata": {},
          "execution_count": 52
        }
      ]
    },
    {
      "cell_type": "code",
      "source": [
        "#splitting into train and test sets\n",
        "X_train = X[:800]\n",
        "X_test = X[800:]\n",
        "y_train = y[:800]\n",
        "y_test = y[800:]\n",
        "X_train.shape,X_test.shape"
      ],
      "metadata": {
        "colab": {
          "base_uri": "https://localhost:8080/"
        },
        "id": "RtFjUow7Ed_x",
        "outputId": "e8b1166a-966c-4824-eac9-0ed323dd5662"
      },
      "execution_count": 55,
      "outputs": [
        {
          "output_type": "execute_result",
          "data": {
            "text/plain": [
              "((800, 2), (200, 2))"
            ]
          },
          "metadata": {},
          "execution_count": 55
        }
      ]
    },
    {
      "cell_type": "code",
      "source": [
        "#recreate a model with training datasets and then evaluate it on the test sets\n",
        "\n",
        "#setting random seed\n",
        "tf.random.set_seed(42)\n",
        "\n",
        "#create the model\n",
        "model_9 = tf.keras.Sequential([\n",
        "    tf.keras.layers.Dense(5, activation= 'relu'),\n",
        "    tf.keras.layers.Dense(5, activation= 'relu'),\n",
        "    tf.keras.layers.Dense(1, activation= 'sigmoid')\n",
        "])\n",
        "\n",
        "#compile the model\n",
        "model_9.compile(loss = tf.keras.losses.binary_crossentropy, optimizer = tf.keras.optimizers.Adam(learning_rate= 0.01),metrics= ['accuracy'])\n",
        "\n",
        "#fit the model\n",
        "history_9 = model_9.fit(X_train,y_train, epochs= 100)"
      ],
      "metadata": {
        "colab": {
          "base_uri": "https://localhost:8080/"
        },
        "id": "B_U-qBoeEd9c",
        "outputId": "94aea47e-9024-41be-c5cf-cbe90bbed5e5"
      },
      "execution_count": 89,
      "outputs": [
        {
          "output_type": "stream",
          "name": "stdout",
          "text": [
            "Epoch 1/100\n",
            "25/25 [==============================] - 2s 4ms/step - loss: 0.6993 - accuracy: 0.4462\n",
            "Epoch 2/100\n",
            "25/25 [==============================] - 0s 4ms/step - loss: 0.6867 - accuracy: 0.5188\n",
            "Epoch 3/100\n",
            "25/25 [==============================] - 0s 4ms/step - loss: 0.6774 - accuracy: 0.5738\n",
            "Epoch 4/100\n",
            "25/25 [==============================] - 0s 4ms/step - loss: 0.6668 - accuracy: 0.6150\n",
            "Epoch 5/100\n",
            "25/25 [==============================] - 0s 4ms/step - loss: 0.6478 - accuracy: 0.6725\n",
            "Epoch 6/100\n",
            "25/25 [==============================] - 0s 4ms/step - loss: 0.6224 - accuracy: 0.7287\n",
            "Epoch 7/100\n",
            "25/25 [==============================] - 0s 4ms/step - loss: 0.5803 - accuracy: 0.7950\n",
            "Epoch 8/100\n",
            "25/25 [==============================] - 0s 4ms/step - loss: 0.5385 - accuracy: 0.7775\n",
            "Epoch 9/100\n",
            "25/25 [==============================] - 0s 4ms/step - loss: 0.4807 - accuracy: 0.8150\n",
            "Epoch 10/100\n",
            "25/25 [==============================] - 0s 4ms/step - loss: 0.4211 - accuracy: 0.8612\n",
            "Epoch 11/100\n",
            "25/25 [==============================] - 0s 4ms/step - loss: 0.3565 - accuracy: 0.9050\n",
            "Epoch 12/100\n",
            "25/25 [==============================] - 0s 4ms/step - loss: 0.2993 - accuracy: 0.9325\n",
            "Epoch 13/100\n",
            "25/25 [==============================] - 0s 4ms/step - loss: 0.2551 - accuracy: 0.9463\n",
            "Epoch 14/100\n",
            "25/25 [==============================] - 0s 4ms/step - loss: 0.2178 - accuracy: 0.9563\n",
            "Epoch 15/100\n",
            "25/25 [==============================] - 0s 3ms/step - loss: 0.1689 - accuracy: 0.9775\n",
            "Epoch 16/100\n",
            "25/25 [==============================] - 0s 3ms/step - loss: 0.1416 - accuracy: 0.9875\n",
            "Epoch 17/100\n",
            "25/25 [==============================] - 0s 3ms/step - loss: 0.1213 - accuracy: 0.9900\n",
            "Epoch 18/100\n",
            "25/25 [==============================] - 0s 3ms/step - loss: 0.1050 - accuracy: 0.9912\n",
            "Epoch 19/100\n",
            "25/25 [==============================] - 0s 3ms/step - loss: 0.0901 - accuracy: 0.9925\n",
            "Epoch 20/100\n",
            "25/25 [==============================] - 0s 3ms/step - loss: 0.0796 - accuracy: 0.9925\n",
            "Epoch 21/100\n",
            "25/25 [==============================] - 0s 3ms/step - loss: 0.0723 - accuracy: 0.9925\n",
            "Epoch 22/100\n",
            "25/25 [==============================] - 0s 3ms/step - loss: 0.0651 - accuracy: 0.9937\n",
            "Epoch 23/100\n",
            "25/25 [==============================] - 0s 3ms/step - loss: 0.0613 - accuracy: 0.9937\n",
            "Epoch 24/100\n",
            "25/25 [==============================] - 0s 3ms/step - loss: 0.0575 - accuracy: 0.9937\n",
            "Epoch 25/100\n",
            "25/25 [==============================] - 0s 3ms/step - loss: 0.0483 - accuracy: 0.9962\n",
            "Epoch 26/100\n",
            "25/25 [==============================] - 0s 3ms/step - loss: 0.0447 - accuracy: 0.9975\n",
            "Epoch 27/100\n",
            "25/25 [==============================] - 0s 3ms/step - loss: 0.0434 - accuracy: 0.9962\n",
            "Epoch 28/100\n",
            "25/25 [==============================] - 0s 4ms/step - loss: 0.0424 - accuracy: 0.9950\n",
            "Epoch 29/100\n",
            "25/25 [==============================] - 0s 3ms/step - loss: 0.0441 - accuracy: 0.9925\n",
            "Epoch 30/100\n",
            "25/25 [==============================] - 0s 3ms/step - loss: 0.0332 - accuracy: 0.9987\n",
            "Epoch 31/100\n",
            "25/25 [==============================] - 0s 3ms/step - loss: 0.0330 - accuracy: 0.9987\n",
            "Epoch 32/100\n",
            "25/25 [==============================] - 0s 3ms/step - loss: 0.0327 - accuracy: 0.9975\n",
            "Epoch 33/100\n",
            "25/25 [==============================] - 0s 3ms/step - loss: 0.0320 - accuracy: 0.9937\n",
            "Epoch 34/100\n",
            "25/25 [==============================] - 0s 3ms/step - loss: 0.0279 - accuracy: 0.9975\n",
            "Epoch 35/100\n",
            "25/25 [==============================] - 0s 3ms/step - loss: 0.0253 - accuracy: 1.0000\n",
            "Epoch 36/100\n",
            "25/25 [==============================] - 0s 3ms/step - loss: 0.0291 - accuracy: 0.9962\n",
            "Epoch 37/100\n",
            "25/25 [==============================] - 0s 3ms/step - loss: 0.0271 - accuracy: 0.9962\n",
            "Epoch 38/100\n",
            "25/25 [==============================] - 0s 3ms/step - loss: 0.0252 - accuracy: 0.9962\n",
            "Epoch 39/100\n",
            "25/25 [==============================] - 0s 3ms/step - loss: 0.0277 - accuracy: 0.9950\n",
            "Epoch 40/100\n",
            "25/25 [==============================] - 0s 3ms/step - loss: 0.0257 - accuracy: 0.9925\n",
            "Epoch 41/100\n",
            "25/25 [==============================] - 0s 4ms/step - loss: 0.0223 - accuracy: 0.9975\n",
            "Epoch 42/100\n",
            "25/25 [==============================] - 0s 3ms/step - loss: 0.0197 - accuracy: 0.9962\n",
            "Epoch 43/100\n",
            "25/25 [==============================] - 0s 3ms/step - loss: 0.0200 - accuracy: 0.9975\n",
            "Epoch 44/100\n",
            "25/25 [==============================] - 0s 3ms/step - loss: 0.0175 - accuracy: 1.0000\n",
            "Epoch 45/100\n",
            "25/25 [==============================] - 0s 3ms/step - loss: 0.0183 - accuracy: 0.9975\n",
            "Epoch 46/100\n",
            "25/25 [==============================] - 0s 3ms/step - loss: 0.0220 - accuracy: 0.9950\n",
            "Epoch 47/100\n",
            "25/25 [==============================] - 0s 3ms/step - loss: 0.0183 - accuracy: 0.9975\n",
            "Epoch 48/100\n",
            "25/25 [==============================] - 0s 3ms/step - loss: 0.0169 - accuracy: 0.9987\n",
            "Epoch 49/100\n",
            "25/25 [==============================] - 0s 3ms/step - loss: 0.0167 - accuracy: 0.9987\n",
            "Epoch 50/100\n",
            "25/25 [==============================] - 0s 3ms/step - loss: 0.0157 - accuracy: 1.0000\n",
            "Epoch 51/100\n",
            "25/25 [==============================] - 0s 3ms/step - loss: 0.0165 - accuracy: 0.9987\n",
            "Epoch 52/100\n",
            "25/25 [==============================] - 0s 3ms/step - loss: 0.0158 - accuracy: 0.9975\n",
            "Epoch 53/100\n",
            "25/25 [==============================] - 0s 4ms/step - loss: 0.0162 - accuracy: 0.9975\n",
            "Epoch 54/100\n",
            "25/25 [==============================] - 0s 3ms/step - loss: 0.0193 - accuracy: 0.9975\n",
            "Epoch 55/100\n",
            "25/25 [==============================] - 0s 3ms/step - loss: 0.0143 - accuracy: 0.9975\n",
            "Epoch 56/100\n",
            "25/25 [==============================] - 0s 3ms/step - loss: 0.0130 - accuracy: 0.9975\n",
            "Epoch 57/100\n",
            "25/25 [==============================] - 0s 3ms/step - loss: 0.0128 - accuracy: 0.9987\n",
            "Epoch 58/100\n",
            "25/25 [==============================] - 0s 3ms/step - loss: 0.0138 - accuracy: 1.0000\n",
            "Epoch 59/100\n",
            "25/25 [==============================] - 0s 3ms/step - loss: 0.0155 - accuracy: 0.9962\n",
            "Epoch 60/100\n",
            "25/25 [==============================] - 0s 3ms/step - loss: 0.0213 - accuracy: 0.9950\n",
            "Epoch 61/100\n",
            "25/25 [==============================] - 0s 3ms/step - loss: 0.0173 - accuracy: 0.9950\n",
            "Epoch 62/100\n",
            "25/25 [==============================] - 0s 3ms/step - loss: 0.0145 - accuracy: 0.9950\n",
            "Epoch 63/100\n",
            "25/25 [==============================] - 0s 3ms/step - loss: 0.0199 - accuracy: 0.9937\n",
            "Epoch 64/100\n",
            "25/25 [==============================] - 0s 3ms/step - loss: 0.0131 - accuracy: 0.9975\n",
            "Epoch 65/100\n",
            "25/25 [==============================] - 0s 3ms/step - loss: 0.0158 - accuracy: 0.9950\n",
            "Epoch 66/100\n",
            "25/25 [==============================] - 0s 3ms/step - loss: 0.0158 - accuracy: 0.9975\n",
            "Epoch 67/100\n",
            "25/25 [==============================] - 0s 3ms/step - loss: 0.0106 - accuracy: 0.9987\n",
            "Epoch 68/100\n",
            "25/25 [==============================] - 0s 3ms/step - loss: 0.0182 - accuracy: 0.9950\n",
            "Epoch 69/100\n",
            "25/25 [==============================] - 0s 3ms/step - loss: 0.0133 - accuracy: 0.9950\n",
            "Epoch 70/100\n",
            "25/25 [==============================] - 0s 3ms/step - loss: 0.0112 - accuracy: 0.9987\n",
            "Epoch 71/100\n",
            "25/25 [==============================] - 0s 3ms/step - loss: 0.0122 - accuracy: 1.0000\n",
            "Epoch 72/100\n",
            "25/25 [==============================] - 0s 3ms/step - loss: 0.0128 - accuracy: 0.9987\n",
            "Epoch 73/100\n",
            "25/25 [==============================] - 0s 3ms/step - loss: 0.0135 - accuracy: 0.9975\n",
            "Epoch 74/100\n",
            "25/25 [==============================] - 0s 3ms/step - loss: 0.0105 - accuracy: 0.9975\n",
            "Epoch 75/100\n",
            "25/25 [==============================] - 0s 3ms/step - loss: 0.0111 - accuracy: 0.9962\n",
            "Epoch 76/100\n",
            "25/25 [==============================] - 0s 3ms/step - loss: 0.0122 - accuracy: 0.9987\n",
            "Epoch 77/100\n",
            "25/25 [==============================] - 0s 3ms/step - loss: 0.0183 - accuracy: 0.9950\n",
            "Epoch 78/100\n",
            "25/25 [==============================] - 0s 3ms/step - loss: 0.0110 - accuracy: 0.9975\n",
            "Epoch 79/100\n",
            "25/25 [==============================] - 0s 3ms/step - loss: 0.0125 - accuracy: 0.9975\n",
            "Epoch 80/100\n",
            "25/25 [==============================] - 0s 3ms/step - loss: 0.0145 - accuracy: 0.9962\n",
            "Epoch 81/100\n",
            "25/25 [==============================] - 0s 3ms/step - loss: 0.0162 - accuracy: 0.9962\n",
            "Epoch 82/100\n",
            "25/25 [==============================] - 0s 3ms/step - loss: 0.0092 - accuracy: 0.9987\n",
            "Epoch 83/100\n",
            "25/25 [==============================] - 0s 3ms/step - loss: 0.0092 - accuracy: 0.9987\n",
            "Epoch 84/100\n",
            "25/25 [==============================] - 0s 3ms/step - loss: 0.0092 - accuracy: 0.9975\n",
            "Epoch 85/100\n",
            "25/25 [==============================] - 0s 3ms/step - loss: 0.0113 - accuracy: 0.9975\n",
            "Epoch 86/100\n",
            "25/25 [==============================] - 0s 3ms/step - loss: 0.0082 - accuracy: 1.0000\n",
            "Epoch 87/100\n",
            "25/25 [==============================] - 0s 3ms/step - loss: 0.0106 - accuracy: 0.9975\n",
            "Epoch 88/100\n",
            "25/25 [==============================] - 0s 3ms/step - loss: 0.0221 - accuracy: 0.9937\n",
            "Epoch 89/100\n",
            "25/25 [==============================] - 0s 3ms/step - loss: 0.0172 - accuracy: 0.9950\n",
            "Epoch 90/100\n",
            "25/25 [==============================] - 0s 3ms/step - loss: 0.0088 - accuracy: 1.0000\n",
            "Epoch 91/100\n",
            "25/25 [==============================] - 0s 3ms/step - loss: 0.0075 - accuracy: 0.9987\n",
            "Epoch 92/100\n",
            "25/25 [==============================] - 0s 3ms/step - loss: 0.0098 - accuracy: 0.9987\n",
            "Epoch 93/100\n",
            "25/25 [==============================] - 0s 3ms/step - loss: 0.0089 - accuracy: 0.9987\n",
            "Epoch 94/100\n",
            "25/25 [==============================] - 0s 3ms/step - loss: 0.0064 - accuracy: 1.0000\n",
            "Epoch 95/100\n",
            "25/25 [==============================] - 0s 3ms/step - loss: 0.0064 - accuracy: 1.0000\n",
            "Epoch 96/100\n",
            "25/25 [==============================] - 0s 3ms/step - loss: 0.0076 - accuracy: 0.9987\n",
            "Epoch 97/100\n",
            "25/25 [==============================] - 0s 3ms/step - loss: 0.0084 - accuracy: 1.0000\n",
            "Epoch 98/100\n",
            "25/25 [==============================] - 0s 3ms/step - loss: 0.0077 - accuracy: 0.9987\n",
            "Epoch 99/100\n",
            "25/25 [==============================] - 0s 3ms/step - loss: 0.0173 - accuracy: 0.9912\n",
            "Epoch 100/100\n",
            "25/25 [==============================] - 0s 3ms/step - loss: 0.0124 - accuracy: 0.9975\n"
          ]
        }
      ]
    },
    {
      "cell_type": "code",
      "source": [
        "#plotting accuracy and loss\n",
        "pd.DataFrame(history_9.history).plot()\n",
        "plt.show()"
      ],
      "metadata": {
        "colab": {
          "base_uri": "https://localhost:8080/",
          "height": 430
        },
        "id": "VdFtPt7YEd6j",
        "outputId": "ecb022ec-b377-4519-dbdb-3f23329b346a"
      },
      "execution_count": 90,
      "outputs": [
        {
          "output_type": "display_data",
          "data": {
            "text/plain": [
              "<Figure size 640x480 with 1 Axes>"
            ],
            "image/png": "[encoded data removed]"
          },
          "metadata": {}
        }
      ]
    },
    {
      "cell_type": "code",
      "source": [
        "#get the predictions\n",
        "predictions_9 = model_9.predict(X_test)\n",
        "round(pd.DataFrame(predictions_9),0)[0].astype('int64')"
      ],
      "metadata": {
        "colab": {
          "base_uri": "https://localhost:8080/"
        },
        "id": "vyO6z_zLEd38",
        "outputId": "e5da45fa-b0be-4d83-9f9d-d222b21cb240"
      },
      "execution_count": 97,
      "outputs": [
        {
          "output_type": "stream",
          "name": "stdout",
          "text": [
            "7/7 [==============================] - 0s 4ms/step\n"
          ]
        },
        {
          "output_type": "execute_result",
          "data": {
            "text/plain": [
              "0      1\n",
              "1      1\n",
              "2      1\n",
              "3      1\n",
              "4      0\n",
              "      ..\n",
              "195    1\n",
              "196    0\n",
              "197    1\n",
              "198    0\n",
              "199    0\n",
              "Name: 0, Length: 200, dtype: int64"
            ]
          },
          "metadata": {},
          "execution_count": 97
        }
      ]
    },
    {
      "cell_type": "code",
      "source": [
        "#confusion matrix\n",
        "confusion_matrix(y_test,round(pd.DataFrame(predictions_9),0)[0].astype('int64'))"
      ],
      "metadata": {
        "colab": {
          "base_uri": "https://localhost:8080/"
        },
        "id": "K3dtKNQeEd1F",
        "outputId": "b1992df6-0537-4c5b-9393-cb568a094c32"
      },
      "execution_count": 98,
      "outputs": [
        {
          "output_type": "execute_result",
          "data": {
            "text/plain": [
              "array([[106,   0],\n",
              "       [  0,  94]])"
            ]
          },
          "metadata": {},
          "execution_count": 98
        }
      ]
    },
    {
      "cell_type": "markdown",
      "source": [
        "# Using Callbacks to find model's ideal learning rate\n",
        "To find ideal learning rate during fitting, we are gonna use this steps:\n",
        "* A learning rate **callback**.You can think of a callback as an extra piece of functionality you can add to your model while its training.\n",
        "* Another model (we could use the same ones as above, we we're practicing building models here).\n",
        "* A modified loss curves plot."
      ],
      "metadata": {
        "id": "40ji8R6JEdtR"
      }
    },
    {
      "cell_type": "code",
      "source": [
        "#let's create a model_10 with the callback(LearningRateScheduler)\n",
        "\n",
        "#set the random seed\n",
        "tf.random.set_seed(42)\n",
        "\n",
        "#create the model(can be same model_9 or similar)\n",
        "model_10 = tf.keras.models.Sequential([\n",
        "    tf.keras.layers.Dense(100, activation= 'relu'),\n",
        "    tf.keras.layers.Dense(100, activation= 'relu'),\n",
        "    tf.keras.layers.Dense(1, activation= 'sigmoid')\n",
        "])\n",
        "\n",
        "#compile the model\n",
        "model_10.compile(loss = tf.keras.losses.binary_crossentropy,\n",
        "                 optimizer = 'adam',\n",
        "                 metrics = ['accuracy'])\n",
        "\n",
        "#set the callback(LearningRateScheduler) to find ideal Learning Rate\n",
        "lr_scheduler = tf.keras.callbacks.LearningRateScheduler(lambda epoch: 0.0001 * 10 **(epoch/20))\n",
        "\n",
        "#fit the model\n",
        "history_10 = model_10.fit(X_train,\n",
        "             y_train,\n",
        "             epochs= 100,\n",
        "             callbacks=[lr_scheduler])"
      ],
      "metadata": {
        "colab": {
          "base_uri": "https://localhost:8080/"
        },
        "id": "zIw-mIbmEdqq",
        "outputId": "6ecedca3-95f1-4461-e7b3-b7785db2ef97"
      },
      "execution_count": 107,
      "outputs": [
        {
          "output_type": "stream",
          "name": "stdout",
          "text": [
            "Epoch 1/100\n",
            "25/25 [==============================] - 2s 3ms/step - loss: 0.6985 - accuracy: 0.5063 - lr: 1.0000e-04\n",
            "Epoch 2/100\n",
            "25/25 [==============================] - 0s 3ms/step - loss: 0.6959 - accuracy: 0.5100 - lr: 1.1220e-04\n",
            "Epoch 3/100\n",
            "25/25 [==============================] - 0s 3ms/step - loss: 0.6938 - accuracy: 0.5213 - lr: 1.2589e-04\n",
            "Epoch 4/100\n",
            "25/25 [==============================] - 0s 3ms/step - loss: 0.6921 - accuracy: 0.4913 - lr: 1.4125e-04\n",
            "Epoch 5/100\n",
            "25/25 [==============================] - 0s 3ms/step - loss: 0.6907 - accuracy: 0.4950 - lr: 1.5849e-04\n",
            "Epoch 6/100\n",
            "25/25 [==============================] - 0s 3ms/step - loss: 0.6894 - accuracy: 0.4988 - lr: 1.7783e-04\n",
            "Epoch 7/100\n",
            "25/25 [==============================] - 0s 3ms/step - loss: 0.6884 - accuracy: 0.4925 - lr: 1.9953e-04\n",
            "Epoch 8/100\n",
            "25/25 [==============================] - 0s 3ms/step - loss: 0.6871 - accuracy: 0.4925 - lr: 2.2387e-04\n",
            "Epoch 9/100\n",
            "25/25 [==============================] - 0s 3ms/step - loss: 0.6858 - accuracy: 0.4925 - lr: 2.5119e-04\n",
            "Epoch 10/100\n",
            "25/25 [==============================] - 0s 3ms/step - loss: 0.6845 - accuracy: 0.4925 - lr: 2.8184e-04\n",
            "Epoch 11/100\n",
            "25/25 [==============================] - 0s 3ms/step - loss: 0.6828 - accuracy: 0.5025 - lr: 3.1623e-04\n",
            "Epoch 12/100\n",
            "25/25 [==============================] - 0s 4ms/step - loss: 0.6807 - accuracy: 0.4950 - lr: 3.5481e-04\n",
            "Epoch 13/100\n",
            "25/25 [==============================] - 0s 3ms/step - loss: 0.6780 - accuracy: 0.5150 - lr: 3.9811e-04\n",
            "Epoch 14/100\n",
            "25/25 [==============================] - 0s 3ms/step - loss: 0.6741 - accuracy: 0.5600 - lr: 4.4668e-04\n",
            "Epoch 15/100\n",
            "25/25 [==============================] - 0s 4ms/step - loss: 0.6686 - accuracy: 0.5600 - lr: 5.0119e-04\n",
            "Epoch 16/100\n",
            "25/25 [==============================] - 0s 3ms/step - loss: 0.6613 - accuracy: 0.6062 - lr: 5.6234e-04\n",
            "Epoch 17/100\n",
            "25/25 [==============================] - 0s 3ms/step - loss: 0.6490 - accuracy: 0.7987 - lr: 6.3096e-04\n",
            "Epoch 18/100\n",
            "25/25 [==============================] - 0s 3ms/step - loss: 0.6305 - accuracy: 0.7825 - lr: 7.0795e-04\n",
            "Epoch 19/100\n",
            "25/25 [==============================] - 0s 4ms/step - loss: 0.5957 - accuracy: 0.8550 - lr: 7.9433e-04\n",
            "Epoch 20/100\n",
            "25/25 [==============================] - 0s 4ms/step - loss: 0.5499 - accuracy: 0.8737 - lr: 8.9125e-04\n",
            "Epoch 21/100\n",
            "25/25 [==============================] - 0s 4ms/step - loss: 0.4750 - accuracy: 0.9287 - lr: 0.0010\n",
            "Epoch 22/100\n",
            "25/25 [==============================] - 0s 5ms/step - loss: 0.3767 - accuracy: 0.9825 - lr: 0.0011\n",
            "Epoch 23/100\n",
            "25/25 [==============================] - 0s 4ms/step - loss: 0.2723 - accuracy: 0.9900 - lr: 0.0013\n",
            "Epoch 24/100\n",
            "25/25 [==============================] - 0s 4ms/step - loss: 0.1855 - accuracy: 0.9975 - lr: 0.0014\n",
            "Epoch 25/100\n",
            "25/25 [==============================] - 0s 4ms/step - loss: 0.1242 - accuracy: 0.9962 - lr: 0.0016\n",
            "Epoch 26/100\n",
            "25/25 [==============================] - 0s 4ms/step - loss: 0.0840 - accuracy: 0.9987 - lr: 0.0018\n",
            "Epoch 27/100\n",
            "25/25 [==============================] - 0s 4ms/step - loss: 0.0605 - accuracy: 1.0000 - lr: 0.0020\n",
            "Epoch 28/100\n",
            "25/25 [==============================] - 0s 4ms/step - loss: 0.0514 - accuracy: 0.9975 - lr: 0.0022\n",
            "Epoch 29/100\n",
            "25/25 [==============================] - 0s 4ms/step - loss: 0.0488 - accuracy: 0.9937 - lr: 0.0025\n",
            "Epoch 30/100\n",
            "25/25 [==============================] - 0s 4ms/step - loss: 0.0316 - accuracy: 0.9987 - lr: 0.0028\n",
            "Epoch 31/100\n",
            "25/25 [==============================] - 0s 4ms/step - loss: 0.0209 - accuracy: 1.0000 - lr: 0.0032\n",
            "Epoch 32/100\n",
            "25/25 [==============================] - 0s 4ms/step - loss: 0.0202 - accuracy: 0.9987 - lr: 0.0035\n",
            "Epoch 33/100\n",
            "25/25 [==============================] - 0s 4ms/step - loss: 0.0170 - accuracy: 0.9975 - lr: 0.0040\n",
            "Epoch 34/100\n",
            "25/25 [==============================] - 0s 4ms/step - loss: 0.0767 - accuracy: 0.9663 - lr: 0.0045\n",
            "Epoch 35/100\n",
            "25/25 [==============================] - 0s 4ms/step - loss: 0.2505 - accuracy: 0.8963 - lr: 0.0050\n",
            "Epoch 36/100\n",
            "25/25 [==============================] - 0s 4ms/step - loss: 0.1069 - accuracy: 0.9650 - lr: 0.0056\n",
            "Epoch 37/100\n",
            "25/25 [==============================] - 0s 4ms/step - loss: 0.0533 - accuracy: 0.9825 - lr: 0.0063\n",
            "Epoch 38/100\n",
            "25/25 [==============================] - 0s 4ms/step - loss: 0.0636 - accuracy: 0.9800 - lr: 0.0071\n",
            "Epoch 39/100\n",
            "25/25 [==============================] - 0s 4ms/step - loss: 0.0146 - accuracy: 0.9975 - lr: 0.0079\n",
            "Epoch 40/100\n",
            "25/25 [==============================] - 0s 4ms/step - loss: 0.0071 - accuracy: 0.9987 - lr: 0.0089\n",
            "Epoch 41/100\n",
            "25/25 [==============================] - 0s 3ms/step - loss: 0.0061 - accuracy: 1.0000 - lr: 0.0100\n",
            "Epoch 42/100\n",
            "25/25 [==============================] - 0s 3ms/step - loss: 0.0047 - accuracy: 1.0000 - lr: 0.0112\n",
            "Epoch 43/100\n",
            "25/25 [==============================] - 0s 3ms/step - loss: 0.0057 - accuracy: 1.0000 - lr: 0.0126\n",
            "Epoch 44/100\n",
            "25/25 [==============================] - 0s 3ms/step - loss: 0.0038 - accuracy: 1.0000 - lr: 0.0141\n",
            "Epoch 45/100\n",
            "25/25 [==============================] - 0s 3ms/step - loss: 0.0066 - accuracy: 1.0000 - lr: 0.0158\n",
            "Epoch 46/100\n",
            "25/25 [==============================] - 0s 3ms/step - loss: 0.0426 - accuracy: 0.9862 - lr: 0.0178\n",
            "Epoch 47/100\n",
            "25/25 [==============================] - 0s 3ms/step - loss: 0.7063 - accuracy: 0.7437 - lr: 0.0200\n",
            "Epoch 48/100\n",
            "25/25 [==============================] - 0s 3ms/step - loss: 0.4462 - accuracy: 0.7962 - lr: 0.0224\n",
            "Epoch 49/100\n",
            "25/25 [==============================] - 0s 3ms/step - loss: 0.1080 - accuracy: 0.9675 - lr: 0.0251\n",
            "Epoch 50/100\n",
            "25/25 [==============================] - 0s 3ms/step - loss: 0.0265 - accuracy: 0.9962 - lr: 0.0282\n",
            "Epoch 51/100\n",
            "25/25 [==============================] - 0s 3ms/step - loss: 0.0545 - accuracy: 0.9775 - lr: 0.0316\n",
            "Epoch 52/100\n",
            "25/25 [==============================] - 0s 3ms/step - loss: 0.1017 - accuracy: 0.9613 - lr: 0.0355\n",
            "Epoch 53/100\n",
            "25/25 [==============================] - 0s 3ms/step - loss: 0.4844 - accuracy: 0.8725 - lr: 0.0398\n",
            "Epoch 54/100\n",
            "25/25 [==============================] - 0s 3ms/step - loss: 0.0963 - accuracy: 0.9700 - lr: 0.0447\n",
            "Epoch 55/100\n",
            "25/25 [==============================] - 0s 3ms/step - loss: 0.0331 - accuracy: 0.9900 - lr: 0.0501\n",
            "Epoch 56/100\n",
            "25/25 [==============================] - 0s 3ms/step - loss: 0.0139 - accuracy: 0.9987 - lr: 0.0562\n",
            "Epoch 57/100\n",
            "25/25 [==============================] - 0s 3ms/step - loss: 0.0188 - accuracy: 0.9962 - lr: 0.0631\n",
            "Epoch 58/100\n",
            "25/25 [==============================] - 0s 3ms/step - loss: 0.0535 - accuracy: 0.9775 - lr: 0.0708\n",
            "Epoch 59/100\n",
            "25/25 [==============================] - 0s 3ms/step - loss: 0.4195 - accuracy: 0.8838 - lr: 0.0794\n",
            "Epoch 60/100\n",
            "25/25 [==============================] - 0s 3ms/step - loss: 0.1958 - accuracy: 0.9325 - lr: 0.0891\n",
            "Epoch 61/100\n",
            "25/25 [==============================] - 0s 3ms/step - loss: 0.0838 - accuracy: 0.9675 - lr: 0.1000\n",
            "Epoch 62/100\n",
            "25/25 [==============================] - 0s 3ms/step - loss: 0.1396 - accuracy: 0.9513 - lr: 0.1122\n",
            "Epoch 63/100\n",
            "25/25 [==============================] - 0s 3ms/step - loss: 0.2249 - accuracy: 0.9137 - lr: 0.1259\n",
            "Epoch 64/100\n",
            "25/25 [==============================] - 0s 3ms/step - loss: 0.3734 - accuracy: 0.8388 - lr: 0.1413\n",
            "Epoch 65/100\n",
            "25/25 [==============================] - 0s 3ms/step - loss: 0.1853 - accuracy: 0.9312 - lr: 0.1585\n",
            "Epoch 66/100\n",
            "25/25 [==============================] - 0s 3ms/step - loss: 0.5581 - accuracy: 0.7837 - lr: 0.1778\n",
            "Epoch 67/100\n",
            "25/25 [==============================] - 0s 3ms/step - loss: 0.4620 - accuracy: 0.7825 - lr: 0.1995\n",
            "Epoch 68/100\n",
            "25/25 [==============================] - 0s 3ms/step - loss: 0.5622 - accuracy: 0.7000 - lr: 0.2239\n",
            "Epoch 69/100\n",
            "25/25 [==============================] - 0s 3ms/step - loss: 0.6409 - accuracy: 0.5587 - lr: 0.2512\n",
            "Epoch 70/100\n",
            "25/25 [==============================] - 0s 3ms/step - loss: 0.5477 - accuracy: 0.6938 - lr: 0.2818\n",
            "Epoch 71/100\n",
            "25/25 [==============================] - 0s 3ms/step - loss: 0.5736 - accuracy: 0.6825 - lr: 0.3162\n",
            "Epoch 72/100\n",
            "25/25 [==============================] - 0s 3ms/step - loss: 0.7262 - accuracy: 0.5800 - lr: 0.3548\n",
            "Epoch 73/100\n",
            "25/25 [==============================] - 0s 3ms/step - loss: 0.6799 - accuracy: 0.5200 - lr: 0.3981\n",
            "Epoch 74/100\n",
            "25/25 [==============================] - 0s 3ms/step - loss: 0.7060 - accuracy: 0.4950 - lr: 0.4467\n",
            "Epoch 75/100\n",
            "25/25 [==============================] - 0s 3ms/step - loss: 0.6992 - accuracy: 0.4775 - lr: 0.5012\n",
            "Epoch 76/100\n",
            "25/25 [==============================] - 0s 3ms/step - loss: 0.7278 - accuracy: 0.4875 - lr: 0.5623\n",
            "Epoch 77/100\n",
            "25/25 [==============================] - 0s 3ms/step - loss: 0.7065 - accuracy: 0.5075 - lr: 0.6310\n",
            "Epoch 78/100\n",
            "25/25 [==============================] - 0s 3ms/step - loss: 0.7153 - accuracy: 0.5025 - lr: 0.7079\n",
            "Epoch 79/100\n",
            "25/25 [==============================] - 0s 3ms/step - loss: 0.7073 - accuracy: 0.5250 - lr: 0.7943\n",
            "Epoch 80/100\n",
            "25/25 [==============================] - 0s 3ms/step - loss: 0.7030 - accuracy: 0.5000 - lr: 0.8913\n",
            "Epoch 81/100\n",
            "25/25 [==============================] - 0s 3ms/step - loss: 0.7125 - accuracy: 0.5150 - lr: 1.0000\n",
            "Epoch 82/100\n",
            "25/25 [==============================] - 0s 3ms/step - loss: 0.7064 - accuracy: 0.5025 - lr: 1.1220\n",
            "Epoch 83/100\n",
            "25/25 [==============================] - 0s 3ms/step - loss: 0.7275 - accuracy: 0.4825 - lr: 1.2589\n",
            "Epoch 84/100\n",
            "25/25 [==============================] - 0s 3ms/step - loss: 0.7147 - accuracy: 0.4800 - lr: 1.4125\n",
            "Epoch 85/100\n",
            "25/25 [==============================] - 0s 3ms/step - loss: 0.7151 - accuracy: 0.5150 - lr: 1.5849\n",
            "Epoch 86/100\n",
            "25/25 [==============================] - 0s 3ms/step - loss: 0.7354 - accuracy: 0.5100 - lr: 1.7783\n",
            "Epoch 87/100\n",
            "25/25 [==============================] - 0s 3ms/step - loss: 0.7394 - accuracy: 0.4700 - lr: 1.9953\n",
            "Epoch 88/100\n",
            "25/25 [==============================] - 0s 3ms/step - loss: 0.7814 - accuracy: 0.5025 - lr: 2.2387\n",
            "Epoch 89/100\n",
            "25/25 [==============================] - 0s 3ms/step - loss: 0.8180 - accuracy: 0.4900 - lr: 2.5119\n",
            "Epoch 90/100\n",
            "25/25 [==============================] - 0s 3ms/step - loss: 0.7999 - accuracy: 0.4900 - lr: 2.8184\n",
            "Epoch 91/100\n",
            "25/25 [==============================] - 0s 3ms/step - loss: 0.7588 - accuracy: 0.5150 - lr: 3.1623\n",
            "Epoch 92/100\n",
            "25/25 [==============================] - 0s 3ms/step - loss: 0.8482 - accuracy: 0.5150 - lr: 3.5481\n",
            "Epoch 93/100\n",
            "25/25 [==============================] - 0s 3ms/step - loss: 0.7813 - accuracy: 0.5125 - lr: 3.9811\n",
            "Epoch 94/100\n",
            "25/25 [==============================] - 0s 3ms/step - loss: 0.8030 - accuracy: 0.5025 - lr: 4.4668\n",
            "Epoch 95/100\n",
            "25/25 [==============================] - 0s 3ms/step - loss: 0.7406 - accuracy: 0.4900 - lr: 5.0119\n",
            "Epoch 96/100\n",
            "25/25 [==============================] - 0s 3ms/step - loss: 0.7850 - accuracy: 0.4950 - lr: 5.6234\n",
            "Epoch 97/100\n",
            "25/25 [==============================] - 0s 3ms/step - loss: 0.7404 - accuracy: 0.5050 - lr: 6.3096\n",
            "Epoch 98/100\n",
            "25/25 [==============================] - 0s 3ms/step - loss: 0.8592 - accuracy: 0.4925 - lr: 7.0795\n",
            "Epoch 99/100\n",
            "25/25 [==============================] - 0s 3ms/step - loss: 0.7183 - accuracy: 0.4925 - lr: 7.9433\n",
            "Epoch 100/100\n",
            "25/25 [==============================] - 0s 3ms/step - loss: 0.7957 - accuracy: 0.5300 - lr: 8.9125\n"
          ]
        }
      ]
    },
    {
      "cell_type": "code",
      "source": [
        "pd.DataFrame(history_10.history)"
      ],
      "metadata": {
        "colab": {
          "base_uri": "https://localhost:8080/",
          "height": 424
        },
        "id": "sbV6FCV3O0H_",
        "outputId": "922983cd-131f-499b-f152-2a17429a2171"
      },
      "execution_count": 111,
      "outputs": [
        {
          "output_type": "execute_result",
          "data": {
            "text/plain": [
              "        loss  accuracy        lr\n",
              "0   0.698455   0.50625  0.000100\n",
              "1   0.695898   0.51000  0.000112\n",
              "2   0.693784   0.52125  0.000126\n",
              "3   0.692144   0.49125  0.000141\n",
              "4   0.690745   0.49500  0.000158\n",
              "..       ...       ...       ...\n",
              "95  0.784953   0.49500  5.623413\n",
              "96  0.740355   0.50500  6.309574\n",
              "97  0.859238   0.49250  7.079458\n",
              "98  0.718250   0.49250  7.943282\n",
              "99  0.795701   0.53000  8.912509\n",
              "\n",
              "[100 rows x 3 columns]"
            ],
            "text/html": [
              "\n",
              "  <div id=\"df-8bb8b352-b99f-4c8e-9990-8f68b698e4ac\">\n",
              "    <div class=\"colab-df-container\">\n",
              "      <div>\n",
              "<style scoped>\n",
              "    .dataframe tbody tr th:only-of-type {\n",
              "        vertical-align: middle;\n",
              "    }\n",
              "\n",
              "    .dataframe tbody tr th {\n",
              "        vertical-align: top;\n",
              "    }\n",
              "\n",
              "    .dataframe thead th {\n",
              "        text-align: right;\n",
              "    }\n",
              "</style>\n",
              "<table border=\"1\" class=\"dataframe\">\n",
              "  <thead>\n",
              "    <tr style=\"text-align: right;\">\n",
              "      <th></th>\n",
              "      <th>loss</th>\n",
              "      <th>accuracy</th>\n",
              "      <th>lr</th>\n",
              "    </tr>\n",
              "  </thead>\n",
              "  <tbody>\n",
              "    <tr>\n",
              "      <th>0</th>\n",
              "      <td>0.698455</td>\n",
              "      <td>0.50625</td>\n",
              "      <td>0.000100</td>\n",
              "    </tr>\n",
              "    <tr>\n",
              "      <th>1</th>\n",
              "      <td>0.695898</td>\n",
              "      <td>0.51000</td>\n",
              "      <td>0.000112</td>\n",
              "    </tr>\n",
              "    <tr>\n",
              "      <th>2</th>\n",
              "      <td>0.693784</td>\n",
              "      <td>0.52125</td>\n",
              "      <td>0.000126</td>\n",
              "    </tr>\n",
              "    <tr>\n",
              "      <th>3</th>\n",
              "      <td>0.692144</td>\n",
              "      <td>0.49125</td>\n",
              "      <td>0.000141</td>\n",
              "    </tr>\n",
              "    <tr>\n",
              "      <th>4</th>\n",
              "      <td>0.690745</td>\n",
              "      <td>0.49500</td>\n",
              "      <td>0.000158</td>\n",
              "    </tr>\n",
              "    <tr>\n",
              "      <th>...</th>\n",
              "      <td>...</td>\n",
              "      <td>...</td>\n",
              "      <td>...</td>\n",
              "    </tr>\n",
              "    <tr>\n",
              "      <th>95</th>\n",
              "      <td>0.784953</td>\n",
              "      <td>0.49500</td>\n",
              "      <td>5.623413</td>\n",
              "    </tr>\n",
              "    <tr>\n",
              "      <th>96</th>\n",
              "      <td>0.740355</td>\n",
              "      <td>0.50500</td>\n",
              "      <td>6.309574</td>\n",
              "    </tr>\n",
              "    <tr>\n",
              "      <th>97</th>\n",
              "      <td>0.859238</td>\n",
              "      <td>0.49250</td>\n",
              "      <td>7.079458</td>\n",
              "    </tr>\n",
              "    <tr>\n",
              "      <th>98</th>\n",
              "      <td>0.718250</td>\n",
              "      <td>0.49250</td>\n",
              "      <td>7.943282</td>\n",
              "    </tr>\n",
              "    <tr>\n",
              "      <th>99</th>\n",
              "      <td>0.795701</td>\n",
              "      <td>0.53000</td>\n",
              "      <td>8.912509</td>\n",
              "    </tr>\n",
              "  </tbody>\n",
              "</table>\n",
              "<p>100 rows × 3 columns</p>\n",
              "</div>\n",
              "      <button class=\"colab-df-convert\" onclick=\"convertToInteractive('df-8bb8b352-b99f-4c8e-9990-8f68b698e4ac')\"\n",
              "              title=\"Convert this dataframe to an interactive table.\"\n",
              "              style=\"display:none;\">\n",
              "        \n",
              "  <svg xmlns=\"http://www.w3.org/2000/svg\" height=\"24px\"viewBox=\"0 0 24 24\"\n",
              "       width=\"24px\">\n",
              "    <path d=\"M0 0h24v24H0V0z\" fill=\"none\"/>\n",
              "    <path d=\"M18.56 5.44l.94 2.06.94-2.06 2.06-.94-2.06-.94-.94-2.06-.94 2.06-2.06.94zm-11 1L8.5 8.5l.94-2.06 2.06-.94-2.06-.94L8.5 2.5l-.94 2.06-2.06.94zm10 10l.94 2.06.94-2.06 2.06-.94-2.06-.94-.94-2.06-.94 2.06-2.06.94z\"/><path d=\"M17.41 7.96l-1.37-1.37c-.4-.4-.92-.59-1.43-.59-.52 0-1.04.2-1.43.59L10.3 9.45l-7.72 7.72c-.78.78-.78 2.05 0 2.83L4 21.41c.39.39.9.59 1.41.59.51 0 1.02-.2 1.41-.59l7.78-7.78 2.81-2.81c.8-.78.8-2.07 0-2.86zM5.41 20L4 18.59l7.72-7.72 1.47 1.35L5.41 20z\"/>\n",
              "  </svg>\n",
              "      </button>\n",
              "      \n",
              "  <style>\n",
              "    .colab-df-container {\n",
              "      display:flex;\n",
              "      flex-wrap:wrap;\n",
              "      gap: 12px;\n",
              "    }\n",
              "\n",
              "    .colab-df-convert {\n",
              "      background-color: #E8F0FE;\n",
              "      border: none;\n",
              "      border-radius: 50%;\n",
              "      cursor: pointer;\n",
              "      display: none;\n",
              "      fill: #1967D2;\n",
              "      height: 32px;\n",
              "      padding: 0 0 0 0;\n",
              "      width: 32px;\n",
              "    }\n",
              "\n",
              "    .colab-df-convert:hover {\n",
              "      background-color: #E2EBFA;\n",
              "      box-shadow: 0px 1px 2px rgba(60, 64, 67, 0.3), 0px 1px 3px 1px rgba(60, 64, 67, 0.15);\n",
              "      fill: #174EA6;\n",
              "    }\n",
              "\n",
              "    [theme=dark] .colab-df-convert {\n",
              "      background-color: #3B4455;\n",
              "      fill: #D2E3FC;\n",
              "    }\n",
              "\n",
              "    [theme=dark] .colab-df-convert:hover {\n",
              "      background-color: #434B5C;\n",
              "      box-shadow: 0px 1px 3px 1px rgba(0, 0, 0, 0.15);\n",
              "      filter: drop-shadow(0px 1px 2px rgba(0, 0, 0, 0.3));\n",
              "      fill: #FFFFFF;\n",
              "    }\n",
              "  </style>\n",
              "\n",
              "      <script>\n",
              "        const buttonEl =\n",
              "          document.querySelector('#df-8bb8b352-b99f-4c8e-9990-8f68b698e4ac button.colab-df-convert');\n",
              "        buttonEl.style.display =\n",
              "          google.colab.kernel.accessAllowed ? 'block' : 'none';\n",
              "\n",
              "        async function convertToInteractive(key) {\n",
              "          const element = document.querySelector('#df-8bb8b352-b99f-4c8e-9990-8f68b698e4ac');\n",
              "          const dataTable =\n",
              "            await google.colab.kernel.invokeFunction('convertToInteractive',\n",
              "                                                     [key], {});\n",
              "          if (!dataTable) return;\n",
              "\n",
              "          const docLinkHtml = 'Like what you see? Visit the ' +\n",
              "            '<a target=\"_blank\" href=https://colab.research.google.com/notebooks/data_table.ipynb>data table notebook</a>'\n",
              "            + ' to learn more about interactive tables.';\n",
              "          element.innerHTML = '';\n",
              "          dataTable['output_type'] = 'display_data';\n",
              "          await google.colab.output.renderOutput(dataTable, element);\n",
              "          const docLink = document.createElement('div');\n",
              "          docLink.innerHTML = docLinkHtml;\n",
              "          element.appendChild(docLink);\n",
              "        }\n",
              "      </script>\n",
              "    </div>\n",
              "  </div>\n",
              "  "
            ]
          },
          "metadata": {},
          "execution_count": 111
        }
      ]
    },
    {
      "cell_type": "code",
      "source": [
        "#checkout the history of model_10\n",
        "pd.DataFrame(history_10.history).plot()"
      ],
      "metadata": {
        "colab": {
          "base_uri": "https://localhost:8080/",
          "height": 448
        },
        "id": "tlsdccfIEdn0",
        "outputId": "51485328-915e-4815-8e7e-02739bf64934"
      },
      "execution_count": 108,
      "outputs": [
        {
          "output_type": "execute_result",
          "data": {
            "text/plain": [
              "<Axes: >"
            ]
          },
          "metadata": {},
          "execution_count": 108
        },
        {
          "output_type": "display_data",
          "data": {
            "text/plain": [
              "<Figure size 640x480 with 1 Axes>"
            ],
            "image/png": "[encoded data removed]"
          },
          "metadata": {}
        }
      ]
    },
    {
      "cell_type": "code",
      "source": [
        "#plot the vissualization to show loss vs learning rate\n",
        "plt.figure(figsize=(16,9))\n",
        "lrs = 0.0001 * 10**(tf.range(100)/20)\n",
        "plt.semilogx(lrs,pd.DataFrame(history_10.history)['loss'])\n",
        "plt.title('Learning Rate vs Loss')\n",
        "plt.xlabel('Learning Rate')\n",
        "plt.ylabel('Loss')\n",
        "plt.show()"
      ],
      "metadata": {
        "colab": {
          "base_uri": "https://localhost:8080/",
          "height": 624
        },
        "id": "F5e0gzZcOtrM",
        "outputId": "01a97a70-2b3f-4d17-e7ed-24932d2683e7"
      },
      "execution_count": 112,
      "outputs": [
        {
          "output_type": "display_data",
          "data": {
            "text/plain": [
              "<Figure size 1600x900 with 1 Axes>"
            ],
            "image/png": "[encoded data removed]"
          },
          "metadata": {}
        }
      ]
    },
    {
      "cell_type": "code",
      "source": [
        "#plot the vissualization to show accuracy vs learning rate\n",
        "plt.figure(figsize=(16,9))\n",
        "lrs = 0.0001 * 10**(tf.range(100)/20)\n",
        "plt.semilogx(lrs,pd.DataFrame(history_10.history)['accuracy'],nonpositive='clip')\n",
        "plt.title('Learning Rate vs Accuracy')\n",
        "plt.xlabel('Learning Rate')\n",
        "plt.ylabel('Accuracy')\n",
        "plt.show()"
      ],
      "metadata": {
        "colab": {
          "base_uri": "https://localhost:8080/",
          "height": 624
        },
        "id": "I_210cy4O0FY",
        "outputId": "0eb8c292-3956-4953-f8cf-99db61e8f70f"
      },
      "execution_count": 115,
      "outputs": [
        {
          "output_type": "display_data",
          "data": {
            "text/plain": [
              "<Figure size 1600x900 with 1 Axes>"
            ],
            "image/png": "[encoded data removed]"
          },
          "metadata": {}
        }
      ]
    },
    {
      "cell_type": "markdown",
      "source": [
        "# Working with larger example: **Multiclass Classification**\n",
        "When you have more than two classes as a option, it is known as a Multiclass C;assificaion."
      ],
      "metadata": {
        "id": "kqw_I2BdOz_6"
      }
    },
    {
      "cell_type": "code",
      "source": [
        "#import clothing dataset\n",
        "from tensorflow.keras.datasets import fashion_mnist"
      ],
      "metadata": {
        "id": "nOA5S38yOz9k"
      },
      "execution_count": 116,
      "outputs": []
    },
    {
      "cell_type": "code",
      "source": [
        "#the data has already imported as train and test sets\n",
        "(train_data,train_labels),(test_data,test_labels) = fashion_mnist.load_data()"
      ],
      "metadata": {
        "id": "jo_GpomAOz6s"
      },
      "execution_count": 118,
      "outputs": []
    },
    {
      "cell_type": "code",
      "source": [
        "#get the shape of our train set\n",
        "train_data.shape,train_labels.shape"
      ],
      "metadata": {
        "colab": {
          "base_uri": "https://localhost:8080/"
        },
        "id": "XhDQXJTwOz4G",
        "outputId": "3684f69d-41de-442f-d913-16556f8a5c48"
      },
      "execution_count": 119,
      "outputs": [
        {
          "output_type": "execute_result",
          "data": {
            "text/plain": [
              "((60000, 28, 28), (60000,))"
            ]
          },
          "metadata": {},
          "execution_count": 119
        }
      ]
    },
    {
      "cell_type": "code",
      "source": [
        "#let's get the first example of our train data and train label\n",
        "print(f\"First example of train_data:\\n{train_data[0]}\\n\")\n",
        "print(f\"The First example of train_label:\\n{train_labels[0]}\")"
      ],
      "metadata": {
        "colab": {
          "base_uri": "https://localhost:8080/"
        },
        "id": "quY9Vs3yOz1f",
        "outputId": "c2875c36-43e5-42ee-f7aa-d381e6082f91"
      },
      "execution_count": 120,
      "outputs": [
        {
          "output_type": "stream",
          "name": "stdout",
          "text": [
            "First example of train_data:\n",
            "[[  0   0   0   0   0   0   0   0   0   0   0   0   0   0   0   0   0   0\n",
            "    0   0   0   0   0   0   0   0   0   0]\n",
            " [  0   0   0   0   0   0   0   0   0   0   0   0   0   0   0   0   0   0\n",
            "    0   0   0   0   0   0   0   0   0   0]\n",
            " [  0   0   0   0   0   0   0   0   0   0   0   0   0   0   0   0   0   0\n",
            "    0   0   0   0   0   0   0   0   0   0]\n",
            " [  0   0   0   0   0   0   0   0   0   0   0   0   1   0   0  13  73   0\n",
            "    0   1   4   0   0   0   0   1   1   0]\n",
            " [  0   0   0   0   0   0   0   0   0   0   0   0   3   0  36 136 127  62\n",
            "   54   0   0   0   1   3   4   0   0   3]\n",
            " [  0   0   0   0   0   0   0   0   0   0   0   0   6   0 102 204 176 134\n",
            "  144 123  23   0   0   0   0  12  10   0]\n",
            " [  0   0   0   0   0   0   0   0   0   0   0   0   0   0 155 236 207 178\n",
            "  107 156 161 109  64  23  77 130  72  15]\n",
            " [  0   0   0   0   0   0   0   0   0   0   0   1   0  69 207 223 218 216\n",
            "  216 163 127 121 122 146 141  88 172  66]\n",
            " [  0   0   0   0   0   0   0   0   0   1   1   1   0 200 232 232 233 229\n",
            "  223 223 215 213 164 127 123 196 229   0]\n",
            " [  0   0   0   0   0   0   0   0   0   0   0   0   0 183 225 216 223 228\n",
            "  235 227 224 222 224 221 223 245 173   0]\n",
            " [  0   0   0   0   0   0   0   0   0   0   0   0   0 193 228 218 213 198\n",
            "  180 212 210 211 213 223 220 243 202   0]\n",
            " [  0   0   0   0   0   0   0   0   0   1   3   0  12 219 220 212 218 192\n",
            "  169 227 208 218 224 212 226 197 209  52]\n",
            " [  0   0   0   0   0   0   0   0   0   0   6   0  99 244 222 220 218 203\n",
            "  198 221 215 213 222 220 245 119 167  56]\n",
            " [  0   0   0   0   0   0   0   0   0   4   0   0  55 236 228 230 228 240\n",
            "  232 213 218 223 234 217 217 209  92   0]\n",
            " [  0   0   1   4   6   7   2   0   0   0   0   0 237 226 217 223 222 219\n",
            "  222 221 216 223 229 215 218 255  77   0]\n",
            " [  0   3   0   0   0   0   0   0   0  62 145 204 228 207 213 221 218 208\n",
            "  211 218 224 223 219 215 224 244 159   0]\n",
            " [  0   0   0   0  18  44  82 107 189 228 220 222 217 226 200 205 211 230\n",
            "  224 234 176 188 250 248 233 238 215   0]\n",
            " [  0  57 187 208 224 221 224 208 204 214 208 209 200 159 245 193 206 223\n",
            "  255 255 221 234 221 211 220 232 246   0]\n",
            " [  3 202 228 224 221 211 211 214 205 205 205 220 240  80 150 255 229 221\n",
            "  188 154 191 210 204 209 222 228 225   0]\n",
            " [ 98 233 198 210 222 229 229 234 249 220 194 215 217 241  65  73 106 117\n",
            "  168 219 221 215 217 223 223 224 229  29]\n",
            " [ 75 204 212 204 193 205 211 225 216 185 197 206 198 213 240 195 227 245\n",
            "  239 223 218 212 209 222 220 221 230  67]\n",
            " [ 48 203 183 194 213 197 185 190 194 192 202 214 219 221 220 236 225 216\n",
            "  199 206 186 181 177 172 181 205 206 115]\n",
            " [  0 122 219 193 179 171 183 196 204 210 213 207 211 210 200 196 194 191\n",
            "  195 191 198 192 176 156 167 177 210  92]\n",
            " [  0   0  74 189 212 191 175 172 175 181 185 188 189 188 193 198 204 209\n",
            "  210 210 211 188 188 194 192 216 170   0]\n",
            " [  2   0   0   0  66 200 222 237 239 242 246 243 244 221 220 193 191 179\n",
            "  182 182 181 176 166 168  99  58   0   0]\n",
            " [  0   0   0   0   0   0   0  40  61  44  72  41  35   0   0   0   0   0\n",
            "    0   0   0   0   0   0   0   0   0   0]\n",
            " [  0   0   0   0   0   0   0   0   0   0   0   0   0   0   0   0   0   0\n",
            "    0   0   0   0   0   0   0   0   0   0]\n",
            " [  0   0   0   0   0   0   0   0   0   0   0   0   0   0   0   0   0   0\n",
            "    0   0   0   0   0   0   0   0   0   0]]\n",
            "\n",
            "The First example of train_label:\n",
            "9\n"
          ]
        }
      ]
    },
    {
      "cell_type": "code",
      "source": [
        "#check the shape of  single example of data\n",
        "train_data[0].shape, train_labels[0].shape"
      ],
      "metadata": {
        "colab": {
          "base_uri": "https://localhost:8080/"
        },
        "id": "Ziez7aodOzy4",
        "outputId": "8810b570-4647-46a9-d083-82c14c852659"
      },
      "execution_count": 122,
      "outputs": [
        {
          "output_type": "execute_result",
          "data": {
            "text/plain": [
              "((28, 28), ())"
            ]
          },
          "metadata": {},
          "execution_count": 122
        }
      ]
    },
    {
      "cell_type": "code",
      "source": [
        "#plot the single example\n",
        "plt.figure(figsize=(16,9))\n",
        "plt.imshow(train_data[0])\n",
        "plt.show()"
      ],
      "metadata": {
        "colab": {
          "base_uri": "https://localhost:8080/",
          "height": 753
        },
        "id": "MEV8nq36OzwR",
        "outputId": "527ef738-37c5-4ba1-e7fd-616c12648daa"
      },
      "execution_count": 123,
      "outputs": [
        {
          "output_type": "display_data",
          "data": {
            "text/plain": [
              "<Figure size 1600x900 with 1 Axes>"
            ],
            "image/png": "[encoded data removed]"
          },
          "metadata": {}
        }
      ]
    },
    {
      "cell_type": "code",
      "source": [],
      "metadata": {
        "id": "kBDdGehFO2jM"
      },
      "execution_count": null,
      "outputs": []
    },
    {
      "cell_type": "code",
      "source": [],
      "metadata": {
        "id": "X6bhDdhHO2g2"
      },
      "execution_count": null,
      "outputs": []
    },
    {
      "cell_type": "code",
      "source": [],
      "metadata": {
        "id": "cXxKboF2O2d-"
      },
      "execution_count": null,
      "outputs": []
    },
    {
      "cell_type": "code",
      "source": [],
      "metadata": {
        "id": "YnFzN7TyO2ba"
      },
      "execution_count": null,
      "outputs": []
    },
    {
      "cell_type": "code",
      "source": [],
      "metadata": {
        "id": "GpRqX1U9O2Yx"
      },
      "execution_count": null,
      "outputs": []
    },
    {
      "cell_type": "code",
      "source": [],
      "metadata": {
        "id": "x6DqwYiUO2Wb"
      },
      "execution_count": null,
      "outputs": []
    },
    {
      "cell_type": "code",
      "source": [],
      "metadata": {
        "id": "4oXy2i5EO2T2"
      },
      "execution_count": null,
      "outputs": []
    },
    {
      "cell_type": "code",
      "source": [],
      "metadata": {
        "id": "rUvGptmkO2Q9"
      },
      "execution_count": null,
      "outputs": []
    },
    {
      "cell_type": "code",
      "source": [],
      "metadata": {
        "id": "2ASCu9KsO2OW"
      },
      "execution_count": null,
      "outputs": []
    },
    {
      "cell_type": "code",
      "source": [],
      "metadata": {
        "id": "vJIVlwlRO2Lx"
      },
      "execution_count": null,
      "outputs": []
    },
    {
      "cell_type": "code",
      "source": [],
      "metadata": {
        "id": "OWBExONqOzrE"
      },
      "execution_count": null,
      "outputs": []
    },
    {
      "cell_type": "code",
      "source": [],
      "metadata": {
        "id": "m5ndJov2OzoN"
      },
      "execution_count": null,
      "outputs": []
    },
    {
      "cell_type": "code",
      "source": [],
      "metadata": {
        "id": "cRvEKU3eOzl7"
      },
      "execution_count": null,
      "outputs": []
    }
  ]
}