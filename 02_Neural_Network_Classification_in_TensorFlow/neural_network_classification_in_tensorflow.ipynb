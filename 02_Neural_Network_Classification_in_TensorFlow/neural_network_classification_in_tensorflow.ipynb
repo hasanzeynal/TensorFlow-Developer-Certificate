{
  "nbformat": 4,
  "nbformat_minor": 0,
  "metadata": {
    "colab": {
      "provenance": [],
      "toc_visible": true,
      "gpuType": "T4",
      "authorship_tag": "ABX9TyNzwsYjnwZSzHQ3ZreKPUul",
      "include_colab_link": true
    },
    "kernelspec": {
      "name": "python3",
      "display_name": "Python 3"
    },
    "language_info": {
      "name": "python"
    },
    "accelerator": "GPU"
  },
  "cells": [
    {
      "cell_type": "markdown",
      "metadata": {
        "id": "view-in-github",
        "colab_type": "text"
      },
      "source": [
        "<a href=\"https://colab.research.google.com/github/hasanzeynal/TensorFlow-Developer-Certificate/blob/main/02_Neural_Network_Classification_in_TensorFlow/neural_network_classification_in_tensorflow.ipynb\" target=\"_parent\"><img src=\"https://colab.research.google.com/assets/colab-badge.svg\" alt=\"Open In Colab\"/></a>"
      ]
    },
    {
      "cell_type": "code",
      "execution_count": 1,
      "metadata": {
        "id": "OqpWuo7AXnv0"
      },
      "outputs": [],
      "source": [
        "#import libraries\n",
        "import tensorflow as tf\n",
        "import pandas as pd\n",
        "import numpy as np\n",
        "import matplotlib.pyplot as plt\n",
        "import seaborn as sns\n",
        "\n",
        "from sklearn.metrics import accuracy_score, recall_score, precision_score, f1_score, confusion_matrix"
      ]
    },
    {
      "cell_type": "markdown",
      "source": [
        "## What we are gonna cover:\n",
        "* The architecture of NN Classification Model\n",
        "* Input Shapes and Output Shapes of NN Classification Model\n",
        "* Creating Custom Data to view and fit\n",
        "* Steps in modelling\n",
        "  * Creating model, compile the model, fit the model, evaluate the model\n",
        "* Different Classification Evaluation Methods\n",
        "* Saving and Loading Models"
      ],
      "metadata": {
        "id": "UPwutVoHNfiD"
      }
    },
    {
      "cell_type": "markdown",
      "source": [
        "# Creating Data to view and fit"
      ],
      "metadata": {
        "id": "7Gnx-ORKRbw_"
      }
    },
    {
      "cell_type": "code",
      "source": [
        "#import make circles\n",
        "from sklearn.datasets import make_circles\n",
        "\n",
        "#create circles\n",
        "X,y = make_circles(n_samples= 1000,\n",
        "                   noise= 0.03,\n",
        "                   random_state= 42)   #if you wanna work on classification problem,you can create your data with make_circles"
      ],
      "metadata": {
        "id": "7K2AHCFTfuEe"
      },
      "execution_count": null,
      "outputs": []
    },
    {
      "cell_type": "code",
      "source": [
        "#Check out the labels\n",
        "y[:20]"
      ],
      "metadata": {
        "colab": {
          "base_uri": "https://localhost:8080/"
        },
        "id": "v8rpw5zLft-w",
        "outputId": "58c61208-a28d-4cdf-ad54-3c3e0810a24c"
      },
      "execution_count": null,
      "outputs": [
        {
          "output_type": "execute_result",
          "data": {
            "text/plain": [
              "array([1, 1, 1, 1, 0, 1, 1, 1, 1, 0, 1, 0, 1, 1, 1, 1, 0, 1, 1, 0])"
            ]
          },
          "metadata": {},
          "execution_count": 3
        }
      ]
    },
    {
      "cell_type": "code",
      "source": [
        "import pandas as pd\n",
        "pd.DataFrame(y).value_counts()   #it create 0 and 1's in the same numbers for the labels"
      ],
      "metadata": {
        "colab": {
          "base_uri": "https://localhost:8080/"
        },
        "id": "cUWHIQOtft76",
        "outputId": "fc00e199-1fee-4925-ed0f-237556a4c5d4"
      },
      "execution_count": null,
      "outputs": [
        {
          "output_type": "execute_result",
          "data": {
            "text/plain": [
              "0    500\n",
              "1    500\n",
              "dtype: int64"
            ]
          },
          "metadata": {},
          "execution_count": 4
        }
      ]
    },
    {
      "cell_type": "code",
      "source": [
        "#let's change our x and y to the dataframe to visulise our data\n",
        "circles = pd.DataFrame({'X_1':X[:,0], 'X_2':X[:,1], 'y':y})\n",
        "circles"
      ],
      "metadata": {
        "colab": {
          "base_uri": "https://localhost:8080/",
          "height": 424
        },
        "id": "z1ZmhzYgft5C",
        "outputId": "27681017-bec9-4d21-99e7-fb9cae96e4a6"
      },
      "execution_count": null,
      "outputs": [
        {
          "output_type": "execute_result",
          "data": {
            "text/plain": [
              "          X_1       X_2  y\n",
              "0    0.754246  0.231481  1\n",
              "1   -0.756159  0.153259  1\n",
              "2   -0.815392  0.173282  1\n",
              "3   -0.393731  0.692883  1\n",
              "4    0.442208 -0.896723  0\n",
              "..        ...       ... ..\n",
              "995  0.244054  0.944125  0\n",
              "996 -0.978655 -0.272373  0\n",
              "997 -0.136900 -0.810012  1\n",
              "998  0.670362 -0.767502  0\n",
              "999  0.281057  0.963824  0\n",
              "\n",
              "[1000 rows x 3 columns]"
            ],
            "text/html": [
              "\n",
              "  <div id=\"df-1c507e86-283d-4d2e-863c-9ea720d2493c\">\n",
              "    <div class=\"colab-df-container\">\n",
              "      <div>\n",
              "<style scoped>\n",
              "    .dataframe tbody tr th:only-of-type {\n",
              "        vertical-align: middle;\n",
              "    }\n",
              "\n",
              "    .dataframe tbody tr th {\n",
              "        vertical-align: top;\n",
              "    }\n",
              "\n",
              "    .dataframe thead th {\n",
              "        text-align: right;\n",
              "    }\n",
              "</style>\n",
              "<table border=\"1\" class=\"dataframe\">\n",
              "  <thead>\n",
              "    <tr style=\"text-align: right;\">\n",
              "      <th></th>\n",
              "      <th>X_1</th>\n",
              "      <th>X_2</th>\n",
              "      <th>y</th>\n",
              "    </tr>\n",
              "  </thead>\n",
              "  <tbody>\n",
              "    <tr>\n",
              "      <th>0</th>\n",
              "      <td>0.754246</td>\n",
              "      <td>0.231481</td>\n",
              "      <td>1</td>\n",
              "    </tr>\n",
              "    <tr>\n",
              "      <th>1</th>\n",
              "      <td>-0.756159</td>\n",
              "      <td>0.153259</td>\n",
              "      <td>1</td>\n",
              "    </tr>\n",
              "    <tr>\n",
              "      <th>2</th>\n",
              "      <td>-0.815392</td>\n",
              "      <td>0.173282</td>\n",
              "      <td>1</td>\n",
              "    </tr>\n",
              "    <tr>\n",
              "      <th>3</th>\n",
              "      <td>-0.393731</td>\n",
              "      <td>0.692883</td>\n",
              "      <td>1</td>\n",
              "    </tr>\n",
              "    <tr>\n",
              "      <th>4</th>\n",
              "      <td>0.442208</td>\n",
              "      <td>-0.896723</td>\n",
              "      <td>0</td>\n",
              "    </tr>\n",
              "    <tr>\n",
              "      <th>...</th>\n",
              "      <td>...</td>\n",
              "      <td>...</td>\n",
              "      <td>...</td>\n",
              "    </tr>\n",
              "    <tr>\n",
              "      <th>995</th>\n",
              "      <td>0.244054</td>\n",
              "      <td>0.944125</td>\n",
              "      <td>0</td>\n",
              "    </tr>\n",
              "    <tr>\n",
              "      <th>996</th>\n",
              "      <td>-0.978655</td>\n",
              "      <td>-0.272373</td>\n",
              "      <td>0</td>\n",
              "    </tr>\n",
              "    <tr>\n",
              "      <th>997</th>\n",
              "      <td>-0.136900</td>\n",
              "      <td>-0.810012</td>\n",
              "      <td>1</td>\n",
              "    </tr>\n",
              "    <tr>\n",
              "      <th>998</th>\n",
              "      <td>0.670362</td>\n",
              "      <td>-0.767502</td>\n",
              "      <td>0</td>\n",
              "    </tr>\n",
              "    <tr>\n",
              "      <th>999</th>\n",
              "      <td>0.281057</td>\n",
              "      <td>0.963824</td>\n",
              "      <td>0</td>\n",
              "    </tr>\n",
              "  </tbody>\n",
              "</table>\n",
              "<p>1000 rows × 3 columns</p>\n",
              "</div>\n",
              "      <button class=\"colab-df-convert\" onclick=\"convertToInteractive('df-1c507e86-283d-4d2e-863c-9ea720d2493c')\"\n",
              "              title=\"Convert this dataframe to an interactive table.\"\n",
              "              style=\"display:none;\">\n",
              "        \n",
              "  <svg xmlns=\"http://www.w3.org/2000/svg\" height=\"24px\"viewBox=\"0 0 24 24\"\n",
              "       width=\"24px\">\n",
              "    <path d=\"M0 0h24v24H0V0z\" fill=\"none\"/>\n",
              "    <path d=\"M18.56 5.44l.94 2.06.94-2.06 2.06-.94-2.06-.94-.94-2.06-.94 2.06-2.06.94zm-11 1L8.5 8.5l.94-2.06 2.06-.94-2.06-.94L8.5 2.5l-.94 2.06-2.06.94zm10 10l.94 2.06.94-2.06 2.06-.94-2.06-.94-.94-2.06-.94 2.06-2.06.94z\"/><path d=\"M17.41 7.96l-1.37-1.37c-.4-.4-.92-.59-1.43-.59-.52 0-1.04.2-1.43.59L10.3 9.45l-7.72 7.72c-.78.78-.78 2.05 0 2.83L4 21.41c.39.39.9.59 1.41.59.51 0 1.02-.2 1.41-.59l7.78-7.78 2.81-2.81c.8-.78.8-2.07 0-2.86zM5.41 20L4 18.59l7.72-7.72 1.47 1.35L5.41 20z\"/>\n",
              "  </svg>\n",
              "      </button>\n",
              "      \n",
              "  <style>\n",
              "    .colab-df-container {\n",
              "      display:flex;\n",
              "      flex-wrap:wrap;\n",
              "      gap: 12px;\n",
              "    }\n",
              "\n",
              "    .colab-df-convert {\n",
              "      background-color: #E8F0FE;\n",
              "      border: none;\n",
              "      border-radius: 50%;\n",
              "      cursor: pointer;\n",
              "      display: none;\n",
              "      fill: #1967D2;\n",
              "      height: 32px;\n",
              "      padding: 0 0 0 0;\n",
              "      width: 32px;\n",
              "    }\n",
              "\n",
              "    .colab-df-convert:hover {\n",
              "      background-color: #E2EBFA;\n",
              "      box-shadow: 0px 1px 2px rgba(60, 64, 67, 0.3), 0px 1px 3px 1px rgba(60, 64, 67, 0.15);\n",
              "      fill: #174EA6;\n",
              "    }\n",
              "\n",
              "    [theme=dark] .colab-df-convert {\n",
              "      background-color: #3B4455;\n",
              "      fill: #D2E3FC;\n",
              "    }\n",
              "\n",
              "    [theme=dark] .colab-df-convert:hover {\n",
              "      background-color: #434B5C;\n",
              "      box-shadow: 0px 1px 3px 1px rgba(0, 0, 0, 0.15);\n",
              "      filter: drop-shadow(0px 1px 2px rgba(0, 0, 0, 0.3));\n",
              "      fill: #FFFFFF;\n",
              "    }\n",
              "  </style>\n",
              "\n",
              "      <script>\n",
              "        const buttonEl =\n",
              "          document.querySelector('#df-1c507e86-283d-4d2e-863c-9ea720d2493c button.colab-df-convert');\n",
              "        buttonEl.style.display =\n",
              "          google.colab.kernel.accessAllowed ? 'block' : 'none';\n",
              "\n",
              "        async function convertToInteractive(key) {\n",
              "          const element = document.querySelector('#df-1c507e86-283d-4d2e-863c-9ea720d2493c');\n",
              "          const dataTable =\n",
              "            await google.colab.kernel.invokeFunction('convertToInteractive',\n",
              "                                                     [key], {});\n",
              "          if (!dataTable) return;\n",
              "\n",
              "          const docLinkHtml = 'Like what you see? Visit the ' +\n",
              "            '<a target=\"_blank\" href=https://colab.research.google.com/notebooks/data_table.ipynb>data table notebook</a>'\n",
              "            + ' to learn more about interactive tables.';\n",
              "          element.innerHTML = '';\n",
              "          dataTable['output_type'] = 'display_data';\n",
              "          await google.colab.output.renderOutput(dataTable, element);\n",
              "          const docLink = document.createElement('div');\n",
              "          docLink.innerHTML = docLinkHtml;\n",
              "          element.appendChild(docLink);\n",
              "        }\n",
              "      </script>\n",
              "    </div>\n",
              "  </div>\n",
              "  "
            ]
          },
          "metadata": {},
          "execution_count": 5
        }
      ]
    },
    {
      "cell_type": "code",
      "source": [
        "#import matplotlib\n",
        "import matplotlib.pyplot as plt\n",
        "#visualise the datas\n",
        "plt.scatter(X[:,0], X[:,1],c= y)\n",
        "#show the plot\n",
        "plt.show()"
      ],
      "metadata": {
        "colab": {
          "base_uri": "https://localhost:8080/",
          "height": 430
        },
        "id": "F5qNtPKdfttD",
        "outputId": "e6f3fe88-e936-454d-8715-375d208e81cb"
      },
      "execution_count": null,
      "outputs": [
        {
          "output_type": "display_data",
          "data": {
            "text/plain": [
              "<Figure size 640x480 with 1 Axes>"
            ],
            "image/png": "[encoded data removed]"
          },
          "metadata": {}
        }
      ]
    },
    {
      "cell_type": "markdown",
      "source": [
        "# Input and Output Shapes"
      ],
      "metadata": {
        "id": "673ZxFLikLxE"
      }
    },
    {
      "cell_type": "code",
      "source": [
        "X.shape,y.shape"
      ],
      "metadata": {
        "colab": {
          "base_uri": "https://localhost:8080/"
        },
        "id": "XGMJcXe_fuBn",
        "outputId": "d58605ec-4e4c-4154-ca3d-2aac16ff0188"
      },
      "execution_count": null,
      "outputs": [
        {
          "output_type": "execute_result",
          "data": {
            "text/plain": [
              "((1000, 2), (1000,))"
            ]
          },
          "metadata": {},
          "execution_count": 7
        }
      ]
    },
    {
      "cell_type": "markdown",
      "source": [
        "# Modelling\n",
        "We are gonna create some models until we make around 95+ accuracy score"
      ],
      "metadata": {
        "id": "b8m4RDsEkgq0"
      }
    },
    {
      "cell_type": "code",
      "source": [
        "#train test splitting\n",
        "X_train = X[:800]\n",
        "X_test = X[800:]\n",
        "\n",
        "y_train = X[:800]\n",
        "y_test = X[800:]\n",
        "\n",
        "#looking for shape\n",
        "X_train.shape,y_train.shape,X_test.shape,y_test.shape"
      ],
      "metadata": {
        "id": "8pBsfmLokgn6",
        "colab": {
          "base_uri": "https://localhost:8080/"
        },
        "outputId": "bf6a5177-ce58-4e4c-b62c-b20837d05199"
      },
      "execution_count": null,
      "outputs": [
        {
          "output_type": "execute_result",
          "data": {
            "text/plain": [
              "((800, 2), (800, 2), (200, 2), (200, 2))"
            ]
          },
          "metadata": {},
          "execution_count": 8
        }
      ]
    },
    {
      "cell_type": "markdown",
      "source": [
        "##Model 1"
      ],
      "metadata": {
        "id": "KiaD1g50G8dr"
      }
    },
    {
      "cell_type": "code",
      "source": [
        "#creating model\n",
        "model_1 = tf.keras.models.Sequential([\n",
        "    tf.keras.layers.Dense(1)\n",
        "])\n",
        "\n",
        "#compile the model\n",
        "model_1.compile(loss= 'mae',optimizer= 'sgd',metrics=['accuracy'])\n",
        "\n",
        "#fit the model\n",
        "model_1.fit(tf.expand_dims(X_train,axis=-1),y_train,epochs=10)"
      ],
      "metadata": {
        "id": "ASW2BLLwkglT",
        "colab": {
          "base_uri": "https://localhost:8080/"
        },
        "outputId": "0ecf239a-b42a-44f2-92ff-20a8ccaf3a3a"
      },
      "execution_count": null,
      "outputs": [
        {
          "output_type": "stream",
          "name": "stdout",
          "text": [
            "Epoch 1/10\n",
            "25/25 [==============================] - 5s 3ms/step - loss: 0.9295 - accuracy: 0.0000e+00\n",
            "Epoch 2/10\n",
            "25/25 [==============================] - 0s 3ms/step - loss: 0.8476 - accuracy: 0.0000e+00\n",
            "Epoch 3/10\n",
            "25/25 [==============================] - 0s 3ms/step - loss: 0.7656 - accuracy: 0.0000e+00\n",
            "Epoch 4/10\n",
            "25/25 [==============================] - 0s 3ms/step - loss: 0.6837 - accuracy: 0.0000e+00\n",
            "Epoch 5/10\n",
            "25/25 [==============================] - 0s 3ms/step - loss: 0.6017 - accuracy: 0.0000e+00\n",
            "Epoch 6/10\n",
            "25/25 [==============================] - 0s 3ms/step - loss: 0.5198 - accuracy: 0.0000e+00\n",
            "Epoch 7/10\n",
            "25/25 [==============================] - 0s 3ms/step - loss: 0.4379 - accuracy: 0.0000e+00\n",
            "Epoch 8/10\n",
            "25/25 [==============================] - 0s 3ms/step - loss: 0.3559 - accuracy: 0.0000e+00\n",
            "Epoch 9/10\n",
            "25/25 [==============================] - 0s 3ms/step - loss: 0.2740 - accuracy: 0.0000e+00\n",
            "Epoch 10/10\n",
            "25/25 [==============================] - 0s 3ms/step - loss: 0.1920 - accuracy: 0.0000e+00\n"
          ]
        },
        {
          "output_type": "execute_result",
          "data": {
            "text/plain": [
              "<keras.callbacks.History at 0x7f557c0774f0>"
            ]
          },
          "metadata": {},
          "execution_count": 9
        }
      ]
    },
    {
      "cell_type": "code",
      "source": [
        "#get the predictions\n",
        "predictions_1 = model_1.predict(X_test)"
      ],
      "metadata": {
        "colab": {
          "base_uri": "https://localhost:8080/"
        },
        "id": "HRSaTk0wHGFR",
        "outputId": "b7168b42-3566-4f6d-b0e3-3229b8cd9b3c"
      },
      "execution_count": null,
      "outputs": [
        {
          "output_type": "stream",
          "name": "stdout",
          "text": [
            "7/7 [==============================] - 0s 4ms/step\n"
          ]
        }
      ]
    },
    {
      "cell_type": "code",
      "source": [
        "model_1.evaluate(y_test)"
      ],
      "metadata": {
        "colab": {
          "base_uri": "https://localhost:8080/"
        },
        "id": "wB9RQyBsHGC_",
        "outputId": "92cd9028-2c65-4ecb-e360-792581dde10b"
      },
      "execution_count": null,
      "outputs": [
        {
          "output_type": "stream",
          "name": "stdout",
          "text": [
            "7/7 [==============================] - 0s 5ms/step - loss: 0.0000e+00 - accuracy: 0.0000e+00\n"
          ]
        },
        {
          "output_type": "execute_result",
          "data": {
            "text/plain": [
              "[0.0, 0.0]"
            ]
          },
          "metadata": {},
          "execution_count": 11
        }
      ]
    },
    {
      "cell_type": "markdown",
      "source": [
        "## Model 2"
      ],
      "metadata": {
        "id": "MdelE-gTkgic"
      }
    },
    {
      "cell_type": "code",
      "source": [
        "#create the model\n",
        "model_2 = tf.keras.models.Sequential([\n",
        "    tf.keras.layers.Dense(100,activation= 'relu'),   #1 hidden layer added\n",
        "    tf.keras.layers.Dense(1)\n",
        "])\n",
        "\n",
        "#compile the model\n",
        "model_2.compile(loss='mae', optimizer= 'adam', metrics= ['accuracy'])\n",
        "\n",
        "#fit the model\n",
        "model_2.fit(tf.expand_dims(X_train,axis=-1),y_train,epochs=20) #number of epochs is increased to the 20"
      ],
      "metadata": {
        "id": "XL6I8SWCkgf1",
        "colab": {
          "base_uri": "https://localhost:8080/"
        },
        "outputId": "b497b65c-338f-4414-8cae-8112ad06b057"
      },
      "execution_count": null,
      "outputs": [
        {
          "output_type": "stream",
          "name": "stdout",
          "text": [
            "Epoch 1/20\n",
            "25/25 [==============================] - 2s 5ms/step - loss: 0.4217 - accuracy: 0.0000e+00\n",
            "Epoch 2/20\n",
            "25/25 [==============================] - 0s 4ms/step - loss: 0.1723 - accuracy: 0.0000e+00\n",
            "Epoch 3/20\n",
            "25/25 [==============================] - 0s 6ms/step - loss: 0.0723 - accuracy: 0.0000e+00\n",
            "Epoch 4/20\n",
            "25/25 [==============================] - 0s 6ms/step - loss: 0.0568 - accuracy: 0.0000e+00\n",
            "Epoch 5/20\n",
            "25/25 [==============================] - 0s 6ms/step - loss: 0.0488 - accuracy: 0.0000e+00\n",
            "Epoch 6/20\n",
            "25/25 [==============================] - 0s 4ms/step - loss: 0.0394 - accuracy: 0.0000e+00\n",
            "Epoch 7/20\n",
            "25/25 [==============================] - 0s 6ms/step - loss: 0.0298 - accuracy: 0.0000e+00\n",
            "Epoch 8/20\n",
            "25/25 [==============================] - 0s 5ms/step - loss: 0.0177 - accuracy: 0.0000e+00\n",
            "Epoch 9/20\n",
            "25/25 [==============================] - 0s 5ms/step - loss: 0.0063 - accuracy: 0.0000e+00\n",
            "Epoch 10/20\n",
            "25/25 [==============================] - 0s 4ms/step - loss: 0.0038 - accuracy: 0.0000e+00\n",
            "Epoch 11/20\n",
            "25/25 [==============================] - 0s 5ms/step - loss: 0.0024 - accuracy: 0.0000e+00\n",
            "Epoch 12/20\n",
            "25/25 [==============================] - 0s 6ms/step - loss: 0.0017 - accuracy: 0.0000e+00\n",
            "Epoch 13/20\n",
            "25/25 [==============================] - 0s 4ms/step - loss: 0.0027 - accuracy: 0.0000e+00\n",
            "Epoch 14/20\n",
            "25/25 [==============================] - 0s 5ms/step - loss: 0.0016 - accuracy: 0.0000e+00\n",
            "Epoch 15/20\n",
            "25/25 [==============================] - 0s 8ms/step - loss: 0.0016 - accuracy: 0.0000e+00\n",
            "Epoch 16/20\n",
            "25/25 [==============================] - 0s 5ms/step - loss: 0.0024 - accuracy: 0.0000e+00\n",
            "Epoch 17/20\n",
            "25/25 [==============================] - 0s 5ms/step - loss: 0.0013 - accuracy: 0.0000e+00\n",
            "Epoch 18/20\n",
            "25/25 [==============================] - 0s 5ms/step - loss: 0.0016 - accuracy: 0.0000e+00\n",
            "Epoch 19/20\n",
            "25/25 [==============================] - 0s 7ms/step - loss: 0.0023 - accuracy: 0.0000e+00\n",
            "Epoch 20/20\n",
            "25/25 [==============================] - 0s 5ms/step - loss: 0.0015 - accuracy: 0.0000e+00\n"
          ]
        },
        {
          "output_type": "execute_result",
          "data": {
            "text/plain": [
              "<keras.callbacks.History at 0x7f557002c3a0>"
            ]
          },
          "metadata": {},
          "execution_count": 12
        }
      ]
    },
    {
      "cell_type": "code",
      "source": [
        "#get the predictions\n",
        "predictions_2 = model_2.predict(X_test)\n",
        "\n",
        "#evaluate the model\n",
        "model_2.evaluate(predictions_2)"
      ],
      "metadata": {
        "id": "fqeAwMqwkgdj",
        "colab": {
          "base_uri": "https://localhost:8080/"
        },
        "outputId": "2230f24c-8edd-4510-a37f-df2e4bb40c18"
      },
      "execution_count": null,
      "outputs": [
        {
          "output_type": "stream",
          "name": "stdout",
          "text": [
            "7/7 [==============================] - 0s 4ms/step\n",
            "7/7 [==============================] - 0s 3ms/step - loss: 0.0000e+00 - accuracy: 0.0000e+00\n"
          ]
        },
        {
          "output_type": "execute_result",
          "data": {
            "text/plain": [
              "[0.0, 0.0]"
            ]
          },
          "metadata": {},
          "execution_count": 13
        }
      ]
    },
    {
      "cell_type": "markdown",
      "source": [
        "## Model 3"
      ],
      "metadata": {
        "id": "YmvoR0pokgao"
      }
    },
    {
      "cell_type": "code",
      "source": [
        "#create the third model\n",
        "model_3 = tf.keras.models.Sequential([\n",
        "    tf.keras.layers.Dense(100,activation= 'relu'),\n",
        "    tf.keras.layers.Dense(100,activation= 'relu'),   # 1 hidden layer is added\n",
        "    tf.keras.layers.Dense(1)\n",
        "])\n",
        "\n",
        "#compile the model\n",
        "model_3.compile(loss= tf.keras.losses.BinaryCrossentropy(),   #loss is changed because our problem is binary classification\n",
        "                optimizer= 'sgd',\n",
        "                metrics= ['accuracy'])\n",
        "\n",
        "#fit the model\n",
        "model_3.fit(tf.expand_dims(X_train,axis=-1),y_train,epochs= 25)"
      ],
      "metadata": {
        "id": "ATrrGrkrkgYB",
        "colab": {
          "base_uri": "https://localhost:8080/"
        },
        "outputId": "6d29c215-02b7-4c15-c149-0841322f2115"
      },
      "execution_count": null,
      "outputs": [
        {
          "output_type": "stream",
          "name": "stdout",
          "text": [
            "Epoch 1/25\n",
            "25/25 [==============================] - 1s 3ms/step - loss: -3.8639 - accuracy: 0.0000e+00\n",
            "Epoch 2/25\n",
            "25/25 [==============================] - 0s 3ms/step - loss: -4.1391 - accuracy: 0.0000e+00\n",
            "Epoch 3/25\n",
            "25/25 [==============================] - 0s 3ms/step - loss: -4.1684 - accuracy: 0.0000e+00\n",
            "Epoch 4/25\n",
            "25/25 [==============================] - 0s 3ms/step - loss: -4.1825 - accuracy: 0.0000e+00\n",
            "Epoch 5/25\n",
            "25/25 [==============================] - 0s 3ms/step - loss: -4.1879 - accuracy: 0.0000e+00\n",
            "Epoch 6/25\n",
            "25/25 [==============================] - 0s 4ms/step - loss: -4.1906 - accuracy: 0.0000e+00\n",
            "Epoch 7/25\n",
            "25/25 [==============================] - 0s 3ms/step - loss: -4.1917 - accuracy: 0.0000e+00\n",
            "Epoch 8/25\n",
            "25/25 [==============================] - 0s 3ms/step - loss: -4.1933 - accuracy: 0.0000e+00\n",
            "Epoch 9/25\n",
            "25/25 [==============================] - 0s 3ms/step - loss: -4.1943 - accuracy: 0.0000e+00\n",
            "Epoch 10/25\n",
            "25/25 [==============================] - 0s 3ms/step - loss: -4.1947 - accuracy: 0.0000e+00\n",
            "Epoch 11/25\n",
            "25/25 [==============================] - 0s 3ms/step - loss: -4.1837 - accuracy: 0.0000e+00\n",
            "Epoch 12/25\n",
            "25/25 [==============================] - 0s 3ms/step - loss: -4.1620 - accuracy: 0.0000e+00\n",
            "Epoch 13/25\n",
            "25/25 [==============================] - 0s 3ms/step - loss: -4.1926 - accuracy: 0.0000e+00\n",
            "Epoch 14/25\n",
            "25/25 [==============================] - 0s 3ms/step - loss: -4.1944 - accuracy: 0.0000e+00\n",
            "Epoch 15/25\n",
            "25/25 [==============================] - 0s 3ms/step - loss: -4.1921 - accuracy: 0.0000e+00\n",
            "Epoch 16/25\n",
            "25/25 [==============================] - 0s 3ms/step - loss: -4.1948 - accuracy: 0.0000e+00\n",
            "Epoch 17/25\n",
            "25/25 [==============================] - 0s 3ms/step - loss: -4.1914 - accuracy: 0.0000e+00\n",
            "Epoch 18/25\n",
            "25/25 [==============================] - 0s 3ms/step - loss: -4.1936 - accuracy: 0.0000e+00\n",
            "Epoch 19/25\n",
            "25/25 [==============================] - 0s 3ms/step - loss: -4.1958 - accuracy: 0.0000e+00\n",
            "Epoch 20/25\n",
            "25/25 [==============================] - 0s 3ms/step - loss: -4.1957 - accuracy: 0.0000e+00\n",
            "Epoch 21/25\n",
            "25/25 [==============================] - 0s 3ms/step - loss: -4.1344 - accuracy: 0.0000e+00\n",
            "Epoch 22/25\n",
            "25/25 [==============================] - 0s 3ms/step - loss: -4.1903 - accuracy: 0.0000e+00\n",
            "Epoch 23/25\n",
            "25/25 [==============================] - 0s 3ms/step - loss: -4.1786 - accuracy: 0.0000e+00\n",
            "Epoch 24/25\n",
            "25/25 [==============================] - 0s 3ms/step - loss: -4.1885 - accuracy: 0.0000e+00\n",
            "Epoch 25/25\n",
            "25/25 [==============================] - 0s 3ms/step - loss: -4.1960 - accuracy: 0.0000e+00\n"
          ]
        },
        {
          "output_type": "execute_result",
          "data": {
            "text/plain": [
              "<keras.callbacks.History at 0x7f555c082590>"
            ]
          },
          "metadata": {},
          "execution_count": 14
        }
      ]
    },
    {
      "cell_type": "code",
      "source": [],
      "metadata": {
        "id": "uGnkODwGkgVb"
      },
      "execution_count": null,
      "outputs": []
    },
    {
      "cell_type": "code",
      "source": [],
      "metadata": {
        "id": "IBKldxYxkgSj"
      },
      "execution_count": null,
      "outputs": []
    },
    {
      "cell_type": "markdown",
      "source": [
        "##Model 4"
      ],
      "metadata": {
        "id": "KN-1dyhhkgP9"
      }
    },
    {
      "cell_type": "code",
      "source": [
        "\n",
        "\n",
        "#create the model_4\n",
        "model_4 = tf.keras.models.Sequential([\n",
        "    tf.keras.layers.Dense(4, activation= 'relu'),\n",
        "    tf.keras.layers.Dense(4, activation= 'relu'),\n",
        "    tf.keras.layers.Dense(4, activation= 'relu'),  #number of hidden layers is increased\n",
        "    tf.keras.layers.Dense(1, activation= 'softmax')  #activation function(Sigmoid) for output layer to get 1 answer instead of predictions\n",
        "])\n",
        "\n",
        "#compile the model\n",
        "model_4.compile(loss= tf.keras.losses.binary_crossentropy,\n",
        "                optimizer= tf.keras.optimizers.Adam(lr= 0.001),   #optimizer is chnaged to the Adam with learning rate of 0.001\n",
        "                metrics = tf.keras.metrics.Accuracy())\n",
        "\n",
        "#fit the model\n",
        "model_4.fit(tf.expand_dims(X_train,axis=-1),y_train, epochs= 100)  #number of epochs is increased about 100 to learn better"
      ],
      "metadata": {
        "id": "KJP5RhdVkgNF",
        "colab": {
          "base_uri": "https://localhost:8080/"
        },
        "outputId": "b3b089e7-6534-49b4-ff2c-a35db87d04d9"
      },
      "execution_count": null,
      "outputs": [
        {
          "output_type": "stream",
          "name": "stderr",
          "text": [
            "WARNING:absl:`lr` is deprecated in Keras optimizer, please use `learning_rate` or use the legacy optimizer, e.g.,tf.keras.optimizers.legacy.Adam.\n"
          ]
        },
        {
          "output_type": "stream",
          "name": "stdout",
          "text": [
            "Epoch 1/100\n",
            "25/25 [==============================] - 2s 3ms/step - loss: 15.2931 - accuracy: 0.0000e+00\n",
            "Epoch 2/100\n",
            "25/25 [==============================] - 0s 3ms/step - loss: 15.2931 - accuracy: 0.0000e+00\n",
            "Epoch 3/100\n",
            "25/25 [==============================] - 0s 3ms/step - loss: 15.2931 - accuracy: 0.0000e+00\n",
            "Epoch 4/100\n",
            "25/25 [==============================] - 0s 3ms/step - loss: 15.2931 - accuracy: 0.0000e+00\n",
            "Epoch 5/100\n",
            "25/25 [==============================] - 0s 3ms/step - loss: 15.2931 - accuracy: 0.0000e+00\n",
            "Epoch 6/100\n",
            "25/25 [==============================] - 0s 3ms/step - loss: 15.2931 - accuracy: 0.0000e+00\n",
            "Epoch 7/100\n",
            "25/25 [==============================] - 0s 3ms/step - loss: 15.2931 - accuracy: 0.0000e+00\n",
            "Epoch 8/100\n",
            "25/25 [==============================] - 0s 3ms/step - loss: 15.2931 - accuracy: 0.0000e+00\n",
            "Epoch 9/100\n",
            "25/25 [==============================] - 0s 3ms/step - loss: 15.2931 - accuracy: 0.0000e+00\n",
            "Epoch 10/100\n",
            "25/25 [==============================] - 0s 3ms/step - loss: 15.2931 - accuracy: 0.0000e+00\n",
            "Epoch 11/100\n",
            "25/25 [==============================] - 0s 4ms/step - loss: 15.2931 - accuracy: 0.0000e+00\n",
            "Epoch 12/100\n",
            "25/25 [==============================] - 0s 3ms/step - loss: 15.2931 - accuracy: 0.0000e+00\n",
            "Epoch 13/100\n",
            "25/25 [==============================] - 0s 3ms/step - loss: 15.2931 - accuracy: 0.0000e+00\n",
            "Epoch 14/100\n",
            "25/25 [==============================] - 0s 3ms/step - loss: 15.2931 - accuracy: 0.0000e+00\n",
            "Epoch 15/100\n",
            "25/25 [==============================] - 0s 3ms/step - loss: 15.2931 - accuracy: 0.0000e+00\n",
            "Epoch 16/100\n",
            "25/25 [==============================] - 0s 3ms/step - loss: 15.2931 - accuracy: 0.0000e+00\n",
            "Epoch 17/100\n",
            "25/25 [==============================] - 0s 3ms/step - loss: 15.2931 - accuracy: 0.0000e+00\n",
            "Epoch 18/100\n",
            "25/25 [==============================] - 0s 3ms/step - loss: 15.2931 - accuracy: 0.0000e+00\n",
            "Epoch 19/100\n",
            "25/25 [==============================] - 0s 3ms/step - loss: 15.2931 - accuracy: 0.0000e+00\n",
            "Epoch 20/100\n",
            "25/25 [==============================] - 0s 3ms/step - loss: 15.2931 - accuracy: 0.0000e+00\n",
            "Epoch 21/100\n",
            "25/25 [==============================] - 0s 3ms/step - loss: 15.2931 - accuracy: 0.0000e+00\n",
            "Epoch 22/100\n",
            "25/25 [==============================] - 0s 3ms/step - loss: 15.2931 - accuracy: 0.0000e+00\n",
            "Epoch 23/100\n",
            "25/25 [==============================] - 0s 3ms/step - loss: 15.2931 - accuracy: 0.0000e+00\n",
            "Epoch 24/100\n",
            "25/25 [==============================] - 0s 3ms/step - loss: 15.2931 - accuracy: 0.0000e+00\n",
            "Epoch 25/100\n",
            "25/25 [==============================] - 0s 3ms/step - loss: 15.2931 - accuracy: 0.0000e+00\n",
            "Epoch 26/100\n",
            "25/25 [==============================] - 0s 3ms/step - loss: 15.2931 - accuracy: 0.0000e+00\n",
            "Epoch 27/100\n",
            "25/25 [==============================] - 0s 3ms/step - loss: 15.2931 - accuracy: 0.0000e+00\n",
            "Epoch 28/100\n",
            "25/25 [==============================] - 0s 3ms/step - loss: 15.2931 - accuracy: 0.0000e+00\n",
            "Epoch 29/100\n",
            "25/25 [==============================] - 0s 3ms/step - loss: 15.2931 - accuracy: 0.0000e+00\n",
            "Epoch 30/100\n",
            "25/25 [==============================] - 0s 3ms/step - loss: 15.2931 - accuracy: 0.0000e+00\n",
            "Epoch 31/100\n",
            "25/25 [==============================] - 0s 3ms/step - loss: 15.2931 - accuracy: 0.0000e+00\n",
            "Epoch 32/100\n",
            "25/25 [==============================] - 0s 3ms/step - loss: 15.2931 - accuracy: 0.0000e+00\n",
            "Epoch 33/100\n",
            "25/25 [==============================] - 0s 3ms/step - loss: 15.2931 - accuracy: 0.0000e+00\n",
            "Epoch 34/100\n",
            "25/25 [==============================] - 0s 3ms/step - loss: 15.2931 - accuracy: 0.0000e+00\n",
            "Epoch 35/100\n",
            "25/25 [==============================] - 0s 3ms/step - loss: 15.2931 - accuracy: 0.0000e+00\n",
            "Epoch 36/100\n",
            "25/25 [==============================] - 0s 3ms/step - loss: 15.2931 - accuracy: 0.0000e+00\n",
            "Epoch 37/100\n",
            "25/25 [==============================] - 0s 3ms/step - loss: 15.2931 - accuracy: 0.0000e+00\n",
            "Epoch 38/100\n",
            "25/25 [==============================] - 0s 3ms/step - loss: 15.2931 - accuracy: 0.0000e+00\n",
            "Epoch 39/100\n",
            "25/25 [==============================] - 0s 3ms/step - loss: 15.2931 - accuracy: 0.0000e+00\n",
            "Epoch 40/100\n",
            "25/25 [==============================] - 0s 3ms/step - loss: 15.2931 - accuracy: 0.0000e+00\n",
            "Epoch 41/100\n",
            "25/25 [==============================] - 0s 3ms/step - loss: 15.2931 - accuracy: 0.0000e+00\n",
            "Epoch 42/100\n",
            "25/25 [==============================] - 0s 3ms/step - loss: 15.2931 - accuracy: 0.0000e+00\n",
            "Epoch 43/100\n",
            "25/25 [==============================] - 0s 3ms/step - loss: 15.2931 - accuracy: 0.0000e+00\n",
            "Epoch 44/100\n",
            "25/25 [==============================] - 0s 3ms/step - loss: 15.2931 - accuracy: 0.0000e+00\n",
            "Epoch 45/100\n",
            "25/25 [==============================] - 0s 3ms/step - loss: 15.2931 - accuracy: 0.0000e+00\n",
            "Epoch 46/100\n",
            "25/25 [==============================] - 0s 3ms/step - loss: 15.2931 - accuracy: 0.0000e+00\n",
            "Epoch 47/100\n",
            "25/25 [==============================] - 0s 3ms/step - loss: 15.2931 - accuracy: 0.0000e+00\n",
            "Epoch 48/100\n",
            "25/25 [==============================] - 0s 3ms/step - loss: 15.2931 - accuracy: 0.0000e+00\n",
            "Epoch 49/100\n",
            "25/25 [==============================] - 0s 3ms/step - loss: 15.2931 - accuracy: 0.0000e+00\n",
            "Epoch 50/100\n",
            "25/25 [==============================] - 0s 3ms/step - loss: 15.2931 - accuracy: 0.0000e+00\n",
            "Epoch 51/100\n",
            "25/25 [==============================] - 0s 3ms/step - loss: 15.2931 - accuracy: 0.0000e+00\n",
            "Epoch 52/100\n",
            "25/25 [==============================] - 0s 3ms/step - loss: 15.2931 - accuracy: 0.0000e+00\n",
            "Epoch 53/100\n",
            "25/25 [==============================] - 0s 3ms/step - loss: 15.2931 - accuracy: 0.0000e+00\n",
            "Epoch 54/100\n",
            "25/25 [==============================] - 0s 3ms/step - loss: 15.2931 - accuracy: 0.0000e+00\n",
            "Epoch 55/100\n",
            "25/25 [==============================] - 0s 4ms/step - loss: 15.2931 - accuracy: 0.0000e+00\n",
            "Epoch 56/100\n",
            "25/25 [==============================] - 0s 3ms/step - loss: 15.2931 - accuracy: 0.0000e+00\n",
            "Epoch 57/100\n",
            "25/25 [==============================] - 0s 3ms/step - loss: 15.2931 - accuracy: 0.0000e+00\n",
            "Epoch 58/100\n",
            "25/25 [==============================] - 0s 3ms/step - loss: 15.2931 - accuracy: 0.0000e+00\n",
            "Epoch 59/100\n",
            "25/25 [==============================] - 0s 3ms/step - loss: 15.2931 - accuracy: 0.0000e+00\n",
            "Epoch 60/100\n",
            "25/25 [==============================] - 0s 3ms/step - loss: 15.2931 - accuracy: 0.0000e+00\n",
            "Epoch 61/100\n",
            "25/25 [==============================] - 0s 3ms/step - loss: 15.2931 - accuracy: 0.0000e+00\n",
            "Epoch 62/100\n",
            "25/25 [==============================] - 0s 3ms/step - loss: 15.2931 - accuracy: 0.0000e+00\n",
            "Epoch 63/100\n",
            "25/25 [==============================] - 0s 3ms/step - loss: 15.2931 - accuracy: 0.0000e+00\n",
            "Epoch 64/100\n",
            "25/25 [==============================] - 0s 3ms/step - loss: 15.2931 - accuracy: 0.0000e+00\n",
            "Epoch 65/100\n",
            "25/25 [==============================] - 0s 3ms/step - loss: 15.2931 - accuracy: 0.0000e+00\n",
            "Epoch 66/100\n",
            "25/25 [==============================] - 0s 3ms/step - loss: 15.2931 - accuracy: 0.0000e+00\n",
            "Epoch 67/100\n",
            "25/25 [==============================] - 0s 3ms/step - loss: 15.2931 - accuracy: 0.0000e+00\n",
            "Epoch 68/100\n",
            "25/25 [==============================] - 0s 3ms/step - loss: 15.2931 - accuracy: 0.0000e+00\n",
            "Epoch 69/100\n",
            "25/25 [==============================] - 0s 3ms/step - loss: 15.2931 - accuracy: 0.0000e+00\n",
            "Epoch 70/100\n",
            "25/25 [==============================] - 0s 3ms/step - loss: 15.2931 - accuracy: 0.0000e+00\n",
            "Epoch 71/100\n",
            "25/25 [==============================] - 0s 5ms/step - loss: 15.2931 - accuracy: 0.0000e+00\n",
            "Epoch 72/100\n",
            "25/25 [==============================] - 0s 5ms/step - loss: 15.2931 - accuracy: 0.0000e+00\n",
            "Epoch 73/100\n",
            "25/25 [==============================] - 0s 4ms/step - loss: 15.2931 - accuracy: 0.0000e+00\n",
            "Epoch 74/100\n",
            "25/25 [==============================] - 0s 4ms/step - loss: 15.2931 - accuracy: 0.0000e+00\n",
            "Epoch 75/100\n",
            "25/25 [==============================] - 0s 4ms/step - loss: 15.2931 - accuracy: 0.0000e+00\n",
            "Epoch 76/100\n",
            "25/25 [==============================] - 0s 4ms/step - loss: 15.2931 - accuracy: 0.0000e+00\n",
            "Epoch 77/100\n",
            "25/25 [==============================] - 0s 4ms/step - loss: 15.2931 - accuracy: 0.0000e+00\n",
            "Epoch 78/100\n",
            "25/25 [==============================] - 0s 4ms/step - loss: 15.2931 - accuracy: 0.0000e+00\n",
            "Epoch 79/100\n",
            "25/25 [==============================] - 0s 4ms/step - loss: 15.2931 - accuracy: 0.0000e+00\n",
            "Epoch 80/100\n",
            "25/25 [==============================] - 0s 5ms/step - loss: 15.2931 - accuracy: 0.0000e+00\n",
            "Epoch 81/100\n",
            "25/25 [==============================] - 0s 4ms/step - loss: 15.2931 - accuracy: 0.0000e+00\n",
            "Epoch 82/100\n",
            "25/25 [==============================] - 0s 4ms/step - loss: 15.2931 - accuracy: 0.0000e+00\n",
            "Epoch 83/100\n",
            "25/25 [==============================] - 0s 4ms/step - loss: 15.2931 - accuracy: 0.0000e+00\n",
            "Epoch 84/100\n",
            "25/25 [==============================] - 0s 4ms/step - loss: 15.2931 - accuracy: 0.0000e+00\n",
            "Epoch 85/100\n",
            "25/25 [==============================] - 0s 4ms/step - loss: 15.2931 - accuracy: 0.0000e+00\n",
            "Epoch 86/100\n",
            "25/25 [==============================] - 0s 4ms/step - loss: 15.2931 - accuracy: 0.0000e+00\n",
            "Epoch 87/100\n",
            "25/25 [==============================] - 0s 4ms/step - loss: 15.2931 - accuracy: 0.0000e+00\n",
            "Epoch 88/100\n",
            "25/25 [==============================] - 0s 4ms/step - loss: 15.2931 - accuracy: 0.0000e+00\n",
            "Epoch 89/100\n",
            "25/25 [==============================] - 0s 4ms/step - loss: 15.2931 - accuracy: 0.0000e+00\n",
            "Epoch 90/100\n",
            "25/25 [==============================] - 0s 4ms/step - loss: 15.2931 - accuracy: 0.0000e+00\n",
            "Epoch 91/100\n",
            "25/25 [==============================] - 0s 4ms/step - loss: 15.2931 - accuracy: 0.0000e+00\n",
            "Epoch 92/100\n",
            "25/25 [==============================] - 0s 4ms/step - loss: 15.2931 - accuracy: 0.0000e+00\n",
            "Epoch 93/100\n",
            "25/25 [==============================] - 0s 3ms/step - loss: 15.2931 - accuracy: 0.0000e+00\n",
            "Epoch 94/100\n",
            "25/25 [==============================] - 0s 3ms/step - loss: 15.2931 - accuracy: 0.0000e+00\n",
            "Epoch 95/100\n",
            "25/25 [==============================] - 0s 3ms/step - loss: 15.2931 - accuracy: 0.0000e+00\n",
            "Epoch 96/100\n",
            "25/25 [==============================] - 0s 3ms/step - loss: 15.2931 - accuracy: 0.0000e+00\n",
            "Epoch 97/100\n",
            "25/25 [==============================] - 0s 3ms/step - loss: 15.2931 - accuracy: 0.0000e+00\n",
            "Epoch 98/100\n",
            "25/25 [==============================] - 0s 3ms/step - loss: 15.2931 - accuracy: 0.0000e+00\n",
            "Epoch 99/100\n",
            "25/25 [==============================] - 0s 3ms/step - loss: 15.2931 - accuracy: 0.0000e+00\n",
            "Epoch 100/100\n",
            "25/25 [==============================] - 0s 3ms/step - loss: 15.2931 - accuracy: 0.0000e+00\n"
          ]
        },
        {
          "output_type": "execute_result",
          "data": {
            "text/plain": [
              "<keras.callbacks.History at 0x7f54f2655ea0>"
            ]
          },
          "metadata": {},
          "execution_count": 15
        }
      ]
    },
    {
      "cell_type": "code",
      "source": [],
      "metadata": {
        "id": "7lDMj5EmkgKO"
      },
      "execution_count": null,
      "outputs": []
    },
    {
      "cell_type": "code",
      "source": [],
      "metadata": {
        "id": "ZUwxpCUbkgHn"
      },
      "execution_count": null,
      "outputs": []
    },
    {
      "cell_type": "markdown",
      "source": [
        "## Model 5"
      ],
      "metadata": {
        "id": "45jECZzNkgEy"
      }
    },
    {
      "cell_type": "code",
      "source": [
        "# Set random seed\n",
        "tf.random.set_seed(42)\n",
        "\n",
        "# Create a model\n",
        "model_5 = tf.keras.Sequential([\n",
        "  tf.keras.layers.Dense(4, activation=tf.keras.activations.relu), # hidden layer 1, 4 neurons, ReLU activation\n",
        "  tf.keras.layers.Dense(4, activation=tf.keras.activations.relu), # hidden layer 2, 4 neurons, ReLU activation\n",
        "  tf.keras.layers.Dense(1) # ouput layer\n",
        "])\n",
        "\n",
        "# Compile the model\n",
        "model_5.compile(loss=tf.keras.losses.binary_crossentropy,\n",
        "                optimizer=tf.keras.optimizers.Adam(lr=0.001), # Adam's default learning rate is 0.001\n",
        "                metrics=['accuracy'])\n",
        "\n",
        "# Fit the model\n",
        "history = model_5.fit(X, y, epochs=100)"
      ],
      "metadata": {
        "id": "wYucWrIwkgBr",
        "colab": {
          "base_uri": "https://localhost:8080/"
        },
        "outputId": "d0fb59fb-965f-4481-bf34-dab2b8a556e7"
      },
      "execution_count": null,
      "outputs": [
        {
          "output_type": "stream",
          "name": "stderr",
          "text": [
            "WARNING:absl:`lr` is deprecated in Keras optimizer, please use `learning_rate` or use the legacy optimizer, e.g.,tf.keras.optimizers.legacy.Adam.\n"
          ]
        },
        {
          "output_type": "stream",
          "name": "stdout",
          "text": [
            "Epoch 1/100\n",
            "32/32 [==============================] - 1s 4ms/step - loss: 3.9802 - accuracy: 0.4830\n",
            "Epoch 2/100\n",
            "32/32 [==============================] - 0s 3ms/step - loss: 3.5544 - accuracy: 0.4630\n",
            "Epoch 3/100\n",
            "32/32 [==============================] - 0s 3ms/step - loss: 3.1906 - accuracy: 0.4760\n",
            "Epoch 4/100\n",
            "32/32 [==============================] - 0s 4ms/step - loss: 2.7584 - accuracy: 0.4800\n",
            "Epoch 5/100\n",
            "32/32 [==============================] - 0s 3ms/step - loss: 2.3099 - accuracy: 0.4820\n",
            "Epoch 6/100\n",
            "32/32 [==============================] - 0s 4ms/step - loss: 1.4369 - accuracy: 0.4740\n",
            "Epoch 7/100\n",
            "32/32 [==============================] - 0s 3ms/step - loss: 0.8891 - accuracy: 0.4700\n",
            "Epoch 8/100\n",
            "32/32 [==============================] - 0s 4ms/step - loss: 0.8701 - accuracy: 0.4720\n",
            "Epoch 9/100\n",
            "32/32 [==============================] - 0s 4ms/step - loss: 0.8586 - accuracy: 0.4710\n",
            "Epoch 10/100\n",
            "32/32 [==============================] - 0s 3ms/step - loss: 0.8494 - accuracy: 0.4660\n",
            "Epoch 11/100\n",
            "32/32 [==============================] - 0s 3ms/step - loss: 0.8412 - accuracy: 0.4670\n",
            "Epoch 12/100\n",
            "32/32 [==============================] - 0s 3ms/step - loss: 0.8340 - accuracy: 0.4660\n",
            "Epoch 13/100\n",
            "32/32 [==============================] - 0s 3ms/step - loss: 0.8273 - accuracy: 0.4650\n",
            "Epoch 14/100\n",
            "32/32 [==============================] - 0s 3ms/step - loss: 0.8213 - accuracy: 0.4650\n",
            "Epoch 15/100\n",
            "32/32 [==============================] - 0s 3ms/step - loss: 0.8156 - accuracy: 0.4660\n",
            "Epoch 16/100\n",
            "32/32 [==============================] - 0s 4ms/step - loss: 0.8102 - accuracy: 0.4670\n",
            "Epoch 17/100\n",
            "32/32 [==============================] - 0s 3ms/step - loss: 0.8053 - accuracy: 0.4670\n",
            "Epoch 18/100\n",
            "32/32 [==============================] - 0s 3ms/step - loss: 0.8006 - accuracy: 0.4660\n",
            "Epoch 19/100\n",
            "32/32 [==============================] - 0s 4ms/step - loss: 0.7965 - accuracy: 0.4660\n",
            "Epoch 20/100\n",
            "32/32 [==============================] - 0s 4ms/step - loss: 0.7926 - accuracy: 0.4670\n",
            "Epoch 21/100\n",
            "32/32 [==============================] - 0s 3ms/step - loss: 0.7888 - accuracy: 0.4670\n",
            "Epoch 22/100\n",
            "32/32 [==============================] - 0s 4ms/step - loss: 0.7853 - accuracy: 0.4680\n",
            "Epoch 23/100\n",
            "32/32 [==============================] - 0s 3ms/step - loss: 0.7819 - accuracy: 0.4700\n",
            "Epoch 24/100\n",
            "32/32 [==============================] - 0s 4ms/step - loss: 0.7788 - accuracy: 0.4710\n",
            "Epoch 25/100\n",
            "32/32 [==============================] - 0s 3ms/step - loss: 0.7761 - accuracy: 0.4710\n",
            "Epoch 26/100\n",
            "32/32 [==============================] - 0s 3ms/step - loss: 0.7730 - accuracy: 0.4730\n",
            "Epoch 27/100\n",
            "32/32 [==============================] - 0s 3ms/step - loss: 0.7705 - accuracy: 0.4720\n",
            "Epoch 28/100\n",
            "32/32 [==============================] - 0s 3ms/step - loss: 0.7677 - accuracy: 0.4720\n",
            "Epoch 29/100\n",
            "32/32 [==============================] - 0s 3ms/step - loss: 0.7656 - accuracy: 0.4700\n",
            "Epoch 30/100\n",
            "32/32 [==============================] - 0s 3ms/step - loss: 0.7633 - accuracy: 0.4660\n",
            "Epoch 31/100\n",
            "32/32 [==============================] - 0s 4ms/step - loss: 0.7611 - accuracy: 0.4680\n",
            "Epoch 32/100\n",
            "32/32 [==============================] - 0s 3ms/step - loss: 0.7592 - accuracy: 0.4680\n",
            "Epoch 33/100\n",
            "32/32 [==============================] - 0s 3ms/step - loss: 0.7572 - accuracy: 0.4670\n",
            "Epoch 34/100\n",
            "32/32 [==============================] - 0s 3ms/step - loss: 0.7554 - accuracy: 0.4670\n",
            "Epoch 35/100\n",
            "32/32 [==============================] - 0s 3ms/step - loss: 0.7538 - accuracy: 0.4680\n",
            "Epoch 36/100\n",
            "32/32 [==============================] - 0s 3ms/step - loss: 0.7520 - accuracy: 0.4650\n",
            "Epoch 37/100\n",
            "32/32 [==============================] - 0s 3ms/step - loss: 0.7504 - accuracy: 0.4650\n",
            "Epoch 38/100\n",
            "32/32 [==============================] - 0s 4ms/step - loss: 0.7489 - accuracy: 0.4670\n",
            "Epoch 39/100\n",
            "32/32 [==============================] - 0s 4ms/step - loss: 0.7474 - accuracy: 0.4680\n",
            "Epoch 40/100\n",
            "32/32 [==============================] - 0s 4ms/step - loss: 0.7461 - accuracy: 0.4670\n",
            "Epoch 41/100\n",
            "32/32 [==============================] - 0s 4ms/step - loss: 0.7447 - accuracy: 0.4680\n",
            "Epoch 42/100\n",
            "32/32 [==============================] - 0s 3ms/step - loss: 0.7435 - accuracy: 0.4680\n",
            "Epoch 43/100\n",
            "32/32 [==============================] - 0s 3ms/step - loss: 0.7422 - accuracy: 0.4690\n",
            "Epoch 44/100\n",
            "32/32 [==============================] - 0s 4ms/step - loss: 0.7410 - accuracy: 0.4690\n",
            "Epoch 45/100\n",
            "32/32 [==============================] - 0s 3ms/step - loss: 0.7397 - accuracy: 0.4700\n",
            "Epoch 46/100\n",
            "32/32 [==============================] - 0s 3ms/step - loss: 0.7386 - accuracy: 0.4690\n",
            "Epoch 47/100\n",
            "32/32 [==============================] - 0s 4ms/step - loss: 0.7377 - accuracy: 0.4730\n",
            "Epoch 48/100\n",
            "32/32 [==============================] - 0s 3ms/step - loss: 0.7366 - accuracy: 0.4740\n",
            "Epoch 49/100\n",
            "32/32 [==============================] - 0s 3ms/step - loss: 0.7355 - accuracy: 0.4720\n",
            "Epoch 50/100\n",
            "32/32 [==============================] - 0s 4ms/step - loss: 0.7345 - accuracy: 0.4710\n",
            "Epoch 51/100\n",
            "32/32 [==============================] - 0s 3ms/step - loss: 0.7334 - accuracy: 0.4720\n",
            "Epoch 52/100\n",
            "32/32 [==============================] - 0s 3ms/step - loss: 0.7325 - accuracy: 0.4740\n",
            "Epoch 53/100\n",
            "32/32 [==============================] - 0s 4ms/step - loss: 0.7315 - accuracy: 0.4720\n",
            "Epoch 54/100\n",
            "32/32 [==============================] - 0s 3ms/step - loss: 0.7305 - accuracy: 0.4730\n",
            "Epoch 55/100\n",
            "32/32 [==============================] - 0s 3ms/step - loss: 0.7297 - accuracy: 0.4740\n",
            "Epoch 56/100\n",
            "32/32 [==============================] - 0s 3ms/step - loss: 0.7286 - accuracy: 0.4740\n",
            "Epoch 57/100\n",
            "32/32 [==============================] - 0s 3ms/step - loss: 0.7276 - accuracy: 0.4720\n",
            "Epoch 58/100\n",
            "32/32 [==============================] - 0s 3ms/step - loss: 0.7267 - accuracy: 0.4760\n",
            "Epoch 59/100\n",
            "32/32 [==============================] - 0s 3ms/step - loss: 0.7260 - accuracy: 0.4740\n",
            "Epoch 60/100\n",
            "32/32 [==============================] - 0s 3ms/step - loss: 0.7248 - accuracy: 0.4750\n",
            "Epoch 61/100\n",
            "32/32 [==============================] - 0s 3ms/step - loss: 0.7240 - accuracy: 0.4720\n",
            "Epoch 62/100\n",
            "32/32 [==============================] - 0s 3ms/step - loss: 0.7230 - accuracy: 0.4730\n",
            "Epoch 63/100\n",
            "32/32 [==============================] - 0s 3ms/step - loss: 0.7221 - accuracy: 0.4730\n",
            "Epoch 64/100\n",
            "32/32 [==============================] - 0s 3ms/step - loss: 0.7214 - accuracy: 0.4740\n",
            "Epoch 65/100\n",
            "32/32 [==============================] - 0s 3ms/step - loss: 0.7204 - accuracy: 0.4740\n",
            "Epoch 66/100\n",
            "32/32 [==============================] - 0s 3ms/step - loss: 0.7195 - accuracy: 0.4730\n",
            "Epoch 67/100\n",
            "32/32 [==============================] - 0s 5ms/step - loss: 0.7185 - accuracy: 0.4730\n",
            "Epoch 68/100\n",
            "32/32 [==============================] - 0s 5ms/step - loss: 0.7177 - accuracy: 0.4740\n",
            "Epoch 69/100\n",
            "32/32 [==============================] - 0s 4ms/step - loss: 0.7168 - accuracy: 0.4750\n",
            "Epoch 70/100\n",
            "32/32 [==============================] - 0s 4ms/step - loss: 0.7159 - accuracy: 0.4760\n",
            "Epoch 71/100\n",
            "32/32 [==============================] - 0s 4ms/step - loss: 0.7150 - accuracy: 0.4760\n",
            "Epoch 72/100\n",
            "32/32 [==============================] - 0s 4ms/step - loss: 0.7141 - accuracy: 0.4790\n",
            "Epoch 73/100\n",
            "32/32 [==============================] - 0s 4ms/step - loss: 0.7132 - accuracy: 0.4790\n",
            "Epoch 74/100\n",
            "32/32 [==============================] - 0s 5ms/step - loss: 0.7123 - accuracy: 0.4780\n",
            "Epoch 75/100\n",
            "32/32 [==============================] - 0s 4ms/step - loss: 0.7114 - accuracy: 0.4770\n",
            "Epoch 76/100\n",
            "32/32 [==============================] - 0s 4ms/step - loss: 0.7105 - accuracy: 0.4790\n",
            "Epoch 77/100\n",
            "32/32 [==============================] - 0s 4ms/step - loss: 0.7095 - accuracy: 0.4810\n",
            "Epoch 78/100\n",
            "32/32 [==============================] - 0s 5ms/step - loss: 0.7086 - accuracy: 0.4810\n",
            "Epoch 79/100\n",
            "32/32 [==============================] - 0s 5ms/step - loss: 0.7076 - accuracy: 0.4820\n",
            "Epoch 80/100\n",
            "32/32 [==============================] - 0s 5ms/step - loss: 0.7065 - accuracy: 0.4810\n",
            "Epoch 81/100\n",
            "32/32 [==============================] - 0s 5ms/step - loss: 0.7056 - accuracy: 0.4850\n",
            "Epoch 82/100\n",
            "32/32 [==============================] - 0s 4ms/step - loss: 0.7046 - accuracy: 0.4860\n",
            "Epoch 83/100\n",
            "32/32 [==============================] - 0s 3ms/step - loss: 0.7037 - accuracy: 0.4840\n",
            "Epoch 84/100\n",
            "32/32 [==============================] - 0s 4ms/step - loss: 0.7023 - accuracy: 0.4890\n",
            "Epoch 85/100\n",
            "32/32 [==============================] - 0s 3ms/step - loss: 0.7013 - accuracy: 0.4910\n",
            "Epoch 86/100\n",
            "32/32 [==============================] - 0s 3ms/step - loss: 0.7002 - accuracy: 0.4870\n",
            "Epoch 87/100\n",
            "32/32 [==============================] - 0s 3ms/step - loss: 0.6987 - accuracy: 0.4910\n",
            "Epoch 88/100\n",
            "32/32 [==============================] - 0s 4ms/step - loss: 0.6975 - accuracy: 0.4920\n",
            "Epoch 89/100\n",
            "32/32 [==============================] - 0s 3ms/step - loss: 0.6963 - accuracy: 0.4900\n",
            "Epoch 90/100\n",
            "32/32 [==============================] - 0s 3ms/step - loss: 0.6953 - accuracy: 0.4870\n",
            "Epoch 91/100\n",
            "32/32 [==============================] - 0s 3ms/step - loss: 0.6941 - accuracy: 0.4920\n",
            "Epoch 92/100\n",
            "32/32 [==============================] - 0s 4ms/step - loss: 0.6933 - accuracy: 0.4930\n",
            "Epoch 93/100\n",
            "32/32 [==============================] - 0s 3ms/step - loss: 0.6926 - accuracy: 0.4900\n",
            "Epoch 94/100\n",
            "32/32 [==============================] - 0s 3ms/step - loss: 0.6911 - accuracy: 0.4880\n",
            "Epoch 95/100\n",
            "32/32 [==============================] - 0s 3ms/step - loss: 0.6901 - accuracy: 0.4930\n",
            "Epoch 96/100\n",
            "32/32 [==============================] - 0s 3ms/step - loss: 0.6890 - accuracy: 0.4920\n",
            "Epoch 97/100\n",
            "32/32 [==============================] - 0s 4ms/step - loss: 0.6881 - accuracy: 0.4960\n",
            "Epoch 98/100\n",
            "32/32 [==============================] - 0s 3ms/step - loss: 0.6871 - accuracy: 0.4930\n",
            "Epoch 99/100\n",
            "32/32 [==============================] - 0s 3ms/step - loss: 0.6862 - accuracy: 0.4960\n",
            "Epoch 100/100\n",
            "32/32 [==============================] - 0s 3ms/step - loss: 0.6850 - accuracy: 0.5020\n"
          ]
        }
      ]
    },
    {
      "cell_type": "markdown",
      "source": [
        "## Model 6"
      ],
      "metadata": {
        "id": "q-LFHHVbFGjM"
      }
    },
    {
      "cell_type": "code",
      "source": [
        "tf.random.set_seed(42)\n",
        "\n",
        "\n",
        "model_6 = tf.keras.models.Sequential([\n",
        "    tf.keras.layers.Dense(4, activation= 'relu'),\n",
        "    tf.keras.layers.Dense(4, activation= 'relu'),\n",
        "    tf.keras.layers.Dense(4, activation= 'relu'),  #number of hidden layers is increased\n",
        "    tf.keras.layers.Dense(1, activation= 'softmax')  #activation function(Sigmoid) for output layer to get 1 answer instead of predictions\n",
        "])\n",
        "\n",
        "#compile the model\n",
        "model_6.compile(loss= tf.keras.losses.binary_crossentropy,\n",
        "                optimizer= tf.keras.optimizers.Adam(lr= 0.001),   #optimizer is chnaged to the Adam with learning rate of 0.001\n",
        "                metrics = tf.keras.metrics.Accuracy())\n",
        "\n",
        "#fit the model\n",
        "model_6.fit(tf.expand_dims(X_train,axis=-1),y_train, epochs= 100)"
      ],
      "metadata": {
        "colab": {
          "base_uri": "https://localhost:8080/"
        },
        "id": "dg5aYrUJLsRi",
        "outputId": "f6900e57-3c03-4a27-87ab-e36292131c82"
      },
      "execution_count": null,
      "outputs": [
        {
          "output_type": "stream",
          "name": "stderr",
          "text": [
            "WARNING:absl:`lr` is deprecated in Keras optimizer, please use `learning_rate` or use the legacy optimizer, e.g.,tf.keras.optimizers.legacy.Adam.\n"
          ]
        },
        {
          "output_type": "stream",
          "name": "stdout",
          "text": [
            "Epoch 1/100\n",
            "25/25 [==============================] - 3s 4ms/step - loss: 15.2931 - accuracy: 0.0000e+00\n",
            "Epoch 2/100\n",
            "25/25 [==============================] - 0s 3ms/step - loss: 15.2931 - accuracy: 0.0000e+00\n",
            "Epoch 3/100\n",
            "25/25 [==============================] - 0s 3ms/step - loss: 15.2931 - accuracy: 0.0000e+00\n",
            "Epoch 4/100\n",
            "25/25 [==============================] - 0s 3ms/step - loss: 15.2931 - accuracy: 0.0000e+00\n",
            "Epoch 5/100\n",
            "25/25 [==============================] - 0s 3ms/step - loss: 15.2931 - accuracy: 0.0000e+00\n",
            "Epoch 6/100\n",
            "25/25 [==============================] - 0s 3ms/step - loss: 15.2931 - accuracy: 0.0000e+00\n",
            "Epoch 7/100\n",
            "25/25 [==============================] - 0s 3ms/step - loss: 15.2931 - accuracy: 0.0000e+00\n",
            "Epoch 8/100\n",
            "25/25 [==============================] - 0s 3ms/step - loss: 15.2931 - accuracy: 0.0000e+00\n",
            "Epoch 9/100\n",
            "25/25 [==============================] - 0s 3ms/step - loss: 15.2931 - accuracy: 0.0000e+00\n",
            "Epoch 10/100\n",
            "25/25 [==============================] - 0s 3ms/step - loss: 15.2931 - accuracy: 0.0000e+00\n",
            "Epoch 11/100\n",
            "25/25 [==============================] - 0s 3ms/step - loss: 15.2931 - accuracy: 0.0000e+00\n",
            "Epoch 12/100\n",
            "25/25 [==============================] - 0s 3ms/step - loss: 15.2931 - accuracy: 0.0000e+00\n",
            "Epoch 13/100\n",
            "25/25 [==============================] - 0s 3ms/step - loss: 15.2931 - accuracy: 0.0000e+00\n",
            "Epoch 14/100\n",
            "25/25 [==============================] - 0s 3ms/step - loss: 15.2931 - accuracy: 0.0000e+00\n",
            "Epoch 15/100\n",
            "25/25 [==============================] - 0s 3ms/step - loss: 15.2931 - accuracy: 0.0000e+00\n",
            "Epoch 16/100\n",
            "25/25 [==============================] - 0s 3ms/step - loss: 15.2931 - accuracy: 0.0000e+00\n",
            "Epoch 17/100\n",
            "25/25 [==============================] - 0s 3ms/step - loss: 15.2931 - accuracy: 0.0000e+00\n",
            "Epoch 18/100\n",
            "25/25 [==============================] - 0s 3ms/step - loss: 15.2931 - accuracy: 0.0000e+00\n",
            "Epoch 19/100\n",
            "25/25 [==============================] - 0s 3ms/step - loss: 15.2931 - accuracy: 0.0000e+00\n",
            "Epoch 20/100\n",
            "25/25 [==============================] - 0s 3ms/step - loss: 15.2931 - accuracy: 0.0000e+00\n",
            "Epoch 21/100\n",
            "25/25 [==============================] - 0s 3ms/step - loss: 15.2931 - accuracy: 0.0000e+00\n",
            "Epoch 22/100\n",
            "25/25 [==============================] - 0s 3ms/step - loss: 15.2931 - accuracy: 0.0000e+00\n",
            "Epoch 23/100\n",
            "25/25 [==============================] - 0s 3ms/step - loss: 15.2931 - accuracy: 0.0000e+00\n",
            "Epoch 24/100\n",
            "25/25 [==============================] - 0s 3ms/step - loss: 15.2931 - accuracy: 0.0000e+00\n",
            "Epoch 25/100\n",
            "25/25 [==============================] - 0s 3ms/step - loss: 15.2931 - accuracy: 0.0000e+00\n",
            "Epoch 26/100\n",
            "25/25 [==============================] - 0s 3ms/step - loss: 15.2931 - accuracy: 0.0000e+00\n",
            "Epoch 27/100\n",
            "25/25 [==============================] - 0s 3ms/step - loss: 15.2931 - accuracy: 0.0000e+00\n",
            "Epoch 28/100\n",
            "25/25 [==============================] - 0s 3ms/step - loss: 15.2931 - accuracy: 0.0000e+00\n",
            "Epoch 29/100\n",
            "25/25 [==============================] - 0s 3ms/step - loss: 15.2931 - accuracy: 0.0000e+00\n",
            "Epoch 30/100\n",
            "25/25 [==============================] - 0s 3ms/step - loss: 15.2931 - accuracy: 0.0000e+00\n",
            "Epoch 31/100\n",
            "25/25 [==============================] - 0s 4ms/step - loss: 15.2931 - accuracy: 0.0000e+00\n",
            "Epoch 32/100\n",
            "25/25 [==============================] - 0s 3ms/step - loss: 15.2931 - accuracy: 0.0000e+00\n",
            "Epoch 33/100\n",
            "25/25 [==============================] - 0s 3ms/step - loss: 15.2931 - accuracy: 0.0000e+00\n",
            "Epoch 34/100\n",
            "25/25 [==============================] - 0s 3ms/step - loss: 15.2931 - accuracy: 0.0000e+00\n",
            "Epoch 35/100\n",
            "25/25 [==============================] - 0s 3ms/step - loss: 15.2931 - accuracy: 0.0000e+00\n",
            "Epoch 36/100\n",
            "25/25 [==============================] - 0s 3ms/step - loss: 15.2931 - accuracy: 0.0000e+00\n",
            "Epoch 37/100\n",
            "25/25 [==============================] - 0s 3ms/step - loss: 15.2931 - accuracy: 0.0000e+00\n",
            "Epoch 38/100\n",
            "25/25 [==============================] - 0s 3ms/step - loss: 15.2931 - accuracy: 0.0000e+00\n",
            "Epoch 39/100\n",
            "25/25 [==============================] - 0s 3ms/step - loss: 15.2931 - accuracy: 0.0000e+00\n",
            "Epoch 40/100\n",
            "25/25 [==============================] - 0s 3ms/step - loss: 15.2931 - accuracy: 0.0000e+00\n",
            "Epoch 41/100\n",
            "25/25 [==============================] - 0s 3ms/step - loss: 15.2931 - accuracy: 0.0000e+00\n",
            "Epoch 42/100\n",
            "25/25 [==============================] - 0s 3ms/step - loss: 15.2931 - accuracy: 0.0000e+00\n",
            "Epoch 43/100\n",
            "25/25 [==============================] - 0s 3ms/step - loss: 15.2931 - accuracy: 0.0000e+00\n",
            "Epoch 44/100\n",
            "25/25 [==============================] - 0s 3ms/step - loss: 15.2931 - accuracy: 0.0000e+00\n",
            "Epoch 45/100\n",
            "25/25 [==============================] - 0s 3ms/step - loss: 15.2931 - accuracy: 0.0000e+00\n",
            "Epoch 46/100\n",
            "25/25 [==============================] - 0s 3ms/step - loss: 15.2931 - accuracy: 0.0000e+00\n",
            "Epoch 47/100\n",
            "25/25 [==============================] - 0s 3ms/step - loss: 15.2931 - accuracy: 0.0000e+00\n",
            "Epoch 48/100\n",
            "25/25 [==============================] - 0s 3ms/step - loss: 15.2931 - accuracy: 0.0000e+00\n",
            "Epoch 49/100\n",
            "25/25 [==============================] - 0s 3ms/step - loss: 15.2931 - accuracy: 0.0000e+00\n",
            "Epoch 50/100\n",
            "25/25 [==============================] - 0s 3ms/step - loss: 15.2931 - accuracy: 0.0000e+00\n",
            "Epoch 51/100\n",
            "25/25 [==============================] - 0s 4ms/step - loss: 15.2931 - accuracy: 0.0000e+00\n",
            "Epoch 52/100\n",
            "25/25 [==============================] - 0s 3ms/step - loss: 15.2931 - accuracy: 0.0000e+00\n",
            "Epoch 53/100\n",
            "25/25 [==============================] - 0s 3ms/step - loss: 15.2931 - accuracy: 0.0000e+00\n",
            "Epoch 54/100\n",
            "25/25 [==============================] - 0s 3ms/step - loss: 15.2931 - accuracy: 0.0000e+00\n",
            "Epoch 55/100\n",
            "25/25 [==============================] - 0s 3ms/step - loss: 15.2931 - accuracy: 0.0000e+00\n",
            "Epoch 56/100\n",
            "25/25 [==============================] - 0s 3ms/step - loss: 15.2931 - accuracy: 0.0000e+00\n",
            "Epoch 57/100\n",
            "25/25 [==============================] - 0s 3ms/step - loss: 15.2931 - accuracy: 0.0000e+00\n",
            "Epoch 58/100\n",
            "25/25 [==============================] - 0s 3ms/step - loss: 15.2931 - accuracy: 0.0000e+00\n",
            "Epoch 59/100\n",
            "25/25 [==============================] - 0s 3ms/step - loss: 15.2931 - accuracy: 0.0000e+00\n",
            "Epoch 60/100\n",
            "25/25 [==============================] - 0s 3ms/step - loss: 15.2931 - accuracy: 0.0000e+00\n",
            "Epoch 61/100\n",
            "25/25 [==============================] - 0s 3ms/step - loss: 15.2931 - accuracy: 0.0000e+00\n",
            "Epoch 62/100\n",
            "25/25 [==============================] - 0s 3ms/step - loss: 15.2931 - accuracy: 0.0000e+00\n",
            "Epoch 63/100\n",
            "25/25 [==============================] - 0s 3ms/step - loss: 15.2931 - accuracy: 0.0000e+00\n",
            "Epoch 64/100\n",
            "25/25 [==============================] - 0s 3ms/step - loss: 15.2931 - accuracy: 0.0000e+00\n",
            "Epoch 65/100\n",
            "25/25 [==============================] - 0s 3ms/step - loss: 15.2931 - accuracy: 0.0000e+00\n",
            "Epoch 66/100\n",
            "25/25 [==============================] - 0s 3ms/step - loss: 15.2931 - accuracy: 0.0000e+00\n",
            "Epoch 67/100\n",
            "25/25 [==============================] - 0s 3ms/step - loss: 15.2931 - accuracy: 0.0000e+00\n",
            "Epoch 68/100\n",
            "25/25 [==============================] - 0s 3ms/step - loss: 15.2931 - accuracy: 0.0000e+00\n",
            "Epoch 69/100\n",
            "25/25 [==============================] - 0s 3ms/step - loss: 15.2931 - accuracy: 0.0000e+00\n",
            "Epoch 70/100\n",
            "25/25 [==============================] - 0s 3ms/step - loss: 15.2931 - accuracy: 0.0000e+00\n",
            "Epoch 71/100\n",
            "25/25 [==============================] - 0s 3ms/step - loss: 15.2931 - accuracy: 0.0000e+00\n",
            "Epoch 72/100\n",
            "25/25 [==============================] - 0s 3ms/step - loss: 15.2931 - accuracy: 0.0000e+00\n",
            "Epoch 73/100\n",
            "25/25 [==============================] - 0s 3ms/step - loss: 15.2931 - accuracy: 0.0000e+00\n",
            "Epoch 74/100\n",
            "25/25 [==============================] - 0s 3ms/step - loss: 15.2931 - accuracy: 0.0000e+00\n",
            "Epoch 75/100\n",
            "25/25 [==============================] - 0s 3ms/step - loss: 15.2931 - accuracy: 0.0000e+00\n",
            "Epoch 76/100\n",
            "25/25 [==============================] - 0s 3ms/step - loss: 15.2931 - accuracy: 0.0000e+00\n",
            "Epoch 77/100\n",
            "25/25 [==============================] - 0s 3ms/step - loss: 15.2931 - accuracy: 0.0000e+00\n",
            "Epoch 78/100\n",
            "25/25 [==============================] - 0s 3ms/step - loss: 15.2931 - accuracy: 0.0000e+00\n",
            "Epoch 79/100\n",
            "25/25 [==============================] - 0s 3ms/step - loss: 15.2931 - accuracy: 0.0000e+00\n",
            "Epoch 80/100\n",
            "25/25 [==============================] - 0s 3ms/step - loss: 15.2931 - accuracy: 0.0000e+00\n",
            "Epoch 81/100\n",
            "25/25 [==============================] - 0s 3ms/step - loss: 15.2931 - accuracy: 0.0000e+00\n",
            "Epoch 82/100\n",
            "25/25 [==============================] - 0s 3ms/step - loss: 15.2931 - accuracy: 0.0000e+00\n",
            "Epoch 83/100\n",
            "25/25 [==============================] - 0s 3ms/step - loss: 15.2931 - accuracy: 0.0000e+00\n",
            "Epoch 84/100\n",
            "25/25 [==============================] - 0s 3ms/step - loss: 15.2931 - accuracy: 0.0000e+00\n",
            "Epoch 85/100\n",
            "25/25 [==============================] - 0s 3ms/step - loss: 15.2931 - accuracy: 0.0000e+00\n",
            "Epoch 86/100\n",
            "25/25 [==============================] - 0s 3ms/step - loss: 15.2931 - accuracy: 0.0000e+00\n",
            "Epoch 87/100\n",
            "25/25 [==============================] - 0s 3ms/step - loss: 15.2931 - accuracy: 0.0000e+00\n",
            "Epoch 88/100\n",
            "25/25 [==============================] - 0s 3ms/step - loss: 15.2931 - accuracy: 0.0000e+00\n",
            "Epoch 89/100\n",
            "25/25 [==============================] - 0s 3ms/step - loss: 15.2931 - accuracy: 0.0000e+00\n",
            "Epoch 90/100\n",
            "25/25 [==============================] - 0s 3ms/step - loss: 15.2931 - accuracy: 0.0000e+00\n",
            "Epoch 91/100\n",
            "25/25 [==============================] - 0s 3ms/step - loss: 15.2931 - accuracy: 0.0000e+00\n",
            "Epoch 92/100\n",
            "25/25 [==============================] - 0s 3ms/step - loss: 15.2931 - accuracy: 0.0000e+00\n",
            "Epoch 93/100\n",
            "25/25 [==============================] - 0s 3ms/step - loss: 15.2931 - accuracy: 0.0000e+00\n",
            "Epoch 94/100\n",
            "25/25 [==============================] - 0s 3ms/step - loss: 15.2931 - accuracy: 0.0000e+00\n",
            "Epoch 95/100\n",
            "25/25 [==============================] - 0s 3ms/step - loss: 15.2931 - accuracy: 0.0000e+00\n",
            "Epoch 96/100\n",
            "25/25 [==============================] - 0s 3ms/step - loss: 15.2931 - accuracy: 0.0000e+00\n",
            "Epoch 97/100\n",
            "25/25 [==============================] - 0s 3ms/step - loss: 15.2931 - accuracy: 0.0000e+00\n",
            "Epoch 98/100\n",
            "25/25 [==============================] - 0s 3ms/step - loss: 15.2931 - accuracy: 0.0000e+00\n",
            "Epoch 99/100\n",
            "25/25 [==============================] - 0s 3ms/step - loss: 15.2931 - accuracy: 0.0000e+00\n",
            "Epoch 100/100\n",
            "25/25 [==============================] - 0s 6ms/step - loss: 15.2931 - accuracy: 0.0000e+00\n"
          ]
        },
        {
          "output_type": "execute_result",
          "data": {
            "text/plain": [
              "<keras.callbacks.History at 0x7f54f2395ae0>"
            ]
          },
          "metadata": {},
          "execution_count": 17
        }
      ]
    },
    {
      "cell_type": "markdown",
      "source": [
        "🔑 **Note:** If you have similar problem,\n",
        "which is you have 0 accuracy, There can be few issues with your model, Check and fix\n",
        "\n",
        "* Check your batch_size if it's too large or too small\n",
        "* Check if the learning rate is too high or low\n",
        "* if it's text dataset, check the length of sentences, if too large then trim with an average length\n",
        "* Check if there are NaN values in your dataset, fix it\n",
        "* Check if the dataset doesn't contain special symbols or characters\n",
        "* If values are continuous, Normalize it before sending to the network ( check batch normalization )\n",
        "* Try regularization techniques\n",
        "* Check the activation functions\n",
        "* Shuffle the data"
      ],
      "metadata": {
        "id": "tp8KwL-nNTnb"
      }
    },
    {
      "cell_type": "code",
      "source": [
        "#actually, i have checked all of them already instead of on,let's get shuffled our data\n",
        "shuffled_circles = circles.sample(frac= 1)\n",
        "\n",
        "#get the depenetend and independent variables\n",
        "X = shuffled_circles.drop('y',axis=1)\n",
        "y = shuffled_circles['y']\n",
        "\n",
        "#train test split\n",
        "from sklearn.model_selection import train_test_split\n",
        "X_train,X_test,y_train,y_test = train_test_split(X,y,test_size=0.2,random_state= 1)"
      ],
      "metadata": {
        "id": "PJJe1xVoN1PF"
      },
      "execution_count": null,
      "outputs": []
    },
    {
      "cell_type": "markdown",
      "source": [
        "## Model 7"
      ],
      "metadata": {
        "id": "z-nHVA3LN4bT"
      }
    },
    {
      "cell_type": "code",
      "source": [
        "#Create the model 5\n",
        "model_7 = tf.keras.models.Sequential([\n",
        "    tf.keras.layers.Dense(100,activation= 'relu'),\n",
        "    tf.keras.layers.Dense(100,activation= 'relu'),\n",
        "    tf.keras.layers.Dense(1,activation= 'softmax')\n",
        "])\n",
        "\n",
        "#compile the model\n",
        "model_7.compile(loss= tf.keras.losses.BinaryCrossentropy(),\n",
        "                optimizer= 'adam',\n",
        "                metrics= ['accuracy'])\n",
        "\n",
        "#fit the kodel\n",
        "model_7.fit(tf.expand_dims(X_train,axis=-1),y_train, epochs=10)"
      ],
      "metadata": {
        "colab": {
          "base_uri": "https://localhost:8080/"
        },
        "id": "ZlsVH6s5OyHo",
        "outputId": "d0a7476e-3900-42bf-be75-1defb0c9a55a"
      },
      "execution_count": null,
      "outputs": [
        {
          "output_type": "stream",
          "name": "stdout",
          "text": [
            "Epoch 1/10\n",
            "25/25 [==============================] - 2s 3ms/step - loss: 7.6437 - accuracy: 0.4988\n",
            "Epoch 2/10\n",
            "25/25 [==============================] - 0s 3ms/step - loss: 7.6437 - accuracy: 0.4988\n",
            "Epoch 3/10\n",
            "25/25 [==============================] - 0s 3ms/step - loss: 7.6437 - accuracy: 0.4988\n",
            "Epoch 4/10\n",
            "25/25 [==============================] - 0s 3ms/step - loss: 7.6437 - accuracy: 0.4988\n",
            "Epoch 5/10\n",
            "25/25 [==============================] - 0s 3ms/step - loss: 7.6437 - accuracy: 0.4988\n",
            "Epoch 6/10\n",
            "25/25 [==============================] - 0s 3ms/step - loss: 7.6437 - accuracy: 0.4988\n",
            "Epoch 7/10\n",
            "25/25 [==============================] - 0s 3ms/step - loss: 7.6437 - accuracy: 0.4988\n",
            "Epoch 8/10\n",
            "25/25 [==============================] - 0s 3ms/step - loss: 7.6437 - accuracy: 0.4988\n",
            "Epoch 9/10\n",
            "25/25 [==============================] - 0s 3ms/step - loss: 7.6437 - accuracy: 0.4988\n",
            "Epoch 10/10\n",
            "25/25 [==============================] - 0s 3ms/step - loss: 7.6437 - accuracy: 0.4988\n"
          ]
        },
        {
          "output_type": "execute_result",
          "data": {
            "text/plain": [
              "<keras.callbacks.History at 0x7f54dad96da0>"
            ]
          },
          "metadata": {},
          "execution_count": 23
        }
      ]
    },
    {
      "cell_type": "code",
      "source": [
        "predictions_7 = model_5.predict(X_test)\n",
        "model_7.evaluate(predictions_7)"
      ],
      "metadata": {
        "colab": {
          "base_uri": "https://localhost:8080/"
        },
        "id": "6JSm9HQnQOIX",
        "outputId": "bdaa5329-b9a0-4d98-df75-6aa41dc8fd06"
      },
      "execution_count": null,
      "outputs": [
        {
          "output_type": "stream",
          "name": "stdout",
          "text": [
            "7/7 [==============================] - 0s 3ms/step\n",
            "7/7 [==============================] - 0s 2ms/step - loss: 0.0000e+00 - accuracy: 0.0000e+00\n"
          ]
        },
        {
          "output_type": "execute_result",
          "data": {
            "text/plain": [
              "[0.0, 0.0]"
            ]
          },
          "metadata": {},
          "execution_count": 24
        }
      ]
    },
    {
      "cell_type": "markdown",
      "source": [
        "##Model 8"
      ],
      "metadata": {
        "id": "9WHH6IZwFPfG"
      }
    },
    {
      "cell_type": "code",
      "source": [
        "#Create the model\n",
        "model_8 = tf.keras.models.Sequential([\n",
        "    tf.keras.layers.Dense(100,activation= 'relu'),\n",
        "    tf.keras.layers.Dense(100,activation= 'relu'),\n",
        "    tf.keras.layers.Dense(1,activation ='sigmoid')\n",
        "])\n",
        "\n",
        "#compile the model\n",
        "model_8.compile(loss= tf.keras.losses.binary_crossentropy,\n",
        "                optimizer= tf.keras.optimizers.Adam(lr=0.001),\n",
        "                metrics= ['accuracy'])\n",
        "\n",
        "#fit the kodel\n",
        "history_8 = model_8.fit(X,y, epochs=100)"
      ],
      "metadata": {
        "colab": {
          "base_uri": "https://localhost:8080/"
        },
        "id": "hoOhyJZ9QxlB",
        "outputId": "d699cbfd-9908-4ad7-c6a9-d37e29f517ec"
      },
      "execution_count": null,
      "outputs": [
        {
          "output_type": "stream",
          "name": "stderr",
          "text": [
            "WARNING:absl:`lr` is deprecated in Keras optimizer, please use `learning_rate` or use the legacy optimizer, e.g.,tf.keras.optimizers.legacy.Adam.\n"
          ]
        },
        {
          "output_type": "stream",
          "name": "stdout",
          "text": [
            "Epoch 1/100\n",
            "32/32 [==============================] - 1s 4ms/step - loss: 0.6925 - accuracy: 0.4910\n",
            "Epoch 2/100\n",
            "32/32 [==============================] - 0s 4ms/step - loss: 0.6827 - accuracy: 0.5000\n",
            "Epoch 3/100\n",
            "32/32 [==============================] - 0s 4ms/step - loss: 0.6731 - accuracy: 0.5000\n",
            "Epoch 4/100\n",
            "32/32 [==============================] - 0s 4ms/step - loss: 0.6595 - accuracy: 0.5010\n",
            "Epoch 5/100\n",
            "32/32 [==============================] - 0s 3ms/step - loss: 0.6416 - accuracy: 0.7260\n",
            "Epoch 6/100\n",
            "32/32 [==============================] - 0s 3ms/step - loss: 0.5991 - accuracy: 0.8920\n",
            "Epoch 7/100\n",
            "32/32 [==============================] - 0s 4ms/step - loss: 0.5429 - accuracy: 0.9890\n",
            "Epoch 8/100\n",
            "32/32 [==============================] - 0s 3ms/step - loss: 0.4630 - accuracy: 0.9660\n",
            "Epoch 9/100\n",
            "32/32 [==============================] - 0s 3ms/step - loss: 0.3661 - accuracy: 0.9920\n",
            "Epoch 10/100\n",
            "32/32 [==============================] - 0s 4ms/step - loss: 0.2690 - accuracy: 0.9980\n",
            "Epoch 11/100\n",
            "32/32 [==============================] - 0s 3ms/step - loss: 0.1997 - accuracy: 0.9990\n",
            "Epoch 12/100\n",
            "32/32 [==============================] - 0s 3ms/step - loss: 0.1479 - accuracy: 1.0000\n",
            "Epoch 13/100\n",
            "32/32 [==============================] - 0s 3ms/step - loss: 0.1111 - accuracy: 1.0000\n",
            "Epoch 14/100\n",
            "32/32 [==============================] - 0s 3ms/step - loss: 0.0885 - accuracy: 1.0000\n",
            "Epoch 15/100\n",
            "32/32 [==============================] - 0s 3ms/step - loss: 0.0694 - accuracy: 1.0000\n",
            "Epoch 16/100\n",
            "32/32 [==============================] - 0s 3ms/step - loss: 0.0605 - accuracy: 0.9980\n",
            "Epoch 17/100\n",
            "32/32 [==============================] - 0s 3ms/step - loss: 0.0487 - accuracy: 1.0000\n",
            "Epoch 18/100\n",
            "32/32 [==============================] - 0s 3ms/step - loss: 0.0402 - accuracy: 1.0000\n",
            "Epoch 19/100\n",
            "32/32 [==============================] - 0s 4ms/step - loss: 0.0362 - accuracy: 1.0000\n",
            "Epoch 20/100\n",
            "32/32 [==============================] - 0s 3ms/step - loss: 0.0322 - accuracy: 1.0000\n",
            "Epoch 21/100\n",
            "32/32 [==============================] - 0s 3ms/step - loss: 0.0272 - accuracy: 1.0000\n",
            "Epoch 22/100\n",
            "32/32 [==============================] - 0s 3ms/step - loss: 0.0252 - accuracy: 1.0000\n",
            "Epoch 23/100\n",
            "32/32 [==============================] - 0s 3ms/step - loss: 0.0230 - accuracy: 1.0000\n",
            "Epoch 24/100\n",
            "32/32 [==============================] - 0s 5ms/step - loss: 0.0206 - accuracy: 1.0000\n",
            "Epoch 25/100\n",
            "32/32 [==============================] - 0s 3ms/step - loss: 0.0187 - accuracy: 1.0000\n",
            "Epoch 26/100\n",
            "32/32 [==============================] - 0s 3ms/step - loss: 0.0171 - accuracy: 1.0000\n",
            "Epoch 27/100\n",
            "32/32 [==============================] - 0s 6ms/step - loss: 0.0154 - accuracy: 1.0000\n",
            "Epoch 28/100\n",
            "32/32 [==============================] - 0s 5ms/step - loss: 0.0145 - accuracy: 1.0000\n",
            "Epoch 29/100\n",
            "32/32 [==============================] - 0s 6ms/step - loss: 0.0138 - accuracy: 1.0000\n",
            "Epoch 30/100\n",
            "32/32 [==============================] - 0s 5ms/step - loss: 0.0127 - accuracy: 1.0000\n",
            "Epoch 31/100\n",
            "32/32 [==============================] - 0s 5ms/step - loss: 0.0111 - accuracy: 1.0000\n",
            "Epoch 32/100\n",
            "32/32 [==============================] - 0s 8ms/step - loss: 0.0110 - accuracy: 1.0000\n",
            "Epoch 33/100\n",
            "32/32 [==============================] - 0s 6ms/step - loss: 0.0117 - accuracy: 1.0000\n",
            "Epoch 34/100\n",
            "32/32 [==============================] - 0s 5ms/step - loss: 0.0105 - accuracy: 1.0000\n",
            "Epoch 35/100\n",
            "32/32 [==============================] - 0s 6ms/step - loss: 0.0097 - accuracy: 1.0000\n",
            "Epoch 36/100\n",
            "32/32 [==============================] - 0s 6ms/step - loss: 0.0093 - accuracy: 1.0000\n",
            "Epoch 37/100\n",
            "32/32 [==============================] - 0s 6ms/step - loss: 0.0082 - accuracy: 1.0000\n",
            "Epoch 38/100\n",
            "32/32 [==============================] - 0s 6ms/step - loss: 0.0075 - accuracy: 1.0000\n",
            "Epoch 39/100\n",
            "32/32 [==============================] - 0s 7ms/step - loss: 0.0081 - accuracy: 1.0000\n",
            "Epoch 40/100\n",
            "32/32 [==============================] - 0s 7ms/step - loss: 0.0081 - accuracy: 1.0000\n",
            "Epoch 41/100\n",
            "32/32 [==============================] - 0s 8ms/step - loss: 0.0075 - accuracy: 1.0000\n",
            "Epoch 42/100\n",
            "32/32 [==============================] - 0s 7ms/step - loss: 0.0071 - accuracy: 0.9990\n",
            "Epoch 43/100\n",
            "32/32 [==============================] - 0s 5ms/step - loss: 0.0068 - accuracy: 1.0000\n",
            "Epoch 44/100\n",
            "32/32 [==============================] - 0s 4ms/step - loss: 0.0070 - accuracy: 1.0000\n",
            "Epoch 45/100\n",
            "32/32 [==============================] - 0s 7ms/step - loss: 0.0065 - accuracy: 1.0000\n",
            "Epoch 46/100\n",
            "32/32 [==============================] - 0s 7ms/step - loss: 0.0056 - accuracy: 1.0000\n",
            "Epoch 47/100\n",
            "32/32 [==============================] - 0s 7ms/step - loss: 0.0058 - accuracy: 1.0000\n",
            "Epoch 48/100\n",
            "32/32 [==============================] - 0s 6ms/step - loss: 0.0058 - accuracy: 1.0000\n",
            "Epoch 49/100\n",
            "32/32 [==============================] - 0s 6ms/step - loss: 0.0051 - accuracy: 1.0000\n",
            "Epoch 50/100\n",
            "32/32 [==============================] - 0s 6ms/step - loss: 0.0045 - accuracy: 1.0000\n",
            "Epoch 51/100\n",
            "32/32 [==============================] - 0s 5ms/step - loss: 0.0043 - accuracy: 1.0000\n",
            "Epoch 52/100\n",
            "32/32 [==============================] - 0s 5ms/step - loss: 0.0050 - accuracy: 1.0000\n",
            "Epoch 53/100\n",
            "32/32 [==============================] - 0s 6ms/step - loss: 0.0045 - accuracy: 1.0000\n",
            "Epoch 54/100\n",
            "32/32 [==============================] - 0s 6ms/step - loss: 0.0052 - accuracy: 1.0000\n",
            "Epoch 55/100\n",
            "32/32 [==============================] - 0s 5ms/step - loss: 0.0047 - accuracy: 1.0000\n",
            "Epoch 56/100\n",
            "32/32 [==============================] - 0s 7ms/step - loss: 0.0049 - accuracy: 1.0000\n",
            "Epoch 57/100\n",
            "32/32 [==============================] - 0s 6ms/step - loss: 0.0044 - accuracy: 1.0000\n",
            "Epoch 58/100\n",
            "32/32 [==============================] - 0s 6ms/step - loss: 0.0063 - accuracy: 0.9990\n",
            "Epoch 59/100\n",
            "32/32 [==============================] - 0s 6ms/step - loss: 0.0035 - accuracy: 1.0000\n",
            "Epoch 60/100\n",
            "32/32 [==============================] - 0s 6ms/step - loss: 0.0033 - accuracy: 1.0000\n",
            "Epoch 61/100\n",
            "32/32 [==============================] - 0s 3ms/step - loss: 0.0030 - accuracy: 1.0000\n",
            "Epoch 62/100\n",
            "32/32 [==============================] - 0s 4ms/step - loss: 0.0030 - accuracy: 1.0000\n",
            "Epoch 63/100\n",
            "32/32 [==============================] - 0s 3ms/step - loss: 0.0027 - accuracy: 1.0000\n",
            "Epoch 64/100\n",
            "32/32 [==============================] - 0s 4ms/step - loss: 0.0026 - accuracy: 1.0000\n",
            "Epoch 65/100\n",
            "32/32 [==============================] - 0s 3ms/step - loss: 0.0028 - accuracy: 1.0000\n",
            "Epoch 66/100\n",
            "32/32 [==============================] - 0s 3ms/step - loss: 0.0026 - accuracy: 1.0000\n",
            "Epoch 67/100\n",
            "32/32 [==============================] - 0s 3ms/step - loss: 0.0026 - accuracy: 1.0000\n",
            "Epoch 68/100\n",
            "32/32 [==============================] - 0s 3ms/step - loss: 0.0027 - accuracy: 1.0000\n",
            "Epoch 69/100\n",
            "32/32 [==============================] - 0s 3ms/step - loss: 0.0028 - accuracy: 1.0000\n",
            "Epoch 70/100\n",
            "32/32 [==============================] - 0s 4ms/step - loss: 0.0026 - accuracy: 1.0000\n",
            "Epoch 71/100\n",
            "32/32 [==============================] - 0s 3ms/step - loss: 0.0033 - accuracy: 1.0000\n",
            "Epoch 72/100\n",
            "32/32 [==============================] - 0s 4ms/step - loss: 0.0033 - accuracy: 1.0000\n",
            "Epoch 73/100\n",
            "32/32 [==============================] - 0s 4ms/step - loss: 0.0022 - accuracy: 1.0000\n",
            "Epoch 74/100\n",
            "32/32 [==============================] - 0s 3ms/step - loss: 0.0026 - accuracy: 1.0000\n",
            "Epoch 75/100\n",
            "32/32 [==============================] - 0s 4ms/step - loss: 0.0027 - accuracy: 1.0000\n",
            "Epoch 76/100\n",
            "32/32 [==============================] - 0s 4ms/step - loss: 0.0038 - accuracy: 1.0000\n",
            "Epoch 77/100\n",
            "32/32 [==============================] - 0s 3ms/step - loss: 0.0027 - accuracy: 1.0000\n",
            "Epoch 78/100\n",
            "32/32 [==============================] - 0s 3ms/step - loss: 0.0021 - accuracy: 1.0000\n",
            "Epoch 79/100\n",
            "32/32 [==============================] - 0s 3ms/step - loss: 0.0021 - accuracy: 1.0000\n",
            "Epoch 80/100\n",
            "32/32 [==============================] - 0s 3ms/step - loss: 0.0018 - accuracy: 1.0000\n",
            "Epoch 81/100\n",
            "32/32 [==============================] - 0s 3ms/step - loss: 0.0067 - accuracy: 0.9990\n",
            "Epoch 82/100\n",
            "32/32 [==============================] - 0s 4ms/step - loss: 0.0032 - accuracy: 1.0000\n",
            "Epoch 83/100\n",
            "32/32 [==============================] - 0s 3ms/step - loss: 0.0020 - accuracy: 1.0000\n",
            "Epoch 84/100\n",
            "32/32 [==============================] - 0s 3ms/step - loss: 0.0015 - accuracy: 1.0000\n",
            "Epoch 85/100\n",
            "32/32 [==============================] - 0s 4ms/step - loss: 0.0015 - accuracy: 1.0000\n",
            "Epoch 86/100\n",
            "32/32 [==============================] - 0s 3ms/step - loss: 0.0021 - accuracy: 1.0000\n",
            "Epoch 87/100\n",
            "32/32 [==============================] - 0s 3ms/step - loss: 0.0016 - accuracy: 1.0000\n",
            "Epoch 88/100\n",
            "32/32 [==============================] - 0s 3ms/step - loss: 0.0019 - accuracy: 1.0000\n",
            "Epoch 89/100\n",
            "32/32 [==============================] - 0s 3ms/step - loss: 0.0016 - accuracy: 1.0000\n",
            "Epoch 90/100\n",
            "32/32 [==============================] - 0s 3ms/step - loss: 0.0018 - accuracy: 1.0000\n",
            "Epoch 91/100\n",
            "32/32 [==============================] - 0s 4ms/step - loss: 0.0016 - accuracy: 1.0000\n",
            "Epoch 92/100\n",
            "32/32 [==============================] - 0s 3ms/step - loss: 0.0016 - accuracy: 1.0000\n",
            "Epoch 93/100\n",
            "32/32 [==============================] - 0s 3ms/step - loss: 0.0013 - accuracy: 1.0000\n",
            "Epoch 94/100\n",
            "32/32 [==============================] - 0s 3ms/step - loss: 0.0015 - accuracy: 1.0000\n",
            "Epoch 95/100\n",
            "32/32 [==============================] - 0s 3ms/step - loss: 0.0017 - accuracy: 1.0000\n",
            "Epoch 96/100\n",
            "32/32 [==============================] - 0s 5ms/step - loss: 0.0031 - accuracy: 1.0000\n",
            "Epoch 97/100\n",
            "32/32 [==============================] - 0s 4ms/step - loss: 0.0058 - accuracy: 0.9990\n",
            "Epoch 98/100\n",
            "32/32 [==============================] - 0s 3ms/step - loss: 0.0031 - accuracy: 1.0000\n",
            "Epoch 99/100\n",
            "32/32 [==============================] - 0s 4ms/step - loss: 0.0018 - accuracy: 1.0000\n",
            "Epoch 100/100\n",
            "32/32 [==============================] - 0s 4ms/step - loss: 0.0064 - accuracy: 0.9990\n"
          ]
        }
      ]
    },
    {
      "cell_type": "code",
      "source": [
        "model_8.evaluate(X,y)"
      ],
      "metadata": {
        "colab": {
          "base_uri": "https://localhost:8080/"
        },
        "id": "tPbV91jyRVJZ",
        "outputId": "250f2818-515d-4934-939b-0118049b73a6"
      },
      "execution_count": null,
      "outputs": [
        {
          "output_type": "stream",
          "name": "stdout",
          "text": [
            "32/32 [==============================] - 0s 2ms/step - loss: 0.0042 - accuracy: 0.9990\n"
          ]
        },
        {
          "output_type": "execute_result",
          "data": {
            "text/plain": [
              "[0.004242944996803999, 0.9990000128746033]"
            ]
          },
          "metadata": {},
          "execution_count": 26
        }
      ]
    },
    {
      "cell_type": "code",
      "source": [
        "predictions = round(pd.DataFrame(model_8.predict(X_test)),1)\n",
        "predictions"
      ],
      "metadata": {
        "colab": {
          "base_uri": "https://localhost:8080/",
          "height": 442
        },
        "id": "Q03Mu-iMRpZt",
        "outputId": "ef0811ce-d494-4cd8-f45f-893406ae2f78"
      },
      "execution_count": null,
      "outputs": [
        {
          "output_type": "stream",
          "name": "stdout",
          "text": [
            "7/7 [==============================] - 0s 2ms/step\n"
          ]
        },
        {
          "output_type": "execute_result",
          "data": {
            "text/plain": [
              "       0\n",
              "0    1.0\n",
              "1    0.0\n",
              "2    0.0\n",
              "3    1.0\n",
              "4    1.0\n",
              "..   ...\n",
              "195  0.0\n",
              "196  0.0\n",
              "197  0.0\n",
              "198  0.0\n",
              "199  1.0\n",
              "\n",
              "[200 rows x 1 columns]"
            ],
            "text/html": [
              "\n",
              "  <div id=\"df-92ecb037-58b3-4d90-9a20-b67f88d52878\">\n",
              "    <div class=\"colab-df-container\">\n",
              "      <div>\n",
              "<style scoped>\n",
              "    .dataframe tbody tr th:only-of-type {\n",
              "        vertical-align: middle;\n",
              "    }\n",
              "\n",
              "    .dataframe tbody tr th {\n",
              "        vertical-align: top;\n",
              "    }\n",
              "\n",
              "    .dataframe thead th {\n",
              "        text-align: right;\n",
              "    }\n",
              "</style>\n",
              "<table border=\"1\" class=\"dataframe\">\n",
              "  <thead>\n",
              "    <tr style=\"text-align: right;\">\n",
              "      <th></th>\n",
              "      <th>0</th>\n",
              "    </tr>\n",
              "  </thead>\n",
              "  <tbody>\n",
              "    <tr>\n",
              "      <th>0</th>\n",
              "      <td>1.0</td>\n",
              "    </tr>\n",
              "    <tr>\n",
              "      <th>1</th>\n",
              "      <td>0.0</td>\n",
              "    </tr>\n",
              "    <tr>\n",
              "      <th>2</th>\n",
              "      <td>0.0</td>\n",
              "    </tr>\n",
              "    <tr>\n",
              "      <th>3</th>\n",
              "      <td>1.0</td>\n",
              "    </tr>\n",
              "    <tr>\n",
              "      <th>4</th>\n",
              "      <td>1.0</td>\n",
              "    </tr>\n",
              "    <tr>\n",
              "      <th>...</th>\n",
              "      <td>...</td>\n",
              "    </tr>\n",
              "    <tr>\n",
              "      <th>195</th>\n",
              "      <td>0.0</td>\n",
              "    </tr>\n",
              "    <tr>\n",
              "      <th>196</th>\n",
              "      <td>0.0</td>\n",
              "    </tr>\n",
              "    <tr>\n",
              "      <th>197</th>\n",
              "      <td>0.0</td>\n",
              "    </tr>\n",
              "    <tr>\n",
              "      <th>198</th>\n",
              "      <td>0.0</td>\n",
              "    </tr>\n",
              "    <tr>\n",
              "      <th>199</th>\n",
              "      <td>1.0</td>\n",
              "    </tr>\n",
              "  </tbody>\n",
              "</table>\n",
              "<p>200 rows × 1 columns</p>\n",
              "</div>\n",
              "      <button class=\"colab-df-convert\" onclick=\"convertToInteractive('df-92ecb037-58b3-4d90-9a20-b67f88d52878')\"\n",
              "              title=\"Convert this dataframe to an interactive table.\"\n",
              "              style=\"display:none;\">\n",
              "        \n",
              "  <svg xmlns=\"http://www.w3.org/2000/svg\" height=\"24px\"viewBox=\"0 0 24 24\"\n",
              "       width=\"24px\">\n",
              "    <path d=\"M0 0h24v24H0V0z\" fill=\"none\"/>\n",
              "    <path d=\"M18.56 5.44l.94 2.06.94-2.06 2.06-.94-2.06-.94-.94-2.06-.94 2.06-2.06.94zm-11 1L8.5 8.5l.94-2.06 2.06-.94-2.06-.94L8.5 2.5l-.94 2.06-2.06.94zm10 10l.94 2.06.94-2.06 2.06-.94-2.06-.94-.94-2.06-.94 2.06-2.06.94z\"/><path d=\"M17.41 7.96l-1.37-1.37c-.4-.4-.92-.59-1.43-.59-.52 0-1.04.2-1.43.59L10.3 9.45l-7.72 7.72c-.78.78-.78 2.05 0 2.83L4 21.41c.39.39.9.59 1.41.59.51 0 1.02-.2 1.41-.59l7.78-7.78 2.81-2.81c.8-.78.8-2.07 0-2.86zM5.41 20L4 18.59l7.72-7.72 1.47 1.35L5.41 20z\"/>\n",
              "  </svg>\n",
              "      </button>\n",
              "      \n",
              "  <style>\n",
              "    .colab-df-container {\n",
              "      display:flex;\n",
              "      flex-wrap:wrap;\n",
              "      gap: 12px;\n",
              "    }\n",
              "\n",
              "    .colab-df-convert {\n",
              "      background-color: #E8F0FE;\n",
              "      border: none;\n",
              "      border-radius: 50%;\n",
              "      cursor: pointer;\n",
              "      display: none;\n",
              "      fill: #1967D2;\n",
              "      height: 32px;\n",
              "      padding: 0 0 0 0;\n",
              "      width: 32px;\n",
              "    }\n",
              "\n",
              "    .colab-df-convert:hover {\n",
              "      background-color: #E2EBFA;\n",
              "      box-shadow: 0px 1px 2px rgba(60, 64, 67, 0.3), 0px 1px 3px 1px rgba(60, 64, 67, 0.15);\n",
              "      fill: #174EA6;\n",
              "    }\n",
              "\n",
              "    [theme=dark] .colab-df-convert {\n",
              "      background-color: #3B4455;\n",
              "      fill: #D2E3FC;\n",
              "    }\n",
              "\n",
              "    [theme=dark] .colab-df-convert:hover {\n",
              "      background-color: #434B5C;\n",
              "      box-shadow: 0px 1px 3px 1px rgba(0, 0, 0, 0.15);\n",
              "      filter: drop-shadow(0px 1px 2px rgba(0, 0, 0, 0.3));\n",
              "      fill: #FFFFFF;\n",
              "    }\n",
              "  </style>\n",
              "\n",
              "      <script>\n",
              "        const buttonEl =\n",
              "          document.querySelector('#df-92ecb037-58b3-4d90-9a20-b67f88d52878 button.colab-df-convert');\n",
              "        buttonEl.style.display =\n",
              "          google.colab.kernel.accessAllowed ? 'block' : 'none';\n",
              "\n",
              "        async function convertToInteractive(key) {\n",
              "          const element = document.querySelector('#df-92ecb037-58b3-4d90-9a20-b67f88d52878');\n",
              "          const dataTable =\n",
              "            await google.colab.kernel.invokeFunction('convertToInteractive',\n",
              "                                                     [key], {});\n",
              "          if (!dataTable) return;\n",
              "\n",
              "          const docLinkHtml = 'Like what you see? Visit the ' +\n",
              "            '<a target=\"_blank\" href=https://colab.research.google.com/notebooks/data_table.ipynb>data table notebook</a>'\n",
              "            + ' to learn more about interactive tables.';\n",
              "          element.innerHTML = '';\n",
              "          dataTable['output_type'] = 'display_data';\n",
              "          await google.colab.output.renderOutput(dataTable, element);\n",
              "          const docLink = document.createElement('div');\n",
              "          docLink.innerHTML = docLinkHtml;\n",
              "          element.appendChild(docLink);\n",
              "        }\n",
              "      </script>\n",
              "    </div>\n",
              "  </div>\n",
              "  "
            ]
          },
          "metadata": {},
          "execution_count": 32
        }
      ]
    },
    {
      "cell_type": "code",
      "source": [
        "predictions[0] = predictions[0].astype('int64')\n",
        "predictions[0]"
      ],
      "metadata": {
        "colab": {
          "base_uri": "https://localhost:8080/"
        },
        "id": "qiFubygsEeNC",
        "outputId": "bed48760-77e8-42df-c69d-840afc2fce1b"
      },
      "execution_count": null,
      "outputs": [
        {
          "output_type": "execute_result",
          "data": {
            "text/plain": [
              "0      1\n",
              "1      0\n",
              "2      0\n",
              "3      1\n",
              "4      1\n",
              "      ..\n",
              "195    0\n",
              "196    0\n",
              "197    0\n",
              "198    0\n",
              "199    1\n",
              "Name: 0, Length: 200, dtype: int64"
            ]
          },
          "metadata": {},
          "execution_count": 40
        }
      ]
    },
    {
      "cell_type": "code",
      "source": [
        "#accuracy score\n",
        "accuracy_score(y_test,predictions[0])"
      ],
      "metadata": {
        "colab": {
          "base_uri": "https://localhost:8080/"
        },
        "id": "fDisH_PnEeSg",
        "outputId": "1488cfed-18b5-4571-ab66-e7738c70134b"
      },
      "execution_count": null,
      "outputs": [
        {
          "output_type": "execute_result",
          "data": {
            "text/plain": [
              "0.99"
            ]
          },
          "metadata": {},
          "execution_count": 41
        }
      ]
    },
    {
      "cell_type": "code",
      "source": [
        "#confusion matrix\n",
        "confusion_matrix(y_test,predictions[0])"
      ],
      "metadata": {
        "colab": {
          "base_uri": "https://localhost:8080/"
        },
        "id": "0MxFNeDJEeKb",
        "outputId": "b3487afd-1dd6-49ba-e9dd-bd2214c123e8"
      },
      "execution_count": null,
      "outputs": [
        {
          "output_type": "execute_result",
          "data": {
            "text/plain": [
              "array([[99,  0],\n",
              "       [ 2, 99]])"
            ]
          },
          "metadata": {},
          "execution_count": 46
        }
      ]
    },
    {
      "cell_type": "code",
      "source": [
        "#making plot to visualize loss and accuracy\n",
        "plt.figure(figsize=(16,9))\n",
        "pd.DataFrame(history_8.history).plot()\n",
        "plt.show()"
      ],
      "metadata": {
        "colab": {
          "base_uri": "https://localhost:8080/",
          "height": 448
        },
        "id": "xrT8RonWEeH1",
        "outputId": "f71c0038-c440-4a76-8f2f-eff6c0a0a9b5"
      },
      "execution_count": null,
      "outputs": [
        {
          "output_type": "display_data",
          "data": {
            "text/plain": [
              "<Figure size 1600x900 with 0 Axes>"
            ]
          },
          "metadata": {}
        },
        {
          "output_type": "display_data",
          "data": {
            "text/plain": [
              "<Figure size 640x480 with 1 Axes>"
            ],
            "image/png": "[encoded data removed]"
          },
          "metadata": {}
        }
      ]
    },
    {
      "cell_type": "markdown",
      "source": [
        "## Model 9\n",
        "Let's create a model with train and test sets"
      ],
      "metadata": {
        "id": "4SqgWiHhEeE9"
      }
    },
    {
      "cell_type": "code",
      "source": [
        "#let's see how many data points we have\n",
        "len(X),len(y)"
      ],
      "metadata": {
        "colab": {
          "base_uri": "https://localhost:8080/"
        },
        "id": "3aE4Io7JEeCX",
        "outputId": "ae947818-364f-465a-d766-926be705309a"
      },
      "execution_count": null,
      "outputs": [
        {
          "output_type": "execute_result",
          "data": {
            "text/plain": [
              "(1000, 1000)"
            ]
          },
          "metadata": {},
          "execution_count": 52
        }
      ]
    },
    {
      "cell_type": "code",
      "source": [
        "#splitting into train and test sets\n",
        "X_train = X[:800]\n",
        "X_test = X[800:]\n",
        "y_train = y[:800]\n",
        "y_test = y[800:]\n",
        "X_train.shape,X_test.shape"
      ],
      "metadata": {
        "colab": {
          "base_uri": "https://localhost:8080/"
        },
        "id": "RtFjUow7Ed_x",
        "outputId": "e8b1166a-966c-4824-eac9-0ed323dd5662"
      },
      "execution_count": null,
      "outputs": [
        {
          "output_type": "execute_result",
          "data": {
            "text/plain": [
              "((800, 2), (200, 2))"
            ]
          },
          "metadata": {},
          "execution_count": 55
        }
      ]
    },
    {
      "cell_type": "code",
      "source": [
        "#recreate a model with training datasets and then evaluate it on the test sets\n",
        "\n",
        "#setting random seed\n",
        "tf.random.set_seed(42)\n",
        "\n",
        "#create the model\n",
        "model_9 = tf.keras.Sequential([\n",
        "    tf.keras.layers.Dense(5, activation= 'relu'),\n",
        "    tf.keras.layers.Dense(5, activation= 'relu'),\n",
        "    tf.keras.layers.Dense(1, activation= 'sigmoid')\n",
        "])\n",
        "\n",
        "#compile the model\n",
        "model_9.compile(loss = tf.keras.losses.binary_crossentropy, optimizer = tf.keras.optimizers.Adam(learning_rate= 0.01),metrics= ['accuracy'])\n",
        "\n",
        "#fit the model\n",
        "history_9 = model_9.fit(X_train,y_train, epochs= 100)"
      ],
      "metadata": {
        "colab": {
          "base_uri": "https://localhost:8080/"
        },
        "id": "B_U-qBoeEd9c",
        "outputId": "94aea47e-9024-41be-c5cf-cbe90bbed5e5"
      },
      "execution_count": null,
      "outputs": [
        {
          "output_type": "stream",
          "name": "stdout",
          "text": [
            "Epoch 1/100\n",
            "25/25 [==============================] - 2s 4ms/step - loss: 0.6993 - accuracy: 0.4462\n",
            "Epoch 2/100\n",
            "25/25 [==============================] - 0s 4ms/step - loss: 0.6867 - accuracy: 0.5188\n",
            "Epoch 3/100\n",
            "25/25 [==============================] - 0s 4ms/step - loss: 0.6774 - accuracy: 0.5738\n",
            "Epoch 4/100\n",
            "25/25 [==============================] - 0s 4ms/step - loss: 0.6668 - accuracy: 0.6150\n",
            "Epoch 5/100\n",
            "25/25 [==============================] - 0s 4ms/step - loss: 0.6478 - accuracy: 0.6725\n",
            "Epoch 6/100\n",
            "25/25 [==============================] - 0s 4ms/step - loss: 0.6224 - accuracy: 0.7287\n",
            "Epoch 7/100\n",
            "25/25 [==============================] - 0s 4ms/step - loss: 0.5803 - accuracy: 0.7950\n",
            "Epoch 8/100\n",
            "25/25 [==============================] - 0s 4ms/step - loss: 0.5385 - accuracy: 0.7775\n",
            "Epoch 9/100\n",
            "25/25 [==============================] - 0s 4ms/step - loss: 0.4807 - accuracy: 0.8150\n",
            "Epoch 10/100\n",
            "25/25 [==============================] - 0s 4ms/step - loss: 0.4211 - accuracy: 0.8612\n",
            "Epoch 11/100\n",
            "25/25 [==============================] - 0s 4ms/step - loss: 0.3565 - accuracy: 0.9050\n",
            "Epoch 12/100\n",
            "25/25 [==============================] - 0s 4ms/step - loss: 0.2993 - accuracy: 0.9325\n",
            "Epoch 13/100\n",
            "25/25 [==============================] - 0s 4ms/step - loss: 0.2551 - accuracy: 0.9463\n",
            "Epoch 14/100\n",
            "25/25 [==============================] - 0s 4ms/step - loss: 0.2178 - accuracy: 0.9563\n",
            "Epoch 15/100\n",
            "25/25 [==============================] - 0s 3ms/step - loss: 0.1689 - accuracy: 0.9775\n",
            "Epoch 16/100\n",
            "25/25 [==============================] - 0s 3ms/step - loss: 0.1416 - accuracy: 0.9875\n",
            "Epoch 17/100\n",
            "25/25 [==============================] - 0s 3ms/step - loss: 0.1213 - accuracy: 0.9900\n",
            "Epoch 18/100\n",
            "25/25 [==============================] - 0s 3ms/step - loss: 0.1050 - accuracy: 0.9912\n",
            "Epoch 19/100\n",
            "25/25 [==============================] - 0s 3ms/step - loss: 0.0901 - accuracy: 0.9925\n",
            "Epoch 20/100\n",
            "25/25 [==============================] - 0s 3ms/step - loss: 0.0796 - accuracy: 0.9925\n",
            "Epoch 21/100\n",
            "25/25 [==============================] - 0s 3ms/step - loss: 0.0723 - accuracy: 0.9925\n",
            "Epoch 22/100\n",
            "25/25 [==============================] - 0s 3ms/step - loss: 0.0651 - accuracy: 0.9937\n",
            "Epoch 23/100\n",
            "25/25 [==============================] - 0s 3ms/step - loss: 0.0613 - accuracy: 0.9937\n",
            "Epoch 24/100\n",
            "25/25 [==============================] - 0s 3ms/step - loss: 0.0575 - accuracy: 0.9937\n",
            "Epoch 25/100\n",
            "25/25 [==============================] - 0s 3ms/step - loss: 0.0483 - accuracy: 0.9962\n",
            "Epoch 26/100\n",
            "25/25 [==============================] - 0s 3ms/step - loss: 0.0447 - accuracy: 0.9975\n",
            "Epoch 27/100\n",
            "25/25 [==============================] - 0s 3ms/step - loss: 0.0434 - accuracy: 0.9962\n",
            "Epoch 28/100\n",
            "25/25 [==============================] - 0s 4ms/step - loss: 0.0424 - accuracy: 0.9950\n",
            "Epoch 29/100\n",
            "25/25 [==============================] - 0s 3ms/step - loss: 0.0441 - accuracy: 0.9925\n",
            "Epoch 30/100\n",
            "25/25 [==============================] - 0s 3ms/step - loss: 0.0332 - accuracy: 0.9987\n",
            "Epoch 31/100\n",
            "25/25 [==============================] - 0s 3ms/step - loss: 0.0330 - accuracy: 0.9987\n",
            "Epoch 32/100\n",
            "25/25 [==============================] - 0s 3ms/step - loss: 0.0327 - accuracy: 0.9975\n",
            "Epoch 33/100\n",
            "25/25 [==============================] - 0s 3ms/step - loss: 0.0320 - accuracy: 0.9937\n",
            "Epoch 34/100\n",
            "25/25 [==============================] - 0s 3ms/step - loss: 0.0279 - accuracy: 0.9975\n",
            "Epoch 35/100\n",
            "25/25 [==============================] - 0s 3ms/step - loss: 0.0253 - accuracy: 1.0000\n",
            "Epoch 36/100\n",
            "25/25 [==============================] - 0s 3ms/step - loss: 0.0291 - accuracy: 0.9962\n",
            "Epoch 37/100\n",
            "25/25 [==============================] - 0s 3ms/step - loss: 0.0271 - accuracy: 0.9962\n",
            "Epoch 38/100\n",
            "25/25 [==============================] - 0s 3ms/step - loss: 0.0252 - accuracy: 0.9962\n",
            "Epoch 39/100\n",
            "25/25 [==============================] - 0s 3ms/step - loss: 0.0277 - accuracy: 0.9950\n",
            "Epoch 40/100\n",
            "25/25 [==============================] - 0s 3ms/step - loss: 0.0257 - accuracy: 0.9925\n",
            "Epoch 41/100\n",
            "25/25 [==============================] - 0s 4ms/step - loss: 0.0223 - accuracy: 0.9975\n",
            "Epoch 42/100\n",
            "25/25 [==============================] - 0s 3ms/step - loss: 0.0197 - accuracy: 0.9962\n",
            "Epoch 43/100\n",
            "25/25 [==============================] - 0s 3ms/step - loss: 0.0200 - accuracy: 0.9975\n",
            "Epoch 44/100\n",
            "25/25 [==============================] - 0s 3ms/step - loss: 0.0175 - accuracy: 1.0000\n",
            "Epoch 45/100\n",
            "25/25 [==============================] - 0s 3ms/step - loss: 0.0183 - accuracy: 0.9975\n",
            "Epoch 46/100\n",
            "25/25 [==============================] - 0s 3ms/step - loss: 0.0220 - accuracy: 0.9950\n",
            "Epoch 47/100\n",
            "25/25 [==============================] - 0s 3ms/step - loss: 0.0183 - accuracy: 0.9975\n",
            "Epoch 48/100\n",
            "25/25 [==============================] - 0s 3ms/step - loss: 0.0169 - accuracy: 0.9987\n",
            "Epoch 49/100\n",
            "25/25 [==============================] - 0s 3ms/step - loss: 0.0167 - accuracy: 0.9987\n",
            "Epoch 50/100\n",
            "25/25 [==============================] - 0s 3ms/step - loss: 0.0157 - accuracy: 1.0000\n",
            "Epoch 51/100\n",
            "25/25 [==============================] - 0s 3ms/step - loss: 0.0165 - accuracy: 0.9987\n",
            "Epoch 52/100\n",
            "25/25 [==============================] - 0s 3ms/step - loss: 0.0158 - accuracy: 0.9975\n",
            "Epoch 53/100\n",
            "25/25 [==============================] - 0s 4ms/step - loss: 0.0162 - accuracy: 0.9975\n",
            "Epoch 54/100\n",
            "25/25 [==============================] - 0s 3ms/step - loss: 0.0193 - accuracy: 0.9975\n",
            "Epoch 55/100\n",
            "25/25 [==============================] - 0s 3ms/step - loss: 0.0143 - accuracy: 0.9975\n",
            "Epoch 56/100\n",
            "25/25 [==============================] - 0s 3ms/step - loss: 0.0130 - accuracy: 0.9975\n",
            "Epoch 57/100\n",
            "25/25 [==============================] - 0s 3ms/step - loss: 0.0128 - accuracy: 0.9987\n",
            "Epoch 58/100\n",
            "25/25 [==============================] - 0s 3ms/step - loss: 0.0138 - accuracy: 1.0000\n",
            "Epoch 59/100\n",
            "25/25 [==============================] - 0s 3ms/step - loss: 0.0155 - accuracy: 0.9962\n",
            "Epoch 60/100\n",
            "25/25 [==============================] - 0s 3ms/step - loss: 0.0213 - accuracy: 0.9950\n",
            "Epoch 61/100\n",
            "25/25 [==============================] - 0s 3ms/step - loss: 0.0173 - accuracy: 0.9950\n",
            "Epoch 62/100\n",
            "25/25 [==============================] - 0s 3ms/step - loss: 0.0145 - accuracy: 0.9950\n",
            "Epoch 63/100\n",
            "25/25 [==============================] - 0s 3ms/step - loss: 0.0199 - accuracy: 0.9937\n",
            "Epoch 64/100\n",
            "25/25 [==============================] - 0s 3ms/step - loss: 0.0131 - accuracy: 0.9975\n",
            "Epoch 65/100\n",
            "25/25 [==============================] - 0s 3ms/step - loss: 0.0158 - accuracy: 0.9950\n",
            "Epoch 66/100\n",
            "25/25 [==============================] - 0s 3ms/step - loss: 0.0158 - accuracy: 0.9975\n",
            "Epoch 67/100\n",
            "25/25 [==============================] - 0s 3ms/step - loss: 0.0106 - accuracy: 0.9987\n",
            "Epoch 68/100\n",
            "25/25 [==============================] - 0s 3ms/step - loss: 0.0182 - accuracy: 0.9950\n",
            "Epoch 69/100\n",
            "25/25 [==============================] - 0s 3ms/step - loss: 0.0133 - accuracy: 0.9950\n",
            "Epoch 70/100\n",
            "25/25 [==============================] - 0s 3ms/step - loss: 0.0112 - accuracy: 0.9987\n",
            "Epoch 71/100\n",
            "25/25 [==============================] - 0s 3ms/step - loss: 0.0122 - accuracy: 1.0000\n",
            "Epoch 72/100\n",
            "25/25 [==============================] - 0s 3ms/step - loss: 0.0128 - accuracy: 0.9987\n",
            "Epoch 73/100\n",
            "25/25 [==============================] - 0s 3ms/step - loss: 0.0135 - accuracy: 0.9975\n",
            "Epoch 74/100\n",
            "25/25 [==============================] - 0s 3ms/step - loss: 0.0105 - accuracy: 0.9975\n",
            "Epoch 75/100\n",
            "25/25 [==============================] - 0s 3ms/step - loss: 0.0111 - accuracy: 0.9962\n",
            "Epoch 76/100\n",
            "25/25 [==============================] - 0s 3ms/step - loss: 0.0122 - accuracy: 0.9987\n",
            "Epoch 77/100\n",
            "25/25 [==============================] - 0s 3ms/step - loss: 0.0183 - accuracy: 0.9950\n",
            "Epoch 78/100\n",
            "25/25 [==============================] - 0s 3ms/step - loss: 0.0110 - accuracy: 0.9975\n",
            "Epoch 79/100\n",
            "25/25 [==============================] - 0s 3ms/step - loss: 0.0125 - accuracy: 0.9975\n",
            "Epoch 80/100\n",
            "25/25 [==============================] - 0s 3ms/step - loss: 0.0145 - accuracy: 0.9962\n",
            "Epoch 81/100\n",
            "25/25 [==============================] - 0s 3ms/step - loss: 0.0162 - accuracy: 0.9962\n",
            "Epoch 82/100\n",
            "25/25 [==============================] - 0s 3ms/step - loss: 0.0092 - accuracy: 0.9987\n",
            "Epoch 83/100\n",
            "25/25 [==============================] - 0s 3ms/step - loss: 0.0092 - accuracy: 0.9987\n",
            "Epoch 84/100\n",
            "25/25 [==============================] - 0s 3ms/step - loss: 0.0092 - accuracy: 0.9975\n",
            "Epoch 85/100\n",
            "25/25 [==============================] - 0s 3ms/step - loss: 0.0113 - accuracy: 0.9975\n",
            "Epoch 86/100\n",
            "25/25 [==============================] - 0s 3ms/step - loss: 0.0082 - accuracy: 1.0000\n",
            "Epoch 87/100\n",
            "25/25 [==============================] - 0s 3ms/step - loss: 0.0106 - accuracy: 0.9975\n",
            "Epoch 88/100\n",
            "25/25 [==============================] - 0s 3ms/step - loss: 0.0221 - accuracy: 0.9937\n",
            "Epoch 89/100\n",
            "25/25 [==============================] - 0s 3ms/step - loss: 0.0172 - accuracy: 0.9950\n",
            "Epoch 90/100\n",
            "25/25 [==============================] - 0s 3ms/step - loss: 0.0088 - accuracy: 1.0000\n",
            "Epoch 91/100\n",
            "25/25 [==============================] - 0s 3ms/step - loss: 0.0075 - accuracy: 0.9987\n",
            "Epoch 92/100\n",
            "25/25 [==============================] - 0s 3ms/step - loss: 0.0098 - accuracy: 0.9987\n",
            "Epoch 93/100\n",
            "25/25 [==============================] - 0s 3ms/step - loss: 0.0089 - accuracy: 0.9987\n",
            "Epoch 94/100\n",
            "25/25 [==============================] - 0s 3ms/step - loss: 0.0064 - accuracy: 1.0000\n",
            "Epoch 95/100\n",
            "25/25 [==============================] - 0s 3ms/step - loss: 0.0064 - accuracy: 1.0000\n",
            "Epoch 96/100\n",
            "25/25 [==============================] - 0s 3ms/step - loss: 0.0076 - accuracy: 0.9987\n",
            "Epoch 97/100\n",
            "25/25 [==============================] - 0s 3ms/step - loss: 0.0084 - accuracy: 1.0000\n",
            "Epoch 98/100\n",
            "25/25 [==============================] - 0s 3ms/step - loss: 0.0077 - accuracy: 0.9987\n",
            "Epoch 99/100\n",
            "25/25 [==============================] - 0s 3ms/step - loss: 0.0173 - accuracy: 0.9912\n",
            "Epoch 100/100\n",
            "25/25 [==============================] - 0s 3ms/step - loss: 0.0124 - accuracy: 0.9975\n"
          ]
        }
      ]
    },
    {
      "cell_type": "code",
      "source": [
        "#plotting accuracy and loss\n",
        "pd.DataFrame(history_9.history).plot()\n",
        "plt.show()"
      ],
      "metadata": {
        "colab": {
          "base_uri": "https://localhost:8080/",
          "height": 430
        },
        "id": "VdFtPt7YEd6j",
        "outputId": "ecb022ec-b377-4519-dbdb-3f23329b346a"
      },
      "execution_count": null,
      "outputs": [
        {
          "output_type": "display_data",
          "data": {
            "text/plain": [
              "<Figure size 640x480 with 1 Axes>"
            ],
            "image/png": "[encoded data removed]"
          },
          "metadata": {}
        }
      ]
    },
    {
      "cell_type": "code",
      "source": [
        "#get the predictions\n",
        "predictions_9 = model_9.predict(X_test)\n",
        "round(pd.DataFrame(predictions_9),0)[0].astype('int64')"
      ],
      "metadata": {
        "colab": {
          "base_uri": "https://localhost:8080/"
        },
        "id": "vyO6z_zLEd38",
        "outputId": "e5da45fa-b0be-4d83-9f9d-d222b21cb240"
      },
      "execution_count": null,
      "outputs": [
        {
          "output_type": "stream",
          "name": "stdout",
          "text": [
            "7/7 [==============================] - 0s 4ms/step\n"
          ]
        },
        {
          "output_type": "execute_result",
          "data": {
            "text/plain": [
              "0      1\n",
              "1      1\n",
              "2      1\n",
              "3      1\n",
              "4      0\n",
              "      ..\n",
              "195    1\n",
              "196    0\n",
              "197    1\n",
              "198    0\n",
              "199    0\n",
              "Name: 0, Length: 200, dtype: int64"
            ]
          },
          "metadata": {},
          "execution_count": 97
        }
      ]
    },
    {
      "cell_type": "code",
      "source": [
        "#confusion matrix\n",
        "confusion_matrix(y_test,round(pd.DataFrame(predictions_9),0)[0].astype('int64'))"
      ],
      "metadata": {
        "colab": {
          "base_uri": "https://localhost:8080/"
        },
        "id": "K3dtKNQeEd1F",
        "outputId": "b1992df6-0537-4c5b-9393-cb568a094c32"
      },
      "execution_count": null,
      "outputs": [
        {
          "output_type": "execute_result",
          "data": {
            "text/plain": [
              "array([[106,   0],\n",
              "       [  0,  94]])"
            ]
          },
          "metadata": {},
          "execution_count": 98
        }
      ]
    },
    {
      "cell_type": "markdown",
      "source": [
        "# Using Callbacks to find model's ideal learning rate\n",
        "To find ideal learning rate during fitting, we are gonna use this steps:\n",
        "* A learning rate **callback**.You can think of a callback as an extra piece of functionality you can add to your model while its training.\n",
        "* Another model (we could use the same ones as above, we we're practicing building models here).\n",
        "* A modified loss curves plot."
      ],
      "metadata": {
        "id": "40ji8R6JEdtR"
      }
    },
    {
      "cell_type": "code",
      "source": [
        "#let's create a model_10 with the callback(LearningRateScheduler)\n",
        "\n",
        "#set the random seed\n",
        "tf.random.set_seed(42)\n",
        "\n",
        "#create the model(can be same model_9 or similar)\n",
        "model_10 = tf.keras.models.Sequential([\n",
        "    tf.keras.layers.Dense(100, activation= 'relu'),\n",
        "    tf.keras.layers.Dense(100, activation= 'relu'),\n",
        "    tf.keras.layers.Dense(1, activation= 'sigmoid')\n",
        "])\n",
        "\n",
        "#compile the model\n",
        "model_10.compile(loss = tf.keras.losses.binary_crossentropy,\n",
        "                 optimizer = 'adam',\n",
        "                 metrics = ['accuracy'])\n",
        "\n",
        "#set the callback(LearningRateScheduler) to find ideal Learning Rate\n",
        "lr_scheduler = tf.keras.callbacks.LearningRateScheduler(lambda epoch: 0.0001 * 10 **(epoch/20))\n",
        "\n",
        "#fit the model\n",
        "history_10 = model_10.fit(X_train,\n",
        "             y_train,\n",
        "             epochs= 100,\n",
        "             callbacks=[lr_scheduler])"
      ],
      "metadata": {
        "colab": {
          "base_uri": "https://localhost:8080/"
        },
        "id": "zIw-mIbmEdqq",
        "outputId": "6ecedca3-95f1-4461-e7b3-b7785db2ef97"
      },
      "execution_count": null,
      "outputs": [
        {
          "output_type": "stream",
          "name": "stdout",
          "text": [
            "Epoch 1/100\n",
            "25/25 [==============================] - 2s 3ms/step - loss: 0.6985 - accuracy: 0.5063 - lr: 1.0000e-04\n",
            "Epoch 2/100\n",
            "25/25 [==============================] - 0s 3ms/step - loss: 0.6959 - accuracy: 0.5100 - lr: 1.1220e-04\n",
            "Epoch 3/100\n",
            "25/25 [==============================] - 0s 3ms/step - loss: 0.6938 - accuracy: 0.5213 - lr: 1.2589e-04\n",
            "Epoch 4/100\n",
            "25/25 [==============================] - 0s 3ms/step - loss: 0.6921 - accuracy: 0.4913 - lr: 1.4125e-04\n",
            "Epoch 5/100\n",
            "25/25 [==============================] - 0s 3ms/step - loss: 0.6907 - accuracy: 0.4950 - lr: 1.5849e-04\n",
            "Epoch 6/100\n",
            "25/25 [==============================] - 0s 3ms/step - loss: 0.6894 - accuracy: 0.4988 - lr: 1.7783e-04\n",
            "Epoch 7/100\n",
            "25/25 [==============================] - 0s 3ms/step - loss: 0.6884 - accuracy: 0.4925 - lr: 1.9953e-04\n",
            "Epoch 8/100\n",
            "25/25 [==============================] - 0s 3ms/step - loss: 0.6871 - accuracy: 0.4925 - lr: 2.2387e-04\n",
            "Epoch 9/100\n",
            "25/25 [==============================] - 0s 3ms/step - loss: 0.6858 - accuracy: 0.4925 - lr: 2.5119e-04\n",
            "Epoch 10/100\n",
            "25/25 [==============================] - 0s 3ms/step - loss: 0.6845 - accuracy: 0.4925 - lr: 2.8184e-04\n",
            "Epoch 11/100\n",
            "25/25 [==============================] - 0s 3ms/step - loss: 0.6828 - accuracy: 0.5025 - lr: 3.1623e-04\n",
            "Epoch 12/100\n",
            "25/25 [==============================] - 0s 4ms/step - loss: 0.6807 - accuracy: 0.4950 - lr: 3.5481e-04\n",
            "Epoch 13/100\n",
            "25/25 [==============================] - 0s 3ms/step - loss: 0.6780 - accuracy: 0.5150 - lr: 3.9811e-04\n",
            "Epoch 14/100\n",
            "25/25 [==============================] - 0s 3ms/step - loss: 0.6741 - accuracy: 0.5600 - lr: 4.4668e-04\n",
            "Epoch 15/100\n",
            "25/25 [==============================] - 0s 4ms/step - loss: 0.6686 - accuracy: 0.5600 - lr: 5.0119e-04\n",
            "Epoch 16/100\n",
            "25/25 [==============================] - 0s 3ms/step - loss: 0.6613 - accuracy: 0.6062 - lr: 5.6234e-04\n",
            "Epoch 17/100\n",
            "25/25 [==============================] - 0s 3ms/step - loss: 0.6490 - accuracy: 0.7987 - lr: 6.3096e-04\n",
            "Epoch 18/100\n",
            "25/25 [==============================] - 0s 3ms/step - loss: 0.6305 - accuracy: 0.7825 - lr: 7.0795e-04\n",
            "Epoch 19/100\n",
            "25/25 [==============================] - 0s 4ms/step - loss: 0.5957 - accuracy: 0.8550 - lr: 7.9433e-04\n",
            "Epoch 20/100\n",
            "25/25 [==============================] - 0s 4ms/step - loss: 0.5499 - accuracy: 0.8737 - lr: 8.9125e-04\n",
            "Epoch 21/100\n",
            "25/25 [==============================] - 0s 4ms/step - loss: 0.4750 - accuracy: 0.9287 - lr: 0.0010\n",
            "Epoch 22/100\n",
            "25/25 [==============================] - 0s 5ms/step - loss: 0.3767 - accuracy: 0.9825 - lr: 0.0011\n",
            "Epoch 23/100\n",
            "25/25 [==============================] - 0s 4ms/step - loss: 0.2723 - accuracy: 0.9900 - lr: 0.0013\n",
            "Epoch 24/100\n",
            "25/25 [==============================] - 0s 4ms/step - loss: 0.1855 - accuracy: 0.9975 - lr: 0.0014\n",
            "Epoch 25/100\n",
            "25/25 [==============================] - 0s 4ms/step - loss: 0.1242 - accuracy: 0.9962 - lr: 0.0016\n",
            "Epoch 26/100\n",
            "25/25 [==============================] - 0s 4ms/step - loss: 0.0840 - accuracy: 0.9987 - lr: 0.0018\n",
            "Epoch 27/100\n",
            "25/25 [==============================] - 0s 4ms/step - loss: 0.0605 - accuracy: 1.0000 - lr: 0.0020\n",
            "Epoch 28/100\n",
            "25/25 [==============================] - 0s 4ms/step - loss: 0.0514 - accuracy: 0.9975 - lr: 0.0022\n",
            "Epoch 29/100\n",
            "25/25 [==============================] - 0s 4ms/step - loss: 0.0488 - accuracy: 0.9937 - lr: 0.0025\n",
            "Epoch 30/100\n",
            "25/25 [==============================] - 0s 4ms/step - loss: 0.0316 - accuracy: 0.9987 - lr: 0.0028\n",
            "Epoch 31/100\n",
            "25/25 [==============================] - 0s 4ms/step - loss: 0.0209 - accuracy: 1.0000 - lr: 0.0032\n",
            "Epoch 32/100\n",
            "25/25 [==============================] - 0s 4ms/step - loss: 0.0202 - accuracy: 0.9987 - lr: 0.0035\n",
            "Epoch 33/100\n",
            "25/25 [==============================] - 0s 4ms/step - loss: 0.0170 - accuracy: 0.9975 - lr: 0.0040\n",
            "Epoch 34/100\n",
            "25/25 [==============================] - 0s 4ms/step - loss: 0.0767 - accuracy: 0.9663 - lr: 0.0045\n",
            "Epoch 35/100\n",
            "25/25 [==============================] - 0s 4ms/step - loss: 0.2505 - accuracy: 0.8963 - lr: 0.0050\n",
            "Epoch 36/100\n",
            "25/25 [==============================] - 0s 4ms/step - loss: 0.1069 - accuracy: 0.9650 - lr: 0.0056\n",
            "Epoch 37/100\n",
            "25/25 [==============================] - 0s 4ms/step - loss: 0.0533 - accuracy: 0.9825 - lr: 0.0063\n",
            "Epoch 38/100\n",
            "25/25 [==============================] - 0s 4ms/step - loss: 0.0636 - accuracy: 0.9800 - lr: 0.0071\n",
            "Epoch 39/100\n",
            "25/25 [==============================] - 0s 4ms/step - loss: 0.0146 - accuracy: 0.9975 - lr: 0.0079\n",
            "Epoch 40/100\n",
            "25/25 [==============================] - 0s 4ms/step - loss: 0.0071 - accuracy: 0.9987 - lr: 0.0089\n",
            "Epoch 41/100\n",
            "25/25 [==============================] - 0s 3ms/step - loss: 0.0061 - accuracy: 1.0000 - lr: 0.0100\n",
            "Epoch 42/100\n",
            "25/25 [==============================] - 0s 3ms/step - loss: 0.0047 - accuracy: 1.0000 - lr: 0.0112\n",
            "Epoch 43/100\n",
            "25/25 [==============================] - 0s 3ms/step - loss: 0.0057 - accuracy: 1.0000 - lr: 0.0126\n",
            "Epoch 44/100\n",
            "25/25 [==============================] - 0s 3ms/step - loss: 0.0038 - accuracy: 1.0000 - lr: 0.0141\n",
            "Epoch 45/100\n",
            "25/25 [==============================] - 0s 3ms/step - loss: 0.0066 - accuracy: 1.0000 - lr: 0.0158\n",
            "Epoch 46/100\n",
            "25/25 [==============================] - 0s 3ms/step - loss: 0.0426 - accuracy: 0.9862 - lr: 0.0178\n",
            "Epoch 47/100\n",
            "25/25 [==============================] - 0s 3ms/step - loss: 0.7063 - accuracy: 0.7437 - lr: 0.0200\n",
            "Epoch 48/100\n",
            "25/25 [==============================] - 0s 3ms/step - loss: 0.4462 - accuracy: 0.7962 - lr: 0.0224\n",
            "Epoch 49/100\n",
            "25/25 [==============================] - 0s 3ms/step - loss: 0.1080 - accuracy: 0.9675 - lr: 0.0251\n",
            "Epoch 50/100\n",
            "25/25 [==============================] - 0s 3ms/step - loss: 0.0265 - accuracy: 0.9962 - lr: 0.0282\n",
            "Epoch 51/100\n",
            "25/25 [==============================] - 0s 3ms/step - loss: 0.0545 - accuracy: 0.9775 - lr: 0.0316\n",
            "Epoch 52/100\n",
            "25/25 [==============================] - 0s 3ms/step - loss: 0.1017 - accuracy: 0.9613 - lr: 0.0355\n",
            "Epoch 53/100\n",
            "25/25 [==============================] - 0s 3ms/step - loss: 0.4844 - accuracy: 0.8725 - lr: 0.0398\n",
            "Epoch 54/100\n",
            "25/25 [==============================] - 0s 3ms/step - loss: 0.0963 - accuracy: 0.9700 - lr: 0.0447\n",
            "Epoch 55/100\n",
            "25/25 [==============================] - 0s 3ms/step - loss: 0.0331 - accuracy: 0.9900 - lr: 0.0501\n",
            "Epoch 56/100\n",
            "25/25 [==============================] - 0s 3ms/step - loss: 0.0139 - accuracy: 0.9987 - lr: 0.0562\n",
            "Epoch 57/100\n",
            "25/25 [==============================] - 0s 3ms/step - loss: 0.0188 - accuracy: 0.9962 - lr: 0.0631\n",
            "Epoch 58/100\n",
            "25/25 [==============================] - 0s 3ms/step - loss: 0.0535 - accuracy: 0.9775 - lr: 0.0708\n",
            "Epoch 59/100\n",
            "25/25 [==============================] - 0s 3ms/step - loss: 0.4195 - accuracy: 0.8838 - lr: 0.0794\n",
            "Epoch 60/100\n",
            "25/25 [==============================] - 0s 3ms/step - loss: 0.1958 - accuracy: 0.9325 - lr: 0.0891\n",
            "Epoch 61/100\n",
            "25/25 [==============================] - 0s 3ms/step - loss: 0.0838 - accuracy: 0.9675 - lr: 0.1000\n",
            "Epoch 62/100\n",
            "25/25 [==============================] - 0s 3ms/step - loss: 0.1396 - accuracy: 0.9513 - lr: 0.1122\n",
            "Epoch 63/100\n",
            "25/25 [==============================] - 0s 3ms/step - loss: 0.2249 - accuracy: 0.9137 - lr: 0.1259\n",
            "Epoch 64/100\n",
            "25/25 [==============================] - 0s 3ms/step - loss: 0.3734 - accuracy: 0.8388 - lr: 0.1413\n",
            "Epoch 65/100\n",
            "25/25 [==============================] - 0s 3ms/step - loss: 0.1853 - accuracy: 0.9312 - lr: 0.1585\n",
            "Epoch 66/100\n",
            "25/25 [==============================] - 0s 3ms/step - loss: 0.5581 - accuracy: 0.7837 - lr: 0.1778\n",
            "Epoch 67/100\n",
            "25/25 [==============================] - 0s 3ms/step - loss: 0.4620 - accuracy: 0.7825 - lr: 0.1995\n",
            "Epoch 68/100\n",
            "25/25 [==============================] - 0s 3ms/step - loss: 0.5622 - accuracy: 0.7000 - lr: 0.2239\n",
            "Epoch 69/100\n",
            "25/25 [==============================] - 0s 3ms/step - loss: 0.6409 - accuracy: 0.5587 - lr: 0.2512\n",
            "Epoch 70/100\n",
            "25/25 [==============================] - 0s 3ms/step - loss: 0.5477 - accuracy: 0.6938 - lr: 0.2818\n",
            "Epoch 71/100\n",
            "25/25 [==============================] - 0s 3ms/step - loss: 0.5736 - accuracy: 0.6825 - lr: 0.3162\n",
            "Epoch 72/100\n",
            "25/25 [==============================] - 0s 3ms/step - loss: 0.7262 - accuracy: 0.5800 - lr: 0.3548\n",
            "Epoch 73/100\n",
            "25/25 [==============================] - 0s 3ms/step - loss: 0.6799 - accuracy: 0.5200 - lr: 0.3981\n",
            "Epoch 74/100\n",
            "25/25 [==============================] - 0s 3ms/step - loss: 0.7060 - accuracy: 0.4950 - lr: 0.4467\n",
            "Epoch 75/100\n",
            "25/25 [==============================] - 0s 3ms/step - loss: 0.6992 - accuracy: 0.4775 - lr: 0.5012\n",
            "Epoch 76/100\n",
            "25/25 [==============================] - 0s 3ms/step - loss: 0.7278 - accuracy: 0.4875 - lr: 0.5623\n",
            "Epoch 77/100\n",
            "25/25 [==============================] - 0s 3ms/step - loss: 0.7065 - accuracy: 0.5075 - lr: 0.6310\n",
            "Epoch 78/100\n",
            "25/25 [==============================] - 0s 3ms/step - loss: 0.7153 - accuracy: 0.5025 - lr: 0.7079\n",
            "Epoch 79/100\n",
            "25/25 [==============================] - 0s 3ms/step - loss: 0.7073 - accuracy: 0.5250 - lr: 0.7943\n",
            "Epoch 80/100\n",
            "25/25 [==============================] - 0s 3ms/step - loss: 0.7030 - accuracy: 0.5000 - lr: 0.8913\n",
            "Epoch 81/100\n",
            "25/25 [==============================] - 0s 3ms/step - loss: 0.7125 - accuracy: 0.5150 - lr: 1.0000\n",
            "Epoch 82/100\n",
            "25/25 [==============================] - 0s 3ms/step - loss: 0.7064 - accuracy: 0.5025 - lr: 1.1220\n",
            "Epoch 83/100\n",
            "25/25 [==============================] - 0s 3ms/step - loss: 0.7275 - accuracy: 0.4825 - lr: 1.2589\n",
            "Epoch 84/100\n",
            "25/25 [==============================] - 0s 3ms/step - loss: 0.7147 - accuracy: 0.4800 - lr: 1.4125\n",
            "Epoch 85/100\n",
            "25/25 [==============================] - 0s 3ms/step - loss: 0.7151 - accuracy: 0.5150 - lr: 1.5849\n",
            "Epoch 86/100\n",
            "25/25 [==============================] - 0s 3ms/step - loss: 0.7354 - accuracy: 0.5100 - lr: 1.7783\n",
            "Epoch 87/100\n",
            "25/25 [==============================] - 0s 3ms/step - loss: 0.7394 - accuracy: 0.4700 - lr: 1.9953\n",
            "Epoch 88/100\n",
            "25/25 [==============================] - 0s 3ms/step - loss: 0.7814 - accuracy: 0.5025 - lr: 2.2387\n",
            "Epoch 89/100\n",
            "25/25 [==============================] - 0s 3ms/step - loss: 0.8180 - accuracy: 0.4900 - lr: 2.5119\n",
            "Epoch 90/100\n",
            "25/25 [==============================] - 0s 3ms/step - loss: 0.7999 - accuracy: 0.4900 - lr: 2.8184\n",
            "Epoch 91/100\n",
            "25/25 [==============================] - 0s 3ms/step - loss: 0.7588 - accuracy: 0.5150 - lr: 3.1623\n",
            "Epoch 92/100\n",
            "25/25 [==============================] - 0s 3ms/step - loss: 0.8482 - accuracy: 0.5150 - lr: 3.5481\n",
            "Epoch 93/100\n",
            "25/25 [==============================] - 0s 3ms/step - loss: 0.7813 - accuracy: 0.5125 - lr: 3.9811\n",
            "Epoch 94/100\n",
            "25/25 [==============================] - 0s 3ms/step - loss: 0.8030 - accuracy: 0.5025 - lr: 4.4668\n",
            "Epoch 95/100\n",
            "25/25 [==============================] - 0s 3ms/step - loss: 0.7406 - accuracy: 0.4900 - lr: 5.0119\n",
            "Epoch 96/100\n",
            "25/25 [==============================] - 0s 3ms/step - loss: 0.7850 - accuracy: 0.4950 - lr: 5.6234\n",
            "Epoch 97/100\n",
            "25/25 [==============================] - 0s 3ms/step - loss: 0.7404 - accuracy: 0.5050 - lr: 6.3096\n",
            "Epoch 98/100\n",
            "25/25 [==============================] - 0s 3ms/step - loss: 0.8592 - accuracy: 0.4925 - lr: 7.0795\n",
            "Epoch 99/100\n",
            "25/25 [==============================] - 0s 3ms/step - loss: 0.7183 - accuracy: 0.4925 - lr: 7.9433\n",
            "Epoch 100/100\n",
            "25/25 [==============================] - 0s 3ms/step - loss: 0.7957 - accuracy: 0.5300 - lr: 8.9125\n"
          ]
        }
      ]
    },
    {
      "cell_type": "code",
      "source": [
        "pd.DataFrame(history_10.history)"
      ],
      "metadata": {
        "colab": {
          "base_uri": "https://localhost:8080/",
          "height": 424
        },
        "id": "sbV6FCV3O0H_",
        "outputId": "922983cd-131f-499b-f152-2a17429a2171"
      },
      "execution_count": null,
      "outputs": [
        {
          "output_type": "execute_result",
          "data": {
            "text/plain": [
              "        loss  accuracy        lr\n",
              "0   0.698455   0.50625  0.000100\n",
              "1   0.695898   0.51000  0.000112\n",
              "2   0.693784   0.52125  0.000126\n",
              "3   0.692144   0.49125  0.000141\n",
              "4   0.690745   0.49500  0.000158\n",
              "..       ...       ...       ...\n",
              "95  0.784953   0.49500  5.623413\n",
              "96  0.740355   0.50500  6.309574\n",
              "97  0.859238   0.49250  7.079458\n",
              "98  0.718250   0.49250  7.943282\n",
              "99  0.795701   0.53000  8.912509\n",
              "\n",
              "[100 rows x 3 columns]"
            ],
            "text/html": [
              "\n",
              "  <div id=\"df-8bb8b352-b99f-4c8e-9990-8f68b698e4ac\">\n",
              "    <div class=\"colab-df-container\">\n",
              "      <div>\n",
              "<style scoped>\n",
              "    .dataframe tbody tr th:only-of-type {\n",
              "        vertical-align: middle;\n",
              "    }\n",
              "\n",
              "    .dataframe tbody tr th {\n",
              "        vertical-align: top;\n",
              "    }\n",
              "\n",
              "    .dataframe thead th {\n",
              "        text-align: right;\n",
              "    }\n",
              "</style>\n",
              "<table border=\"1\" class=\"dataframe\">\n",
              "  <thead>\n",
              "    <tr style=\"text-align: right;\">\n",
              "      <th></th>\n",
              "      <th>loss</th>\n",
              "      <th>accuracy</th>\n",
              "      <th>lr</th>\n",
              "    </tr>\n",
              "  </thead>\n",
              "  <tbody>\n",
              "    <tr>\n",
              "      <th>0</th>\n",
              "      <td>0.698455</td>\n",
              "      <td>0.50625</td>\n",
              "      <td>0.000100</td>\n",
              "    </tr>\n",
              "    <tr>\n",
              "      <th>1</th>\n",
              "      <td>0.695898</td>\n",
              "      <td>0.51000</td>\n",
              "      <td>0.000112</td>\n",
              "    </tr>\n",
              "    <tr>\n",
              "      <th>2</th>\n",
              "      <td>0.693784</td>\n",
              "      <td>0.52125</td>\n",
              "      <td>0.000126</td>\n",
              "    </tr>\n",
              "    <tr>\n",
              "      <th>3</th>\n",
              "      <td>0.692144</td>\n",
              "      <td>0.49125</td>\n",
              "      <td>0.000141</td>\n",
              "    </tr>\n",
              "    <tr>\n",
              "      <th>4</th>\n",
              "      <td>0.690745</td>\n",
              "      <td>0.49500</td>\n",
              "      <td>0.000158</td>\n",
              "    </tr>\n",
              "    <tr>\n",
              "      <th>...</th>\n",
              "      <td>...</td>\n",
              "      <td>...</td>\n",
              "      <td>...</td>\n",
              "    </tr>\n",
              "    <tr>\n",
              "      <th>95</th>\n",
              "      <td>0.784953</td>\n",
              "      <td>0.49500</td>\n",
              "      <td>5.623413</td>\n",
              "    </tr>\n",
              "    <tr>\n",
              "      <th>96</th>\n",
              "      <td>0.740355</td>\n",
              "      <td>0.50500</td>\n",
              "      <td>6.309574</td>\n",
              "    </tr>\n",
              "    <tr>\n",
              "      <th>97</th>\n",
              "      <td>0.859238</td>\n",
              "      <td>0.49250</td>\n",
              "      <td>7.079458</td>\n",
              "    </tr>\n",
              "    <tr>\n",
              "      <th>98</th>\n",
              "      <td>0.718250</td>\n",
              "      <td>0.49250</td>\n",
              "      <td>7.943282</td>\n",
              "    </tr>\n",
              "    <tr>\n",
              "      <th>99</th>\n",
              "      <td>0.795701</td>\n",
              "      <td>0.53000</td>\n",
              "      <td>8.912509</td>\n",
              "    </tr>\n",
              "  </tbody>\n",
              "</table>\n",
              "<p>100 rows × 3 columns</p>\n",
              "</div>\n",
              "      <button class=\"colab-df-convert\" onclick=\"convertToInteractive('df-8bb8b352-b99f-4c8e-9990-8f68b698e4ac')\"\n",
              "              title=\"Convert this dataframe to an interactive table.\"\n",
              "              style=\"display:none;\">\n",
              "        \n",
              "  <svg xmlns=\"http://www.w3.org/2000/svg\" height=\"24px\"viewBox=\"0 0 24 24\"\n",
              "       width=\"24px\">\n",
              "    <path d=\"M0 0h24v24H0V0z\" fill=\"none\"/>\n",
              "    <path d=\"M18.56 5.44l.94 2.06.94-2.06 2.06-.94-2.06-.94-.94-2.06-.94 2.06-2.06.94zm-11 1L8.5 8.5l.94-2.06 2.06-.94-2.06-.94L8.5 2.5l-.94 2.06-2.06.94zm10 10l.94 2.06.94-2.06 2.06-.94-2.06-.94-.94-2.06-.94 2.06-2.06.94z\"/><path d=\"M17.41 7.96l-1.37-1.37c-.4-.4-.92-.59-1.43-.59-.52 0-1.04.2-1.43.59L10.3 9.45l-7.72 7.72c-.78.78-.78 2.05 0 2.83L4 21.41c.39.39.9.59 1.41.59.51 0 1.02-.2 1.41-.59l7.78-7.78 2.81-2.81c.8-.78.8-2.07 0-2.86zM5.41 20L4 18.59l7.72-7.72 1.47 1.35L5.41 20z\"/>\n",
              "  </svg>\n",
              "      </button>\n",
              "      \n",
              "  <style>\n",
              "    .colab-df-container {\n",
              "      display:flex;\n",
              "      flex-wrap:wrap;\n",
              "      gap: 12px;\n",
              "    }\n",
              "\n",
              "    .colab-df-convert {\n",
              "      background-color: #E8F0FE;\n",
              "      border: none;\n",
              "      border-radius: 50%;\n",
              "      cursor: pointer;\n",
              "      display: none;\n",
              "      fill: #1967D2;\n",
              "      height: 32px;\n",
              "      padding: 0 0 0 0;\n",
              "      width: 32px;\n",
              "    }\n",
              "\n",
              "    .colab-df-convert:hover {\n",
              "      background-color: #E2EBFA;\n",
              "      box-shadow: 0px 1px 2px rgba(60, 64, 67, 0.3), 0px 1px 3px 1px rgba(60, 64, 67, 0.15);\n",
              "      fill: #174EA6;\n",
              "    }\n",
              "\n",
              "    [theme=dark] .colab-df-convert {\n",
              "      background-color: #3B4455;\n",
              "      fill: #D2E3FC;\n",
              "    }\n",
              "\n",
              "    [theme=dark] .colab-df-convert:hover {\n",
              "      background-color: #434B5C;\n",
              "      box-shadow: 0px 1px 3px 1px rgba(0, 0, 0, 0.15);\n",
              "      filter: drop-shadow(0px 1px 2px rgba(0, 0, 0, 0.3));\n",
              "      fill: #FFFFFF;\n",
              "    }\n",
              "  </style>\n",
              "\n",
              "      <script>\n",
              "        const buttonEl =\n",
              "          document.querySelector('#df-8bb8b352-b99f-4c8e-9990-8f68b698e4ac button.colab-df-convert');\n",
              "        buttonEl.style.display =\n",
              "          google.colab.kernel.accessAllowed ? 'block' : 'none';\n",
              "\n",
              "        async function convertToInteractive(key) {\n",
              "          const element = document.querySelector('#df-8bb8b352-b99f-4c8e-9990-8f68b698e4ac');\n",
              "          const dataTable =\n",
              "            await google.colab.kernel.invokeFunction('convertToInteractive',\n",
              "                                                     [key], {});\n",
              "          if (!dataTable) return;\n",
              "\n",
              "          const docLinkHtml = 'Like what you see? Visit the ' +\n",
              "            '<a target=\"_blank\" href=https://colab.research.google.com/notebooks/data_table.ipynb>data table notebook</a>'\n",
              "            + ' to learn more about interactive tables.';\n",
              "          element.innerHTML = '';\n",
              "          dataTable['output_type'] = 'display_data';\n",
              "          await google.colab.output.renderOutput(dataTable, element);\n",
              "          const docLink = document.createElement('div');\n",
              "          docLink.innerHTML = docLinkHtml;\n",
              "          element.appendChild(docLink);\n",
              "        }\n",
              "      </script>\n",
              "    </div>\n",
              "  </div>\n",
              "  "
            ]
          },
          "metadata": {},
          "execution_count": 111
        }
      ]
    },
    {
      "cell_type": "code",
      "source": [
        "#checkout the history of model_10\n",
        "pd.DataFrame(history_10.history).plot()"
      ],
      "metadata": {
        "colab": {
          "base_uri": "https://localhost:8080/",
          "height": 448
        },
        "id": "tlsdccfIEdn0",
        "outputId": "51485328-915e-4815-8e7e-02739bf64934"
      },
      "execution_count": null,
      "outputs": [
        {
          "output_type": "execute_result",
          "data": {
            "text/plain": [
              "<Axes: >"
            ]
          },
          "metadata": {},
          "execution_count": 108
        },
        {
          "output_type": "display_data",
          "data": {
            "text/plain": [
              "<Figure size 640x480 with 1 Axes>"
            ],
            "image/png": "[encoded data removed]"
          },
          "metadata": {}
        }
      ]
    },
    {
      "cell_type": "code",
      "source": [
        "#plot the vissualization to show loss vs learning rate\n",
        "plt.figure(figsize=(16,9))\n",
        "lrs = 0.0001 * 10**(tf.range(100)/20)\n",
        "plt.semilogx(lrs,pd.DataFrame(history_10.history)['loss'])\n",
        "plt.title('Learning Rate vs Loss')\n",
        "plt.xlabel('Learning Rate')\n",
        "plt.ylabel('Loss')\n",
        "plt.show()"
      ],
      "metadata": {
        "colab": {
          "base_uri": "https://localhost:8080/",
          "height": 624
        },
        "id": "F5e0gzZcOtrM",
        "outputId": "01a97a70-2b3f-4d17-e7ed-24932d2683e7"
      },
      "execution_count": null,
      "outputs": [
        {
          "output_type": "display_data",
          "data": {
            "text/plain": [
              "<Figure size 1600x900 with 1 Axes>"
            ],
            "image/png": "[encoded data removed]"
          },
          "metadata": {}
        }
      ]
    },
    {
      "cell_type": "code",
      "source": [
        "#plot the vissualization to show accuracy vs learning rate\n",
        "plt.figure(figsize=(16,9))\n",
        "lrs = 0.0001 * 10**(tf.range(100)/20)\n",
        "plt.semilogx(lrs,pd.DataFrame(history_10.history)['accuracy'],nonpositive='clip')\n",
        "plt.title('Learning Rate vs Accuracy')\n",
        "plt.xlabel('Learning Rate')\n",
        "plt.ylabel('Accuracy')\n",
        "plt.show()"
      ],
      "metadata": {
        "colab": {
          "base_uri": "https://localhost:8080/",
          "height": 624
        },
        "id": "I_210cy4O0FY",
        "outputId": "0eb8c292-3956-4953-f8cf-99db61e8f70f"
      },
      "execution_count": null,
      "outputs": [
        {
          "output_type": "display_data",
          "data": {
            "text/plain": [
              "<Figure size 1600x900 with 1 Axes>"
            ],
            "image/png": "[encoded data removed]"
          },
          "metadata": {}
        }
      ]
    },
    {
      "cell_type": "markdown",
      "source": [
        "# Working with larger example: **Multiclass Classification**\n",
        "When you have more than two classes as a option, it is known as a Multiclass C;assificaion."
      ],
      "metadata": {
        "id": "kqw_I2BdOz_6"
      }
    },
    {
      "cell_type": "code",
      "source": [
        "#import tensorflow\n",
        "import tensorflow as tf\n",
        "\n",
        "#import clothing dataset\n",
        "from tensorflow.keras.datasets import fashion_mnist"
      ],
      "metadata": {
        "id": "nOA5S38yOz9k"
      },
      "execution_count": 3,
      "outputs": []
    },
    {
      "cell_type": "code",
      "source": [
        "#the data has already imported as train and test sets\n",
        "(train_data,train_labels),(test_data,test_labels) = fashion_mnist.load_data()"
      ],
      "metadata": {
        "id": "jo_GpomAOz6s"
      },
      "execution_count": 4,
      "outputs": []
    },
    {
      "cell_type": "code",
      "source": [
        "#get the shape of our train set\n",
        "train_data.shape,train_labels.shape,test_data.shape,test_labels.shape"
      ],
      "metadata": {
        "colab": {
          "base_uri": "https://localhost:8080/"
        },
        "id": "XhDQXJTwOz4G",
        "outputId": "5120342f-96fb-417e-8085-e42597d9daa5"
      },
      "execution_count": 5,
      "outputs": [
        {
          "output_type": "execute_result",
          "data": {
            "text/plain": [
              "((60000, 28, 28), (60000,), (10000, 28, 28), (10000,))"
            ]
          },
          "metadata": {},
          "execution_count": 5
        }
      ]
    },
    {
      "cell_type": "code",
      "source": [
        "#let's get the first example of our train data and train label\n",
        "print(f\"First example of train_data:\\n{train_data[0]}\\n\")\n",
        "print(f\"The First example of train_label:\\n{train_labels[0]}\")"
      ],
      "metadata": {
        "colab": {
          "base_uri": "https://localhost:8080/"
        },
        "id": "quY9Vs3yOz1f",
        "outputId": "6f1b55a1-f6d2-4149-fd58-d45dc08dd955"
      },
      "execution_count": 6,
      "outputs": [
        {
          "output_type": "stream",
          "name": "stdout",
          "text": [
            "First example of train_data:\n",
            "[[  0   0   0   0   0   0   0   0   0   0   0   0   0   0   0   0   0   0\n",
            "    0   0   0   0   0   0   0   0   0   0]\n",
            " [  0   0   0   0   0   0   0   0   0   0   0   0   0   0   0   0   0   0\n",
            "    0   0   0   0   0   0   0   0   0   0]\n",
            " [  0   0   0   0   0   0   0   0   0   0   0   0   0   0   0   0   0   0\n",
            "    0   0   0   0   0   0   0   0   0   0]\n",
            " [  0   0   0   0   0   0   0   0   0   0   0   0   1   0   0  13  73   0\n",
            "    0   1   4   0   0   0   0   1   1   0]\n",
            " [  0   0   0   0   0   0   0   0   0   0   0   0   3   0  36 136 127  62\n",
            "   54   0   0   0   1   3   4   0   0   3]\n",
            " [  0   0   0   0   0   0   0   0   0   0   0   0   6   0 102 204 176 134\n",
            "  144 123  23   0   0   0   0  12  10   0]\n",
            " [  0   0   0   0   0   0   0   0   0   0   0   0   0   0 155 236 207 178\n",
            "  107 156 161 109  64  23  77 130  72  15]\n",
            " [  0   0   0   0   0   0   0   0   0   0   0   1   0  69 207 223 218 216\n",
            "  216 163 127 121 122 146 141  88 172  66]\n",
            " [  0   0   0   0   0   0   0   0   0   1   1   1   0 200 232 232 233 229\n",
            "  223 223 215 213 164 127 123 196 229   0]\n",
            " [  0   0   0   0   0   0   0   0   0   0   0   0   0 183 225 216 223 228\n",
            "  235 227 224 222 224 221 223 245 173   0]\n",
            " [  0   0   0   0   0   0   0   0   0   0   0   0   0 193 228 218 213 198\n",
            "  180 212 210 211 213 223 220 243 202   0]\n",
            " [  0   0   0   0   0   0   0   0   0   1   3   0  12 219 220 212 218 192\n",
            "  169 227 208 218 224 212 226 197 209  52]\n",
            " [  0   0   0   0   0   0   0   0   0   0   6   0  99 244 222 220 218 203\n",
            "  198 221 215 213 222 220 245 119 167  56]\n",
            " [  0   0   0   0   0   0   0   0   0   4   0   0  55 236 228 230 228 240\n",
            "  232 213 218 223 234 217 217 209  92   0]\n",
            " [  0   0   1   4   6   7   2   0   0   0   0   0 237 226 217 223 222 219\n",
            "  222 221 216 223 229 215 218 255  77   0]\n",
            " [  0   3   0   0   0   0   0   0   0  62 145 204 228 207 213 221 218 208\n",
            "  211 218 224 223 219 215 224 244 159   0]\n",
            " [  0   0   0   0  18  44  82 107 189 228 220 222 217 226 200 205 211 230\n",
            "  224 234 176 188 250 248 233 238 215   0]\n",
            " [  0  57 187 208 224 221 224 208 204 214 208 209 200 159 245 193 206 223\n",
            "  255 255 221 234 221 211 220 232 246   0]\n",
            " [  3 202 228 224 221 211 211 214 205 205 205 220 240  80 150 255 229 221\n",
            "  188 154 191 210 204 209 222 228 225   0]\n",
            " [ 98 233 198 210 222 229 229 234 249 220 194 215 217 241  65  73 106 117\n",
            "  168 219 221 215 217 223 223 224 229  29]\n",
            " [ 75 204 212 204 193 205 211 225 216 185 197 206 198 213 240 195 227 245\n",
            "  239 223 218 212 209 222 220 221 230  67]\n",
            " [ 48 203 183 194 213 197 185 190 194 192 202 214 219 221 220 236 225 216\n",
            "  199 206 186 181 177 172 181 205 206 115]\n",
            " [  0 122 219 193 179 171 183 196 204 210 213 207 211 210 200 196 194 191\n",
            "  195 191 198 192 176 156 167 177 210  92]\n",
            " [  0   0  74 189 212 191 175 172 175 181 185 188 189 188 193 198 204 209\n",
            "  210 210 211 188 188 194 192 216 170   0]\n",
            " [  2   0   0   0  66 200 222 237 239 242 246 243 244 221 220 193 191 179\n",
            "  182 182 181 176 166 168  99  58   0   0]\n",
            " [  0   0   0   0   0   0   0  40  61  44  72  41  35   0   0   0   0   0\n",
            "    0   0   0   0   0   0   0   0   0   0]\n",
            " [  0   0   0   0   0   0   0   0   0   0   0   0   0   0   0   0   0   0\n",
            "    0   0   0   0   0   0   0   0   0   0]\n",
            " [  0   0   0   0   0   0   0   0   0   0   0   0   0   0   0   0   0   0\n",
            "    0   0   0   0   0   0   0   0   0   0]]\n",
            "\n",
            "The First example of train_label:\n",
            "9\n"
          ]
        }
      ]
    },
    {
      "cell_type": "code",
      "source": [
        "#check the shape of  single example of data\n",
        "train_data[0].shape, train_labels[0].shape"
      ],
      "metadata": {
        "colab": {
          "base_uri": "https://localhost:8080/"
        },
        "id": "Ziez7aodOzy4",
        "outputId": "a0d4cad0-7f76-4495-f650-1942e9bf46ac"
      },
      "execution_count": 7,
      "outputs": [
        {
          "output_type": "execute_result",
          "data": {
            "text/plain": [
              "((28, 28), ())"
            ]
          },
          "metadata": {},
          "execution_count": 7
        }
      ]
    },
    {
      "cell_type": "code",
      "source": [
        "#plot the single example\n",
        "plt.figure(figsize=(16,9))\n",
        "plt.imshow(train_data[0])\n",
        "plt.show()"
      ],
      "metadata": {
        "colab": {
          "base_uri": "https://localhost:8080/",
          "height": 753
        },
        "id": "MEV8nq36OzwR",
        "outputId": "e0c75f60-eabe-4b29-f8fa-3f28e39e8da8"
      },
      "execution_count": 8,
      "outputs": [
        {
          "output_type": "display_data",
          "data": {
            "text/plain": [
              "<Figure size 1600x900 with 1 Axes>"
            ],
            "image/png": "[encoded data removed]"
          },
          "metadata": {}
        }
      ]
    },
    {
      "cell_type": "code",
      "source": [
        "class_names = ['T-shirt/top', 'Trouser', 'Pullover', 'Dress', 'Coat',\n",
        "               'Sandal', 'Shirt', 'Sneaker', 'Bag', 'Ankle boot']"
      ],
      "metadata": {
        "id": "kBDdGehFO2jM"
      },
      "execution_count": 9,
      "outputs": []
    },
    {
      "cell_type": "code",
      "source": [
        "#plot a images examples with the name\n",
        "for i in [47,46,79,32]:\n",
        "  index_of_choice = i\n",
        "  plt.imshow(train_data[index_of_choice],cmap= plt.cm.binary)\n",
        "  plt.title(class_names[train_labels[index_of_choice]])\n",
        "  plt.show()"
      ],
      "metadata": {
        "id": "X6bhDdhHO2g2",
        "colab": {
          "base_uri": "https://localhost:8080/",
          "height": 1000
        },
        "outputId": "7f64b92f-53d7-410e-d1ba-30471cd10f7b"
      },
      "execution_count": 10,
      "outputs": [
        {
          "output_type": "display_data",
          "data": {
            "text/plain": [
              "<Figure size 640x480 with 1 Axes>"
            ],
            "image/png": "[encoded data removed]"
          },
          "metadata": {}
        },
        {
          "output_type": "display_data",
          "data": {
            "text/plain": [
              "<Figure size 640x480 with 1 Axes>"
            ],
            "image/png": "[encoded data removed]"
          },
          "metadata": {}
        },
        {
          "output_type": "display_data",
          "data": {
            "text/plain": [
              "<Figure size 640x480 with 1 Axes>"
            ],
            "image/png": "[encoded data removed]"
          },
          "metadata": {}
        },
        {
          "output_type": "display_data",
          "data": {
            "text/plain": [
              "<Figure size 640x480 with 1 Axes>"
            ],
            "image/png": "[encoded data removed]"
          },
          "metadata": {}
        }
      ]
    },
    {
      "cell_type": "markdown",
      "source": [
        "# Building Multiclass classification model"
      ],
      "metadata": {
        "id": "cXxKboF2O2d-"
      }
    },
    {
      "cell_type": "code",
      "source": [
        "input_shape = train_data[0].shape"
      ],
      "metadata": {
        "id": "tQT7I5zc5cq1"
      },
      "execution_count": 11,
      "outputs": []
    },
    {
      "cell_type": "code",
      "source": [
        "#let's create multiclass classification model,you can see some differences from binary classification\n",
        "\n",
        "#set the random seed\n",
        "tf.random.set_seed(42)\n",
        "\n",
        "#create the model\n",
        "multi_class_model = tf.keras.models.Sequential([\n",
        "    tf.keras.layers.Flatten(input_shape= (28,28)),    #The Flatten layer converts the 28x28x50 output of the convolutional layer into a single one-dimensional vector,\n",
        "    tf.keras.layers.Dense(4, activation= 'relu'),     #that can be used as input for a dense layer.\n",
        "    tf.keras.layers.Dense(4, activation= 'relu'),\n",
        "    tf.keras.layers.Dense(10, activation= 'softmax')\n",
        "])\n",
        "\n",
        "#compile the model\n",
        "multi_class_model.compile(loss = tf.keras.losses.SparseCategoricalCrossentropy(),  #If you want to use \"categorical_crossentropy\", the labels should be one-hot-encoded.\n",
        "                          optimizer = 'adam',                                      #When your labels are given as an integer, changing to \"sparse_categorical_crossentropy\" is required\n",
        "                          metrics= ['accuracy'])\n",
        "\n",
        "#fit the model\n",
        "non_norm_history = multi_class_model.fit(train_data,\n",
        "                      train_labels,\n",
        "                      epochs= 10,\n",
        "                      validation_data= (test_data,test_labels))"
      ],
      "metadata": {
        "id": "YnFzN7TyO2ba",
        "colab": {
          "base_uri": "https://localhost:8080/"
        },
        "outputId": "34c14b7e-ccf3-4bdd-e707-112da996fafc"
      },
      "execution_count": 13,
      "outputs": [
        {
          "output_type": "stream",
          "name": "stdout",
          "text": [
            "Epoch 1/10\n",
            "1875/1875 [==============================] - 12s 5ms/step - loss: 2.3428 - accuracy: 0.0980 - val_loss: 2.3027 - val_accuracy: 0.1000\n",
            "Epoch 2/10\n",
            "1875/1875 [==============================] - 6s 3ms/step - loss: 2.3028 - accuracy: 0.0988 - val_loss: 2.3027 - val_accuracy: 0.1000\n",
            "Epoch 3/10\n",
            "1875/1875 [==============================] - 7s 4ms/step - loss: 2.3027 - accuracy: 0.1002 - val_loss: 2.3027 - val_accuracy: 0.1000\n",
            "Epoch 4/10\n",
            "1875/1875 [==============================] - 6s 3ms/step - loss: 2.3028 - accuracy: 0.0975 - val_loss: 2.3026 - val_accuracy: 0.1000\n",
            "Epoch 5/10\n",
            "1875/1875 [==============================] - 6s 3ms/step - loss: 2.3028 - accuracy: 0.0973 - val_loss: 2.3026 - val_accuracy: 0.1000\n",
            "Epoch 6/10\n",
            "1875/1875 [==============================] - 6s 3ms/step - loss: 2.3028 - accuracy: 0.0992 - val_loss: 2.3026 - val_accuracy: 0.1000\n",
            "Epoch 7/10\n",
            "1875/1875 [==============================] - 7s 4ms/step - loss: 2.3028 - accuracy: 0.0987 - val_loss: 2.3026 - val_accuracy: 0.1000\n",
            "Epoch 8/10\n",
            "1875/1875 [==============================] - 6s 3ms/step - loss: 2.3028 - accuracy: 0.0982 - val_loss: 2.3027 - val_accuracy: 0.1000\n",
            "Epoch 9/10\n",
            "1875/1875 [==============================] - 7s 4ms/step - loss: 2.3028 - accuracy: 0.0989 - val_loss: 2.3027 - val_accuracy: 0.1000\n",
            "Epoch 10/10\n",
            "1875/1875 [==============================] - 6s 3ms/step - loss: 2.3028 - accuracy: 0.0986 - val_loss: 2.3027 - val_accuracy: 0.1000\n"
          ]
        }
      ]
    },
    {
      "cell_type": "code",
      "source": [
        "#get the predictions\n",
        "multi_class_predictions = multi_class_model.predict(test_data)\n",
        "multi_class_predictions"
      ],
      "metadata": {
        "id": "x6DqwYiUO2Wb",
        "colab": {
          "base_uri": "https://localhost:8080/"
        },
        "outputId": "678c9794-d46b-4298-955e-484d06fab595"
      },
      "execution_count": 14,
      "outputs": [
        {
          "output_type": "stream",
          "name": "stdout",
          "text": [
            "313/313 [==============================] - 1s 2ms/step\n"
          ]
        },
        {
          "output_type": "execute_result",
          "data": {
            "text/plain": [
              "array([[0.09972637, 0.10084206, 0.09979247, ..., 0.09813794, 0.1023121 ,\n",
              "        0.09905698],\n",
              "       [0.09972637, 0.10084206, 0.09979247, ..., 0.09813794, 0.1023121 ,\n",
              "        0.09905698],\n",
              "       [0.09972637, 0.10084206, 0.09979247, ..., 0.09813794, 0.1023121 ,\n",
              "        0.09905698],\n",
              "       ...,\n",
              "       [0.09972637, 0.10084206, 0.09979247, ..., 0.09813794, 0.1023121 ,\n",
              "        0.09905698],\n",
              "       [0.09972637, 0.10084206, 0.09979247, ..., 0.09813794, 0.1023121 ,\n",
              "        0.09905698],\n",
              "       [0.09972637, 0.10084206, 0.09979247, ..., 0.09813794, 0.1023121 ,\n",
              "        0.09905698]], dtype=float32)"
            ]
          },
          "metadata": {},
          "execution_count": 14
        }
      ]
    },
    {
      "cell_type": "code",
      "source": [
        "pd.DataFrame(multi_class_predictions)\n",
        "#as you can see, our model makes propapilities for all classes"
      ],
      "metadata": {
        "id": "4oXy2i5EO2T2",
        "colab": {
          "base_uri": "https://localhost:8080/",
          "height": 424
        },
        "outputId": "3513f7a5-26b5-4e1b-c6bc-5288ef95d54f"
      },
      "execution_count": 15,
      "outputs": [
        {
          "output_type": "execute_result",
          "data": {
            "text/plain": [
              "             0         1         2         3         4         5         6  \\\n",
              "0     0.099726  0.100842  0.099792  0.100306  0.098692  0.101068  0.100066   \n",
              "1     0.099726  0.100842  0.099792  0.100306  0.098692  0.101068  0.100066   \n",
              "2     0.099726  0.100842  0.099792  0.100306  0.098692  0.101068  0.100066   \n",
              "3     0.099726  0.100842  0.099792  0.100306  0.098692  0.101068  0.100066   \n",
              "4     0.099726  0.100842  0.099792  0.100306  0.098692  0.101068  0.100066   \n",
              "...        ...       ...       ...       ...       ...       ...       ...   \n",
              "9995  0.099726  0.100842  0.099792  0.100306  0.098692  0.101068  0.100066   \n",
              "9996  0.099726  0.100842  0.099792  0.100306  0.098692  0.101068  0.100066   \n",
              "9997  0.099726  0.100842  0.099792  0.100306  0.098692  0.101068  0.100066   \n",
              "9998  0.099726  0.100842  0.099792  0.100306  0.098692  0.101068  0.100066   \n",
              "9999  0.099726  0.100842  0.099792  0.100306  0.098692  0.101068  0.100066   \n",
              "\n",
              "             7         8         9  \n",
              "0     0.098138  0.102312  0.099057  \n",
              "1     0.098138  0.102312  0.099057  \n",
              "2     0.098138  0.102312  0.099057  \n",
              "3     0.098138  0.102312  0.099057  \n",
              "4     0.098138  0.102312  0.099057  \n",
              "...        ...       ...       ...  \n",
              "9995  0.098138  0.102312  0.099057  \n",
              "9996  0.098138  0.102312  0.099057  \n",
              "9997  0.098138  0.102312  0.099057  \n",
              "9998  0.098138  0.102312  0.099057  \n",
              "9999  0.098138  0.102312  0.099057  \n",
              "\n",
              "[10000 rows x 10 columns]"
            ],
            "text/html": [
              "\n",
              "  <div id=\"df-425c2ed0-2f39-475f-b8b3-6f17bf58f604\">\n",
              "    <div class=\"colab-df-container\">\n",
              "      <div>\n",
              "<style scoped>\n",
              "    .dataframe tbody tr th:only-of-type {\n",
              "        vertical-align: middle;\n",
              "    }\n",
              "\n",
              "    .dataframe tbody tr th {\n",
              "        vertical-align: top;\n",
              "    }\n",
              "\n",
              "    .dataframe thead th {\n",
              "        text-align: right;\n",
              "    }\n",
              "</style>\n",
              "<table border=\"1\" class=\"dataframe\">\n",
              "  <thead>\n",
              "    <tr style=\"text-align: right;\">\n",
              "      <th></th>\n",
              "      <th>0</th>\n",
              "      <th>1</th>\n",
              "      <th>2</th>\n",
              "      <th>3</th>\n",
              "      <th>4</th>\n",
              "      <th>5</th>\n",
              "      <th>6</th>\n",
              "      <th>7</th>\n",
              "      <th>8</th>\n",
              "      <th>9</th>\n",
              "    </tr>\n",
              "  </thead>\n",
              "  <tbody>\n",
              "    <tr>\n",
              "      <th>0</th>\n",
              "      <td>0.099726</td>\n",
              "      <td>0.100842</td>\n",
              "      <td>0.099792</td>\n",
              "      <td>0.100306</td>\n",
              "      <td>0.098692</td>\n",
              "      <td>0.101068</td>\n",
              "      <td>0.100066</td>\n",
              "      <td>0.098138</td>\n",
              "      <td>0.102312</td>\n",
              "      <td>0.099057</td>\n",
              "    </tr>\n",
              "    <tr>\n",
              "      <th>1</th>\n",
              "      <td>0.099726</td>\n",
              "      <td>0.100842</td>\n",
              "      <td>0.099792</td>\n",
              "      <td>0.100306</td>\n",
              "      <td>0.098692</td>\n",
              "      <td>0.101068</td>\n",
              "      <td>0.100066</td>\n",
              "      <td>0.098138</td>\n",
              "      <td>0.102312</td>\n",
              "      <td>0.099057</td>\n",
              "    </tr>\n",
              "    <tr>\n",
              "      <th>2</th>\n",
              "      <td>0.099726</td>\n",
              "      <td>0.100842</td>\n",
              "      <td>0.099792</td>\n",
              "      <td>0.100306</td>\n",
              "      <td>0.098692</td>\n",
              "      <td>0.101068</td>\n",
              "      <td>0.100066</td>\n",
              "      <td>0.098138</td>\n",
              "      <td>0.102312</td>\n",
              "      <td>0.099057</td>\n",
              "    </tr>\n",
              "    <tr>\n",
              "      <th>3</th>\n",
              "      <td>0.099726</td>\n",
              "      <td>0.100842</td>\n",
              "      <td>0.099792</td>\n",
              "      <td>0.100306</td>\n",
              "      <td>0.098692</td>\n",
              "      <td>0.101068</td>\n",
              "      <td>0.100066</td>\n",
              "      <td>0.098138</td>\n",
              "      <td>0.102312</td>\n",
              "      <td>0.099057</td>\n",
              "    </tr>\n",
              "    <tr>\n",
              "      <th>4</th>\n",
              "      <td>0.099726</td>\n",
              "      <td>0.100842</td>\n",
              "      <td>0.099792</td>\n",
              "      <td>0.100306</td>\n",
              "      <td>0.098692</td>\n",
              "      <td>0.101068</td>\n",
              "      <td>0.100066</td>\n",
              "      <td>0.098138</td>\n",
              "      <td>0.102312</td>\n",
              "      <td>0.099057</td>\n",
              "    </tr>\n",
              "    <tr>\n",
              "      <th>...</th>\n",
              "      <td>...</td>\n",
              "      <td>...</td>\n",
              "      <td>...</td>\n",
              "      <td>...</td>\n",
              "      <td>...</td>\n",
              "      <td>...</td>\n",
              "      <td>...</td>\n",
              "      <td>...</td>\n",
              "      <td>...</td>\n",
              "      <td>...</td>\n",
              "    </tr>\n",
              "    <tr>\n",
              "      <th>9995</th>\n",
              "      <td>0.099726</td>\n",
              "      <td>0.100842</td>\n",
              "      <td>0.099792</td>\n",
              "      <td>0.100306</td>\n",
              "      <td>0.098692</td>\n",
              "      <td>0.101068</td>\n",
              "      <td>0.100066</td>\n",
              "      <td>0.098138</td>\n",
              "      <td>0.102312</td>\n",
              "      <td>0.099057</td>\n",
              "    </tr>\n",
              "    <tr>\n",
              "      <th>9996</th>\n",
              "      <td>0.099726</td>\n",
              "      <td>0.100842</td>\n",
              "      <td>0.099792</td>\n",
              "      <td>0.100306</td>\n",
              "      <td>0.098692</td>\n",
              "      <td>0.101068</td>\n",
              "      <td>0.100066</td>\n",
              "      <td>0.098138</td>\n",
              "      <td>0.102312</td>\n",
              "      <td>0.099057</td>\n",
              "    </tr>\n",
              "    <tr>\n",
              "      <th>9997</th>\n",
              "      <td>0.099726</td>\n",
              "      <td>0.100842</td>\n",
              "      <td>0.099792</td>\n",
              "      <td>0.100306</td>\n",
              "      <td>0.098692</td>\n",
              "      <td>0.101068</td>\n",
              "      <td>0.100066</td>\n",
              "      <td>0.098138</td>\n",
              "      <td>0.102312</td>\n",
              "      <td>0.099057</td>\n",
              "    </tr>\n",
              "    <tr>\n",
              "      <th>9998</th>\n",
              "      <td>0.099726</td>\n",
              "      <td>0.100842</td>\n",
              "      <td>0.099792</td>\n",
              "      <td>0.100306</td>\n",
              "      <td>0.098692</td>\n",
              "      <td>0.101068</td>\n",
              "      <td>0.100066</td>\n",
              "      <td>0.098138</td>\n",
              "      <td>0.102312</td>\n",
              "      <td>0.099057</td>\n",
              "    </tr>\n",
              "    <tr>\n",
              "      <th>9999</th>\n",
              "      <td>0.099726</td>\n",
              "      <td>0.100842</td>\n",
              "      <td>0.099792</td>\n",
              "      <td>0.100306</td>\n",
              "      <td>0.098692</td>\n",
              "      <td>0.101068</td>\n",
              "      <td>0.100066</td>\n",
              "      <td>0.098138</td>\n",
              "      <td>0.102312</td>\n",
              "      <td>0.099057</td>\n",
              "    </tr>\n",
              "  </tbody>\n",
              "</table>\n",
              "<p>10000 rows × 10 columns</p>\n",
              "</div>\n",
              "      <button class=\"colab-df-convert\" onclick=\"convertToInteractive('df-425c2ed0-2f39-475f-b8b3-6f17bf58f604')\"\n",
              "              title=\"Convert this dataframe to an interactive table.\"\n",
              "              style=\"display:none;\">\n",
              "        \n",
              "  <svg xmlns=\"http://www.w3.org/2000/svg\" height=\"24px\"viewBox=\"0 0 24 24\"\n",
              "       width=\"24px\">\n",
              "    <path d=\"M0 0h24v24H0V0z\" fill=\"none\"/>\n",
              "    <path d=\"M18.56 5.44l.94 2.06.94-2.06 2.06-.94-2.06-.94-.94-2.06-.94 2.06-2.06.94zm-11 1L8.5 8.5l.94-2.06 2.06-.94-2.06-.94L8.5 2.5l-.94 2.06-2.06.94zm10 10l.94 2.06.94-2.06 2.06-.94-2.06-.94-.94-2.06-.94 2.06-2.06.94z\"/><path d=\"M17.41 7.96l-1.37-1.37c-.4-.4-.92-.59-1.43-.59-.52 0-1.04.2-1.43.59L10.3 9.45l-7.72 7.72c-.78.78-.78 2.05 0 2.83L4 21.41c.39.39.9.59 1.41.59.51 0 1.02-.2 1.41-.59l7.78-7.78 2.81-2.81c.8-.78.8-2.07 0-2.86zM5.41 20L4 18.59l7.72-7.72 1.47 1.35L5.41 20z\"/>\n",
              "  </svg>\n",
              "      </button>\n",
              "      \n",
              "  <style>\n",
              "    .colab-df-container {\n",
              "      display:flex;\n",
              "      flex-wrap:wrap;\n",
              "      gap: 12px;\n",
              "    }\n",
              "\n",
              "    .colab-df-convert {\n",
              "      background-color: #E8F0FE;\n",
              "      border: none;\n",
              "      border-radius: 50%;\n",
              "      cursor: pointer;\n",
              "      display: none;\n",
              "      fill: #1967D2;\n",
              "      height: 32px;\n",
              "      padding: 0 0 0 0;\n",
              "      width: 32px;\n",
              "    }\n",
              "\n",
              "    .colab-df-convert:hover {\n",
              "      background-color: #E2EBFA;\n",
              "      box-shadow: 0px 1px 2px rgba(60, 64, 67, 0.3), 0px 1px 3px 1px rgba(60, 64, 67, 0.15);\n",
              "      fill: #174EA6;\n",
              "    }\n",
              "\n",
              "    [theme=dark] .colab-df-convert {\n",
              "      background-color: #3B4455;\n",
              "      fill: #D2E3FC;\n",
              "    }\n",
              "\n",
              "    [theme=dark] .colab-df-convert:hover {\n",
              "      background-color: #434B5C;\n",
              "      box-shadow: 0px 1px 3px 1px rgba(0, 0, 0, 0.15);\n",
              "      filter: drop-shadow(0px 1px 2px rgba(0, 0, 0, 0.3));\n",
              "      fill: #FFFFFF;\n",
              "    }\n",
              "  </style>\n",
              "\n",
              "      <script>\n",
              "        const buttonEl =\n",
              "          document.querySelector('#df-425c2ed0-2f39-475f-b8b3-6f17bf58f604 button.colab-df-convert');\n",
              "        buttonEl.style.display =\n",
              "          google.colab.kernel.accessAllowed ? 'block' : 'none';\n",
              "\n",
              "        async function convertToInteractive(key) {\n",
              "          const element = document.querySelector('#df-425c2ed0-2f39-475f-b8b3-6f17bf58f604');\n",
              "          const dataTable =\n",
              "            await google.colab.kernel.invokeFunction('convertToInteractive',\n",
              "                                                     [key], {});\n",
              "          if (!dataTable) return;\n",
              "\n",
              "          const docLinkHtml = 'Like what you see? Visit the ' +\n",
              "            '<a target=\"_blank\" href=https://colab.research.google.com/notebooks/data_table.ipynb>data table notebook</a>'\n",
              "            + ' to learn more about interactive tables.';\n",
              "          element.innerHTML = '';\n",
              "          dataTable['output_type'] = 'display_data';\n",
              "          await google.colab.output.renderOutput(dataTable, element);\n",
              "          const docLink = document.createElement('div');\n",
              "          docLink.innerHTML = docLinkHtml;\n",
              "          element.appendChild(docLink);\n",
              "        }\n",
              "      </script>\n",
              "    </div>\n",
              "  </div>\n",
              "  "
            ]
          },
          "metadata": {},
          "execution_count": 15
        }
      ]
    },
    {
      "cell_type": "markdown",
      "source": [
        "# Improve our model using normalization"
      ],
      "metadata": {
        "id": "rUvGptmkO2Q9"
      }
    },
    {
      "cell_type": "code",
      "source": [
        "train_data.min(), train_data.max()"
      ],
      "metadata": {
        "id": "2ASCu9KsO2OW",
        "colab": {
          "base_uri": "https://localhost:8080/"
        },
        "outputId": "0f27eaeb-59c6-4fe8-da2f-07f0201934dc"
      },
      "execution_count": 16,
      "outputs": [
        {
          "output_type": "execute_result",
          "data": {
            "text/plain": [
              "(0, 255)"
            ]
          },
          "metadata": {},
          "execution_count": 16
        }
      ]
    },
    {
      "cell_type": "code",
      "source": [
        "#normalize the data\n",
        "nor_train_data = train_data / 255\n",
        "nor_test_data = test_data / 255\n",
        "nor_train_data.min(), nor_train_data.max() # 6.030862941101084e-08 means 1"
      ],
      "metadata": {
        "id": "vJIVlwlRO2Lx",
        "colab": {
          "base_uri": "https://localhost:8080/"
        },
        "outputId": "b10e1357-9907-4d11-9cf6-d147914b4958"
      },
      "execution_count": 17,
      "outputs": [
        {
          "output_type": "execute_result",
          "data": {
            "text/plain": [
              "(0.0, 1.0)"
            ]
          },
          "metadata": {},
          "execution_count": 17
        }
      ]
    },
    {
      "cell_type": "code",
      "source": [
        "train_data.shape, test_data.shape, train_labels.shape"
      ],
      "metadata": {
        "colab": {
          "base_uri": "https://localhost:8080/"
        },
        "id": "a85Rra2qBlcf",
        "outputId": "6a5d3690-619c-4ec1-cdf1-fc33d7bfecda"
      },
      "execution_count": 18,
      "outputs": [
        {
          "output_type": "execute_result",
          "data": {
            "text/plain": [
              "((60000, 28, 28), (10000, 28, 28), (60000,))"
            ]
          },
          "metadata": {},
          "execution_count": 18
        }
      ]
    },
    {
      "cell_type": "code",
      "source": [
        "train_data.max()"
      ],
      "metadata": {
        "colab": {
          "base_uri": "https://localhost:8080/"
        },
        "id": "9oWFLYm-DFfE",
        "outputId": "053f77b7-56f3-4e5a-f921-0fc221cbcd8c"
      },
      "execution_count": 19,
      "outputs": [
        {
          "output_type": "execute_result",
          "data": {
            "text/plain": [
              "255"
            ]
          },
          "metadata": {},
          "execution_count": 19
        }
      ]
    },
    {
      "cell_type": "code",
      "source": [
        "#Create the model on normalized data\n",
        "\n",
        "#set random seed\n",
        "tf.random.set_seed(42)\n",
        "\n",
        "#create the model\n",
        "multi_class_model_2 = tf.keras.models.Sequential([\n",
        "    tf.keras.layers.Flatten(input_shape=(28,28)),\n",
        "    tf.keras.layers.Dense(100, activation= 'relu'),  # number of units per hidden layer is increased\n",
        "    tf.keras.layers.Dense(100, activation= 'relu'),\n",
        "    tf.keras.layers.Dense(10, activation= tf.keras.activations.softmax)]\n",
        ")\n",
        "\n",
        "#compile the model\n",
        "multi_class_model_2.compile(loss= tf.keras.losses.SparseCategoricalCrossentropy(),\n",
        "                            optimizer= tf.keras.optimizers.Adam(),\n",
        "                            metrics= ['accuracy'])\n",
        "\n",
        "#fit the model\n",
        "norm_histr= multi_class_model_2.fit(nor_train_data,train_labels,\n",
        "                        epochs= 10,\n",
        "                        validation_data= (test_data, test_labels))"
      ],
      "metadata": {
        "id": "OWBExONqOzrE",
        "colab": {
          "base_uri": "https://localhost:8080/"
        },
        "outputId": "8bf0d24f-f882-4bb6-d2b2-fe0c22f11f2c"
      },
      "execution_count": 22,
      "outputs": [
        {
          "output_type": "stream",
          "name": "stdout",
          "text": [
            "Epoch 1/10\n",
            "1875/1875 [==============================] - 9s 4ms/step - loss: 0.4924 - accuracy: 0.8247 - val_loss: 56.2069 - val_accuracy: 0.8219\n",
            "Epoch 2/10\n",
            "1875/1875 [==============================] - 6s 3ms/step - loss: 0.3608 - accuracy: 0.8678 - val_loss: 83.3539 - val_accuracy: 0.8213\n",
            "Epoch 3/10\n",
            "1875/1875 [==============================] - 7s 4ms/step - loss: 0.3282 - accuracy: 0.8789 - val_loss: 50.8518 - val_accuracy: 0.8455\n",
            "Epoch 4/10\n",
            "1875/1875 [==============================] - 6s 3ms/step - loss: 0.3069 - accuracy: 0.8876 - val_loss: 63.3901 - val_accuracy: 0.8402\n",
            "Epoch 5/10\n",
            "1875/1875 [==============================] - 7s 3ms/step - loss: 0.2897 - accuracy: 0.8910 - val_loss: 62.1957 - val_accuracy: 0.8330\n",
            "Epoch 6/10\n",
            "1875/1875 [==============================] - 6s 3ms/step - loss: 0.2751 - accuracy: 0.8961 - val_loss: 56.1423 - val_accuracy: 0.8449\n",
            "Epoch 7/10\n",
            "1875/1875 [==============================] - 7s 3ms/step - loss: 0.2650 - accuracy: 0.9011 - val_loss: 54.0217 - val_accuracy: 0.8590\n",
            "Epoch 8/10\n",
            "1875/1875 [==============================] - 6s 3ms/step - loss: 0.2536 - accuracy: 0.9045 - val_loss: 55.4336 - val_accuracy: 0.8564\n",
            "Epoch 9/10\n",
            "1875/1875 [==============================] - 7s 4ms/step - loss: 0.2442 - accuracy: 0.9086 - val_loss: 57.0073 - val_accuracy: 0.8597\n",
            "Epoch 10/10\n",
            "1875/1875 [==============================] - 6s 3ms/step - loss: 0.2368 - accuracy: 0.9100 - val_loss: 72.1246 - val_accuracy: 0.8320\n"
          ]
        }
      ]
    },
    {
      "cell_type": "code",
      "source": [
        "#make two model(normalized and non-normalized) plot\n",
        "\n",
        "#non normalized\n",
        "pd.DataFrame(non_norm_history.history).plot(title= 'Non Normalized Data')\n",
        "\n",
        "#normalized data\n",
        "pd.DataFrame(norm_histr.history).plot(title= 'Normalized Data')\n",
        "#show the model\n",
        "plt.show()"
      ],
      "metadata": {
        "id": "m5ndJov2OzoN",
        "colab": {
          "base_uri": "https://localhost:8080/",
          "height": 887
        },
        "outputId": "2797a47e-ee6e-4b72-d6bc-b22f65f20c3f"
      },
      "execution_count": 24,
      "outputs": [
        {
          "output_type": "display_data",
          "data": {
            "text/plain": [
              "<Figure size 640x480 with 1 Axes>"
            ],
            "image/png": "[encoded data removed]"
          },
          "metadata": {}
        },
        {
          "output_type": "display_data",
          "data": {
            "text/plain": [
              "<Figure size 640x480 with 1 Axes>"
            ],
            "image/png": "[encoded data removed]"
          },
          "metadata": {}
        }
      ]
    },
    {
      "cell_type": "markdown",
      "source": [
        "# Finding ideal learning rate for Multiclass Classififcation Model"
      ],
      "metadata": {
        "id": "cRvEKU3eOzl7"
      }
    },
    {
      "cell_type": "code",
      "source": [
        "#set the random seed\n",
        "tf.random.set_seed(42)\n",
        "\n",
        "#create the model\n",
        "multi_class_model_3 = tf.keras.models.Sequential([\n",
        "    tf.keras.layers.Flatten(input_shape=(28,28)),\n",
        "    tf.keras.layers.Dense(100, activation= 'relu'),\n",
        "    tf.keras.layers.Dense(100, activation= 'relu'),\n",
        "    tf.keras.layers.Dense(10, activation= 'softmax')\n",
        "])\n",
        "\n",
        "#compile the model\n",
        "multi_class_model_3.compile(loss= tf.keras.losses.SparseCategoricalCrossentropy(),\n",
        "                            optimizer = tf.keras.optimizers.Adam(),\n",
        "                            metrics= ['accuracy'])\n",
        "\n",
        "#set the lr_scheduler(which means LearningRateScheduler)\n",
        "lr_scheduler = tf.keras.callbacks.LearningRateScheduler(lambda epoch: 0.001 * 10**(epoch/20))\n",
        "\n",
        "#fit the model\n",
        "multi_class_model_3_hist = multi_class_model_3.fit(nor_train_data,train_labels,\n",
        "                        epochs= 50,\n",
        "                        callbacks= [lr_scheduler],\n",
        "                        validation_data= (nor_test_data,test_labels))"
      ],
      "metadata": {
        "colab": {
          "base_uri": "https://localhost:8080/"
        },
        "id": "p0wgZMkKFdqJ",
        "outputId": "cd19969a-a035-4721-9a92-e5baf334d250"
      },
      "execution_count": 43,
      "outputs": [
        {
          "output_type": "stream",
          "name": "stdout",
          "text": [
            "Epoch 1/50\n",
            "1875/1875 [==============================] - 17s 7ms/step - loss: 0.4926 - accuracy: 0.8234 - val_loss: 0.4157 - val_accuracy: 0.8464 - lr: 0.0010\n",
            "Epoch 2/50\n",
            "1875/1875 [==============================] - 7s 4ms/step - loss: 0.3719 - accuracy: 0.8635 - val_loss: 0.4335 - val_accuracy: 0.8503 - lr: 0.0011\n",
            "Epoch 3/50\n",
            "1875/1875 [==============================] - 6s 3ms/step - loss: 0.3438 - accuracy: 0.8748 - val_loss: 0.4020 - val_accuracy: 0.8554 - lr: 0.0013\n",
            "Epoch 4/50\n",
            "1875/1875 [==============================] - 7s 4ms/step - loss: 0.3237 - accuracy: 0.8812 - val_loss: 0.3963 - val_accuracy: 0.8585 - lr: 0.0014\n",
            "Epoch 5/50\n",
            "1875/1875 [==============================] - 6s 3ms/step - loss: 0.3118 - accuracy: 0.8841 - val_loss: 0.3607 - val_accuracy: 0.8690 - lr: 0.0016\n",
            "Epoch 6/50\n",
            "1875/1875 [==============================] - 7s 4ms/step - loss: 0.3016 - accuracy: 0.8870 - val_loss: 0.3691 - val_accuracy: 0.8652 - lr: 0.0018\n",
            "Epoch 7/50\n",
            "1875/1875 [==============================] - 6s 3ms/step - loss: 0.3017 - accuracy: 0.8886 - val_loss: 0.3836 - val_accuracy: 0.8617 - lr: 0.0020\n",
            "Epoch 8/50\n",
            "1875/1875 [==============================] - 7s 4ms/step - loss: 0.2958 - accuracy: 0.8893 - val_loss: 0.3742 - val_accuracy: 0.8665 - lr: 0.0022\n",
            "Epoch 9/50\n",
            "1875/1875 [==============================] - 6s 3ms/step - loss: 0.2946 - accuracy: 0.8904 - val_loss: 0.3670 - val_accuracy: 0.8682 - lr: 0.0025\n",
            "Epoch 10/50\n",
            "1875/1875 [==============================] - 7s 4ms/step - loss: 0.2967 - accuracy: 0.8890 - val_loss: 0.3777 - val_accuracy: 0.8657 - lr: 0.0028\n",
            "Epoch 11/50\n",
            "1875/1875 [==============================] - 7s 4ms/step - loss: 0.2954 - accuracy: 0.8902 - val_loss: 0.4144 - val_accuracy: 0.8589 - lr: 0.0032\n",
            "Epoch 12/50\n",
            "1875/1875 [==============================] - 7s 4ms/step - loss: 0.3014 - accuracy: 0.8892 - val_loss: 0.3852 - val_accuracy: 0.8696 - lr: 0.0035\n",
            "Epoch 13/50\n",
            "1875/1875 [==============================] - 7s 4ms/step - loss: 0.3012 - accuracy: 0.8885 - val_loss: 0.3895 - val_accuracy: 0.8648 - lr: 0.0040\n",
            "Epoch 14/50\n",
            "1875/1875 [==============================] - 7s 4ms/step - loss: 0.3068 - accuracy: 0.8888 - val_loss: 0.3960 - val_accuracy: 0.8631 - lr: 0.0045\n",
            "Epoch 15/50\n",
            "1875/1875 [==============================] - 7s 4ms/step - loss: 0.3153 - accuracy: 0.8860 - val_loss: 0.3937 - val_accuracy: 0.8543 - lr: 0.0050\n",
            "Epoch 16/50\n",
            "1875/1875 [==============================] - 7s 4ms/step - loss: 0.3265 - accuracy: 0.8816 - val_loss: 0.4286 - val_accuracy: 0.8566 - lr: 0.0056\n",
            "Epoch 17/50\n",
            "1875/1875 [==============================] - 8s 4ms/step - loss: 0.3302 - accuracy: 0.8820 - val_loss: 0.4173 - val_accuracy: 0.8626 - lr: 0.0063\n",
            "Epoch 18/50\n",
            "1875/1875 [==============================] - 6s 3ms/step - loss: 0.3438 - accuracy: 0.8801 - val_loss: 0.4105 - val_accuracy: 0.8700 - lr: 0.0071\n",
            "Epoch 19/50\n",
            "1875/1875 [==============================] - 7s 4ms/step - loss: 0.3518 - accuracy: 0.8764 - val_loss: 0.4089 - val_accuracy: 0.8675 - lr: 0.0079\n",
            "Epoch 20/50\n",
            "1875/1875 [==============================] - 7s 3ms/step - loss: 0.3542 - accuracy: 0.8765 - val_loss: 0.4366 - val_accuracy: 0.8641 - lr: 0.0089\n",
            "Epoch 21/50\n",
            "1875/1875 [==============================] - 7s 4ms/step - loss: 0.3716 - accuracy: 0.8728 - val_loss: 0.4329 - val_accuracy: 0.8585 - lr: 0.0100\n",
            "Epoch 22/50\n",
            "1875/1875 [==============================] - 7s 4ms/step - loss: 0.3776 - accuracy: 0.8729 - val_loss: 0.4522 - val_accuracy: 0.8487 - lr: 0.0112\n",
            "Epoch 23/50\n",
            "1875/1875 [==============================] - 6s 3ms/step - loss: 0.4071 - accuracy: 0.8645 - val_loss: 0.5579 - val_accuracy: 0.8276 - lr: 0.0126\n",
            "Epoch 24/50\n",
            "1875/1875 [==============================] - 7s 4ms/step - loss: 0.4252 - accuracy: 0.8612 - val_loss: 0.4858 - val_accuracy: 0.8496 - lr: 0.0141\n",
            "Epoch 25/50\n",
            "1875/1875 [==============================] - 6s 3ms/step - loss: 0.4513 - accuracy: 0.8536 - val_loss: 0.5500 - val_accuracy: 0.8220 - lr: 0.0158\n",
            "Epoch 26/50\n",
            "1875/1875 [==============================] - 7s 4ms/step - loss: 0.4727 - accuracy: 0.8458 - val_loss: 0.4948 - val_accuracy: 0.8465 - lr: 0.0178\n",
            "Epoch 27/50\n",
            "1875/1875 [==============================] - 7s 4ms/step - loss: 0.4654 - accuracy: 0.8497 - val_loss: 0.5888 - val_accuracy: 0.8228 - lr: 0.0200\n",
            "Epoch 28/50\n",
            "1875/1875 [==============================] - 7s 4ms/step - loss: 0.5796 - accuracy: 0.8197 - val_loss: 0.6526 - val_accuracy: 0.8153 - lr: 0.0224\n",
            "Epoch 29/50\n",
            "1875/1875 [==============================] - 6s 3ms/step - loss: 0.7284 - accuracy: 0.7767 - val_loss: 0.8933 - val_accuracy: 0.7562 - lr: 0.0251\n",
            "Epoch 30/50\n",
            "1875/1875 [==============================] - 8s 4ms/step - loss: 0.6485 - accuracy: 0.7946 - val_loss: 0.7618 - val_accuracy: 0.7888 - lr: 0.0282\n",
            "Epoch 31/50\n",
            "1875/1875 [==============================] - 7s 4ms/step - loss: 0.9431 - accuracy: 0.6779 - val_loss: 0.9688 - val_accuracy: 0.6320 - lr: 0.0316\n",
            "Epoch 32/50\n",
            "1875/1875 [==============================] - 6s 3ms/step - loss: 0.9339 - accuracy: 0.6794 - val_loss: 1.0847 - val_accuracy: 0.7129 - lr: 0.0355\n",
            "Epoch 33/50\n",
            "1875/1875 [==============================] - 8s 4ms/step - loss: 1.3471 - accuracy: 0.5444 - val_loss: 1.8597 - val_accuracy: 0.2824 - lr: 0.0398\n",
            "Epoch 34/50\n",
            "1875/1875 [==============================] - 6s 3ms/step - loss: 1.9346 - accuracy: 0.2581 - val_loss: 1.9881 - val_accuracy: 0.2354 - lr: 0.0447\n",
            "Epoch 35/50\n",
            "1875/1875 [==============================] - 7s 4ms/step - loss: 2.1179 - accuracy: 0.2033 - val_loss: 2.1408 - val_accuracy: 0.1762 - lr: 0.0501\n",
            "Epoch 36/50\n",
            "1875/1875 [==============================] - 6s 3ms/step - loss: 2.1917 - accuracy: 0.1528 - val_loss: 2.3120 - val_accuracy: 0.1022 - lr: 0.0562\n",
            "Epoch 37/50\n",
            "1875/1875 [==============================] - 7s 4ms/step - loss: 2.3042 - accuracy: 0.1019 - val_loss: 2.3094 - val_accuracy: 0.1022 - lr: 0.0631\n",
            "Epoch 38/50\n",
            "1875/1875 [==============================] - 6s 3ms/step - loss: 2.3052 - accuracy: 0.1034 - val_loss: 2.3139 - val_accuracy: 0.1022 - lr: 0.0708\n",
            "Epoch 39/50\n",
            "1875/1875 [==============================] - 7s 4ms/step - loss: 2.3058 - accuracy: 0.1027 - val_loss: 2.3168 - val_accuracy: 0.1022 - lr: 0.0794\n",
            "Epoch 40/50\n",
            "1875/1875 [==============================] - 6s 3ms/step - loss: 2.3067 - accuracy: 0.1065 - val_loss: 2.3155 - val_accuracy: 0.1022 - lr: 0.0891\n",
            "Epoch 41/50\n",
            "1875/1875 [==============================] - 7s 4ms/step - loss: 2.3079 - accuracy: 0.0995 - val_loss: 2.3296 - val_accuracy: 0.1022 - lr: 0.1000\n",
            "Epoch 42/50\n",
            "1875/1875 [==============================] - 6s 3ms/step - loss: 2.3091 - accuracy: 0.1038 - val_loss: 2.3290 - val_accuracy: 0.1022 - lr: 0.1122\n",
            "Epoch 43/50\n",
            "1875/1875 [==============================] - 7s 4ms/step - loss: 2.3126 - accuracy: 0.1028 - val_loss: 2.3253 - val_accuracy: 0.1022 - lr: 0.1259\n",
            "Epoch 44/50\n",
            "1875/1875 [==============================] - 6s 3ms/step - loss: 2.3147 - accuracy: 0.1030 - val_loss: 2.3188 - val_accuracy: 0.1022 - lr: 0.1413\n",
            "Epoch 45/50\n",
            "1875/1875 [==============================] - 7s 4ms/step - loss: 2.3158 - accuracy: 0.1024 - val_loss: 2.3318 - val_accuracy: 0.1000 - lr: 0.1585\n",
            "Epoch 46/50\n",
            "1875/1875 [==============================] - 6s 3ms/step - loss: 2.3188 - accuracy: 0.1025 - val_loss: 2.3196 - val_accuracy: 0.1022 - lr: 0.1778\n",
            "Epoch 47/50\n",
            "1875/1875 [==============================] - 7s 4ms/step - loss: 2.3212 - accuracy: 0.1001 - val_loss: 2.3426 - val_accuracy: 0.1022 - lr: 0.1995\n",
            "Epoch 48/50\n",
            "1875/1875 [==============================] - 6s 3ms/step - loss: 2.3250 - accuracy: 0.1005 - val_loss: 2.3285 - val_accuracy: 0.1022 - lr: 0.2239\n",
            "Epoch 49/50\n",
            "1875/1875 [==============================] - 7s 4ms/step - loss: 2.3263 - accuracy: 0.1041 - val_loss: 2.3646 - val_accuracy: 0.1022 - lr: 0.2512\n",
            "Epoch 50/50\n",
            "1875/1875 [==============================] - 7s 4ms/step - loss: 2.3318 - accuracy: 0.1005 - val_loss: 2.3298 - val_accuracy: 0.1022 - lr: 0.2818\n"
          ]
        }
      ]
    },
    {
      "cell_type": "code",
      "source": [
        "#lr,acc and loss\n",
        "pd.DataFrame(multi_class_model_3_hist.history)"
      ],
      "metadata": {
        "colab": {
          "base_uri": "https://localhost:8080/",
          "height": 1000
        },
        "id": "wM6WKBgwFdnk",
        "outputId": "38f1a1c8-4cb2-4206-fccf-e91f2e816a2a"
      },
      "execution_count": 44,
      "outputs": [
        {
          "output_type": "execute_result",
          "data": {
            "text/plain": [
              "        loss  accuracy  val_loss  val_accuracy        lr\n",
              "0   0.492570  0.823350  0.415723        0.8464  0.001000\n",
              "1   0.371946  0.863467  0.433477        0.8503  0.001122\n",
              "2   0.343828  0.874750  0.401951        0.8554  0.001259\n",
              "3   0.323673  0.881150  0.396336        0.8585  0.001413\n",
              "4   0.311796  0.884133  0.360715        0.8690  0.001585\n",
              "5   0.301643  0.887033  0.369056        0.8652  0.001778\n",
              "6   0.301724  0.888617  0.383601        0.8617  0.001995\n",
              "7   0.295757  0.889283  0.374163        0.8665  0.002239\n",
              "8   0.294576  0.890383  0.366967        0.8682  0.002512\n",
              "9   0.296737  0.889033  0.377717        0.8657  0.002818\n",
              "10  0.295428  0.890183  0.414442        0.8589  0.003162\n",
              "11  0.301372  0.889183  0.385229        0.8696  0.003548\n",
              "12  0.301246  0.888500  0.389465        0.8648  0.003981\n",
              "13  0.306766  0.888750  0.395964        0.8631  0.004467\n",
              "14  0.315286  0.885950  0.393720        0.8543  0.005012\n",
              "15  0.326523  0.881600  0.428620        0.8566  0.005623\n",
              "16  0.330226  0.881967  0.417297        0.8626  0.006310\n",
              "17  0.343750  0.880117  0.410538        0.8700  0.007079\n",
              "18  0.351839  0.876383  0.408917        0.8675  0.007943\n",
              "19  0.354221  0.876483  0.436629        0.8641  0.008913\n",
              "20  0.371607  0.872767  0.432874        0.8585  0.010000\n",
              "21  0.377618  0.872883  0.452176        0.8487  0.011220\n",
              "22  0.407072  0.864533  0.557936        0.8276  0.012589\n",
              "23  0.425205  0.861150  0.485799        0.8496  0.014125\n",
              "24  0.451306  0.853650  0.549954        0.8220  0.015849\n",
              "25  0.472734  0.845850  0.494813        0.8465  0.017783\n",
              "26  0.465439  0.849683  0.588782        0.8228  0.019953\n",
              "27  0.579594  0.819733  0.652557        0.8153  0.022387\n",
              "28  0.728399  0.776683  0.893260        0.7562  0.025119\n",
              "29  0.648466  0.794550  0.761755        0.7888  0.028184\n",
              "30  0.943093  0.677850  0.968839        0.6320  0.031623\n",
              "31  0.933850  0.679417  1.084679        0.7129  0.035481\n",
              "32  1.347124  0.544383  1.859724        0.2824  0.039811\n",
              "33  1.934634  0.258117  1.988103        0.2354  0.044668\n",
              "34  2.117933  0.203317  2.140771        0.1762  0.050119\n",
              "35  2.191718  0.152750  2.312015        0.1022  0.056234\n",
              "36  2.304219  0.101850  2.309449        0.1022  0.063096\n",
              "37  2.305225  0.103433  2.313930        0.1022  0.070795\n",
              "38  2.305769  0.102683  2.316810        0.1022  0.079433\n",
              "39  2.306658  0.106517  2.315526        0.1022  0.089125\n",
              "40  2.307924  0.099517  2.329595        0.1022  0.100000\n",
              "41  2.309073  0.103800  2.328966        0.1022  0.112202\n",
              "42  2.312644  0.102800  2.325336        0.1022  0.125893\n",
              "43  2.314656  0.103000  2.318759        0.1022  0.141254\n",
              "44  2.315844  0.102367  2.331752        0.1000  0.158489\n",
              "45  2.318789  0.102533  2.319620        0.1022  0.177828\n",
              "46  2.321173  0.100100  2.342557        0.1022  0.199526\n",
              "47  2.325007  0.100450  2.328511        0.1022  0.223872\n",
              "48  2.326329  0.104067  2.364627        0.1022  0.251189\n",
              "49  2.331752  0.100517  2.329794        0.1022  0.281838"
            ],
            "text/html": [
              "\n",
              "  <div id=\"df-72ea05ff-b6b5-4947-b06b-f90635937a1a\">\n",
              "    <div class=\"colab-df-container\">\n",
              "      <div>\n",
              "<style scoped>\n",
              "    .dataframe tbody tr th:only-of-type {\n",
              "        vertical-align: middle;\n",
              "    }\n",
              "\n",
              "    .dataframe tbody tr th {\n",
              "        vertical-align: top;\n",
              "    }\n",
              "\n",
              "    .dataframe thead th {\n",
              "        text-align: right;\n",
              "    }\n",
              "</style>\n",
              "<table border=\"1\" class=\"dataframe\">\n",
              "  <thead>\n",
              "    <tr style=\"text-align: right;\">\n",
              "      <th></th>\n",
              "      <th>loss</th>\n",
              "      <th>accuracy</th>\n",
              "      <th>val_loss</th>\n",
              "      <th>val_accuracy</th>\n",
              "      <th>lr</th>\n",
              "    </tr>\n",
              "  </thead>\n",
              "  <tbody>\n",
              "    <tr>\n",
              "      <th>0</th>\n",
              "      <td>0.492570</td>\n",
              "      <td>0.823350</td>\n",
              "      <td>0.415723</td>\n",
              "      <td>0.8464</td>\n",
              "      <td>0.001000</td>\n",
              "    </tr>\n",
              "    <tr>\n",
              "      <th>1</th>\n",
              "      <td>0.371946</td>\n",
              "      <td>0.863467</td>\n",
              "      <td>0.433477</td>\n",
              "      <td>0.8503</td>\n",
              "      <td>0.001122</td>\n",
              "    </tr>\n",
              "    <tr>\n",
              "      <th>2</th>\n",
              "      <td>0.343828</td>\n",
              "      <td>0.874750</td>\n",
              "      <td>0.401951</td>\n",
              "      <td>0.8554</td>\n",
              "      <td>0.001259</td>\n",
              "    </tr>\n",
              "    <tr>\n",
              "      <th>3</th>\n",
              "      <td>0.323673</td>\n",
              "      <td>0.881150</td>\n",
              "      <td>0.396336</td>\n",
              "      <td>0.8585</td>\n",
              "      <td>0.001413</td>\n",
              "    </tr>\n",
              "    <tr>\n",
              "      <th>4</th>\n",
              "      <td>0.311796</td>\n",
              "      <td>0.884133</td>\n",
              "      <td>0.360715</td>\n",
              "      <td>0.8690</td>\n",
              "      <td>0.001585</td>\n",
              "    </tr>\n",
              "    <tr>\n",
              "      <th>5</th>\n",
              "      <td>0.301643</td>\n",
              "      <td>0.887033</td>\n",
              "      <td>0.369056</td>\n",
              "      <td>0.8652</td>\n",
              "      <td>0.001778</td>\n",
              "    </tr>\n",
              "    <tr>\n",
              "      <th>6</th>\n",
              "      <td>0.301724</td>\n",
              "      <td>0.888617</td>\n",
              "      <td>0.383601</td>\n",
              "      <td>0.8617</td>\n",
              "      <td>0.001995</td>\n",
              "    </tr>\n",
              "    <tr>\n",
              "      <th>7</th>\n",
              "      <td>0.295757</td>\n",
              "      <td>0.889283</td>\n",
              "      <td>0.374163</td>\n",
              "      <td>0.8665</td>\n",
              "      <td>0.002239</td>\n",
              "    </tr>\n",
              "    <tr>\n",
              "      <th>8</th>\n",
              "      <td>0.294576</td>\n",
              "      <td>0.890383</td>\n",
              "      <td>0.366967</td>\n",
              "      <td>0.8682</td>\n",
              "      <td>0.002512</td>\n",
              "    </tr>\n",
              "    <tr>\n",
              "      <th>9</th>\n",
              "      <td>0.296737</td>\n",
              "      <td>0.889033</td>\n",
              "      <td>0.377717</td>\n",
              "      <td>0.8657</td>\n",
              "      <td>0.002818</td>\n",
              "    </tr>\n",
              "    <tr>\n",
              "      <th>10</th>\n",
              "      <td>0.295428</td>\n",
              "      <td>0.890183</td>\n",
              "      <td>0.414442</td>\n",
              "      <td>0.8589</td>\n",
              "      <td>0.003162</td>\n",
              "    </tr>\n",
              "    <tr>\n",
              "      <th>11</th>\n",
              "      <td>0.301372</td>\n",
              "      <td>0.889183</td>\n",
              "      <td>0.385229</td>\n",
              "      <td>0.8696</td>\n",
              "      <td>0.003548</td>\n",
              "    </tr>\n",
              "    <tr>\n",
              "      <th>12</th>\n",
              "      <td>0.301246</td>\n",
              "      <td>0.888500</td>\n",
              "      <td>0.389465</td>\n",
              "      <td>0.8648</td>\n",
              "      <td>0.003981</td>\n",
              "    </tr>\n",
              "    <tr>\n",
              "      <th>13</th>\n",
              "      <td>0.306766</td>\n",
              "      <td>0.888750</td>\n",
              "      <td>0.395964</td>\n",
              "      <td>0.8631</td>\n",
              "      <td>0.004467</td>\n",
              "    </tr>\n",
              "    <tr>\n",
              "      <th>14</th>\n",
              "      <td>0.315286</td>\n",
              "      <td>0.885950</td>\n",
              "      <td>0.393720</td>\n",
              "      <td>0.8543</td>\n",
              "      <td>0.005012</td>\n",
              "    </tr>\n",
              "    <tr>\n",
              "      <th>15</th>\n",
              "      <td>0.326523</td>\n",
              "      <td>0.881600</td>\n",
              "      <td>0.428620</td>\n",
              "      <td>0.8566</td>\n",
              "      <td>0.005623</td>\n",
              "    </tr>\n",
              "    <tr>\n",
              "      <th>16</th>\n",
              "      <td>0.330226</td>\n",
              "      <td>0.881967</td>\n",
              "      <td>0.417297</td>\n",
              "      <td>0.8626</td>\n",
              "      <td>0.006310</td>\n",
              "    </tr>\n",
              "    <tr>\n",
              "      <th>17</th>\n",
              "      <td>0.343750</td>\n",
              "      <td>0.880117</td>\n",
              "      <td>0.410538</td>\n",
              "      <td>0.8700</td>\n",
              "      <td>0.007079</td>\n",
              "    </tr>\n",
              "    <tr>\n",
              "      <th>18</th>\n",
              "      <td>0.351839</td>\n",
              "      <td>0.876383</td>\n",
              "      <td>0.408917</td>\n",
              "      <td>0.8675</td>\n",
              "      <td>0.007943</td>\n",
              "    </tr>\n",
              "    <tr>\n",
              "      <th>19</th>\n",
              "      <td>0.354221</td>\n",
              "      <td>0.876483</td>\n",
              "      <td>0.436629</td>\n",
              "      <td>0.8641</td>\n",
              "      <td>0.008913</td>\n",
              "    </tr>\n",
              "    <tr>\n",
              "      <th>20</th>\n",
              "      <td>0.371607</td>\n",
              "      <td>0.872767</td>\n",
              "      <td>0.432874</td>\n",
              "      <td>0.8585</td>\n",
              "      <td>0.010000</td>\n",
              "    </tr>\n",
              "    <tr>\n",
              "      <th>21</th>\n",
              "      <td>0.377618</td>\n",
              "      <td>0.872883</td>\n",
              "      <td>0.452176</td>\n",
              "      <td>0.8487</td>\n",
              "      <td>0.011220</td>\n",
              "    </tr>\n",
              "    <tr>\n",
              "      <th>22</th>\n",
              "      <td>0.407072</td>\n",
              "      <td>0.864533</td>\n",
              "      <td>0.557936</td>\n",
              "      <td>0.8276</td>\n",
              "      <td>0.012589</td>\n",
              "    </tr>\n",
              "    <tr>\n",
              "      <th>23</th>\n",
              "      <td>0.425205</td>\n",
              "      <td>0.861150</td>\n",
              "      <td>0.485799</td>\n",
              "      <td>0.8496</td>\n",
              "      <td>0.014125</td>\n",
              "    </tr>\n",
              "    <tr>\n",
              "      <th>24</th>\n",
              "      <td>0.451306</td>\n",
              "      <td>0.853650</td>\n",
              "      <td>0.549954</td>\n",
              "      <td>0.8220</td>\n",
              "      <td>0.015849</td>\n",
              "    </tr>\n",
              "    <tr>\n",
              "      <th>25</th>\n",
              "      <td>0.472734</td>\n",
              "      <td>0.845850</td>\n",
              "      <td>0.494813</td>\n",
              "      <td>0.8465</td>\n",
              "      <td>0.017783</td>\n",
              "    </tr>\n",
              "    <tr>\n",
              "      <th>26</th>\n",
              "      <td>0.465439</td>\n",
              "      <td>0.849683</td>\n",
              "      <td>0.588782</td>\n",
              "      <td>0.8228</td>\n",
              "      <td>0.019953</td>\n",
              "    </tr>\n",
              "    <tr>\n",
              "      <th>27</th>\n",
              "      <td>0.579594</td>\n",
              "      <td>0.819733</td>\n",
              "      <td>0.652557</td>\n",
              "      <td>0.8153</td>\n",
              "      <td>0.022387</td>\n",
              "    </tr>\n",
              "    <tr>\n",
              "      <th>28</th>\n",
              "      <td>0.728399</td>\n",
              "      <td>0.776683</td>\n",
              "      <td>0.893260</td>\n",
              "      <td>0.7562</td>\n",
              "      <td>0.025119</td>\n",
              "    </tr>\n",
              "    <tr>\n",
              "      <th>29</th>\n",
              "      <td>0.648466</td>\n",
              "      <td>0.794550</td>\n",
              "      <td>0.761755</td>\n",
              "      <td>0.7888</td>\n",
              "      <td>0.028184</td>\n",
              "    </tr>\n",
              "    <tr>\n",
              "      <th>30</th>\n",
              "      <td>0.943093</td>\n",
              "      <td>0.677850</td>\n",
              "      <td>0.968839</td>\n",
              "      <td>0.6320</td>\n",
              "      <td>0.031623</td>\n",
              "    </tr>\n",
              "    <tr>\n",
              "      <th>31</th>\n",
              "      <td>0.933850</td>\n",
              "      <td>0.679417</td>\n",
              "      <td>1.084679</td>\n",
              "      <td>0.7129</td>\n",
              "      <td>0.035481</td>\n",
              "    </tr>\n",
              "    <tr>\n",
              "      <th>32</th>\n",
              "      <td>1.347124</td>\n",
              "      <td>0.544383</td>\n",
              "      <td>1.859724</td>\n",
              "      <td>0.2824</td>\n",
              "      <td>0.039811</td>\n",
              "    </tr>\n",
              "    <tr>\n",
              "      <th>33</th>\n",
              "      <td>1.934634</td>\n",
              "      <td>0.258117</td>\n",
              "      <td>1.988103</td>\n",
              "      <td>0.2354</td>\n",
              "      <td>0.044668</td>\n",
              "    </tr>\n",
              "    <tr>\n",
              "      <th>34</th>\n",
              "      <td>2.117933</td>\n",
              "      <td>0.203317</td>\n",
              "      <td>2.140771</td>\n",
              "      <td>0.1762</td>\n",
              "      <td>0.050119</td>\n",
              "    </tr>\n",
              "    <tr>\n",
              "      <th>35</th>\n",
              "      <td>2.191718</td>\n",
              "      <td>0.152750</td>\n",
              "      <td>2.312015</td>\n",
              "      <td>0.1022</td>\n",
              "      <td>0.056234</td>\n",
              "    </tr>\n",
              "    <tr>\n",
              "      <th>36</th>\n",
              "      <td>2.304219</td>\n",
              "      <td>0.101850</td>\n",
              "      <td>2.309449</td>\n",
              "      <td>0.1022</td>\n",
              "      <td>0.063096</td>\n",
              "    </tr>\n",
              "    <tr>\n",
              "      <th>37</th>\n",
              "      <td>2.305225</td>\n",
              "      <td>0.103433</td>\n",
              "      <td>2.313930</td>\n",
              "      <td>0.1022</td>\n",
              "      <td>0.070795</td>\n",
              "    </tr>\n",
              "    <tr>\n",
              "      <th>38</th>\n",
              "      <td>2.305769</td>\n",
              "      <td>0.102683</td>\n",
              "      <td>2.316810</td>\n",
              "      <td>0.1022</td>\n",
              "      <td>0.079433</td>\n",
              "    </tr>\n",
              "    <tr>\n",
              "      <th>39</th>\n",
              "      <td>2.306658</td>\n",
              "      <td>0.106517</td>\n",
              "      <td>2.315526</td>\n",
              "      <td>0.1022</td>\n",
              "      <td>0.089125</td>\n",
              "    </tr>\n",
              "    <tr>\n",
              "      <th>40</th>\n",
              "      <td>2.307924</td>\n",
              "      <td>0.099517</td>\n",
              "      <td>2.329595</td>\n",
              "      <td>0.1022</td>\n",
              "      <td>0.100000</td>\n",
              "    </tr>\n",
              "    <tr>\n",
              "      <th>41</th>\n",
              "      <td>2.309073</td>\n",
              "      <td>0.103800</td>\n",
              "      <td>2.328966</td>\n",
              "      <td>0.1022</td>\n",
              "      <td>0.112202</td>\n",
              "    </tr>\n",
              "    <tr>\n",
              "      <th>42</th>\n",
              "      <td>2.312644</td>\n",
              "      <td>0.102800</td>\n",
              "      <td>2.325336</td>\n",
              "      <td>0.1022</td>\n",
              "      <td>0.125893</td>\n",
              "    </tr>\n",
              "    <tr>\n",
              "      <th>43</th>\n",
              "      <td>2.314656</td>\n",
              "      <td>0.103000</td>\n",
              "      <td>2.318759</td>\n",
              "      <td>0.1022</td>\n",
              "      <td>0.141254</td>\n",
              "    </tr>\n",
              "    <tr>\n",
              "      <th>44</th>\n",
              "      <td>2.315844</td>\n",
              "      <td>0.102367</td>\n",
              "      <td>2.331752</td>\n",
              "      <td>0.1000</td>\n",
              "      <td>0.158489</td>\n",
              "    </tr>\n",
              "    <tr>\n",
              "      <th>45</th>\n",
              "      <td>2.318789</td>\n",
              "      <td>0.102533</td>\n",
              "      <td>2.319620</td>\n",
              "      <td>0.1022</td>\n",
              "      <td>0.177828</td>\n",
              "    </tr>\n",
              "    <tr>\n",
              "      <th>46</th>\n",
              "      <td>2.321173</td>\n",
              "      <td>0.100100</td>\n",
              "      <td>2.342557</td>\n",
              "      <td>0.1022</td>\n",
              "      <td>0.199526</td>\n",
              "    </tr>\n",
              "    <tr>\n",
              "      <th>47</th>\n",
              "      <td>2.325007</td>\n",
              "      <td>0.100450</td>\n",
              "      <td>2.328511</td>\n",
              "      <td>0.1022</td>\n",
              "      <td>0.223872</td>\n",
              "    </tr>\n",
              "    <tr>\n",
              "      <th>48</th>\n",
              "      <td>2.326329</td>\n",
              "      <td>0.104067</td>\n",
              "      <td>2.364627</td>\n",
              "      <td>0.1022</td>\n",
              "      <td>0.251189</td>\n",
              "    </tr>\n",
              "    <tr>\n",
              "      <th>49</th>\n",
              "      <td>2.331752</td>\n",
              "      <td>0.100517</td>\n",
              "      <td>2.329794</td>\n",
              "      <td>0.1022</td>\n",
              "      <td>0.281838</td>\n",
              "    </tr>\n",
              "  </tbody>\n",
              "</table>\n",
              "</div>\n",
              "      <button class=\"colab-df-convert\" onclick=\"convertToInteractive('df-72ea05ff-b6b5-4947-b06b-f90635937a1a')\"\n",
              "              title=\"Convert this dataframe to an interactive table.\"\n",
              "              style=\"display:none;\">\n",
              "        \n",
              "  <svg xmlns=\"http://www.w3.org/2000/svg\" height=\"24px\"viewBox=\"0 0 24 24\"\n",
              "       width=\"24px\">\n",
              "    <path d=\"M0 0h24v24H0V0z\" fill=\"none\"/>\n",
              "    <path d=\"M18.56 5.44l.94 2.06.94-2.06 2.06-.94-2.06-.94-.94-2.06-.94 2.06-2.06.94zm-11 1L8.5 8.5l.94-2.06 2.06-.94-2.06-.94L8.5 2.5l-.94 2.06-2.06.94zm10 10l.94 2.06.94-2.06 2.06-.94-2.06-.94-.94-2.06-.94 2.06-2.06.94z\"/><path d=\"M17.41 7.96l-1.37-1.37c-.4-.4-.92-.59-1.43-.59-.52 0-1.04.2-1.43.59L10.3 9.45l-7.72 7.72c-.78.78-.78 2.05 0 2.83L4 21.41c.39.39.9.59 1.41.59.51 0 1.02-.2 1.41-.59l7.78-7.78 2.81-2.81c.8-.78.8-2.07 0-2.86zM5.41 20L4 18.59l7.72-7.72 1.47 1.35L5.41 20z\"/>\n",
              "  </svg>\n",
              "      </button>\n",
              "      \n",
              "  <style>\n",
              "    .colab-df-container {\n",
              "      display:flex;\n",
              "      flex-wrap:wrap;\n",
              "      gap: 12px;\n",
              "    }\n",
              "\n",
              "    .colab-df-convert {\n",
              "      background-color: #E8F0FE;\n",
              "      border: none;\n",
              "      border-radius: 50%;\n",
              "      cursor: pointer;\n",
              "      display: none;\n",
              "      fill: #1967D2;\n",
              "      height: 32px;\n",
              "      padding: 0 0 0 0;\n",
              "      width: 32px;\n",
              "    }\n",
              "\n",
              "    .colab-df-convert:hover {\n",
              "      background-color: #E2EBFA;\n",
              "      box-shadow: 0px 1px 2px rgba(60, 64, 67, 0.3), 0px 1px 3px 1px rgba(60, 64, 67, 0.15);\n",
              "      fill: #174EA6;\n",
              "    }\n",
              "\n",
              "    [theme=dark] .colab-df-convert {\n",
              "      background-color: #3B4455;\n",
              "      fill: #D2E3FC;\n",
              "    }\n",
              "\n",
              "    [theme=dark] .colab-df-convert:hover {\n",
              "      background-color: #434B5C;\n",
              "      box-shadow: 0px 1px 3px 1px rgba(0, 0, 0, 0.15);\n",
              "      filter: drop-shadow(0px 1px 2px rgba(0, 0, 0, 0.3));\n",
              "      fill: #FFFFFF;\n",
              "    }\n",
              "  </style>\n",
              "\n",
              "      <script>\n",
              "        const buttonEl =\n",
              "          document.querySelector('#df-72ea05ff-b6b5-4947-b06b-f90635937a1a button.colab-df-convert');\n",
              "        buttonEl.style.display =\n",
              "          google.colab.kernel.accessAllowed ? 'block' : 'none';\n",
              "\n",
              "        async function convertToInteractive(key) {\n",
              "          const element = document.querySelector('#df-72ea05ff-b6b5-4947-b06b-f90635937a1a');\n",
              "          const dataTable =\n",
              "            await google.colab.kernel.invokeFunction('convertToInteractive',\n",
              "                                                     [key], {});\n",
              "          if (!dataTable) return;\n",
              "\n",
              "          const docLinkHtml = 'Like what you see? Visit the ' +\n",
              "            '<a target=\"_blank\" href=https://colab.research.google.com/notebooks/data_table.ipynb>data table notebook</a>'\n",
              "            + ' to learn more about interactive tables.';\n",
              "          element.innerHTML = '';\n",
              "          dataTable['output_type'] = 'display_data';\n",
              "          await google.colab.output.renderOutput(dataTable, element);\n",
              "          const docLink = document.createElement('div');\n",
              "          docLink.innerHTML = docLinkHtml;\n",
              "          element.appendChild(docLink);\n",
              "        }\n",
              "      </script>\n",
              "    </div>\n",
              "  </div>\n",
              "  "
            ]
          },
          "metadata": {},
          "execution_count": 44
        }
      ]
    },
    {
      "cell_type": "code",
      "source": [
        "#make the plot\n",
        "pd.DataFrame(multi_class_model_3_hist.history).plot()"
      ],
      "metadata": {
        "colab": {
          "base_uri": "https://localhost:8080/",
          "height": 448
        },
        "id": "qCmSoBCfFdk8",
        "outputId": "c6b59595-4db3-43f0-b821-d88d6b3dda86"
      },
      "execution_count": 45,
      "outputs": [
        {
          "output_type": "execute_result",
          "data": {
            "text/plain": [
              "<Axes: >"
            ]
          },
          "metadata": {},
          "execution_count": 45
        },
        {
          "output_type": "display_data",
          "data": {
            "text/plain": [
              "<Figure size 640x480 with 1 Axes>"
            ],
            "image/png": "[encoded data removed]"
          },
          "metadata": {}
        }
      ]
    },
    {
      "cell_type": "code",
      "source": [
        "#Learning Rates vs Losses\n",
        "lrs = 0.001 * 10**(tf.range(50)/ 20)\n",
        "plt.figure(figsize=(16,9))\n",
        "plt.semilogx(lrs,pd.DataFrame(multi_class_model_3_hist.history)['loss'])\n",
        "plt.title('Learning Rate vs Loss!')\n",
        "plt.xlabel('Learning Rate')\n",
        "plt.ylabel('Losses')\n",
        "plt.show()"
      ],
      "metadata": {
        "colab": {
          "base_uri": "https://localhost:8080/",
          "height": 620
        },
        "id": "HwI2HcuMFdiV",
        "outputId": "c1674f36-80de-46bc-e105-7d46433b6d46"
      },
      "execution_count": 47,
      "outputs": [
        {
          "output_type": "display_data",
          "data": {
            "text/plain": [
              "<Figure size 1600x900 with 1 Axes>"
            ],
            "image/png": "[encoded data removed]"
          },
          "metadata": {}
        }
      ]
    },
    {
      "cell_type": "markdown",
      "source": [
        "# Creating a model with ideal learning rate\n",
        "At this case, ideal learning rate is about 0.001"
      ],
      "metadata": {
        "id": "kV7iB8fZFdfu"
      }
    },
    {
      "cell_type": "code",
      "source": [
        "#create the model\n",
        "multi_class_model_4 = tf.keras.models.Sequential([\n",
        "    tf.keras.layers.Flatten(input_shape=(28,28)),\n",
        "    tf.keras.layers.Dense(100, activation= 'relu'),\n",
        "    tf.keras.layers.Dense(100, activation= 'relu'),\n",
        "    tf.keras.layers.Dense(10, activation= 'softmax')\n",
        "])\n",
        "\n",
        "#compile the model\n",
        "multi_class_model_4.compile(loss= tf.keras.losses.SparseCategoricalCrossentropy(),\n",
        "                            optimizer = tf.keras.optimizers.Adam(lr= 0.001),\n",
        "                            metrics= ['accuracy'])\n",
        "\n",
        "#fit the model\n",
        "multi_class_model_4_hist = multi_class_model_4.fit(nor_train_data,train_labels,\n",
        "                        epochs= 10,\n",
        "                        validation_data= (nor_test_data,test_labels))"
      ],
      "metadata": {
        "colab": {
          "base_uri": "https://localhost:8080/"
        },
        "id": "r-Ab6fygFddH",
        "outputId": "deedd7fa-8f48-44b2-b3f3-14966c3aae25"
      },
      "execution_count": 52,
      "outputs": [
        {
          "output_type": "stream",
          "name": "stderr",
          "text": [
            "WARNING:absl:`lr` is deprecated in Keras optimizer, please use `learning_rate` or use the legacy optimizer, e.g.,tf.keras.optimizers.legacy.Adam.\n"
          ]
        },
        {
          "output_type": "stream",
          "name": "stdout",
          "text": [
            "Epoch 1/10\n",
            "1875/1875 [==============================] - 9s 4ms/step - loss: 0.4946 - accuracy: 0.8234 - val_loss: 0.4111 - val_accuracy: 0.8461\n",
            "Epoch 2/10\n",
            "1875/1875 [==============================] - 6s 3ms/step - loss: 0.3630 - accuracy: 0.8677 - val_loss: 0.4453 - val_accuracy: 0.8466\n",
            "Epoch 3/10\n",
            "1875/1875 [==============================] - 7s 4ms/step - loss: 0.3302 - accuracy: 0.8789 - val_loss: 0.4128 - val_accuracy: 0.8459\n",
            "Epoch 4/10\n",
            "1875/1875 [==============================] - 7s 4ms/step - loss: 0.3089 - accuracy: 0.8863 - val_loss: 0.3807 - val_accuracy: 0.8597\n",
            "Epoch 5/10\n",
            "1875/1875 [==============================] - 7s 4ms/step - loss: 0.2914 - accuracy: 0.8905 - val_loss: 0.3670 - val_accuracy: 0.8676\n",
            "Epoch 6/10\n",
            "1875/1875 [==============================] - 6s 3ms/step - loss: 0.2766 - accuracy: 0.8963 - val_loss: 0.3809 - val_accuracy: 0.8569\n",
            "Epoch 7/10\n",
            "1875/1875 [==============================] - 7s 4ms/step - loss: 0.2683 - accuracy: 0.8996 - val_loss: 0.3459 - val_accuracy: 0.8758\n",
            "Epoch 8/10\n",
            "1875/1875 [==============================] - 7s 4ms/step - loss: 0.2561 - accuracy: 0.9026 - val_loss: 0.3236 - val_accuracy: 0.8838\n",
            "Epoch 9/10\n",
            "1875/1875 [==============================] - 7s 4ms/step - loss: 0.2468 - accuracy: 0.9066 - val_loss: 0.3393 - val_accuracy: 0.8814\n",
            "Epoch 10/10\n",
            "1875/1875 [==============================] - 6s 3ms/step - loss: 0.2381 - accuracy: 0.9096 - val_loss: 0.3320 - val_accuracy: 0.8849\n"
          ]
        }
      ]
    },
    {
      "cell_type": "code",
      "source": [
        "#get the predictions\n",
        "probabilities = multi_class_model_4.predict(test_data)\n",
        "\n",
        "#predictions\n",
        "y_preds = predictions.argmax(axis=1)\n",
        "\n",
        "#make the confusion matrix\n",
        "cm = confusion_matrix(y_preds,test_labels)\n",
        "cm"
      ],
      "metadata": {
        "colab": {
          "base_uri": "https://localhost:8080/"
        },
        "id": "NguQH7voFdag",
        "outputId": "f6511ee1-a0df-4c0b-a757-577258d29104"
      },
      "execution_count": 64,
      "outputs": [
        {
          "output_type": "stream",
          "name": "stdout",
          "text": [
            "313/313 [==============================] - 1s 3ms/step\n"
          ]
        },
        {
          "output_type": "execute_result",
          "data": {
            "text/plain": [
              "array([[916,   2,  25,  36,   0,   0, 212,   0,   7,   0],\n",
              "       [  5, 978,   1,  19,   0,   0,   3,   0,   0,   0],\n",
              "       [ 13,   0, 573,   9,  20,   0,  54,   0,   0,   0],\n",
              "       [  8,   6,   5, 820,   8,   0,  20,   0,   1,   1],\n",
              "       [ 16,  13, 371, 102, 962,   1, 281,   0,  13,   0],\n",
              "       [  0,   0,   0,   0,   0, 918,   0,  10,   2,   3],\n",
              "       [ 34,   0,  24,   9,  10,   0, 417,   0,   0,   1],\n",
              "       [  0,   0,   0,   0,   0,  16,   0, 890,   4,  10],\n",
              "       [  8,   1,   1,   5,   0,   3,  13,   1, 973,   0],\n",
              "       [  0,   0,   0,   0,   0,  62,   0,  99,   0, 985]])"
            ]
          },
          "metadata": {},
          "execution_count": 64
        }
      ]
    },
    {
      "cell_type": "code",
      "source": [
        "#plot the confusion matrix\n",
        "plt.figure(figsize = (16,9))\n",
        "ax= plt.subplot()\n",
        "sns.heatmap(cm, annot=True, fmt='g', ax=ax);\n",
        "# labels, title and ticks\n",
        "ax.set_xlabel('Predicted labels');\n",
        "ax.set_ylabel('True labels');\n",
        "ax.set_title('Confusion Matrix');\n",
        "ax.xaxis.set_ticklabels(class_names);\n",
        "ax.yaxis.set_ticklabels(class_names);\n",
        "plt.show()"
      ],
      "metadata": {
        "colab": {
          "base_uri": "https://localhost:8080/",
          "height": 683
        },
        "id": "iVM5enqrFdBQ",
        "outputId": "2fdb7b70-b7aa-4640-f81b-dfb8c303fd10"
      },
      "execution_count": 68,
      "outputs": [
        {
          "output_type": "display_data",
          "data": {
            "text/plain": [
              "<Figure size 1600x900 with 2 Axes>"
            ],
            "image/png": "[encoded data removed]"
          },
          "metadata": {}
        }
      ]
    },
    {
      "cell_type": "code",
      "source": [],
      "metadata": {
        "id": "0vcJqYfEUlx6"
      },
      "execution_count": null,
      "outputs": []
    }
  ]
}