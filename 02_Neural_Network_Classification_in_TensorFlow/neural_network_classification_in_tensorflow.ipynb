{
  "nbformat": 4,
  "nbformat_minor": 0,
  "metadata": {
    "colab": {
      "provenance": [],
      "toc_visible": true,
      "gpuType": "T4",
      "authorship_tag": "ABX9TyNY1d8ge//VRL9scw3fwe0m",
      "include_colab_link": true
    },
    "kernelspec": {
      "name": "python3",
      "display_name": "Python 3"
    },
    "language_info": {
      "name": "python"
    },
    "accelerator": "GPU"
  },
  "cells": [
    {
      "cell_type": "markdown",
      "metadata": {
        "id": "view-in-github",
        "colab_type": "text"
      },
      "source": [
        "<a href=\"https://colab.research.google.com/github/hasanzeynal/TensorFlow-Developer-Certificate/blob/main/02_Neural_Network_Classification_in_TensorFlow/neural_network_classification_in_tensorflow.ipynb\" target=\"_parent\"><img src=\"https://colab.research.google.com/assets/colab-badge.svg\" alt=\"Open In Colab\"/></a>"
      ]
    },
    {
      "cell_type": "code",
      "execution_count": 1,
      "metadata": {
        "id": "OqpWuo7AXnv0"
      },
      "outputs": [],
      "source": [
        "#import tensorflow\n",
        "import tensorflow as tf"
      ]
    },
    {
      "cell_type": "markdown",
      "source": [
        "## What we are gonna cover:\n",
        "* The architecture of NN Classification Model\n",
        "* Input Shapes and Output Shapes of NN Classification Model\n",
        "* Creating Custom Data to view and fit\n",
        "* Steps in modelling\n",
        "  * Creating model, compile the model, fit the model, evaluate the model\n",
        "* Different Classification Evaluation Methods\n",
        "* Saving and Loading Models"
      ],
      "metadata": {
        "id": "UPwutVoHNfiD"
      }
    },
    {
      "cell_type": "markdown",
      "source": [
        "# Creating Data to view and fit"
      ],
      "metadata": {
        "id": "7Gnx-ORKRbw_"
      }
    },
    {
      "cell_type": "code",
      "source": [
        "#import make circles\n",
        "from sklearn.datasets import make_circles\n",
        "\n",
        "#create circles\n",
        "X,y = make_circles(n_samples= 1000,\n",
        "                   noise= 0.03,\n",
        "                   random_state= 42)   #if you wanna work on classification problem,you can create your data with make_circles"
      ],
      "metadata": {
        "id": "7K2AHCFTfuEe"
      },
      "execution_count": 2,
      "outputs": []
    },
    {
      "cell_type": "code",
      "source": [
        "#Check out the labels\n",
        "y[:20]"
      ],
      "metadata": {
        "colab": {
          "base_uri": "https://localhost:8080/"
        },
        "id": "v8rpw5zLft-w",
        "outputId": "e12c836e-769f-4cd8-f98c-c7b44818a183"
      },
      "execution_count": 3,
      "outputs": [
        {
          "output_type": "execute_result",
          "data": {
            "text/plain": [
              "array([1, 1, 1, 1, 0, 1, 1, 1, 1, 0, 1, 0, 1, 1, 1, 1, 0, 1, 1, 0])"
            ]
          },
          "metadata": {},
          "execution_count": 3
        }
      ]
    },
    {
      "cell_type": "code",
      "source": [
        "import pandas as pd\n",
        "pd.DataFrame(y).value_counts()   #it create 0 and 1's in the same numbers for the labels"
      ],
      "metadata": {
        "colab": {
          "base_uri": "https://localhost:8080/"
        },
        "id": "cUWHIQOtft76",
        "outputId": "fa6f409e-748c-4462-a441-42eb5f4e3480"
      },
      "execution_count": 4,
      "outputs": [
        {
          "output_type": "execute_result",
          "data": {
            "text/plain": [
              "0    500\n",
              "1    500\n",
              "dtype: int64"
            ]
          },
          "metadata": {},
          "execution_count": 4
        }
      ]
    },
    {
      "cell_type": "code",
      "source": [
        "#let's change our x and y to the dataframe to visulise our data\n",
        "circles = pd.DataFrame({'X_1':X[:,0], 'X_2':X[:,1], 'y':y})\n",
        "circles"
      ],
      "metadata": {
        "colab": {
          "base_uri": "https://localhost:8080/",
          "height": 424
        },
        "id": "z1ZmhzYgft5C",
        "outputId": "2268a3ca-4a20-4589-99c0-bb01a8b7a7e4"
      },
      "execution_count": 5,
      "outputs": [
        {
          "output_type": "execute_result",
          "data": {
            "text/plain": [
              "          X_1       X_2  y\n",
              "0    0.754246  0.231481  1\n",
              "1   -0.756159  0.153259  1\n",
              "2   -0.815392  0.173282  1\n",
              "3   -0.393731  0.692883  1\n",
              "4    0.442208 -0.896723  0\n",
              "..        ...       ... ..\n",
              "995  0.244054  0.944125  0\n",
              "996 -0.978655 -0.272373  0\n",
              "997 -0.136900 -0.810012  1\n",
              "998  0.670362 -0.767502  0\n",
              "999  0.281057  0.963824  0\n",
              "\n",
              "[1000 rows x 3 columns]"
            ],
            "text/html": [
              "\n",
              "  <div id=\"df-e0d8504f-d4dc-4a81-ac7f-1e27ff4faa2a\">\n",
              "    <div class=\"colab-df-container\">\n",
              "      <div>\n",
              "<style scoped>\n",
              "    .dataframe tbody tr th:only-of-type {\n",
              "        vertical-align: middle;\n",
              "    }\n",
              "\n",
              "    .dataframe tbody tr th {\n",
              "        vertical-align: top;\n",
              "    }\n",
              "\n",
              "    .dataframe thead th {\n",
              "        text-align: right;\n",
              "    }\n",
              "</style>\n",
              "<table border=\"1\" class=\"dataframe\">\n",
              "  <thead>\n",
              "    <tr style=\"text-align: right;\">\n",
              "      <th></th>\n",
              "      <th>X_1</th>\n",
              "      <th>X_2</th>\n",
              "      <th>y</th>\n",
              "    </tr>\n",
              "  </thead>\n",
              "  <tbody>\n",
              "    <tr>\n",
              "      <th>0</th>\n",
              "      <td>0.754246</td>\n",
              "      <td>0.231481</td>\n",
              "      <td>1</td>\n",
              "    </tr>\n",
              "    <tr>\n",
              "      <th>1</th>\n",
              "      <td>-0.756159</td>\n",
              "      <td>0.153259</td>\n",
              "      <td>1</td>\n",
              "    </tr>\n",
              "    <tr>\n",
              "      <th>2</th>\n",
              "      <td>-0.815392</td>\n",
              "      <td>0.173282</td>\n",
              "      <td>1</td>\n",
              "    </tr>\n",
              "    <tr>\n",
              "      <th>3</th>\n",
              "      <td>-0.393731</td>\n",
              "      <td>0.692883</td>\n",
              "      <td>1</td>\n",
              "    </tr>\n",
              "    <tr>\n",
              "      <th>4</th>\n",
              "      <td>0.442208</td>\n",
              "      <td>-0.896723</td>\n",
              "      <td>0</td>\n",
              "    </tr>\n",
              "    <tr>\n",
              "      <th>...</th>\n",
              "      <td>...</td>\n",
              "      <td>...</td>\n",
              "      <td>...</td>\n",
              "    </tr>\n",
              "    <tr>\n",
              "      <th>995</th>\n",
              "      <td>0.244054</td>\n",
              "      <td>0.944125</td>\n",
              "      <td>0</td>\n",
              "    </tr>\n",
              "    <tr>\n",
              "      <th>996</th>\n",
              "      <td>-0.978655</td>\n",
              "      <td>-0.272373</td>\n",
              "      <td>0</td>\n",
              "    </tr>\n",
              "    <tr>\n",
              "      <th>997</th>\n",
              "      <td>-0.136900</td>\n",
              "      <td>-0.810012</td>\n",
              "      <td>1</td>\n",
              "    </tr>\n",
              "    <tr>\n",
              "      <th>998</th>\n",
              "      <td>0.670362</td>\n",
              "      <td>-0.767502</td>\n",
              "      <td>0</td>\n",
              "    </tr>\n",
              "    <tr>\n",
              "      <th>999</th>\n",
              "      <td>0.281057</td>\n",
              "      <td>0.963824</td>\n",
              "      <td>0</td>\n",
              "    </tr>\n",
              "  </tbody>\n",
              "</table>\n",
              "<p>1000 rows × 3 columns</p>\n",
              "</div>\n",
              "      <button class=\"colab-df-convert\" onclick=\"convertToInteractive('df-e0d8504f-d4dc-4a81-ac7f-1e27ff4faa2a')\"\n",
              "              title=\"Convert this dataframe to an interactive table.\"\n",
              "              style=\"display:none;\">\n",
              "        \n",
              "  <svg xmlns=\"http://www.w3.org/2000/svg\" height=\"24px\"viewBox=\"0 0 24 24\"\n",
              "       width=\"24px\">\n",
              "    <path d=\"M0 0h24v24H0V0z\" fill=\"none\"/>\n",
              "    <path d=\"M18.56 5.44l.94 2.06.94-2.06 2.06-.94-2.06-.94-.94-2.06-.94 2.06-2.06.94zm-11 1L8.5 8.5l.94-2.06 2.06-.94-2.06-.94L8.5 2.5l-.94 2.06-2.06.94zm10 10l.94 2.06.94-2.06 2.06-.94-2.06-.94-.94-2.06-.94 2.06-2.06.94z\"/><path d=\"M17.41 7.96l-1.37-1.37c-.4-.4-.92-.59-1.43-.59-.52 0-1.04.2-1.43.59L10.3 9.45l-7.72 7.72c-.78.78-.78 2.05 0 2.83L4 21.41c.39.39.9.59 1.41.59.51 0 1.02-.2 1.41-.59l7.78-7.78 2.81-2.81c.8-.78.8-2.07 0-2.86zM5.41 20L4 18.59l7.72-7.72 1.47 1.35L5.41 20z\"/>\n",
              "  </svg>\n",
              "      </button>\n",
              "      \n",
              "  <style>\n",
              "    .colab-df-container {\n",
              "      display:flex;\n",
              "      flex-wrap:wrap;\n",
              "      gap: 12px;\n",
              "    }\n",
              "\n",
              "    .colab-df-convert {\n",
              "      background-color: #E8F0FE;\n",
              "      border: none;\n",
              "      border-radius: 50%;\n",
              "      cursor: pointer;\n",
              "      display: none;\n",
              "      fill: #1967D2;\n",
              "      height: 32px;\n",
              "      padding: 0 0 0 0;\n",
              "      width: 32px;\n",
              "    }\n",
              "\n",
              "    .colab-df-convert:hover {\n",
              "      background-color: #E2EBFA;\n",
              "      box-shadow: 0px 1px 2px rgba(60, 64, 67, 0.3), 0px 1px 3px 1px rgba(60, 64, 67, 0.15);\n",
              "      fill: #174EA6;\n",
              "    }\n",
              "\n",
              "    [theme=dark] .colab-df-convert {\n",
              "      background-color: #3B4455;\n",
              "      fill: #D2E3FC;\n",
              "    }\n",
              "\n",
              "    [theme=dark] .colab-df-convert:hover {\n",
              "      background-color: #434B5C;\n",
              "      box-shadow: 0px 1px 3px 1px rgba(0, 0, 0, 0.15);\n",
              "      filter: drop-shadow(0px 1px 2px rgba(0, 0, 0, 0.3));\n",
              "      fill: #FFFFFF;\n",
              "    }\n",
              "  </style>\n",
              "\n",
              "      <script>\n",
              "        const buttonEl =\n",
              "          document.querySelector('#df-e0d8504f-d4dc-4a81-ac7f-1e27ff4faa2a button.colab-df-convert');\n",
              "        buttonEl.style.display =\n",
              "          google.colab.kernel.accessAllowed ? 'block' : 'none';\n",
              "\n",
              "        async function convertToInteractive(key) {\n",
              "          const element = document.querySelector('#df-e0d8504f-d4dc-4a81-ac7f-1e27ff4faa2a');\n",
              "          const dataTable =\n",
              "            await google.colab.kernel.invokeFunction('convertToInteractive',\n",
              "                                                     [key], {});\n",
              "          if (!dataTable) return;\n",
              "\n",
              "          const docLinkHtml = 'Like what you see? Visit the ' +\n",
              "            '<a target=\"_blank\" href=https://colab.research.google.com/notebooks/data_table.ipynb>data table notebook</a>'\n",
              "            + ' to learn more about interactive tables.';\n",
              "          element.innerHTML = '';\n",
              "          dataTable['output_type'] = 'display_data';\n",
              "          await google.colab.output.renderOutput(dataTable, element);\n",
              "          const docLink = document.createElement('div');\n",
              "          docLink.innerHTML = docLinkHtml;\n",
              "          element.appendChild(docLink);\n",
              "        }\n",
              "      </script>\n",
              "    </div>\n",
              "  </div>\n",
              "  "
            ]
          },
          "metadata": {},
          "execution_count": 5
        }
      ]
    },
    {
      "cell_type": "code",
      "source": [
        "#import matplotlib\n",
        "import matplotlib.pyplot as plt\n",
        "#visualise the datas\n",
        "plt.scatter(X[:,0], X[:,1],c= y)\n",
        "#show the plot\n",
        "plt.show()"
      ],
      "metadata": {
        "colab": {
          "base_uri": "https://localhost:8080/",
          "height": 430
        },
        "id": "F5qNtPKdfttD",
        "outputId": "2a2fc2bf-3b9d-47f1-932b-b194e306327a"
      },
      "execution_count": 6,
      "outputs": [
        {
          "output_type": "display_data",
          "data": {
            "text/plain": [
              "<Figure size 640x480 with 1 Axes>"
            ],
            "image/png": "[encoded data removed]"
          },
          "metadata": {}
        }
      ]
    },
    {
      "cell_type": "markdown",
      "source": [
        "# Input and Output Shapes"
      ],
      "metadata": {
        "id": "673ZxFLikLxE"
      }
    },
    {
      "cell_type": "code",
      "source": [
        "X.shape,y.shape"
      ],
      "metadata": {
        "colab": {
          "base_uri": "https://localhost:8080/"
        },
        "id": "XGMJcXe_fuBn",
        "outputId": "a0dadcf4-4d18-45f0-c61a-56f13326753a"
      },
      "execution_count": 7,
      "outputs": [
        {
          "output_type": "execute_result",
          "data": {
            "text/plain": [
              "((1000, 2), (1000,))"
            ]
          },
          "metadata": {},
          "execution_count": 7
        }
      ]
    },
    {
      "cell_type": "markdown",
      "source": [
        "# Modelling\n",
        "We are gonna create some models until we make around 95+ accuracy score"
      ],
      "metadata": {
        "id": "b8m4RDsEkgq0"
      }
    },
    {
      "cell_type": "code",
      "source": [
        "#train test splitting\n",
        "X_train = X[:800]\n",
        "X_test = X[800:]\n",
        "\n",
        "y_train = X[:800]\n",
        "y_test = X[800:]\n",
        "\n",
        "#looking for shape\n",
        "X_train.shape,y_train.shape,X_test.shape,y_test.shape"
      ],
      "metadata": {
        "id": "8pBsfmLokgn6",
        "colab": {
          "base_uri": "https://localhost:8080/"
        },
        "outputId": "5788ab73-6375-4795-c1d9-f7b9f6411e6d"
      },
      "execution_count": 12,
      "outputs": [
        {
          "output_type": "execute_result",
          "data": {
            "text/plain": [
              "((800, 2), (800, 2), (200, 2), (200, 2))"
            ]
          },
          "metadata": {},
          "execution_count": 12
        }
      ]
    },
    {
      "cell_type": "markdown",
      "source": [
        "##Model 1"
      ],
      "metadata": {
        "id": "KiaD1g50G8dr"
      }
    },
    {
      "cell_type": "code",
      "source": [
        "#creating model\n",
        "model_1 = tf.keras.models.Sequential([\n",
        "    tf.keras.layers.Dense(1)\n",
        "])\n",
        "\n",
        "#compile the model\n",
        "model_1.compile(loss= 'mae',optimizer= 'sgd',metrics=['accuracy'])\n",
        "\n",
        "#fit the model\n",
        "model_1.fit(tf.expand_dims(X_train,axis=-1),y_train,epochs=10)"
      ],
      "metadata": {
        "id": "ASW2BLLwkglT",
        "colab": {
          "base_uri": "https://localhost:8080/"
        },
        "outputId": "b7bbca77-599f-480e-a1db-9625f7522ca0"
      },
      "execution_count": 16,
      "outputs": [
        {
          "output_type": "stream",
          "name": "stdout",
          "text": [
            "Epoch 1/10\n",
            "25/25 [==============================] - 4s 2ms/step - loss: 0.7263 - accuracy: 0.0000e+00\n",
            "Epoch 2/10\n",
            "25/25 [==============================] - 0s 2ms/step - loss: 0.6444 - accuracy: 0.0000e+00\n",
            "Epoch 3/10\n",
            "25/25 [==============================] - 0s 2ms/step - loss: 0.5625 - accuracy: 0.0000e+00\n",
            "Epoch 4/10\n",
            "25/25 [==============================] - 0s 2ms/step - loss: 0.4805 - accuracy: 0.0000e+00\n",
            "Epoch 5/10\n",
            "25/25 [==============================] - 0s 2ms/step - loss: 0.3985 - accuracy: 0.0000e+00\n",
            "Epoch 6/10\n",
            "25/25 [==============================] - 0s 2ms/step - loss: 0.3166 - accuracy: 0.0000e+00\n",
            "Epoch 7/10\n",
            "25/25 [==============================] - 0s 2ms/step - loss: 0.2346 - accuracy: 0.0000e+00\n",
            "Epoch 8/10\n",
            "25/25 [==============================] - 0s 2ms/step - loss: 0.1527 - accuracy: 0.0000e+00\n",
            "Epoch 9/10\n",
            "25/25 [==============================] - 0s 2ms/step - loss: 0.0707 - accuracy: 0.0000e+00\n",
            "Epoch 10/10\n",
            "25/25 [==============================] - 0s 3ms/step - loss: 0.0086 - accuracy: 0.0000e+00\n"
          ]
        },
        {
          "output_type": "execute_result",
          "data": {
            "text/plain": [
              "<keras.callbacks.History at 0x7f60a924d1e0>"
            ]
          },
          "metadata": {},
          "execution_count": 16
        }
      ]
    },
    {
      "cell_type": "code",
      "source": [
        "#get the predictions\n",
        "predictions_1 = model_1.predict(X_test)"
      ],
      "metadata": {
        "colab": {
          "base_uri": "https://localhost:8080/"
        },
        "id": "HRSaTk0wHGFR",
        "outputId": "95d9cbfd-5e10-4273-daa4-e14af41d8d32"
      },
      "execution_count": 18,
      "outputs": [
        {
          "output_type": "stream",
          "name": "stdout",
          "text": [
            "7/7 [==============================] - 0s 2ms/step\n"
          ]
        }
      ]
    },
    {
      "cell_type": "code",
      "source": [
        "model_1.evaluate(y_test)"
      ],
      "metadata": {
        "colab": {
          "base_uri": "https://localhost:8080/"
        },
        "id": "wB9RQyBsHGC_",
        "outputId": "79c89359-e437-427a-a62b-70aabd4a9a48"
      },
      "execution_count": 19,
      "outputs": [
        {
          "output_type": "stream",
          "name": "stdout",
          "text": [
            "7/7 [==============================] - 1s 4ms/step - loss: 0.0000e+00 - accuracy: 0.0000e+00\n"
          ]
        },
        {
          "output_type": "execute_result",
          "data": {
            "text/plain": [
              "[0.0, 0.0]"
            ]
          },
          "metadata": {},
          "execution_count": 19
        }
      ]
    },
    {
      "cell_type": "markdown",
      "source": [
        "## Model 2"
      ],
      "metadata": {
        "id": "MdelE-gTkgic"
      }
    },
    {
      "cell_type": "code",
      "source": [
        "#create the model\n",
        "model_2 = tf.keras.models.Sequential([\n",
        "    tf.keras.layers.Dense(100,activation= 'relu'),   #1 hidden layer added\n",
        "    tf.keras.layers.Dense(1)\n",
        "])\n",
        "\n",
        "#compile the model\n",
        "model_2.compile(loss='mae', optimizer= 'adam', metrics= ['accuracy'])\n",
        "\n",
        "#fit the model\n",
        "model_2.fit(tf.expand_dims(X_train,axis=-1),y_train,epochs=20) #number of epochs is increased to the 20"
      ],
      "metadata": {
        "id": "XL6I8SWCkgf1",
        "colab": {
          "base_uri": "https://localhost:8080/"
        },
        "outputId": "03535387-ceed-4b7e-a630-4920446a8183"
      },
      "execution_count": 22,
      "outputs": [
        {
          "output_type": "stream",
          "name": "stdout",
          "text": [
            "Epoch 1/20\n",
            "25/25 [==============================] - 2s 2ms/step - loss: 0.4247 - accuracy: 0.0000e+00\n",
            "Epoch 2/20\n",
            "25/25 [==============================] - 0s 3ms/step - loss: 0.1622 - accuracy: 0.0000e+00\n",
            "Epoch 3/20\n",
            "25/25 [==============================] - 0s 2ms/step - loss: 0.0662 - accuracy: 0.0000e+00\n",
            "Epoch 4/20\n",
            "25/25 [==============================] - 0s 2ms/step - loss: 0.0534 - accuracy: 0.0000e+00\n",
            "Epoch 5/20\n",
            "25/25 [==============================] - 0s 2ms/step - loss: 0.0420 - accuracy: 0.0000e+00\n",
            "Epoch 6/20\n",
            "25/25 [==============================] - 0s 2ms/step - loss: 0.0303 - accuracy: 0.0000e+00\n",
            "Epoch 7/20\n",
            "25/25 [==============================] - 0s 2ms/step - loss: 0.0164 - accuracy: 0.0000e+00\n",
            "Epoch 8/20\n",
            "25/25 [==============================] - 0s 3ms/step - loss: 0.0050 - accuracy: 0.0000e+00\n",
            "Epoch 9/20\n",
            "25/25 [==============================] - 0s 2ms/step - loss: 0.0028 - accuracy: 0.0000e+00\n",
            "Epoch 10/20\n",
            "25/25 [==============================] - 0s 2ms/step - loss: 0.0020 - accuracy: 0.0000e+00\n",
            "Epoch 11/20\n",
            "25/25 [==============================] - 0s 2ms/step - loss: 0.0024 - accuracy: 0.0000e+00\n",
            "Epoch 12/20\n",
            "25/25 [==============================] - 0s 3ms/step - loss: 0.0017 - accuracy: 0.0000e+00\n",
            "Epoch 13/20\n",
            "25/25 [==============================] - 0s 2ms/step - loss: 0.0013 - accuracy: 0.0000e+00\n",
            "Epoch 14/20\n",
            "25/25 [==============================] - 0s 2ms/step - loss: 0.0018 - accuracy: 0.0000e+00\n",
            "Epoch 15/20\n",
            "25/25 [==============================] - 0s 2ms/step - loss: 0.0024 - accuracy: 0.0000e+00\n",
            "Epoch 16/20\n",
            "25/25 [==============================] - 0s 2ms/step - loss: 0.0018 - accuracy: 0.0000e+00\n",
            "Epoch 17/20\n",
            "25/25 [==============================] - 0s 3ms/step - loss: 0.0021 - accuracy: 0.0000e+00\n",
            "Epoch 18/20\n",
            "25/25 [==============================] - 0s 2ms/step - loss: 0.0014 - accuracy: 0.0000e+00\n",
            "Epoch 19/20\n",
            "25/25 [==============================] - 0s 3ms/step - loss: 0.0017 - accuracy: 0.0000e+00\n",
            "Epoch 20/20\n",
            "25/25 [==============================] - 0s 2ms/step - loss: 0.0017 - accuracy: 0.0000e+00\n"
          ]
        },
        {
          "output_type": "execute_result",
          "data": {
            "text/plain": [
              "<keras.callbacks.History at 0x7f607c5e7070>"
            ]
          },
          "metadata": {},
          "execution_count": 22
        }
      ]
    },
    {
      "cell_type": "code",
      "source": [
        "#get the predictions\n",
        "predictions_2 = model_2.predict(X_test)\n",
        "\n",
        "#evaluate the model\n",
        "model_2.evaluate(predictions_2)"
      ],
      "metadata": {
        "id": "fqeAwMqwkgdj",
        "colab": {
          "base_uri": "https://localhost:8080/"
        },
        "outputId": "efcc80d8-7dc5-4c53-a9f6-f6477cb2742c"
      },
      "execution_count": 24,
      "outputs": [
        {
          "output_type": "stream",
          "name": "stdout",
          "text": [
            "7/7 [==============================] - 0s 9ms/step\n",
            "7/7 [==============================] - 0s 3ms/step - loss: 0.0000e+00 - accuracy: 0.0000e+00\n"
          ]
        },
        {
          "output_type": "execute_result",
          "data": {
            "text/plain": [
              "[0.0, 0.0]"
            ]
          },
          "metadata": {},
          "execution_count": 24
        }
      ]
    },
    {
      "cell_type": "markdown",
      "source": [
        "## Model 3"
      ],
      "metadata": {
        "id": "YmvoR0pokgao"
      }
    },
    {
      "cell_type": "code",
      "source": [
        "#create the third model\n",
        "model_3 = tf.keras.models.Sequential([\n",
        "    tf.keras.layers.Dense(100,activation= 'relu'),\n",
        "    tf.keras.layers.Dense(100,activation= 'relu'),   # 1 hidden layer is added\n",
        "    tf.keras.layers.Dense(1)\n",
        "])\n",
        "\n",
        "#compile the model\n",
        "model_3.compile(loss= tf.keras.losses.BinaryCrossentropy(),   #loss is changed because our problem is binary classification\n",
        "                optimizer= 'sgd',\n",
        "                metrics= ['accuracy'])\n",
        "\n",
        "#fit the model\n",
        "model_3.fit(tf.expand_dims(X_train,axis=-1),y_train,epochs= 25)"
      ],
      "metadata": {
        "id": "ATrrGrkrkgYB",
        "colab": {
          "base_uri": "https://localhost:8080/"
        },
        "outputId": "fa356acb-4d61-46aa-ebdf-6957edbe9468"
      },
      "execution_count": 26,
      "outputs": [
        {
          "output_type": "stream",
          "name": "stdout",
          "text": [
            "Epoch 1/25\n",
            "25/25 [==============================] - 1s 4ms/step - loss: -0.0444 - accuracy: 0.0000e+00\n",
            "Epoch 2/25\n",
            "25/25 [==============================] - 0s 4ms/step - loss: -0.0444 - accuracy: 0.0000e+00\n",
            "Epoch 3/25\n",
            "25/25 [==============================] - 0s 4ms/step - loss: -0.0444 - accuracy: 0.0000e+00\n",
            "Epoch 4/25\n",
            "25/25 [==============================] - 0s 4ms/step - loss: -0.0444 - accuracy: 0.0000e+00\n",
            "Epoch 5/25\n",
            "25/25 [==============================] - 0s 4ms/step - loss: -0.0444 - accuracy: 0.0000e+00\n",
            "Epoch 6/25\n",
            "25/25 [==============================] - 0s 4ms/step - loss: -0.0444 - accuracy: 0.0000e+00\n",
            "Epoch 7/25\n",
            "25/25 [==============================] - 0s 4ms/step - loss: -0.0444 - accuracy: 0.0000e+00\n",
            "Epoch 8/25\n",
            "25/25 [==============================] - 0s 4ms/step - loss: -0.0444 - accuracy: 0.0000e+00\n",
            "Epoch 9/25\n",
            "25/25 [==============================] - 0s 4ms/step - loss: -0.0444 - accuracy: 0.0000e+00\n",
            "Epoch 10/25\n",
            "25/25 [==============================] - 0s 4ms/step - loss: -0.0444 - accuracy: 0.0000e+00\n",
            "Epoch 11/25\n",
            "25/25 [==============================] - 0s 4ms/step - loss: -0.0444 - accuracy: 0.0000e+00\n",
            "Epoch 12/25\n",
            "25/25 [==============================] - 0s 4ms/step - loss: -0.0444 - accuracy: 0.0000e+00\n",
            "Epoch 13/25\n",
            "25/25 [==============================] - 0s 4ms/step - loss: -0.0444 - accuracy: 0.0000e+00\n",
            "Epoch 14/25\n",
            "25/25 [==============================] - 0s 4ms/step - loss: -0.0444 - accuracy: 0.0000e+00\n",
            "Epoch 15/25\n",
            "25/25 [==============================] - 0s 4ms/step - loss: -0.0444 - accuracy: 0.0000e+00\n",
            "Epoch 16/25\n",
            "25/25 [==============================] - 0s 4ms/step - loss: -0.0444 - accuracy: 0.0000e+00\n",
            "Epoch 17/25\n",
            "25/25 [==============================] - 0s 4ms/step - loss: -0.0444 - accuracy: 0.0000e+00\n",
            "Epoch 18/25\n",
            "25/25 [==============================] - 0s 3ms/step - loss: -0.0444 - accuracy: 0.0000e+00\n",
            "Epoch 19/25\n",
            "25/25 [==============================] - 0s 3ms/step - loss: -0.0444 - accuracy: 0.0000e+00\n",
            "Epoch 20/25\n",
            "25/25 [==============================] - 0s 3ms/step - loss: -0.0444 - accuracy: 0.0000e+00\n",
            "Epoch 21/25\n",
            "25/25 [==============================] - 0s 3ms/step - loss: -0.0444 - accuracy: 0.0000e+00\n",
            "Epoch 22/25\n",
            "25/25 [==============================] - 0s 3ms/step - loss: -0.0444 - accuracy: 0.0000e+00\n",
            "Epoch 23/25\n",
            "25/25 [==============================] - 0s 3ms/step - loss: -0.0444 - accuracy: 0.0000e+00\n",
            "Epoch 24/25\n",
            "25/25 [==============================] - 0s 3ms/step - loss: -0.0444 - accuracy: 0.0000e+00\n",
            "Epoch 25/25\n",
            "25/25 [==============================] - 0s 3ms/step - loss: -0.0444 - accuracy: 0.0000e+00\n"
          ]
        },
        {
          "output_type": "execute_result",
          "data": {
            "text/plain": [
              "<keras.callbacks.History at 0x7f607c36bfa0>"
            ]
          },
          "metadata": {},
          "execution_count": 26
        }
      ]
    },
    {
      "cell_type": "code",
      "source": [],
      "metadata": {
        "id": "uGnkODwGkgVb"
      },
      "execution_count": null,
      "outputs": []
    },
    {
      "cell_type": "code",
      "source": [],
      "metadata": {
        "id": "IBKldxYxkgSj"
      },
      "execution_count": null,
      "outputs": []
    },
    {
      "cell_type": "markdown",
      "source": [
        "#Model 4"
      ],
      "metadata": {
        "id": "KN-1dyhhkgP9"
      }
    },
    {
      "cell_type": "code",
      "source": [
        "\n",
        "\n",
        "#create the model_4\n",
        "model_4 = tf.keras.models.Sequential([\n",
        "    tf.keras.layers.Dense(4, activation= 'relu'),\n",
        "    tf.keras.layers.Dense(4, activation= 'relu'),\n",
        "    tf.keras.layers.Dense(4, activation= 'relu'),  #number of hidden layers is increased\n",
        "    tf.keras.layers.Dense(1, activation= 'softmax')  #activation function(Sigmoid) for output layer to get 1 answer instead of predictions\n",
        "])\n",
        "\n",
        "#compile the model\n",
        "model_4.compile(loss= tf.keras.losses.binary_crossentropy,\n",
        "                optimizer= tf.keras.optimizers.Adam(lr= 0.001),   #optimizer is chnaged to the Adam with learning rate of 0.001\n",
        "                metrics = tf.keras.metrics.Accuracy())\n",
        "\n",
        "#fit the model\n",
        "model_4.fit(tf.expand_dims(X_train,axis=-1),y_train, epochs= 100)  #number of epochs is increased about 100 to learn better"
      ],
      "metadata": {
        "id": "KJP5RhdVkgNF",
        "colab": {
          "base_uri": "https://localhost:8080/"
        },
        "outputId": "2e52ebc0-b9d0-4dfb-d403-47e8ac65311d"
      },
      "execution_count": 33,
      "outputs": [
        {
          "output_type": "stream",
          "name": "stderr",
          "text": [
            "WARNING:absl:`lr` is deprecated in Keras optimizer, please use `learning_rate` or use the legacy optimizer, e.g.,tf.keras.optimizers.legacy.Adam.\n"
          ]
        },
        {
          "output_type": "stream",
          "name": "stdout",
          "text": [
            "Epoch 1/100\n",
            "25/25 [==============================] - 2s 3ms/step - loss: 15.2931 - accuracy: 0.0000e+00\n",
            "Epoch 2/100\n",
            "25/25 [==============================] - 0s 3ms/step - loss: 15.2931 - accuracy: 0.0000e+00\n",
            "Epoch 3/100\n",
            "25/25 [==============================] - 0s 3ms/step - loss: 15.2931 - accuracy: 0.0000e+00\n",
            "Epoch 4/100\n",
            "25/25 [==============================] - 0s 3ms/step - loss: 15.2931 - accuracy: 0.0000e+00\n",
            "Epoch 5/100\n",
            "25/25 [==============================] - 0s 3ms/step - loss: 15.2931 - accuracy: 0.0000e+00\n",
            "Epoch 6/100\n",
            "25/25 [==============================] - 0s 3ms/step - loss: 15.2931 - accuracy: 0.0000e+00\n",
            "Epoch 7/100\n",
            "25/25 [==============================] - 0s 3ms/step - loss: 15.2931 - accuracy: 0.0000e+00\n",
            "Epoch 8/100\n",
            "25/25 [==============================] - 0s 3ms/step - loss: 15.2931 - accuracy: 0.0000e+00\n",
            "Epoch 9/100\n",
            "25/25 [==============================] - 0s 3ms/step - loss: 15.2931 - accuracy: 0.0000e+00\n",
            "Epoch 10/100\n",
            "25/25 [==============================] - 0s 3ms/step - loss: 15.2931 - accuracy: 0.0000e+00\n",
            "Epoch 11/100\n",
            "25/25 [==============================] - 0s 3ms/step - loss: 15.2931 - accuracy: 0.0000e+00\n",
            "Epoch 12/100\n",
            "25/25 [==============================] - 0s 3ms/step - loss: 15.2931 - accuracy: 0.0000e+00\n",
            "Epoch 13/100\n",
            "25/25 [==============================] - 0s 3ms/step - loss: 15.2931 - accuracy: 0.0000e+00\n",
            "Epoch 14/100\n",
            "25/25 [==============================] - 0s 3ms/step - loss: 15.2931 - accuracy: 0.0000e+00\n",
            "Epoch 15/100\n",
            "25/25 [==============================] - 0s 3ms/step - loss: 15.2931 - accuracy: 0.0000e+00\n",
            "Epoch 16/100\n",
            "25/25 [==============================] - 0s 3ms/step - loss: 15.2931 - accuracy: 0.0000e+00\n",
            "Epoch 17/100\n",
            "25/25 [==============================] - 0s 3ms/step - loss: 15.2931 - accuracy: 0.0000e+00\n",
            "Epoch 18/100\n",
            "25/25 [==============================] - 0s 3ms/step - loss: 15.2931 - accuracy: 0.0000e+00\n",
            "Epoch 19/100\n",
            "25/25 [==============================] - 0s 3ms/step - loss: 15.2931 - accuracy: 0.0000e+00\n",
            "Epoch 20/100\n",
            "25/25 [==============================] - 0s 3ms/step - loss: 15.2931 - accuracy: 0.0000e+00\n",
            "Epoch 21/100\n",
            "25/25 [==============================] - 0s 3ms/step - loss: 15.2931 - accuracy: 0.0000e+00\n",
            "Epoch 22/100\n",
            "25/25 [==============================] - 0s 3ms/step - loss: 15.2931 - accuracy: 0.0000e+00\n",
            "Epoch 23/100\n",
            "25/25 [==============================] - 0s 3ms/step - loss: 15.2931 - accuracy: 0.0000e+00\n",
            "Epoch 24/100\n",
            "25/25 [==============================] - 0s 3ms/step - loss: 15.2931 - accuracy: 0.0000e+00\n",
            "Epoch 25/100\n",
            "25/25 [==============================] - 0s 3ms/step - loss: 15.2931 - accuracy: 0.0000e+00\n",
            "Epoch 26/100\n",
            "25/25 [==============================] - 0s 3ms/step - loss: 15.2931 - accuracy: 0.0000e+00\n",
            "Epoch 27/100\n",
            "25/25 [==============================] - 0s 3ms/step - loss: 15.2931 - accuracy: 0.0000e+00\n",
            "Epoch 28/100\n",
            "25/25 [==============================] - 0s 3ms/step - loss: 15.2931 - accuracy: 0.0000e+00\n",
            "Epoch 29/100\n",
            "25/25 [==============================] - 0s 3ms/step - loss: 15.2931 - accuracy: 0.0000e+00\n",
            "Epoch 30/100\n",
            "25/25 [==============================] - 0s 3ms/step - loss: 15.2931 - accuracy: 0.0000e+00\n",
            "Epoch 31/100\n",
            "25/25 [==============================] - 0s 3ms/step - loss: 15.2931 - accuracy: 0.0000e+00\n",
            "Epoch 32/100\n",
            "25/25 [==============================] - 0s 3ms/step - loss: 15.2931 - accuracy: 0.0000e+00\n",
            "Epoch 33/100\n",
            "25/25 [==============================] - 0s 3ms/step - loss: 15.2931 - accuracy: 0.0000e+00\n",
            "Epoch 34/100\n",
            "25/25 [==============================] - 0s 3ms/step - loss: 15.2931 - accuracy: 0.0000e+00\n",
            "Epoch 35/100\n",
            "25/25 [==============================] - 0s 3ms/step - loss: 15.2931 - accuracy: 0.0000e+00\n",
            "Epoch 36/100\n",
            "25/25 [==============================] - 0s 3ms/step - loss: 15.2931 - accuracy: 0.0000e+00\n",
            "Epoch 37/100\n",
            "25/25 [==============================] - 0s 3ms/step - loss: 15.2931 - accuracy: 0.0000e+00\n",
            "Epoch 38/100\n",
            "25/25 [==============================] - 0s 3ms/step - loss: 15.2931 - accuracy: 0.0000e+00\n",
            "Epoch 39/100\n",
            "25/25 [==============================] - 0s 3ms/step - loss: 15.2931 - accuracy: 0.0000e+00\n",
            "Epoch 40/100\n",
            "25/25 [==============================] - 0s 3ms/step - loss: 15.2931 - accuracy: 0.0000e+00\n",
            "Epoch 41/100\n",
            "25/25 [==============================] - 0s 3ms/step - loss: 15.2931 - accuracy: 0.0000e+00\n",
            "Epoch 42/100\n",
            "25/25 [==============================] - 0s 3ms/step - loss: 15.2931 - accuracy: 0.0000e+00\n",
            "Epoch 43/100\n",
            "25/25 [==============================] - 0s 3ms/step - loss: 15.2931 - accuracy: 0.0000e+00\n",
            "Epoch 44/100\n",
            "25/25 [==============================] - 0s 3ms/step - loss: 15.2931 - accuracy: 0.0000e+00\n",
            "Epoch 45/100\n",
            "25/25 [==============================] - 0s 3ms/step - loss: 15.2931 - accuracy: 0.0000e+00\n",
            "Epoch 46/100\n",
            "25/25 [==============================] - 0s 3ms/step - loss: 15.2931 - accuracy: 0.0000e+00\n",
            "Epoch 47/100\n",
            "25/25 [==============================] - 0s 3ms/step - loss: 15.2931 - accuracy: 0.0000e+00\n",
            "Epoch 48/100\n",
            "25/25 [==============================] - 0s 3ms/step - loss: 15.2931 - accuracy: 0.0000e+00\n",
            "Epoch 49/100\n",
            "25/25 [==============================] - 0s 4ms/step - loss: 15.2931 - accuracy: 0.0000e+00\n",
            "Epoch 50/100\n",
            "25/25 [==============================] - 0s 4ms/step - loss: 15.2931 - accuracy: 0.0000e+00\n",
            "Epoch 51/100\n",
            "25/25 [==============================] - 0s 5ms/step - loss: 15.2931 - accuracy: 0.0000e+00\n",
            "Epoch 52/100\n",
            "25/25 [==============================] - 0s 4ms/step - loss: 15.2931 - accuracy: 0.0000e+00\n",
            "Epoch 53/100\n",
            "25/25 [==============================] - 0s 4ms/step - loss: 15.2931 - accuracy: 0.0000e+00\n",
            "Epoch 54/100\n",
            "25/25 [==============================] - 0s 4ms/step - loss: 15.2931 - accuracy: 0.0000e+00\n",
            "Epoch 55/100\n",
            "25/25 [==============================] - 0s 4ms/step - loss: 15.2931 - accuracy: 0.0000e+00\n",
            "Epoch 56/100\n",
            "25/25 [==============================] - 0s 5ms/step - loss: 15.2931 - accuracy: 0.0000e+00\n",
            "Epoch 57/100\n",
            "25/25 [==============================] - 0s 4ms/step - loss: 15.2931 - accuracy: 0.0000e+00\n",
            "Epoch 58/100\n",
            "25/25 [==============================] - 0s 4ms/step - loss: 15.2931 - accuracy: 0.0000e+00\n",
            "Epoch 59/100\n",
            "25/25 [==============================] - 0s 4ms/step - loss: 15.2931 - accuracy: 0.0000e+00\n",
            "Epoch 60/100\n",
            "25/25 [==============================] - 0s 4ms/step - loss: 15.2931 - accuracy: 0.0000e+00\n",
            "Epoch 61/100\n",
            "25/25 [==============================] - 0s 4ms/step - loss: 15.2931 - accuracy: 0.0000e+00\n",
            "Epoch 62/100\n",
            "25/25 [==============================] - 0s 4ms/step - loss: 15.2931 - accuracy: 0.0000e+00\n",
            "Epoch 63/100\n",
            "25/25 [==============================] - 0s 4ms/step - loss: 15.2931 - accuracy: 0.0000e+00\n",
            "Epoch 64/100\n",
            "25/25 [==============================] - 0s 5ms/step - loss: 15.2931 - accuracy: 0.0000e+00\n",
            "Epoch 65/100\n",
            "25/25 [==============================] - 0s 8ms/step - loss: 15.2931 - accuracy: 0.0000e+00\n",
            "Epoch 66/100\n",
            "25/25 [==============================] - 0s 7ms/step - loss: 15.2931 - accuracy: 0.0000e+00\n",
            "Epoch 67/100\n",
            "25/25 [==============================] - 0s 6ms/step - loss: 15.2931 - accuracy: 0.0000e+00\n",
            "Epoch 68/100\n",
            "25/25 [==============================] - 0s 7ms/step - loss: 15.2931 - accuracy: 0.0000e+00\n",
            "Epoch 69/100\n",
            "25/25 [==============================] - 0s 5ms/step - loss: 15.2931 - accuracy: 0.0000e+00\n",
            "Epoch 70/100\n",
            "25/25 [==============================] - 0s 5ms/step - loss: 15.2931 - accuracy: 0.0000e+00\n",
            "Epoch 71/100\n",
            "25/25 [==============================] - 0s 6ms/step - loss: 15.2931 - accuracy: 0.0000e+00\n",
            "Epoch 72/100\n",
            "25/25 [==============================] - 0s 6ms/step - loss: 15.2931 - accuracy: 0.0000e+00\n",
            "Epoch 73/100\n",
            "25/25 [==============================] - 0s 5ms/step - loss: 15.2931 - accuracy: 0.0000e+00\n",
            "Epoch 74/100\n",
            "25/25 [==============================] - 0s 5ms/step - loss: 15.2931 - accuracy: 0.0000e+00\n",
            "Epoch 75/100\n",
            "25/25 [==============================] - 0s 5ms/step - loss: 15.2931 - accuracy: 0.0000e+00\n",
            "Epoch 76/100\n",
            "25/25 [==============================] - 0s 4ms/step - loss: 15.2931 - accuracy: 0.0000e+00\n",
            "Epoch 77/100\n",
            "25/25 [==============================] - 0s 3ms/step - loss: 15.2931 - accuracy: 0.0000e+00\n",
            "Epoch 78/100\n",
            "25/25 [==============================] - 0s 3ms/step - loss: 15.2931 - accuracy: 0.0000e+00\n",
            "Epoch 79/100\n",
            "25/25 [==============================] - 0s 3ms/step - loss: 15.2931 - accuracy: 0.0000e+00\n",
            "Epoch 80/100\n",
            "25/25 [==============================] - 0s 4ms/step - loss: 15.2931 - accuracy: 0.0000e+00\n",
            "Epoch 81/100\n",
            "25/25 [==============================] - 0s 3ms/step - loss: 15.2931 - accuracy: 0.0000e+00\n",
            "Epoch 82/100\n",
            "25/25 [==============================] - 0s 3ms/step - loss: 15.2931 - accuracy: 0.0000e+00\n",
            "Epoch 83/100\n",
            "25/25 [==============================] - 0s 3ms/step - loss: 15.2931 - accuracy: 0.0000e+00\n",
            "Epoch 84/100\n",
            "25/25 [==============================] - 0s 3ms/step - loss: 15.2931 - accuracy: 0.0000e+00\n",
            "Epoch 85/100\n",
            "25/25 [==============================] - 0s 3ms/step - loss: 15.2931 - accuracy: 0.0000e+00\n",
            "Epoch 86/100\n",
            "25/25 [==============================] - 0s 3ms/step - loss: 15.2931 - accuracy: 0.0000e+00\n",
            "Epoch 87/100\n",
            "25/25 [==============================] - 0s 3ms/step - loss: 15.2931 - accuracy: 0.0000e+00\n",
            "Epoch 88/100\n",
            "25/25 [==============================] - 0s 3ms/step - loss: 15.2931 - accuracy: 0.0000e+00\n",
            "Epoch 89/100\n",
            "25/25 [==============================] - 0s 3ms/step - loss: 15.2931 - accuracy: 0.0000e+00\n",
            "Epoch 90/100\n",
            "25/25 [==============================] - 0s 3ms/step - loss: 15.2931 - accuracy: 0.0000e+00\n",
            "Epoch 91/100\n",
            "25/25 [==============================] - 0s 3ms/step - loss: 15.2931 - accuracy: 0.0000e+00\n",
            "Epoch 92/100\n",
            "25/25 [==============================] - 0s 3ms/step - loss: 15.2931 - accuracy: 0.0000e+00\n",
            "Epoch 93/100\n",
            "25/25 [==============================] - 0s 3ms/step - loss: 15.2931 - accuracy: 0.0000e+00\n",
            "Epoch 94/100\n",
            "25/25 [==============================] - 0s 3ms/step - loss: 15.2931 - accuracy: 0.0000e+00\n",
            "Epoch 95/100\n",
            "25/25 [==============================] - 0s 3ms/step - loss: 15.2931 - accuracy: 0.0000e+00\n",
            "Epoch 96/100\n",
            "25/25 [==============================] - 0s 3ms/step - loss: 15.2931 - accuracy: 0.0000e+00\n",
            "Epoch 97/100\n",
            "25/25 [==============================] - 0s 3ms/step - loss: 15.2931 - accuracy: 0.0000e+00\n",
            "Epoch 98/100\n",
            "25/25 [==============================] - 0s 3ms/step - loss: 15.2931 - accuracy: 0.0000e+00\n",
            "Epoch 99/100\n",
            "25/25 [==============================] - 0s 3ms/step - loss: 15.2931 - accuracy: 0.0000e+00\n",
            "Epoch 100/100\n",
            "25/25 [==============================] - 0s 3ms/step - loss: 15.2931 - accuracy: 0.0000e+00\n"
          ]
        },
        {
          "output_type": "execute_result",
          "data": {
            "text/plain": [
              "<keras.callbacks.History at 0x7f60144c3a60>"
            ]
          },
          "metadata": {},
          "execution_count": 33
        }
      ]
    },
    {
      "cell_type": "code",
      "source": [],
      "metadata": {
        "id": "7lDMj5EmkgKO"
      },
      "execution_count": null,
      "outputs": []
    },
    {
      "cell_type": "code",
      "source": [],
      "metadata": {
        "id": "ZUwxpCUbkgHn"
      },
      "execution_count": null,
      "outputs": []
    },
    {
      "cell_type": "code",
      "source": [],
      "metadata": {
        "id": "45jECZzNkgEy"
      },
      "execution_count": null,
      "outputs": []
    },
    {
      "cell_type": "code",
      "source": [
        "# Set random seed\n",
        "tf.random.set_seed(42)\n",
        "\n",
        "# Create a model\n",
        "model_6 = tf.keras.Sequential([\n",
        "  tf.keras.layers.Dense(4, activation=tf.keras.activations.relu), # hidden layer 1, 4 neurons, ReLU activation\n",
        "  tf.keras.layers.Dense(4, activation=tf.keras.activations.relu), # hidden layer 2, 4 neurons, ReLU activation\n",
        "  tf.keras.layers.Dense(1) # ouput layer\n",
        "])\n",
        "\n",
        "# Compile the model\n",
        "model_6.compile(loss=tf.keras.losses.binary_crossentropy,\n",
        "                optimizer=tf.keras.optimizers.Adam(lr=0.001), # Adam's default learning rate is 0.001\n",
        "                metrics=['accuracy'])\n",
        "\n",
        "# Fit the model\n",
        "history = model_6.fit(X, y, epochs=100)"
      ],
      "metadata": {
        "id": "wYucWrIwkgBr",
        "colab": {
          "base_uri": "https://localhost:8080/"
        },
        "outputId": "7e4f294e-76d0-4ae0-9ca0-bbccab65a8e0"
      },
      "execution_count": 28,
      "outputs": [
        {
          "output_type": "stream",
          "name": "stderr",
          "text": [
            "WARNING:absl:`lr` is deprecated in Keras optimizer, please use `learning_rate` or use the legacy optimizer, e.g.,tf.keras.optimizers.legacy.Adam.\n"
          ]
        },
        {
          "output_type": "stream",
          "name": "stdout",
          "text": [
            "Epoch 1/100\n",
            "32/32 [==============================] - 5s 3ms/step - loss: 3.1130 - accuracy: 0.5000\n",
            "Epoch 2/100\n",
            "32/32 [==============================] - 0s 3ms/step - loss: 2.5655 - accuracy: 0.5000\n",
            "Epoch 3/100\n",
            "32/32 [==============================] - 0s 4ms/step - loss: 2.3286 - accuracy: 0.4900\n",
            "Epoch 4/100\n",
            "32/32 [==============================] - 0s 3ms/step - loss: 1.8566 - accuracy: 0.4110\n",
            "Epoch 5/100\n",
            "32/32 [==============================] - 0s 3ms/step - loss: 1.2264 - accuracy: 0.3750\n",
            "Epoch 6/100\n",
            "32/32 [==============================] - 0s 4ms/step - loss: 1.1273 - accuracy: 0.3830\n",
            "Epoch 7/100\n",
            "32/32 [==============================] - 0s 3ms/step - loss: 1.0899 - accuracy: 0.4080\n",
            "Epoch 8/100\n",
            "32/32 [==============================] - 0s 4ms/step - loss: 1.0592 - accuracy: 0.4120\n",
            "Epoch 9/100\n",
            "32/32 [==============================] - 0s 4ms/step - loss: 1.0316 - accuracy: 0.4260\n",
            "Epoch 10/100\n",
            "32/32 [==============================] - 0s 3ms/step - loss: 1.0063 - accuracy: 0.4080\n",
            "Epoch 11/100\n",
            "32/32 [==============================] - 0s 3ms/step - loss: 0.9814 - accuracy: 0.4090\n",
            "Epoch 12/100\n",
            "32/32 [==============================] - 0s 3ms/step - loss: 0.9548 - accuracy: 0.4040\n",
            "Epoch 13/100\n",
            "32/32 [==============================] - 0s 3ms/step - loss: 0.9274 - accuracy: 0.3970\n",
            "Epoch 14/100\n",
            "32/32 [==============================] - 0s 3ms/step - loss: 0.8994 - accuracy: 0.4130\n",
            "Epoch 15/100\n",
            "32/32 [==============================] - 0s 3ms/step - loss: 0.8628 - accuracy: 0.4120\n",
            "Epoch 16/100\n",
            "32/32 [==============================] - 0s 3ms/step - loss: 0.8169 - accuracy: 0.4280\n",
            "Epoch 17/100\n",
            "32/32 [==============================] - 0s 4ms/step - loss: 0.7777 - accuracy: 0.4250\n",
            "Epoch 18/100\n",
            "32/32 [==============================] - 0s 4ms/step - loss: 0.7574 - accuracy: 0.4100\n",
            "Epoch 19/100\n",
            "32/32 [==============================] - 0s 3ms/step - loss: 0.7450 - accuracy: 0.4010\n",
            "Epoch 20/100\n",
            "32/32 [==============================] - 0s 3ms/step - loss: 0.7356 - accuracy: 0.4480\n",
            "Epoch 21/100\n",
            "32/32 [==============================] - 0s 3ms/step - loss: 0.7289 - accuracy: 0.4200\n",
            "Epoch 22/100\n",
            "32/32 [==============================] - 0s 3ms/step - loss: 0.7231 - accuracy: 0.4630\n",
            "Epoch 23/100\n",
            "32/32 [==============================] - 0s 3ms/step - loss: 0.7185 - accuracy: 0.4570\n",
            "Epoch 24/100\n",
            "32/32 [==============================] - 0s 3ms/step - loss: 0.7150 - accuracy: 0.4680\n",
            "Epoch 25/100\n",
            "32/32 [==============================] - 0s 3ms/step - loss: 0.7118 - accuracy: 0.4720\n",
            "Epoch 26/100\n",
            "32/32 [==============================] - 0s 3ms/step - loss: 0.7085 - accuracy: 0.4790\n",
            "Epoch 27/100\n",
            "32/32 [==============================] - 0s 3ms/step - loss: 0.7061 - accuracy: 0.4850\n",
            "Epoch 28/100\n",
            "32/32 [==============================] - 0s 3ms/step - loss: 0.7034 - accuracy: 0.4880\n",
            "Epoch 29/100\n",
            "32/32 [==============================] - 0s 3ms/step - loss: 0.7018 - accuracy: 0.4900\n",
            "Epoch 30/100\n",
            "32/32 [==============================] - 0s 3ms/step - loss: 0.7000 - accuracy: 0.4930\n",
            "Epoch 31/100\n",
            "32/32 [==============================] - 0s 3ms/step - loss: 0.6982 - accuracy: 0.4850\n",
            "Epoch 32/100\n",
            "32/32 [==============================] - 0s 3ms/step - loss: 0.6969 - accuracy: 0.4870\n",
            "Epoch 33/100\n",
            "32/32 [==============================] - 0s 3ms/step - loss: 0.6954 - accuracy: 0.4920\n",
            "Epoch 34/100\n",
            "32/32 [==============================] - 0s 3ms/step - loss: 0.6941 - accuracy: 0.4900\n",
            "Epoch 35/100\n",
            "32/32 [==============================] - 0s 4ms/step - loss: 0.6928 - accuracy: 0.4950\n",
            "Epoch 36/100\n",
            "32/32 [==============================] - 0s 3ms/step - loss: 0.6910 - accuracy: 0.5010\n",
            "Epoch 37/100\n",
            "32/32 [==============================] - 0s 3ms/step - loss: 0.6896 - accuracy: 0.5040\n",
            "Epoch 38/100\n",
            "32/32 [==============================] - 0s 3ms/step - loss: 0.6884 - accuracy: 0.5020\n",
            "Epoch 39/100\n",
            "32/32 [==============================] - 0s 3ms/step - loss: 0.6866 - accuracy: 0.5160\n",
            "Epoch 40/100\n",
            "32/32 [==============================] - 0s 3ms/step - loss: 0.6854 - accuracy: 0.5170\n",
            "Epoch 41/100\n",
            "32/32 [==============================] - 0s 3ms/step - loss: 0.6842 - accuracy: 0.5280\n",
            "Epoch 42/100\n",
            "32/32 [==============================] - 0s 3ms/step - loss: 0.6824 - accuracy: 0.5320\n",
            "Epoch 43/100\n",
            "32/32 [==============================] - 0s 3ms/step - loss: 0.6809 - accuracy: 0.5320\n",
            "Epoch 44/100\n",
            "32/32 [==============================] - 0s 4ms/step - loss: 0.6801 - accuracy: 0.5650\n",
            "Epoch 45/100\n",
            "32/32 [==============================] - 0s 4ms/step - loss: 0.6778 - accuracy: 0.5590\n",
            "Epoch 46/100\n",
            "32/32 [==============================] - 0s 3ms/step - loss: 0.6764 - accuracy: 0.5650\n",
            "Epoch 47/100\n",
            "32/32 [==============================] - 0s 3ms/step - loss: 0.6755 - accuracy: 0.5630\n",
            "Epoch 48/100\n",
            "32/32 [==============================] - 0s 4ms/step - loss: 0.6737 - accuracy: 0.5900\n",
            "Epoch 49/100\n",
            "32/32 [==============================] - 0s 3ms/step - loss: 0.6718 - accuracy: 0.6000\n",
            "Epoch 50/100\n",
            "32/32 [==============================] - 0s 3ms/step - loss: 0.6704 - accuracy: 0.6050\n",
            "Epoch 51/100\n",
            "32/32 [==============================] - 0s 3ms/step - loss: 0.6687 - accuracy: 0.6080\n",
            "Epoch 52/100\n",
            "32/32 [==============================] - 0s 3ms/step - loss: 0.6669 - accuracy: 0.6380\n",
            "Epoch 53/100\n",
            "32/32 [==============================] - 0s 4ms/step - loss: 0.6649 - accuracy: 0.6130\n",
            "Epoch 54/100\n",
            "32/32 [==============================] - 0s 3ms/step - loss: 0.6631 - accuracy: 0.6510\n",
            "Epoch 55/100\n",
            "32/32 [==============================] - 0s 3ms/step - loss: 0.6621 - accuracy: 0.6790\n",
            "Epoch 56/100\n",
            "32/32 [==============================] - 0s 3ms/step - loss: 0.6595 - accuracy: 0.6550\n",
            "Epoch 57/100\n",
            "32/32 [==============================] - 0s 3ms/step - loss: 0.6575 - accuracy: 0.6240\n",
            "Epoch 58/100\n",
            "32/32 [==============================] - 0s 3ms/step - loss: 0.6553 - accuracy: 0.6780\n",
            "Epoch 59/100\n",
            "32/32 [==============================] - 0s 3ms/step - loss: 0.6529 - accuracy: 0.6890\n",
            "Epoch 60/100\n",
            "32/32 [==============================] - 0s 3ms/step - loss: 0.6477 - accuracy: 0.6040\n",
            "Epoch 61/100\n",
            "32/32 [==============================] - 0s 3ms/step - loss: 0.6439 - accuracy: 0.5820\n",
            "Epoch 62/100\n",
            "32/32 [==============================] - 0s 4ms/step - loss: 0.6392 - accuracy: 0.6390\n",
            "Epoch 63/100\n",
            "32/32 [==============================] - 0s 3ms/step - loss: 0.6348 - accuracy: 0.6670\n",
            "Epoch 64/100\n",
            "32/32 [==============================] - 0s 3ms/step - loss: 0.6308 - accuracy: 0.6550\n",
            "Epoch 65/100\n",
            "32/32 [==============================] - 0s 3ms/step - loss: 0.6269 - accuracy: 0.6810\n",
            "Epoch 66/100\n",
            "32/32 [==============================] - 0s 4ms/step - loss: 0.6222 - accuracy: 0.6950\n",
            "Epoch 67/100\n",
            "32/32 [==============================] - 0s 3ms/step - loss: 0.6185 - accuracy: 0.6630\n",
            "Epoch 68/100\n",
            "32/32 [==============================] - 0s 3ms/step - loss: 0.6140 - accuracy: 0.7000\n",
            "Epoch 69/100\n",
            "32/32 [==============================] - 0s 3ms/step - loss: 0.6103 - accuracy: 0.7150\n",
            "Epoch 70/100\n",
            "32/32 [==============================] - 0s 4ms/step - loss: 0.6059 - accuracy: 0.6990\n",
            "Epoch 71/100\n",
            "32/32 [==============================] - 0s 4ms/step - loss: 0.6013 - accuracy: 0.7190\n",
            "Epoch 72/100\n",
            "32/32 [==============================] - 0s 3ms/step - loss: 0.5969 - accuracy: 0.7350\n",
            "Epoch 73/100\n",
            "32/32 [==============================] - 0s 4ms/step - loss: 0.5913 - accuracy: 0.7430\n",
            "Epoch 74/100\n",
            "32/32 [==============================] - 0s 4ms/step - loss: 0.5845 - accuracy: 0.7560\n",
            "Epoch 75/100\n",
            "32/32 [==============================] - 0s 3ms/step - loss: 0.5772 - accuracy: 0.7830\n",
            "Epoch 76/100\n",
            "32/32 [==============================] - 0s 4ms/step - loss: 0.5695 - accuracy: 0.7310\n",
            "Epoch 77/100\n",
            "32/32 [==============================] - 0s 4ms/step - loss: 0.5622 - accuracy: 0.8450\n",
            "Epoch 78/100\n",
            "32/32 [==============================] - 0s 4ms/step - loss: 0.5537 - accuracy: 0.7720\n",
            "Epoch 79/100\n",
            "32/32 [==============================] - 0s 4ms/step - loss: 0.5453 - accuracy: 0.8680\n",
            "Epoch 80/100\n",
            "32/32 [==============================] - 0s 4ms/step - loss: 0.5336 - accuracy: 0.8980\n",
            "Epoch 81/100\n",
            "32/32 [==============================] - 0s 3ms/step - loss: 0.5242 - accuracy: 0.9120\n",
            "Epoch 82/100\n",
            "32/32 [==============================] - 0s 4ms/step - loss: 0.5147 - accuracy: 0.9200\n",
            "Epoch 83/100\n",
            "32/32 [==============================] - 0s 5ms/step - loss: 0.5053 - accuracy: 0.9290\n",
            "Epoch 84/100\n",
            "32/32 [==============================] - 0s 4ms/step - loss: 0.4949 - accuracy: 0.9600\n",
            "Epoch 85/100\n",
            "32/32 [==============================] - 0s 4ms/step - loss: 0.4853 - accuracy: 0.9560\n",
            "Epoch 86/100\n",
            "32/32 [==============================] - 0s 5ms/step - loss: 0.4770 - accuracy: 0.9610\n",
            "Epoch 87/100\n",
            "32/32 [==============================] - 0s 4ms/step - loss: 0.4655 - accuracy: 0.9520\n",
            "Epoch 88/100\n",
            "32/32 [==============================] - 0s 4ms/step - loss: 0.4550 - accuracy: 0.9580\n",
            "Epoch 89/100\n",
            "32/32 [==============================] - 0s 4ms/step - loss: 0.4444 - accuracy: 0.9690\n",
            "Epoch 90/100\n",
            "32/32 [==============================] - 0s 4ms/step - loss: 0.4323 - accuracy: 0.9270\n",
            "Epoch 91/100\n",
            "32/32 [==============================] - 0s 4ms/step - loss: 0.4183 - accuracy: 0.9660\n",
            "Epoch 92/100\n",
            "32/32 [==============================] - 0s 4ms/step - loss: 0.4064 - accuracy: 0.9790\n",
            "Epoch 93/100\n",
            "32/32 [==============================] - 0s 4ms/step - loss: 0.3954 - accuracy: 0.9500\n",
            "Epoch 94/100\n",
            "32/32 [==============================] - 0s 4ms/step - loss: 0.3851 - accuracy: 0.9830\n",
            "Epoch 95/100\n",
            "32/32 [==============================] - 0s 5ms/step - loss: 0.3722 - accuracy: 0.9710\n",
            "Epoch 96/100\n",
            "32/32 [==============================] - 0s 5ms/step - loss: 0.3614 - accuracy: 0.9740\n",
            "Epoch 97/100\n",
            "32/32 [==============================] - 0s 4ms/step - loss: 0.3498 - accuracy: 0.9770\n",
            "Epoch 98/100\n",
            "32/32 [==============================] - 0s 5ms/step - loss: 0.3387 - accuracy: 0.9900\n",
            "Epoch 99/100\n",
            "32/32 [==============================] - 0s 3ms/step - loss: 0.3281 - accuracy: 0.9800\n",
            "Epoch 100/100\n",
            "32/32 [==============================] - 0s 4ms/step - loss: 0.3168 - accuracy: 0.9800\n"
          ]
        }
      ]
    },
    {
      "cell_type": "code",
      "source": [
        "tf.random.set_seed(42)\n",
        "\n",
        "\n",
        "model_4 = tf.keras.models.Sequential([\n",
        "    tf.keras.layers.Dense(4, activation= 'relu'),\n",
        "    tf.keras.layers.Dense(4, activation= 'relu'),\n",
        "    tf.keras.layers.Dense(4, activation= 'relu'),  #number of hidden layers is increased\n",
        "    tf.keras.layers.Dense(1, activation= 'softmax')  #activation function(Sigmoid) for output layer to get 1 answer instead of predictions\n",
        "])\n",
        "\n",
        "#compile the model\n",
        "model_4.compile(loss= tf.keras.losses.binary_crossentropy,\n",
        "                optimizer= tf.keras.optimizers.Adam(lr= 0.001),   #optimizer is chnaged to the Adam with learning rate of 0.001\n",
        "                metrics = tf.keras.metrics.Accuracy())\n",
        "\n",
        "#fit the model\n",
        "model_4.fit(tf.expand_dims(X_train,axis=-1),y_train, epochs= 100)"
      ],
      "metadata": {
        "colab": {
          "base_uri": "https://localhost:8080/"
        },
        "id": "dg5aYrUJLsRi",
        "outputId": "6a281c21-0dfd-44a4-9a52-8f571b87ed04"
      },
      "execution_count": 34,
      "outputs": [
        {
          "output_type": "stream",
          "name": "stderr",
          "text": [
            "WARNING:absl:`lr` is deprecated in Keras optimizer, please use `learning_rate` or use the legacy optimizer, e.g.,tf.keras.optimizers.legacy.Adam.\n"
          ]
        },
        {
          "output_type": "stream",
          "name": "stdout",
          "text": [
            "Epoch 1/100\n",
            "25/25 [==============================] - 3s 3ms/step - loss: 15.2931 - accuracy: 0.0000e+00\n",
            "Epoch 2/100\n",
            "25/25 [==============================] - 0s 3ms/step - loss: 15.2931 - accuracy: 0.0000e+00\n",
            "Epoch 3/100\n",
            "25/25 [==============================] - 0s 3ms/step - loss: 15.2931 - accuracy: 0.0000e+00\n",
            "Epoch 4/100\n",
            "25/25 [==============================] - 0s 3ms/step - loss: 15.2931 - accuracy: 0.0000e+00\n",
            "Epoch 5/100\n",
            "25/25 [==============================] - 0s 4ms/step - loss: 15.2931 - accuracy: 0.0000e+00\n",
            "Epoch 6/100\n",
            "25/25 [==============================] - 0s 3ms/step - loss: 15.2931 - accuracy: 0.0000e+00\n",
            "Epoch 7/100\n",
            "25/25 [==============================] - 0s 3ms/step - loss: 15.2931 - accuracy: 0.0000e+00\n",
            "Epoch 8/100\n",
            "25/25 [==============================] - 0s 3ms/step - loss: 15.2931 - accuracy: 0.0000e+00\n",
            "Epoch 9/100\n",
            "25/25 [==============================] - 0s 3ms/step - loss: 15.2931 - accuracy: 0.0000e+00\n",
            "Epoch 10/100\n",
            "25/25 [==============================] - 0s 3ms/step - loss: 15.2931 - accuracy: 0.0000e+00\n",
            "Epoch 11/100\n",
            "25/25 [==============================] - 0s 3ms/step - loss: 15.2931 - accuracy: 0.0000e+00\n",
            "Epoch 12/100\n",
            "25/25 [==============================] - 0s 3ms/step - loss: 15.2931 - accuracy: 0.0000e+00\n",
            "Epoch 13/100\n",
            "25/25 [==============================] - 0s 3ms/step - loss: 15.2931 - accuracy: 0.0000e+00\n",
            "Epoch 14/100\n",
            "25/25 [==============================] - 0s 3ms/step - loss: 15.2931 - accuracy: 0.0000e+00\n",
            "Epoch 15/100\n",
            "25/25 [==============================] - 0s 3ms/step - loss: 15.2931 - accuracy: 0.0000e+00\n",
            "Epoch 16/100\n",
            "25/25 [==============================] - 0s 3ms/step - loss: 15.2931 - accuracy: 0.0000e+00\n",
            "Epoch 17/100\n",
            "25/25 [==============================] - 0s 3ms/step - loss: 15.2931 - accuracy: 0.0000e+00\n",
            "Epoch 18/100\n",
            "25/25 [==============================] - 0s 3ms/step - loss: 15.2931 - accuracy: 0.0000e+00\n",
            "Epoch 19/100\n",
            "25/25 [==============================] - 0s 3ms/step - loss: 15.2931 - accuracy: 0.0000e+00\n",
            "Epoch 20/100\n",
            "25/25 [==============================] - 0s 3ms/step - loss: 15.2931 - accuracy: 0.0000e+00\n",
            "Epoch 21/100\n",
            "25/25 [==============================] - 0s 3ms/step - loss: 15.2931 - accuracy: 0.0000e+00\n",
            "Epoch 22/100\n",
            "25/25 [==============================] - 0s 3ms/step - loss: 15.2931 - accuracy: 0.0000e+00\n",
            "Epoch 23/100\n",
            "25/25 [==============================] - 0s 3ms/step - loss: 15.2931 - accuracy: 0.0000e+00\n",
            "Epoch 24/100\n",
            "25/25 [==============================] - 0s 3ms/step - loss: 15.2931 - accuracy: 0.0000e+00\n",
            "Epoch 25/100\n",
            "25/25 [==============================] - 0s 3ms/step - loss: 15.2931 - accuracy: 0.0000e+00\n",
            "Epoch 26/100\n",
            "25/25 [==============================] - 0s 3ms/step - loss: 15.2931 - accuracy: 0.0000e+00\n",
            "Epoch 27/100\n",
            "25/25 [==============================] - 0s 3ms/step - loss: 15.2931 - accuracy: 0.0000e+00\n",
            "Epoch 28/100\n",
            "25/25 [==============================] - 0s 3ms/step - loss: 15.2931 - accuracy: 0.0000e+00\n",
            "Epoch 29/100\n",
            "25/25 [==============================] - 0s 3ms/step - loss: 15.2931 - accuracy: 0.0000e+00\n",
            "Epoch 30/100\n",
            "25/25 [==============================] - 0s 3ms/step - loss: 15.2931 - accuracy: 0.0000e+00\n",
            "Epoch 31/100\n",
            "25/25 [==============================] - 0s 3ms/step - loss: 15.2931 - accuracy: 0.0000e+00\n",
            "Epoch 32/100\n",
            "25/25 [==============================] - 0s 3ms/step - loss: 15.2931 - accuracy: 0.0000e+00\n",
            "Epoch 33/100\n",
            "25/25 [==============================] - 0s 3ms/step - loss: 15.2931 - accuracy: 0.0000e+00\n",
            "Epoch 34/100\n",
            "25/25 [==============================] - 0s 3ms/step - loss: 15.2931 - accuracy: 0.0000e+00\n",
            "Epoch 35/100\n",
            "25/25 [==============================] - 0s 3ms/step - loss: 15.2931 - accuracy: 0.0000e+00\n",
            "Epoch 36/100\n",
            "25/25 [==============================] - 0s 3ms/step - loss: 15.2931 - accuracy: 0.0000e+00\n",
            "Epoch 37/100\n",
            "25/25 [==============================] - 0s 3ms/step - loss: 15.2931 - accuracy: 0.0000e+00\n",
            "Epoch 38/100\n",
            "25/25 [==============================] - 0s 3ms/step - loss: 15.2931 - accuracy: 0.0000e+00\n",
            "Epoch 39/100\n",
            "25/25 [==============================] - 0s 3ms/step - loss: 15.2931 - accuracy: 0.0000e+00\n",
            "Epoch 40/100\n",
            "25/25 [==============================] - 0s 3ms/step - loss: 15.2931 - accuracy: 0.0000e+00\n",
            "Epoch 41/100\n",
            "25/25 [==============================] - 0s 3ms/step - loss: 15.2931 - accuracy: 0.0000e+00\n",
            "Epoch 42/100\n",
            "25/25 [==============================] - 0s 3ms/step - loss: 15.2931 - accuracy: 0.0000e+00\n",
            "Epoch 43/100\n",
            "25/25 [==============================] - 0s 3ms/step - loss: 15.2931 - accuracy: 0.0000e+00\n",
            "Epoch 44/100\n",
            "25/25 [==============================] - 0s 3ms/step - loss: 15.2931 - accuracy: 0.0000e+00\n",
            "Epoch 45/100\n",
            "25/25 [==============================] - 0s 4ms/step - loss: 15.2931 - accuracy: 0.0000e+00\n",
            "Epoch 46/100\n",
            "25/25 [==============================] - 0s 3ms/step - loss: 15.2931 - accuracy: 0.0000e+00\n",
            "Epoch 47/100\n",
            "25/25 [==============================] - 0s 3ms/step - loss: 15.2931 - accuracy: 0.0000e+00\n",
            "Epoch 48/100\n",
            "25/25 [==============================] - 0s 3ms/step - loss: 15.2931 - accuracy: 0.0000e+00\n",
            "Epoch 49/100\n",
            "25/25 [==============================] - 0s 3ms/step - loss: 15.2931 - accuracy: 0.0000e+00\n",
            "Epoch 50/100\n",
            "25/25 [==============================] - 0s 3ms/step - loss: 15.2931 - accuracy: 0.0000e+00\n",
            "Epoch 51/100\n",
            "25/25 [==============================] - 0s 3ms/step - loss: 15.2931 - accuracy: 0.0000e+00\n",
            "Epoch 52/100\n",
            "25/25 [==============================] - 0s 3ms/step - loss: 15.2931 - accuracy: 0.0000e+00\n",
            "Epoch 53/100\n",
            "25/25 [==============================] - 0s 3ms/step - loss: 15.2931 - accuracy: 0.0000e+00\n",
            "Epoch 54/100\n",
            "25/25 [==============================] - 0s 3ms/step - loss: 15.2931 - accuracy: 0.0000e+00\n",
            "Epoch 55/100\n",
            "25/25 [==============================] - 0s 3ms/step - loss: 15.2931 - accuracy: 0.0000e+00\n",
            "Epoch 56/100\n",
            "25/25 [==============================] - 0s 3ms/step - loss: 15.2931 - accuracy: 0.0000e+00\n",
            "Epoch 57/100\n",
            "25/25 [==============================] - 0s 3ms/step - loss: 15.2931 - accuracy: 0.0000e+00\n",
            "Epoch 58/100\n",
            "25/25 [==============================] - 0s 3ms/step - loss: 15.2931 - accuracy: 0.0000e+00\n",
            "Epoch 59/100\n",
            "25/25 [==============================] - 0s 3ms/step - loss: 15.2931 - accuracy: 0.0000e+00\n",
            "Epoch 60/100\n",
            "25/25 [==============================] - 0s 3ms/step - loss: 15.2931 - accuracy: 0.0000e+00\n",
            "Epoch 61/100\n",
            "25/25 [==============================] - 0s 3ms/step - loss: 15.2931 - accuracy: 0.0000e+00\n",
            "Epoch 62/100\n",
            "25/25 [==============================] - 0s 3ms/step - loss: 15.2931 - accuracy: 0.0000e+00\n",
            "Epoch 63/100\n",
            "25/25 [==============================] - 0s 3ms/step - loss: 15.2931 - accuracy: 0.0000e+00\n",
            "Epoch 64/100\n",
            "25/25 [==============================] - 0s 3ms/step - loss: 15.2931 - accuracy: 0.0000e+00\n",
            "Epoch 65/100\n",
            "25/25 [==============================] - 0s 3ms/step - loss: 15.2931 - accuracy: 0.0000e+00\n",
            "Epoch 66/100\n",
            "25/25 [==============================] - 0s 3ms/step - loss: 15.2931 - accuracy: 0.0000e+00\n",
            "Epoch 67/100\n",
            "25/25 [==============================] - 0s 3ms/step - loss: 15.2931 - accuracy: 0.0000e+00\n",
            "Epoch 68/100\n",
            "25/25 [==============================] - 0s 3ms/step - loss: 15.2931 - accuracy: 0.0000e+00\n",
            "Epoch 69/100\n",
            "25/25 [==============================] - 0s 3ms/step - loss: 15.2931 - accuracy: 0.0000e+00\n",
            "Epoch 70/100\n",
            "25/25 [==============================] - 0s 3ms/step - loss: 15.2931 - accuracy: 0.0000e+00\n",
            "Epoch 71/100\n",
            "25/25 [==============================] - 0s 3ms/step - loss: 15.2931 - accuracy: 0.0000e+00\n",
            "Epoch 72/100\n",
            "25/25 [==============================] - 0s 5ms/step - loss: 15.2931 - accuracy: 0.0000e+00\n",
            "Epoch 73/100\n",
            "25/25 [==============================] - 0s 5ms/step - loss: 15.2931 - accuracy: 0.0000e+00\n",
            "Epoch 74/100\n",
            "25/25 [==============================] - 0s 5ms/step - loss: 15.2931 - accuracy: 0.0000e+00\n",
            "Epoch 75/100\n",
            "25/25 [==============================] - 0s 5ms/step - loss: 15.2931 - accuracy: 0.0000e+00\n",
            "Epoch 76/100\n",
            "25/25 [==============================] - 0s 4ms/step - loss: 15.2931 - accuracy: 0.0000e+00\n",
            "Epoch 77/100\n",
            "25/25 [==============================] - 0s 4ms/step - loss: 15.2931 - accuracy: 0.0000e+00\n",
            "Epoch 78/100\n",
            "25/25 [==============================] - 0s 5ms/step - loss: 15.2931 - accuracy: 0.0000e+00\n",
            "Epoch 79/100\n",
            "25/25 [==============================] - 0s 4ms/step - loss: 15.2931 - accuracy: 0.0000e+00\n",
            "Epoch 80/100\n",
            "25/25 [==============================] - 0s 4ms/step - loss: 15.2931 - accuracy: 0.0000e+00\n",
            "Epoch 81/100\n",
            "25/25 [==============================] - 0s 4ms/step - loss: 15.2931 - accuracy: 0.0000e+00\n",
            "Epoch 82/100\n",
            "25/25 [==============================] - 0s 4ms/step - loss: 15.2931 - accuracy: 0.0000e+00\n",
            "Epoch 83/100\n",
            "25/25 [==============================] - 0s 4ms/step - loss: 15.2931 - accuracy: 0.0000e+00\n",
            "Epoch 84/100\n",
            "25/25 [==============================] - 0s 4ms/step - loss: 15.2931 - accuracy: 0.0000e+00\n",
            "Epoch 85/100\n",
            "25/25 [==============================] - 0s 4ms/step - loss: 15.2931 - accuracy: 0.0000e+00\n",
            "Epoch 86/100\n",
            "25/25 [==============================] - 0s 4ms/step - loss: 15.2931 - accuracy: 0.0000e+00\n",
            "Epoch 87/100\n",
            "25/25 [==============================] - 0s 4ms/step - loss: 15.2931 - accuracy: 0.0000e+00\n",
            "Epoch 88/100\n",
            "25/25 [==============================] - 0s 4ms/step - loss: 15.2931 - accuracy: 0.0000e+00\n",
            "Epoch 89/100\n",
            "25/25 [==============================] - 0s 4ms/step - loss: 15.2931 - accuracy: 0.0000e+00\n",
            "Epoch 90/100\n",
            "25/25 [==============================] - 0s 4ms/step - loss: 15.2931 - accuracy: 0.0000e+00\n",
            "Epoch 91/100\n",
            "25/25 [==============================] - 0s 4ms/step - loss: 15.2931 - accuracy: 0.0000e+00\n",
            "Epoch 92/100\n",
            "25/25 [==============================] - 0s 5ms/step - loss: 15.2931 - accuracy: 0.0000e+00\n",
            "Epoch 93/100\n",
            "25/25 [==============================] - 0s 3ms/step - loss: 15.2931 - accuracy: 0.0000e+00\n",
            "Epoch 94/100\n",
            "25/25 [==============================] - 0s 3ms/step - loss: 15.2931 - accuracy: 0.0000e+00\n",
            "Epoch 95/100\n",
            "25/25 [==============================] - 0s 3ms/step - loss: 15.2931 - accuracy: 0.0000e+00\n",
            "Epoch 96/100\n",
            "25/25 [==============================] - 0s 4ms/step - loss: 15.2931 - accuracy: 0.0000e+00\n",
            "Epoch 97/100\n",
            "25/25 [==============================] - 0s 3ms/step - loss: 15.2931 - accuracy: 0.0000e+00\n",
            "Epoch 98/100\n",
            "25/25 [==============================] - 0s 4ms/step - loss: 15.2931 - accuracy: 0.0000e+00\n",
            "Epoch 99/100\n",
            "25/25 [==============================] - 0s 3ms/step - loss: 15.2931 - accuracy: 0.0000e+00\n",
            "Epoch 100/100\n",
            "25/25 [==============================] - 0s 4ms/step - loss: 15.2931 - accuracy: 0.0000e+00\n"
          ]
        },
        {
          "output_type": "execute_result",
          "data": {
            "text/plain": [
              "<keras.callbacks.History at 0x7f601427a2c0>"
            ]
          },
          "metadata": {},
          "execution_count": 34
        }
      ]
    },
    {
      "cell_type": "markdown",
      "source": [
        "# If you have similar problem,\n",
        "which is you have 0 accuracy, There can be few issues with your model, Check and fix\n",
        "\n",
        "* Check your batch_size if it's too large or too small\n",
        "* Check if the learning rate is too high or low\n",
        "* if it's text dataset, check the length of sentences, if too large then trim with an average length\n",
        "* Check if there are NaN values in your dataset, fix it\n",
        "* Check if the dataset doesn't contain special symbols or characters\n",
        "* If values are continuous, Normalize it before sending to the network ( check batch normalization )\n",
        "* Try regularization techniques\n",
        "* Check the activation functions\n",
        "* Shuffle the data"
      ],
      "metadata": {
        "id": "tp8KwL-nNTnb"
      }
    },
    {
      "cell_type": "code",
      "source": [
        "#actually, i have checked all of them already instead of on,let's get shuffled our data\n",
        "shuffled_circles = circles.sample(frac= 1)\n",
        "\n",
        "#get the depenetend and independent variables\n",
        "X = shuffled_circles.drop('y',axis=1)\n",
        "y = shuffled_circles['y']\n",
        "\n",
        "#train test split\n",
        "from sklearn.model_selection import train_test_split\n",
        "X_train,X_test,y_train,y_test = train_test_split(X,y,test_size=0.2,random_state= 1)"
      ],
      "metadata": {
        "id": "PJJe1xVoN1PF"
      },
      "execution_count": 56,
      "outputs": []
    },
    {
      "cell_type": "markdown",
      "source": [
        "## Model 5"
      ],
      "metadata": {
        "id": "z-nHVA3LN4bT"
      }
    },
    {
      "cell_type": "code",
      "source": [
        "#Create the model 5\n",
        "model_5 = tf.keras.models.Sequential([\n",
        "    tf.keras.layers.Dense(100,activation= 'relu'),\n",
        "    tf.keras.layers.Dense(100,activation= 'relu'),\n",
        "    tf.keras.layers.Dense(1,activation= 'softmax')\n",
        "])\n",
        "\n",
        "#compile the model\n",
        "model_5.compile(loss= tf.keras.losses.BinaryCrossentropy(),\n",
        "                optimizer= 'adam',\n",
        "                metrics= ['accuracy'])\n",
        "\n",
        "#fit the kodel\n",
        "model_5.fit(tf.expand_dims(X_train,axis=-1),y_train, epochs=10)"
      ],
      "metadata": {
        "colab": {
          "base_uri": "https://localhost:8080/"
        },
        "id": "ZlsVH6s5OyHo",
        "outputId": "c6599dad-c3dd-4034-cf51-dd87669b2e29"
      },
      "execution_count": 57,
      "outputs": [
        {
          "output_type": "stream",
          "name": "stdout",
          "text": [
            "Epoch 1/10\n",
            "25/25 [==============================] - 2s 6ms/step - loss: 7.5674 - accuracy: 0.5038\n",
            "Epoch 2/10\n",
            "25/25 [==============================] - 0s 5ms/step - loss: 7.5674 - accuracy: 0.5038\n",
            "Epoch 3/10\n",
            "25/25 [==============================] - 0s 4ms/step - loss: 7.5674 - accuracy: 0.5038\n",
            "Epoch 4/10\n",
            "25/25 [==============================] - 0s 5ms/step - loss: 7.5674 - accuracy: 0.5038\n",
            "Epoch 5/10\n",
            "25/25 [==============================] - 0s 5ms/step - loss: 7.5674 - accuracy: 0.5038\n",
            "Epoch 6/10\n",
            "25/25 [==============================] - 0s 5ms/step - loss: 7.5674 - accuracy: 0.5038\n",
            "Epoch 7/10\n",
            "25/25 [==============================] - 0s 6ms/step - loss: 7.5674 - accuracy: 0.5038\n",
            "Epoch 8/10\n",
            "25/25 [==============================] - 0s 4ms/step - loss: 7.5674 - accuracy: 0.5038\n",
            "Epoch 9/10\n",
            "25/25 [==============================] - 0s 5ms/step - loss: 7.5674 - accuracy: 0.5038\n",
            "Epoch 10/10\n",
            "25/25 [==============================] - 0s 5ms/step - loss: 7.5674 - accuracy: 0.5038\n"
          ]
        },
        {
          "output_type": "execute_result",
          "data": {
            "text/plain": [
              "<keras.callbacks.History at 0x7f607c04d510>"
            ]
          },
          "metadata": {},
          "execution_count": 57
        }
      ]
    },
    {
      "cell_type": "code",
      "source": [
        "\n",
        "predictions_5 = model_5.predict(X_test)\n",
        "model_5.evaluate(predictions_5)"
      ],
      "metadata": {
        "colab": {
          "base_uri": "https://localhost:8080/"
        },
        "id": "6JSm9HQnQOIX",
        "outputId": "8738266d-c44d-4cf1-8713-d5cc552df8a8"
      },
      "execution_count": 69,
      "outputs": [
        {
          "output_type": "stream",
          "name": "stdout",
          "text": [
            "7/7 [==============================] - 0s 4ms/step\n",
            "7/7 [==============================] - 0s 3ms/step - loss: 0.0000e+00 - accuracy: 0.0000e+00\n"
          ]
        },
        {
          "output_type": "execute_result",
          "data": {
            "text/plain": [
              "[0.0, 0.0]"
            ]
          },
          "metadata": {},
          "execution_count": 69
        }
      ]
    },
    {
      "cell_type": "code",
      "source": [
        "pd.DataFrame(tf.expand_dims(predictions_5,axis=1))"
      ],
      "metadata": {
        "colab": {
          "base_uri": "https://localhost:8080/",
          "height": 318
        },
        "id": "b-OyiLzXQaWr",
        "outputId": "6316faad-ff1f-49d0-d4a1-14fe94db7755"
      },
      "execution_count": 67,
      "outputs": [
        {
          "output_type": "error",
          "ename": "ValueError",
          "evalue": "ignored",
          "traceback": [
            "\u001b[0;31m---------------------------------------------------------------------------\u001b[0m",
            "\u001b[0;31mValueError\u001b[0m                                Traceback (most recent call last)",
            "\u001b[0;32m<ipython-input-67-0cec0849ffbc>\u001b[0m in \u001b[0;36m<cell line: 1>\u001b[0;34m()\u001b[0m\n\u001b[0;32m----> 1\u001b[0;31m \u001b[0mpd\u001b[0m\u001b[0;34m.\u001b[0m\u001b[0mDataFrame\u001b[0m\u001b[0;34m(\u001b[0m\u001b[0mtf\u001b[0m\u001b[0;34m.\u001b[0m\u001b[0mexpand_dims\u001b[0m\u001b[0;34m(\u001b[0m\u001b[0mpredictions_5\u001b[0m\u001b[0;34m,\u001b[0m\u001b[0maxis\u001b[0m\u001b[0;34m=\u001b[0m\u001b[0;36m1\u001b[0m\u001b[0;34m)\u001b[0m\u001b[0;34m)\u001b[0m\u001b[0;34m\u001b[0m\u001b[0;34m\u001b[0m\u001b[0m\n\u001b[0m",
            "\u001b[0;32m/usr/local/lib/python3.10/dist-packages/pandas/core/frame.py\u001b[0m in \u001b[0;36m__init__\u001b[0;34m(self, data, index, columns, dtype, copy)\u001b[0m\n\u001b[1;32m    760\u001b[0m                     )\n\u001b[1;32m    761\u001b[0m                 \u001b[0;32melse\u001b[0m\u001b[0;34m:\u001b[0m\u001b[0;34m\u001b[0m\u001b[0;34m\u001b[0m\u001b[0m\n\u001b[0;32m--> 762\u001b[0;31m                     mgr = ndarray_to_mgr(\n\u001b[0m\u001b[1;32m    763\u001b[0m                         \u001b[0mdata\u001b[0m\u001b[0;34m,\u001b[0m\u001b[0;34m\u001b[0m\u001b[0;34m\u001b[0m\u001b[0m\n\u001b[1;32m    764\u001b[0m                         \u001b[0mindex\u001b[0m\u001b[0;34m,\u001b[0m\u001b[0;34m\u001b[0m\u001b[0;34m\u001b[0m\u001b[0m\n",
            "\u001b[0;32m/usr/local/lib/python3.10/dist-packages/pandas/core/internals/construction.py\u001b[0m in \u001b[0;36mndarray_to_mgr\u001b[0;34m(values, index, columns, dtype, copy, typ)\u001b[0m\n\u001b[1;32m    327\u001b[0m         \u001b[0;31m# by definition an array here\u001b[0m\u001b[0;34m\u001b[0m\u001b[0;34m\u001b[0m\u001b[0m\n\u001b[1;32m    328\u001b[0m         \u001b[0;31m# the dtypes will be coerced to a single dtype\u001b[0m\u001b[0;34m\u001b[0m\u001b[0;34m\u001b[0m\u001b[0m\n\u001b[0;32m--> 329\u001b[0;31m         \u001b[0mvalues\u001b[0m \u001b[0;34m=\u001b[0m \u001b[0m_prep_ndarraylike\u001b[0m\u001b[0;34m(\u001b[0m\u001b[0mvalues\u001b[0m\u001b[0;34m,\u001b[0m \u001b[0mcopy\u001b[0m\u001b[0;34m=\u001b[0m\u001b[0mcopy_on_sanitize\u001b[0m\u001b[0;34m)\u001b[0m\u001b[0;34m\u001b[0m\u001b[0;34m\u001b[0m\u001b[0m\n\u001b[0m\u001b[1;32m    330\u001b[0m \u001b[0;34m\u001b[0m\u001b[0m\n\u001b[1;32m    331\u001b[0m     \u001b[0;32mif\u001b[0m \u001b[0mdtype\u001b[0m \u001b[0;32mis\u001b[0m \u001b[0;32mnot\u001b[0m \u001b[0;32mNone\u001b[0m \u001b[0;32mand\u001b[0m \u001b[0;32mnot\u001b[0m \u001b[0mis_dtype_equal\u001b[0m\u001b[0;34m(\u001b[0m\u001b[0mvalues\u001b[0m\u001b[0;34m.\u001b[0m\u001b[0mdtype\u001b[0m\u001b[0;34m,\u001b[0m \u001b[0mdtype\u001b[0m\u001b[0;34m)\u001b[0m\u001b[0;34m:\u001b[0m\u001b[0;34m\u001b[0m\u001b[0;34m\u001b[0m\u001b[0m\n",
            "\u001b[0;32m/usr/local/lib/python3.10/dist-packages/pandas/core/internals/construction.py\u001b[0m in \u001b[0;36m_prep_ndarraylike\u001b[0;34m(values, copy)\u001b[0m\n\u001b[1;32m    581\u001b[0m         \u001b[0mvalues\u001b[0m \u001b[0;34m=\u001b[0m \u001b[0mvalues\u001b[0m\u001b[0;34m.\u001b[0m\u001b[0mreshape\u001b[0m\u001b[0;34m(\u001b[0m\u001b[0;34m(\u001b[0m\u001b[0mvalues\u001b[0m\u001b[0;34m.\u001b[0m\u001b[0mshape\u001b[0m\u001b[0;34m[\u001b[0m\u001b[0;36m0\u001b[0m\u001b[0;34m]\u001b[0m\u001b[0;34m,\u001b[0m \u001b[0;36m1\u001b[0m\u001b[0;34m)\u001b[0m\u001b[0;34m)\u001b[0m\u001b[0;34m\u001b[0m\u001b[0;34m\u001b[0m\u001b[0m\n\u001b[1;32m    582\u001b[0m     \u001b[0;32melif\u001b[0m \u001b[0mvalues\u001b[0m\u001b[0;34m.\u001b[0m\u001b[0mndim\u001b[0m \u001b[0;34m!=\u001b[0m \u001b[0;36m2\u001b[0m\u001b[0;34m:\u001b[0m\u001b[0;34m\u001b[0m\u001b[0;34m\u001b[0m\u001b[0m\n\u001b[0;32m--> 583\u001b[0;31m         \u001b[0;32mraise\u001b[0m \u001b[0mValueError\u001b[0m\u001b[0;34m(\u001b[0m\u001b[0;34mf\"Must pass 2-d input. shape={values.shape}\"\u001b[0m\u001b[0;34m)\u001b[0m\u001b[0;34m\u001b[0m\u001b[0;34m\u001b[0m\u001b[0m\n\u001b[0m\u001b[1;32m    584\u001b[0m \u001b[0;34m\u001b[0m\u001b[0m\n\u001b[1;32m    585\u001b[0m     \u001b[0;32mreturn\u001b[0m \u001b[0mvalues\u001b[0m\u001b[0;34m\u001b[0m\u001b[0;34m\u001b[0m\u001b[0m\n",
            "\u001b[0;31mValueError\u001b[0m: Must pass 2-d input. shape=(200, 1, 2, 1)"
          ]
        }
      ]
    },
    {
      "cell_type": "code",
      "source": [
        "#Create the model 5\n",
        "model_6 = tf.keras.models.Sequential([\n",
        "    tf.keras.layers.Dense(100,activation= 'relu'),\n",
        "    tf.keras.layers.Dense(100,activation= 'relu'),\n",
        "    tf.keras.layers.Dense(1,activation ='sigmoid')\n",
        "])\n",
        "\n",
        "#compile the model\n",
        "model_6.compile(loss= tf.keras.losses.binary_crossentropy,\n",
        "                optimizer= tf.keras.optimizers.Adam(lr=0.001),\n",
        "                metrics= ['accuracy'])\n",
        "\n",
        "#fit the kodel\n",
        "model_6.fit(X,y, epochs=100)"
      ],
      "metadata": {
        "colab": {
          "base_uri": "https://localhost:8080/"
        },
        "id": "hoOhyJZ9QxlB",
        "outputId": "53c0b99c-3941-4e9f-819d-fd63530cd6eb"
      },
      "execution_count": 84,
      "outputs": [
        {
          "output_type": "stream",
          "name": "stderr",
          "text": [
            "WARNING:absl:`lr` is deprecated in Keras optimizer, please use `learning_rate` or use the legacy optimizer, e.g.,tf.keras.optimizers.legacy.Adam.\n"
          ]
        },
        {
          "output_type": "stream",
          "name": "stdout",
          "text": [
            "Epoch 1/100\n",
            "32/32 [==============================] - 2s 3ms/step - loss: 0.6913 - accuracy: 0.5050\n",
            "Epoch 2/100\n",
            "32/32 [==============================] - 0s 3ms/step - loss: 0.6834 - accuracy: 0.5240\n",
            "Epoch 3/100\n",
            "32/32 [==============================] - 0s 3ms/step - loss: 0.6758 - accuracy: 0.5010\n",
            "Epoch 4/100\n",
            "32/32 [==============================] - 0s 3ms/step - loss: 0.6654 - accuracy: 0.5860\n",
            "Epoch 5/100\n",
            "32/32 [==============================] - 0s 3ms/step - loss: 0.6457 - accuracy: 0.5160\n",
            "Epoch 6/100\n",
            "32/32 [==============================] - 0s 3ms/step - loss: 0.6143 - accuracy: 0.8010\n",
            "Epoch 7/100\n",
            "32/32 [==============================] - 0s 4ms/step - loss: 0.5590 - accuracy: 0.9020\n",
            "Epoch 8/100\n",
            "32/32 [==============================] - 0s 3ms/step - loss: 0.4779 - accuracy: 0.9660\n",
            "Epoch 9/100\n",
            "32/32 [==============================] - 0s 4ms/step - loss: 0.3831 - accuracy: 0.9860\n",
            "Epoch 10/100\n",
            "32/32 [==============================] - 0s 3ms/step - loss: 0.2949 - accuracy: 0.9960\n",
            "Epoch 11/100\n",
            "32/32 [==============================] - 0s 3ms/step - loss: 0.2226 - accuracy: 0.9930\n",
            "Epoch 12/100\n",
            "32/32 [==============================] - 0s 3ms/step - loss: 0.1661 - accuracy: 0.9970\n",
            "Epoch 13/100\n",
            "32/32 [==============================] - 0s 3ms/step - loss: 0.1255 - accuracy: 0.9970\n",
            "Epoch 14/100\n",
            "32/32 [==============================] - 0s 3ms/step - loss: 0.0966 - accuracy: 0.9980\n",
            "Epoch 15/100\n",
            "32/32 [==============================] - 0s 3ms/step - loss: 0.0777 - accuracy: 0.9990\n",
            "Epoch 16/100\n",
            "32/32 [==============================] - 0s 3ms/step - loss: 0.0628 - accuracy: 1.0000\n",
            "Epoch 17/100\n",
            "32/32 [==============================] - 0s 4ms/step - loss: 0.0528 - accuracy: 1.0000\n",
            "Epoch 18/100\n",
            "32/32 [==============================] - 0s 4ms/step - loss: 0.0447 - accuracy: 0.9990\n",
            "Epoch 19/100\n",
            "32/32 [==============================] - 0s 4ms/step - loss: 0.0390 - accuracy: 1.0000\n",
            "Epoch 20/100\n",
            "32/32 [==============================] - 0s 3ms/step - loss: 0.0334 - accuracy: 1.0000\n",
            "Epoch 21/100\n",
            "32/32 [==============================] - 0s 3ms/step - loss: 0.0302 - accuracy: 1.0000\n",
            "Epoch 22/100\n",
            "32/32 [==============================] - 0s 3ms/step - loss: 0.0274 - accuracy: 1.0000\n",
            "Epoch 23/100\n",
            "32/32 [==============================] - 0s 4ms/step - loss: 0.0244 - accuracy: 1.0000\n",
            "Epoch 24/100\n",
            "32/32 [==============================] - 0s 3ms/step - loss: 0.0216 - accuracy: 1.0000\n",
            "Epoch 25/100\n",
            "32/32 [==============================] - 0s 3ms/step - loss: 0.0197 - accuracy: 1.0000\n",
            "Epoch 26/100\n",
            "32/32 [==============================] - 0s 3ms/step - loss: 0.0179 - accuracy: 1.0000\n",
            "Epoch 27/100\n",
            "32/32 [==============================] - 0s 3ms/step - loss: 0.0186 - accuracy: 0.9990\n",
            "Epoch 28/100\n",
            "32/32 [==============================] - 0s 3ms/step - loss: 0.0165 - accuracy: 1.0000\n",
            "Epoch 29/100\n",
            "32/32 [==============================] - 0s 4ms/step - loss: 0.0145 - accuracy: 1.0000\n",
            "Epoch 30/100\n",
            "32/32 [==============================] - 0s 5ms/step - loss: 0.0141 - accuracy: 1.0000\n",
            "Epoch 31/100\n",
            "32/32 [==============================] - 0s 4ms/step - loss: 0.0132 - accuracy: 1.0000\n",
            "Epoch 32/100\n",
            "32/32 [==============================] - 0s 4ms/step - loss: 0.0116 - accuracy: 1.0000\n",
            "Epoch 33/100\n",
            "32/32 [==============================] - 0s 5ms/step - loss: 0.0107 - accuracy: 1.0000\n",
            "Epoch 34/100\n",
            "32/32 [==============================] - 0s 5ms/step - loss: 0.0139 - accuracy: 1.0000\n",
            "Epoch 35/100\n",
            "32/32 [==============================] - 0s 5ms/step - loss: 0.0110 - accuracy: 1.0000\n",
            "Epoch 36/100\n",
            "32/32 [==============================] - 0s 5ms/step - loss: 0.0097 - accuracy: 1.0000\n",
            "Epoch 37/100\n",
            "32/32 [==============================] - 0s 5ms/step - loss: 0.0088 - accuracy: 1.0000\n",
            "Epoch 38/100\n",
            "32/32 [==============================] - 0s 5ms/step - loss: 0.0079 - accuracy: 1.0000\n",
            "Epoch 39/100\n",
            "32/32 [==============================] - 0s 5ms/step - loss: 0.0076 - accuracy: 1.0000\n",
            "Epoch 40/100\n",
            "32/32 [==============================] - 0s 5ms/step - loss: 0.0072 - accuracy: 1.0000\n",
            "Epoch 41/100\n",
            "32/32 [==============================] - 0s 5ms/step - loss: 0.0068 - accuracy: 1.0000\n",
            "Epoch 42/100\n",
            "32/32 [==============================] - 0s 4ms/step - loss: 0.0070 - accuracy: 1.0000\n",
            "Epoch 43/100\n",
            "32/32 [==============================] - 0s 5ms/step - loss: 0.0063 - accuracy: 1.0000\n",
            "Epoch 44/100\n",
            "32/32 [==============================] - 0s 3ms/step - loss: 0.0062 - accuracy: 1.0000\n",
            "Epoch 45/100\n",
            "32/32 [==============================] - 0s 3ms/step - loss: 0.0073 - accuracy: 0.9990\n",
            "Epoch 46/100\n",
            "32/32 [==============================] - 0s 3ms/step - loss: 0.0059 - accuracy: 1.0000\n",
            "Epoch 47/100\n",
            "32/32 [==============================] - 0s 3ms/step - loss: 0.0058 - accuracy: 1.0000\n",
            "Epoch 48/100\n",
            "32/32 [==============================] - 0s 4ms/step - loss: 0.0054 - accuracy: 1.0000\n",
            "Epoch 49/100\n",
            "32/32 [==============================] - 0s 3ms/step - loss: 0.0055 - accuracy: 1.0000\n",
            "Epoch 50/100\n",
            "32/32 [==============================] - 0s 3ms/step - loss: 0.0050 - accuracy: 1.0000\n",
            "Epoch 51/100\n",
            "32/32 [==============================] - 0s 3ms/step - loss: 0.0046 - accuracy: 1.0000\n",
            "Epoch 52/100\n",
            "32/32 [==============================] - 0s 3ms/step - loss: 0.0048 - accuracy: 1.0000\n",
            "Epoch 53/100\n",
            "32/32 [==============================] - 0s 3ms/step - loss: 0.0043 - accuracy: 1.0000\n",
            "Epoch 54/100\n",
            "32/32 [==============================] - 0s 3ms/step - loss: 0.0043 - accuracy: 1.0000\n",
            "Epoch 55/100\n",
            "32/32 [==============================] - 0s 3ms/step - loss: 0.0042 - accuracy: 1.0000\n",
            "Epoch 56/100\n",
            "32/32 [==============================] - 0s 3ms/step - loss: 0.0041 - accuracy: 1.0000\n",
            "Epoch 57/100\n",
            "32/32 [==============================] - 0s 3ms/step - loss: 0.0049 - accuracy: 1.0000\n",
            "Epoch 58/100\n",
            "32/32 [==============================] - 0s 3ms/step - loss: 0.0049 - accuracy: 1.0000\n",
            "Epoch 59/100\n",
            "32/32 [==============================] - 0s 3ms/step - loss: 0.0038 - accuracy: 1.0000\n",
            "Epoch 60/100\n",
            "32/32 [==============================] - 0s 3ms/step - loss: 0.0033 - accuracy: 1.0000\n",
            "Epoch 61/100\n",
            "32/32 [==============================] - 0s 3ms/step - loss: 0.0032 - accuracy: 1.0000\n",
            "Epoch 62/100\n",
            "32/32 [==============================] - 0s 3ms/step - loss: 0.0042 - accuracy: 1.0000\n",
            "Epoch 63/100\n",
            "32/32 [==============================] - 0s 3ms/step - loss: 0.0030 - accuracy: 1.0000\n",
            "Epoch 64/100\n",
            "32/32 [==============================] - 0s 3ms/step - loss: 0.0029 - accuracy: 1.0000\n",
            "Epoch 65/100\n",
            "32/32 [==============================] - 0s 3ms/step - loss: 0.0031 - accuracy: 1.0000\n",
            "Epoch 66/100\n",
            "32/32 [==============================] - 0s 3ms/step - loss: 0.0036 - accuracy: 1.0000\n",
            "Epoch 67/100\n",
            "32/32 [==============================] - 0s 3ms/step - loss: 0.0027 - accuracy: 1.0000\n",
            "Epoch 68/100\n",
            "32/32 [==============================] - 0s 3ms/step - loss: 0.0025 - accuracy: 1.0000\n",
            "Epoch 69/100\n",
            "32/32 [==============================] - 0s 3ms/step - loss: 0.0028 - accuracy: 1.0000\n",
            "Epoch 70/100\n",
            "32/32 [==============================] - 0s 3ms/step - loss: 0.0023 - accuracy: 1.0000\n",
            "Epoch 71/100\n",
            "32/32 [==============================] - 0s 3ms/step - loss: 0.0026 - accuracy: 1.0000\n",
            "Epoch 72/100\n",
            "32/32 [==============================] - 0s 3ms/step - loss: 0.0036 - accuracy: 0.9990\n",
            "Epoch 73/100\n",
            "32/32 [==============================] - 0s 3ms/step - loss: 0.0027 - accuracy: 1.0000\n",
            "Epoch 74/100\n",
            "32/32 [==============================] - 0s 3ms/step - loss: 0.0027 - accuracy: 1.0000\n",
            "Epoch 75/100\n",
            "32/32 [==============================] - 0s 4ms/step - loss: 0.0020 - accuracy: 1.0000\n",
            "Epoch 76/100\n",
            "32/32 [==============================] - 0s 4ms/step - loss: 0.0028 - accuracy: 1.0000\n",
            "Epoch 77/100\n",
            "32/32 [==============================] - 0s 3ms/step - loss: 0.0025 - accuracy: 1.0000\n",
            "Epoch 78/100\n",
            "32/32 [==============================] - 0s 3ms/step - loss: 0.0035 - accuracy: 1.0000\n",
            "Epoch 79/100\n",
            "32/32 [==============================] - 0s 3ms/step - loss: 0.0026 - accuracy: 1.0000\n",
            "Epoch 80/100\n",
            "32/32 [==============================] - 0s 3ms/step - loss: 0.0054 - accuracy: 0.9990\n",
            "Epoch 81/100\n",
            "32/32 [==============================] - 0s 4ms/step - loss: 0.0025 - accuracy: 1.0000\n",
            "Epoch 82/100\n",
            "32/32 [==============================] - 0s 3ms/step - loss: 0.0021 - accuracy: 1.0000\n",
            "Epoch 83/100\n",
            "32/32 [==============================] - 0s 3ms/step - loss: 0.0017 - accuracy: 1.0000\n",
            "Epoch 84/100\n",
            "32/32 [==============================] - 0s 4ms/step - loss: 0.0020 - accuracy: 1.0000\n",
            "Epoch 85/100\n",
            "32/32 [==============================] - 0s 3ms/step - loss: 0.0022 - accuracy: 1.0000\n",
            "Epoch 86/100\n",
            "32/32 [==============================] - 0s 4ms/step - loss: 0.0029 - accuracy: 1.0000\n",
            "Epoch 87/100\n",
            "32/32 [==============================] - 0s 3ms/step - loss: 0.0037 - accuracy: 1.0000\n",
            "Epoch 88/100\n",
            "32/32 [==============================] - 0s 3ms/step - loss: 0.0019 - accuracy: 1.0000\n",
            "Epoch 89/100\n",
            "32/32 [==============================] - 0s 3ms/step - loss: 0.0024 - accuracy: 1.0000\n",
            "Epoch 90/100\n",
            "32/32 [==============================] - 0s 3ms/step - loss: 0.0017 - accuracy: 1.0000\n",
            "Epoch 91/100\n",
            "32/32 [==============================] - 0s 3ms/step - loss: 0.0023 - accuracy: 1.0000\n",
            "Epoch 92/100\n",
            "32/32 [==============================] - 0s 3ms/step - loss: 0.0016 - accuracy: 1.0000\n",
            "Epoch 93/100\n",
            "32/32 [==============================] - 0s 4ms/step - loss: 0.0013 - accuracy: 1.0000\n",
            "Epoch 94/100\n",
            "32/32 [==============================] - 0s 3ms/step - loss: 0.0015 - accuracy: 1.0000\n",
            "Epoch 95/100\n",
            "32/32 [==============================] - 0s 3ms/step - loss: 0.0020 - accuracy: 1.0000\n",
            "Epoch 96/100\n",
            "32/32 [==============================] - 0s 3ms/step - loss: 0.0023 - accuracy: 1.0000\n",
            "Epoch 97/100\n",
            "32/32 [==============================] - 0s 3ms/step - loss: 0.0025 - accuracy: 1.0000\n",
            "Epoch 98/100\n",
            "32/32 [==============================] - 0s 4ms/step - loss: 0.0014 - accuracy: 1.0000\n",
            "Epoch 99/100\n",
            "32/32 [==============================] - 0s 3ms/step - loss: 0.0012 - accuracy: 1.0000\n",
            "Epoch 100/100\n",
            "32/32 [==============================] - 0s 4ms/step - loss: 0.0019 - accuracy: 1.0000\n"
          ]
        },
        {
          "output_type": "execute_result",
          "data": {
            "text/plain": [
              "<keras.callbacks.History at 0x7f6005e40cd0>"
            ]
          },
          "metadata": {},
          "execution_count": 84
        }
      ]
    },
    {
      "cell_type": "code",
      "source": [
        "model_6.evaluate(X,y)"
      ],
      "metadata": {
        "colab": {
          "base_uri": "https://localhost:8080/"
        },
        "id": "tPbV91jyRVJZ",
        "outputId": "a838d20a-ac26-4b8c-deb5-e51c8a7d7e09"
      },
      "execution_count": 81,
      "outputs": [
        {
          "output_type": "stream",
          "name": "stdout",
          "text": [
            "32/32 [==============================] - 0s 4ms/step - loss: 5.7782e-04 - accuracy: 1.0000\n"
          ]
        },
        {
          "output_type": "execute_result",
          "data": {
            "text/plain": [
              "[0.0005778155755251646, 1.0]"
            ]
          },
          "metadata": {},
          "execution_count": 81
        }
      ]
    },
    {
      "cell_type": "code",
      "source": [
        "model_6.predict(X_test)"
      ],
      "metadata": {
        "colab": {
          "base_uri": "https://localhost:8080/"
        },
        "id": "Q03Mu-iMRpZt",
        "outputId": "747321ba-26c1-4b2a-801e-d04302d4cfd9"
      },
      "execution_count": 85,
      "outputs": [
        {
          "output_type": "stream",
          "name": "stdout",
          "text": [
            "7/7 [==============================] - 0s 2ms/step\n"
          ]
        },
        {
          "output_type": "execute_result",
          "data": {
            "text/plain": [
              "array([[9.99861240e-01],\n",
              "       [1.83682403e-07],\n",
              "       [1.15719107e-04],\n",
              "       [1.25413535e-05],\n",
              "       [2.94613128e-04],\n",
              "       [9.99989748e-01],\n",
              "       [9.99989152e-01],\n",
              "       [9.99999404e-01],\n",
              "       [1.50022702e-03],\n",
              "       [8.44157487e-03],\n",
              "       [5.80186257e-04],\n",
              "       [9.99997616e-01],\n",
              "       [9.99997735e-01],\n",
              "       [1.44472233e-05],\n",
              "       [9.04556487e-07],\n",
              "       [6.70861482e-08],\n",
              "       [1.67417122e-04],\n",
              "       [9.99902964e-01],\n",
              "       [9.99993563e-01],\n",
              "       [9.99820530e-01],\n",
              "       [9.99941826e-01],\n",
              "       [1.29690779e-05],\n",
              "       [1.37724601e-06],\n",
              "       [1.36141578e-04],\n",
              "       [9.99864578e-01],\n",
              "       [5.23120389e-06],\n",
              "       [9.99998450e-01],\n",
              "       [9.99997735e-01],\n",
              "       [1.16293415e-06],\n",
              "       [2.47303600e-04],\n",
              "       [9.99996185e-01],\n",
              "       [9.99963403e-01],\n",
              "       [4.85676537e-07],\n",
              "       [1.78724676e-02],\n",
              "       [6.75459296e-06],\n",
              "       [1.55959468e-04],\n",
              "       [1.42332847e-05],\n",
              "       [2.57619228e-02],\n",
              "       [2.60432577e-03],\n",
              "       [9.99954939e-01],\n",
              "       [9.99996424e-01],\n",
              "       [9.99968648e-01],\n",
              "       [1.33822134e-04],\n",
              "       [9.99658942e-01],\n",
              "       [9.99999642e-01],\n",
              "       [1.01477531e-06],\n",
              "       [5.23903964e-07],\n",
              "       [9.99853492e-01],\n",
              "       [4.70244322e-06],\n",
              "       [9.99981046e-01],\n",
              "       [1.88277030e-04],\n",
              "       [3.22750054e-07],\n",
              "       [9.99989510e-01],\n",
              "       [9.99997377e-01],\n",
              "       [9.99995589e-01],\n",
              "       [2.00848561e-07],\n",
              "       [6.33596937e-05],\n",
              "       [7.85308439e-05],\n",
              "       [9.99984741e-01],\n",
              "       [9.99999523e-01],\n",
              "       [2.16304988e-06],\n",
              "       [3.18749073e-07],\n",
              "       [7.19409900e-06],\n",
              "       [9.99998689e-01],\n",
              "       [9.99588192e-01],\n",
              "       [9.99260485e-01],\n",
              "       [9.99995828e-01],\n",
              "       [9.99940515e-01],\n",
              "       [9.99737322e-01],\n",
              "       [9.99999762e-01],\n",
              "       [9.98616338e-01],\n",
              "       [5.78107006e-07],\n",
              "       [1.80832794e-04],\n",
              "       [9.99961615e-01],\n",
              "       [9.99996901e-01],\n",
              "       [4.37517372e-07],\n",
              "       [9.99972463e-01],\n",
              "       [9.99958038e-01],\n",
              "       [1.21862349e-05],\n",
              "       [9.98177648e-01],\n",
              "       [7.19074706e-07],\n",
              "       [3.29567843e-06],\n",
              "       [9.99998689e-01],\n",
              "       [1.62748881e-02],\n",
              "       [9.97028053e-01],\n",
              "       [2.88081128e-06],\n",
              "       [6.48859842e-03],\n",
              "       [9.99992490e-01],\n",
              "       [1.28927127e-07],\n",
              "       [8.06886761e-04],\n",
              "       [9.99673367e-01],\n",
              "       [2.21912178e-05],\n",
              "       [3.53519026e-05],\n",
              "       [9.99791324e-01],\n",
              "       [9.99989271e-01],\n",
              "       [9.99996066e-01],\n",
              "       [1.48069972e-04],\n",
              "       [9.99999285e-01],\n",
              "       [9.99987125e-01],\n",
              "       [9.99996066e-01],\n",
              "       [3.44828423e-03],\n",
              "       [1.42912654e-07],\n",
              "       [5.45714238e-06],\n",
              "       [1.02751532e-04],\n",
              "       [1.48739514e-06],\n",
              "       [5.33316609e-07],\n",
              "       [9.97816443e-01],\n",
              "       [4.40339245e-05],\n",
              "       [9.99993801e-01],\n",
              "       [9.99994636e-01],\n",
              "       [5.75555623e-06],\n",
              "       [9.99996901e-01],\n",
              "       [9.99997139e-01],\n",
              "       [9.99988914e-01],\n",
              "       [6.94128030e-05],\n",
              "       [9.99825418e-01],\n",
              "       [2.22540650e-04],\n",
              "       [7.57857106e-06],\n",
              "       [9.99915481e-01],\n",
              "       [4.14513170e-06],\n",
              "       [1.07511423e-05],\n",
              "       [9.99993205e-01],\n",
              "       [9.99894977e-01],\n",
              "       [2.22943822e-06],\n",
              "       [9.99761522e-01],\n",
              "       [9.99990582e-01],\n",
              "       [9.99998689e-01],\n",
              "       [3.24133930e-06],\n",
              "       [1.81924565e-06],\n",
              "       [7.57005182e-07],\n",
              "       [1.03482716e-02],\n",
              "       [4.23046185e-05],\n",
              "       [2.65721042e-07],\n",
              "       [4.43983226e-05],\n",
              "       [1.22932310e-04],\n",
              "       [9.99999285e-01],\n",
              "       [4.20283817e-04],\n",
              "       [9.99984980e-01],\n",
              "       [1.99114780e-07],\n",
              "       [1.43441105e-06],\n",
              "       [9.99965072e-01],\n",
              "       [9.99997497e-01],\n",
              "       [9.99933362e-01],\n",
              "       [9.99906063e-01],\n",
              "       [2.53922143e-03],\n",
              "       [1.57652232e-06],\n",
              "       [9.99950409e-01],\n",
              "       [9.99714911e-01],\n",
              "       [3.13439614e-06],\n",
              "       [9.99909520e-01],\n",
              "       [9.99996066e-01],\n",
              "       [5.75167302e-04],\n",
              "       [6.21478260e-02],\n",
              "       [7.50949766e-06],\n",
              "       [9.99996662e-01],\n",
              "       [9.99997616e-01],\n",
              "       [2.58787281e-06],\n",
              "       [9.99871373e-01],\n",
              "       [1.50905598e-05],\n",
              "       [9.99985456e-01],\n",
              "       [9.99877930e-01],\n",
              "       [9.99996901e-01],\n",
              "       [9.99997377e-01],\n",
              "       [9.99980330e-01],\n",
              "       [6.96605582e-07],\n",
              "       [2.66708172e-04],\n",
              "       [2.20976235e-05],\n",
              "       [9.31591387e-07],\n",
              "       [4.19229110e-07],\n",
              "       [9.99999642e-01],\n",
              "       [9.99990821e-01],\n",
              "       [9.99999642e-01],\n",
              "       [3.01852310e-07],\n",
              "       [9.99777019e-01],\n",
              "       [9.99984741e-01],\n",
              "       [9.99973536e-01],\n",
              "       [1.33510014e-07],\n",
              "       [1.99319456e-05],\n",
              "       [6.49147015e-03],\n",
              "       [9.99990940e-01],\n",
              "       [5.83345070e-03],\n",
              "       [9.99989152e-01],\n",
              "       [9.99971747e-01],\n",
              "       [9.99412179e-01],\n",
              "       [9.99994993e-01],\n",
              "       [2.19887937e-04],\n",
              "       [9.99999285e-01],\n",
              "       [9.99983430e-01],\n",
              "       [1.08208216e-03],\n",
              "       [1.09120458e-03],\n",
              "       [1.82088072e-04],\n",
              "       [7.12759970e-07],\n",
              "       [1.18617096e-03],\n",
              "       [9.99984741e-01],\n",
              "       [9.99379039e-01],\n",
              "       [3.65370288e-05],\n",
              "       [2.50627745e-05],\n",
              "       [1.78854543e-06],\n",
              "       [2.12555518e-04],\n",
              "       [9.99805033e-01]], dtype=float32)"
            ]
          },
          "metadata": {},
          "execution_count": 85
        }
      ]
    },
    {
      "cell_type": "code",
      "source": [],
      "metadata": {
        "id": "o47vKIooSzOX"
      },
      "execution_count": null,
      "outputs": []
    }
  ]
}